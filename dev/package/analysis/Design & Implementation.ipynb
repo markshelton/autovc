{
 "cells": [
  {
   "cell_type": "markdown",
   "metadata": {},
   "source": [
    "# 3.1 Data Preparation"
   ]
  },
  {
   "cell_type": "code",
   "execution_count": 2,
   "metadata": {
    "collapsed": false
   },
   "outputs": [
    {
     "name": "stdout",
     "output_type": "stream",
     "text": [
      "logManager - INFO - export_dataframe | Started\n",
      "logManager - INFO - export_dataframe | Passed | 171.69\n"
     ]
    }
   ],
   "source": [
    "#setup path\n",
    "path = 'C:/Users/mark/Documents/GitHub/honours/dev/package/'\n",
    "import sys; sys.path.append(path)\n",
    "\n",
    "#standard imports\n",
    "import numpy as np\n",
    "import pandas as pd\n",
    "import datetime\n",
    "from scipy import stats\n",
    "from collections import OrderedDict\n",
    "\n",
    "#third party imports\n",
    "from IPython.core.interactiveshell import InteractiveShell\n",
    "import matplotlib.pyplot as plt\n",
    "import matplotlib.dates as md\n",
    "from matplotlib import rcParams\n",
    "import seaborn as sns\n",
    "\n",
    "#local imports\n",
    "import analysis.dataPreparer as dp\n",
    "import analysis.getStages as gs\n",
    "\n",
    "#constants\n",
    "input_path = path+\"analysis/input/master.db\"\n",
    "flatten_config = path+\"analysis/config/master_feature.sql\"\n",
    "raw_flat_file = path+\"analysis/output/temp/raw.csv\"\n",
    "clean_flat_file = path+\"analysis/output/temp/clean.csv\"\n",
    "output_path = path+\"analysis/output/temp/output.db\"\n",
    "\n",
    "#setup\n",
    "%matplotlib inline\n",
    "rcParams['figure.figsize'] = 20,6\n",
    "sns.set_style(\"whitegrid\")\n",
    "\n",
    "#dp.flatten_file(input_path, flatten_config, raw_flat_file, \"feature\")\n",
    "#dp.clean_file(raw_flat_file, clean_flat_file)\n",
    "#dp.load_file(output_path, clean_flat_file, \"feature\")\n",
    "df = dp.export_dataframe(output_path, \"feature\")\n",
    "df_backup = df.copy()"
   ]
  },
  {
   "cell_type": "code",
   "execution_count": 99,
   "metadata": {
    "collapsed": true
   },
   "outputs": [],
   "source": [
    "#reload data from memory\n",
    "df = df_backup"
   ]
  },
  {
   "cell_type": "code",
   "execution_count": 31,
   "metadata": {
    "collapsed": true
   },
   "outputs": [],
   "source": [
    "#df = df.sample(1000)"
   ]
  },
  {
   "cell_type": "code",
   "execution_count": 100,
   "metadata": {
    "collapsed": false
   },
   "outputs": [
    {
     "name": "stdout",
     "output_type": "stream",
     "text": [
      "Stages done.\n"
     ]
    }
   ],
   "source": [
    "import analysis.getStages as gs\n",
    "gs.create_stages(df)\n",
    "print(\"Stages done.\")"
   ]
  },
  {
   "cell_type": "markdown",
   "metadata": {},
   "source": [
    "## 3.1.3 Preliminary Screening"
   ]
  },
  {
   "cell_type": "code",
   "execution_count": 101,
   "metadata": {
    "collapsed": false
   },
   "outputs": [
    {
     "name": "stdout",
     "output_type": "stream",
     "text": [
      "New             276305\n",
      "Other            61265\n",
      "Acquired         26894\n",
      "Seed             24910\n",
      "Pre-Seed          9279\n",
      "Series A          8580\n",
      "IPO               5800\n",
      "Series B          4584\n",
      "Closed            3279\n",
      "Series D+/PE      2881\n",
      "Series C          2157\n",
      "Name: keys_company_stage, dtype: int64\n",
      "New             0.648704\n",
      "Other           0.143837\n",
      "Acquired        0.063141\n",
      "Seed            0.058483\n",
      "Pre-Seed        0.021785\n",
      "Series A        0.020144\n",
      "IPO             0.013617\n",
      "Series B        0.010762\n",
      "Closed          0.007698\n",
      "Series D+/PE    0.006764\n",
      "Series C        0.005064\n",
      "Name: keys_company_stage, dtype: float64\n",
      "425934\n"
     ]
    }
   ],
   "source": [
    "print(df[\"keys_company_stage\"].value_counts())\n",
    "print(df[\"keys_company_stage\"].value_counts(normalize=True))\n",
    "print(df[\"keys_company_stage\"].value_counts().sum())"
   ]
  },
  {
   "cell_type": "markdown",
   "metadata": {},
   "source": [
    "Removed Other, Closed, Acquired & IPO groups"
   ]
  },
  {
   "cell_type": "code",
   "execution_count": 102,
   "metadata": {
    "collapsed": false
   },
   "outputs": [],
   "source": [
    "df = df.loc[df[\"keys_company_stage\"] != \"Other\"]\n",
    "df = df.loc[df['keys_company_stage_group'] != \"Excluded\"]"
   ]
  },
  {
   "cell_type": "code",
   "execution_count": 103,
   "metadata": {
    "collapsed": false
   },
   "outputs": [
    {
     "name": "stdout",
     "output_type": "stream",
     "text": [
      "New             276305\n",
      "Seed             24910\n",
      "Pre-Seed          9279\n",
      "Series A          8580\n",
      "Series B          4584\n",
      "Series D+/PE      2881\n",
      "Series C          2157\n",
      "Name: keys_company_stage, dtype: int64\n",
      "New             0.840610\n",
      "Seed            0.075784\n",
      "Pre-Seed        0.028230\n",
      "Series A        0.026103\n",
      "Series B        0.013946\n",
      "Series D+/PE    0.008765\n",
      "Series C        0.006562\n",
      "Name: keys_company_stage, dtype: float64\n",
      "328696\n"
     ]
    }
   ],
   "source": [
    "print(df[\"keys_company_stage\"].value_counts())\n",
    "print(df[\"keys_company_stage\"].value_counts(normalize=True))\n",
    "print(df[\"keys_company_stage\"].value_counts().sum())"
   ]
  },
  {
   "cell_type": "code",
   "execution_count": 104,
   "metadata": {
    "collapsed": false
   },
   "outputs": [
    {
     "data": {
      "text/plain": [
       "<matplotlib.axes._subplots.AxesSubplot at 0x2d2916d30f0>"
      ]
     },
     "execution_count": 104,
     "metadata": {},
     "output_type": "execute_result"
    },
    {
     "data": {
      "image/png": "[encoded data removed]",
      "text/plain": [
       "<matplotlib.figure.Figure at 0x2d2926bc080>"
      ]
     },
     "metadata": {},
     "output_type": "display_data"
    }
   ],
   "source": [
    "order_1 = [\"New\", \"Pre-Seed\", \"Seed\", \"Series A\", \"Series B\", \"Series C\", \"Series D+/PE\"]\n",
    "\n",
    "f, ax = plt.subplots()\n",
    "ax.set_xlim(xmax=30)\n",
    "sns.boxplot(\n",
    "    x=\"confidence_context_broader_company_age_number\", \n",
    "    y=\"keys_company_stage\",\n",
    "    order=order_1,data=df, fliersize=0, ax=ax)"
   ]
  },
  {
   "cell_type": "markdown",
   "metadata": {},
   "source": [
    "Removed companies older than 15 years old"
   ]
  },
  {
   "cell_type": "code",
   "execution_count": 105,
   "metadata": {
    "collapsed": true
   },
   "outputs": [],
   "source": [
    "df = df.loc[df['confidence_context_broader_company_age_number'] <= 15]"
   ]
  },
  {
   "cell_type": "code",
   "execution_count": 106,
   "metadata": {
    "collapsed": false
   },
   "outputs": [
    {
     "name": "stdout",
     "output_type": "stream",
     "text": [
      "New             276305\n",
      "Seed             24592\n",
      "Pre-Seed          8850\n",
      "Series A          7966\n",
      "Series B          4028\n",
      "Series D+/PE      2179\n",
      "Series C          1802\n",
      "Name: keys_company_stage, dtype: int64\n",
      "New             0.848285\n",
      "Seed            0.075500\n",
      "Pre-Seed        0.027170\n",
      "Series A        0.024456\n",
      "Series B        0.012366\n",
      "Series D+/PE    0.006690\n",
      "Series C        0.005532\n",
      "Name: keys_company_stage, dtype: float64\n",
      "325722\n"
     ]
    }
   ],
   "source": [
    "print(df[\"keys_company_stage\"].value_counts())\n",
    "print(df[\"keys_company_stage\"].value_counts(normalize=True))\n",
    "print(df[\"keys_company_stage\"].value_counts().sum())"
   ]
  },
  {
   "cell_type": "markdown",
   "metadata": {},
   "source": [
    "## 3.1.4 Descriptive Statistics"
   ]
  },
  {
   "cell_type": "markdown",
   "metadata": {},
   "source": [
    "Table 3. Final test dataset counts grouped by lifecycle stage."
   ]
  },
  {
   "cell_type": "code",
   "execution_count": 118,
   "metadata": {
    "collapsed": true
   },
   "outputs": [],
   "source": [
    "drops = [col for col in list(df) if col.startswith((\"key\",\"from\",\"outcome\",\"index\"))]\n",
    "X = df.drop(drops, axis=1)\n",
    "X = X.select_dtypes(['number'])"
   ]
  },
  {
   "cell_type": "code",
   "execution_count": 119,
   "metadata": {
    "collapsed": false
   },
   "outputs": [
    {
     "data": {
      "text/plain": [
       "479"
      ]
     },
     "execution_count": 119,
     "metadata": {},
     "output_type": "execute_result"
    }
   ],
   "source": [
    "df[\"keys_missing_features\"] = X.isnull().sum(axis=1)\n",
    "len(list(df))"
   ]
  },
  {
   "cell_type": "code",
   "execution_count": 120,
   "metadata": {
    "collapsed": false,
    "scrolled": true
   },
   "outputs": [
    {
     "data": {
      "text/html": [
       "<div>\n",
       "<table border=\"1\" class=\"dataframe\">\n",
       "  <thead>\n",
       "    <tr>\n",
       "      <th></th>\n",
       "      <th>Obs</th>\n",
       "      <th colspan=\"2\" halign=\"left\">Age (Years)</th>\n",
       "      <th colspan=\"2\" halign=\"left\">Funding Raised (USD, millions)</th>\n",
       "      <th colspan=\"2\" halign=\"left\">Funding Rounds (N)</th>\n",
       "      <th colspan=\"2\" halign=\"left\">Available Features (N)</th>\n",
       "    </tr>\n",
       "    <tr>\n",
       "      <th></th>\n",
       "      <th>N</th>\n",
       "      <th>Median</th>\n",
       "      <th>IQR</th>\n",
       "      <th>Median</th>\n",
       "      <th>IQR</th>\n",
       "      <th>Median</th>\n",
       "      <th>IQR</th>\n",
       "      <th>Median</th>\n",
       "      <th>IQR</th>\n",
       "    </tr>\n",
       "    <tr>\n",
       "      <th>keys_company_stage</th>\n",
       "      <th></th>\n",
       "      <th></th>\n",
       "      <th></th>\n",
       "      <th></th>\n",
       "      <th></th>\n",
       "      <th></th>\n",
       "      <th></th>\n",
       "      <th></th>\n",
       "      <th></th>\n",
       "    </tr>\n",
       "  </thead>\n",
       "  <tbody>\n",
       "    <tr>\n",
       "      <th>New</th>\n",
       "      <td>276305</td>\n",
       "      <td>0.0</td>\n",
       "      <td>4.0</td>\n",
       "      <td>0.000000</td>\n",
       "      <td>0.000000</td>\n",
       "      <td>0.0</td>\n",
       "      <td>0.0</td>\n",
       "      <td>276</td>\n",
       "      <td>24.00</td>\n",
       "    </tr>\n",
       "    <tr>\n",
       "      <th>Pre-Seed</th>\n",
       "      <td>8850</td>\n",
       "      <td>3.0</td>\n",
       "      <td>3.0</td>\n",
       "      <td>0.045571</td>\n",
       "      <td>0.405649</td>\n",
       "      <td>1.0</td>\n",
       "      <td>0.0</td>\n",
       "      <td>319</td>\n",
       "      <td>30.00</td>\n",
       "    </tr>\n",
       "    <tr>\n",
       "      <th>Seed</th>\n",
       "      <td>24592</td>\n",
       "      <td>3.0</td>\n",
       "      <td>4.0</td>\n",
       "      <td>0.165000</td>\n",
       "      <td>0.882000</td>\n",
       "      <td>1.0</td>\n",
       "      <td>1.0</td>\n",
       "      <td>329</td>\n",
       "      <td>36.00</td>\n",
       "    </tr>\n",
       "    <tr>\n",
       "      <th>Series A</th>\n",
       "      <td>7966</td>\n",
       "      <td>4.0</td>\n",
       "      <td>5.0</td>\n",
       "      <td>4.000000</td>\n",
       "      <td>7.709528</td>\n",
       "      <td>2.0</td>\n",
       "      <td>1.0</td>\n",
       "      <td>341</td>\n",
       "      <td>39.75</td>\n",
       "    </tr>\n",
       "    <tr>\n",
       "      <th>Series B</th>\n",
       "      <td>4028</td>\n",
       "      <td>6.0</td>\n",
       "      <td>6.0</td>\n",
       "      <td>14.000000</td>\n",
       "      <td>20.706003</td>\n",
       "      <td>2.0</td>\n",
       "      <td>2.0</td>\n",
       "      <td>349</td>\n",
       "      <td>43.00</td>\n",
       "    </tr>\n",
       "    <tr>\n",
       "      <th>Series C</th>\n",
       "      <td>1802</td>\n",
       "      <td>7.0</td>\n",
       "      <td>7.0</td>\n",
       "      <td>31.635000</td>\n",
       "      <td>45.297500</td>\n",
       "      <td>3.0</td>\n",
       "      <td>2.0</td>\n",
       "      <td>357</td>\n",
       "      <td>41.00</td>\n",
       "    </tr>\n",
       "    <tr>\n",
       "      <th>Series D+/PE</th>\n",
       "      <td>2179</td>\n",
       "      <td>8.0</td>\n",
       "      <td>7.0</td>\n",
       "      <td>45.500000</td>\n",
       "      <td>93.585828</td>\n",
       "      <td>3.0</td>\n",
       "      <td>4.0</td>\n",
       "      <td>353</td>\n",
       "      <td>50.00</td>\n",
       "    </tr>\n",
       "  </tbody>\n",
       "</table>\n",
       "</div>"
      ],
      "text/plain": [
       "                       Obs Age (Years)      Funding Raised (USD, millions)  \\\n",
       "                         N      Median  IQR                         Median   \n",
       "keys_company_stage                                                           \n",
       "New                 276305         0.0  4.0                       0.000000   \n",
       "Pre-Seed              8850         3.0  3.0                       0.045571   \n",
       "Seed                 24592         3.0  4.0                       0.165000   \n",
       "Series A              7966         4.0  5.0                       4.000000   \n",
       "Series B              4028         6.0  6.0                      14.000000   \n",
       "Series C              1802         7.0  7.0                      31.635000   \n",
       "Series D+/PE          2179         8.0  7.0                      45.500000   \n",
       "\n",
       "                              Funding Rounds (N)      Available Features (N)  \\\n",
       "                          IQR             Median  IQR                 Median   \n",
       "keys_company_stage                                                             \n",
       "New                  0.000000                0.0  0.0                    276   \n",
       "Pre-Seed             0.405649                1.0  0.0                    319   \n",
       "Seed                 0.882000                1.0  1.0                    329   \n",
       "Series A             7.709528                2.0  1.0                    341   \n",
       "Series B            20.706003                2.0  2.0                    349   \n",
       "Series C            45.297500                3.0  2.0                    357   \n",
       "Series D+/PE        93.585828                3.0  4.0                    353   \n",
       "\n",
       "                           \n",
       "                      IQR  \n",
       "keys_company_stage         \n",
       "New                 24.00  \n",
       "Pre-Seed            30.00  \n",
       "Seed                36.00  \n",
       "Series A            39.75  \n",
       "Series B            43.00  \n",
       "Series C            41.00  \n",
       "Series D+/PE        50.00  "
      ]
     },
     "execution_count": 120,
     "metadata": {},
     "output_type": "execute_result"
    }
   ],
   "source": [
    "groups = [df[\"keys_company_stage\"]]\n",
    "columns = [\"keys_company_stage\", \"confidence_context_broader_company_age_number\", \"confidence_validation_funding_raised_value_total_number\", \"confidence_validation_funding_rounds_number\", \"keys_missing_features\"]\n",
    "colnames = [\"Obs\", \"Age (Years)\", \"Funding Raised (USD, millions)\", \"Funding Rounds (N)\", \"Available Features (N)\"]\n",
    "colfuncs = [{\"N\":len}, \n",
    "    OrderedDict([(\"Median\", np.median),(\"IQR\", lambda x: stats.iqr(x,nan_policy=\"omit\"))]), \n",
    "    OrderedDict([(\"Median\", lambda x: np.median(x) / 1e6), (\"IQR\", lambda x: stats.iqr(x,nan_policy=\"omit\") / 1e6)]), \n",
    "    OrderedDict([(\"Median\", np.median),(\"IQR\", lambda x: stats.iqr(x,nan_policy=\"omit\"))]), \n",
    "    OrderedDict([(\"Median\", lambda x: len(list(df)) - np.median(x)), (\"IQR\", lambda x: stats.iqr(x,nan_policy=\"omit\") )])]\n",
    "\n",
    "namefunc = OrderedDict(zip(columns, colnames))\n",
    "aggfunc = OrderedDict(zip(columns, colfuncs))\n",
    "\n",
    "order_1 = [\"New\", \"Pre-Seed\", \"Seed\", \"Series A\", \"Series B\", \"Series C\", \"Series D+/PE\"]\n",
    "\n",
    "tab = df[columns].groupby(groups)\n",
    "tab = tab.agg(aggfunc)\n",
    "tab.rename(columns=namefunc)"
   ]
  },
  {
   "cell_type": "code",
   "execution_count": 121,
   "metadata": {
    "collapsed": false
   },
   "outputs": [
    {
     "data": {
      "text/html": [
       "<div>\n",
       "<table border=\"1\" class=\"dataframe\">\n",
       "  <thead>\n",
       "    <tr>\n",
       "      <th></th>\n",
       "      <th>Obs</th>\n",
       "      <th colspan=\"2\" halign=\"left\">Age (Years)</th>\n",
       "      <th colspan=\"2\" halign=\"left\">Funding Raised (USD, millions)</th>\n",
       "      <th colspan=\"2\" halign=\"left\">Funding Rounds (N)</th>\n",
       "      <th colspan=\"2\" halign=\"left\">Available Features (N)</th>\n",
       "    </tr>\n",
       "    <tr>\n",
       "      <th></th>\n",
       "      <th>N</th>\n",
       "      <th>Median</th>\n",
       "      <th>IQR</th>\n",
       "      <th>Median</th>\n",
       "      <th>IQR</th>\n",
       "      <th>Median</th>\n",
       "      <th>IQR</th>\n",
       "      <th>Median</th>\n",
       "      <th>IQR</th>\n",
       "    </tr>\n",
       "    <tr>\n",
       "      <th>keys_company_stage_group</th>\n",
       "      <th></th>\n",
       "      <th></th>\n",
       "      <th></th>\n",
       "      <th></th>\n",
       "      <th></th>\n",
       "      <th></th>\n",
       "      <th></th>\n",
       "      <th></th>\n",
       "      <th></th>\n",
       "    </tr>\n",
       "  </thead>\n",
       "  <tbody>\n",
       "    <tr>\n",
       "      <th>Included</th>\n",
       "      <td>325722</td>\n",
       "      <td>1.0</td>\n",
       "      <td>5.0</td>\n",
       "      <td>0.0</td>\n",
       "      <td>0.0</td>\n",
       "      <td>0.0</td>\n",
       "      <td>0.0</td>\n",
       "      <td>278</td>\n",
       "      <td>37</td>\n",
       "    </tr>\n",
       "  </tbody>\n",
       "</table>\n",
       "</div>"
      ],
      "text/plain": [
       "                             Obs Age (Years)       \\\n",
       "                               N      Median  IQR   \n",
       "keys_company_stage_group                            \n",
       "Included                  325722         1.0  5.0   \n",
       "\n",
       "                         Funding Raised (USD, millions)       \\\n",
       "                                                 Median  IQR   \n",
       "keys_company_stage_group                                       \n",
       "Included                                            0.0  0.0   \n",
       "\n",
       "                         Funding Rounds (N)      Available Features (N)      \n",
       "                                     Median  IQR                 Median IQR  \n",
       "keys_company_stage_group                                                     \n",
       "Included                                0.0  0.0                    278  37  "
      ]
     },
     "execution_count": 121,
     "metadata": {},
     "output_type": "execute_result"
    }
   ],
   "source": [
    "groups = [df[\"keys_company_stage_group\"]]\n",
    "columns = [\"keys_company_stage\", \"confidence_context_broader_company_age_number\", \"confidence_validation_funding_raised_value_total_number\", \"confidence_validation_funding_rounds_number\", \"keys_missing_features\"]\n",
    "colnames = [\"Obs\", \"Age (Years)\", \"Funding Raised (USD, millions)\", \"Funding Rounds (N)\", \"Available Features (N)\"]\n",
    "colfuncs = [{\"N\":len}, \n",
    "    OrderedDict([(\"Median\", np.median),(\"IQR\", lambda x: stats.iqr(x,nan_policy=\"omit\"))]), \n",
    "    OrderedDict([(\"Median\", lambda x: np.median(x) / 1e6), (\"IQR\", lambda x: stats.iqr(x,nan_policy=\"omit\") / 1e6)]), \n",
    "    OrderedDict([(\"Median\", np.median), (\"IQR\", lambda x: stats.iqr(x,nan_policy=\"omit\"))]),\n",
    "    OrderedDict([(\"Median\", lambda x: len(list(df)) - np.median(x)), (\"IQR\", lambda x: stats.iqr(x,nan_policy=\"omit\") )])]\n",
    "\n",
    "namefunc = OrderedDict(zip(columns, colnames))\n",
    "aggfunc = OrderedDict(zip(columns, colfuncs))\n",
    "\n",
    "tab = df[columns].groupby(groups)\n",
    "tab = tab.agg(aggfunc)\n",
    "tab.rename(columns=namefunc)"
   ]
  },
  {
   "cell_type": "markdown",
   "metadata": {},
   "source": [
    "Table 3. Final test dataset counts grouped by company sector."
   ]
  },
  {
   "cell_type": "code",
   "execution_count": 122,
   "metadata": {
    "collapsed": false
   },
   "outputs": [
    {
     "name": "stdout",
     "output_type": "stream",
     "text": [
      "[53575, 43638, 31229, 21835, 20598, 18743, 14851, 14032, 13166, 12718]\n"
     ]
    },
    {
     "data": {
      "text/plain": [
       "<matplotlib.axes._subplots.AxesSubplot at 0x2d2ebc386a0>"
      ]
     },
     "execution_count": 122,
     "metadata": {},
     "output_type": "execute_result"
    },
    {
     "data": {
      "image/png": "[encoded data removed]",
      "text/plain": [
       "<matplotlib.figure.Figure at 0x2d2f748c9b0>"
      ]
     },
     "metadata": {},
     "output_type": "display_data"
    }
   ],
   "source": [
    "industries = [x for x in list(df) if x.startswith(\"confidence_context_industry_category_group_list\")]\n",
    "values = [df[industry].value_counts()[1] for industry in industries]\n",
    "values = sorted(values,reverse=True)\n",
    "print(values)\n",
    "names = [\"Software\", \"Internet Services\", \"Media & Entertainment\", \"Commerce\", \"Mobile\", \"Sales & Marketing\", \"Information Technology\", \"Health Care\", \"Hardware\", \"Financial Services\"]\n",
    "sns.barplot(x = values, y = names, order = names)"
   ]
  },
  {
   "cell_type": "markdown",
   "metadata": {},
   "source": [
    "# 3.2 Pre-Processing"
   ]
  },
  {
   "cell_type": "markdown",
   "metadata": {},
   "source": [
    "## 3.2.1 Imputation"
   ]
  },
  {
   "cell_type": "markdown",
   "metadata": {},
   "source": [
    "(!) Figure 3. Number of missing features per observation (histogram)."
   ]
  },
  {
   "cell_type": "code",
   "execution_count": 123,
   "metadata": {
    "collapsed": false
   },
   "outputs": [
    {
     "data": {
      "text/plain": [
       "[(0, 231.25000000000003)]"
      ]
     },
     "execution_count": 123,
     "metadata": {},
     "output_type": "execute_result"
    },
    {
     "data": {
      "image/png": "[encoded data removed]",
      "text/plain": [
       "<matplotlib.figure.Figure at 0x2d2e8a9f5c0>"
      ]
     },
     "metadata": {},
     "output_type": "display_data"
    }
   ],
   "source": [
    "g = sns.distplot(df[\"keys_missing_features\"], bins=100, kde=False)\n",
    "g.set(xlim = (0,None))"
   ]
  },
  {
   "cell_type": "markdown",
   "metadata": {},
   "source": [
    "(!) Figure 3. Number of missing observations per feature (histogram)."
   ]
  },
  {
   "cell_type": "code",
   "execution_count": 124,
   "metadata": {
    "collapsed": false
   },
   "outputs": [
    {
     "data": {
      "text/plain": [
       "[(0, 342008.10000000003)]"
      ]
     },
     "execution_count": 124,
     "metadata": {},
     "output_type": "execute_result"
    },
    {
     "data": {
      "image/png": "[encoded data removed]",
      "text/plain": [
       "<matplotlib.figure.Figure at 0x2d2f0a9b908>"
      ]
     },
     "metadata": {},
     "output_type": "display_data"
    }
   ],
   "source": [
    "missing_by_col =  X.isnull().sum(axis=0)\n",
    "g = sns.distplot(missing_by_col, bins=100, kde=False)\n",
    "g.set(xlim = (0,None))"
   ]
  },
  {
   "cell_type": "markdown",
   "metadata": {},
   "source": [
    "Figure 3. Mean, median and mode of features (grouped bar plot)."
   ]
  },
  {
   "cell_type": "code",
   "execution_count": 125,
   "metadata": {
    "collapsed": false
   },
   "outputs": [
    {
     "data": {
      "text/plain": [
       "<matplotlib.axes._subplots.AxesSubplot at 0x2d2e6f2f978>"
      ]
     },
     "execution_count": 125,
     "metadata": {},
     "output_type": "execute_result"
    },
    {
     "data": {
      "image/png": "[encoded data removed]",
      "text/plain": [
       "<matplotlib.figure.Figure at 0x2d2ebb32da0>"
      ]
     },
     "metadata": {},
     "output_type": "display_data"
    }
   ],
   "source": [
    "means_by_col = X.mean(axis=0)#.dropna()\n",
    "means_by_col.plot(kind=\"kde\", label=\"Mean\")\n",
    "\n",
    "medians_by_col = X.median(axis=0)#.dropna()\n",
    "medians_by_col.plot(kind=\"kde\", label=\"Median\")\n",
    "\n",
    "modes_by_col = X.mode(axis=0).T[0]\n",
    "modes_by_col.plot(kind=\"kde\",label=\"Mode\")"
   ]
  },
  {
   "cell_type": "markdown",
   "metadata": {},
   "source": [
    "Figure 3. ROC Curve for different imputations - mean, median, mode (line plot)."
   ]
  },
  {
   "cell_type": "code",
   "execution_count": null,
   "metadata": {
    "collapsed": true
   },
   "outputs": [],
   "source": []
  },
  {
   "cell_type": "markdown",
   "metadata": {},
   "source": [
    "## 3.2.2 Transformation"
   ]
  },
  {
   "cell_type": "markdown",
   "metadata": {},
   "source": [
    "--> Apply Imputation"
   ]
  },
  {
   "cell_type": "code",
   "execution_count": 133,
   "metadata": {
    "collapsed": false
   },
   "outputs": [],
   "source": [
    "from sklearn.preprocessing import Imputer\n",
    "\n",
    "X = X.dropna(axis=1, how = \"all\")\n",
    "imp = Imputer(strategy=\"median\")\n",
    "X_imp = imp.fit_transform(X)\n",
    "X_imp = pd.DataFrame(X_imp, index=X.index, columns=list(X))"
   ]
  },
  {
   "cell_type": "markdown",
   "metadata": {},
   "source": [
    "--> Shift to positive numbers only"
   ]
  },
  {
   "cell_type": "code",
   "execution_count": 143,
   "metadata": {
    "collapsed": false
   },
   "outputs": [
    {
     "data": {
      "text/plain": [
       "<matplotlib.axes._subplots.AxesSubplot at 0x2d2f09b43c8>"
      ]
     },
     "execution_count": 143,
     "metadata": {},
     "output_type": "execute_result"
    },
    {
     "data": {
      "image/png": "[encoded data removed]",
      "text/plain": [
       "<matplotlib.figure.Figure at 0x2d284de7748>"
      ]
     },
     "metadata": {},
     "output_type": "display_data"
    }
   ],
   "source": [
    "mins_by_col = X_imp.min(axis=0)#.dropna()\n",
    "mins_by_col.plot(kind=\"kde\", label=\"Minimum\")"
   ]
  },
  {
   "cell_type": "code",
   "execution_count": 167,
   "metadata": {
    "collapsed": false
   },
   "outputs": [
    {
     "data": {
      "text/html": [
       "<div>\n",
       "<table border=\"1\" class=\"dataframe\">\n",
       "  <thead>\n",
       "    <tr style=\"text-align: right;\">\n",
       "      <th></th>\n",
       "      <th>confidence_context_broader_offices_headquarters_country_dummy_aus</th>\n",
       "      <th>confidence_context_broader_offices_headquarters_country_dummy_bra</th>\n",
       "      <th>confidence_context_broader_offices_headquarters_country_dummy_can</th>\n",
       "      <th>confidence_context_broader_offices_headquarters_country_dummy_deu</th>\n",
       "      <th>confidence_context_broader_offices_headquarters_country_dummy_esp</th>\n",
       "      <th>confidence_context_broader_offices_headquarters_country_dummy_fra</th>\n",
       "      <th>confidence_context_broader_offices_headquarters_country_dummy_gbr</th>\n",
       "      <th>confidence_context_broader_offices_headquarters_country_dummy_ind</th>\n",
       "      <th>confidence_context_broader_offices_headquarters_country_dummy_isr</th>\n",
       "      <th>confidence_context_broader_offices_headquarters_country_dummy_usa</th>\n",
       "      <th>...</th>\n",
       "      <th>potential_human_advisors_companies_operating_advisor_average_number</th>\n",
       "      <th>potential_human_advisors_companies_operating_advisor_total_number</th>\n",
       "      <th>potential_human_advisors_companies_closed_advisor_average_number</th>\n",
       "      <th>potential_human_advisors_companies_closed_advisor_total_number</th>\n",
       "      <th>confidence_context_broader_last_updated_date_to_confidence_context_broader_founded_date_duration</th>\n",
       "      <th>confidence_validation_funding_first_date_to_confidence_context_broader_founded_date_duration</th>\n",
       "      <th>confidence_validation_funding_last_date_to_confidence_context_broader_founded_date_duration</th>\n",
       "      <th>confidence_validation_funding_first_date_to_confidence_context_broader_last_updated_date_duration</th>\n",
       "      <th>confidence_validation_funding_last_date_to_confidence_context_broader_last_updated_date_duration</th>\n",
       "      <th>confidence_validation_funding_last_date_to_confidence_validation_funding_first_date_duration</th>\n",
       "    </tr>\n",
       "  </thead>\n",
       "  <tbody>\n",
       "    <tr>\n",
       "      <th>count</th>\n",
       "      <td>325722.000000</td>\n",
       "      <td>325722.000000</td>\n",
       "      <td>325722.000000</td>\n",
       "      <td>325722.000000</td>\n",
       "      <td>325722.000000</td>\n",
       "      <td>325722.000000</td>\n",
       "      <td>325722.000000</td>\n",
       "      <td>325722.000000</td>\n",
       "      <td>325722.000000</td>\n",
       "      <td>325722.000000</td>\n",
       "      <td>...</td>\n",
       "      <td>325722.000000</td>\n",
       "      <td>325722.000000</td>\n",
       "      <td>325722.000000</td>\n",
       "      <td>325722.000000</td>\n",
       "      <td>3.257220e+05</td>\n",
       "      <td>3.257220e+05</td>\n",
       "      <td>3.257220e+05</td>\n",
       "      <td>3.257220e+05</td>\n",
       "      <td>3.257220e+05</td>\n",
       "      <td>3.257220e+05</td>\n",
       "    </tr>\n",
       "    <tr>\n",
       "      <th>mean</th>\n",
       "      <td>0.012864</td>\n",
       "      <td>0.009766</td>\n",
       "      <td>0.021807</td>\n",
       "      <td>0.011952</td>\n",
       "      <td>0.012293</td>\n",
       "      <td>0.009834</td>\n",
       "      <td>0.040139</td>\n",
       "      <td>0.035570</td>\n",
       "      <td>0.007915</td>\n",
       "      <td>0.837862</td>\n",
       "      <td>...</td>\n",
       "      <td>0.427917</td>\n",
       "      <td>0.811133</td>\n",
       "      <td>0.005260</td>\n",
       "      <td>0.010948</td>\n",
       "      <td>3.444990e+08</td>\n",
       "      <td>4.533161e+08</td>\n",
       "      <td>4.258197e+08</td>\n",
       "      <td>1.083560e+08</td>\n",
       "      <td>8.640222e+07</td>\n",
       "      <td>5.037020e+08</td>\n",
       "    </tr>\n",
       "    <tr>\n",
       "      <th>std</th>\n",
       "      <td>0.112687</td>\n",
       "      <td>0.098339</td>\n",
       "      <td>0.146053</td>\n",
       "      <td>0.108670</td>\n",
       "      <td>0.110189</td>\n",
       "      <td>0.098676</td>\n",
       "      <td>0.196284</td>\n",
       "      <td>0.185216</td>\n",
       "      <td>0.088612</td>\n",
       "      <td>0.368578</td>\n",
       "      <td>...</td>\n",
       "      <td>1.824389</td>\n",
       "      <td>4.136556</td>\n",
       "      <td>0.073903</td>\n",
       "      <td>0.139790</td>\n",
       "      <td>6.891021e+07</td>\n",
       "      <td>2.927875e+07</td>\n",
       "      <td>3.581549e+07</td>\n",
       "      <td>4.862788e+07</td>\n",
       "      <td>4.684211e+07</td>\n",
       "      <td>2.481279e+07</td>\n",
       "    </tr>\n",
       "    <tr>\n",
       "      <th>min</th>\n",
       "      <td>0.000000</td>\n",
       "      <td>0.000000</td>\n",
       "      <td>0.000000</td>\n",
       "      <td>0.000000</td>\n",
       "      <td>0.000000</td>\n",
       "      <td>0.000000</td>\n",
       "      <td>0.000000</td>\n",
       "      <td>0.000000</td>\n",
       "      <td>0.000000</td>\n",
       "      <td>0.000000</td>\n",
       "      <td>...</td>\n",
       "      <td>0.000000</td>\n",
       "      <td>0.000000</td>\n",
       "      <td>0.000000</td>\n",
       "      <td>0.000000</td>\n",
       "      <td>0.000000e+00</td>\n",
       "      <td>0.000000e+00</td>\n",
       "      <td>0.000000e+00</td>\n",
       "      <td>0.000000e+00</td>\n",
       "      <td>0.000000e+00</td>\n",
       "      <td>0.000000e+00</td>\n",
       "    </tr>\n",
       "    <tr>\n",
       "      <th>25%</th>\n",
       "      <td>0.000000</td>\n",
       "      <td>0.000000</td>\n",
       "      <td>0.000000</td>\n",
       "      <td>0.000000</td>\n",
       "      <td>0.000000</td>\n",
       "      <td>0.000000</td>\n",
       "      <td>0.000000</td>\n",
       "      <td>0.000000</td>\n",
       "      <td>0.000000</td>\n",
       "      <td>1.000000</td>\n",
       "      <td>...</td>\n",
       "      <td>0.000000</td>\n",
       "      <td>0.000000</td>\n",
       "      <td>0.000000</td>\n",
       "      <td>0.000000</td>\n",
       "      <td>3.475172e+08</td>\n",
       "      <td>4.567104e+08</td>\n",
       "      <td>4.295808e+08</td>\n",
       "      <td>1.026669e+08</td>\n",
       "      <td>8.032945e+07</td>\n",
       "      <td>5.085504e+08</td>\n",
       "    </tr>\n",
       "    <tr>\n",
       "      <th>50%</th>\n",
       "      <td>0.000000</td>\n",
       "      <td>0.000000</td>\n",
       "      <td>0.000000</td>\n",
       "      <td>0.000000</td>\n",
       "      <td>0.000000</td>\n",
       "      <td>0.000000</td>\n",
       "      <td>0.000000</td>\n",
       "      <td>0.000000</td>\n",
       "      <td>0.000000</td>\n",
       "      <td>1.000000</td>\n",
       "      <td>...</td>\n",
       "      <td>0.000000</td>\n",
       "      <td>0.000000</td>\n",
       "      <td>0.000000</td>\n",
       "      <td>0.000000</td>\n",
       "      <td>3.498148e+08</td>\n",
       "      <td>4.567104e+08</td>\n",
       "      <td>4.295808e+08</td>\n",
       "      <td>1.026669e+08</td>\n",
       "      <td>8.032945e+07</td>\n",
       "      <td>5.085504e+08</td>\n",
       "    </tr>\n",
       "    <tr>\n",
       "      <th>75%</th>\n",
       "      <td>0.000000</td>\n",
       "      <td>0.000000</td>\n",
       "      <td>0.000000</td>\n",
       "      <td>0.000000</td>\n",
       "      <td>0.000000</td>\n",
       "      <td>0.000000</td>\n",
       "      <td>0.000000</td>\n",
       "      <td>0.000000</td>\n",
       "      <td>0.000000</td>\n",
       "      <td>1.000000</td>\n",
       "      <td>...</td>\n",
       "      <td>0.000000</td>\n",
       "      <td>0.000000</td>\n",
       "      <td>0.000000</td>\n",
       "      <td>0.000000</td>\n",
       "      <td>3.591362e+08</td>\n",
       "      <td>4.567104e+08</td>\n",
       "      <td>4.295808e+08</td>\n",
       "      <td>1.026669e+08</td>\n",
       "      <td>8.032945e+07</td>\n",
       "      <td>5.085504e+08</td>\n",
       "    </tr>\n",
       "    <tr>\n",
       "      <th>max</th>\n",
       "      <td>1.000000</td>\n",
       "      <td>1.000000</td>\n",
       "      <td>1.000000</td>\n",
       "      <td>1.000000</td>\n",
       "      <td>1.000000</td>\n",
       "      <td>1.000000</td>\n",
       "      <td>1.000000</td>\n",
       "      <td>1.000000</td>\n",
       "      <td>1.000000</td>\n",
       "      <td>1.000000</td>\n",
       "      <td>...</td>\n",
       "      <td>49.000000</td>\n",
       "      <td>294.000000</td>\n",
       "      <td>4.000000</td>\n",
       "      <td>7.000000</td>\n",
       "      <td>5.346087e+08</td>\n",
       "      <td>9.784800e+08</td>\n",
       "      <td>9.790848e+08</td>\n",
       "      <td>1.063438e+09</td>\n",
       "      <td>1.069087e+09</td>\n",
       "      <td>5.085504e+08</td>\n",
       "    </tr>\n",
       "  </tbody>\n",
       "</table>\n",
       "<p>8 rows × 462 columns</p>\n",
       "</div>"
      ],
      "text/plain": [
       "       confidence_context_broader_offices_headquarters_country_dummy_aus  \\\n",
       "count                                      325722.000000                   \n",
       "mean                                            0.012864                   \n",
       "std                                             0.112687                   \n",
       "min                                             0.000000                   \n",
       "25%                                             0.000000                   \n",
       "50%                                             0.000000                   \n",
       "75%                                             0.000000                   \n",
       "max                                             1.000000                   \n",
       "\n",
       "       confidence_context_broader_offices_headquarters_country_dummy_bra  \\\n",
       "count                                      325722.000000                   \n",
       "mean                                            0.009766                   \n",
       "std                                             0.098339                   \n",
       "min                                             0.000000                   \n",
       "25%                                             0.000000                   \n",
       "50%                                             0.000000                   \n",
       "75%                                             0.000000                   \n",
       "max                                             1.000000                   \n",
       "\n",
       "       confidence_context_broader_offices_headquarters_country_dummy_can  \\\n",
       "count                                      325722.000000                   \n",
       "mean                                            0.021807                   \n",
       "std                                             0.146053                   \n",
       "min                                             0.000000                   \n",
       "25%                                             0.000000                   \n",
       "50%                                             0.000000                   \n",
       "75%                                             0.000000                   \n",
       "max                                             1.000000                   \n",
       "\n",
       "       confidence_context_broader_offices_headquarters_country_dummy_deu  \\\n",
       "count                                      325722.000000                   \n",
       "mean                                            0.011952                   \n",
       "std                                             0.108670                   \n",
       "min                                             0.000000                   \n",
       "25%                                             0.000000                   \n",
       "50%                                             0.000000                   \n",
       "75%                                             0.000000                   \n",
       "max                                             1.000000                   \n",
       "\n",
       "       confidence_context_broader_offices_headquarters_country_dummy_esp  \\\n",
       "count                                      325722.000000                   \n",
       "mean                                            0.012293                   \n",
       "std                                             0.110189                   \n",
       "min                                             0.000000                   \n",
       "25%                                             0.000000                   \n",
       "50%                                             0.000000                   \n",
       "75%                                             0.000000                   \n",
       "max                                             1.000000                   \n",
       "\n",
       "       confidence_context_broader_offices_headquarters_country_dummy_fra  \\\n",
       "count                                      325722.000000                   \n",
       "mean                                            0.009834                   \n",
       "std                                             0.098676                   \n",
       "min                                             0.000000                   \n",
       "25%                                             0.000000                   \n",
       "50%                                             0.000000                   \n",
       "75%                                             0.000000                   \n",
       "max                                             1.000000                   \n",
       "\n",
       "       confidence_context_broader_offices_headquarters_country_dummy_gbr  \\\n",
       "count                                      325722.000000                   \n",
       "mean                                            0.040139                   \n",
       "std                                             0.196284                   \n",
       "min                                             0.000000                   \n",
       "25%                                             0.000000                   \n",
       "50%                                             0.000000                   \n",
       "75%                                             0.000000                   \n",
       "max                                             1.000000                   \n",
       "\n",
       "       confidence_context_broader_offices_headquarters_country_dummy_ind  \\\n",
       "count                                      325722.000000                   \n",
       "mean                                            0.035570                   \n",
       "std                                             0.185216                   \n",
       "min                                             0.000000                   \n",
       "25%                                             0.000000                   \n",
       "50%                                             0.000000                   \n",
       "75%                                             0.000000                   \n",
       "max                                             1.000000                   \n",
       "\n",
       "       confidence_context_broader_offices_headquarters_country_dummy_isr  \\\n",
       "count                                      325722.000000                   \n",
       "mean                                            0.007915                   \n",
       "std                                             0.088612                   \n",
       "min                                             0.000000                   \n",
       "25%                                             0.000000                   \n",
       "50%                                             0.000000                   \n",
       "75%                                             0.000000                   \n",
       "max                                             1.000000                   \n",
       "\n",
       "       confidence_context_broader_offices_headquarters_country_dummy_usa  \\\n",
       "count                                      325722.000000                   \n",
       "mean                                            0.837862                   \n",
       "std                                             0.368578                   \n",
       "min                                             0.000000                   \n",
       "25%                                             1.000000                   \n",
       "50%                                             1.000000                   \n",
       "75%                                             1.000000                   \n",
       "max                                             1.000000                   \n",
       "\n",
       "                                                   ...                                               \\\n",
       "count                                              ...                                                \n",
       "mean                                               ...                                                \n",
       "std                                                ...                                                \n",
       "min                                                ...                                                \n",
       "25%                                                ...                                                \n",
       "50%                                                ...                                                \n",
       "75%                                                ...                                                \n",
       "max                                                ...                                                \n",
       "\n",
       "       potential_human_advisors_companies_operating_advisor_average_number  \\\n",
       "count                                      325722.000000                     \n",
       "mean                                            0.427917                     \n",
       "std                                             1.824389                     \n",
       "min                                             0.000000                     \n",
       "25%                                             0.000000                     \n",
       "50%                                             0.000000                     \n",
       "75%                                             0.000000                     \n",
       "max                                            49.000000                     \n",
       "\n",
       "       potential_human_advisors_companies_operating_advisor_total_number  \\\n",
       "count                                      325722.000000                   \n",
       "mean                                            0.811133                   \n",
       "std                                             4.136556                   \n",
       "min                                             0.000000                   \n",
       "25%                                             0.000000                   \n",
       "50%                                             0.000000                   \n",
       "75%                                             0.000000                   \n",
       "max                                           294.000000                   \n",
       "\n",
       "       potential_human_advisors_companies_closed_advisor_average_number  \\\n",
       "count                                      325722.000000                  \n",
       "mean                                            0.005260                  \n",
       "std                                             0.073903                  \n",
       "min                                             0.000000                  \n",
       "25%                                             0.000000                  \n",
       "50%                                             0.000000                  \n",
       "75%                                             0.000000                  \n",
       "max                                             4.000000                  \n",
       "\n",
       "       potential_human_advisors_companies_closed_advisor_total_number  \\\n",
       "count                                      325722.000000                \n",
       "mean                                            0.010948                \n",
       "std                                             0.139790                \n",
       "min                                             0.000000                \n",
       "25%                                             0.000000                \n",
       "50%                                             0.000000                \n",
       "75%                                             0.000000                \n",
       "max                                             7.000000                \n",
       "\n",
       "       confidence_context_broader_last_updated_date_to_confidence_context_broader_founded_date_duration  \\\n",
       "count                                       3.257220e+05                                                  \n",
       "mean                                        3.444990e+08                                                  \n",
       "std                                         6.891021e+07                                                  \n",
       "min                                         0.000000e+00                                                  \n",
       "25%                                         3.475172e+08                                                  \n",
       "50%                                         3.498148e+08                                                  \n",
       "75%                                         3.591362e+08                                                  \n",
       "max                                         5.346087e+08                                                  \n",
       "\n",
       "       confidence_validation_funding_first_date_to_confidence_context_broader_founded_date_duration  \\\n",
       "count                                       3.257220e+05                                              \n",
       "mean                                        4.533161e+08                                              \n",
       "std                                         2.927875e+07                                              \n",
       "min                                         0.000000e+00                                              \n",
       "25%                                         4.567104e+08                                              \n",
       "50%                                         4.567104e+08                                              \n",
       "75%                                         4.567104e+08                                              \n",
       "max                                         9.784800e+08                                              \n",
       "\n",
       "       confidence_validation_funding_last_date_to_confidence_context_broader_founded_date_duration  \\\n",
       "count                                       3.257220e+05                                             \n",
       "mean                                        4.258197e+08                                             \n",
       "std                                         3.581549e+07                                             \n",
       "min                                         0.000000e+00                                             \n",
       "25%                                         4.295808e+08                                             \n",
       "50%                                         4.295808e+08                                             \n",
       "75%                                         4.295808e+08                                             \n",
       "max                                         9.790848e+08                                             \n",
       "\n",
       "       confidence_validation_funding_first_date_to_confidence_context_broader_last_updated_date_duration  \\\n",
       "count                                       3.257220e+05                                                   \n",
       "mean                                        1.083560e+08                                                   \n",
       "std                                         4.862788e+07                                                   \n",
       "min                                         0.000000e+00                                                   \n",
       "25%                                         1.026669e+08                                                   \n",
       "50%                                         1.026669e+08                                                   \n",
       "75%                                         1.026669e+08                                                   \n",
       "max                                         1.063438e+09                                                   \n",
       "\n",
       "       confidence_validation_funding_last_date_to_confidence_context_broader_last_updated_date_duration  \\\n",
       "count                                       3.257220e+05                                                  \n",
       "mean                                        8.640222e+07                                                  \n",
       "std                                         4.684211e+07                                                  \n",
       "min                                         0.000000e+00                                                  \n",
       "25%                                         8.032945e+07                                                  \n",
       "50%                                         8.032945e+07                                                  \n",
       "75%                                         8.032945e+07                                                  \n",
       "max                                         1.069087e+09                                                  \n",
       "\n",
       "       confidence_validation_funding_last_date_to_confidence_validation_funding_first_date_duration  \n",
       "count                                       3.257220e+05                                             \n",
       "mean                                        5.037020e+08                                             \n",
       "std                                         2.481279e+07                                             \n",
       "min                                         0.000000e+00                                             \n",
       "25%                                         5.085504e+08                                             \n",
       "50%                                         5.085504e+08                                             \n",
       "75%                                         5.085504e+08                                             \n",
       "max                                         5.085504e+08                                             \n",
       "\n",
       "[8 rows x 462 columns]"
      ]
     },
     "execution_count": 167,
     "metadata": {},
     "output_type": "execute_result"
    }
   ],
   "source": [
    "X_pos = X_imp.subtract(X_imp.min(axis=0))\n",
    "X_pos.describe()"
   ]
  },
  {
   "cell_type": "markdown",
   "metadata": {},
   "source": [
    "--> Start transformations"
   ]
  },
  {
   "cell_type": "code",
   "execution_count": 205,
   "metadata": {
    "collapsed": false
   },
   "outputs": [
    {
     "name": "stdout",
     "output_type": "stream",
     "text": [
      "Skewness (Original): 164.79\n",
      "Skewness (BoxCox): 2.02\n",
      "Skewness (Log1P): 2.15\n",
      "Skewness (SQRT): 13.13\n",
      "Skewness (Binary): 2.02\n"
     ]
    },
    {
     "data": {
      "image/png": "[encoded data removed]",
      "text/plain": [
       "<matplotlib.figure.Figure at 0x2d289722940>"
      ]
     },
     "metadata": {},
     "output_type": "display_data"
    }
   ],
   "source": [
    "funding = X_pos[\"confidence_validation_funding_raised_value_total_number\"]\n",
    "\n",
    "figure = plt.figure()\n",
    "\n",
    "ax0 = plt.subplot(151)\n",
    "funding.plot(kind=\"hist\", bins=100)\n",
    "plt.title(\"Original - No Transformation\") \n",
    "print(\"Skewness (Original): {0:.2f}\".format(stats.skew(funding))) \n",
    "\n",
    "figure.add_subplot(152, sharey=ax0)\n",
    "boxcox = pd.Series(stats.boxcox(funding + 1)[0], index=X_pos.index)\n",
    "boxcox.plot(kind=\"hist\", bins=100)\n",
    "plt.title(\"BoxCox Transformation\") \n",
    "print(\"Skewness (BoxCox): {0:.2f}\".format(stats.skew(boxcox))) \n",
    "\n",
    "figure.add_subplot(153, sharey=ax0)\n",
    "log1p = pd.Series(np.log1p(funding), index=X_pos.index)\n",
    "log1p.plot(kind=\"hist\", bins=100)\n",
    "plt.title(\"Log1P Transformation\") \n",
    "print(\"Skewness (Log1P): {0:.2f}\".format(stats.skew(log1p)))\n",
    "\n",
    "figure.add_subplot(154, sharey=ax0)\n",
    "sqrt = pd.Series(funding**(1/2), index=X_pos.index)\n",
    "sqrt.plot(kind=\"hist\", bins=100)\n",
    "plt.title(\"SQRT Transformation\") \n",
    "print(\"Skewness (SQRT): {0:.2f}\".format(stats.skew(sqrt)))\n",
    "\n",
    "from sklearn.preprocessing import binarize\n",
    "\n",
    "figure.add_subplot(155, sharey=ax0)\n",
    "binary = pd.Series(np.where(funding == 0, 0, 1), index=X_pos.index)\n",
    "binary.plot(kind=\"hist\", bins=100)\n",
    "plt.title(\"Binary Transformation\") \n",
    "print(\"Skewness (Binary): {0:.2f}\".format(stats.skew(binary)))"
   ]
  },
  {
   "cell_type": "markdown",
   "metadata": {},
   "source": [
    "--> Apply transformations"
   ]
  },
  {
   "cell_type": "code",
   "execution_count": 206,
   "metadata": {
    "collapsed": true
   },
   "outputs": [],
   "source": [
    "from sklearn.preprocessing import FunctionTransformer\n",
    "\n",
    "ft = FunctionTransformer(np.log1p)\n",
    "X_tf = ft.fit_transform(X_pos)\n",
    "X_tf = pd.DataFrame(X_tf, index=X_pos.index, columns=list(X_pos))"
   ]
  },
  {
   "cell_type": "markdown",
   "metadata": {},
   "source": [
    "--> Start scaling"
   ]
  },
  {
   "cell_type": "code",
   "execution_count": 211,
   "metadata": {
    "collapsed": false
   },
   "outputs": [
    {
     "name": "stdout",
     "output_type": "stream",
     "text": [
      "Median: 0.0, IQR: 0.0\n",
      "Median: -0.4053973137078973, IQR: 0.0\n"
     ]
    },
    {
     "name": "stderr",
     "output_type": "stream",
     "text": [
      "C:\\Anaconda3\\lib\\site-packages\\sklearn\\preprocessing\\data.py:986: DeprecationWarning: Passing 1d arrays as data is deprecated in 0.17 and will raise ValueError in 0.19. Reshape your data either using X.reshape(-1, 1) if your data has a single feature or X.reshape(1, -1) if it contains a single sample.\n",
      "  warnings.warn(DEPRECATION_MSG_1D, DeprecationWarning)\n",
      "C:\\Anaconda3\\lib\\site-packages\\sklearn\\preprocessing\\data.py:1008: DeprecationWarning: Passing 1d arrays as data is deprecated in 0.17 and will raise ValueError in 0.19. Reshape your data either using X.reshape(-1, 1) if your data has a single feature or X.reshape(1, -1) if it contains a single sample.\n",
      "  warnings.warn(DEPRECATION_MSG_1D, DeprecationWarning)\n",
      "C:\\Anaconda3\\lib\\site-packages\\sklearn\\preprocessing\\data.py:986: DeprecationWarning: Passing 1d arrays as data is deprecated in 0.17 and will raise ValueError in 0.19. Reshape your data either using X.reshape(-1, 1) if your data has a single feature or X.reshape(1, -1) if it contains a single sample.\n",
      "  warnings.warn(DEPRECATION_MSG_1D, DeprecationWarning)\n",
      "C:\\Anaconda3\\lib\\site-packages\\sklearn\\preprocessing\\data.py:1037: DeprecationWarning: Passing 1d arrays as data is deprecated in 0.17 and will raise ValueError in 0.19. Reshape your data either using X.reshape(-1, 1) if your data has a single feature or X.reshape(1, -1) if it contains a single sample.\n",
      "  warnings.warn(DEPRECATION_MSG_1D, DeprecationWarning)\n"
     ]
    },
    {
     "name": "stdout",
     "output_type": "stream",
     "text": [
      "Median: 0.0, IQR: 0.0\n",
      "Median: 0.0, IQR: 0.0\n"
     ]
    },
    {
     "data": {
      "image/png": "[encoded data removed]",
      "text/plain": [
       "<matplotlib.figure.Figure at 0x2d290fab7b8>"
      ]
     },
     "metadata": {},
     "output_type": "display_data"
    }
   ],
   "source": [
    "from sklearn.preprocessing import scale, robust_scale, minmax_scale\n",
    "\n",
    "funding = X_tf[\"confidence_validation_funding_raised_value_total_number\"]\n",
    "\n",
    "figure = plt.figure()\n",
    "\n",
    "ax0 = plt.subplot(151)\n",
    "funding.plot(kind=\"hist\", bins=100)\n",
    "plt.title(\"Original - No Transformation\") \n",
    "print(\"Median: {}, IQR: {}\".format(funding.median(), stats.iqr(funding)))\n",
    "\n",
    "figure.add_subplot(152, sharey=ax0)\n",
    "funding_std = pd.Series(scale(funding), index=X_pos.index)\n",
    "funding_std.plot(kind=\"hist\", bins=100)\n",
    "plt.title(\"Standard Scaling\") \n",
    "print(\"Median: {}, IQR: {}\".format(funding_std.median(), stats.iqr(funding_std)))\n",
    "\n",
    "\n",
    "figure.add_subplot(153, sharey=ax0)\n",
    "funding_robust = pd.Series(robust_scale(funding), index=X_pos.index)\n",
    "funding_robust.plot(kind=\"hist\", bins=100)\n",
    "plt.title(\"Robust Scaling\") \n",
    "print(\"Median: {}, IQR: {}\".format(funding_robust.median(), stats.iqr(funding_robust)))\n",
    "\n",
    "\n",
    "figure.add_subplot(154, sharey=ax0)\n",
    "funding_mm = pd.Series(minmax_scale(funding), index=X_pos.index)\n",
    "funding_mm.plot(kind=\"hist\", bins=100)\n",
    "plt.title(\"Min Max Scaling\") \n",
    "print(\"Median: {}, IQR: {}\".format(funding_mm.median(), stats.iqr(funding_mm)))"
   ]
  },
  {
   "cell_type": "markdown",
   "metadata": {},
   "source": [
    "--> Apply scaling"
   ]
  },
  {
   "cell_type": "code",
   "execution_count": 212,
   "metadata": {
    "collapsed": true
   },
   "outputs": [],
   "source": [
    "from sklearn.preprocessing import scale\n",
    "\n",
    "X_std = scale(X_tf)\n",
    "X_std = pd.DataFrame(X_std, index=X_tf.index, columns=list(X_tf))"
   ]
  },
  {
   "cell_type": "markdown",
   "metadata": {},
   "source": [
    "## 3.2.3 Extraction"
   ]
  },
  {
   "cell_type": "markdown",
   "metadata": {},
   "source": [
    "PCA Model"
   ]
  },
  {
   "cell_type": "code",
   "execution_count": 260,
   "metadata": {
    "collapsed": false
   },
   "outputs": [
    {
     "data": {
      "image/png": "[encoded data removed]",
      "text/plain": [
       "<matplotlib.figure.Figure at 0x2d290951b38>"
      ]
     },
     "metadata": {},
     "output_type": "display_data"
    }
   ],
   "source": [
    "#Principal Components Analysis (PCA)\n",
    "from sklearn.decomposition import PCA\n",
    "\n",
    "def screeplot(pca, X):\n",
    "    y = pca.explained_variance_\n",
    "    x = np.arange(len(y)) + 1\n",
    "    plt.plot(x, y)\n",
    "    plt.ylabel(\"Eigenvalue\")\n",
    "    plt.xlabel(\"Component Number\")\n",
    "    plt.xlim(1,None)\n",
    "    return y\n",
    "\n",
    "pca = PCA().fit(X_std)\n",
    "eigenvalues = screeplot(pca,X_std)"
   ]
  },
  {
   "cell_type": "markdown",
   "metadata": {},
   "source": [
    "Grouped"
   ]
  },
  {
   "cell_type": "code",
   "execution_count": 253,
   "metadata": {
    "collapsed": false
   },
   "outputs": [
    {
     "name": "stderr",
     "output_type": "stream",
     "text": [
      "C:\\Anaconda3\\lib\\site-packages\\numpy\\lib\\function_base.py:2558: RuntimeWarning: invalid value encountered in true_divide\n",
      "  c /= stddev[:, None]\n",
      "C:\\Anaconda3\\lib\\site-packages\\numpy\\lib\\function_base.py:2559: RuntimeWarning: invalid value encountered in true_divide\n",
      "  c /= stddev[None, :]\n",
      "C:\\Anaconda3\\lib\\site-packages\\scipy\\stats\\_distn_infrastructure.py:875: RuntimeWarning: invalid value encountered in greater\n",
      "  return (self.a < x) & (x < self.b)\n",
      "C:\\Anaconda3\\lib\\site-packages\\scipy\\stats\\_distn_infrastructure.py:875: RuntimeWarning: invalid value encountered in less\n",
      "  return (self.a < x) & (x < self.b)\n",
      "C:\\Anaconda3\\lib\\site-packages\\scipy\\stats\\_distn_infrastructure.py:1814: RuntimeWarning: invalid value encountered in less_equal\n",
      "  cond2 = cond0 & (x <= self.a)\n"
     ]
    },
    {
     "data": {
      "image/png": "[encoded data removed]",
      "text/plain": [
       "<matplotlib.figure.Figure at 0x2d29096b208>"
      ]
     },
     "metadata": {},
     "output_type": "display_data"
    }
   ],
   "source": [
    "from collections import defaultdict\n",
    "from itertools import combinations\n",
    "\n",
    "features = list(X_std)\n",
    "f_map = {x: '_'.join(x.split(\"_\")[:3]) for x in features}\n",
    "f_group = defaultdict(list)\n",
    "for f,g in f_map.items():\n",
    "    f_group[g].append(f)\n",
    "agg_group = {}\n",
    "for g,l in f_group.items():\n",
    "    combo = combinations(l, 2)\n",
    "    for x,y in combo:\n",
    "        corr = stats.spearmanr(X_std[x][:100], X_std[y][:100])[0]\n",
    "        if corr < 0: X_std[y] *= -1\n",
    "    tot = X_std[l].sum(axis=1)\n",
    "    agg_group[g] = tot\n",
    "X_grp = pd.DataFrame(agg_group)\n",
    "grp_corr = X_grp.corr(method=\"spearman\")\n",
    "mask = np.zeros_like(grp_corr)\n",
    "mask[np.triu_indices_from(mask)] = True\n",
    "f_names = [x.split(\"_\")[2] for x in list(X_grp)]\n",
    "ax = sns.heatmap(grp_corr,square=True, mask=mask, xticklabels=f_names, yticklabels=f_names)\n",
    "ax.invert_yaxis()"
   ]
  },
  {
   "cell_type": "code",
   "execution_count": 261,
   "metadata": {
    "collapsed": false
   },
   "outputs": [
    {
     "data": {
      "image/png": "[encoded data removed]",
      "text/plain": [
       "<matplotlib.figure.Figure at 0x2d2a841e128>"
      ]
     },
     "metadata": {},
     "output_type": "display_data"
    }
   ],
   "source": [
    "pca = PCA().fit(X_grp)\n",
    "eigenvalues = screeplot(pca,X_grp)"
   ]
  },
  {
   "cell_type": "markdown",
   "metadata": {},
   "source": [
    "# 3.3 Classification"
   ]
  },
  {
   "cell_type": "markdown",
   "metadata": {},
   "source": [
    "# 3.4 Experimentation"
   ]
  },
  {
   "cell_type": "markdown",
   "metadata": {},
   "source": [
    "## 3.4.2 Robustness"
   ]
  },
  {
   "cell_type": "markdown",
   "metadata": {},
   "source": [
    "## 3.4.3 Predictive Power"
   ]
  },
  {
   "cell_type": "code",
   "execution_count": null,
   "metadata": {
    "collapsed": true
   },
   "outputs": [],
   "source": []
  }
 ],
 "metadata": {
  "kernelspec": {
   "display_name": "Python [Root]",
   "language": "python",
   "name": "Python [Root]"
  }
 },
 "nbformat": 4,
 "nbformat_minor": 2
}

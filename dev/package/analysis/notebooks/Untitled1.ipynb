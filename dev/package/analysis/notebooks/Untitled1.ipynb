{
 "cells": [
  {
   "cell_type": "markdown",
   "metadata": {
    "deletable": true,
    "editable": true
   },
   "source": [
    "# Setup"
   ]
  },
  {
   "cell_type": "code",
   "execution_count": 1,
   "metadata": {
    "collapsed": false,
    "deletable": true,
    "editable": true
   },
   "outputs": [
    {
     "name": "stdout",
     "output_type": "stream",
     "text": [
      "logManager - INFO - export_dataframe | Started\n",
      "logManager - INFO - export_dataframe | Passed | 302.28\n"
     ]
    }
   ],
   "source": [
    "#setup path\n",
    "path = 'C:/Users/mark/Documents/GitHub/honours/dev/package/'\n",
    "import sys; sys.path.append(path)\n",
    "\n",
    "#standard imports\n",
    "import numpy as np\n",
    "import pandas as pd\n",
    "import datetime\n",
    "from scipy import stats\n",
    "from collections import OrderedDict\n",
    "\n",
    "#configure display modes\n",
    "from IPython.core.interactiveshell import InteractiveShell\n",
    "import matplotlib.pyplot as plt\n",
    "import matplotlib.dates as md\n",
    "from matplotlib import rcParams\n",
    "import seaborn as sns\n",
    "\n",
    "%matplotlib inline\n",
    "rcParams['figure.figsize'] = 20,6\n",
    "sns.set_style(\"whitegrid\")\n",
    "\n",
    "#load data first time from database\n",
    "import analysis.dataPreparer as dp\n",
    "\n",
    "input_path = path+\"analysis/input/master.db\"\n",
    "flatten_config = path+\"analysis/config/master_feature.sql\"\n",
    "raw_flat_file = path+\"analysis/output/temp/raw.csv\"\n",
    "clean_flat_file = path+\"analysis/output/temp/clean.csv\"\n",
    "output_path = path+\"analysis/output/temp/output.db\"\n",
    "\n",
    "#dp.flatten_file(input_path, flatten_config, raw_flat_file, \"feature\")\n",
    "#dp.clean_file(raw_flat_file, clean_flat_file)\n",
    "#dp.load_file(output_path, clean_flat_file, \"feature\")\n",
    "df = dp.export_dataframe(output_path, \"feature\")\n",
    "df_backup = df.copy()"
   ]
  },
  {
   "cell_type": "code",
   "execution_count": 2,
   "metadata": {
    "collapsed": false,
    "deletable": true,
    "editable": true
   },
   "outputs": [],
   "source": [
    "CSS = \"\"\"\n",
    "    body {\n",
    "        margin: 0;\n",
    "        font-family: Helvetica;}\n",
    "    table.dataframe {\n",
    "        border-collapse: collapse;\n",
    "        border: none;}\n",
    "    table.dataframe tr {\n",
    "        border: none;}\n",
    "    table.dataframe td, table.dataframe th {\n",
    "        margin: 0;\n",
    "        border: 1px solid white;\n",
    "        padding-left: 0.25em;\n",
    "        padding-right: 0.25em;}\n",
    "    table.dataframe th:not(:empty) {\n",
    "        background-color: #fec;\n",
    "        text-align: left;\n",
    "        font-weight: normal;}\n",
    "    table.dataframe tr:nth-child(2) th:empty {\n",
    "        border-left: none;\n",
    "        border-right: 1px dashed #888;}\n",
    "    table.dataframe td {\n",
    "        border: 2px solid #ccf;\n",
    "        background-color: #f4f4ff;}\"\"\"\n",
    "from IPython.core.display import HTML\n",
    "HTML('<style>{}</style>'.format(CSS))\n",
    "pd.set_option('precision',3)"
   ]
  },
  {
   "cell_type": "code",
   "execution_count": 108,
   "metadata": {
    "collapsed": false,
    "deletable": true,
    "editable": true
   },
   "outputs": [],
   "source": [
    "#reload data from memory\n",
    "df = df_backup"
   ]
  },
  {
   "cell_type": "code",
   "execution_count": 3,
   "metadata": {
    "collapsed": false,
    "deletable": true,
    "editable": true
   },
   "outputs": [],
   "source": [
    "df = df.sample(n=10000)"
   ]
  },
  {
   "cell_type": "markdown",
   "metadata": {
    "deletable": true,
    "editable": true
   },
   "source": [
    "# 4. Evaluation"
   ]
  },
  {
   "cell_type": "code",
   "execution_count": 4,
   "metadata": {
    "collapsed": false,
    "deletable": true,
    "editable": true
   },
   "outputs": [],
   "source": [
    "#Create lifecycle stages\n",
    "df[\"keys_company_stage_closed\"] = df[\"keys_company_status_closed_bool\"]\n",
    "df[\"keys_company_stage_acquired\"] = df[\"keys_company_status_acquired_bool\"]\n",
    "df[\"keys_company_stage_ipo\"] = df[\"keys_company_status_ipo_bool\"]\n",
    "df[\"keys_company_stage_series-d+\"] = df[[\n",
    "    'confidence_validation_funding_round_codes_list_d',\n",
    "    'confidence_validation_funding_round_codes_list_e',\n",
    "    'confidence_validation_funding_round_codes_list_f',\n",
    "    'confidence_validation_funding_round_codes_list_g',\n",
    "    'confidence_validation_funding_round_codes_list_h',\n",
    "    'confidence_validation_funding_round_types_list_private_equity']].sum(axis=1)\n",
    "df[\"keys_company_stage_series-c\"] = df[\"confidence_validation_funding_round_codes_list_c\"]\n",
    "df[\"keys_company_stage_series-b\"] = df[\"confidence_validation_funding_round_codes_list_b\"]\n",
    "df[\"keys_company_stage_series-a\"] = df[\"confidence_validation_funding_round_codes_list_a\"]\n",
    "df[\"keys_company_stage_seed\"] = df['confidence_validation_funding_round_types_list_seed']\n",
    "df[\"keys_company_stage_pre-seed\"] = df[[\n",
    "    'confidence_validation_funding_round_types_list_convertible_note',\n",
    "    'confidence_validation_funding_round_types_list_non_equity_assistance',\n",
    "    'confidence_validation_funding_round_types_list_product_crowdfunding',\n",
    "    'confidence_validation_funding_round_types_list_equity_crowdfunding',\n",
    "    'confidence_validation_funding_round_types_list_angel',\n",
    "    'confidence_validation_funding_round_types_list_grant']].sum(axis=1)\n",
    "df[\"keys_company_stage_other\"] = df[[\n",
    "     'confidence_validation_funding_round_types_list_debt_financing',\n",
    "     'confidence_validation_funding_round_types_list_secondary_market',\n",
    "     'confidence_validation_funding_round_types_list_undisclosed']].sum(axis=1)\n",
    "df[\"keys_company_stage_none\"] = np.where(df[\"confidence_validation_funding_rounds_number\"] == 0, 1, 0)\n",
    "\n",
    "def label_stage(row):\n",
    "    if row[\"keys_company_stage_closed\"] >= 1: return \"Closed\"\n",
    "    elif row[\"keys_company_stage_acquired\"] >= 1: return \"Acquired\"\n",
    "    elif row[\"keys_company_stage_ipo\"] >= 1: return \"IPO\"\n",
    "    elif row[\"keys_company_stage_series-d+\"] >= 1: return \"Series D+/PE\"\n",
    "    elif row[\"keys_company_stage_series-c\"] >= 1: return \"Series C\"\n",
    "    elif row[\"keys_company_stage_series-b\"] >= 1: return \"Series B\"\n",
    "    elif row[\"keys_company_stage_series-a\"] >= 1: return \"Series A\"\n",
    "    elif row[\"keys_company_stage_seed\"] >= 1: return \"Seed\"\n",
    "    elif row[\"keys_company_stage_pre-seed\"] >= 1: return \"Pre-Seed\"\n",
    "    elif row[\"confidence_validation_funding_rounds_number\"] == 0: return \"None\"\n",
    "    else: return \"Other\"\n",
    "\n",
    "df[\"keys_company_stage\"] = df.apply(lambda row: label_stage(row), axis=1)\n",
    "df[\"keys_company_stage_none\"] = np.where(df[\"keys_company_stage\"] == \"None\", 1, 0)"
   ]
  },
  {
   "cell_type": "code",
   "execution_count": 5,
   "metadata": {
    "collapsed": false,
    "deletable": true,
    "editable": true
   },
   "outputs": [],
   "source": [
    "#Decompose Other and None stages\n",
    "from sklearn.mixture import GaussianMixture\n",
    "mix = GaussianMixture(n_components=2)\n",
    "\n",
    "def label_stage_other(row, pred):\n",
    "    try:\n",
    "        if pred[row.name] == 1: return \"New\"\n",
    "        elif pred[row.name] == 0: return \"Mature\"\n",
    "    except: return row[\"keys_company_stage\"]\n",
    "\n",
    "#df[\"confidence_context_broader_survival_date\"] = min(df[\"confidence_context_broader_closed_date\"], df[\"confidence_context_broader_last_updated_date\"])\n",
    "#df[\"keys_company_age\"] = (df[\"survival_date\"] - df[\"confidence_context_broader_founded_date\"]) / 60 / 60 / 24 / 365.25\n",
    "df[\"keys_company_age\"] = df[\"confidence_context_broader_founded_date\"].apply(lambda x: (1473379200 - x) / 60 / 60 / 24 / 365.25)\n",
    "\n",
    "age = df[\"keys_company_age\"].loc[(df[\"keys_company_stage\"] == \"None\") | (df[\"keys_company_stage\"] == \"Other\")].dropna()\n",
    "age_stacked = np.vstack(age)\n",
    "mix.fit(age_stacked)\n",
    "pred = mix.predict(age_stacked)\n",
    "max_index = list(mix.means_).index(max(mix.means_))\n",
    "if max_index == 1: pred = [0 if x==1 else 1 for x in pred]\n",
    "pred = pd.Series(pred, index=age.index)\n",
    "\n",
    "df[\"keys_company_stage\"] = df.apply(lambda row: label_stage_other(row, pred), axis=1)\n",
    "df[\"keys_company_stage_new\"] = np.where(df[\"keys_company_stage\"] == \"New\", 1, 0)\n",
    "df[\"keys_company_stage_mature\"] = np.where(df[\"keys_company_stage\"] == \"Mature\", 1, 0)\n",
    "df[\"keys_company_stage_unknown\"] = np.where(df[\"keys_company_stage\"] == \"Unknown\", 1, 0)\n"
   ]
  },
  {
   "cell_type": "code",
   "execution_count": 6,
   "metadata": {
    "collapsed": false,
    "deletable": true,
    "editable": true
   },
   "outputs": [],
   "source": [
    "list_factors = dict(\n",
    "    Core = [\"New\", \"Pre-Seed\", \"Seed\", \"Series A\", \"Series B\", \"Series C\", \"Series D+/PE\"],\n",
    "    Other = [\"Closed\", \"Acquired\", \"IPO\"],\n",
    "    Excluded = [\"None\", \"Other\", \"Mature\"])\n",
    "\n",
    "factors = {}\n",
    "for k,l in list_factors.items():\n",
    "    for v in l: factors[v] = k\n",
    "        \n",
    "order_1 = []\n",
    "for l in list_factors.values(): order_1 += l\n",
    "order_0 = [\"Core\", \"Other\", \"Excluded\"]\n",
    "\n",
    "df[\"keys_company_stage_group\"] = df[\"keys_company_stage\"].map(factors)\n",
    "\n",
    "df = df.loc[~((df[\"keys_company_stage_group\"] == \"Other\") & (df[\"confidence_validation_funding_rounds_number\"] == 0))]"
   ]
  },
  {
   "cell_type": "code",
   "execution_count": 7,
   "metadata": {
    "collapsed": false,
    "deletable": true,
    "editable": true
   },
   "outputs": [
    {
     "data": {
      "text/plain": [
       "['confidence_context_broader_closed_date',\n",
       " 'confidence_context_broader_closed_date_to_confidence_context_broader_founded_date_duration',\n",
       " 'confidence_context_broader_confidence_context_broader_closed_date_SP500_number',\n",
       " 'confidence_context_broader_confidence_context_broader_founded_date_SP500_number',\n",
       " 'confidence_context_broader_confidence_context_broader_last_updated_date_SP500_number',\n",
       " 'confidence_context_broader_confidence_validation_funding_first_date_SP500_number',\n",
       " 'confidence_context_broader_confidence_validation_funding_last_date_SP500_number',\n",
       " 'confidence_context_broader_founded_date',\n",
       " 'confidence_context_broader_last_updated_date',\n",
       " 'confidence_context_broader_last_updated_date_to_confidence_context_broader_closed_date_duration',\n",
       " 'confidence_context_broader_last_updated_date_to_confidence_context_broader_founded_date_duration',\n",
       " 'confidence_context_broader_offices_headquarters_country_dummy_aus',\n",
       " 'confidence_context_broader_offices_headquarters_country_dummy_bra',\n",
       " 'confidence_context_broader_offices_headquarters_country_dummy_can',\n",
       " 'confidence_context_broader_offices_headquarters_country_dummy_deu',\n",
       " 'confidence_context_broader_offices_headquarters_country_dummy_esp',\n",
       " 'confidence_context_broader_offices_headquarters_country_dummy_fra',\n",
       " 'confidence_context_broader_offices_headquarters_country_dummy_gbr',\n",
       " 'confidence_context_broader_offices_headquarters_country_dummy_ind',\n",
       " 'confidence_context_broader_offices_headquarters_country_dummy_isr',\n",
       " 'confidence_context_broader_offices_headquarters_country_dummy_usa',\n",
       " 'confidence_context_industry_category_group_list_commerce-and-shopping',\n",
       " 'confidence_context_industry_category_group_list_financial-services',\n",
       " 'confidence_context_industry_category_group_list_hardware',\n",
       " 'confidence_context_industry_category_group_list_health-care',\n",
       " 'confidence_context_industry_category_group_list_information-technology',\n",
       " 'confidence_context_industry_category_group_list_internet-services',\n",
       " 'confidence_context_industry_category_group_list_media-and-entertainment',\n",
       " 'confidence_context_industry_category_group_list_mobile',\n",
       " 'confidence_context_industry_category_group_list_sales-and-marketing',\n",
       " 'confidence_context_industry_category_group_list_software',\n",
       " 'confidence_context_industry_category_list_advertising',\n",
       " 'confidence_context_industry_category_list_apps',\n",
       " 'confidence_context_industry_category_list_consulting',\n",
       " 'confidence_context_industry_category_list_curated-web',\n",
       " 'confidence_context_industry_category_list_e-commerce',\n",
       " 'confidence_context_industry_category_list_health-care',\n",
       " 'confidence_context_industry_category_list_internet',\n",
       " 'confidence_context_industry_category_list_mobile',\n",
       " 'confidence_context_industry_category_list_social-media',\n",
       " 'confidence_context_industry_category_list_software',\n",
       " 'confidence_context_industry_competitors_count_acquired_number',\n",
       " 'confidence_context_industry_competitors_count_closed_number',\n",
       " 'confidence_context_industry_competitors_count_ipo_number',\n",
       " 'confidence_context_industry_competitors_count_operating_number',\n",
       " 'confidence_context_industry_competitors_count_total_number',\n",
       " 'confidence_context_local_offices_headquarters_city_dummy_austin',\n",
       " 'confidence_context_local_offices_headquarters_city_dummy_bangalore',\n",
       " 'confidence_context_local_offices_headquarters_city_dummy_chicago',\n",
       " 'confidence_context_local_offices_headquarters_city_dummy_london',\n",
       " 'confidence_context_local_offices_headquarters_city_dummy_los-angeles',\n",
       " 'confidence_context_local_offices_headquarters_city_dummy_new-york',\n",
       " 'confidence_context_local_offices_headquarters_city_dummy_paris',\n",
       " 'confidence_context_local_offices_headquarters_city_dummy_san-francisco',\n",
       " 'confidence_context_local_offices_headquarters_city_dummy_seattle',\n",
       " 'confidence_context_local_offices_headquarters_city_dummy_toronto',\n",
       " 'confidence_context_local_offices_headquarters_region_dummy_boston',\n",
       " 'confidence_context_local_offices_headquarters_region_dummy_chicago',\n",
       " 'confidence_context_local_offices_headquarters_region_dummy_dallas',\n",
       " 'confidence_context_local_offices_headquarters_region_dummy_london',\n",
       " 'confidence_context_local_offices_headquarters_region_dummy_los-angeles',\n",
       " 'confidence_context_local_offices_headquarters_region_dummy_new-york-city',\n",
       " 'confidence_context_local_offices_headquarters_region_dummy_seattle',\n",
       " 'confidence_context_local_offices_headquarters_region_dummy_sf-bay-area',\n",
       " 'confidence_context_local_offices_headquarters_region_dummy_toronto',\n",
       " 'confidence_context_local_offices_headquarters_region_dummy_washington,-d.c.',\n",
       " 'confidence_context_local_offices_headquarters_state_dummy_ca',\n",
       " 'confidence_context_local_offices_headquarters_state_dummy_co',\n",
       " 'confidence_context_local_offices_headquarters_state_dummy_fl',\n",
       " 'confidence_context_local_offices_headquarters_state_dummy_il',\n",
       " 'confidence_context_local_offices_headquarters_state_dummy_ma',\n",
       " 'confidence_context_local_offices_headquarters_state_dummy_ny',\n",
       " 'confidence_context_local_offices_headquarters_state_dummy_on',\n",
       " 'confidence_context_local_offices_headquarters_state_dummy_pa',\n",
       " 'confidence_context_local_offices_headquarters_state_dummy_tx',\n",
       " 'confidence_context_local_offices_headquarters_state_dummy_wa',\n",
       " 'confidence_context_local_offices_headquarters_zipcode_number',\n",
       " 'confidence_validation_customers_count_acquired_number',\n",
       " 'confidence_validation_customers_count_closed_number',\n",
       " 'confidence_validation_customers_count_ipo_number',\n",
       " 'confidence_validation_customers_count_operating_number',\n",
       " 'confidence_validation_customers_count_total_number',\n",
       " 'confidence_validation_funding_code_date_pair_A_pair',\n",
       " 'confidence_validation_funding_code_date_pair_B_pair',\n",
       " 'confidence_validation_funding_code_date_pair_C_pair',\n",
       " 'confidence_validation_funding_code_date_pair_D_pair',\n",
       " 'confidence_validation_funding_code_date_pair_E_pair',\n",
       " 'confidence_validation_funding_code_date_pair_F_pair',\n",
       " 'confidence_validation_funding_code_date_pair_G_pair',\n",
       " 'confidence_validation_funding_code_date_pair_H_pair',\n",
       " 'confidence_validation_funding_code_date_pair__pair',\n",
       " 'confidence_validation_funding_first_date',\n",
       " 'confidence_validation_funding_first_date_to_confidence_context_broader_closed_date_duration',\n",
       " 'confidence_validation_funding_first_date_to_confidence_context_broader_founded_date_duration',\n",
       " 'confidence_validation_funding_first_date_to_confidence_context_broader_last_updated_date_duration',\n",
       " 'confidence_validation_funding_investors_participants_average_number',\n",
       " 'confidence_validation_funding_investors_participants_code_number_pair_A_pair',\n",
       " 'confidence_validation_funding_investors_participants_code_number_pair_B_pair',\n",
       " 'confidence_validation_funding_investors_participants_code_number_pair_C_pair',\n",
       " 'confidence_validation_funding_investors_participants_code_number_pair_D_pair',\n",
       " 'confidence_validation_funding_investors_participants_code_number_pair_E_pair',\n",
       " 'confidence_validation_funding_investors_participants_code_number_pair_F_pair',\n",
       " 'confidence_validation_funding_investors_participants_code_number_pair_G_pair',\n",
       " 'confidence_validation_funding_investors_participants_code_number_pair_H_pair',\n",
       " 'confidence_validation_funding_investors_participants_code_number_pair__pair',\n",
       " 'confidence_validation_funding_investors_participants_total_number',\n",
       " 'confidence_validation_funding_investors_participants_type_number_pair_angel_pair',\n",
       " 'confidence_validation_funding_investors_participants_type_number_pair_convertible_note_pair',\n",
       " 'confidence_validation_funding_investors_participants_type_number_pair_debt_financing_pair',\n",
       " 'confidence_validation_funding_investors_participants_type_number_pair_equity_crowdfunding_pair',\n",
       " 'confidence_validation_funding_investors_participants_type_number_pair_grant_pair',\n",
       " 'confidence_validation_funding_investors_participants_type_number_pair_non_equity_assistance_pair',\n",
       " 'confidence_validation_funding_investors_participants_type_number_pair_post_ipo_debt_pair',\n",
       " 'confidence_validation_funding_investors_participants_type_number_pair_post_ipo_equity_pair',\n",
       " 'confidence_validation_funding_investors_participants_type_number_pair_private_equity_pair',\n",
       " 'confidence_validation_funding_investors_participants_type_number_pair_product_crowdfunding_pair',\n",
       " 'confidence_validation_funding_investors_participants_type_number_pair_secondary_market_pair',\n",
       " 'confidence_validation_funding_investors_participants_type_number_pair_seed_pair',\n",
       " 'confidence_validation_funding_investors_participants_type_number_pair_undisclosed_pair',\n",
       " 'confidence_validation_funding_investors_participants_type_number_pair_venture_pair',\n",
       " 'confidence_validation_funding_last_date',\n",
       " 'confidence_validation_funding_last_date_to_confidence_context_broader_closed_date_duration',\n",
       " 'confidence_validation_funding_last_date_to_confidence_context_broader_founded_date_duration',\n",
       " 'confidence_validation_funding_last_date_to_confidence_context_broader_last_updated_date_duration',\n",
       " 'confidence_validation_funding_last_date_to_confidence_validation_funding_first_date_duration',\n",
       " 'confidence_validation_funding_post_money_valuation_code_number_pair_A_pair',\n",
       " 'confidence_validation_funding_post_money_valuation_code_number_pair_B_pair',\n",
       " 'confidence_validation_funding_post_money_valuation_code_number_pair_C_pair',\n",
       " 'confidence_validation_funding_post_money_valuation_code_number_pair_D_pair',\n",
       " 'confidence_validation_funding_post_money_valuation_code_number_pair_E_pair',\n",
       " 'confidence_validation_funding_post_money_valuation_code_number_pair_F_pair',\n",
       " 'confidence_validation_funding_post_money_valuation_code_number_pair_G_pair',\n",
       " 'confidence_validation_funding_post_money_valuation_code_number_pair_H_pair',\n",
       " 'confidence_validation_funding_post_money_valuation_code_number_pair__pair',\n",
       " 'confidence_validation_funding_post_money_valuation_type_number_pair_angel_pair',\n",
       " 'confidence_validation_funding_post_money_valuation_type_number_pair_convertible_note_pair',\n",
       " 'confidence_validation_funding_post_money_valuation_type_number_pair_debt_financing_pair',\n",
       " 'confidence_validation_funding_post_money_valuation_type_number_pair_equity_crowdfunding_pair',\n",
       " 'confidence_validation_funding_post_money_valuation_type_number_pair_grant_pair',\n",
       " 'confidence_validation_funding_post_money_valuation_type_number_pair_non_equity_assistance_pair',\n",
       " 'confidence_validation_funding_post_money_valuation_type_number_pair_post_ipo_equity_pair',\n",
       " 'confidence_validation_funding_post_money_valuation_type_number_pair_private_equity_pair',\n",
       " 'confidence_validation_funding_post_money_valuation_type_number_pair_product_crowdfunding_pair',\n",
       " 'confidence_validation_funding_post_money_valuation_type_number_pair_secondary_market_pair',\n",
       " 'confidence_validation_funding_post_money_valuation_type_number_pair_seed_pair',\n",
       " 'confidence_validation_funding_post_money_valuation_type_number_pair_undisclosed_pair',\n",
       " 'confidence_validation_funding_post_money_valuation_type_number_pair_venture_pair',\n",
       " 'confidence_validation_funding_raised_amount_code_number_pair_A_pair',\n",
       " 'confidence_validation_funding_raised_amount_code_number_pair_B_pair',\n",
       " 'confidence_validation_funding_raised_amount_code_number_pair_C_pair',\n",
       " 'confidence_validation_funding_raised_amount_code_number_pair_D_pair',\n",
       " 'confidence_validation_funding_raised_amount_code_number_pair_E_pair',\n",
       " 'confidence_validation_funding_raised_amount_code_number_pair_F_pair',\n",
       " 'confidence_validation_funding_raised_amount_code_number_pair_G_pair',\n",
       " 'confidence_validation_funding_raised_amount_code_number_pair_H_pair',\n",
       " 'confidence_validation_funding_raised_amount_code_number_pair__pair',\n",
       " 'confidence_validation_funding_raised_amount_type_number_pair_angel_pair',\n",
       " 'confidence_validation_funding_raised_amount_type_number_pair_convertible_note_pair',\n",
       " 'confidence_validation_funding_raised_amount_type_number_pair_debt_financing_pair',\n",
       " 'confidence_validation_funding_raised_amount_type_number_pair_equity_crowdfunding_pair',\n",
       " 'confidence_validation_funding_raised_amount_type_number_pair_grant_pair',\n",
       " 'confidence_validation_funding_raised_amount_type_number_pair_non_equity_assistance_pair',\n",
       " 'confidence_validation_funding_raised_amount_type_number_pair_post_ipo_debt_pair',\n",
       " 'confidence_validation_funding_raised_amount_type_number_pair_post_ipo_equity_pair',\n",
       " 'confidence_validation_funding_raised_amount_type_number_pair_private_equity_pair',\n",
       " 'confidence_validation_funding_raised_amount_type_number_pair_product_crowdfunding_pair',\n",
       " 'confidence_validation_funding_raised_amount_type_number_pair_secondary_market_pair',\n",
       " 'confidence_validation_funding_raised_amount_type_number_pair_seed_pair',\n",
       " 'confidence_validation_funding_raised_amount_type_number_pair_undisclosed_pair',\n",
       " 'confidence_validation_funding_raised_amount_type_number_pair_venture_pair',\n",
       " 'confidence_validation_funding_raised_value_average_number',\n",
       " 'confidence_validation_funding_raised_value_total_number',\n",
       " 'confidence_validation_funding_round_codes_list_a',\n",
       " 'confidence_validation_funding_round_codes_list_b',\n",
       " 'confidence_validation_funding_round_codes_list_c',\n",
       " 'confidence_validation_funding_round_codes_list_d',\n",
       " 'confidence_validation_funding_round_codes_list_e',\n",
       " 'confidence_validation_funding_round_codes_list_f',\n",
       " 'confidence_validation_funding_round_codes_list_g',\n",
       " 'confidence_validation_funding_round_codes_list_h',\n",
       " 'confidence_validation_funding_round_types_list_angel',\n",
       " 'confidence_validation_funding_round_types_list_convertible_note',\n",
       " 'confidence_validation_funding_round_types_list_debt_financing',\n",
       " 'confidence_validation_funding_round_types_list_equity_crowdfunding',\n",
       " 'confidence_validation_funding_round_types_list_grant',\n",
       " 'confidence_validation_funding_round_types_list_non_equity_assistance',\n",
       " 'confidence_validation_funding_round_types_list_post_ipo_debt',\n",
       " 'confidence_validation_funding_round_types_list_post_ipo_equity',\n",
       " 'confidence_validation_funding_round_types_list_private_equity',\n",
       " 'confidence_validation_funding_round_types_list_product_crowdfunding',\n",
       " 'confidence_validation_funding_round_types_list_secondary_market',\n",
       " 'confidence_validation_funding_round_types_list_seed',\n",
       " 'confidence_validation_funding_round_types_list_undisclosed',\n",
       " 'confidence_validation_funding_round_types_list_venture',\n",
       " 'confidence_validation_funding_rounds_number',\n",
       " 'confidence_validation_funding_type_date_pair_angel_pair',\n",
       " 'confidence_validation_funding_type_date_pair_convertible_note_pair',\n",
       " 'confidence_validation_funding_type_date_pair_debt_financing_pair',\n",
       " 'confidence_validation_funding_type_date_pair_equity_crowdfunding_pair',\n",
       " 'confidence_validation_funding_type_date_pair_grant_pair',\n",
       " 'confidence_validation_funding_type_date_pair_non_equity_assistance_pair',\n",
       " 'confidence_validation_funding_type_date_pair_post_ipo_debt_pair',\n",
       " 'confidence_validation_funding_type_date_pair_post_ipo_equity_pair',\n",
       " 'confidence_validation_funding_type_date_pair_private_equity_pair',\n",
       " 'confidence_validation_funding_type_date_pair_product_crowdfunding_pair',\n",
       " 'confidence_validation_funding_type_date_pair_secondary_market_pair',\n",
       " 'confidence_validation_funding_type_date_pair_seed_pair',\n",
       " 'confidence_validation_funding_type_date_pair_undisclosed_pair',\n",
       " 'confidence_validation_funding_type_date_pair_venture_pair',\n",
       " 'confidence_validation_investors_average_distinct_investments_average_number',\n",
       " 'confidence_validation_investors_average_distinct_investments_max_number',\n",
       " 'confidence_validation_investors_average_distinct_investments_sum_number',\n",
       " 'confidence_validation_investors_count_all_investments_average_number',\n",
       " 'confidence_validation_investors_count_all_investments_max_number',\n",
       " 'confidence_validation_investors_count_all_investments_sum_number',\n",
       " 'confidence_validation_investors_count_distinct_investments_average_number',\n",
       " 'confidence_validation_investors_count_distinct_investments_max_number',\n",
       " 'confidence_validation_investors_count_distinct_investments_sum_number',\n",
       " 'confidence_validation_investors_count_funded_acquired_average_average_number',\n",
       " 'confidence_validation_investors_count_funded_acquired_average_max_number',\n",
       " 'confidence_validation_investors_count_funded_acquired_average_sum_number',\n",
       " 'confidence_validation_investors_count_funded_acquired_total_average_number',\n",
       " 'confidence_validation_investors_count_funded_acquired_total_max_number',\n",
       " 'confidence_validation_investors_count_funded_acquired_total_sum_number',\n",
       " 'confidence_validation_investors_count_funded_closed_average_average_number',\n",
       " 'confidence_validation_investors_count_funded_closed_average_max_number',\n",
       " 'confidence_validation_investors_count_funded_closed_average_sum_number',\n",
       " 'confidence_validation_investors_count_funded_closed_total_average_number',\n",
       " 'confidence_validation_investors_count_funded_closed_total_max_number',\n",
       " 'confidence_validation_investors_count_funded_closed_total_sum_number',\n",
       " 'confidence_validation_investors_count_funded_exit_average_average_number',\n",
       " 'confidence_validation_investors_count_funded_exit_average_max_number',\n",
       " 'confidence_validation_investors_count_funded_exit_average_sum_number',\n",
       " 'confidence_validation_investors_count_funded_exit_total_average_number',\n",
       " 'confidence_validation_investors_count_funded_exit_total_max_number',\n",
       " 'confidence_validation_investors_count_funded_exit_total_sum_number',\n",
       " 'confidence_validation_investors_count_funded_ipo_average_average_number',\n",
       " 'confidence_validation_investors_count_funded_ipo_average_max_number',\n",
       " 'confidence_validation_investors_count_funded_ipo_average_sum_number',\n",
       " 'confidence_validation_investors_count_funded_ipo_total_average_number',\n",
       " 'confidence_validation_investors_count_funded_ipo_total_max_number',\n",
       " 'confidence_validation_investors_count_funded_ipo_total_sum_number',\n",
       " 'confidence_validation_investors_count_funded_operating_average_average_number',\n",
       " 'confidence_validation_investors_count_funded_operating_average_max_number',\n",
       " 'confidence_validation_investors_count_funded_operating_average_sum_number',\n",
       " 'confidence_validation_investors_count_funded_operating_total_average_number',\n",
       " 'confidence_validation_investors_count_funded_operating_total_max_number',\n",
       " 'confidence_validation_investors_count_funded_operating_total_sum_number',\n",
       " 'confidence_validation_investors_funding_coparticipants_average_average_number',\n",
       " 'confidence_validation_investors_funding_coparticipants_average_max_number',\n",
       " 'confidence_validation_investors_funding_coparticipants_average_sum_number',\n",
       " 'confidence_validation_investors_funding_coparticipants_total_average_number',\n",
       " 'confidence_validation_investors_funding_coparticipants_total_max_number',\n",
       " 'confidence_validation_investors_funding_coparticipants_total_sum_number',\n",
       " 'confidence_validation_investors_funding_raised_average_average_number',\n",
       " 'confidence_validation_investors_funding_raised_average_max_number',\n",
       " 'confidence_validation_investors_funding_raised_average_sum_number',\n",
       " 'confidence_validation_investors_funding_raised_total_average_number',\n",
       " 'confidence_validation_investors_funding_raised_total_max_number',\n",
       " 'confidence_validation_investors_funding_raised_total_sum_number',\n",
       " 'keys_company_age',\n",
       " 'keys_company_name_id',\n",
       " 'keys_company_stage',\n",
       " 'keys_company_stage_acquired',\n",
       " 'keys_company_stage_closed',\n",
       " 'keys_company_stage_group',\n",
       " 'keys_company_stage_ipo',\n",
       " 'keys_company_stage_mature',\n",
       " 'keys_company_stage_new',\n",
       " 'keys_company_stage_none',\n",
       " 'keys_company_stage_other',\n",
       " 'keys_company_stage_pre-seed',\n",
       " 'keys_company_stage_seed',\n",
       " 'keys_company_stage_series-a',\n",
       " 'keys_company_stage_series-b',\n",
       " 'keys_company_stage_series-c',\n",
       " 'keys_company_stage_series-d+',\n",
       " 'keys_company_stage_unknown',\n",
       " 'keys_company_status_acquired_bool',\n",
       " 'keys_company_status_closed_bool',\n",
       " 'keys_company_status_ipo_bool',\n",
       " 'keys_company_status_operating_bool',\n",
       " 'potential_human_advisors_all_total_number',\n",
       " 'potential_human_advisors_companies_acquisitions_advisor_average_number',\n",
       " 'potential_human_advisors_companies_acquisitions_advisor_total_number',\n",
       " 'potential_human_advisors_companies_acquisitions_all_average_number',\n",
       " 'potential_human_advisors_companies_acquisitions_all_total_number',\n",
       " 'potential_human_advisors_companies_acquisitions_executive_average_number',\n",
       " 'potential_human_advisors_companies_acquisitions_executive_total_number',\n",
       " 'potential_human_advisors_companies_acquisitions_founder_average_number',\n",
       " 'potential_human_advisors_companies_acquisitions_founder_total_number',\n",
       " 'potential_human_advisors_companies_closed_advisor_average_number',\n",
       " 'potential_human_advisors_companies_closed_advisor_total_number',\n",
       " 'potential_human_advisors_companies_closed_all_average_number',\n",
       " 'potential_human_advisors_companies_closed_all_total_number',\n",
       " 'potential_human_advisors_companies_closed_executive_average_number',\n",
       " 'potential_human_advisors_companies_closed_executive_total_number',\n",
       " 'potential_human_advisors_companies_closed_founder_average_number',\n",
       " 'potential_human_advisors_companies_closed_founder_total_number',\n",
       " 'potential_human_advisors_companies_exits_advisor_average_number',\n",
       " 'potential_human_advisors_companies_exits_advisor_total_number',\n",
       " 'potential_human_advisors_companies_exits_all_average_number',\n",
       " 'potential_human_advisors_companies_exits_all_total_number',\n",
       " 'potential_human_advisors_companies_exits_executive_average_number',\n",
       " 'potential_human_advisors_companies_exits_executive_total_number',\n",
       " 'potential_human_advisors_companies_exits_founder_average_number',\n",
       " 'potential_human_advisors_companies_exits_founder_total_number',\n",
       " 'potential_human_advisors_companies_ipo_advisor_average_number',\n",
       " 'potential_human_advisors_companies_ipo_advisor_total_number',\n",
       " 'potential_human_advisors_companies_ipo_all_average_number',\n",
       " 'potential_human_advisors_companies_ipo_all_total_number',\n",
       " 'potential_human_advisors_companies_ipo_executive_average_number',\n",
       " 'potential_human_advisors_companies_ipo_executive_total_number',\n",
       " 'potential_human_advisors_companies_ipo_founder_average_number',\n",
       " 'potential_human_advisors_companies_ipo_founder_total_number',\n",
       " 'potential_human_advisors_companies_operating_advisor_average_number',\n",
       " 'potential_human_advisors_companies_operating_advisor_total_number',\n",
       " 'potential_human_advisors_companies_operating_all_average_number',\n",
       " 'potential_human_advisors_companies_operating_all_total_number',\n",
       " 'potential_human_advisors_companies_operating_executive_average_number',\n",
       " 'potential_human_advisors_companies_operating_executive_total_number',\n",
       " 'potential_human_advisors_companies_operating_founder_average_number',\n",
       " 'potential_human_advisors_companies_operating_founder_total_number',\n",
       " 'potential_human_advisors_female_average_number',\n",
       " 'potential_human_advisors_female_total_number',\n",
       " 'potential_human_advisors_jobs_advisor_average_duration',\n",
       " 'potential_human_advisors_jobs_advisor_average_number',\n",
       " 'potential_human_advisors_jobs_advisor_total_duration',\n",
       " 'potential_human_advisors_jobs_advisor_total_number',\n",
       " 'potential_human_advisors_jobs_all_average_duration',\n",
       " 'potential_human_advisors_jobs_all_average_number',\n",
       " 'potential_human_advisors_jobs_all_total_duration',\n",
       " 'potential_human_advisors_jobs_all_total_number',\n",
       " 'potential_human_advisors_jobs_current_average_duration',\n",
       " 'potential_human_advisors_jobs_current_average_number',\n",
       " 'potential_human_advisors_jobs_current_total_duration',\n",
       " 'potential_human_advisors_jobs_current_total_number',\n",
       " 'potential_human_advisors_jobs_executive_average_duration',\n",
       " 'potential_human_advisors_jobs_executive_average_number',\n",
       " 'potential_human_advisors_jobs_executive_total_duration',\n",
       " 'potential_human_advisors_jobs_executive_total_number',\n",
       " 'potential_human_advisors_jobs_founder_average_duration',\n",
       " 'potential_human_advisors_jobs_founder_average_number',\n",
       " 'potential_human_advisors_jobs_founder_total_duration',\n",
       " 'potential_human_advisors_jobs_founder_total_number',\n",
       " 'potential_human_advisors_jobs_past_average_duration',\n",
       " 'potential_human_advisors_jobs_past_average_number',\n",
       " 'potential_human_advisors_jobs_past_total_duration',\n",
       " 'potential_human_advisors_jobs_past_total_number',\n",
       " 'potential_human_advisors_male_total_number',\n",
       " 'potential_human_executives_all_total_number',\n",
       " 'potential_human_executives_companies_acquisitions_advisor_average_number',\n",
       " 'potential_human_executives_companies_acquisitions_advisor_total_number',\n",
       " 'potential_human_executives_companies_acquisitions_all_average_number',\n",
       " 'potential_human_executives_companies_acquisitions_all_total_number',\n",
       " 'potential_human_executives_companies_acquisitions_executive_average_number',\n",
       " 'potential_human_executives_companies_acquisitions_executive_total_number',\n",
       " 'potential_human_executives_companies_acquisitions_founder_average_number',\n",
       " 'potential_human_executives_companies_acquisitions_founder_total_number',\n",
       " 'potential_human_executives_companies_closed_advisor_average_number',\n",
       " 'potential_human_executives_companies_closed_advisor_total_number',\n",
       " 'potential_human_executives_companies_closed_all_average_number',\n",
       " 'potential_human_executives_companies_closed_all_total_number',\n",
       " 'potential_human_executives_companies_closed_executive_average_number',\n",
       " 'potential_human_executives_companies_closed_executive_total_number',\n",
       " 'potential_human_executives_companies_closed_founder_average_number',\n",
       " 'potential_human_executives_companies_closed_founder_total_number',\n",
       " 'potential_human_executives_companies_exits_advisor_average_number',\n",
       " 'potential_human_executives_companies_exits_advisor_total_number',\n",
       " 'potential_human_executives_companies_exits_all_average_number',\n",
       " 'potential_human_executives_companies_exits_all_total_number',\n",
       " 'potential_human_executives_companies_exits_executive_average_number',\n",
       " 'potential_human_executives_companies_exits_executive_total_number',\n",
       " 'potential_human_executives_companies_exits_founder_average_number',\n",
       " 'potential_human_executives_companies_exits_founder_total_number',\n",
       " 'potential_human_executives_companies_ipo_advisor_average_number',\n",
       " 'potential_human_executives_companies_ipo_advisor_total_number',\n",
       " 'potential_human_executives_companies_ipo_all_average_number',\n",
       " 'potential_human_executives_companies_ipo_all_total_number',\n",
       " 'potential_human_executives_companies_ipo_executive_average_number',\n",
       " 'potential_human_executives_companies_ipo_executive_total_number',\n",
       " 'potential_human_executives_companies_ipo_founder_average_number',\n",
       " 'potential_human_executives_companies_ipo_founder_total_number',\n",
       " 'potential_human_executives_companies_operating_advisor_average_number',\n",
       " 'potential_human_executives_companies_operating_advisor_total_number',\n",
       " 'potential_human_executives_companies_operating_all_average_number',\n",
       " 'potential_human_executives_companies_operating_all_total_number',\n",
       " 'potential_human_executives_companies_operating_executive_average_number',\n",
       " 'potential_human_executives_companies_operating_executive_total_number',\n",
       " 'potential_human_executives_companies_operating_founder_average_number',\n",
       " 'potential_human_executives_companies_operating_founder_total_number',\n",
       " 'potential_human_executives_female_average_number',\n",
       " 'potential_human_executives_female_total_number',\n",
       " 'potential_human_executives_jobs_advisor_average_duration',\n",
       " 'potential_human_executives_jobs_advisor_average_number',\n",
       " 'potential_human_executives_jobs_advisor_total_duration',\n",
       " 'potential_human_executives_jobs_advisor_total_number',\n",
       " 'potential_human_executives_jobs_all_average_duration',\n",
       " 'potential_human_executives_jobs_all_average_number',\n",
       " 'potential_human_executives_jobs_all_total_duration',\n",
       " 'potential_human_executives_jobs_all_total_number',\n",
       " 'potential_human_executives_jobs_current_average_duration',\n",
       " 'potential_human_executives_jobs_current_average_number',\n",
       " 'potential_human_executives_jobs_current_total_duration',\n",
       " 'potential_human_executives_jobs_current_total_number',\n",
       " 'potential_human_executives_jobs_executive_average_duration',\n",
       " 'potential_human_executives_jobs_executive_average_number',\n",
       " 'potential_human_executives_jobs_executive_total_duration',\n",
       " 'potential_human_executives_jobs_executive_total_number',\n",
       " 'potential_human_executives_jobs_founder_average_duration',\n",
       " 'potential_human_executives_jobs_founder_average_number',\n",
       " 'potential_human_executives_jobs_founder_total_duration',\n",
       " 'potential_human_executives_jobs_founder_total_number',\n",
       " 'potential_human_executives_jobs_past_average_duration',\n",
       " 'potential_human_executives_jobs_past_average_number',\n",
       " 'potential_human_executives_jobs_past_total_duration',\n",
       " 'potential_human_executives_jobs_past_total_number',\n",
       " 'potential_human_executives_male_total_number',\n",
       " 'potential_human_founders_all_total_number',\n",
       " 'potential_human_founders_companies_acquisitions_advisor_average_number',\n",
       " 'potential_human_founders_companies_acquisitions_advisor_total_number',\n",
       " 'potential_human_founders_companies_acquisitions_all_average_number',\n",
       " 'potential_human_founders_companies_acquisitions_all_total_number',\n",
       " 'potential_human_founders_companies_acquisitions_executive_average_number',\n",
       " 'potential_human_founders_companies_acquisitions_executive_total_number',\n",
       " 'potential_human_founders_companies_acquisitions_founder_average_number',\n",
       " 'potential_human_founders_companies_acquisitions_founder_total_number',\n",
       " 'potential_human_founders_companies_closed_advisor_average_number',\n",
       " 'potential_human_founders_companies_closed_advisor_total_number',\n",
       " 'potential_human_founders_companies_closed_all_average_number',\n",
       " 'potential_human_founders_companies_closed_all_total_number',\n",
       " 'potential_human_founders_companies_closed_executive_average_number',\n",
       " 'potential_human_founders_companies_closed_executive_total_number',\n",
       " 'potential_human_founders_companies_closed_founder_average_number',\n",
       " 'potential_human_founders_companies_closed_founder_total_number',\n",
       " 'potential_human_founders_companies_exits_advisor_average_number',\n",
       " 'potential_human_founders_companies_exits_advisor_total_number',\n",
       " 'potential_human_founders_companies_exits_all_average_number',\n",
       " 'potential_human_founders_companies_exits_all_total_number',\n",
       " 'potential_human_founders_companies_exits_executive_average_number',\n",
       " 'potential_human_founders_companies_exits_executive_total_number',\n",
       " 'potential_human_founders_companies_exits_founder_average_number',\n",
       " 'potential_human_founders_companies_exits_founder_total_number',\n",
       " 'potential_human_founders_companies_ipo_advisor_average_number',\n",
       " 'potential_human_founders_companies_ipo_advisor_total_number',\n",
       " 'potential_human_founders_companies_ipo_all_average_number',\n",
       " 'potential_human_founders_companies_ipo_all_total_number',\n",
       " 'potential_human_founders_companies_ipo_executive_average_number',\n",
       " 'potential_human_founders_companies_ipo_executive_total_number',\n",
       " 'potential_human_founders_companies_ipo_founder_average_number',\n",
       " 'potential_human_founders_companies_ipo_founder_total_number',\n",
       " 'potential_human_founders_companies_operating_advisor_average_number',\n",
       " 'potential_human_founders_companies_operating_advisor_total_number',\n",
       " 'potential_human_founders_companies_operating_all_average_number',\n",
       " 'potential_human_founders_companies_operating_all_total_number',\n",
       " 'potential_human_founders_companies_operating_executive_average_number',\n",
       " 'potential_human_founders_companies_operating_executive_total_number',\n",
       " 'potential_human_founders_companies_operating_founder_average_number',\n",
       " 'potential_human_founders_companies_operating_founder_total_number',\n",
       " 'potential_human_founders_female_average_number',\n",
       " 'potential_human_founders_female_total_number',\n",
       " 'potential_human_founders_jobs_advisor_average_duration',\n",
       " 'potential_human_founders_jobs_advisor_average_number',\n",
       " 'potential_human_founders_jobs_advisor_total_duration',\n",
       " 'potential_human_founders_jobs_advisor_total_number',\n",
       " 'potential_human_founders_jobs_all_average_duration',\n",
       " 'potential_human_founders_jobs_all_average_number',\n",
       " 'potential_human_founders_jobs_all_total_duration',\n",
       " 'potential_human_founders_jobs_all_total_number',\n",
       " 'potential_human_founders_jobs_current_average_duration',\n",
       " 'potential_human_founders_jobs_current_average_number',\n",
       " 'potential_human_founders_jobs_current_total_duration',\n",
       " 'potential_human_founders_jobs_current_total_number',\n",
       " 'potential_human_founders_jobs_executive_average_duration',\n",
       " 'potential_human_founders_jobs_executive_average_number',\n",
       " 'potential_human_founders_jobs_executive_total_duration',\n",
       " 'potential_human_founders_jobs_executive_total_number',\n",
       " 'potential_human_founders_jobs_founder_average_duration',\n",
       " 'potential_human_founders_jobs_founder_average_number',\n",
       " 'potential_human_founders_jobs_founder_total_duration',\n",
       " 'potential_human_founders_jobs_founder_total_number',\n",
       " 'potential_human_founders_jobs_past_average_duration',\n",
       " 'potential_human_founders_jobs_past_average_number',\n",
       " 'potential_human_founders_jobs_past_total_duration',\n",
       " 'potential_human_founders_jobs_past_total_number',\n",
       " 'potential_human_founders_male_total_number',\n",
       " 'potential_social_influence_events_count_total_number',\n",
       " 'potential_social_influence_events_size_average_number',\n",
       " 'potential_social_influence_events_size_total_number']"
      ]
     },
     "execution_count": 7,
     "metadata": {},
     "output_type": "execute_result"
    }
   ],
   "source": [
    "sorted(list(df))"
   ]
  },
  {
   "cell_type": "code",
   "execution_count": 8,
   "metadata": {
    "collapsed": false,
    "deletable": true,
    "editable": true
   },
   "outputs": [
    {
     "data": {
      "text/plain": [
       "['confidence_context_broader_closed_date',\n",
       " 'confidence_context_broader_founded_date',\n",
       " 'confidence_context_broader_last_updated_date',\n",
       " 'confidence_validation_funding_first_date',\n",
       " 'confidence_validation_funding_last_date']"
      ]
     },
     "execution_count": 8,
     "metadata": {},
     "output_type": "execute_result"
    }
   ],
   "source": [
    "sorted([x for x in list(df) if x.endswith(\"date\")])"
   ]
  },
  {
   "cell_type": "code",
   "execution_count": 9,
   "metadata": {
    "collapsed": false,
    "deletable": true,
    "editable": true
   },
   "outputs": [
    {
     "data": {
      "text/plain": [
       "243"
      ]
     },
     "execution_count": 9,
     "metadata": {},
     "output_type": "execute_result"
    }
   ],
   "source": [
    "len(sorted([x for x in list(df) if x.endswith(\"number\")]))"
   ]
  },
  {
   "cell_type": "code",
   "execution_count": 10,
   "metadata": {
    "collapsed": false,
    "deletable": true,
    "editable": true
   },
   "outputs": [
    {
     "data": {
      "text/plain": [
       "None            3297\n",
       "New             3198\n",
       "Mature          1313\n",
       "Seed             589\n",
       "Pre-Seed         220\n",
       "Series A         199\n",
       "Acquired         192\n",
       "Series B         103\n",
       "Other             97\n",
       "Series D+/PE      67\n",
       "Closed            57\n",
       "IPO               54\n",
       "Series C          51\n",
       "Name: keys_company_stage, dtype: int64"
      ]
     },
     "execution_count": 10,
     "metadata": {},
     "output_type": "execute_result"
    }
   ],
   "source": [
    "df[\"keys_company_stage\"].value_counts()"
   ]
  },
  {
   "cell_type": "markdown",
   "metadata": {
    "deletable": true,
    "editable": true
   },
   "source": [
    "## 4.1 Data Collection"
   ]
  },
  {
   "cell_type": "markdown",
   "metadata": {
    "deletable": true,
    "editable": true
   },
   "source": [
    "Table 4.1 Companies grouped by lifecycle stage."
   ]
  },
  {
   "cell_type": "code",
   "execution_count": 11,
   "metadata": {
    "collapsed": false,
    "deletable": true,
    "editable": true
   },
   "outputs": [
    {
     "name": "stderr",
     "output_type": "stream",
     "text": [
      "C:\\Anaconda3\\lib\\site-packages\\numpy\\lib\\nanfunctions.py:1001: RuntimeWarning: All-NaN slice encountered\n",
      "  warnings.warn(\"All-NaN slice encountered\", RuntimeWarning)\n"
     ]
    },
    {
     "data": {
      "text/html": [
       "<div>\n",
       "<table border=\"1\" class=\"dataframe\">\n",
       "  <thead>\n",
       "    <tr>\n",
       "      <th></th>\n",
       "      <th></th>\n",
       "      <th>Obs</th>\n",
       "      <th colspan=\"2\" halign=\"left\">Age (Years)</th>\n",
       "      <th colspan=\"2\" halign=\"left\">Funding Raised (USD, millions)</th>\n",
       "      <th colspan=\"2\" halign=\"left\">Funding Rounds (N)</th>\n",
       "    </tr>\n",
       "    <tr>\n",
       "      <th></th>\n",
       "      <th></th>\n",
       "      <th>N</th>\n",
       "      <th>Median</th>\n",
       "      <th>IQR</th>\n",
       "      <th>Median</th>\n",
       "      <th>IQR</th>\n",
       "      <th>Median</th>\n",
       "      <th>IQR</th>\n",
       "    </tr>\n",
       "    <tr>\n",
       "      <th>keys_company_stage_group</th>\n",
       "      <th>keys_company_stage</th>\n",
       "      <th></th>\n",
       "      <th></th>\n",
       "      <th></th>\n",
       "      <th></th>\n",
       "      <th></th>\n",
       "      <th></th>\n",
       "      <th></th>\n",
       "    </tr>\n",
       "  </thead>\n",
       "  <tbody>\n",
       "    <tr>\n",
       "      <th rowspan=\"7\" valign=\"top\">Core</th>\n",
       "      <th>New</th>\n",
       "      <td>3198</td>\n",
       "      <td>4.690</td>\n",
       "      <td>4.677</td>\n",
       "      <td>0.000</td>\n",
       "      <td>0.000</td>\n",
       "      <td>0.0</td>\n",
       "      <td>0.0</td>\n",
       "    </tr>\n",
       "    <tr>\n",
       "      <th>Pre-Seed</th>\n",
       "      <td>220</td>\n",
       "      <td>4.621</td>\n",
       "      <td>3.958</td>\n",
       "      <td>0.044</td>\n",
       "      <td>0.573</td>\n",
       "      <td>1.0</td>\n",
       "      <td>0.0</td>\n",
       "    </tr>\n",
       "    <tr>\n",
       "      <th>Seed</th>\n",
       "      <td>589</td>\n",
       "      <td>3.688</td>\n",
       "      <td>3.162</td>\n",
       "      <td>0.182</td>\n",
       "      <td>0.983</td>\n",
       "      <td>1.0</td>\n",
       "      <td>1.0</td>\n",
       "    </tr>\n",
       "    <tr>\n",
       "      <th>Series A</th>\n",
       "      <td>199</td>\n",
       "      <td>5.689</td>\n",
       "      <td>6.001</td>\n",
       "      <td>4.750</td>\n",
       "      <td>8.169</td>\n",
       "      <td>1.0</td>\n",
       "      <td>1.0</td>\n",
       "    </tr>\n",
       "    <tr>\n",
       "      <th>Series B</th>\n",
       "      <td>103</td>\n",
       "      <td>8.690</td>\n",
       "      <td>8.418</td>\n",
       "      <td>14.876</td>\n",
       "      <td>18.485</td>\n",
       "      <td>2.0</td>\n",
       "      <td>1.0</td>\n",
       "    </tr>\n",
       "    <tr>\n",
       "      <th>Series C</th>\n",
       "      <td>51</td>\n",
       "      <td>9.361</td>\n",
       "      <td>7.162</td>\n",
       "      <td>32.100</td>\n",
       "      <td>30.256</td>\n",
       "      <td>3.0</td>\n",
       "      <td>2.5</td>\n",
       "    </tr>\n",
       "    <tr>\n",
       "      <th>Series D+/PE</th>\n",
       "      <td>67</td>\n",
       "      <td>11.441</td>\n",
       "      <td>8.000</td>\n",
       "      <td>37.400</td>\n",
       "      <td>103.024</td>\n",
       "      <td>3.0</td>\n",
       "      <td>4.0</td>\n",
       "    </tr>\n",
       "    <tr>\n",
       "      <th rowspan=\"3\" valign=\"top\">Other</th>\n",
       "      <th>Closed</th>\n",
       "      <td>57</td>\n",
       "      <td>7.673</td>\n",
       "      <td>4.145</td>\n",
       "      <td>0.500</td>\n",
       "      <td>4.776</td>\n",
       "      <td>1.0</td>\n",
       "      <td>1.0</td>\n",
       "    </tr>\n",
       "    <tr>\n",
       "      <th>Acquired</th>\n",
       "      <td>192</td>\n",
       "      <td>11.688</td>\n",
       "      <td>10.624</td>\n",
       "      <td>5.797</td>\n",
       "      <td>19.491</td>\n",
       "      <td>2.0</td>\n",
       "      <td>2.0</td>\n",
       "    </tr>\n",
       "    <tr>\n",
       "      <th>IPO</th>\n",
       "      <td>54</td>\n",
       "      <td>16.690</td>\n",
       "      <td>13.050</td>\n",
       "      <td>40.000</td>\n",
       "      <td>103.368</td>\n",
       "      <td>2.0</td>\n",
       "      <td>3.0</td>\n",
       "    </tr>\n",
       "    <tr>\n",
       "      <th rowspan=\"3\" valign=\"top\">Excluded</th>\n",
       "      <th>None</th>\n",
       "      <td>3297</td>\n",
       "      <td>NaN</td>\n",
       "      <td>NaN</td>\n",
       "      <td>0.000</td>\n",
       "      <td>0.000</td>\n",
       "      <td>0.0</td>\n",
       "      <td>0.0</td>\n",
       "    </tr>\n",
       "    <tr>\n",
       "      <th>Other</th>\n",
       "      <td>97</td>\n",
       "      <td>NaN</td>\n",
       "      <td>NaN</td>\n",
       "      <td>0.843</td>\n",
       "      <td>10.000</td>\n",
       "      <td>1.0</td>\n",
       "      <td>0.0</td>\n",
       "    </tr>\n",
       "    <tr>\n",
       "      <th>Mature</th>\n",
       "      <td>1313</td>\n",
       "      <td>20.690</td>\n",
       "      <td>17.002</td>\n",
       "      <td>0.000</td>\n",
       "      <td>0.000</td>\n",
       "      <td>0.0</td>\n",
       "      <td>0.0</td>\n",
       "    </tr>\n",
       "  </tbody>\n",
       "</table>\n",
       "</div>"
      ],
      "text/plain": [
       "                                              Obs Age (Years)          \\\n",
       "                                                N      Median     IQR   \n",
       "keys_company_stage_group keys_company_stage                             \n",
       "Core                     New                 3198       4.690   4.677   \n",
       "                         Pre-Seed             220       4.621   3.958   \n",
       "                         Seed                 589       3.688   3.162   \n",
       "                         Series A             199       5.689   6.001   \n",
       "                         Series B             103       8.690   8.418   \n",
       "                         Series C              51       9.361   7.162   \n",
       "                         Series D+/PE          67      11.441   8.000   \n",
       "Other                    Closed                57       7.673   4.145   \n",
       "                         Acquired             192      11.688  10.624   \n",
       "                         IPO                   54      16.690  13.050   \n",
       "Excluded                 None                3297         NaN     NaN   \n",
       "                         Other                 97         NaN     NaN   \n",
       "                         Mature              1313      20.690  17.002   \n",
       "\n",
       "                                            Funding Raised (USD, millions)  \\\n",
       "                                                                    Median   \n",
       "keys_company_stage_group keys_company_stage                                  \n",
       "Core                     New                                         0.000   \n",
       "                         Pre-Seed                                    0.044   \n",
       "                         Seed                                        0.182   \n",
       "                         Series A                                    4.750   \n",
       "                         Series B                                   14.876   \n",
       "                         Series C                                   32.100   \n",
       "                         Series D+/PE                               37.400   \n",
       "Other                    Closed                                      0.500   \n",
       "                         Acquired                                    5.797   \n",
       "                         IPO                                        40.000   \n",
       "Excluded                 None                                        0.000   \n",
       "                         Other                                       0.843   \n",
       "                         Mature                                      0.000   \n",
       "\n",
       "                                                     Funding Rounds (N)       \n",
       "                                                 IQR             Median  IQR  \n",
       "keys_company_stage_group keys_company_stage                                   \n",
       "Core                     New                   0.000                0.0  0.0  \n",
       "                         Pre-Seed              0.573                1.0  0.0  \n",
       "                         Seed                  0.983                1.0  1.0  \n",
       "                         Series A              8.169                1.0  1.0  \n",
       "                         Series B             18.485                2.0  1.0  \n",
       "                         Series C             30.256                3.0  2.5  \n",
       "                         Series D+/PE        103.024                3.0  4.0  \n",
       "Other                    Closed                4.776                1.0  1.0  \n",
       "                         Acquired             19.491                2.0  2.0  \n",
       "                         IPO                 103.368                2.0  3.0  \n",
       "Excluded                 None                  0.000                0.0  0.0  \n",
       "                         Other                10.000                1.0  0.0  \n",
       "                         Mature                0.000                0.0  0.0  "
      ]
     },
     "execution_count": 11,
     "metadata": {},
     "output_type": "execute_result"
    }
   ],
   "source": [
    "groups = [df[\"keys_company_stage_group\"], df[\"keys_company_stage\"]]\n",
    "columns = [\"keys_company_stage\", \"keys_company_age\", \"confidence_validation_funding_raised_value_total_number\", \"confidence_validation_funding_rounds_number\"]\n",
    "colnames = [\"Obs\", \"Age (Years)\", \"Funding Raised (USD, millions)\", \"Funding Rounds (N)\"]\n",
    "colfuncs = [{\"N\":len}, \n",
    "    OrderedDict([(\"Median\", np.median),(\"IQR\", lambda x: stats.iqr(x,nan_policy=\"omit\"))]), \n",
    "    OrderedDict([(\"Median\", lambda x: np.median(x) / 1e6), (\"IQR\", lambda x: stats.iqr(x,nan_policy=\"omit\") / 1e6)]), \n",
    "    OrderedDict([(\"Median\", np.median), (\"IQR\", lambda x: stats.iqr(x,nan_policy=\"omit\"))])]\n",
    "\n",
    "namefunc = OrderedDict(zip(columns, colnames))\n",
    "aggfunc = OrderedDict(zip(columns, colfuncs))\n",
    "\n",
    "tab = df[columns].groupby(groups)\n",
    "tab = tab.agg(aggfunc)\n",
    "tab = tab.rename(columns=namefunc)\n",
    "tab = tab.reindex(order_0, level=0)\n",
    "tab = tab.reindex(order_1, level=1)\n",
    "tab"
   ]
  },
  {
   "cell_type": "markdown",
   "metadata": {
    "deletable": true,
    "editable": true
   },
   "source": [
    "Figure 4.1 Distribution of company ages by lifecycle stage (Box plot)."
   ]
  },
  {
   "cell_type": "code",
   "execution_count": 12,
   "metadata": {
    "collapsed": false,
    "deletable": true,
    "editable": true
   },
   "outputs": [
    {
     "data": {
      "text/plain": [
       "<matplotlib.axes._subplots.AxesSubplot at 0x2dc9bcf50b8>"
      ]
     },
     "execution_count": 12,
     "metadata": {},
     "output_type": "execute_result"
    },
    {
     "data": {
      "image/png": "[encoded data removed]",
      "text/plain": [
       "<matplotlib.figure.Figure at 0x2dc847138d0>"
      ]
     },
     "metadata": {},
     "output_type": "display_data"
    }
   ],
   "source": [
    "data = df.loc[df[\"keys_company_stage_group\"] != \"Excluded\"]\n",
    "order = [\"New\", \"Pre-Seed\", \"Seed\", \"Series A\", \"Series B\", \"Series C\", \"Series D+/PE\", \"Closed\", \"Acquired\", \"IPO\"]\n",
    "f, ax = plt.subplots(figsize=(7, 7))\n",
    "ax.set_xlim(xmax=30)\n",
    "sns.boxplot(x=\"keys_company_age\", y=\"keys_company_stage\",order=order,data=data, fliersize=0, ax=ax)"
   ]
  },
  {
   "cell_type": "markdown",
   "metadata": {
    "deletable": true,
    "editable": true
   },
   "source": [
    "## 4.2 Feature Extraction"
   ]
  },
  {
   "cell_type": "code",
   "execution_count": 14,
   "metadata": {
    "collapsed": false,
    "deletable": true,
    "editable": true
   },
   "outputs": [],
   "source": [
    "from sklearn.preprocessing import FunctionTransformer\n",
    "\n",
    "#create features\n",
    "drops = [col for col in list(df) if col.startswith((\"key\",\"from\",\"outcome\",\"index\"))]\n",
    "X = df.drop(drops, axis=1)\n",
    "X = X.select_dtypes(include=[np.number])\n",
    "features = list(X)\n",
    "\n",
    "#transform features\n",
    "tlog = FunctionTransformer(np.log1p)\n",
    "features_num = [col for col in features if col.endswith(\"number\")]\n",
    "X_num = df[features_num]\n",
    "X_log = pd.DataFrame(tlog.transform(X_num), index=X_num.index, columns=X_num.columns)\n",
    "X_log = X_log.add_suffix(\"_log\")\n",
    "df = pd.concat([df, X_log], axis=1)\n",
    "features += list(X_log)\n",
    "\n",
    "#make constraints\n",
    "df = df.loc[df['keys_company_stage_group'] == \"Core\"]\n",
    "\n",
    "#update X and y\n",
    "X = df[features]"
   ]
  },
  {
   "cell_type": "markdown",
   "metadata": {
    "deletable": true,
    "editable": true
   },
   "source": [
    "### 4.2.1 Missing Values"
   ]
  },
  {
   "cell_type": "markdown",
   "metadata": {
    "deletable": true,
    "editable": true
   },
   "source": [
    "Figure 4.2 Missing features per observation (histogram)."
   ]
  },
  {
   "cell_type": "code",
   "execution_count": 15,
   "metadata": {
    "collapsed": false,
    "deletable": true,
    "editable": true
   },
   "outputs": [
    {
     "name": "stderr",
     "output_type": "stream",
     "text": [
      "C:\\Anaconda3\\lib\\site-packages\\statsmodels\\nonparametric\\kdetools.py:20: VisibleDeprecationWarning: using a non-integer number instead of an integer will result in an error in the future\n",
      "  y = X[:m/2+1] + np.r_[0,X[m/2+1:],0]*1j\n"
     ]
    },
    {
     "data": {
      "text/plain": [
       "[(0, 250.0)]"
      ]
     },
     "execution_count": 15,
     "metadata": {},
     "output_type": "execute_result"
    },
    {
     "data": {
      "image/png": "[encoded data removed]",
      "text/plain": [
       "<matplotlib.figure.Figure at 0x20a0e23f7f0>"
      ]
     },
     "metadata": {},
     "output_type": "display_data"
    }
   ],
   "source": [
    "missing_by_row = X.isnull().sum(axis=1)\n",
    "g = sns.distplot(missing_by_row)\n",
    "g.set(xlim = (0,None))"
   ]
  },
  {
   "cell_type": "markdown",
   "metadata": {
    "deletable": true,
    "editable": true
   },
   "source": [
    "Figure 4.3 Missing observations per feature (histogram)."
   ]
  },
  {
   "cell_type": "code",
   "execution_count": 16,
   "metadata": {
    "collapsed": false,
    "deletable": true,
    "editable": true
   },
   "outputs": [
    {
     "name": "stderr",
     "output_type": "stream",
     "text": [
      "C:\\Anaconda3\\lib\\site-packages\\statsmodels\\nonparametric\\kdetools.py:20: VisibleDeprecationWarning: using a non-integer number instead of an integer will result in an error in the future\n",
      "  y = X[:m/2+1] + np.r_[0,X[m/2+1:],0]*1j\n"
     ]
    },
    {
     "data": {
      "text/plain": [
       "[(0, 4500.0)]"
      ]
     },
     "execution_count": 16,
     "metadata": {},
     "output_type": "execute_result"
    },
    {
     "data": {
      "image/png": "[encoded data removed]",
      "text/plain": [
       "<matplotlib.figure.Figure at 0x20a0e23fe48>"
      ]
     },
     "metadata": {},
     "output_type": "display_data"
    }
   ],
   "source": [
    "missing_by_col =  X.isnull().sum(axis=0)\n",
    "g = sns.distplot(missing_by_col)\n",
    "g.set(xlim = (0,None))"
   ]
  },
  {
   "cell_type": "markdown",
   "metadata": {
    "deletable": true,
    "editable": true
   },
   "source": [
    "### 4.2.2 Feature Components"
   ]
  },
  {
   "cell_type": "code",
   "execution_count": 18,
   "metadata": {
    "collapsed": false,
    "deletable": true,
    "editable": true
   },
   "outputs": [
    {
     "name": "stderr",
     "output_type": "stream",
     "text": [
      "C:\\Anaconda3\\lib\\site-packages\\ipykernel\\__main__.py:12: SettingWithCopyWarning: \n",
      "A value is trying to be set on a copy of a slice from a DataFrame\n",
      "\n",
      "See the caveats in the documentation: http://pandas.pydata.org/pandas-docs/stable/indexing.html#indexing-view-versus-copy\n",
      "C:\\Anaconda3\\lib\\site-packages\\sklearn\\preprocessing\\data.py:160: UserWarning: Numerical issues were encountered when centering the data and might not be solved. Dataset may contain too large values. You may need to prescale your features.\n",
      "  warnings.warn(\"Numerical issues were encountered \"\n"
     ]
    },
    {
     "ename": "ValueError",
     "evalue": "('cannot reindex from a duplicate axis', 'occurred at index 294917')",
     "output_type": "error",
     "traceback": [
      "\u001b[1;31m---------------------------------------------------------------------------\u001b[0m",
      "\u001b[1;31mValueError\u001b[0m                                Traceback (most recent call last)",
      "\u001b[1;32m<ipython-input-18-35ebb4db9ce1>\u001b[0m in \u001b[0;36m<module>\u001b[1;34m()\u001b[0m\n\u001b[0;32m     14\u001b[0m \u001b[0mX_imp\u001b[0m \u001b[1;33m=\u001b[0m \u001b[0mpd\u001b[0m\u001b[1;33m.\u001b[0m\u001b[0mDataFrame\u001b[0m\u001b[1;33m(\u001b[0m\u001b[0mimp\u001b[0m\u001b[1;33m.\u001b[0m\u001b[0mfit_transform\u001b[0m\u001b[1;33m(\u001b[0m\u001b[0mX\u001b[0m\u001b[1;33m)\u001b[0m\u001b[1;33m,\u001b[0m \u001b[0mindex\u001b[0m\u001b[1;33m=\u001b[0m\u001b[0mX\u001b[0m\u001b[1;33m.\u001b[0m\u001b[0mindex\u001b[0m\u001b[1;33m,\u001b[0m \u001b[0mcolumns\u001b[0m\u001b[1;33m=\u001b[0m\u001b[0mX\u001b[0m\u001b[1;33m.\u001b[0m\u001b[0mcolumns\u001b[0m\u001b[1;33m)\u001b[0m\u001b[1;33m\u001b[0m\u001b[0m\n\u001b[0;32m     15\u001b[0m \u001b[0mX_std\u001b[0m \u001b[1;33m=\u001b[0m \u001b[0mpd\u001b[0m\u001b[1;33m.\u001b[0m\u001b[0mDataFrame\u001b[0m\u001b[1;33m(\u001b[0m\u001b[0mscale\u001b[0m\u001b[1;33m(\u001b[0m\u001b[0mX_imp\u001b[0m\u001b[1;33m)\u001b[0m\u001b[1;33m,\u001b[0m \u001b[0mindex\u001b[0m\u001b[1;33m=\u001b[0m\u001b[0mX_imp\u001b[0m\u001b[1;33m.\u001b[0m\u001b[0mindex\u001b[0m\u001b[1;33m,\u001b[0m \u001b[0mcolumns\u001b[0m\u001b[1;33m=\u001b[0m\u001b[0mX_imp\u001b[0m\u001b[1;33m.\u001b[0m\u001b[0mcolumns\u001b[0m\u001b[1;33m)\u001b[0m\u001b[1;33m\u001b[0m\u001b[0m\n\u001b[1;32m---> 16\u001b[1;33m \u001b[0mX_grp\u001b[0m \u001b[1;33m=\u001b[0m \u001b[0mX_std\u001b[0m\u001b[1;33m.\u001b[0m\u001b[0mapply\u001b[0m\u001b[1;33m(\u001b[0m\u001b[1;32mlambda\u001b[0m \u001b[0mrow\u001b[0m\u001b[1;33m:\u001b[0m \u001b[0msum_group\u001b[0m\u001b[1;33m(\u001b[0m\u001b[0mrow\u001b[0m\u001b[1;33m)\u001b[0m\u001b[1;33m,\u001b[0m \u001b[0maxis\u001b[0m\u001b[1;33m=\u001b[0m\u001b[1;36m1\u001b[0m\u001b[1;33m)\u001b[0m\u001b[1;33m\u001b[0m\u001b[0m\n\u001b[0m\u001b[0;32m     17\u001b[0m \u001b[0mX_grp_std\u001b[0m \u001b[1;33m=\u001b[0m \u001b[0mpd\u001b[0m\u001b[1;33m.\u001b[0m\u001b[0mDataFrame\u001b[0m\u001b[1;33m(\u001b[0m\u001b[0mscale\u001b[0m\u001b[1;33m(\u001b[0m\u001b[0mX_grp\u001b[0m\u001b[1;33m)\u001b[0m\u001b[1;33m,\u001b[0m \u001b[0mindex\u001b[0m\u001b[1;33m=\u001b[0m\u001b[0mX_grp\u001b[0m\u001b[1;33m.\u001b[0m\u001b[0mindex\u001b[0m\u001b[1;33m,\u001b[0m \u001b[0mcolumns\u001b[0m\u001b[1;33m=\u001b[0m\u001b[0mX_grp\u001b[0m\u001b[1;33m.\u001b[0m\u001b[0mcolumns\u001b[0m\u001b[1;33m)\u001b[0m\u001b[1;33m\u001b[0m\u001b[0m\n",
      "\u001b[1;32mC:\\Anaconda3\\lib\\site-packages\\pandas\\core\\frame.py\u001b[0m in \u001b[0;36mapply\u001b[1;34m(self, func, axis, broadcast, raw, reduce, args, **kwds)\u001b[0m\n\u001b[0;32m   4150\u001b[0m                     \u001b[1;32mif\u001b[0m \u001b[0mreduce\u001b[0m \u001b[1;32mis\u001b[0m \u001b[1;32mNone\u001b[0m\u001b[1;33m:\u001b[0m\u001b[1;33m\u001b[0m\u001b[0m\n\u001b[0;32m   4151\u001b[0m                         \u001b[0mreduce\u001b[0m \u001b[1;33m=\u001b[0m \u001b[1;32mTrue\u001b[0m\u001b[1;33m\u001b[0m\u001b[0m\n\u001b[1;32m-> 4152\u001b[1;33m                     \u001b[1;32mreturn\u001b[0m \u001b[0mself\u001b[0m\u001b[1;33m.\u001b[0m\u001b[0m_apply_standard\u001b[0m\u001b[1;33m(\u001b[0m\u001b[0mf\u001b[0m\u001b[1;33m,\u001b[0m \u001b[0maxis\u001b[0m\u001b[1;33m,\u001b[0m \u001b[0mreduce\u001b[0m\u001b[1;33m=\u001b[0m\u001b[0mreduce\u001b[0m\u001b[1;33m)\u001b[0m\u001b[1;33m\u001b[0m\u001b[0m\n\u001b[0m\u001b[0;32m   4153\u001b[0m             \u001b[1;32melse\u001b[0m\u001b[1;33m:\u001b[0m\u001b[1;33m\u001b[0m\u001b[0m\n\u001b[0;32m   4154\u001b[0m                 \u001b[1;32mreturn\u001b[0m \u001b[0mself\u001b[0m\u001b[1;33m.\u001b[0m\u001b[0m_apply_broadcast\u001b[0m\u001b[1;33m(\u001b[0m\u001b[0mf\u001b[0m\u001b[1;33m,\u001b[0m \u001b[0maxis\u001b[0m\u001b[1;33m)\u001b[0m\u001b[1;33m\u001b[0m\u001b[0m\n",
      "\u001b[1;32mC:\\Anaconda3\\lib\\site-packages\\pandas\\core\\frame.py\u001b[0m in \u001b[0;36m_apply_standard\u001b[1;34m(self, func, axis, ignore_failures, reduce)\u001b[0m\n\u001b[0;32m   4246\u001b[0m             \u001b[1;32mtry\u001b[0m\u001b[1;33m:\u001b[0m\u001b[1;33m\u001b[0m\u001b[0m\n\u001b[0;32m   4247\u001b[0m                 \u001b[1;32mfor\u001b[0m \u001b[0mi\u001b[0m\u001b[1;33m,\u001b[0m \u001b[0mv\u001b[0m \u001b[1;32min\u001b[0m \u001b[0menumerate\u001b[0m\u001b[1;33m(\u001b[0m\u001b[0mseries_gen\u001b[0m\u001b[1;33m)\u001b[0m\u001b[1;33m:\u001b[0m\u001b[1;33m\u001b[0m\u001b[0m\n\u001b[1;32m-> 4248\u001b[1;33m                     \u001b[0mresults\u001b[0m\u001b[1;33m[\u001b[0m\u001b[0mi\u001b[0m\u001b[1;33m]\u001b[0m \u001b[1;33m=\u001b[0m \u001b[0mfunc\u001b[0m\u001b[1;33m(\u001b[0m\u001b[0mv\u001b[0m\u001b[1;33m)\u001b[0m\u001b[1;33m\u001b[0m\u001b[0m\n\u001b[0m\u001b[0;32m   4249\u001b[0m                     \u001b[0mkeys\u001b[0m\u001b[1;33m.\u001b[0m\u001b[0mappend\u001b[0m\u001b[1;33m(\u001b[0m\u001b[0mv\u001b[0m\u001b[1;33m.\u001b[0m\u001b[0mname\u001b[0m\u001b[1;33m)\u001b[0m\u001b[1;33m\u001b[0m\u001b[0m\n\u001b[0;32m   4250\u001b[0m             \u001b[1;32mexcept\u001b[0m \u001b[0mException\u001b[0m \u001b[1;32mas\u001b[0m \u001b[0me\u001b[0m\u001b[1;33m:\u001b[0m\u001b[1;33m\u001b[0m\u001b[0m\n",
      "\u001b[1;32m<ipython-input-18-35ebb4db9ce1>\u001b[0m in \u001b[0;36m<lambda>\u001b[1;34m(row)\u001b[0m\n\u001b[0;32m     14\u001b[0m \u001b[0mX_imp\u001b[0m \u001b[1;33m=\u001b[0m \u001b[0mpd\u001b[0m\u001b[1;33m.\u001b[0m\u001b[0mDataFrame\u001b[0m\u001b[1;33m(\u001b[0m\u001b[0mimp\u001b[0m\u001b[1;33m.\u001b[0m\u001b[0mfit_transform\u001b[0m\u001b[1;33m(\u001b[0m\u001b[0mX\u001b[0m\u001b[1;33m)\u001b[0m\u001b[1;33m,\u001b[0m \u001b[0mindex\u001b[0m\u001b[1;33m=\u001b[0m\u001b[0mX\u001b[0m\u001b[1;33m.\u001b[0m\u001b[0mindex\u001b[0m\u001b[1;33m,\u001b[0m \u001b[0mcolumns\u001b[0m\u001b[1;33m=\u001b[0m\u001b[0mX\u001b[0m\u001b[1;33m.\u001b[0m\u001b[0mcolumns\u001b[0m\u001b[1;33m)\u001b[0m\u001b[1;33m\u001b[0m\u001b[0m\n\u001b[0;32m     15\u001b[0m \u001b[0mX_std\u001b[0m \u001b[1;33m=\u001b[0m \u001b[0mpd\u001b[0m\u001b[1;33m.\u001b[0m\u001b[0mDataFrame\u001b[0m\u001b[1;33m(\u001b[0m\u001b[0mscale\u001b[0m\u001b[1;33m(\u001b[0m\u001b[0mX_imp\u001b[0m\u001b[1;33m)\u001b[0m\u001b[1;33m,\u001b[0m \u001b[0mindex\u001b[0m\u001b[1;33m=\u001b[0m\u001b[0mX_imp\u001b[0m\u001b[1;33m.\u001b[0m\u001b[0mindex\u001b[0m\u001b[1;33m,\u001b[0m \u001b[0mcolumns\u001b[0m\u001b[1;33m=\u001b[0m\u001b[0mX_imp\u001b[0m\u001b[1;33m.\u001b[0m\u001b[0mcolumns\u001b[0m\u001b[1;33m)\u001b[0m\u001b[1;33m\u001b[0m\u001b[0m\n\u001b[1;32m---> 16\u001b[1;33m \u001b[0mX_grp\u001b[0m \u001b[1;33m=\u001b[0m \u001b[0mX_std\u001b[0m\u001b[1;33m.\u001b[0m\u001b[0mapply\u001b[0m\u001b[1;33m(\u001b[0m\u001b[1;32mlambda\u001b[0m \u001b[0mrow\u001b[0m\u001b[1;33m:\u001b[0m \u001b[0msum_group\u001b[0m\u001b[1;33m(\u001b[0m\u001b[0mrow\u001b[0m\u001b[1;33m)\u001b[0m\u001b[1;33m,\u001b[0m \u001b[0maxis\u001b[0m\u001b[1;33m=\u001b[0m\u001b[1;36m1\u001b[0m\u001b[1;33m)\u001b[0m\u001b[1;33m\u001b[0m\u001b[0m\n\u001b[0m\u001b[0;32m     17\u001b[0m \u001b[0mX_grp_std\u001b[0m \u001b[1;33m=\u001b[0m \u001b[0mpd\u001b[0m\u001b[1;33m.\u001b[0m\u001b[0mDataFrame\u001b[0m\u001b[1;33m(\u001b[0m\u001b[0mscale\u001b[0m\u001b[1;33m(\u001b[0m\u001b[0mX_grp\u001b[0m\u001b[1;33m)\u001b[0m\u001b[1;33m,\u001b[0m \u001b[0mindex\u001b[0m\u001b[1;33m=\u001b[0m\u001b[0mX_grp\u001b[0m\u001b[1;33m.\u001b[0m\u001b[0mindex\u001b[0m\u001b[1;33m,\u001b[0m \u001b[0mcolumns\u001b[0m\u001b[1;33m=\u001b[0m\u001b[0mX_grp\u001b[0m\u001b[1;33m.\u001b[0m\u001b[0mcolumns\u001b[0m\u001b[1;33m)\u001b[0m\u001b[1;33m\u001b[0m\u001b[0m\n",
      "\u001b[1;32m<ipython-input-18-35ebb4db9ce1>\u001b[0m in \u001b[0;36msum_group\u001b[1;34m(row)\u001b[0m\n\u001b[0;32m      5\u001b[0m     \u001b[0mcol_groups\u001b[0m \u001b[1;33m=\u001b[0m \u001b[0mdefaultdict\u001b[0m\u001b[1;33m(\u001b[0m\u001b[0mint\u001b[0m\u001b[1;33m)\u001b[0m\u001b[1;33m\u001b[0m\u001b[0m\n\u001b[0;32m      6\u001b[0m     \u001b[1;32mfor\u001b[0m \u001b[0mfeature\u001b[0m \u001b[1;32min\u001b[0m \u001b[0mlist\u001b[0m\u001b[1;33m(\u001b[0m\u001b[0mrow\u001b[0m\u001b[1;33m.\u001b[0m\u001b[0mindex\u001b[0m\u001b[1;33m)\u001b[0m\u001b[1;33m:\u001b[0m\u001b[1;33m\u001b[0m\u001b[0m\n\u001b[1;32m----> 7\u001b[1;33m         \u001b[0mcol_groups\u001b[0m\u001b[1;33m[\u001b[0m\u001b[0mfeature_groups\u001b[0m\u001b[1;33m[\u001b[0m\u001b[0mfeature\u001b[0m\u001b[1;33m]\u001b[0m\u001b[1;33m]\u001b[0m \u001b[1;33m+=\u001b[0m \u001b[0mrow\u001b[0m\u001b[1;33m[\u001b[0m\u001b[0mfeature\u001b[0m\u001b[1;33m]\u001b[0m\u001b[1;33m\u001b[0m\u001b[0m\n\u001b[0m\u001b[0;32m      8\u001b[0m     \u001b[0mrow\u001b[0m \u001b[1;33m=\u001b[0m \u001b[0mpd\u001b[0m\u001b[1;33m.\u001b[0m\u001b[0mSeries\u001b[0m\u001b[1;33m(\u001b[0m\u001b[0mcol_groups\u001b[0m\u001b[1;33m)\u001b[0m\u001b[1;33m\u001b[0m\u001b[0m\n\u001b[0;32m      9\u001b[0m     \u001b[1;32mreturn\u001b[0m \u001b[0mrow\u001b[0m\u001b[1;33m\u001b[0m\u001b[0m\n",
      "\u001b[1;32mC:\\Anaconda3\\lib\\site-packages\\pandas\\core\\ops.py\u001b[0m in \u001b[0;36mf\u001b[1;34m(self, other)\u001b[0m\n\u001b[0;32m    213\u001b[0m             \u001b[1;31m# this makes sure that we are aligned like the input\u001b[0m\u001b[1;33m\u001b[0m\u001b[1;33m\u001b[0m\u001b[0m\n\u001b[0;32m    214\u001b[0m             \u001b[1;31m# we are updating inplace so we want to ignore is_copy\u001b[0m\u001b[1;33m\u001b[0m\u001b[1;33m\u001b[0m\u001b[0m\n\u001b[1;32m--> 215\u001b[1;33m             self._update_inplace(result.reindex_like(self, copy=False)._data,\n\u001b[0m\u001b[0;32m    216\u001b[0m                                  verify_is_copy=False)\n\u001b[0;32m    217\u001b[0m \u001b[1;33m\u001b[0m\u001b[0m\n",
      "\u001b[1;32mC:\\Anaconda3\\lib\\site-packages\\pandas\\core\\generic.py\u001b[0m in \u001b[0;36mreindex_like\u001b[1;34m(self, other, method, copy, limit, tolerance)\u001b[0m\n\u001b[0;32m   1872\u001b[0m                                        tolerance=tolerance)\n\u001b[0;32m   1873\u001b[0m \u001b[1;33m\u001b[0m\u001b[0m\n\u001b[1;32m-> 1874\u001b[1;33m         \u001b[1;32mreturn\u001b[0m \u001b[0mself\u001b[0m\u001b[1;33m.\u001b[0m\u001b[0mreindex\u001b[0m\u001b[1;33m(\u001b[0m\u001b[1;33m**\u001b[0m\u001b[0md\u001b[0m\u001b[1;33m)\u001b[0m\u001b[1;33m\u001b[0m\u001b[0m\n\u001b[0m\u001b[0;32m   1875\u001b[0m \u001b[1;33m\u001b[0m\u001b[0m\n\u001b[0;32m   1876\u001b[0m     \u001b[1;32mdef\u001b[0m \u001b[0mdrop\u001b[0m\u001b[1;33m(\u001b[0m\u001b[0mself\u001b[0m\u001b[1;33m,\u001b[0m \u001b[0mlabels\u001b[0m\u001b[1;33m,\u001b[0m \u001b[0maxis\u001b[0m\u001b[1;33m=\u001b[0m\u001b[1;36m0\u001b[0m\u001b[1;33m,\u001b[0m \u001b[0mlevel\u001b[0m\u001b[1;33m=\u001b[0m\u001b[1;32mNone\u001b[0m\u001b[1;33m,\u001b[0m \u001b[0minplace\u001b[0m\u001b[1;33m=\u001b[0m\u001b[1;32mFalse\u001b[0m\u001b[1;33m,\u001b[0m \u001b[0merrors\u001b[0m\u001b[1;33m=\u001b[0m\u001b[1;34m'raise'\u001b[0m\u001b[1;33m)\u001b[0m\u001b[1;33m:\u001b[0m\u001b[1;33m\u001b[0m\u001b[0m\n",
      "\u001b[1;32mC:\\Anaconda3\\lib\\site-packages\\pandas\\core\\series.py\u001b[0m in \u001b[0;36mreindex\u001b[1;34m(self, index, **kwargs)\u001b[0m\n\u001b[0;32m   2360\u001b[0m     \u001b[1;33m@\u001b[0m\u001b[0mAppender\u001b[0m\u001b[1;33m(\u001b[0m\u001b[0mgeneric\u001b[0m\u001b[1;33m.\u001b[0m\u001b[0m_shared_docs\u001b[0m\u001b[1;33m[\u001b[0m\u001b[1;34m'reindex'\u001b[0m\u001b[1;33m]\u001b[0m \u001b[1;33m%\u001b[0m \u001b[0m_shared_doc_kwargs\u001b[0m\u001b[1;33m)\u001b[0m\u001b[1;33m\u001b[0m\u001b[0m\n\u001b[0;32m   2361\u001b[0m     \u001b[1;32mdef\u001b[0m \u001b[0mreindex\u001b[0m\u001b[1;33m(\u001b[0m\u001b[0mself\u001b[0m\u001b[1;33m,\u001b[0m \u001b[0mindex\u001b[0m\u001b[1;33m=\u001b[0m\u001b[1;32mNone\u001b[0m\u001b[1;33m,\u001b[0m \u001b[1;33m**\u001b[0m\u001b[0mkwargs\u001b[0m\u001b[1;33m)\u001b[0m\u001b[1;33m:\u001b[0m\u001b[1;33m\u001b[0m\u001b[0m\n\u001b[1;32m-> 2362\u001b[1;33m         \u001b[1;32mreturn\u001b[0m \u001b[0msuper\u001b[0m\u001b[1;33m(\u001b[0m\u001b[0mSeries\u001b[0m\u001b[1;33m,\u001b[0m \u001b[0mself\u001b[0m\u001b[1;33m)\u001b[0m\u001b[1;33m.\u001b[0m\u001b[0mreindex\u001b[0m\u001b[1;33m(\u001b[0m\u001b[0mindex\u001b[0m\u001b[1;33m=\u001b[0m\u001b[0mindex\u001b[0m\u001b[1;33m,\u001b[0m \u001b[1;33m**\u001b[0m\u001b[0mkwargs\u001b[0m\u001b[1;33m)\u001b[0m\u001b[1;33m\u001b[0m\u001b[0m\n\u001b[0m\u001b[0;32m   2363\u001b[0m \u001b[1;33m\u001b[0m\u001b[0m\n\u001b[0;32m   2364\u001b[0m     \u001b[1;33m@\u001b[0m\u001b[0mAppender\u001b[0m\u001b[1;33m(\u001b[0m\u001b[0mgeneric\u001b[0m\u001b[1;33m.\u001b[0m\u001b[0m_shared_docs\u001b[0m\u001b[1;33m[\u001b[0m\u001b[1;34m'fillna'\u001b[0m\u001b[1;33m]\u001b[0m \u001b[1;33m%\u001b[0m \u001b[0m_shared_doc_kwargs\u001b[0m\u001b[1;33m)\u001b[0m\u001b[1;33m\u001b[0m\u001b[0m\n",
      "\u001b[1;32mC:\\Anaconda3\\lib\\site-packages\\pandas\\core\\generic.py\u001b[0m in \u001b[0;36mreindex\u001b[1;34m(self, *args, **kwargs)\u001b[0m\n\u001b[0;32m   2257\u001b[0m         \u001b[1;31m# perform the reindex on the axes\u001b[0m\u001b[1;33m\u001b[0m\u001b[1;33m\u001b[0m\u001b[0m\n\u001b[0;32m   2258\u001b[0m         return self._reindex_axes(axes, level, limit, tolerance, method,\n\u001b[1;32m-> 2259\u001b[1;33m                                   fill_value, copy).__finalize__(self)\n\u001b[0m\u001b[0;32m   2260\u001b[0m \u001b[1;33m\u001b[0m\u001b[0m\n\u001b[0;32m   2261\u001b[0m     def _reindex_axes(self, axes, level, limit, tolerance, method, fill_value,\n",
      "\u001b[1;32mC:\\Anaconda3\\lib\\site-packages\\pandas\\core\\generic.py\u001b[0m in \u001b[0;36m_reindex_axes\u001b[1;34m(self, axes, level, limit, tolerance, method, fill_value, copy)\u001b[0m\n\u001b[0;32m   2275\u001b[0m             obj = obj._reindex_with_indexers({axis: [new_index, indexer]},\n\u001b[0;32m   2276\u001b[0m                                              \u001b[0mfill_value\u001b[0m\u001b[1;33m=\u001b[0m\u001b[0mfill_value\u001b[0m\u001b[1;33m,\u001b[0m\u001b[1;33m\u001b[0m\u001b[0m\n\u001b[1;32m-> 2277\u001b[1;33m                                              copy=copy, allow_dups=False)\n\u001b[0m\u001b[0;32m   2278\u001b[0m \u001b[1;33m\u001b[0m\u001b[0m\n\u001b[0;32m   2279\u001b[0m         \u001b[1;32mreturn\u001b[0m \u001b[0mobj\u001b[0m\u001b[1;33m\u001b[0m\u001b[0m\n",
      "\u001b[1;32mC:\\Anaconda3\\lib\\site-packages\\pandas\\core\\generic.py\u001b[0m in \u001b[0;36m_reindex_with_indexers\u001b[1;34m(self, reindexers, fill_value, copy, allow_dups)\u001b[0m\n\u001b[0;32m   2369\u001b[0m                                                 \u001b[0mfill_value\u001b[0m\u001b[1;33m=\u001b[0m\u001b[0mfill_value\u001b[0m\u001b[1;33m,\u001b[0m\u001b[1;33m\u001b[0m\u001b[0m\n\u001b[0;32m   2370\u001b[0m                                                 \u001b[0mallow_dups\u001b[0m\u001b[1;33m=\u001b[0m\u001b[0mallow_dups\u001b[0m\u001b[1;33m,\u001b[0m\u001b[1;33m\u001b[0m\u001b[0m\n\u001b[1;32m-> 2371\u001b[1;33m                                                 copy=copy)\n\u001b[0m\u001b[0;32m   2372\u001b[0m \u001b[1;33m\u001b[0m\u001b[0m\n\u001b[0;32m   2373\u001b[0m         \u001b[1;32mif\u001b[0m \u001b[0mcopy\u001b[0m \u001b[1;32mand\u001b[0m \u001b[0mnew_data\u001b[0m \u001b[1;32mis\u001b[0m \u001b[0mself\u001b[0m\u001b[1;33m.\u001b[0m\u001b[0m_data\u001b[0m\u001b[1;33m:\u001b[0m\u001b[1;33m\u001b[0m\u001b[0m\n",
      "\u001b[1;32mC:\\Anaconda3\\lib\\site-packages\\pandas\\core\\internals.py\u001b[0m in \u001b[0;36mreindex_indexer\u001b[1;34m(self, new_axis, indexer, axis, fill_value, allow_dups, copy)\u001b[0m\n\u001b[0;32m   3837\u001b[0m         \u001b[1;31m# some axes don't allow reindexing with dups\u001b[0m\u001b[1;33m\u001b[0m\u001b[1;33m\u001b[0m\u001b[0m\n\u001b[0;32m   3838\u001b[0m         \u001b[1;32mif\u001b[0m \u001b[1;32mnot\u001b[0m \u001b[0mallow_dups\u001b[0m\u001b[1;33m:\u001b[0m\u001b[1;33m\u001b[0m\u001b[0m\n\u001b[1;32m-> 3839\u001b[1;33m             \u001b[0mself\u001b[0m\u001b[1;33m.\u001b[0m\u001b[0maxes\u001b[0m\u001b[1;33m[\u001b[0m\u001b[0maxis\u001b[0m\u001b[1;33m]\u001b[0m\u001b[1;33m.\u001b[0m\u001b[0m_can_reindex\u001b[0m\u001b[1;33m(\u001b[0m\u001b[0mindexer\u001b[0m\u001b[1;33m)\u001b[0m\u001b[1;33m\u001b[0m\u001b[0m\n\u001b[0m\u001b[0;32m   3840\u001b[0m \u001b[1;33m\u001b[0m\u001b[0m\n\u001b[0;32m   3841\u001b[0m         \u001b[1;32mif\u001b[0m \u001b[0maxis\u001b[0m \u001b[1;33m>=\u001b[0m \u001b[0mself\u001b[0m\u001b[1;33m.\u001b[0m\u001b[0mndim\u001b[0m\u001b[1;33m:\u001b[0m\u001b[1;33m\u001b[0m\u001b[0m\n",
      "\u001b[1;32mC:\\Anaconda3\\lib\\site-packages\\pandas\\indexes\\base.py\u001b[0m in \u001b[0;36m_can_reindex\u001b[1;34m(self, indexer)\u001b[0m\n\u001b[0;32m   2492\u001b[0m         \u001b[1;31m# trying to reindex on an axis with duplicates\u001b[0m\u001b[1;33m\u001b[0m\u001b[1;33m\u001b[0m\u001b[0m\n\u001b[0;32m   2493\u001b[0m         \u001b[1;32mif\u001b[0m \u001b[1;32mnot\u001b[0m \u001b[0mself\u001b[0m\u001b[1;33m.\u001b[0m\u001b[0mis_unique\u001b[0m \u001b[1;32mand\u001b[0m \u001b[0mlen\u001b[0m\u001b[1;33m(\u001b[0m\u001b[0mindexer\u001b[0m\u001b[1;33m)\u001b[0m\u001b[1;33m:\u001b[0m\u001b[1;33m\u001b[0m\u001b[0m\n\u001b[1;32m-> 2494\u001b[1;33m             \u001b[1;32mraise\u001b[0m \u001b[0mValueError\u001b[0m\u001b[1;33m(\u001b[0m\u001b[1;34m\"cannot reindex from a duplicate axis\"\u001b[0m\u001b[1;33m)\u001b[0m\u001b[1;33m\u001b[0m\u001b[0m\n\u001b[0m\u001b[0;32m   2495\u001b[0m \u001b[1;33m\u001b[0m\u001b[0m\n\u001b[0;32m   2496\u001b[0m     def reindex(self, target, method=None, level=None, limit=None,\n",
      "\u001b[1;31mValueError\u001b[0m: ('cannot reindex from a duplicate axis', 'occurred at index 294917')"
     ]
    }
   ],
   "source": [
    "from sklearn.preprocessing import Imputer, scale, robust_scale, FunctionTransformer\n",
    "from collections import defaultdict\n",
    "\n",
    "def sum_group(row):\n",
    "    col_groups = defaultdict(int)\n",
    "    for feature in list(row.index):\n",
    "        col_groups[feature_groups[feature]] += row[feature]\n",
    "    row = pd.Series(col_groups)\n",
    "    return row\n",
    "\n",
    "feature_groups = {x:x.split(\"_\")[2] for x in features}\n",
    "X.dropna(axis=1, how='all', inplace=True)\n",
    "imp = Imputer(strategy=\"median\")\n",
    "X_imp = pd.DataFrame(imp.fit_transform(X), index=X.index, columns=X.columns)\n",
    "X_std = pd.DataFrame(scale(X_imp), index=X_imp.index, columns=X_imp.columns)\n",
    "X_grp = X_std.apply(lambda row: sum_group(row), axis=1)\n",
    "X_grp_std = pd.DataFrame(scale(X_grp), index=X_grp.index, columns=X_grp.columns)\n"
   ]
  },
  {
   "cell_type": "markdown",
   "metadata": {
    "deletable": true,
    "editable": true
   },
   "source": [
    "Figure 4.4 Inter-correlations of each factor from conceptual framework (matrix)."
   ]
  },
  {
   "cell_type": "code",
   "execution_count": 179,
   "metadata": {
    "collapsed": false,
    "deletable": true,
    "editable": true
   },
   "outputs": [
    {
     "name": "stdout",
     "output_type": "stream",
     "text": [
      "        advisors    broader  customers  executives   founders    funding  \\\n",
      "count  4.698e+03  4.698e+03  4.698e+03   4.698e+03  4.698e+03  4.698e+03   \n",
      "mean  -1.954e-16 -4.535e-17  8.046e-17  -1.381e-16  1.654e-15  2.149e-16   \n",
      "std    1.000e+00  1.000e+00  1.000e+00   1.000e+00  1.000e+00  1.000e+00   \n",
      "min   -1.073e+00 -9.188e+00 -1.035e-01  -5.739e-01 -4.919e-01 -8.121e+00   \n",
      "25%   -2.836e-01 -9.076e-01 -1.035e-01  -5.728e-01 -4.919e-01 -2.726e-01   \n",
      "50%   -2.836e-01 -2.044e-01 -1.035e-01  -2.452e-01 -4.919e-01 -2.726e-01   \n",
      "75%   -2.836e-01  6.279e-01 -1.035e-01   1.231e-01  2.341e-01 -2.726e-01   \n",
      "max    9.498e+00  3.966e+00  1.893e+01   8.444e+00  1.017e+01  1.389e+01   \n",
      "\n",
      "        industry  influence  investors      local  \n",
      "count  4.698e+03  4.698e+03  4.698e+03  4.698e+03  \n",
      "mean  -1.159e-16  5.862e-17  5.125e-16 -1.932e-16  \n",
      "std    1.000e+00  1.000e+00  1.000e+00  1.000e+00  \n",
      "min   -8.518e-01 -2.498e-01 -4.445e-01 -6.339e-01  \n",
      "25%   -8.518e-01 -2.498e-01 -4.445e-01 -6.339e-01  \n",
      "50%   -1.294e-01 -2.498e-01 -4.445e-01 -6.339e-01  \n",
      "75%    4.359e-01 -2.498e-01 -4.445e-01  7.099e-01  \n",
      "max    8.249e+00  7.778e+00  4.866e+00  3.681e+00  \n"
     ]
    }
   ],
   "source": [
    "print(X_grp_std.describe())"
   ]
  },
  {
   "cell_type": "code",
   "execution_count": 180,
   "metadata": {
    "collapsed": false,
    "deletable": true,
    "editable": true
   },
   "outputs": [
    {
     "data": {
      "text/plain": [
       "<matplotlib.axes._subplots.AxesSubplot at 0x17f76987080>"
      ]
     },
     "execution_count": 180,
     "metadata": {},
     "output_type": "execute_result"
    },
    {
     "data": {
      "image/png": "[encoded data removed]",
      "text/plain": [
       "<matplotlib.figure.Figure at 0x17f7b1d2ac8>"
      ]
     },
     "metadata": {},
     "output_type": "display_data"
    }
   ],
   "source": [
    "sns.heatmap(X_grp_std.corr(method=\"spearman\"), square=True)"
   ]
  },
  {
   "cell_type": "markdown",
   "metadata": {
    "deletable": true,
    "editable": true
   },
   "source": [
    "Figure 4.4 Eigenvalues extracted from PCA model (line plot)."
   ]
  },
  {
   "cell_type": "code",
   "execution_count": 187,
   "metadata": {
    "collapsed": false,
    "deletable": true,
    "editable": true
   },
   "outputs": [
    {
     "data": {
      "image/png": "[encoded data removed]",
      "text/plain": [
       "<matplotlib.figure.Figure at 0x17fd3fec0f0>"
      ]
     },
     "metadata": {},
     "output_type": "display_data"
    }
   ],
   "source": [
    "#Principal Components Analysis (PCA)\n",
    "from sklearn.decomposition import PCA\n",
    "\n",
    "def screeplot(pca, X_std):\n",
    "    y = pca.explained_variance_\n",
    "    x = np.arange(len(y)) + 1\n",
    "    plt.plot(x, y)\n",
    "    plt.ylabel(\"Eigenvalue\")\n",
    "    plt.xlabel(\"Component Number\")\n",
    "    plt.axhline(y=1)\n",
    "    return y\n",
    "\n",
    "pca = PCA().fit(X_std)\n",
    "eigenvalues = screeplot(pca, X_std)\n",
    "retained = range(0,8) #where(eigenvalues >= 1)"
   ]
  },
  {
   "cell_type": "markdown",
   "metadata": {
    "deletable": true,
    "editable": true
   },
   "source": [
    "Figure 4.5 Component loadings on each factor from conceptual framework (matrix)."
   ]
  },
  {
   "cell_type": "code",
   "execution_count": null,
   "metadata": {
    "collapsed": true,
    "deletable": true,
    "editable": true
   },
   "outputs": [],
   "source": [
    "groups = set([x.split(\"_\")[2] for x in features])\n",
    "\n",
    "\n",
    "    "
   ]
  },
  {
   "cell_type": "code",
   "execution_count": 191,
   "metadata": {
    "collapsed": false,
    "deletable": true,
    "editable": true
   },
   "outputs": [
    {
     "data": {
      "text/html": [
       "<div>\n",
       "<table border=\"1\" class=\"dataframe\">\n",
       "  <thead>\n",
       "    <tr style=\"text-align: right;\">\n",
       "      <th></th>\n",
       "      <th>0</th>\n",
       "      <th>1</th>\n",
       "      <th>2</th>\n",
       "      <th>3</th>\n",
       "      <th>4</th>\n",
       "      <th>5</th>\n",
       "      <th>6</th>\n",
       "      <th>7</th>\n",
       "    </tr>\n",
       "  </thead>\n",
       "  <tbody>\n",
       "    <tr>\n",
       "      <th>advisors</th>\n",
       "      <td>-5.914e-04</td>\n",
       "      <td>-5.204e-03</td>\n",
       "      <td>-1.870e-03</td>\n",
       "      <td>-3.575e-03</td>\n",
       "      <td>9.434e-03</td>\n",
       "      <td>-0.009</td>\n",
       "      <td>0.003</td>\n",
       "      <td>-3.289e-03</td>\n",
       "    </tr>\n",
       "    <tr>\n",
       "      <th>broader</th>\n",
       "      <td>-2.844e-03</td>\n",
       "      <td>1.537e-03</td>\n",
       "      <td>3.324e-04</td>\n",
       "      <td>-3.271e-03</td>\n",
       "      <td>-3.278e-03</td>\n",
       "      <td>0.003</td>\n",
       "      <td>0.003</td>\n",
       "      <td>-1.280e-03</td>\n",
       "    </tr>\n",
       "    <tr>\n",
       "      <th>customers</th>\n",
       "      <td>8.562e-04</td>\n",
       "      <td>-8.094e-03</td>\n",
       "      <td>-4.597e-03</td>\n",
       "      <td>1.626e-03</td>\n",
       "      <td>-1.475e-03</td>\n",
       "      <td>-0.006</td>\n",
       "      <td>-0.005</td>\n",
       "      <td>-1.110e-02</td>\n",
       "    </tr>\n",
       "    <tr>\n",
       "      <th>executives</th>\n",
       "      <td>-5.412e-04</td>\n",
       "      <td>5.880e-04</td>\n",
       "      <td>-7.852e-03</td>\n",
       "      <td>-1.144e-02</td>\n",
       "      <td>-8.971e-04</td>\n",
       "      <td>0.003</td>\n",
       "      <td>0.004</td>\n",
       "      <td>-3.131e-03</td>\n",
       "    </tr>\n",
       "    <tr>\n",
       "      <th>founders</th>\n",
       "      <td>3.348e-03</td>\n",
       "      <td>5.151e-03</td>\n",
       "      <td>-7.713e-03</td>\n",
       "      <td>-7.453e-03</td>\n",
       "      <td>1.038e-02</td>\n",
       "      <td>0.011</td>\n",
       "      <td>-0.007</td>\n",
       "      <td>2.139e-04</td>\n",
       "    </tr>\n",
       "    <tr>\n",
       "      <th>funding</th>\n",
       "      <td>3.876e-03</td>\n",
       "      <td>6.136e-03</td>\n",
       "      <td>9.780e-03</td>\n",
       "      <td>1.749e-02</td>\n",
       "      <td>3.549e-03</td>\n",
       "      <td>0.003</td>\n",
       "      <td>-0.003</td>\n",
       "      <td>1.626e-02</td>\n",
       "    </tr>\n",
       "    <tr>\n",
       "      <th>industry</th>\n",
       "      <td>1.098e-03</td>\n",
       "      <td>-5.346e-03</td>\n",
       "      <td>-8.396e-03</td>\n",
       "      <td>-3.072e-03</td>\n",
       "      <td>-3.708e-03</td>\n",
       "      <td>0.009</td>\n",
       "      <td>0.011</td>\n",
       "      <td>-4.716e-03</td>\n",
       "    </tr>\n",
       "    <tr>\n",
       "      <th>influence</th>\n",
       "      <td>-7.023e-04</td>\n",
       "      <td>-3.021e-03</td>\n",
       "      <td>-3.273e-03</td>\n",
       "      <td>-2.007e-02</td>\n",
       "      <td>-7.164e-03</td>\n",
       "      <td>-0.004</td>\n",
       "      <td>-0.005</td>\n",
       "      <td>-1.407e-02</td>\n",
       "    </tr>\n",
       "    <tr>\n",
       "      <th>investors</th>\n",
       "      <td>-5.848e-03</td>\n",
       "      <td>1.600e-04</td>\n",
       "      <td>1.964e-03</td>\n",
       "      <td>4.384e-03</td>\n",
       "      <td>-5.184e-03</td>\n",
       "      <td>-0.004</td>\n",
       "      <td>0.002</td>\n",
       "      <td>-5.998e-04</td>\n",
       "    </tr>\n",
       "    <tr>\n",
       "      <th>local</th>\n",
       "      <td>-3.015e-03</td>\n",
       "      <td>-2.044e-03</td>\n",
       "      <td>-7.755e-04</td>\n",
       "      <td>1.005e-04</td>\n",
       "      <td>-3.476e-03</td>\n",
       "      <td>0.001</td>\n",
       "      <td>0.008</td>\n",
       "      <td>-2.903e-03</td>\n",
       "    </tr>\n",
       "  </tbody>\n",
       "</table>\n",
       "</div>"
      ],
      "text/plain": [
       "                    0          1          2          3          4      5  \\\n",
       "advisors   -5.914e-04 -5.204e-03 -1.870e-03 -3.575e-03  9.434e-03 -0.009   \n",
       "broader    -2.844e-03  1.537e-03  3.324e-04 -3.271e-03 -3.278e-03  0.003   \n",
       "customers   8.562e-04 -8.094e-03 -4.597e-03  1.626e-03 -1.475e-03 -0.006   \n",
       "executives -5.412e-04  5.880e-04 -7.852e-03 -1.144e-02 -8.971e-04  0.003   \n",
       "founders    3.348e-03  5.151e-03 -7.713e-03 -7.453e-03  1.038e-02  0.011   \n",
       "funding     3.876e-03  6.136e-03  9.780e-03  1.749e-02  3.549e-03  0.003   \n",
       "industry    1.098e-03 -5.346e-03 -8.396e-03 -3.072e-03 -3.708e-03  0.009   \n",
       "influence  -7.023e-04 -3.021e-03 -3.273e-03 -2.007e-02 -7.164e-03 -0.004   \n",
       "investors  -5.848e-03  1.600e-04  1.964e-03  4.384e-03 -5.184e-03 -0.004   \n",
       "local      -3.015e-03 -2.044e-03 -7.755e-04  1.005e-04 -3.476e-03  0.001   \n",
       "\n",
       "                6          7  \n",
       "advisors    0.003 -3.289e-03  \n",
       "broader     0.003 -1.280e-03  \n",
       "customers  -0.005 -1.110e-02  \n",
       "executives  0.004 -3.131e-03  \n",
       "founders   -0.007  2.139e-04  \n",
       "funding    -0.003  1.626e-02  \n",
       "industry    0.011 -4.716e-03  \n",
       "influence  -0.005 -1.407e-02  \n",
       "investors   0.002 -5.998e-04  \n",
       "local       0.008 -2.903e-03  "
      ]
     },
     "execution_count": 191,
     "metadata": {},
     "output_type": "execute_result"
    }
   ],
   "source": [
    "from collections import defaultdict\n",
    "\n",
    "groups = set([x.split(\"_\")[2] for x in features])\n",
    "\n",
    "loadings_matrix = []\n",
    "for x in retained:\n",
    "    loadings = pca.components_[x].T\n",
    "    grp_loadings = defaultdict(int)\n",
    "    for group, loading in zip(groups, loadings):\n",
    "        grp_loadings[group] += loading\n",
    "    loadings_matrix.append(grp_loadings)\n",
    "\n",
    "test = defaultdict(list)\n",
    "for d in loadings_matrix:\n",
    "    for k,v in d.items():\n",
    "        test[k].append(v)\n",
    "\n",
    "pd.DataFrame(test).T"
   ]
  },
  {
   "cell_type": "markdown",
   "metadata": {
    "deletable": true,
    "editable": true
   },
   "source": [
    "## 4.3 Classification Algorithms"
   ]
  },
  {
   "cell_type": "markdown",
   "metadata": {
    "deletable": true,
    "editable": true
   },
   "source": [
    "Table 4.2 Classification accuracy metrics for each algorithm."
   ]
  },
  {
   "cell_type": "markdown",
   "metadata": {
    "deletable": true,
    "editable": true
   },
   "source": [
    "Figure 4.7 Receiver operating characteristics for each algorithm (line plot)."
   ]
  },
  {
   "cell_type": "markdown",
   "metadata": {
    "deletable": true,
    "editable": true
   },
   "source": [
    "## 4.4 Experimentation"
   ]
  },
  {
   "cell_type": "markdown",
   "metadata": {
    "deletable": true,
    "editable": true
   },
   "source": [
    "### 4.4.1 Practical "
   ]
  },
  {
   "cell_type": "markdown",
   "metadata": {
    "deletable": true,
    "editable": true
   },
   "source": [
    "Figure 4.8 AUC ROC for different training set sizes (line plot)."
   ]
  },
  {
   "cell_type": "markdown",
   "metadata": {
    "deletable": true,
    "editable": true
   },
   "source": [
    "Table 4.3 Time profiling by system component."
   ]
  },
  {
   "cell_type": "markdown",
   "metadata": {
    "deletable": true,
    "editable": true
   },
   "source": [
    "### 4.4.2 Robust"
   ]
  },
  {
   "cell_type": "markdown",
   "metadata": {
    "deletable": true,
    "editable": true
   },
   "source": [
    "Table 4.4 Comparison of 2013 slice from 2016 dataset with 2013 dataset."
   ]
  },
  {
   "cell_type": "markdown",
   "metadata": {
    "deletable": true,
    "editable": true
   },
   "source": [
    "Table 4.5 Features ranked by importance for different time slices."
   ]
  },
  {
   "cell_type": "markdown",
   "metadata": {
    "deletable": true,
    "editable": true
   },
   "source": [
    "Figure 4.9 ROC curves for models trained on different time slices (line plot)."
   ]
  },
  {
   "cell_type": "markdown",
   "metadata": {
    "deletable": true,
    "editable": true
   },
   "source": [
    "### 4.4.3 Predictive"
   ]
  },
  {
   "cell_type": "markdown",
   "metadata": {
    "deletable": true,
    "editable": true
   },
   "source": [
    "Table 4.6 Features ranked by importance for different prediction windows."
   ]
  },
  {
   "cell_type": "markdown",
   "metadata": {
    "deletable": true,
    "editable": true
   },
   "source": [
    "Figure 4.10 ROC curves for models trained on different prediction windows (line plot)."
   ]
  },
  {
   "cell_type": "markdown",
   "metadata": {
    "deletable": true,
    "editable": true
   },
   "source": [
    "Figure 4.11 Change in company stage over different prediction windows (matrix)."
   ]
  },
  {
   "cell_type": "markdown",
   "metadata": {
    "deletable": true,
    "editable": true
   },
   "source": [
    "Figure 4.12 ROC curves for target companies at different lifecycle stages (line plot)."
   ]
  },
  {
   "cell_type": "markdown",
   "metadata": {
    "deletable": true,
    "editable": true
   },
   "source": [
    "Figure 4.13 AUC ROC for models by lifecyle stage and prediction window (matrix)"
   ]
  },
  {
   "cell_type": "markdown",
   "metadata": {
    "deletable": true,
    "editable": true
   },
   "source": [
    "Table 4.7 Three example company profiles and their predictions."
   ]
  },
  {
   "cell_type": "markdown",
   "metadata": {
    "deletable": true,
    "editable": true
   },
   "source": [
    "# C. Conceptual Framework"
   ]
  },
  {
   "cell_type": "markdown",
   "metadata": {
    "deletable": true,
    "editable": true
   },
   "source": [
    "Table C.1 List of included features."
   ]
  },
  {
   "cell_type": "markdown",
   "metadata": {
    "deletable": true,
    "editable": true
   },
   "source": [
    "# D. Additional Classifier Results"
   ]
  },
  {
   "cell_type": "markdown",
   "metadata": {
    "deletable": true,
    "editable": true
   },
   "source": [
    "Table D.1 Hyperparameter gridsearch for each algorithm."
   ]
  },
  {
   "cell_type": "markdown",
   "metadata": {
    "deletable": true,
    "editable": true
   },
   "source": [
    "Table D.2 Optimal Logistic Regression model."
   ]
  },
  {
   "cell_type": "markdown",
   "metadata": {
    "deletable": true,
    "editable": true
   },
   "source": [
    "Figure D.1 Optimal Decision Tree model (tree)."
   ]
  }
 ],
 "metadata": {
  "anaconda-cloud": {},
  "kernelspec": {
   "display_name": "Python [Root]",
   "language": "python",
   "name": "Python [Root]"
  },
  "language_info": {
   "codemirror_mode": {
    "name": "ipython",
    "version": 3
   },
   "file_extension": ".py",
   "mimetype": "text/x-python",
   "name": "python",
   "nbconvert_exporter": "python",
   "pygments_lexer": "ipython3",
   "version": "3.5.3"
  }
 },
 "nbformat": 4,
 "nbformat_minor": 0
}

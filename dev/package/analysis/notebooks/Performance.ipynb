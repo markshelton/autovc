{
 "cells": [
  {
   "cell_type": "markdown",
   "metadata": {},
   "source": [
    "# Performance"
   ]
  },
  {
   "cell_type": "markdown",
   "metadata": {},
   "source": [
    "### Preamble"
   ]
  },
  {
   "cell_type": "code",
   "execution_count": 4,
   "metadata": {
    "collapsed": true
   },
   "outputs": [],
   "source": [
    "SYS_PATH = 'C:/Users/mark/Documents/GitHub/honours/dev/package/'\n",
    "SAVE_PATH = r\"C:/Users/mark/Documents/GitHub/honours/submissions/thesis-original\"\n",
    "LOAD_PATH = r\"C:/Users/mark/Documents/GitHub/honours/dev/package/analysis/output/temp/output.db\""
   ]
  },
  {
   "cell_type": "code",
   "execution_count": 5,
   "metadata": {
    "collapsed": true
   },
   "outputs": [],
   "source": [
    "#standard imports\n",
    "import sys\n",
    "import numpy as np\n",
    "import scipy.stats as stats\n",
    "import pandas as pd\n",
    "from datetime import date, timedelta\n",
    "import math\n",
    "from itertools import chain\n",
    "\n",
    "#third party imports\n",
    "import matplotlib\n",
    "import matplotlib.pyplot as plt\n",
    "from matplotlib import rcParams\n",
    "import matplotlib.ticker as tkr\n",
    "import seaborn as sns\n",
    "from sklearn import metrics\n",
    "\n",
    "#local imports\n",
    "sys.path.append(SYS_PATH)"
   ]
  },
  {
   "cell_type": "code",
   "execution_count": 6,
   "metadata": {
    "collapsed": true
   },
   "outputs": [],
   "source": [
    "%matplotlib inline\n",
    "\n",
    "TINY_SIZE, SMALL_SIZE, MEDIUM_SIZE, BIGGER_SIZE  = 12, 16, 20, 30\n",
    "plt.style.use(['seaborn-white', 'seaborn-paper'])\n",
    "sns.set_palette(\"colorblind\")\n",
    "rcParams['font.family'] = 'serif' \n",
    "rcParams['font.serif'] = 'CMU Serif' \n",
    "rcParams['font.weight'] = 'bold'\n",
    "rcParams['font.size'] = SMALL_SIZE #default font size\n",
    "rcParams['axes.titlesize'] =SMALL_SIZE   # fontsize of the axes title\n",
    "rcParams['axes.labelsize'] =MEDIUM_SIZE    # fontsize of the x and y labels\n",
    "rcParams['xtick.labelsize'] =SMALL_SIZE    # fontsize of the tick labels\n",
    "rcParams['ytick.labelsize'] =SMALL_SIZE   # fontsize of the tick labels\n",
    "rcParams['legend.fontsize'] =SMALL_SIZE    # legend fontsize\n",
    "rcParams['figure.titlesize'] =BIGGER_SIZE  # fontsize of the figure title\n",
    "rcParams['figure.figsize'] = (8,3)\n",
    "pd.set_option('precision',3)\n",
    "outline_bars = dict(linewidth = 1.25, edgecolor = '.15')"
   ]
  },
  {
   "cell_type": "code",
   "execution_count": 7,
   "metadata": {
    "collapsed": true
   },
   "outputs": [],
   "source": [
    "def get_results(build, stage):\n",
    "    \n",
    "    df = pd.read_pickle(r\"C:\\Users\\mark\\Documents\\GitHub\\honours\\dev\\package\\analysis\\output\\autoVC\\{}\\{}\\log_results.pkl\".format(build, stage))\n",
    "    df = df.reset_index()\n",
    "    try: df[\"Time\"] = pd.to_numeric(df[\"mean_fit_time\"],errors=\"coerce\")\n",
    "    except: print(\"Error: Time\")\n",
    "    try: df[\"Imputer\"] = df[\"param_imputer__strategy\"].map({\"most_frequent\": \"Mode\", \"median\": \"Median\", \"mean\": \"Mean\"})\n",
    "    except: print(\"Error: Imputer\")\n",
    "    try: df[\"Transformer\"] = df[\"param_transformer__func\"].astype(str).map({\"None\":\"None\",\"<ufunc 'sqrt'>\":\"SQRT\",\"<ufunc 'log1p'>\": \"Log1P\"})\n",
    "    except: print(\"Error: Transformer\")\n",
    "    try: df[\"Scaler\"] = df['param_scaler'].apply(lambda x: str(x).split(\"(\")[0])\n",
    "    except: print(\"Error: Scaler\")\n",
    "    try: \n",
    "        df[\"param_extractor__n_components_bin_20\"] = df[\"param_extractor__n_components\"] // 20\n",
    "        df[\"Extractor\"]=df['param_extractor__n_components_bin_20'].map({0 : \"1-20\", 1 : \"21-40\", 2: \"41-60\",3: \"61-80\", 4: \"81-100\"})\n",
    "    except: print(\"Error: Extractor\")\n",
    "    try: \n",
    "        df[\"Classifier\"] = df[\"Classifier\"].apply(lambda x: str(x).split(\"(\")[0])\n",
    "        df[\"Classifier\"]=df['Classifier'].map({\"LogisticRegression\": \"Logistic Regression\", \"RandomForestClassifier\":\"Random Forest\", \"DecisionTreeClassifier\": \"Decision Tree\", \"GaussianNB\": \"Naive Bayes\", \"MLPClassifier\": \"Artificial Neural Network\", \"KNeighborsClassifier\": \"K-Nearest Neighbors\", \"CalibratedClassifierCV\": \"Support Vector Machine\"})\n",
    "    except: print(\"Error: Classifier\")\n",
    "    try:\n",
    "        df[\"label_date\"] = df[\"label_slice\"]\n",
    "        df[\"label_date_str\"] = df[\"label_date\"].astype(str)\n",
    "        df[\"feature_date\"] = df[\"feature_slice\"]\n",
    "        df[\"feature_date_str\"] = df[\"feature_date\"].astype(str)\n",
    "        df[\"forecast_window\"] =  df[\"label_date\"] - df[\"feature_date\"]\n",
    "        df[\"forecast_window_years\"] = df[\"forecast_window\"].apply(lambda x: x.days // 30) / 12\n",
    "    except: print(\"Error: Dates\")\n",
    "    try: df[\"dataset_type\"] = df[\"dataset_type\"].map({\"train\":\"Training Score\",\"test\":\"Test Score\"})\n",
    "    except: print(\"Error: Learning Curve\")\n",
    "    try: df[\"label_type\"] = df[\"label_type\"].apply(lambda x: x.replace(\"_\", \" \"))\n",
    "    except: print(\"Error: Target Outcome\")\n",
    "    try:\n",
    "        df[\"outcome_chance\"] = df[\"label_name\"].apply(lambda x: pd.Series(x).value_counts(normalize=True)[1])\n",
    "    except: print(\"Error: Outcome\")\n",
    "    df[\"Params_str\"] = df[\"Params\"].astype(str)\n",
    "    return df"
   ]
  },
  {
   "cell_type": "code",
   "execution_count": 37,
   "metadata": {
    "collapsed": true
   },
   "outputs": [],
   "source": [
    "def get_feature_values(df, total=\"Y_Pred\"):\n",
    "    \n",
    "    def listify(col):\n",
    "        if type(col.ix[0]) not in [list, np.ndarray, np.array, pd.Series]: \n",
    "            return col.apply(lambda x: [x])\n",
    "        else: return col\n",
    "    \n",
    "    def multip(row):\n",
    "        for col in row.index:\n",
    "            if col != \"total\" and type(row[col]) is list and len(row[col]) != row[\"total\"][0]:\n",
    "                row[col] = row[col] * row[\"total\"][0]\n",
    "        return row\n",
    "\n",
    "    df[\"total\"] = df[total].apply(len)\n",
    "    df = df.apply(listify, axis=0)\n",
    "    df = df.apply(multip, axis=1)\n",
    "    df = df.drop(\"total\",axis=1)\n",
    "    df = df.apply(lambda x: list(chain.from_iterable(x)),axis=0)\n",
    "    df = df.apply(pd.Series).T\n",
    "    return df"
   ]
  },
  {
   "cell_type": "code",
   "execution_count": 38,
   "metadata": {
    "collapsed": true
   },
   "outputs": [],
   "source": [
    "def feature_function(df, func, group=None):\n",
    "    df[[\"Y_Pred\",\"Y_True\"]] = df[[\"Y_Pred\",\"Y_True\"]].apply(lambda x: pd.to_numeric(x,errors=\"coerce\"))\n",
    "    if group: return df.groupby(group).apply(lambda x: func(x[\"Y_True\"], x[\"Y_Pred\"]))\n",
    "    else: return func(df[\"Y_True\"], df[\"Y_Pred\"])"
   ]
  },
  {
   "cell_type": "code",
   "execution_count": 45,
   "metadata": {
    "collapsed": true
   },
   "outputs": [],
   "source": [
    "def auto_label(ax, fmt='{:,.0f}', adjust=0):\n",
    "    ymax_old = ax.get_ylim()[1]\n",
    "    ax.set_ylim(ymax= ax.get_ylim()[1] * 1.1)\n",
    "    for p in ax.patches:\n",
    "        height = p.get_height()\n",
    "        ax.text(\n",
    "            x=p.get_x()+p.get_width()/2.,\n",
    "            y=np.nanmax([height,0]) + ymax_old * 0.02 + adjust,\n",
    "            s=fmt.format(np.nanmax([height,0])),\n",
    "            ha=\"center\")\n",
    "    ax.yaxis.set_ticks([])"
   ]
  },
  {
   "cell_type": "code",
   "execution_count": 137,
   "metadata": {
    "collapsed": true
   },
   "outputs": [],
   "source": [
    "def add_vertical_line(ax, value, label, color, linestyle=\"dashed\"):\n",
    "    ax.axvline(value, linestyle=linestyle, color=color)\n",
    "    x_bounds = ax.get_xlim()\n",
    "    xy_pos = (((value-x_bounds[0])/(x_bounds[1]-x_bounds[0])),1.01)\n",
    "    ax.annotate(s=label, xy =xy_pos, xycoords='axes fraction', verticalalignment='right', horizontalalignment='right bottom', color=color)"
   ]
  },
  {
   "cell_type": "code",
   "execution_count": 46,
   "metadata": {
    "collapsed": true
   },
   "outputs": [],
   "source": [
    "def add_horizontal_line(ax, value, label, color, linestyle=\"dashed\"):\n",
    "    ax.axhline(value, linestyle=linestyle, color=color)\n",
    "    y_bounds = ax.get_ylim()\n",
    "    xy_pos = (1.01,((value-y_bounds[0])/(y_bounds[1]-y_bounds[0])))\n",
    "    ax.annotate(s=label, xy =xy_pos, xycoords='axes fraction', verticalalignment='right', horizontalalignment='right bottom', color=color)"
   ]
  },
  {
   "cell_type": "code",
   "execution_count": 8,
   "metadata": {
    "collapsed": true
   },
   "outputs": [],
   "source": [
    "def format_axis_ticks(f, axis=\"x\", fmt=\"{:,}\"):\n",
    "    if type(f.axes[0]) is list: axes = f.axes[0]\n",
    "    else: axes = [f.axes[0]]\n",
    "    for ax in axes:\n",
    "        if axis == \"x\": ax.xaxis.set_major_formatter(tkr.FuncFormatter(lambda x, p: fmt.format(int(x))))\n",
    "        elif axis ==\"y\": ax.yaxis.set_major_formatter(tkr.FuncFormatter(lambda x, p: fmt.format(int(x))))\n",
    "        else: raise ValueError"
   ]
  },
  {
   "cell_type": "markdown",
   "metadata": {},
   "source": [
    "### Performance variation by slice date"
   ]
  },
  {
   "cell_type": "code",
   "execution_count": 178,
   "metadata": {
    "collapsed": true
   },
   "outputs": [],
   "source": [
    "reload = True"
   ]
  },
  {
   "cell_type": "code",
   "execution_count": 179,
   "metadata": {
    "collapsed": true
   },
   "outputs": [],
   "source": [
    "chart_id = \"figures/evaluation/performance_slice\"\n",
    "pickle_path = \"{}/{}.pkl\".format(SAVE_PATH, chart_id)"
   ]
  },
  {
   "cell_type": "code",
   "execution_count": 180,
   "metadata": {
    "collapsed": false
   },
   "outputs": [],
   "source": [
    "try: \n",
    "    if reload: data = pd.read_pickle(pickle_path)\n",
    "    else: raise IOError\n",
    "except IOError: \n",
    "    data = get_results(20, \"evaluate\")\n",
    "    data = data[[\"F1\",\"MCC\",\"PRC\",\"ROC\", \"feature_date_str\", \"forecast_window_years\"]]\n",
    "    #data = data.loc[data[\"forecast_window_years\"] == 2]\n",
    "    total = pd.DataFrame()\n",
    "    for metric in mtrics:\n",
    "        temp = data[[metric,\"feature_date_str\", \"forecast_window_years\"]]\n",
    "        temp = temp.rename(index=str, columns={metric: \"Score\"})\n",
    "        temp[\"Metric\"] = metric\n",
    "        total = pd.concat([temp, total], ignore_index=True)\n",
    "    data = total\n",
    "    data.to_pickle(pickle_path)"
   ]
  },
  {
   "cell_type": "code",
   "execution_count": 181,
   "metadata": {
    "collapsed": false
   },
   "outputs": [],
   "source": [
    "x = \"forecast_window_years\"\n",
    "y = \"Score\"\n",
    "hue = \"Metric\"\n",
    "hue_order = data.groupby(hue)[y].value_counts().index.sort_values(ascending=True).tolist()"
   ]
  },
  {
   "cell_type": "code",
   "execution_count": 184,
   "metadata": {
    "collapsed": false
   },
   "outputs": [
    {
     "data": {
      "image/png": "[encoded data removed]",
      "text/plain": [
       "<matplotlib.figure.Figure at 0x2a13b92a2e8>"
      ]
     },
     "metadata": {},
     "output_type": "display_data"
    }
   ],
   "source": [
    "f = plt.figure()\n",
    "ax = sns.barplot(data=data, x=x, y=y, estimator = lambda x: stats.variation(x) * 100, hue=hue, ci =None, **outline_bars)\n",
    "ax.set_ylabel(\"Variation (%)\")\n",
    "ax.set_xlabel(\"Forecast Window (Years)\")\n",
    "plt.legend(bbox_to_anchor=(1,1.05), title=\"Evaluation Metric\")\n",
    "plt.tight_layout()"
   ]
  },
  {
   "cell_type": "code",
   "execution_count": 185,
   "metadata": {
    "collapsed": true
   },
   "outputs": [],
   "source": [
    "output_path =  \"{}/{}.pdf\".format(SAVE_PATH, chart_id)\n",
    "f.savefig(output_path, bbox_inches=\"tight\")"
   ]
  },
  {
   "cell_type": "markdown",
   "metadata": {},
   "source": [
    "### Performance by forecast window"
   ]
  },
  {
   "cell_type": "code",
   "execution_count": 171,
   "metadata": {
    "collapsed": true
   },
   "outputs": [],
   "source": [
    "reload = True"
   ]
  },
  {
   "cell_type": "code",
   "execution_count": 172,
   "metadata": {
    "collapsed": false
   },
   "outputs": [],
   "source": [
    "chart_id = \"figures/evaluation/performance_window\"\n",
    "pickle_path = \"{}/{}.pkl\".format(SAVE_PATH, chart_id)"
   ]
  },
  {
   "cell_type": "code",
   "execution_count": 173,
   "metadata": {
    "collapsed": false
   },
   "outputs": [],
   "source": [
    "try: \n",
    "    if reload: data = pd.read_pickle(pickle_path)\n",
    "    else: raise IOError\n",
    "except IOError: \n",
    "    data = get_results(20, \"evaluate\")\n",
    "    data = data[[\"F1\",\"MCC\",\"PRC\",\"ROC\", \"feature_date_str\", \"forecast_window_years\"]]\n",
    "    total = pd.DataFrame()\n",
    "    mtrics = [\"F1\",\"MCC\",\"PRC\",\"ROC\"]\n",
    "    for metric in mtrics:\n",
    "        temp = data[[metric,\"feature_date_str\", \"forecast_window_years\"]]\n",
    "        temp = temp.rename(index=str, columns={metric: \"Score\"})\n",
    "        temp[\"Metric\"] = metric\n",
    "        total = pd.concat([temp, total], ignore_index=True)\n",
    "    data = total\n",
    "    data.to_pickle(pickle_path)"
   ]
  },
  {
   "cell_type": "code",
   "execution_count": 174,
   "metadata": {
    "collapsed": false
   },
   "outputs": [],
   "source": [
    "x = \"Metric\" \n",
    "y = \"Score\"\n",
    "hue = \"forecast_window_years\"\n",
    "hue_order = data.groupby(hue)[y].value_counts().index.sort_values(ascending=True).tolist()"
   ]
  },
  {
   "cell_type": "code",
   "execution_count": 175,
   "metadata": {
    "collapsed": false
   },
   "outputs": [
    {
     "data": {
      "image/png": "[encoded data removed]",
      "text/plain": [
       "<matplotlib.figure.Figure at 0x2a1f1567668>"
      ]
     },
     "metadata": {},
     "output_type": "display_data"
    }
   ],
   "source": [
    "f = plt.figure()\n",
    "ax = sns.barplot(data=data, x=x, y=y, estimator = np.mean, hue=hue, ci=None, **outline_bars)\n",
    "auto_label(ax, fmt='{:,.2f}')\n",
    "ax.set_ylabel(\"Score\")\n",
    "ax.set_xlabel(\"Evaluation Metric\")\n",
    "plt.legend(bbox_to_anchor=(1,1.05), title=\"Forecast Window\")\n",
    "plt.tight_layout()"
   ]
  },
  {
   "cell_type": "code",
   "execution_count": 176,
   "metadata": {
    "collapsed": true
   },
   "outputs": [],
   "source": [
    "output_path =  \"{}/{}.pdf\".format(SAVE_PATH, chart_id)\n",
    "f.savefig(output_path, bbox_inches=\"tight\")"
   ]
  },
  {
   "cell_type": "markdown",
   "metadata": {},
   "source": [
    "### Performance by target outcome"
   ]
  },
  {
   "cell_type": "code",
   "execution_count": 164,
   "metadata": {
    "collapsed": true
   },
   "outputs": [],
   "source": [
    "reload = True"
   ]
  },
  {
   "cell_type": "code",
   "execution_count": 165,
   "metadata": {
    "collapsed": true
   },
   "outputs": [],
   "source": [
    "chart_id = \"figures/evaluation/performance_outcome\"\n",
    "pickle_path = \"{}/{}.pkl\".format(SAVE_PATH, chart_id)"
   ]
  },
  {
   "cell_type": "code",
   "execution_count": 166,
   "metadata": {
    "collapsed": true
   },
   "outputs": [],
   "source": [
    "def get_data():\n",
    "    data = get_results(24, \"evaluate\")\n",
    "    data[\"label_type\"] = data[\"label_type\"].apply(lambda x: x.replace(\"_\",\" \"))\n",
    "    data = data[[\"Y_Pred\", \"Y_True\", \"label_type\",\"forecast_window_years\",\"feature_date_str\"]]\n",
    "    data = get_feature_values(data)\n",
    "    results = feature_function(data, metrics.f1_score, group = [\"forecast_window_years\",\"label_type\"])\n",
    "    if type(results) is pd.Series: results = results.to_frame()\n",
    "    results = results.reset_index(drop=False)\n",
    "    results = results.rename(index=str, columns={0:\"score\",\"index\":\"label_type\"})\n",
    "    data = results\n",
    "    return data"
   ]
  },
  {
   "cell_type": "code",
   "execution_count": 167,
   "metadata": {
    "collapsed": false
   },
   "outputs": [
    {
     "name": "stdout",
     "output_type": "stream",
     "text": [
      "Error: Time\n",
      "Error: Imputer\n",
      "Error: Transformer\n",
      "Error: Scaler\n",
      "Error: Extractor\n",
      "Error: Learning Curve\n"
     ]
    }
   ],
   "source": [
    "try: \n",
    "    if reload: data = pd.read_pickle(pickle_path)\n",
    "    else: raise IOError\n",
    "except IOError: \n",
    "    data = get_data()\n",
    "    data.to_pickle(pickle_path)"
   ]
  },
  {
   "cell_type": "code",
   "execution_count": 168,
   "metadata": {
    "collapsed": true
   },
   "outputs": [],
   "source": [
    "x = \"label_type\"\n",
    "y = \"score\"\n",
    "hue= \"forecast_window_years\"\n",
    "order = [\"Extra Stage\", \"Extra Round\", \"Exit\", \"Acquisition\", \"IPO\"]"
   ]
  },
  {
   "cell_type": "code",
   "execution_count": 169,
   "metadata": {
    "collapsed": false
   },
   "outputs": [
    {
     "data": {
      "image/png": "[encoded data removed]",
      "text/plain": [
       "<matplotlib.figure.Figure at 0x2a100d17e80>"
      ]
     },
     "metadata": {},
     "output_type": "display_data"
    }
   ],
   "source": [
    "f = plt.figure()\n",
    "ax = sns.barplot(data=data, x=x, y=y, hue=hue, order=order, **outline_bars)\n",
    "auto_label(ax, fmt='{:,.2f}')\n",
    "ax.set_xlabel(\"Target Outcome\")\n",
    "ax.set_ylabel(\"F1 (Positive)\")\n",
    "add_vertical_line(ax, 0.5, \"\", color=\"grey\")\n",
    "add_vertical_line(ax, 1.5, \"\", color=\"grey\")\n",
    "plt.legend(bbox_to_anchor=(1,1.05), title=\"Forecast Window\")\n",
    "plt.tight_layout()"
   ]
  },
  {
   "cell_type": "code",
   "execution_count": 170,
   "metadata": {
    "collapsed": true
   },
   "outputs": [],
   "source": [
    "output_path = \"{}/{}.pdf\".format(SAVE_PATH, chart_id)\n",
    "f.savefig(output_path, bbox_inches=\"tight\")"
   ]
  },
  {
   "cell_type": "markdown",
   "metadata": {},
   "source": [
    "### Performance by developmental stage"
   ]
  },
  {
   "cell_type": "code",
   "execution_count": 143,
   "metadata": {
    "collapsed": true
   },
   "outputs": [],
   "source": [
    "reload = True"
   ]
  },
  {
   "cell_type": "code",
   "execution_count": 144,
   "metadata": {
    "collapsed": true
   },
   "outputs": [],
   "source": [
    "chart_id = \"figures/evaluation/performance_stage\"\n",
    "pickle_path = \"{}/{}.pkl\".format(SAVE_PATH, chart_id)"
   ]
  },
  {
   "cell_type": "code",
   "execution_count": 145,
   "metadata": {
    "collapsed": true
   },
   "outputs": [],
   "source": [
    "def get_data():\n",
    "    data = get_results(19, \"evaluate\")\n",
    "    data = data[[\"Y_Pred\", \"Y_True\", \"feature_stage\",\"forecast_window_years\",\"feature_date_str\"]]\n",
    "    data = get_feature_values(data)\n",
    "    results = feature_function(data, metrics.f1_score, group = [\"feature_stage\"])\n",
    "    overall = feature_function(data, metrics.f1_score)\n",
    "    results[\"Overall\"] = overall\n",
    "    data2 = get_results(21, \"evaluate\")\n",
    "    data2[\"feature_stage_single\"] = data2[\"feature_stage\"].apply(lambda x: x.value_counts().index[0])\n",
    "    data2 = data2[[\"Y_Pred\", \"Y_True\", \"feature_stage_single\",\"forecast_window_years\",\"feature_date_str\"]]\n",
    "    data2 = get_feature_values(data2)\n",
    "    results2 = feature_function(data2, metrics.f1_score, group = [\"feature_stage_single\"])\n",
    "    overall2 = feature_function(data2, metrics.f1_score)\n",
    "    results2[\"Overall\"] = overall2\n",
    "    if type(results) is pd.Series: results = results.to_frame()\n",
    "    results[\"method\"] = \"Combined\"\n",
    "    if type(results2) is pd.Series: results2 = results2.to_frame()\n",
    "    results2[\"method\"] = \"Individual\"\n",
    "    results3 = pd.concat([results, results2], axis=0)\n",
    "    results3 = results3.reset_index(drop=False)\n",
    "    results3 = results3.rename(index=str, columns={0:\"score\",\"index\":\"stage\"})\n",
    "    data = results3\n",
    "    return data"
   ]
  },
  {
   "cell_type": "code",
   "execution_count": 146,
   "metadata": {
    "collapsed": false
   },
   "outputs": [],
   "source": [
    "try: \n",
    "    if reload: data = pd.read_pickle(pickle_path)\n",
    "    else: raise IOError\n",
    "except IOError: \n",
    "    data = get_data()\n",
    "    data.to_pickle(pickle_path)"
   ]
  },
  {
   "cell_type": "code",
   "execution_count": 147,
   "metadata": {
    "collapsed": true
   },
   "outputs": [],
   "source": [
    "x = \"stage\"\n",
    "y = \"score\"\n",
    "hue = \"method\""
   ]
  },
  {
   "cell_type": "code",
   "execution_count": 148,
   "metadata": {
    "collapsed": false
   },
   "outputs": [
    {
     "data": {
      "image/png": "[encoded data removed]",
      "text/plain": [
       "<matplotlib.figure.Figure at 0x2a2afafc518>"
      ]
     },
     "metadata": {},
     "output_type": "display_data"
    }
   ],
   "source": [
    "f = plt.figure()\n",
    "ax = sns.barplot(data=data, x=x, y=y, hue=hue, **outline_bars)\n",
    "auto_label(ax, fmt='{:,.2f}')\n",
    "ax.set_xlabel(\"Developmental Stage\")\n",
    "ax.set_ylabel(\"F1 (Positive)\")\n",
    "plt.legend(bbox_to_anchor=(1,1.05), title=\"Fit Method\")\n",
    "plt.tight_layout()"
   ]
  },
  {
   "cell_type": "code",
   "execution_count": 149,
   "metadata": {
    "collapsed": true
   },
   "outputs": [],
   "source": [
    "output_path = \"{}/{}.pdf\".format(SAVE_PATH, chart_id)\n",
    "f.savefig(output_path, bbox_inches=\"tight\")"
   ]
  },
  {
   "cell_type": "markdown",
   "metadata": {},
   "source": [
    "### Example company profiles and their predictions"
   ]
  },
  {
   "cell_type": "code",
   "execution_count": null,
   "metadata": {
    "collapsed": true
   },
   "outputs": [],
   "source": []
  }
 ],
 "metadata": {
  "kernelspec": {
   "display_name": "Python 3",
   "language": "python",
   "name": "python3"
  },
  "language_info": {
   "codemirror_mode": {
    "name": "ipython",
    "version": 3
   },
   "file_extension": ".py",
   "mimetype": "text/x-python",
   "name": "python",
   "nbconvert_exporter": "python",
   "pygments_lexer": "ipython3",
   "version": "3.6.0"
  }
 },
 "nbformat": 4,
 "nbformat_minor": 2
}

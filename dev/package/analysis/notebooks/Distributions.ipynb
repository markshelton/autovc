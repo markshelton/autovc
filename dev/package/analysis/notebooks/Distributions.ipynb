{
 "cells": [
  {
   "cell_type": "markdown",
   "metadata": {
    "collapsed": true
   },
   "source": [
    "# Distributions"
   ]
  },
  {
   "cell_type": "markdown",
   "metadata": {},
   "source": [
    "### Preamble"
   ]
  },
  {
   "cell_type": "code",
   "execution_count": 1,
   "metadata": {
    "collapsed": true
   },
   "outputs": [],
   "source": [
    "SYS_PATH = r'C:/Users/mark/Documents/GitHub/honours/dev/package/'\n",
    "SAVE_PATH = r\"C:/Users/mark/Documents/GitHub/honours/submissions/thesis-original\"\n",
    "LOAD_PATH = r\"C:/Users/mark/Documents/GitHub/honours/dev/package/analysis/output/temp/output.db\""
   ]
  },
  {
   "cell_type": "code",
   "execution_count": 2,
   "metadata": {
    "collapsed": true
   },
   "outputs": [],
   "source": [
    "#standard imports\n",
    "import sys\n",
    "import numpy as np\n",
    "import scipy.stats as stats\n",
    "import pandas as pd\n",
    "from datetime import date, timedelta\n",
    "from collections import OrderedDict\n",
    "import math\n",
    "from itertools import chain\n",
    "from datetime import date\n",
    "from datetime import datetime\n",
    "\n",
    "#third party imports\n",
    "import matplotlib\n",
    "import matplotlib.pyplot as plt\n",
    "from matplotlib import rcParams\n",
    "import matplotlib.ticker as tkr\n",
    "import seaborn as sns\n",
    "from sklearn import metrics"
   ]
  },
  {
   "cell_type": "code",
   "execution_count": 75,
   "metadata": {
    "collapsed": true
   },
   "outputs": [],
   "source": [
    "import importlib\n",
    "import sys; sys.path.append(SYS_PATH)\n",
    "import analysis.helper as helper\n",
    "import analysis.autoVC2 as vc\n",
    "importlib.reload(helper)\n",
    "importlib.reload(vc)\n",
    "%matplotlib inline"
   ]
  },
  {
   "cell_type": "code",
   "execution_count": 138,
   "metadata": {
    "collapsed": true
   },
   "outputs": [],
   "source": [
    "TINY_SIZE, SMALL_SIZE, MEDIUM_SIZE, BIGGER_SIZE  = 12, 16, 18, 30\n",
    "plt.style.use(['seaborn-white', 'seaborn-paper'])\n",
    "sns.set_palette(\"colorblind\")\n",
    "rcParams['font.family'] = 'serif' \n",
    "rcParams['font.serif'] = 'CMU Serif' \n",
    "rcParams['font.weight'] = 'bold'\n",
    "rcParams['font.size'] = SMALL_SIZE #default font size\n",
    "rcParams['axes.titlesize'] =SMALL_SIZE   # fontsize of the axes title\n",
    "rcParams['axes.labelsize'] =MEDIUM_SIZE    # fontsize of the x and y labels\n",
    "rcParams['xtick.labelsize'] =SMALL_SIZE    # fontsize of the tick labels\n",
    "rcParams['ytick.labelsize'] =SMALL_SIZE   # fontsize of the tick labels\n",
    "rcParams['legend.fontsize'] =SMALL_SIZE    # legend fontsize\n",
    "rcParams['figure.titlesize'] =BIGGER_SIZE  # fontsize of the figure title\n",
    "rcParams['figure.figsize'] = (8,3)\n",
    "pd.set_option('precision',3)\n",
    "outline_bars = dict(linewidth = 1.25, edgecolor = '.15')"
   ]
  },
  {
   "cell_type": "code",
   "execution_count": 5,
   "metadata": {
    "collapsed": true
   },
   "outputs": [],
   "source": [
    "def load_data(path=LOAD_PATH):\n",
    "    data = vc.prepare_dataset(\n",
    "        SYS_PATH + \"analysis/input/master.db\", date(2016, 9, 9),\n",
    "        SYS_PATH + \"analysis/config/master_feature.sql\", \"feature\",\n",
    "        SYS_PATH + \"analysis/output/temp/\", alt=True)\n",
    "    data = vc.add_stages(data)\n",
    "    return data"
   ]
  },
  {
   "cell_type": "markdown",
   "metadata": {},
   "source": [
    "### Distribution of features by company"
   ]
  },
  {
   "cell_type": "code",
   "execution_count": 209,
   "metadata": {
    "collapsed": true
   },
   "outputs": [],
   "source": [
    "reload = True"
   ]
  },
  {
   "cell_type": "code",
   "execution_count": 210,
   "metadata": {
    "collapsed": true
   },
   "outputs": [],
   "source": [
    "chart_id = \"figures/design/sparsity_features\"\n",
    "pickle_path = \"{}/{}.pkl\".format(SAVE_PATH, chart_id)"
   ]
  },
  {
   "cell_type": "code",
   "execution_count": 211,
   "metadata": {
    "collapsed": true
   },
   "outputs": [],
   "source": [
    "def get_data():\n",
    "    data = vc.prepare_dataset(\n",
    "        SYS_PATH + \"analysis/input/master.db\", date(2016, 9, 9),\n",
    "        SYS_PATH + \"analysis/config/master_feature.sql\", \"feature\",\n",
    "        SYS_PATH + \"analysis/output/temp/\", alt=True)\n",
    "    data = vc.add_stages(data)\n",
    "    data = vc.apply_constraints(data)\n",
    "    return data"
   ]
  },
  {
   "cell_type": "code",
   "execution_count": 212,
   "metadata": {
    "collapsed": false
   },
   "outputs": [
    {
     "name": "stdout",
     "output_type": "stream",
     "text": [
      "logManager - INFO - prepare_dataset | Started\n",
      "logManager - ERROR - prepare_dataset | Failed | 9.02\n",
      "Traceback (most recent call last):\n",
      "  File \"C:\\ProgramData\\Anaconda3\\lib\\site-packages\\pandas\\io\\pickle.py\", line 51, in try_read\n",
      "    with open(path, 'rb') as fh:\n",
      "FileNotFoundError: [Errno 2] No such file or directory: 'C:/Users/mark/Documents/GitHub/honours/submissions/thesis-original/figures/design/sparsity_features.pkl'\n",
      "\n",
      "During handling of the above exception, another exception occurred:\n",
      "\n",
      "Traceback (most recent call last):\n",
      "  File \"C:\\ProgramData\\Anaconda3\\lib\\site-packages\\pandas\\io\\pickle.py\", line 56, in try_read\n",
      "    with open(path, 'rb') as fh:\n",
      "FileNotFoundError: [Errno 2] No such file or directory: 'C:/Users/mark/Documents/GitHub/honours/submissions/thesis-original/figures/design/sparsity_features.pkl'\n",
      "\n",
      "During handling of the above exception, another exception occurred:\n",
      "\n",
      "Traceback (most recent call last):\n",
      "  File \"C:\\ProgramData\\Anaconda3\\lib\\site-packages\\pandas\\io\\pickle.py\", line 65, in read_pickle\n",
      "    return try_read(path)\n",
      "  File \"C:\\ProgramData\\Anaconda3\\lib\\site-packages\\pandas\\io\\pickle.py\", line 61, in try_read\n",
      "    with open(path, 'rb') as fh:\n",
      "FileNotFoundError: [Errno 2] No such file or directory: 'C:/Users/mark/Documents/GitHub/honours/submissions/thesis-original/figures/design/sparsity_features.pkl'\n",
      "\n",
      "During handling of the above exception, another exception occurred:\n",
      "\n",
      "Traceback (most recent call last):\n",
      "  File \"C:\\ProgramData\\Anaconda3\\lib\\site-packages\\pandas\\io\\pickle.py\", line 51, in try_read\n",
      "    with open(path, 'rb') as fh:\n",
      "FileNotFoundError: [Errno 2] No such file or directory: 'C:/Users/mark/Documents/GitHub/honours/submissions/thesis-original/figures/design/sparsity_features.pkl'\n",
      "\n",
      "During handling of the above exception, another exception occurred:\n",
      "\n",
      "Traceback (most recent call last):\n",
      "  File \"C:\\ProgramData\\Anaconda3\\lib\\site-packages\\pandas\\io\\pickle.py\", line 56, in try_read\n",
      "    with open(path, 'rb') as fh:\n",
      "FileNotFoundError: [Errno 2] No such file or directory: 'C:/Users/mark/Documents/GitHub/honours/submissions/thesis-original/figures/design/sparsity_features.pkl'\n",
      "\n",
      "During handling of the above exception, another exception occurred:\n",
      "\n",
      "Traceback (most recent call last):\n",
      "  File \"<ipython-input-212-23ef4a6020d0>\", line 2, in <module>\n",
      "    if reload: X = pd.read_pickle(pickle_path)\n",
      "  File \"C:\\ProgramData\\Anaconda3\\lib\\site-packages\\pandas\\io\\pickle.py\", line 68, in read_pickle\n",
      "    return try_read(path, encoding='latin1')\n",
      "  File \"C:\\ProgramData\\Anaconda3\\lib\\site-packages\\pandas\\io\\pickle.py\", line 61, in try_read\n",
      "    with open(path, 'rb') as fh:\n",
      "FileNotFoundError: [Errno 2] No such file or directory: 'C:/Users/mark/Documents/GitHub/honours/submissions/thesis-original/figures/design/sparsity_features.pkl'\n",
      "\n",
      "During handling of the above exception, another exception occurred:\n",
      "\n",
      "Traceback (most recent call last):\n",
      "  File \"C:/Users/mark/Documents/GitHub/honours/dev/package\\logManager.py\", line 56, in wrapper\n",
      "    try: result = f(*args, **kwargs)\n",
      "  File \"C:/Users/mark/Documents/GitHub/honours/dev/package\\analysis\\autoVC2.py\", line 253, in prepare_dataset\n",
      "    if alt: return pd.read_csv(slice_clean_path, encoding=\"latin1\")\n",
      "  File \"C:\\ProgramData\\Anaconda3\\lib\\site-packages\\pandas\\io\\parsers.py\", line 646, in parser_f\n",
      "    return _read(filepath_or_buffer, kwds)\n",
      "  File \"C:\\ProgramData\\Anaconda3\\lib\\site-packages\\pandas\\io\\parsers.py\", line 401, in _read\n",
      "    data = parser.read()\n",
      "  File \"C:\\ProgramData\\Anaconda3\\lib\\site-packages\\pandas\\io\\parsers.py\", line 939, in read\n",
      "    ret = self._engine.read(nrows)\n",
      "  File \"C:\\ProgramData\\Anaconda3\\lib\\site-packages\\pandas\\io\\parsers.py\", line 1508, in read\n",
      "    data = self._reader.read(nrows)\n",
      "  File \"pandas\\parser.pyx\", line 848, in pandas.parser.TextReader.read (pandas\\parser.c:10415)\n",
      "  File \"pandas\\parser.pyx\", line 870, in pandas.parser.TextReader._read_low_memory (pandas\\parser.c:10691)\n",
      "  File \"pandas\\parser.pyx\", line 947, in pandas.parser.TextReader._read_rows (pandas\\parser.c:11728)\n",
      "  File \"pandas\\parser.pyx\", line 1049, in pandas.parser.TextReader._convert_column_data (pandas\\parser.c:13162)\n",
      "  File \"pandas\\parser.pyx\", line 1108, in pandas.parser.TextReader._convert_tokens (pandas\\parser.c:14116)\n",
      "  File \"pandas\\parser.pyx\", line 1146, in pandas.parser.TextReader._convert_with_dtype (pandas\\parser.c:14783)\n",
      "  File \"C:\\ProgramData\\Anaconda3\\lib\\site-packages\\pandas\\types\\common.py\", line 153, in is_integer_dtype\n",
      "    def is_integer_dtype(arr_or_dtype):\n",
      "KeyboardInterrupt\n"
     ]
    },
    {
     "name": "stderr",
     "output_type": "stream",
     "text": [
      "logManager - ERROR - prepare_dataset | Failed | 9.02\n",
      "Traceback (most recent call last):\n",
      "  File \"C:\\ProgramData\\Anaconda3\\lib\\site-packages\\pandas\\io\\pickle.py\", line 51, in try_read\n",
      "    with open(path, 'rb') as fh:\n",
      "FileNotFoundError: [Errno 2] No such file or directory: 'C:/Users/mark/Documents/GitHub/honours/submissions/thesis-original/figures/design/sparsity_features.pkl'\n",
      "\n",
      "During handling of the above exception, another exception occurred:\n",
      "\n",
      "Traceback (most recent call last):\n",
      "  File \"C:\\ProgramData\\Anaconda3\\lib\\site-packages\\pandas\\io\\pickle.py\", line 56, in try_read\n",
      "    with open(path, 'rb') as fh:\n",
      "FileNotFoundError: [Errno 2] No such file or directory: 'C:/Users/mark/Documents/GitHub/honours/submissions/thesis-original/figures/design/sparsity_features.pkl'\n",
      "\n",
      "During handling of the above exception, another exception occurred:\n",
      "\n",
      "Traceback (most recent call last):\n",
      "  File \"C:\\ProgramData\\Anaconda3\\lib\\site-packages\\pandas\\io\\pickle.py\", line 65, in read_pickle\n",
      "    return try_read(path)\n",
      "  File \"C:\\ProgramData\\Anaconda3\\lib\\site-packages\\pandas\\io\\pickle.py\", line 61, in try_read\n",
      "    with open(path, 'rb') as fh:\n",
      "FileNotFoundError: [Errno 2] No such file or directory: 'C:/Users/mark/Documents/GitHub/honours/submissions/thesis-original/figures/design/sparsity_features.pkl'\n",
      "\n",
      "During handling of the above exception, another exception occurred:\n",
      "\n",
      "Traceback (most recent call last):\n",
      "  File \"C:\\ProgramData\\Anaconda3\\lib\\site-packages\\pandas\\io\\pickle.py\", line 51, in try_read\n",
      "    with open(path, 'rb') as fh:\n",
      "FileNotFoundError: [Errno 2] No such file or directory: 'C:/Users/mark/Documents/GitHub/honours/submissions/thesis-original/figures/design/sparsity_features.pkl'\n",
      "\n",
      "During handling of the above exception, another exception occurred:\n",
      "\n",
      "Traceback (most recent call last):\n",
      "  File \"C:\\ProgramData\\Anaconda3\\lib\\site-packages\\pandas\\io\\pickle.py\", line 56, in try_read\n",
      "    with open(path, 'rb') as fh:\n",
      "FileNotFoundError: [Errno 2] No such file or directory: 'C:/Users/mark/Documents/GitHub/honours/submissions/thesis-original/figures/design/sparsity_features.pkl'\n",
      "\n",
      "During handling of the above exception, another exception occurred:\n",
      "\n",
      "Traceback (most recent call last):\n",
      "  File \"<ipython-input-212-23ef4a6020d0>\", line 2, in <module>\n",
      "    if reload: X = pd.read_pickle(pickle_path)\n",
      "  File \"C:\\ProgramData\\Anaconda3\\lib\\site-packages\\pandas\\io\\pickle.py\", line 68, in read_pickle\n",
      "    return try_read(path, encoding='latin1')\n",
      "  File \"C:\\ProgramData\\Anaconda3\\lib\\site-packages\\pandas\\io\\pickle.py\", line 61, in try_read\n",
      "    with open(path, 'rb') as fh:\n",
      "FileNotFoundError: [Errno 2] No such file or directory: 'C:/Users/mark/Documents/GitHub/honours/submissions/thesis-original/figures/design/sparsity_features.pkl'\n",
      "\n",
      "During handling of the above exception, another exception occurred:\n",
      "\n",
      "Traceback (most recent call last):\n",
      "  File \"C:/Users/mark/Documents/GitHub/honours/dev/package\\logManager.py\", line 56, in wrapper\n",
      "    try: result = f(*args, **kwargs)\n",
      "  File \"C:/Users/mark/Documents/GitHub/honours/dev/package\\analysis\\autoVC2.py\", line 253, in prepare_dataset\n",
      "    if alt: return pd.read_csv(slice_clean_path, encoding=\"latin1\")\n",
      "  File \"C:\\ProgramData\\Anaconda3\\lib\\site-packages\\pandas\\io\\parsers.py\", line 646, in parser_f\n",
      "    return _read(filepath_or_buffer, kwds)\n",
      "  File \"C:\\ProgramData\\Anaconda3\\lib\\site-packages\\pandas\\io\\parsers.py\", line 401, in _read\n",
      "    data = parser.read()\n",
      "  File \"C:\\ProgramData\\Anaconda3\\lib\\site-packages\\pandas\\io\\parsers.py\", line 939, in read\n",
      "    ret = self._engine.read(nrows)\n",
      "  File \"C:\\ProgramData\\Anaconda3\\lib\\site-packages\\pandas\\io\\parsers.py\", line 1508, in read\n",
      "    data = self._reader.read(nrows)\n",
      "  File \"pandas\\parser.pyx\", line 848, in pandas.parser.TextReader.read (pandas\\parser.c:10415)\n",
      "  File \"pandas\\parser.pyx\", line 870, in pandas.parser.TextReader._read_low_memory (pandas\\parser.c:10691)\n",
      "  File \"pandas\\parser.pyx\", line 947, in pandas.parser.TextReader._read_rows (pandas\\parser.c:11728)\n",
      "  File \"pandas\\parser.pyx\", line 1049, in pandas.parser.TextReader._convert_column_data (pandas\\parser.c:13162)\n",
      "  File \"pandas\\parser.pyx\", line 1108, in pandas.parser.TextReader._convert_tokens (pandas\\parser.c:14116)\n",
      "  File \"pandas\\parser.pyx\", line 1146, in pandas.parser.TextReader._convert_with_dtype (pandas\\parser.c:14783)\n",
      "  File \"C:\\ProgramData\\Anaconda3\\lib\\site-packages\\pandas\\types\\common.py\", line 153, in is_integer_dtype\n",
      "    def is_integer_dtype(arr_or_dtype):\n",
      "KeyboardInterrupt\n"
     ]
    },
    {
     "name": "stdout",
     "output_type": "stream",
     "text": [
      "logManager - INFO - add_stages | Started\n",
      "logManager - ERROR - add_stages | Failed | 0.00\n",
      "Traceback (most recent call last):\n",
      "  File \"C:\\ProgramData\\Anaconda3\\lib\\site-packages\\pandas\\io\\pickle.py\", line 51, in try_read\n",
      "    with open(path, 'rb') as fh:\n",
      "FileNotFoundError: [Errno 2] No such file or directory: 'C:/Users/mark/Documents/GitHub/honours/submissions/thesis-original/figures/design/sparsity_features.pkl'\n",
      "\n",
      "During handling of the above exception, another exception occurred:\n",
      "\n",
      "Traceback (most recent call last):\n",
      "  File \"C:\\ProgramData\\Anaconda3\\lib\\site-packages\\pandas\\io\\pickle.py\", line 56, in try_read\n",
      "    with open(path, 'rb') as fh:\n",
      "FileNotFoundError: [Errno 2] No such file or directory: 'C:/Users/mark/Documents/GitHub/honours/submissions/thesis-original/figures/design/sparsity_features.pkl'\n",
      "\n",
      "During handling of the above exception, another exception occurred:\n",
      "\n",
      "Traceback (most recent call last):\n",
      "  File \"C:\\ProgramData\\Anaconda3\\lib\\site-packages\\pandas\\io\\pickle.py\", line 65, in read_pickle\n",
      "    return try_read(path)\n",
      "  File \"C:\\ProgramData\\Anaconda3\\lib\\site-packages\\pandas\\io\\pickle.py\", line 61, in try_read\n",
      "    with open(path, 'rb') as fh:\n",
      "FileNotFoundError: [Errno 2] No such file or directory: 'C:/Users/mark/Documents/GitHub/honours/submissions/thesis-original/figures/design/sparsity_features.pkl'\n",
      "\n",
      "During handling of the above exception, another exception occurred:\n",
      "\n",
      "Traceback (most recent call last):\n",
      "  File \"C:\\ProgramData\\Anaconda3\\lib\\site-packages\\pandas\\io\\pickle.py\", line 51, in try_read\n",
      "    with open(path, 'rb') as fh:\n",
      "FileNotFoundError: [Errno 2] No such file or directory: 'C:/Users/mark/Documents/GitHub/honours/submissions/thesis-original/figures/design/sparsity_features.pkl'\n",
      "\n",
      "During handling of the above exception, another exception occurred:\n",
      "\n",
      "Traceback (most recent call last):\n",
      "  File \"C:\\ProgramData\\Anaconda3\\lib\\site-packages\\pandas\\io\\pickle.py\", line 56, in try_read\n",
      "    with open(path, 'rb') as fh:\n",
      "FileNotFoundError: [Errno 2] No such file or directory: 'C:/Users/mark/Documents/GitHub/honours/submissions/thesis-original/figures/design/sparsity_features.pkl'\n",
      "\n",
      "During handling of the above exception, another exception occurred:\n",
      "\n",
      "Traceback (most recent call last):\n",
      "  File \"<ipython-input-212-23ef4a6020d0>\", line 2, in <module>\n",
      "    if reload: X = pd.read_pickle(pickle_path)\n",
      "  File \"C:\\ProgramData\\Anaconda3\\lib\\site-packages\\pandas\\io\\pickle.py\", line 68, in read_pickle\n",
      "    return try_read(path, encoding='latin1')\n",
      "  File \"C:\\ProgramData\\Anaconda3\\lib\\site-packages\\pandas\\io\\pickle.py\", line 61, in try_read\n",
      "    with open(path, 'rb') as fh:\n",
      "FileNotFoundError: [Errno 2] No such file or directory: 'C:/Users/mark/Documents/GitHub/honours/submissions/thesis-original/figures/design/sparsity_features.pkl'\n",
      "\n",
      "During handling of the above exception, another exception occurred:\n",
      "\n",
      "Traceback (most recent call last):\n",
      "  File \"C:/Users/mark/Documents/GitHub/honours/dev/package\\logManager.py\", line 56, in wrapper\n",
      "    try: result = f(*args, **kwargs)\n",
      "  File \"C:/Users/mark/Documents/GitHub/honours/dev/package\\analysis\\autoVC2.py\", line 195, in add_stages\n",
      "    stages = create_stages(df, **stage_info)\n",
      "  File \"C:/Users/mark/Documents/GitHub/honours/dev/package\\analysis\\autoVC2.py\", line 168, in create_stages\n",
      "    df2 = df.copy()\n",
      "AttributeError: 'NoneType' object has no attribute 'copy'\n"
     ]
    },
    {
     "name": "stderr",
     "output_type": "stream",
     "text": [
      "logManager - ERROR - add_stages | Failed | 0.00\n",
      "Traceback (most recent call last):\n",
      "  File \"C:\\ProgramData\\Anaconda3\\lib\\site-packages\\pandas\\io\\pickle.py\", line 51, in try_read\n",
      "    with open(path, 'rb') as fh:\n",
      "FileNotFoundError: [Errno 2] No such file or directory: 'C:/Users/mark/Documents/GitHub/honours/submissions/thesis-original/figures/design/sparsity_features.pkl'\n",
      "\n",
      "During handling of the above exception, another exception occurred:\n",
      "\n",
      "Traceback (most recent call last):\n",
      "  File \"C:\\ProgramData\\Anaconda3\\lib\\site-packages\\pandas\\io\\pickle.py\", line 56, in try_read\n",
      "    with open(path, 'rb') as fh:\n",
      "FileNotFoundError: [Errno 2] No such file or directory: 'C:/Users/mark/Documents/GitHub/honours/submissions/thesis-original/figures/design/sparsity_features.pkl'\n",
      "\n",
      "During handling of the above exception, another exception occurred:\n",
      "\n",
      "Traceback (most recent call last):\n",
      "  File \"C:\\ProgramData\\Anaconda3\\lib\\site-packages\\pandas\\io\\pickle.py\", line 65, in read_pickle\n",
      "    return try_read(path)\n",
      "  File \"C:\\ProgramData\\Anaconda3\\lib\\site-packages\\pandas\\io\\pickle.py\", line 61, in try_read\n",
      "    with open(path, 'rb') as fh:\n",
      "FileNotFoundError: [Errno 2] No such file or directory: 'C:/Users/mark/Documents/GitHub/honours/submissions/thesis-original/figures/design/sparsity_features.pkl'\n",
      "\n",
      "During handling of the above exception, another exception occurred:\n",
      "\n",
      "Traceback (most recent call last):\n",
      "  File \"C:\\ProgramData\\Anaconda3\\lib\\site-packages\\pandas\\io\\pickle.py\", line 51, in try_read\n",
      "    with open(path, 'rb') as fh:\n",
      "FileNotFoundError: [Errno 2] No such file or directory: 'C:/Users/mark/Documents/GitHub/honours/submissions/thesis-original/figures/design/sparsity_features.pkl'\n",
      "\n",
      "During handling of the above exception, another exception occurred:\n",
      "\n",
      "Traceback (most recent call last):\n",
      "  File \"C:\\ProgramData\\Anaconda3\\lib\\site-packages\\pandas\\io\\pickle.py\", line 56, in try_read\n",
      "    with open(path, 'rb') as fh:\n",
      "FileNotFoundError: [Errno 2] No such file or directory: 'C:/Users/mark/Documents/GitHub/honours/submissions/thesis-original/figures/design/sparsity_features.pkl'\n",
      "\n",
      "During handling of the above exception, another exception occurred:\n",
      "\n",
      "Traceback (most recent call last):\n",
      "  File \"<ipython-input-212-23ef4a6020d0>\", line 2, in <module>\n",
      "    if reload: X = pd.read_pickle(pickle_path)\n",
      "  File \"C:\\ProgramData\\Anaconda3\\lib\\site-packages\\pandas\\io\\pickle.py\", line 68, in read_pickle\n",
      "    return try_read(path, encoding='latin1')\n",
      "  File \"C:\\ProgramData\\Anaconda3\\lib\\site-packages\\pandas\\io\\pickle.py\", line 61, in try_read\n",
      "    with open(path, 'rb') as fh:\n",
      "FileNotFoundError: [Errno 2] No such file or directory: 'C:/Users/mark/Documents/GitHub/honours/submissions/thesis-original/figures/design/sparsity_features.pkl'\n",
      "\n",
      "During handling of the above exception, another exception occurred:\n",
      "\n",
      "Traceback (most recent call last):\n",
      "  File \"C:/Users/mark/Documents/GitHub/honours/dev/package\\logManager.py\", line 56, in wrapper\n",
      "    try: result = f(*args, **kwargs)\n",
      "  File \"C:/Users/mark/Documents/GitHub/honours/dev/package\\analysis\\autoVC2.py\", line 195, in add_stages\n",
      "    stages = create_stages(df, **stage_info)\n",
      "  File \"C:/Users/mark/Documents/GitHub/honours/dev/package\\analysis\\autoVC2.py\", line 168, in create_stages\n",
      "    df2 = df.copy()\n",
      "AttributeError: 'NoneType' object has no attribute 'copy'\n"
     ]
    },
    {
     "name": "stdout",
     "output_type": "stream",
     "text": [
      "logManager - INFO - apply_constraints | Started\n",
      "logManager - ERROR - apply_constraints | Failed | 0.00\n",
      "Traceback (most recent call last):\n",
      "  File \"C:\\ProgramData\\Anaconda3\\lib\\site-packages\\pandas\\io\\pickle.py\", line 51, in try_read\n",
      "    with open(path, 'rb') as fh:\n",
      "FileNotFoundError: [Errno 2] No such file or directory: 'C:/Users/mark/Documents/GitHub/honours/submissions/thesis-original/figures/design/sparsity_features.pkl'\n",
      "\n",
      "During handling of the above exception, another exception occurred:\n",
      "\n",
      "Traceback (most recent call last):\n",
      "  File \"C:\\ProgramData\\Anaconda3\\lib\\site-packages\\pandas\\io\\pickle.py\", line 56, in try_read\n",
      "    with open(path, 'rb') as fh:\n",
      "FileNotFoundError: [Errno 2] No such file or directory: 'C:/Users/mark/Documents/GitHub/honours/submissions/thesis-original/figures/design/sparsity_features.pkl'\n",
      "\n",
      "During handling of the above exception, another exception occurred:\n",
      "\n",
      "Traceback (most recent call last):\n",
      "  File \"C:\\ProgramData\\Anaconda3\\lib\\site-packages\\pandas\\io\\pickle.py\", line 65, in read_pickle\n",
      "    return try_read(path)\n",
      "  File \"C:\\ProgramData\\Anaconda3\\lib\\site-packages\\pandas\\io\\pickle.py\", line 61, in try_read\n",
      "    with open(path, 'rb') as fh:\n",
      "FileNotFoundError: [Errno 2] No such file or directory: 'C:/Users/mark/Documents/GitHub/honours/submissions/thesis-original/figures/design/sparsity_features.pkl'\n",
      "\n",
      "During handling of the above exception, another exception occurred:\n",
      "\n",
      "Traceback (most recent call last):\n",
      "  File \"C:\\ProgramData\\Anaconda3\\lib\\site-packages\\pandas\\io\\pickle.py\", line 51, in try_read\n",
      "    with open(path, 'rb') as fh:\n",
      "FileNotFoundError: [Errno 2] No such file or directory: 'C:/Users/mark/Documents/GitHub/honours/submissions/thesis-original/figures/design/sparsity_features.pkl'\n",
      "\n",
      "During handling of the above exception, another exception occurred:\n",
      "\n",
      "Traceback (most recent call last):\n",
      "  File \"C:\\ProgramData\\Anaconda3\\lib\\site-packages\\pandas\\io\\pickle.py\", line 56, in try_read\n",
      "    with open(path, 'rb') as fh:\n",
      "FileNotFoundError: [Errno 2] No such file or directory: 'C:/Users/mark/Documents/GitHub/honours/submissions/thesis-original/figures/design/sparsity_features.pkl'\n",
      "\n",
      "During handling of the above exception, another exception occurred:\n",
      "\n",
      "Traceback (most recent call last):\n",
      "  File \"<ipython-input-212-23ef4a6020d0>\", line 2, in <module>\n",
      "    if reload: X = pd.read_pickle(pickle_path)\n",
      "  File \"C:\\ProgramData\\Anaconda3\\lib\\site-packages\\pandas\\io\\pickle.py\", line 68, in read_pickle\n",
      "    return try_read(path, encoding='latin1')\n",
      "  File \"C:\\ProgramData\\Anaconda3\\lib\\site-packages\\pandas\\io\\pickle.py\", line 61, in try_read\n",
      "    with open(path, 'rb') as fh:\n",
      "FileNotFoundError: [Errno 2] No such file or directory: 'C:/Users/mark/Documents/GitHub/honours/submissions/thesis-original/figures/design/sparsity_features.pkl'\n",
      "\n",
      "During handling of the above exception, another exception occurred:\n",
      "\n",
      "Traceback (most recent call last):\n",
      "  File \"C:/Users/mark/Documents/GitHub/honours/dev/package\\logManager.py\", line 56, in wrapper\n",
      "    try: result = f(*args, **kwargs)\n",
      "  File \"C:/Users/mark/Documents/GitHub/honours/dev/package\\analysis\\autoVC2.py\", line 162, in apply_constraints\n",
      "    age_old_cutoff = df[\"confidence_context_economy_company_age_number\"][df[\"keys_company_stage\"] == \"Series D+\"].quantile(0.75)\n",
      "TypeError: 'NoneType' object is not subscriptable\n"
     ]
    },
    {
     "name": "stderr",
     "output_type": "stream",
     "text": [
      "logManager - ERROR - apply_constraints | Failed | 0.00\n",
      "Traceback (most recent call last):\n",
      "  File \"C:\\ProgramData\\Anaconda3\\lib\\site-packages\\pandas\\io\\pickle.py\", line 51, in try_read\n",
      "    with open(path, 'rb') as fh:\n",
      "FileNotFoundError: [Errno 2] No such file or directory: 'C:/Users/mark/Documents/GitHub/honours/submissions/thesis-original/figures/design/sparsity_features.pkl'\n",
      "\n",
      "During handling of the above exception, another exception occurred:\n",
      "\n",
      "Traceback (most recent call last):\n",
      "  File \"C:\\ProgramData\\Anaconda3\\lib\\site-packages\\pandas\\io\\pickle.py\", line 56, in try_read\n",
      "    with open(path, 'rb') as fh:\n",
      "FileNotFoundError: [Errno 2] No such file or directory: 'C:/Users/mark/Documents/GitHub/honours/submissions/thesis-original/figures/design/sparsity_features.pkl'\n",
      "\n",
      "During handling of the above exception, another exception occurred:\n",
      "\n",
      "Traceback (most recent call last):\n",
      "  File \"C:\\ProgramData\\Anaconda3\\lib\\site-packages\\pandas\\io\\pickle.py\", line 65, in read_pickle\n",
      "    return try_read(path)\n",
      "  File \"C:\\ProgramData\\Anaconda3\\lib\\site-packages\\pandas\\io\\pickle.py\", line 61, in try_read\n",
      "    with open(path, 'rb') as fh:\n",
      "FileNotFoundError: [Errno 2] No such file or directory: 'C:/Users/mark/Documents/GitHub/honours/submissions/thesis-original/figures/design/sparsity_features.pkl'\n",
      "\n",
      "During handling of the above exception, another exception occurred:\n",
      "\n",
      "Traceback (most recent call last):\n",
      "  File \"C:\\ProgramData\\Anaconda3\\lib\\site-packages\\pandas\\io\\pickle.py\", line 51, in try_read\n",
      "    with open(path, 'rb') as fh:\n",
      "FileNotFoundError: [Errno 2] No such file or directory: 'C:/Users/mark/Documents/GitHub/honours/submissions/thesis-original/figures/design/sparsity_features.pkl'\n",
      "\n",
      "During handling of the above exception, another exception occurred:\n",
      "\n",
      "Traceback (most recent call last):\n",
      "  File \"C:\\ProgramData\\Anaconda3\\lib\\site-packages\\pandas\\io\\pickle.py\", line 56, in try_read\n",
      "    with open(path, 'rb') as fh:\n",
      "FileNotFoundError: [Errno 2] No such file or directory: 'C:/Users/mark/Documents/GitHub/honours/submissions/thesis-original/figures/design/sparsity_features.pkl'\n",
      "\n",
      "During handling of the above exception, another exception occurred:\n",
      "\n",
      "Traceback (most recent call last):\n",
      "  File \"<ipython-input-212-23ef4a6020d0>\", line 2, in <module>\n",
      "    if reload: X = pd.read_pickle(pickle_path)\n",
      "  File \"C:\\ProgramData\\Anaconda3\\lib\\site-packages\\pandas\\io\\pickle.py\", line 68, in read_pickle\n",
      "    return try_read(path, encoding='latin1')\n",
      "  File \"C:\\ProgramData\\Anaconda3\\lib\\site-packages\\pandas\\io\\pickle.py\", line 61, in try_read\n",
      "    with open(path, 'rb') as fh:\n",
      "FileNotFoundError: [Errno 2] No such file or directory: 'C:/Users/mark/Documents/GitHub/honours/submissions/thesis-original/figures/design/sparsity_features.pkl'\n",
      "\n",
      "During handling of the above exception, another exception occurred:\n",
      "\n",
      "Traceback (most recent call last):\n",
      "  File \"C:/Users/mark/Documents/GitHub/honours/dev/package\\logManager.py\", line 56, in wrapper\n",
      "    try: result = f(*args, **kwargs)\n",
      "  File \"C:/Users/mark/Documents/GitHub/honours/dev/package\\analysis\\autoVC2.py\", line 162, in apply_constraints\n",
      "    age_old_cutoff = df[\"confidence_context_economy_company_age_number\"][df[\"keys_company_stage\"] == \"Series D+\"].quantile(0.75)\n",
      "TypeError: 'NoneType' object is not subscriptable\n"
     ]
    },
    {
     "name": "stdout",
     "output_type": "stream",
     "text": [
      "logManager - INFO - filter_features | Started\n",
      "logManager - ERROR - filter_features | Failed | 0.00\n",
      "Traceback (most recent call last):\n",
      "  File \"C:\\ProgramData\\Anaconda3\\lib\\site-packages\\pandas\\io\\pickle.py\", line 51, in try_read\n",
      "    with open(path, 'rb') as fh:\n",
      "FileNotFoundError: [Errno 2] No such file or directory: 'C:/Users/mark/Documents/GitHub/honours/submissions/thesis-original/figures/design/sparsity_features.pkl'\n",
      "\n",
      "During handling of the above exception, another exception occurred:\n",
      "\n",
      "Traceback (most recent call last):\n",
      "  File \"C:\\ProgramData\\Anaconda3\\lib\\site-packages\\pandas\\io\\pickle.py\", line 56, in try_read\n",
      "    with open(path, 'rb') as fh:\n",
      "FileNotFoundError: [Errno 2] No such file or directory: 'C:/Users/mark/Documents/GitHub/honours/submissions/thesis-original/figures/design/sparsity_features.pkl'\n",
      "\n",
      "During handling of the above exception, another exception occurred:\n",
      "\n",
      "Traceback (most recent call last):\n",
      "  File \"C:\\ProgramData\\Anaconda3\\lib\\site-packages\\pandas\\io\\pickle.py\", line 65, in read_pickle\n",
      "    return try_read(path)\n",
      "  File \"C:\\ProgramData\\Anaconda3\\lib\\site-packages\\pandas\\io\\pickle.py\", line 61, in try_read\n",
      "    with open(path, 'rb') as fh:\n",
      "FileNotFoundError: [Errno 2] No such file or directory: 'C:/Users/mark/Documents/GitHub/honours/submissions/thesis-original/figures/design/sparsity_features.pkl'\n",
      "\n",
      "During handling of the above exception, another exception occurred:\n",
      "\n",
      "Traceback (most recent call last):\n",
      "  File \"C:\\ProgramData\\Anaconda3\\lib\\site-packages\\pandas\\io\\pickle.py\", line 51, in try_read\n",
      "    with open(path, 'rb') as fh:\n",
      "FileNotFoundError: [Errno 2] No such file or directory: 'C:/Users/mark/Documents/GitHub/honours/submissions/thesis-original/figures/design/sparsity_features.pkl'\n",
      "\n",
      "During handling of the above exception, another exception occurred:\n",
      "\n",
      "Traceback (most recent call last):\n",
      "  File \"C:\\ProgramData\\Anaconda3\\lib\\site-packages\\pandas\\io\\pickle.py\", line 56, in try_read\n",
      "    with open(path, 'rb') as fh:\n",
      "FileNotFoundError: [Errno 2] No such file or directory: 'C:/Users/mark/Documents/GitHub/honours/submissions/thesis-original/figures/design/sparsity_features.pkl'\n",
      "\n",
      "During handling of the above exception, another exception occurred:\n",
      "\n",
      "Traceback (most recent call last):\n",
      "  File \"<ipython-input-212-23ef4a6020d0>\", line 2, in <module>\n",
      "    if reload: X = pd.read_pickle(pickle_path)\n",
      "  File \"C:\\ProgramData\\Anaconda3\\lib\\site-packages\\pandas\\io\\pickle.py\", line 68, in read_pickle\n",
      "    return try_read(path, encoding='latin1')\n",
      "  File \"C:\\ProgramData\\Anaconda3\\lib\\site-packages\\pandas\\io\\pickle.py\", line 61, in try_read\n",
      "    with open(path, 'rb') as fh:\n",
      "FileNotFoundError: [Errno 2] No such file or directory: 'C:/Users/mark/Documents/GitHub/honours/submissions/thesis-original/figures/design/sparsity_features.pkl'\n",
      "\n",
      "During handling of the above exception, another exception occurred:\n",
      "\n",
      "Traceback (most recent call last):\n",
      "  File \"C:/Users/mark/Documents/GitHub/honours/dev/package\\logManager.py\", line 56, in wrapper\n",
      "    try: result = f(*args, **kwargs)\n",
      "  File \"C:/Users/mark/Documents/GitHub/honours/dev/package\\analysis\\autoVC2.py\", line 230, in filter_features\n",
      "    df = df.select_dtypes(['number'])\n",
      "AttributeError: 'NoneType' object has no attribute 'select_dtypes'\n"
     ]
    },
    {
     "name": "stderr",
     "output_type": "stream",
     "text": [
      "logManager - ERROR - filter_features | Failed | 0.00\n",
      "Traceback (most recent call last):\n",
      "  File \"C:\\ProgramData\\Anaconda3\\lib\\site-packages\\pandas\\io\\pickle.py\", line 51, in try_read\n",
      "    with open(path, 'rb') as fh:\n",
      "FileNotFoundError: [Errno 2] No such file or directory: 'C:/Users/mark/Documents/GitHub/honours/submissions/thesis-original/figures/design/sparsity_features.pkl'\n",
      "\n",
      "During handling of the above exception, another exception occurred:\n",
      "\n",
      "Traceback (most recent call last):\n",
      "  File \"C:\\ProgramData\\Anaconda3\\lib\\site-packages\\pandas\\io\\pickle.py\", line 56, in try_read\n",
      "    with open(path, 'rb') as fh:\n",
      "FileNotFoundError: [Errno 2] No such file or directory: 'C:/Users/mark/Documents/GitHub/honours/submissions/thesis-original/figures/design/sparsity_features.pkl'\n",
      "\n",
      "During handling of the above exception, another exception occurred:\n",
      "\n",
      "Traceback (most recent call last):\n",
      "  File \"C:\\ProgramData\\Anaconda3\\lib\\site-packages\\pandas\\io\\pickle.py\", line 65, in read_pickle\n",
      "    return try_read(path)\n",
      "  File \"C:\\ProgramData\\Anaconda3\\lib\\site-packages\\pandas\\io\\pickle.py\", line 61, in try_read\n",
      "    with open(path, 'rb') as fh:\n",
      "FileNotFoundError: [Errno 2] No such file or directory: 'C:/Users/mark/Documents/GitHub/honours/submissions/thesis-original/figures/design/sparsity_features.pkl'\n",
      "\n",
      "During handling of the above exception, another exception occurred:\n",
      "\n",
      "Traceback (most recent call last):\n",
      "  File \"C:\\ProgramData\\Anaconda3\\lib\\site-packages\\pandas\\io\\pickle.py\", line 51, in try_read\n",
      "    with open(path, 'rb') as fh:\n",
      "FileNotFoundError: [Errno 2] No such file or directory: 'C:/Users/mark/Documents/GitHub/honours/submissions/thesis-original/figures/design/sparsity_features.pkl'\n",
      "\n",
      "During handling of the above exception, another exception occurred:\n",
      "\n",
      "Traceback (most recent call last):\n",
      "  File \"C:\\ProgramData\\Anaconda3\\lib\\site-packages\\pandas\\io\\pickle.py\", line 56, in try_read\n",
      "    with open(path, 'rb') as fh:\n",
      "FileNotFoundError: [Errno 2] No such file or directory: 'C:/Users/mark/Documents/GitHub/honours/submissions/thesis-original/figures/design/sparsity_features.pkl'\n",
      "\n",
      "During handling of the above exception, another exception occurred:\n",
      "\n",
      "Traceback (most recent call last):\n",
      "  File \"<ipython-input-212-23ef4a6020d0>\", line 2, in <module>\n",
      "    if reload: X = pd.read_pickle(pickle_path)\n",
      "  File \"C:\\ProgramData\\Anaconda3\\lib\\site-packages\\pandas\\io\\pickle.py\", line 68, in read_pickle\n",
      "    return try_read(path, encoding='latin1')\n",
      "  File \"C:\\ProgramData\\Anaconda3\\lib\\site-packages\\pandas\\io\\pickle.py\", line 61, in try_read\n",
      "    with open(path, 'rb') as fh:\n",
      "FileNotFoundError: [Errno 2] No such file or directory: 'C:/Users/mark/Documents/GitHub/honours/submissions/thesis-original/figures/design/sparsity_features.pkl'\n",
      "\n",
      "During handling of the above exception, another exception occurred:\n",
      "\n",
      "Traceback (most recent call last):\n",
      "  File \"C:/Users/mark/Documents/GitHub/honours/dev/package\\logManager.py\", line 56, in wrapper\n",
      "    try: result = f(*args, **kwargs)\n",
      "  File \"C:/Users/mark/Documents/GitHub/honours/dev/package\\analysis\\autoVC2.py\", line 230, in filter_features\n",
      "    df = df.select_dtypes(['number'])\n",
      "AttributeError: 'NoneType' object has no attribute 'select_dtypes'\n"
     ]
    },
    {
     "ename": "AttributeError",
     "evalue": "'NoneType' object has no attribute 'to_pickle'",
     "output_type": "error",
     "traceback": [
      "\u001b[0;31m---------------------------------------------------------------------------\u001b[0m",
      "\u001b[0;31mFileNotFoundError\u001b[0m                         Traceback (most recent call last)",
      "\u001b[0;32mC:\\ProgramData\\Anaconda3\\lib\\site-packages\\pandas\\io\\pickle.py\u001b[0m in \u001b[0;36mtry_read\u001b[0;34m(path, encoding)\u001b[0m\n\u001b[1;32m     50\u001b[0m         \u001b[1;32mtry\u001b[0m\u001b[1;33m:\u001b[0m\u001b[1;33m\u001b[0m\u001b[0m\n\u001b[0;32m---> 51\u001b[0;31m             \u001b[1;32mwith\u001b[0m \u001b[0mopen\u001b[0m\u001b[1;33m(\u001b[0m\u001b[0mpath\u001b[0m\u001b[1;33m,\u001b[0m \u001b[1;34m'rb'\u001b[0m\u001b[1;33m)\u001b[0m \u001b[1;32mas\u001b[0m \u001b[0mfh\u001b[0m\u001b[1;33m:\u001b[0m\u001b[1;33m\u001b[0m\u001b[0m\n\u001b[0m\u001b[1;32m     52\u001b[0m                 \u001b[1;32mreturn\u001b[0m \u001b[0mpkl\u001b[0m\u001b[1;33m.\u001b[0m\u001b[0mload\u001b[0m\u001b[1;33m(\u001b[0m\u001b[0mfh\u001b[0m\u001b[1;33m)\u001b[0m\u001b[1;33m\u001b[0m\u001b[0m\n",
      "\u001b[0;31mFileNotFoundError\u001b[0m: [Errno 2] No such file or directory: 'C:/Users/mark/Documents/GitHub/honours/submissions/thesis-original/figures/design/sparsity_features.pkl'",
      "\nDuring handling of the above exception, another exception occurred:\n",
      "\u001b[0;31mFileNotFoundError\u001b[0m                         Traceback (most recent call last)",
      "\u001b[0;32mC:\\ProgramData\\Anaconda3\\lib\\site-packages\\pandas\\io\\pickle.py\u001b[0m in \u001b[0;36mtry_read\u001b[0;34m(path, encoding)\u001b[0m\n\u001b[1;32m     55\u001b[0m             \u001b[1;32mtry\u001b[0m\u001b[1;33m:\u001b[0m\u001b[1;33m\u001b[0m\u001b[0m\n\u001b[0;32m---> 56\u001b[0;31m                 \u001b[1;32mwith\u001b[0m \u001b[0mopen\u001b[0m\u001b[1;33m(\u001b[0m\u001b[0mpath\u001b[0m\u001b[1;33m,\u001b[0m \u001b[1;34m'rb'\u001b[0m\u001b[1;33m)\u001b[0m \u001b[1;32mas\u001b[0m \u001b[0mfh\u001b[0m\u001b[1;33m:\u001b[0m\u001b[1;33m\u001b[0m\u001b[0m\n\u001b[0m\u001b[1;32m     57\u001b[0m                     \u001b[1;32mreturn\u001b[0m \u001b[0mpc\u001b[0m\u001b[1;33m.\u001b[0m\u001b[0mload\u001b[0m\u001b[1;33m(\u001b[0m\u001b[0mfh\u001b[0m\u001b[1;33m,\u001b[0m \u001b[0mencoding\u001b[0m\u001b[1;33m=\u001b[0m\u001b[0mencoding\u001b[0m\u001b[1;33m,\u001b[0m \u001b[0mcompat\u001b[0m\u001b[1;33m=\u001b[0m\u001b[1;32mFalse\u001b[0m\u001b[1;33m)\u001b[0m\u001b[1;33m\u001b[0m\u001b[0m\n",
      "\u001b[0;31mFileNotFoundError\u001b[0m: [Errno 2] No such file or directory: 'C:/Users/mark/Documents/GitHub/honours/submissions/thesis-original/figures/design/sparsity_features.pkl'",
      "\nDuring handling of the above exception, another exception occurred:\n",
      "\u001b[0;31mFileNotFoundError\u001b[0m                         Traceback (most recent call last)",
      "\u001b[0;32mC:\\ProgramData\\Anaconda3\\lib\\site-packages\\pandas\\io\\pickle.py\u001b[0m in \u001b[0;36mread_pickle\u001b[0;34m(path)\u001b[0m\n\u001b[1;32m     64\u001b[0m     \u001b[1;32mtry\u001b[0m\u001b[1;33m:\u001b[0m\u001b[1;33m\u001b[0m\u001b[0m\n\u001b[0;32m---> 65\u001b[0;31m         \u001b[1;32mreturn\u001b[0m \u001b[0mtry_read\u001b[0m\u001b[1;33m(\u001b[0m\u001b[0mpath\u001b[0m\u001b[1;33m)\u001b[0m\u001b[1;33m\u001b[0m\u001b[0m\n\u001b[0m\u001b[1;32m     66\u001b[0m     \u001b[1;32mexcept\u001b[0m\u001b[1;33m:\u001b[0m\u001b[1;33m\u001b[0m\u001b[0m\n",
      "\u001b[0;32mC:\\ProgramData\\Anaconda3\\lib\\site-packages\\pandas\\io\\pickle.py\u001b[0m in \u001b[0;36mtry_read\u001b[0;34m(path, encoding)\u001b[0m\n\u001b[1;32m     60\u001b[0m             \u001b[1;32mexcept\u001b[0m\u001b[1;33m:\u001b[0m\u001b[1;33m\u001b[0m\u001b[0m\n\u001b[0;32m---> 61\u001b[0;31m                 \u001b[1;32mwith\u001b[0m \u001b[0mopen\u001b[0m\u001b[1;33m(\u001b[0m\u001b[0mpath\u001b[0m\u001b[1;33m,\u001b[0m \u001b[1;34m'rb'\u001b[0m\u001b[1;33m)\u001b[0m \u001b[1;32mas\u001b[0m \u001b[0mfh\u001b[0m\u001b[1;33m:\u001b[0m\u001b[1;33m\u001b[0m\u001b[0m\n\u001b[0m\u001b[1;32m     62\u001b[0m                     \u001b[1;32mreturn\u001b[0m \u001b[0mpc\u001b[0m\u001b[1;33m.\u001b[0m\u001b[0mload\u001b[0m\u001b[1;33m(\u001b[0m\u001b[0mfh\u001b[0m\u001b[1;33m,\u001b[0m \u001b[0mencoding\u001b[0m\u001b[1;33m=\u001b[0m\u001b[0mencoding\u001b[0m\u001b[1;33m,\u001b[0m \u001b[0mcompat\u001b[0m\u001b[1;33m=\u001b[0m\u001b[1;32mTrue\u001b[0m\u001b[1;33m)\u001b[0m\u001b[1;33m\u001b[0m\u001b[0m\n",
      "\u001b[0;31mFileNotFoundError\u001b[0m: [Errno 2] No such file or directory: 'C:/Users/mark/Documents/GitHub/honours/submissions/thesis-original/figures/design/sparsity_features.pkl'",
      "\nDuring handling of the above exception, another exception occurred:\n",
      "\u001b[0;31mFileNotFoundError\u001b[0m                         Traceback (most recent call last)",
      "\u001b[0;32mC:\\ProgramData\\Anaconda3\\lib\\site-packages\\pandas\\io\\pickle.py\u001b[0m in \u001b[0;36mtry_read\u001b[0;34m(path, encoding)\u001b[0m\n\u001b[1;32m     50\u001b[0m         \u001b[1;32mtry\u001b[0m\u001b[1;33m:\u001b[0m\u001b[1;33m\u001b[0m\u001b[0m\n\u001b[0;32m---> 51\u001b[0;31m             \u001b[1;32mwith\u001b[0m \u001b[0mopen\u001b[0m\u001b[1;33m(\u001b[0m\u001b[0mpath\u001b[0m\u001b[1;33m,\u001b[0m \u001b[1;34m'rb'\u001b[0m\u001b[1;33m)\u001b[0m \u001b[1;32mas\u001b[0m \u001b[0mfh\u001b[0m\u001b[1;33m:\u001b[0m\u001b[1;33m\u001b[0m\u001b[0m\n\u001b[0m\u001b[1;32m     52\u001b[0m                 \u001b[1;32mreturn\u001b[0m \u001b[0mpkl\u001b[0m\u001b[1;33m.\u001b[0m\u001b[0mload\u001b[0m\u001b[1;33m(\u001b[0m\u001b[0mfh\u001b[0m\u001b[1;33m)\u001b[0m\u001b[1;33m\u001b[0m\u001b[0m\n",
      "\u001b[0;31mFileNotFoundError\u001b[0m: [Errno 2] No such file or directory: 'C:/Users/mark/Documents/GitHub/honours/submissions/thesis-original/figures/design/sparsity_features.pkl'",
      "\nDuring handling of the above exception, another exception occurred:\n",
      "\u001b[0;31mFileNotFoundError\u001b[0m                         Traceback (most recent call last)",
      "\u001b[0;32mC:\\ProgramData\\Anaconda3\\lib\\site-packages\\pandas\\io\\pickle.py\u001b[0m in \u001b[0;36mtry_read\u001b[0;34m(path, encoding)\u001b[0m\n\u001b[1;32m     55\u001b[0m             \u001b[1;32mtry\u001b[0m\u001b[1;33m:\u001b[0m\u001b[1;33m\u001b[0m\u001b[0m\n\u001b[0;32m---> 56\u001b[0;31m                 \u001b[1;32mwith\u001b[0m \u001b[0mopen\u001b[0m\u001b[1;33m(\u001b[0m\u001b[0mpath\u001b[0m\u001b[1;33m,\u001b[0m \u001b[1;34m'rb'\u001b[0m\u001b[1;33m)\u001b[0m \u001b[1;32mas\u001b[0m \u001b[0mfh\u001b[0m\u001b[1;33m:\u001b[0m\u001b[1;33m\u001b[0m\u001b[0m\n\u001b[0m\u001b[1;32m     57\u001b[0m                     \u001b[1;32mreturn\u001b[0m \u001b[0mpc\u001b[0m\u001b[1;33m.\u001b[0m\u001b[0mload\u001b[0m\u001b[1;33m(\u001b[0m\u001b[0mfh\u001b[0m\u001b[1;33m,\u001b[0m \u001b[0mencoding\u001b[0m\u001b[1;33m=\u001b[0m\u001b[0mencoding\u001b[0m\u001b[1;33m,\u001b[0m \u001b[0mcompat\u001b[0m\u001b[1;33m=\u001b[0m\u001b[1;32mFalse\u001b[0m\u001b[1;33m)\u001b[0m\u001b[1;33m\u001b[0m\u001b[0m\n",
      "\u001b[0;31mFileNotFoundError\u001b[0m: [Errno 2] No such file or directory: 'C:/Users/mark/Documents/GitHub/honours/submissions/thesis-original/figures/design/sparsity_features.pkl'",
      "\nDuring handling of the above exception, another exception occurred:\n",
      "\u001b[0;31mFileNotFoundError\u001b[0m                         Traceback (most recent call last)",
      "\u001b[0;32m<ipython-input-212-23ef4a6020d0>\u001b[0m in \u001b[0;36m<module>\u001b[0;34m()\u001b[0m\n\u001b[1;32m      1\u001b[0m \u001b[1;32mtry\u001b[0m\u001b[1;33m:\u001b[0m\u001b[1;33m\u001b[0m\u001b[0m\n\u001b[0;32m----> 2\u001b[0;31m     \u001b[1;32mif\u001b[0m \u001b[0mreload\u001b[0m\u001b[1;33m:\u001b[0m \u001b[0mX\u001b[0m \u001b[1;33m=\u001b[0m \u001b[0mpd\u001b[0m\u001b[1;33m.\u001b[0m\u001b[0mread_pickle\u001b[0m\u001b[1;33m(\u001b[0m\u001b[0mpickle_path\u001b[0m\u001b[1;33m)\u001b[0m\u001b[1;33m\u001b[0m\u001b[0m\n\u001b[0m\u001b[1;32m      3\u001b[0m     \u001b[1;32melse\u001b[0m\u001b[1;33m:\u001b[0m \u001b[1;32mraise\u001b[0m \u001b[0mIOError\u001b[0m\u001b[1;33m\u001b[0m\u001b[0m\n",
      "\u001b[0;32mC:\\ProgramData\\Anaconda3\\lib\\site-packages\\pandas\\io\\pickle.py\u001b[0m in \u001b[0;36mread_pickle\u001b[0;34m(path)\u001b[0m\n\u001b[1;32m     67\u001b[0m         \u001b[1;32mif\u001b[0m \u001b[0mPY3\u001b[0m\u001b[1;33m:\u001b[0m\u001b[1;33m\u001b[0m\u001b[0m\n\u001b[0;32m---> 68\u001b[0;31m             \u001b[1;32mreturn\u001b[0m \u001b[0mtry_read\u001b[0m\u001b[1;33m(\u001b[0m\u001b[0mpath\u001b[0m\u001b[1;33m,\u001b[0m \u001b[0mencoding\u001b[0m\u001b[1;33m=\u001b[0m\u001b[1;34m'latin1'\u001b[0m\u001b[1;33m)\u001b[0m\u001b[1;33m\u001b[0m\u001b[0m\n\u001b[0m\u001b[1;32m     69\u001b[0m         \u001b[1;32mraise\u001b[0m\u001b[1;33m\u001b[0m\u001b[0m\n",
      "\u001b[0;32mC:\\ProgramData\\Anaconda3\\lib\\site-packages\\pandas\\io\\pickle.py\u001b[0m in \u001b[0;36mtry_read\u001b[0;34m(path, encoding)\u001b[0m\n\u001b[1;32m     60\u001b[0m             \u001b[1;32mexcept\u001b[0m\u001b[1;33m:\u001b[0m\u001b[1;33m\u001b[0m\u001b[0m\n\u001b[0;32m---> 61\u001b[0;31m                 \u001b[1;32mwith\u001b[0m \u001b[0mopen\u001b[0m\u001b[1;33m(\u001b[0m\u001b[0mpath\u001b[0m\u001b[1;33m,\u001b[0m \u001b[1;34m'rb'\u001b[0m\u001b[1;33m)\u001b[0m \u001b[1;32mas\u001b[0m \u001b[0mfh\u001b[0m\u001b[1;33m:\u001b[0m\u001b[1;33m\u001b[0m\u001b[0m\n\u001b[0m\u001b[1;32m     62\u001b[0m                     \u001b[1;32mreturn\u001b[0m \u001b[0mpc\u001b[0m\u001b[1;33m.\u001b[0m\u001b[0mload\u001b[0m\u001b[1;33m(\u001b[0m\u001b[0mfh\u001b[0m\u001b[1;33m,\u001b[0m \u001b[0mencoding\u001b[0m\u001b[1;33m=\u001b[0m\u001b[0mencoding\u001b[0m\u001b[1;33m,\u001b[0m \u001b[0mcompat\u001b[0m\u001b[1;33m=\u001b[0m\u001b[1;32mTrue\u001b[0m\u001b[1;33m)\u001b[0m\u001b[1;33m\u001b[0m\u001b[0m\n",
      "\u001b[0;31mFileNotFoundError\u001b[0m: [Errno 2] No such file or directory: 'C:/Users/mark/Documents/GitHub/honours/submissions/thesis-original/figures/design/sparsity_features.pkl'",
      "\nDuring handling of the above exception, another exception occurred:\n",
      "\u001b[0;31mAttributeError\u001b[0m                            Traceback (most recent call last)",
      "\u001b[0;32m<ipython-input-212-23ef4a6020d0>\u001b[0m in \u001b[0;36m<module>\u001b[0;34m()\u001b[0m\n\u001b[1;32m      5\u001b[0m     \u001b[0mdata\u001b[0m \u001b[1;33m=\u001b[0m \u001b[0mget_data\u001b[0m\u001b[1;33m(\u001b[0m\u001b[1;33m)\u001b[0m\u001b[1;33m\u001b[0m\u001b[0m\n\u001b[1;32m      6\u001b[0m     \u001b[0mX\u001b[0m \u001b[1;33m=\u001b[0m \u001b[0mvc\u001b[0m\u001b[1;33m.\u001b[0m\u001b[0mfilter_features\u001b[0m\u001b[1;33m(\u001b[0m\u001b[0mdata\u001b[0m\u001b[1;33m)\u001b[0m\u001b[1;33m\u001b[0m\u001b[0m\n\u001b[0;32m----> 7\u001b[0;31m     \u001b[0mX\u001b[0m\u001b[1;33m.\u001b[0m\u001b[0mto_pickle\u001b[0m\u001b[1;33m(\u001b[0m\u001b[0mpickle_path\u001b[0m\u001b[1;33m)\u001b[0m\u001b[1;33m\u001b[0m\u001b[0m\n\u001b[0m",
      "\u001b[0;31mAttributeError\u001b[0m: 'NoneType' object has no attribute 'to_pickle'"
     ]
    }
   ],
   "source": [
    "try:\n",
    "    if reload: X = pd.read_pickle(pickle_path)\n",
    "    else: raise IOError\n",
    "except IOError: \n",
    "    data = get_data()\n",
    "    X = vc.filter_features(data)\n",
    "    X.to_pickle(pickle_path)"
   ]
  },
  {
   "cell_type": "code",
   "execution_count": null,
   "metadata": {
    "collapsed": false
   },
   "outputs": [],
   "source": [
    "available_features = len(list(X)) - X.isnull().sum(axis=1)\n",
    "observations = len(X) - X.isnull().sum(axis=0)"
   ]
  },
  {
   "cell_type": "code",
   "execution_count": null,
   "metadata": {
    "collapsed": false
   },
   "outputs": [],
   "source": [
    "f = plt.figure()\n",
    "ax = sns.distplot(available_features, kde=False, norm_hist=False, hist_kws = outline_bars)\n",
    "ax.set_xlim(xmin=0, xmax=len(observations))\n",
    "helper.add_vertical_line(ax, np.median(available_features), \"Median\", color=\"r\")\n",
    "helper.format_axis_ticks(f, axis=\"y\", fmt=\"{:,}\")\n",
    "ax.set_xlabel(\"Available Features\")\n",
    "ax.set_ylabel(\"Companies\")\n",
    "plt.tight_layout()"
   ]
  },
  {
   "cell_type": "code",
   "execution_count": 103,
   "metadata": {
    "collapsed": true
   },
   "outputs": [],
   "source": [
    "output_path =  \"{}/{}.pdf\".format(SAVE_PATH, chart_id)\n",
    "f.savefig(output_path, bbox_inches=\"tight\")"
   ]
  },
  {
   "cell_type": "markdown",
   "metadata": {},
   "source": [
    "### Distribution of observations by feature"
   ]
  },
  {
   "cell_type": "code",
   "execution_count": 104,
   "metadata": {
    "collapsed": true
   },
   "outputs": [],
   "source": [
    "reload = True"
   ]
  },
  {
   "cell_type": "code",
   "execution_count": 105,
   "metadata": {
    "collapsed": true
   },
   "outputs": [],
   "source": [
    "chart_id = \"figures/design/sparsity_observations\"\n",
    "pickle_path = \"{}/{}.pkl\".format(SAVE_PATH, chart_id)"
   ]
  },
  {
   "cell_type": "code",
   "execution_count": 106,
   "metadata": {
    "collapsed": true
   },
   "outputs": [],
   "source": [
    "def get_data():\n",
    "    data = vc.prepare_dataset(\n",
    "        SYS_PATH + \"analysis/input/master.db\", date(2016, 9, 9),\n",
    "        SYS_PATH + \"analysis/config/master_feature.sql\", \"feature\",\n",
    "        SYS_PATH + \"analysis/output/temp/\", alt=True)\n",
    "    data = vc.add_stages(data)\n",
    "    data = vc.apply_constraints(data)\n",
    "    return data"
   ]
  },
  {
   "cell_type": "code",
   "execution_count": 107,
   "metadata": {
    "collapsed": false
   },
   "outputs": [],
   "source": [
    "try:\n",
    "    if reload: X = pd.read_pickle(pickle_path)\n",
    "    else: raise IOError\n",
    "except IOError: \n",
    "    data = get_data()\n",
    "    X = vc.filter_features(data)\n",
    "    X.to_pickle(pickle_path)"
   ]
  },
  {
   "cell_type": "code",
   "execution_count": 108,
   "metadata": {
    "collapsed": false
   },
   "outputs": [],
   "source": [
    "available_features = len(list(X)) - X.isnull().sum(axis=1)\n",
    "observations = len(X) - X.isnull().sum(axis=0)"
   ]
  },
  {
   "cell_type": "code",
   "execution_count": 109,
   "metadata": {
    "collapsed": false
   },
   "outputs": [
    {
     "data": {
      "image/png": "[encoded data removed]",
      "text/plain": [
       "<matplotlib.figure.Figure at 0x1c4a155a860>"
      ]
     },
     "metadata": {},
     "output_type": "display_data"
    }
   ],
   "source": [
    "f = plt.figure()\n",
    "ax = sns.distplot(observations, bins=60, kde=False, hist_kws = outline_bars)\n",
    "ax.set_xlim(xmin=0, xmax=len(available_features))\n",
    "helper.add_vertical_line(ax, np.median(observations), \"Median\", color=\"r\")\n",
    "helper.format_axis_ticks(f, axis=\"x\", fmt=\"{:,}\")\n",
    "ax.set_xlabel(\"Observations\")\n",
    "ax.set_ylabel(\"Features\")\n",
    "plt.tight_layout()"
   ]
  },
  {
   "cell_type": "code",
   "execution_count": 110,
   "metadata": {
    "collapsed": true
   },
   "outputs": [],
   "source": [
    "output_path =  \"{}/{}.pdf\".format(SAVE_PATH, chart_id)\n",
    "f.savefig(output_path, bbox_inches=\"tight\")"
   ]
  },
  {
   "cell_type": "markdown",
   "metadata": {},
   "source": [
    "### Distribution of skew by feature"
   ]
  },
  {
   "cell_type": "code",
   "execution_count": 111,
   "metadata": {
    "collapsed": true
   },
   "outputs": [],
   "source": [
    "reload = True"
   ]
  },
  {
   "cell_type": "code",
   "execution_count": 112,
   "metadata": {
    "collapsed": true
   },
   "outputs": [],
   "source": [
    "chart_id = \"figures/design/distribution_skew\"\n",
    "pickle_path = \"{}/{}.pkl\".format(SAVE_PATH, chart_id)"
   ]
  },
  {
   "cell_type": "code",
   "execution_count": 113,
   "metadata": {
    "collapsed": true
   },
   "outputs": [],
   "source": [
    "def get_data():\n",
    "    data = vc.prepare_dataset(\n",
    "        SYS_PATH + \"analysis/input/master.db\", date(2016, 9, 9),\n",
    "        SYS_PATH + \"analysis/config/master_feature.sql\", \"feature\",\n",
    "        SYS_PATH + \"analysis/output/temp/\", alt=True)\n",
    "    data = vc.add_stages(data)\n",
    "    data = vc.apply_constraints(data)\n",
    "    return data"
   ]
  },
  {
   "cell_type": "code",
   "execution_count": 114,
   "metadata": {
    "collapsed": false
   },
   "outputs": [],
   "source": [
    "try:\n",
    "    if reload: skews = pd.read_pickle(pickle_path)\n",
    "    else: raise IOError\n",
    "except IOError: \n",
    "    data = get_data()\n",
    "    X = vc.filter_features(data)\n",
    "    X = X.sample(1000)\n",
    "    skews = X.apply(lambda x: stats.skew(x.dropna())).dropna()\n",
    "    skews.to_pickle(pickle_path)"
   ]
  },
  {
   "cell_type": "code",
   "execution_count": 115,
   "metadata": {
    "collapsed": true
   },
   "outputs": [],
   "source": [
    "skews = skews[(skews >= -20) & (skews < 40)]"
   ]
  },
  {
   "cell_type": "code",
   "execution_count": 116,
   "metadata": {
    "collapsed": false
   },
   "outputs": [
    {
     "data": {
      "image/png": "[encoded data removed]",
      "text/plain": [
       "<matplotlib.figure.Figure at 0x1c484036160>"
      ]
     },
     "metadata": {},
     "output_type": "display_data"
    }
   ],
   "source": [
    "f = plt.figure()\n",
    "ax = sns.distplot(skews, kde=False, hist_kws = outline_bars)\n",
    "ax.set_xlim(xmin=-20, xmax=40)\n",
    "ax.xaxis.set_major_locator(tkr.MultipleLocator(5))\n",
    "helper.add_vertical_line(ax, 0, \"Normal\", color=\"b\", adj=0.1)\n",
    "helper.add_vertical_line(ax, np.median(skews), \"Median\", color=\"r\")\n",
    "ax.set_xlabel(\"Skewness\")\n",
    "ax.set_ylabel(\"Features\")\n",
    "plt.tight_layout()"
   ]
  },
  {
   "cell_type": "code",
   "execution_count": 117,
   "metadata": {
    "collapsed": true
   },
   "outputs": [],
   "source": [
    "output_path =  \"{}/{}.pdf\".format(SAVE_PATH, chart_id)\n",
    "f.savefig(output_path, bbox_inches=\"tight\")"
   ]
  },
  {
   "cell_type": "markdown",
   "metadata": {},
   "source": [
    "### Distribution of kurtosis by feature"
   ]
  },
  {
   "cell_type": "code",
   "execution_count": 118,
   "metadata": {
    "collapsed": true
   },
   "outputs": [],
   "source": [
    "reload = True"
   ]
  },
  {
   "cell_type": "code",
   "execution_count": 119,
   "metadata": {
    "collapsed": true
   },
   "outputs": [],
   "source": [
    "chart_id = \"tables/design/distribution_kurtosis\"\n",
    "pickle_path = \"{}/{}.pkl\".format(SAVE_PATH, chart_id)"
   ]
  },
  {
   "cell_type": "code",
   "execution_count": 120,
   "metadata": {
    "collapsed": true
   },
   "outputs": [],
   "source": [
    "def get_data():\n",
    "    data = vc.prepare_dataset(\n",
    "        SYS_PATH + \"analysis/input/master.db\", date(2016, 9, 9),\n",
    "        SYS_PATH + \"analysis/config/master_feature.sql\", \"feature\",\n",
    "        SYS_PATH + \"analysis/output/temp/\", alt=True)\n",
    "    data = vc.add_stages(data)\n",
    "    data = vc.apply_constraints(data)\n",
    "    return data"
   ]
  },
  {
   "cell_type": "code",
   "execution_count": 121,
   "metadata": {
    "collapsed": false
   },
   "outputs": [],
   "source": [
    "try:\n",
    "    if reload: kurtoses = pd.read_pickle(pickle_path)\n",
    "    else: raise IOError\n",
    "except IOError: \n",
    "    data = get_data()\n",
    "    X = vc.filter_features(data)\n",
    "    X = X.sample(1000)\n",
    "    kurtoses = X.apply(lambda x: stats.kurtosis(x.dropna())).dropna()\n",
    "    kurtoses.to_pickle(pickle_path)"
   ]
  },
  {
   "cell_type": "code",
   "execution_count": 122,
   "metadata": {
    "collapsed": false
   },
   "outputs": [],
   "source": [
    "kurtoses = kurtoses[(kurtoses >= -25) & (kurtoses < 200)]"
   ]
  },
  {
   "cell_type": "code",
   "execution_count": 123,
   "metadata": {
    "collapsed": false
   },
   "outputs": [
    {
     "data": {
      "image/png": "[encoded data removed]",
      "text/plain": [
       "<matplotlib.figure.Figure at 0x1c4839b98d0>"
      ]
     },
     "metadata": {},
     "output_type": "display_data"
    }
   ],
   "source": [
    "f = plt.figure()\n",
    "ax = sns.distplot(kurtoses, kde=False, hist_kws = outline_bars)\n",
    "ax.set_xlim(xmin=-25, xmax=200)\n",
    "ax.xaxis.set_major_locator(tkr.MultipleLocator(25))\n",
    "helper.add_vertical_line(ax, 0, \"Normal\", color=\"b\", adj=0.1)\n",
    "helper.add_vertical_line(ax, np.median(kurtoses), \"Median\", color=\"r\")\n",
    "ax.set_xlabel(\"Kurtosis\")\n",
    "ax.set_ylabel(\"Features\")\n",
    "plt.tight_layout()"
   ]
  },
  {
   "cell_type": "code",
   "execution_count": 124,
   "metadata": {
    "collapsed": true
   },
   "outputs": [],
   "source": [
    "output_path =  \"{}/{}.pdf\".format(SAVE_PATH, chart_id)\n",
    "f.savefig(output_path, bbox_inches=\"tight\")"
   ]
  },
  {
   "cell_type": "markdown",
   "metadata": {},
   "source": [
    "### Distribution of interquartile ranges"
   ]
  },
  {
   "cell_type": "code",
   "execution_count": 125,
   "metadata": {
    "collapsed": true
   },
   "outputs": [],
   "source": [
    "reload = True"
   ]
  },
  {
   "cell_type": "code",
   "execution_count": 126,
   "metadata": {
    "collapsed": true
   },
   "outputs": [],
   "source": [
    "chart_id = \"tables/design/distribution_ranges\"\n",
    "pickle_path = \"{}/{}.pkl\".format(SAVE_PATH, chart_id)"
   ]
  },
  {
   "cell_type": "code",
   "execution_count": 127,
   "metadata": {
    "collapsed": true
   },
   "outputs": [],
   "source": [
    "def get_data():\n",
    "    data = vc.prepare_dataset(\n",
    "        SYS_PATH + \"analysis/input/master.db\", date(2016, 9, 9),\n",
    "        SYS_PATH + \"analysis/config/master_feature.sql\", \"feature\",\n",
    "        SYS_PATH + \"analysis/output/temp/\", alt=True)\n",
    "    data = vc.add_stages(data)\n",
    "    data = vc.apply_constraints(data)\n",
    "    return data"
   ]
  },
  {
   "cell_type": "code",
   "execution_count": 128,
   "metadata": {
    "collapsed": false
   },
   "outputs": [],
   "source": [
    "try:\n",
    "    if reload: iqrs = pd.read_pickle(pickle_path)\n",
    "    else: raise IOError\n",
    "except IOError: \n",
    "    data = get_data()\n",
    "    X = vc.filter_features(data)\n",
    "    X = X.sample(1000)\n",
    "    iqrs = X.apply(lambda x: stats.iqr(x.dropna())).dropna()\n",
    "    iqrs.to_pickle(pickle_path)"
   ]
  },
  {
   "cell_type": "code",
   "execution_count": 129,
   "metadata": {
    "collapsed": false
   },
   "outputs": [],
   "source": [
    "iqrs = np.log1p(iqrs)\n",
    "iqrs = iqrs[(iqrs >= 0) & (iqrs < 25)]"
   ]
  },
  {
   "cell_type": "code",
   "execution_count": 130,
   "metadata": {
    "collapsed": false
   },
   "outputs": [
    {
     "name": "stderr",
     "output_type": "stream",
     "text": [
      "C:\\ProgramData\\Anaconda3\\lib\\site-packages\\statsmodels\\nonparametric\\kdetools.py:20: VisibleDeprecationWarning: using a non-integer number instead of an integer will result in an error in the future\n",
      "  y = X[:m/2+1] + np.r_[0,X[m/2+1:],0]*1j\n"
     ]
    },
    {
     "data": {
      "image/png": "[encoded data removed]",
      "text/plain": [
       "<matplotlib.figure.Figure at 0x1c48050b320>"
      ]
     },
     "metadata": {},
     "output_type": "display_data"
    }
   ],
   "source": [
    "f = plt.figure()\n",
    "ax = sns.distplot(iqrs, hist_kws = outline_bars)\n",
    "ax.set_xlim(xmin=0, xmax=25)\n",
    "helper.add_vertical_line(ax, np.mean(iqrs), \"Mean\", color=\"b\")\n",
    "helper.add_vertical_line(ax, np.median(iqrs), \"Median\", color=\"r\")\n",
    "ax.set_xlabel(\"Interquartile Range (log1p)\")\n",
    "ax.set_ylabel(\"Features\")\n",
    "plt.tight_layout()"
   ]
  },
  {
   "cell_type": "code",
   "execution_count": 131,
   "metadata": {
    "collapsed": true
   },
   "outputs": [],
   "source": [
    "output_path =  \"{}/{}.pdf\".format(SAVE_PATH, chart_id)\n",
    "f.savefig(output_path, bbox_inches=\"tight\")"
   ]
  },
  {
   "cell_type": "markdown",
   "metadata": {},
   "source": [
    "### Distribution of intercorrelations"
   ]
  },
  {
   "cell_type": "code",
   "execution_count": 132,
   "metadata": {
    "collapsed": true
   },
   "outputs": [],
   "source": [
    "reload = True"
   ]
  },
  {
   "cell_type": "code",
   "execution_count": 133,
   "metadata": {
    "collapsed": true
   },
   "outputs": [],
   "source": [
    "chart_id = \"tables/design/distribution_orthogonality\"\n",
    "pickle_path = \"{}/{}.pkl\".format(SAVE_PATH, chart_id)"
   ]
  },
  {
   "cell_type": "code",
   "execution_count": 134,
   "metadata": {
    "collapsed": true
   },
   "outputs": [],
   "source": [
    "def get_data():\n",
    "    data = vc.prepare_dataset(\n",
    "        SYS_PATH + \"analysis/input/master.db\", date(2016, 9, 9),\n",
    "        SYS_PATH + \"analysis/config/master_feature.sql\", \"feature\",\n",
    "        SYS_PATH + \"analysis/output/temp/\", alt=True)\n",
    "    data = vc.add_stages(data)\n",
    "    data = vc.apply_constraints(data)\n",
    "    return data"
   ]
  },
  {
   "cell_type": "code",
   "execution_count": 135,
   "metadata": {
    "collapsed": true
   },
   "outputs": [],
   "source": [
    "def develop_corrs(X):\n",
    "    thresholds = [x*.1 for x in range(10)]\n",
    "    pearson = {x: pd.DataFrame(np.where(abs(X.corr(method=\"pearson\").stack()) >= x, True, False)).stack().value_counts(normalize=True)[True]*100 for x in thresholds}\n",
    "    pearson = pd.DataFrame.from_dict(data=pearson, orient=\"index\")\n",
    "    pearson[\"Method\"] = \"Pearson\"\n",
    "    spearman = {x: pd.DataFrame(np.where(abs(X.corr(method=\"spearman\").stack()) >= x, True, False)).stack().value_counts(normalize=True)[True]*100 for x in thresholds}\n",
    "    spearman = pd.DataFrame.from_dict(data=spearman, orient=\"index\")\n",
    "    spearman[\"Method\"] = \"Spearman\"\n",
    "    corrs = pd.concat([spearman, pearson], axis=0)\n",
    "    corrs = corrs.drop(0.0)\n",
    "    return corrs"
   ]
  },
  {
   "cell_type": "code",
   "execution_count": 136,
   "metadata": {
    "collapsed": false
   },
   "outputs": [],
   "source": [
    "try:\n",
    "    if reload: corrs = pd.read_pickle(pickle_path)\n",
    "    else: raise IOError\n",
    "except IOError: \n",
    "    data = get_data()\n",
    "    X = vc.filter_features(data)\n",
    "    X = X.sample(1000)\n",
    "    corrs = develop_corrs(X)\n",
    "    corrs.to_pickle(pickle_path)"
   ]
  },
  {
   "cell_type": "code",
   "execution_count": 139,
   "metadata": {
    "collapsed": false
   },
   "outputs": [
    {
     "data": {
      "image/png": "[encoded data removed]",
      "text/plain": [
       "<matplotlib.figure.Figure at 0x1c4841746d8>"
      ]
     },
     "metadata": {},
     "output_type": "display_data"
    }
   ],
   "source": [
    "f = plt.figure()\n",
    "ax = sns.barplot(x=corrs.index, y=corrs[0], hue=corrs[\"Method\"], **outline_bars)\n",
    "helper.auto_label(ax, fmt='{:,.0f}',size=SMALL_SIZE)\n",
    "ax.set_xlabel(\"Correlation Cutoff (Absolute)\")\n",
    "ax.set_ylabel(\"Intercorrelations\\nabove Cutoff (%)\")\n",
    "plt.tight_layout()"
   ]
  },
  {
   "cell_type": "code",
   "execution_count": 140,
   "metadata": {
    "collapsed": true
   },
   "outputs": [],
   "source": [
    "output_path =  \"{}/{}.pdf\".format(SAVE_PATH, chart_id)\n",
    "f.savefig(output_path, bbox_inches=\"tight\")"
   ]
  },
  {
   "cell_type": "markdown",
   "metadata": {},
   "source": [
    "### Distribution of central tendency"
   ]
  },
  {
   "cell_type": "code",
   "execution_count": 141,
   "metadata": {
    "collapsed": true
   },
   "outputs": [],
   "source": [
    "reload = True"
   ]
  },
  {
   "cell_type": "code",
   "execution_count": 142,
   "metadata": {
    "collapsed": true
   },
   "outputs": [],
   "source": [
    "chart_id = \"tables/design/distribution_central_tendency\"\n",
    "pickle_path = \"{}/{}.pkl\".format(SAVE_PATH, chart_id)"
   ]
  },
  {
   "cell_type": "code",
   "execution_count": 143,
   "metadata": {
    "collapsed": true
   },
   "outputs": [],
   "source": [
    "def get_data():\n",
    "    data = vc.prepare_dataset(\n",
    "        SYS_PATH + \"analysis/input/master.db\", date(2016, 9, 9),\n",
    "        SYS_PATH + \"analysis/config/master_feature.sql\", \"feature\",\n",
    "        SYS_PATH + \"analysis/output/temp/\", alt=True)\n",
    "    data = vc.add_stages(data)\n",
    "    data = vc.apply_constraints(data)\n",
    "    return data"
   ]
  },
  {
   "cell_type": "code",
   "execution_count": 144,
   "metadata": {
    "collapsed": false
   },
   "outputs": [],
   "source": [
    "try:\n",
    "    if reload: X = pd.read_pickle(pickle_path)\n",
    "    else: raise IOError\n",
    "except IOError: \n",
    "    data = get_data()\n",
    "    X = vc.filter_features(data)\n",
    "    X = X.sample(1000)\n",
    "    X.to_pickle(pickle_path)"
   ]
  },
  {
   "cell_type": "code",
   "execution_count": 145,
   "metadata": {
    "collapsed": false
   },
   "outputs": [
    {
     "name": "stderr",
     "output_type": "stream",
     "text": [
      "C:\\ProgramData\\Anaconda3\\lib\\site-packages\\ipykernel\\__main__.py:2: RuntimeWarning: invalid value encountered in log1p\n",
      "  from ipykernel import kernelapp as app\n",
      "C:\\ProgramData\\Anaconda3\\lib\\site-packages\\numpy\\core\\_methods.py:59: RuntimeWarning: Mean of empty slice.\n",
      "  warnings.warn(\"Mean of empty slice.\", RuntimeWarning)\n",
      "C:\\ProgramData\\Anaconda3\\lib\\site-packages\\numpy\\core\\_methods.py:70: RuntimeWarning: invalid value encountered in double_scalars\n",
      "  ret = ret.dtype.type(ret / rcount)\n",
      "C:\\ProgramData\\Anaconda3\\lib\\site-packages\\ipykernel\\__main__.py:4: RuntimeWarning: invalid value encountered in log1p\n"
     ]
    }
   ],
   "source": [
    "means = X.apply(lambda x: np.mean(x.dropna())).dropna()\n",
    "means = np.log1p(means)\n",
    "medians = X.apply(lambda x: np.median(x.dropna())).dropna()\n",
    "medians = np.log1p(medians)\n",
    "modes = X.apply(helper.get_mode).dropna()\n",
    "modes = np.log1p(np.absolute(modes))"
   ]
  },
  {
   "cell_type": "code",
   "execution_count": 146,
   "metadata": {
    "collapsed": false
   },
   "outputs": [
    {
     "name": "stderr",
     "output_type": "stream",
     "text": [
      "C:\\ProgramData\\Anaconda3\\lib\\site-packages\\numpy\\lib\\function_base.py:583: RuntimeWarning: invalid value encountered in greater_equal\n",
      "  keep = (tmp_a >= mn)\n",
      "C:\\ProgramData\\Anaconda3\\lib\\site-packages\\numpy\\lib\\function_base.py:584: RuntimeWarning: invalid value encountered in less_equal\n",
      "  keep &= (tmp_a <= mx)\n"
     ]
    },
    {
     "data": {
      "image/png": "[encoded data removed]",
      "text/plain": [
       "<matplotlib.figure.Figure at 0x1c4a752c240>"
      ]
     },
     "metadata": {},
     "output_type": "display_data"
    }
   ],
   "source": [
    "f = plt.figure()\n",
    "plt.hist([means, medians, modes],label=[\"Mean\",\"Median\",\"Mode\"], **outline_bars)\n",
    "plt.xlabel(\"Measures of Central Tendency (log1p)\")\n",
    "plt.ylabel(\"Features\")\n",
    "plt.legend(title=\"Method\")\n",
    "plt.tight_layout()"
   ]
  },
  {
   "cell_type": "code",
   "execution_count": 147,
   "metadata": {
    "collapsed": true
   },
   "outputs": [],
   "source": [
    "output_path =  \"{}/{}.pdf\".format(SAVE_PATH, chart_id)\n",
    "f.savefig(output_path, bbox_inches=\"tight\")"
   ]
  },
  {
   "cell_type": "markdown",
   "metadata": {},
   "source": [
    "### Distribution of funding raised transformed"
   ]
  },
  {
   "cell_type": "code",
   "execution_count": 148,
   "metadata": {
    "collapsed": true
   },
   "outputs": [],
   "source": [
    "reload = True"
   ]
  },
  {
   "cell_type": "code",
   "execution_count": 149,
   "metadata": {
    "collapsed": true
   },
   "outputs": [],
   "source": [
    "chart_id = \"tables/design/distribution_funding_transformed\"\n",
    "pickle_path = \"{}/{}.pkl\".format(SAVE_PATH, chart_id)"
   ]
  },
  {
   "cell_type": "code",
   "execution_count": 150,
   "metadata": {
    "collapsed": true
   },
   "outputs": [],
   "source": [
    "def get_data():\n",
    "    data = vc.prepare_dataset(\n",
    "        SYS_PATH + \"analysis/input/master.db\", date(2016, 9, 9),\n",
    "        SYS_PATH + \"analysis/config/master_feature.sql\", \"feature\",\n",
    "        SYS_PATH + \"analysis/output/temp/\", alt=True)\n",
    "    data = vc.add_stages(data)\n",
    "    data = vc.apply_constraints(data)\n",
    "    return data"
   ]
  },
  {
   "cell_type": "code",
   "execution_count": 151,
   "metadata": {
    "collapsed": false
   },
   "outputs": [],
   "source": [
    "try:\n",
    "    if reload: X = pd.read_pickle(pickle_path)\n",
    "    else: raise IOError\n",
    "except IOError: \n",
    "    data = get_data()\n",
    "    X = vc.filter_features(data)\n",
    "    X.to_pickle(pickle_path)"
   ]
  },
  {
   "cell_type": "code",
   "execution_count": 152,
   "metadata": {
    "collapsed": true
   },
   "outputs": [],
   "source": [
    "from sklearn.preprocessing import Imputer\n",
    "X = X.dropna(axis=1, how = \"all\")\n",
    "imp = Imputer(strategy=\"median\")\n",
    "X_imp = imp.fit_transform(X)\n",
    "X_imp = pd.DataFrame(X_imp, index=X.index, columns=list(X))\n",
    "X_pos = X_imp.subtract(X_imp.min(axis=0))"
   ]
  },
  {
   "cell_type": "code",
   "execution_count": 153,
   "metadata": {
    "collapsed": false
   },
   "outputs": [],
   "source": [
    "funding = pd.to_numeric(X_pos[\"confidence_validation_funding_raised_value_total_number\"],errors=\"coerce\")\n",
    "log1p = pd.DataFrame(np.log1p(funding), index=X_pos.index)\n",
    "sqrt = pd.DataFrame(funding**(1/2), index=X_pos.index)\n",
    "funding = funding.to_frame()\n",
    "funding[\"Method\"] = \"None\"\n",
    "log1p[\"Method\"] = \"Log1P\"\n",
    "sqrt[\"Method\"] = \"SQRT\"\n",
    "transforms = pd.concat([funding,log1p,sqrt],axis=0)\n",
    "funding = transforms[\"confidence_validation_funding_raised_value_total_number\"]\n",
    "funding.name = \"Funding Raised\""
   ]
  },
  {
   "cell_type": "code",
   "execution_count": 154,
   "metadata": {
    "collapsed": false
   },
   "outputs": [
    {
     "name": "stderr",
     "output_type": "stream",
     "text": [
      "C:\\ProgramData\\Anaconda3\\lib\\site-packages\\statsmodels\\nonparametric\\kdetools.py:20: VisibleDeprecationWarning: using a non-integer number instead of an integer will result in an error in the future\n",
      "  y = X[:m/2+1] + np.r_[0,X[m/2+1:],0]*1j\n"
     ]
    },
    {
     "data": {
      "image/png": "[encoded data removed]",
      "text/plain": [
       "<matplotlib.figure.Figure at 0x1c482f98da0>"
      ]
     },
     "metadata": {},
     "output_type": "display_data"
    }
   ],
   "source": [
    "f, (ax1, ax2, ax3) = plt.subplots(nrows=1, ncols=3)\n",
    "\n",
    "sns.distplot(funding[transforms[\"Method\"] == \"None\"],ax=ax1)\n",
    "ax1.set_title(\"None\")\n",
    "ax1.xaxis.label.set_visible(False)\n",
    "\n",
    "sns.distplot(funding[transforms[\"Method\"] == \"SQRT\"],ax=ax2)\n",
    "ax2.set_title(\"SQRT\")\n",
    "ax2.xaxis.label.set_visible(False)\n",
    "\n",
    "sns.distplot(funding[transforms[\"Method\"] == \"Log1P\"],ax=ax3)\n",
    "ax3.set_title(\"Log1P\")\n",
    "ax3.xaxis.label.set_visible(False)\n",
    "\n",
    "f.text(0.5, -0.04, 'Funding Raised', size= MEDIUM_SIZE, ha='center')\n",
    "f.text(-0.04, 0.5, 'Density', va='center', size= MEDIUM_SIZE, rotation='vertical')\n",
    "plt.tight_layout()"
   ]
  },
  {
   "cell_type": "code",
   "execution_count": 155,
   "metadata": {
    "collapsed": true
   },
   "outputs": [],
   "source": [
    "output_path =  \"{}/{}.pdf\".format(SAVE_PATH, chart_id)\n",
    "f.savefig(output_path, bbox_inches=\"tight\")"
   ]
  },
  {
   "cell_type": "markdown",
   "metadata": {},
   "source": [
    "### Distribution of eigenvalues from PCA"
   ]
  },
  {
   "cell_type": "code",
   "execution_count": 164,
   "metadata": {
    "collapsed": true
   },
   "outputs": [],
   "source": [
    "reload = False"
   ]
  },
  {
   "cell_type": "code",
   "execution_count": 165,
   "metadata": {
    "collapsed": true
   },
   "outputs": [],
   "source": [
    "chart_id = \"tables/design/distribution_eigenvalues\"\n",
    "pickle_path = \"{}/{}.pkl\".format(SAVE_PATH, chart_id)"
   ]
  },
  {
   "cell_type": "code",
   "execution_count": 166,
   "metadata": {
    "collapsed": true
   },
   "outputs": [],
   "source": [
    "def get_data():\n",
    "    data = vc.prepare_dataset(\n",
    "        SYS_PATH + \"analysis/input/master.db\", date(2016, 9, 9),\n",
    "        SYS_PATH + \"analysis/config/master_feature.sql\", \"feature\",\n",
    "        SYS_PATH + \"analysis/output/temp/\", alt=True)\n",
    "    data = vc.add_stages(data)\n",
    "    data = vc.apply_constraints(data)\n",
    "    return data"
   ]
  },
  {
   "cell_type": "code",
   "execution_count": 167,
   "metadata": {
    "collapsed": false
   },
   "outputs": [
    {
     "name": "stdout",
     "output_type": "stream",
     "text": [
      "logManager - INFO - prepare_dataset | Started\n",
      "logManager - INFO - prepare_dataset | Passed | 23.97\n",
      "logManager - INFO - add_stages | Started\n",
      "logManager - INFO - add_stages | Passed | 41.94\n",
      "logManager - INFO - apply_constraints | Started\n",
      "logManager - INFO - apply_constraints | Passed | 30.03\n",
      "logManager - INFO - filter_features | Started\n",
      "logManager - INFO - filter_features | Passed | 3.50\n"
     ]
    }
   ],
   "source": [
    "try:\n",
    "    if reload: X = pd.read_pickle(pickle_path)\n",
    "    else: raise IOError\n",
    "except IOError: \n",
    "    data = get_data()\n",
    "    X = vc.filter_features(data)\n",
    "    X.to_pickle(pickle_path)"
   ]
  },
  {
   "cell_type": "code",
   "execution_count": 168,
   "metadata": {
    "collapsed": false
   },
   "outputs": [],
   "source": [
    "from sklearn.preprocessing import Imputer\n",
    "X = X.dropna(axis=1, how = \"all\")\n",
    "imp = Imputer(strategy=\"median\")\n",
    "X_imp = imp.fit_transform(X)\n",
    "X_imp = pd.DataFrame(X_imp, index=X.index, columns=list(X))\n",
    "X_pos = X_imp.subtract(X_imp.min(axis=0))\n",
    "from sklearn.preprocessing import FunctionTransformer\n",
    "ft = FunctionTransformer(np.log1p)\n",
    "X_tf = ft.fit_transform(X_pos)\n",
    "X_tf = pd.DataFrame(X_tf, index=X_pos.index, columns=list(X_pos))\n",
    "from sklearn.preprocessing import scale\n",
    "X_std = scale(X_tf)\n",
    "X_std = pd.DataFrame(X_std, index=X_tf.index, columns=list(X_tf))\n",
    "from sklearn.decomposition import PCA\n",
    "pca = PCA().fit(X_std)"
   ]
  },
  {
   "cell_type": "code",
   "execution_count": 174,
   "metadata": {
    "collapsed": false
   },
   "outputs": [
    {
     "data": {
      "image/png": "[encoded data removed]",
      "text/plain": [
       "<matplotlib.figure.Figure at 0x1c4a75845c0>"
      ]
     },
     "metadata": {},
     "output_type": "display_data"
    }
   ],
   "source": [
    "f = plt.figure()\n",
    "plt.plot(np.arange(len(list(X_std))) + 1, pca.explained_variance_)\n",
    "ax = plt.gca()\n",
    "ax.xaxis.set_major_locator(tkr.MultipleLocator(5))\n",
    "ax.set_ylabel(\"Eigenvalue\")\n",
    "ax.set_xlabel(\"Component Number\")\n",
    "helper.add_horizontal_line(ax, 1, \"Cutoff\", color=\"r\")\n",
    "ax.set_xlim(1,50)\n",
    "plt.tight_layout()"
   ]
  },
  {
   "cell_type": "code",
   "execution_count": 175,
   "metadata": {
    "collapsed": true
   },
   "outputs": [],
   "source": [
    "output_path =  \"{}/{}.pdf\".format(SAVE_PATH, chart_id)\n",
    "f.savefig(output_path, bbox_inches=\"tight\")"
   ]
  },
  {
   "cell_type": "markdown",
   "metadata": {},
   "source": [
    "### Inter-correlations of factors from framework"
   ]
  },
  {
   "cell_type": "code",
   "execution_count": 176,
   "metadata": {
    "collapsed": true
   },
   "outputs": [],
   "source": [
    "reload = False"
   ]
  },
  {
   "cell_type": "code",
   "execution_count": 177,
   "metadata": {
    "collapsed": true
   },
   "outputs": [],
   "source": [
    "chart_id = \"tables/design/distribution_correlations_grouped\"\n",
    "pickle_path = \"{}/{}.pkl\".format(SAVE_PATH, chart_id)"
   ]
  },
  {
   "cell_type": "code",
   "execution_count": 178,
   "metadata": {
    "collapsed": true
   },
   "outputs": [],
   "source": [
    "def get_data():\n",
    "    data = vc.prepare_dataset(\n",
    "        SYS_PATH + \"analysis/input/master.db\", date(2016, 9, 9),\n",
    "        SYS_PATH + \"analysis/config/master_feature.sql\", \"feature\",\n",
    "        SYS_PATH + \"analysis/output/temp/\", alt=True)\n",
    "    data = vc.add_stages(data)\n",
    "    data = vc.apply_constraints(data)\n",
    "    return data"
   ]
  },
  {
   "cell_type": "code",
   "execution_count": 179,
   "metadata": {
    "collapsed": false
   },
   "outputs": [
    {
     "name": "stdout",
     "output_type": "stream",
     "text": [
      "logManager - INFO - prepare_dataset | Started\n",
      "logManager - INFO - prepare_dataset | Passed | 24.65\n",
      "logManager - INFO - add_stages | Started\n",
      "logManager - INFO - add_stages | Passed | 43.95\n",
      "logManager - INFO - apply_constraints | Started\n",
      "logManager - INFO - apply_constraints | Passed | 32.75\n",
      "logManager - INFO - filter_features | Started\n",
      "logManager - INFO - filter_features | Passed | 3.24\n"
     ]
    }
   ],
   "source": [
    "try:\n",
    "    if reload: X = pd.read_pickle(pickle_path)\n",
    "    else: raise IOError\n",
    "except IOError: \n",
    "    data = get_data()\n",
    "    X = vc.filter_features(data)\n",
    "    X.to_pickle(pickle_path)"
   ]
  },
  {
   "cell_type": "code",
   "execution_count": 180,
   "metadata": {
    "collapsed": false
   },
   "outputs": [],
   "source": [
    "from sklearn.preprocessing import Imputer\n",
    "X = X.dropna(axis=1, how = \"all\")\n",
    "imp = Imputer(strategy=\"median\")\n",
    "X_imp = imp.fit_transform(X)\n",
    "X_imp = pd.DataFrame(X_imp, index=X.index, columns=list(X))\n",
    "X_pos = X_imp.subtract(X_imp.min(axis=0))\n",
    "from sklearn.preprocessing import FunctionTransformer\n",
    "ft = FunctionTransformer(np.log1p)\n",
    "X_tf = ft.fit_transform(X_pos)\n",
    "X_tf = pd.DataFrame(X_tf, index=X_pos.index, columns=list(X_pos))\n",
    "from sklearn.preprocessing import scale\n",
    "X_std = scale(X_tf)\n",
    "X_std = pd.DataFrame(X_std, index=X_tf.index, columns=list(X_tf))"
   ]
  },
  {
   "cell_type": "code",
   "execution_count": 202,
   "metadata": {
    "collapsed": false
   },
   "outputs": [
    {
     "name": "stderr",
     "output_type": "stream",
     "text": [
      "C:\\ProgramData\\Anaconda3\\lib\\site-packages\\numpy\\lib\\function_base.py:2569: RuntimeWarning: invalid value encountered in true_divide\n",
      "  c /= stddev[:, None]\n",
      "C:\\ProgramData\\Anaconda3\\lib\\site-packages\\numpy\\lib\\function_base.py:2570: RuntimeWarning: invalid value encountered in true_divide\n",
      "  c /= stddev[None, :]\n",
      "C:\\ProgramData\\Anaconda3\\lib\\site-packages\\scipy\\stats\\_distn_infrastructure.py:875: RuntimeWarning: invalid value encountered in greater\n",
      "  return (self.a < x) & (x < self.b)\n",
      "C:\\ProgramData\\Anaconda3\\lib\\site-packages\\scipy\\stats\\_distn_infrastructure.py:875: RuntimeWarning: invalid value encountered in less\n",
      "  return (self.a < x) & (x < self.b)\n",
      "C:\\ProgramData\\Anaconda3\\lib\\site-packages\\scipy\\stats\\_distn_infrastructure.py:1814: RuntimeWarning: invalid value encountered in less_equal\n",
      "  cond2 = cond0 & (x <= self.a)\n"
     ]
    }
   ],
   "source": [
    "from collections import defaultdict\n",
    "from itertools import combinations\n",
    "\n",
    "features = list(X_std)\n",
    "f_map = {x:x.split(\"_\")[2] for x in features}\n",
    "f_group = defaultdict(list)\n",
    "for f,g in f_map.items():\n",
    "    f_group[g].append(f)\n",
    "agg_group = {}\n",
    "for g,l in f_group.items():\n",
    "    combo = combinations(l, 2)\n",
    "    for x,y in combo:\n",
    "        corr = stats.spearmanr(X_std[x][:100], X_std[y][:100])[0]\n",
    "        if corr < 0: X_std[y] *= -1\n",
    "    tot = X_std[l].sum(axis=1)\n",
    "    agg_group[g] = tot\n",
    "X_grp = pd.DataFrame(agg_group)\n",
    "X_grp = X_grp[[\"founders\", \"advisors\", \"executives\", \"events\", \"patents\", \"funding\", \"investors\", \"customers\", \"industry\", \"location\", \"economy\"]]\n",
    "grp_corr = X_grp.corr(method=\"spearman\")"
   ]
  },
  {
   "cell_type": "code",
   "execution_count": 207,
   "metadata": {
    "collapsed": false
   },
   "outputs": [
    {
     "data": {
      "image/png": "[encoded data removed]",
      "text/plain": [
       "<matplotlib.figure.Figure at 0x1c4a15daf28>"
      ]
     },
     "metadata": {},
     "output_type": "display_data"
    }
   ],
   "source": [
    "f = plt.figure(figsize=(8,4))\n",
    "mask = np.zeros_like(grp_corr)\n",
    "mask[np.triu_indices_from(mask)] = True\n",
    "#f_names = [x.split(\"_\")[2] for x in list(X_grp)]\n",
    "ax = sns.heatmap(grp_corr,square=False, mask=mask, robust=True, vmax = 0.2,  **outline_bars)\n",
    "ax.collections[0].colorbar.set_label(\"Spearman Correlation\")\n",
    "plt.xticks(rotation=45)\n",
    "plt.tight_layout()"
   ]
  },
  {
   "cell_type": "code",
   "execution_count": 208,
   "metadata": {
    "collapsed": true
   },
   "outputs": [],
   "source": [
    "output_path =  \"{}/{}.pdf\".format(SAVE_PATH, chart_id)\n",
    "f.savefig(output_path, bbox_inches=\"tight\")"
   ]
  },
  {
   "cell_type": "code",
   "execution_count": null,
   "metadata": {
    "collapsed": true
   },
   "outputs": [],
   "source": []
  }
 ],
 "metadata": {
  "kernelspec": {
   "display_name": "Python 3",
   "language": "python",
   "name": "python3"
  },
  "language_info": {
   "codemirror_mode": {
    "name": "ipython",
    "version": 3
   },
   "file_extension": ".py",
   "mimetype": "text/x-python",
   "name": "python",
   "nbconvert_exporter": "python",
   "pygments_lexer": "ipython3",
   "version": "3.6.0"
  }
 },
 "nbformat": 4,
 "nbformat_minor": 2
}

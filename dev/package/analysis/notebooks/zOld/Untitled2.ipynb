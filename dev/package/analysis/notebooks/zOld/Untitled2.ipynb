{
 "cells": [
  {
   "cell_type": "code",
   "execution_count": null,
   "metadata": {
    "collapsed": true
   },
   "outputs": [],
   "source": [
    "pipe = Pipeline(steps=[\n",
    "    (\"imputer\", Imputer(strategy=\"median\")),\n",
    "    (\"thresholder\", VarianceThreshold()),\n",
    "    (\"scaler\", StandardScaler()),\n",
    "    (\"extracter\", None),\n",
    "    (\"clf\", None)])\n",
    "\n",
    "Impute missing values\n",
    "Remove low variance features\n",
    "Feature scaling\n",
    "Transform features\n",
    "Feature selection\n",
    "Classification\n",
    "\n",
    "from sklearn.base import TransformerMixin, BaseEstimator\n",
    "class stageTransformer(TransformerMixin, BaseEstimator):\n",
    "    def __init__(self):\n",
    "        pass\n",
    "    def fit(self, X, y):\n",
    "        return self\n",
    "    def transform(self, X):\n",
    "        return transformed"
   ]
  }
 ],
 "metadata": {
  "kernelspec": {
   "display_name": "Python [Root]",
   "language": "python",
   "name": "Python [Root]"
  },
  "language_info": {
   "codemirror_mode": {
    "name": "ipython",
    "version": 3
   },
   "file_extension": ".py",
   "mimetype": "text/x-python",
   "name": "python",
   "nbconvert_exporter": "python",
   "pygments_lexer": "ipython3",
   "version": "3.5.1"
  }
 },
 "nbformat": 4,
 "nbformat_minor": 0
}

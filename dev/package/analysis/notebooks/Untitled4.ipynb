{
 "cells": [
  {
   "cell_type": "code",
   "execution_count": null,
   "metadata": {
    "collapsed": true
   },
   "outputs": [],
   "source": [
    "import pandas as pd\n",
    "import numpy as np"
   ]
  },
  {
   "cell_type": "code",
   "execution_count": null,
   "metadata": {
    "collapsed": false
   },
   "outputs": [],
   "source": [
    "df = pd.read_csv(r\"C:\\Users\\mark\\Documents\\GitHub\\honours\\dev\\package\\analysis\\output\\autoVC\\3\\master\\2013-09-10\\2016-09-09\\merge.csv\")"
   ]
  },
  {
   "cell_type": "code",
   "execution_count": null,
   "metadata": {
    "collapsed": true
   },
   "outputs": [],
   "source": [
    "df = df.select_dtypes(['number'])\n",
    "df = df.loc[df['keys_company_status_operating_bool'] == 1]\n",
    "df = df.loc[df['confidence_context_broader_company_age_number'] <= 15]\n",
    "df = df.loc[df[\"confidence_validation_funding_rounds_number\"] > 0]"
   ]
  },
  {
   "cell_type": "code",
   "execution_count": null,
   "metadata": {
    "collapsed": false
   },
   "outputs": [],
   "source": [
    "df[\"outcome_extra_funding_rounds_number\"] = df[\"outcome_funding_rounds_number\"] - df[\"confidence_validation_funding_rounds_number\"]\n",
    "df[\"outcome_extra_funding_rounds_number\"].value_counts()"
   ]
  },
  {
   "cell_type": "code",
   "execution_count": null,
   "metadata": {
    "collapsed": false
   },
   "outputs": [],
   "source": [
    "df = df.loc[df[\"outcome_extra_funding_rounds_number\"] >= 0]\n",
    "df[\"outcome_extra_funding_rounds_bool\"] = np.where(df[\"outcome_extra_funding_rounds_number\"] == 0, 0, 1)\n",
    "df[\"outcome_extra_funding_rounds_bool\"].value_counts()"
   ]
  },
  {
   "cell_type": "code",
   "execution_count": null,
   "metadata": {
    "collapsed": false
   },
   "outputs": [],
   "source": [
    "good_outcomes = df[\"outcome_extra_funding_rounds_bool\"] + df[\"outcome_exit_bool\"]\n",
    "good_outcomes.value_counts()"
   ]
  },
  {
   "cell_type": "code",
   "execution_count": null,
   "metadata": {
    "collapsed": true
   },
   "outputs": [],
   "source": [
    "label = \"outcome_extra_funding_rounds_bool\"\n",
    "y = df[label]\n",
    "drops = [col for col in list(df) if col.startswith((\"key\",\"from\",\"outcome\",\"index\"))]\n",
    "keys = [col for col in list(df) if col.startswith(\"key\")]\n",
    "X = df.drop(drops, axis=1)"
   ]
  },
  {
   "cell_type": "code",
   "execution_count": null,
   "metadata": {
    "collapsed": false
   },
   "outputs": [],
   "source": [
    "pd.crosstab(df[\"outcome_funding_rounds_number\"], df[\"confidence_validation_investors_funding_raised_average_max_number\"])"
   ]
  },
  {
   "cell_type": "code",
   "execution_count": null,
   "metadata": {
    "collapsed": false
   },
   "outputs": [],
   "source": [
    "df[\"outcome_extra_funding_rounds_bool\"].value_counts()"
   ]
  },
  {
   "cell_type": "code",
   "execution_count": null,
   "metadata": {
    "collapsed": false
   },
   "outputs": [],
   "source": [
    "pd.cut(np.log1p(df[\"confidence_validation_investors_funding_raised_average_max_number\"]),5,include_lowest =True).value_counts()"
   ]
  },
  {
   "cell_type": "code",
   "execution_count": null,
   "metadata": {
    "collapsed": false
   },
   "outputs": [],
   "source": [
    "df[\"confidence_validation_investors_count_funded_exit_total_max_number\"][df.outcome_extra_funding_rounds_bool ==0].plot(kind=\"kde\")\n",
    "df[\"confidence_validation_investors_count_funded_exit_total_max_number\"][df.outcome_extra_funding_rounds_bool ==1].plot(kind=\"kde\")"
   ]
  },
  {
   "cell_type": "code",
   "execution_count": null,
   "metadata": {
    "collapsed": false
   },
   "outputs": [],
   "source": [
    "df = df[~((df[\"outcome_exit_bool\"] == 1) & (df[\"outcome_funding_rounds_number\"] == 0))]"
   ]
  },
  {
   "cell_type": "code",
   "execution_count": null,
   "metadata": {
    "collapsed": false
   },
   "outputs": [],
   "source": []
  },
  {
   "cell_type": "code",
   "execution_count": null,
   "metadata": {
    "collapsed": false
   },
   "outputs": [],
   "source": []
  },
  {
   "cell_type": "code",
   "execution_count": null,
   "metadata": {
    "collapsed": false
   },
   "outputs": [],
   "source": []
  },
  {
   "cell_type": "code",
   "execution_count": null,
   "metadata": {
    "collapsed": true
   },
   "outputs": [],
   "source": []
  }
 ],
 "metadata": {
  "kernelspec": {
   "display_name": "Python [Root]",
   "language": "python",
   "name": "Python [Root]"
  },
  "language_info": {
   "codemirror_mode": {
    "name": "ipython",
    "version": 3
   },
   "file_extension": ".py",
   "mimetype": "text/x-python",
   "name": "python",
   "nbconvert_exporter": "python",
   "pygments_lexer": "ipython3",
   "version": "3.5.3"
  }
 },
 "nbformat": 4,
 "nbformat_minor": 2
}

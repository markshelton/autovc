{
 "cells": [
  {
   "cell_type": "markdown",
   "metadata": {},
   "source": [
    "# Performance - Final"
   ]
  },
  {
   "cell_type": "markdown",
   "metadata": {},
   "source": [
    "### Preamble"
   ]
  },
  {
   "cell_type": "code",
   "execution_count": 1,
   "metadata": {
    "collapsed": true
   },
   "outputs": [],
   "source": [
    "SYS_PATH = 'C:/Users/mark/Documents/GitHub/honours/dev/package/'\n",
    "SAVE_PATH = r\"C:/Users/mark/Documents/GitHub/honours/submissions/thesis-original\"\n",
    "LOAD_PATH = r\"C:/Users/mark/Documents/GitHub/honours/dev/package/analysis/output/temp/output.db\""
   ]
  },
  {
   "cell_type": "code",
   "execution_count": 2,
   "metadata": {
    "collapsed": true
   },
   "outputs": [],
   "source": [
    "#standard imports\n",
    "import sys\n",
    "import numpy as np\n",
    "import scipy.stats as stats\n",
    "import pandas as pd\n",
    "from datetime import date, timedelta\n",
    "import math\n",
    "from itertools import chain\n",
    "\n",
    "#third party imports\n",
    "import matplotlib\n",
    "import matplotlib.pyplot as plt\n",
    "from matplotlib import rcParams\n",
    "import matplotlib.ticker as tkr\n",
    "import seaborn as sns\n",
    "from sklearn import metrics"
   ]
  },
  {
   "cell_type": "code",
   "execution_count": 286,
   "metadata": {
    "collapsed": true
   },
   "outputs": [],
   "source": [
    "import importlib\n",
    "import sys; sys.path.append(SYS_PATH)\n",
    "import analysis.helper as helper\n",
    "import analysis.autoVC2 as vc\n",
    "importlib.reload(helper)\n",
    "importlib.reload(vc)\n",
    "%matplotlib inline"
   ]
  },
  {
   "cell_type": "code",
   "execution_count": 4,
   "metadata": {
    "collapsed": true
   },
   "outputs": [],
   "source": [
    "TINY_SIZE, SMALL_SIZE, MEDIUM_SIZE, BIGGER_SIZE  = 12, 16, 18, 30\n",
    "plt.style.use(['seaborn-white', 'seaborn-paper'])\n",
    "sns.set_palette(\"colorblind\")\n",
    "rcParams['font.family'] = 'serif' \n",
    "rcParams['font.serif'] = 'CMU Serif' \n",
    "rcParams['font.weight'] = 'bold'\n",
    "rcParams['font.size'] = SMALL_SIZE #default font size\n",
    "rcParams['axes.titlesize'] =SMALL_SIZE   # fontsize of the axes title\n",
    "rcParams['axes.labelsize'] =MEDIUM_SIZE    # fontsize of the x and y labels\n",
    "rcParams['xtick.labelsize'] =SMALL_SIZE    # fontsize of the tick labels\n",
    "rcParams['ytick.labelsize'] =SMALL_SIZE   # fontsize of the tick labels\n",
    "rcParams['legend.fontsize'] =SMALL_SIZE    # legend fontsize\n",
    "rcParams['figure.titlesize'] =BIGGER_SIZE  # fontsize of the figure title\n",
    "rcParams['figure.figsize'] = (8,3)\n",
    "pd.set_option('precision',3)\n",
    "outline_bars = dict(linewidth = 1.25, edgecolor = '.15')"
   ]
  },
  {
   "cell_type": "markdown",
   "metadata": {},
   "source": [
    "### Performance variation by slice date"
   ]
  },
  {
   "cell_type": "code",
   "execution_count": 9,
   "metadata": {
    "collapsed": true
   },
   "outputs": [],
   "source": [
    "reload = False"
   ]
  },
  {
   "cell_type": "code",
   "execution_count": 10,
   "metadata": {
    "collapsed": false
   },
   "outputs": [],
   "source": [
    "chart_id = \"figures/evaluation/performance_slice\"\n",
    "pickle_path = \"{}/{}.pkl\".format(SAVE_PATH, chart_id)"
   ]
  },
  {
   "cell_type": "code",
   "execution_count": 11,
   "metadata": {
    "collapsed": false
   },
   "outputs": [
    {
     "name": "stdout",
     "output_type": "stream",
     "text": [
      "Error: Time\n",
      "Error: Imputer\n",
      "Error: Transformer\n",
      "Error: Scaler\n",
      "Error: Extractor\n"
     ]
    }
   ],
   "source": [
    "try: \n",
    "    if reload: data = pd.read_pickle(pickle_path)\n",
    "    else: raise IOError\n",
    "except IOError: \n",
    "    data = helper.get_results(33, \"evaluate\")\n",
    "    data = data[[\"F1\",\"MCC\",\"PRC\",\"ROC\", \"feature_date_str\", \"forecast_window_years\"]]\n",
    "    data = data.loc[data[\"forecast_window_years\"] == \"2 Years\"]\n",
    "    total = pd.DataFrame()\n",
    "    for metric in [\"F1\",\"MCC\",\"PRC\",\"ROC\"]:\n",
    "        temp = data[[metric,\"feature_date_str\"]]\n",
    "        temp = temp.rename(index=str, columns={metric: \"Score\"})\n",
    "        temp[\"Metric\"] = metric\n",
    "        total = pd.concat([temp, total], ignore_index=True)\n",
    "    data = total\n",
    "    data.to_pickle(pickle_path)"
   ]
  },
  {
   "cell_type": "code",
   "execution_count": 18,
   "metadata": {
    "collapsed": false
   },
   "outputs": [],
   "source": [
    "x = \"Metric\"\n",
    "y = \"Score\"\n",
    "hue = \"feature_date_str\"\n",
    "order = [\"ROC\", \"PRC\", \"MCC\", \"F1\"]\n",
    "hue_order = data.groupby(hue)[y].mean().index.sort_values(ascending=True).tolist()"
   ]
  },
  {
   "cell_type": "code",
   "execution_count": 22,
   "metadata": {
    "collapsed": false
   },
   "outputs": [
    {
     "data": {
      "image/png": "[encoded data removed]",
      "text/plain": [
       "<matplotlib.figure.Figure at 0x1ea97dbc0b8>"
      ]
     },
     "metadata": {},
     "output_type": "display_data"
    }
   ],
   "source": [
    "f = plt.figure()\n",
    "ax = sns.barplot(data=data, x=x, y=y, hue=hue, order=order, hue_order=hue_order, ci =None, **outline_bars)\n",
    "helper.auto_label(ax, fmt='{:,.2f}', size=SMALL_SIZE-1)\n",
    "ax.set_ylabel(\"Score\")\n",
    "ax.set_xlabel(\"Evaluation Metric\")\n",
    "plt.legend(bbox_to_anchor=(1,1), loc='upper left',title=\"Dataset Slice\")\n",
    "plt.tight_layout()"
   ]
  },
  {
   "cell_type": "code",
   "execution_count": 23,
   "metadata": {
    "collapsed": true
   },
   "outputs": [],
   "source": [
    "output_path =  \"{}/{}.pdf\".format(SAVE_PATH, chart_id)\n",
    "f.savefig(output_path, bbox_inches=\"tight\")"
   ]
  },
  {
   "cell_type": "markdown",
   "metadata": {},
   "source": [
    "### Performance by forecast window"
   ]
  },
  {
   "cell_type": "code",
   "execution_count": 31,
   "metadata": {
    "collapsed": true
   },
   "outputs": [],
   "source": [
    "reload = True"
   ]
  },
  {
   "cell_type": "code",
   "execution_count": 32,
   "metadata": {
    "collapsed": false
   },
   "outputs": [],
   "source": [
    "chart_id = \"figures/evaluation/performance_window\"\n",
    "pickle_path = \"{}/{}.pkl\".format(SAVE_PATH, chart_id)"
   ]
  },
  {
   "cell_type": "code",
   "execution_count": 33,
   "metadata": {
    "collapsed": false
   },
   "outputs": [],
   "source": [
    "try: \n",
    "    if reload: data = pd.read_pickle(pickle_path)\n",
    "    else: raise IOError\n",
    "except IOError: \n",
    "    data = helper.get_results(33, \"evaluate\")\n",
    "    data = data[[\"F1\",\"MCC\",\"PRC\",\"ROC\", \"feature_date_str\", \"forecast_window_years\"]]\n",
    "    total = pd.DataFrame()\n",
    "    mtrics = [\"F1\",\"MCC\",\"PRC\",\"ROC\"]\n",
    "    for metric in mtrics:\n",
    "        temp = data[[metric,\"feature_date_str\", \"forecast_window_years\"]]\n",
    "        temp = temp.rename(index=str, columns={metric: \"Score\"})\n",
    "        temp[\"Metric\"] = metric\n",
    "        total = pd.concat([temp, total], ignore_index=True)\n",
    "    data = total\n",
    "    data.to_pickle(pickle_path)"
   ]
  },
  {
   "cell_type": "code",
   "execution_count": 34,
   "metadata": {
    "collapsed": false
   },
   "outputs": [],
   "source": [
    "x = \"Metric\" \n",
    "y = \"Score\"\n",
    "hue = \"forecast_window_years\"\n",
    "order = [\"ROC\", \"PRC\", \"MCC\", \"F1\"]\n",
    "hue_order = [\"2 Years\", \"3 Years\", \"4 Years\"]"
   ]
  },
  {
   "cell_type": "code",
   "execution_count": 35,
   "metadata": {
    "collapsed": false
   },
   "outputs": [
    {
     "data": {
      "image/png": "[encoded data removed]",
      "text/plain": [
       "<matplotlib.figure.Figure at 0x1ea9f968208>"
      ]
     },
     "metadata": {},
     "output_type": "display_data"
    }
   ],
   "source": [
    "f = plt.figure()\n",
    "ax = sns.barplot(data=data, x=x, y=y, hue=hue, order=order, hue_order=hue_order, ci=None, **outline_bars)\n",
    "helper.auto_label(ax, fmt='{:,.2f}', size=SMALL_SIZE-1)\n",
    "ax.set_ylabel(\"Score\")\n",
    "ax.set_xlabel(\"Evaluation Metric\")\n",
    "plt.legend(bbox_to_anchor=(1,1), loc='upper left',title=\"Forecast Window\")\n",
    "plt.tight_layout()"
   ]
  },
  {
   "cell_type": "code",
   "execution_count": 36,
   "metadata": {
    "collapsed": true
   },
   "outputs": [],
   "source": [
    "output_path =  \"{}/{}.pdf\".format(SAVE_PATH, chart_id)\n",
    "f.savefig(output_path, bbox_inches=\"tight\")"
   ]
  },
  {
   "cell_type": "markdown",
   "metadata": {},
   "source": [
    "### Performance by developmental stage"
   ]
  },
  {
   "cell_type": "code",
   "execution_count": 37,
   "metadata": {
    "collapsed": true
   },
   "outputs": [],
   "source": [
    "reload = True"
   ]
  },
  {
   "cell_type": "code",
   "execution_count": 38,
   "metadata": {
    "collapsed": true
   },
   "outputs": [],
   "source": [
    "chart_id = \"figures/evaluation/performance_stage\"\n",
    "pickle_path = \"{}/{}.pkl\".format(SAVE_PATH, chart_id)"
   ]
  },
  {
   "cell_type": "code",
   "execution_count": 39,
   "metadata": {
    "collapsed": true
   },
   "outputs": [],
   "source": [
    "def get_set(n, name, individual=True):\n",
    "    data = helper.get_results(*n)\n",
    "    if individual: stage = \"feature_stage_single\"\n",
    "    else: stage = \"feature_stage\"\n",
    "    data = data.loc[data[\"forecast_window_years\"] == \"4 Years\"].reset_index(drop=True)\n",
    "    data = data[[\"Y_Pred\", \"Y_True\",\"feature_date_str\", stage]]\n",
    "    data = helper.get_feature_values(data)\n",
    "    results = helper.feature_function(data, metrics.f1_score, group = [stage])\n",
    "    overall = helper.feature_function(data, metrics.f1_score)\n",
    "    results[\"Overall\"] = overall\n",
    "    if type(results) is pd.Series: results = results.to_frame()\n",
    "    results[\"method\"] = name\n",
    "    return results"
   ]
  },
  {
   "cell_type": "code",
   "execution_count": 40,
   "metadata": {
    "collapsed": true
   },
   "outputs": [],
   "source": [
    "def get_data():\n",
    "    results1 = get_set((33, \"evaluate\"), \"Combined\", individual=False)\n",
    "    results2 = get_set((34, \"evaluate\"), \"Individual\", individual=True)\n",
    "    results = pd.concat([results1, results2], axis=0)\n",
    "    results = results.reset_index(drop=False)\n",
    "    results = results.rename(index=str, columns={0:\"score\",\"index\":\"stage\"})\n",
    "    data = results\n",
    "    return data"
   ]
  },
  {
   "cell_type": "code",
   "execution_count": 41,
   "metadata": {
    "collapsed": false
   },
   "outputs": [],
   "source": [
    "try: \n",
    "    if reload: data = pd.read_pickle(pickle_path)\n",
    "    else: raise IOError\n",
    "except IOError: \n",
    "    data = get_data()\n",
    "    data.to_pickle(pickle_path)"
   ]
  },
  {
   "cell_type": "code",
   "execution_count": 42,
   "metadata": {
    "collapsed": true
   },
   "outputs": [],
   "source": [
    "x = \"stage\"\n",
    "y = \"score\"\n",
    "hue = \"method\"\n",
    "hue_order = ['Combined', \"Individual\"]"
   ]
  },
  {
   "cell_type": "code",
   "execution_count": 43,
   "metadata": {
    "collapsed": false
   },
   "outputs": [
    {
     "data": {
      "image/png": "[encoded data removed]",
      "text/plain": [
       "<matplotlib.figure.Figure at 0x1ea97dbcf98>"
      ]
     },
     "metadata": {},
     "output_type": "display_data"
    }
   ],
   "source": [
    "f = plt.figure()\n",
    "ax = sns.barplot(data=data, x=x, y=y, hue=hue, hue_order=hue_order, **outline_bars)\n",
    "helper.auto_label(ax, fmt='{:,.2f}',size=SMALL_SIZE-1)\n",
    "ax.set_xlabel(\"Developmental Stage\")\n",
    "ax.set_ylabel(\"F1 (Positive)\")\n",
    "plt.legend(bbox_to_anchor=(1,1.05), title=\"Fit Method\")\n",
    "plt.tight_layout()"
   ]
  },
  {
   "cell_type": "code",
   "execution_count": 44,
   "metadata": {
    "collapsed": false
   },
   "outputs": [],
   "source": [
    "output_path = \"{}/{}.pdf\".format(SAVE_PATH, chart_id)\n",
    "f.savefig(output_path, bbox_inches=\"tight\")"
   ]
  },
  {
   "cell_type": "markdown",
   "metadata": {},
   "source": [
    "### Performance by target outcome"
   ]
  },
  {
   "cell_type": "code",
   "execution_count": 240,
   "metadata": {
    "collapsed": true
   },
   "outputs": [],
   "source": [
    "reload = True"
   ]
  },
  {
   "cell_type": "code",
   "execution_count": 241,
   "metadata": {
    "collapsed": true
   },
   "outputs": [],
   "source": [
    "chart_id = \"figures/evaluation/performance_outcome\"\n",
    "pickle_path = \"{}/{}.pkl\".format(SAVE_PATH, chart_id)"
   ]
  },
  {
   "cell_type": "code",
   "execution_count": 242,
   "metadata": {
    "collapsed": true
   },
   "outputs": [],
   "source": [
    "def get_data():\n",
    "    data = helper.get_results(35, \"evaluate\")\n",
    "    data[\"label_type\"] = data[\"label_type\"].apply(lambda x: x.replace(\"_\",\" \"))\n",
    "    data = data[[\"Y_Pred\", \"Y_True\", \"label_type\",\"forecast_window_years\"]]\n",
    "    data = helper.get_feature_values(data)\n",
    "    results = helper.feature_function(data, metrics.f1_score, group = [\"forecast_window_years\",\"label_type\"])\n",
    "    if type(results) is pd.Series: results = results.to_frame()\n",
    "    results = results.reset_index(drop=False)\n",
    "    results = results.rename(index=str, columns={0:\"score\",\"index\":\"label_type\"})\n",
    "    data = results\n",
    "    return data"
   ]
  },
  {
   "cell_type": "code",
   "execution_count": 243,
   "metadata": {
    "collapsed": false
   },
   "outputs": [],
   "source": [
    "try: \n",
    "    if reload: data = pd.read_pickle(pickle_path)\n",
    "    else: raise IOError\n",
    "except IOError: \n",
    "    data = get_data()\n",
    "    data.to_pickle(pickle_path)"
   ]
  },
  {
   "cell_type": "code",
   "execution_count": 244,
   "metadata": {
    "collapsed": true
   },
   "outputs": [],
   "source": [
    "x = \"label_type\"\n",
    "y = \"score\"\n",
    "hue= \"forecast_window_years\"\n",
    "order = [\"Extra Stage\", \"Extra Round\", \"Exit\", \"Acquisition\", \"IPO\"]"
   ]
  },
  {
   "cell_type": "code",
   "execution_count": 245,
   "metadata": {
    "collapsed": false
   },
   "outputs": [
    {
     "data": {
      "image/png": "[encoded data removed]",
      "text/plain": [
       "<matplotlib.figure.Figure at 0x1eaa862a4a8>"
      ]
     },
     "metadata": {},
     "output_type": "display_data"
    }
   ],
   "source": [
    "f = plt.figure()\n",
    "ax = sns.barplot(data=data, x=x, y=y, hue=hue, order=order, **outline_bars)\n",
    "helper.auto_label(ax, fmt='{:,.2f}',size=SMALL_SIZE-1)\n",
    "ax.set_xlabel(\"Target Outcome\")\n",
    "ax.set_ylabel(\"F1 (Positive)\")\n",
    "plt.legend(bbox_to_anchor=(1,1.05), title=\"Forecast Window\")\n",
    "plt.tight_layout()"
   ]
  },
  {
   "cell_type": "code",
   "execution_count": 246,
   "metadata": {
    "collapsed": true
   },
   "outputs": [],
   "source": [
    "output_path = \"{}/{}.pdf\".format(SAVE_PATH, chart_id)\n",
    "f.savefig(output_path, bbox_inches=\"tight\")"
   ]
  },
  {
   "cell_type": "markdown",
   "metadata": {},
   "source": [
    "### Classification report by slice date"
   ]
  },
  {
   "cell_type": "code",
   "execution_count": 232,
   "metadata": {
    "collapsed": true
   },
   "outputs": [],
   "source": [
    "reload=True"
   ]
  },
  {
   "cell_type": "code",
   "execution_count": 233,
   "metadata": {
    "collapsed": true
   },
   "outputs": [],
   "source": [
    "chart_id = \"tables/evaluation/clf_report_slice\"\n",
    "pickle_path = \"{}/{}.pkl\".format(SAVE_PATH, chart_id)"
   ]
  },
  {
   "cell_type": "code",
   "execution_count": 234,
   "metadata": {
    "collapsed": false
   },
   "outputs": [],
   "source": [
    "try: \n",
    "    if reload: data = pd.read_pickle(pickle_path)\n",
    "    else: raise IOError\n",
    "except IOError: \n",
    "    data = helper.get_results(33, \"evaluate\")\n",
    "    data[\"feature_date_year\"] = data[\"feature_date\"].apply(lambda x: x.year)\n",
    "    data = data.loc[data[\"forecast_window_years\"] == \"2 Years\"].reset_index(drop=True)\n",
    "    data = data[[\"Y_Pred\", \"Y_True\", \"feature_date_year\"]]\n",
    "    data = helper.get_feature_values(data)\n",
    "    data.to_pickle(pickle_path)"
   ]
  },
  {
   "cell_type": "code",
   "execution_count": 235,
   "metadata": {
    "collapsed": false
   },
   "outputs": [
    {
     "name": "stdout",
     "output_type": "stream",
     "text": [
      "2012\n",
      "0.82\n",
      "[[93690 15622]\n",
      " [ 5659  6058]]\n",
      "             precision    recall  f1-score   support\n",
      "\n",
      "          0       0.94      0.86      0.90    109312\n",
      "          1       0.28      0.52      0.36     11717\n",
      "\n",
      "avg / total       0.88      0.82      0.85    121029\n",
      "\n",
      "2013\n",
      "0.81\n",
      "[[91380 17737]\n",
      " [ 5246  6467]]\n",
      "             precision    recall  f1-score   support\n",
      "\n",
      "          0       0.95      0.84      0.89    109117\n",
      "          1       0.27      0.55      0.36     11713\n",
      "\n",
      "avg / total       0.88      0.81      0.84    120830\n",
      "\n",
      "2014\n",
      "0.80\n",
      "[[90007 19305]\n",
      " [ 4663  7054]]\n",
      "             precision    recall  f1-score   support\n",
      "\n",
      "          0       0.95      0.82      0.88    109312\n",
      "          1       0.27      0.60      0.37     11717\n",
      "\n",
      "avg / total       0.88      0.80      0.83    121029\n",
      "\n"
     ]
    }
   ],
   "source": [
    "group = [\"feature_date_year\"]\n",
    "cl_reports = helper.feature_function(data, metrics.classification_report, group = group)\n",
    "cf_matrix = helper.feature_function(data, metrics.confusion_matrix, group = group)\n",
    "acc_scores = helper.feature_function(data, metrics.accuracy_score, group = group)\n",
    "for i, (index, rep) in enumerate(cl_reports.iteritems()):\n",
    "    print(index)\n",
    "    print(\"{0:.2f}\".format(acc_scores.tolist()[i]))\n",
    "    print(cf_matrix.tolist()[i])\n",
    "    print(rep)"
   ]
  },
  {
   "cell_type": "markdown",
   "metadata": {},
   "source": [
    "### Classification report by forecast window"
   ]
  },
  {
   "cell_type": "code",
   "execution_count": 236,
   "metadata": {
    "collapsed": true
   },
   "outputs": [],
   "source": [
    "reload=True"
   ]
  },
  {
   "cell_type": "code",
   "execution_count": 237,
   "metadata": {
    "collapsed": true
   },
   "outputs": [],
   "source": [
    "chart_id = \"tables/evaluation/clf_report_window\"\n",
    "pickle_path = \"{}/{}.pkl\".format(SAVE_PATH, chart_id)"
   ]
  },
  {
   "cell_type": "code",
   "execution_count": 238,
   "metadata": {
    "collapsed": false
   },
   "outputs": [],
   "source": [
    "try: \n",
    "    if reload: data = pd.read_pickle(pickle_path)\n",
    "    else: raise IOError\n",
    "except IOError: \n",
    "    data = helper.get_results(33, \"evaluate\")\n",
    "    data = data[[\"Y_Pred\", \"Y_True\", \"forecast_window_years\"]]\n",
    "    data = helper.get_feature_values(data)\n",
    "    data.to_pickle(pickle_path)"
   ]
  },
  {
   "cell_type": "code",
   "execution_count": 239,
   "metadata": {
    "collapsed": false
   },
   "outputs": [
    {
     "name": "stdout",
     "output_type": "stream",
     "text": [
      "2 Years\n",
      "0.81\n",
      "[[275077  52664]\n",
      " [ 15568  19579]]\n",
      "             precision    recall  f1-score   support\n",
      "\n",
      "          0       0.95      0.84      0.89    327741\n",
      "          1       0.27      0.56      0.36     35147\n",
      "\n",
      "avg / total       0.88      0.81      0.84    362888\n",
      "\n",
      "3 Years\n",
      "0.81\n",
      "[[187608  34932]\n",
      " [ 14226  22943]]\n",
      "             precision    recall  f1-score   support\n",
      "\n",
      "          0       0.93      0.84      0.88    222540\n",
      "          1       0.40      0.62      0.48     37169\n",
      "\n",
      "avg / total       0.85      0.81      0.83    259709\n",
      "\n",
      "4 Years\n",
      "0.82\n",
      "[[118240  19406]\n",
      " [ 11563  18716]]\n",
      "             precision    recall  f1-score   support\n",
      "\n",
      "          0       0.91      0.86      0.88    137646\n",
      "          1       0.49      0.62      0.55     30279\n",
      "\n",
      "avg / total       0.84      0.82      0.82    167925\n",
      "\n"
     ]
    }
   ],
   "source": [
    "group = [\"forecast_window_years\"]\n",
    "cl_reports = helper.feature_function(data, metrics.classification_report, group = group)\n",
    "cf_matrix = helper.feature_function(data, metrics.confusion_matrix, group = group)\n",
    "acc_scores = helper.feature_function(data, metrics.accuracy_score, group = group)\n",
    "for i, (index, rep) in enumerate(cl_reports.iteritems()):\n",
    "    print(index)\n",
    "    print(\"{0:.2f}\".format(acc_scores.tolist()[i]))\n",
    "    print(cf_matrix.tolist()[i])\n",
    "    print(rep)"
   ]
  },
  {
   "cell_type": "markdown",
   "metadata": {},
   "source": [
    "### Classification report by developmental stage"
   ]
  },
  {
   "cell_type": "code",
   "execution_count": 224,
   "metadata": {
    "collapsed": true
   },
   "outputs": [],
   "source": [
    "reload=True"
   ]
  },
  {
   "cell_type": "code",
   "execution_count": 225,
   "metadata": {
    "collapsed": true
   },
   "outputs": [],
   "source": [
    "chart_id = \"tables/evaluation/clf_report_stage\"\n",
    "pickle_path = \"{}/{}.pkl\".format(SAVE_PATH, chart_id)"
   ]
  },
  {
   "cell_type": "code",
   "execution_count": 226,
   "metadata": {
    "collapsed": false
   },
   "outputs": [],
   "source": [
    "try: \n",
    "    if reload: data = pd.read_pickle(pickle_path)\n",
    "    else: raise IOError\n",
    "except IOError: \n",
    "    data = helper.get_results(34, \"evaluate\")\n",
    "    data = data.loc[data[\"forecast_window_years\"] == \"4 Years\"].reset_index(drop=True)\n",
    "    data = data[[\"Y_Pred\", \"Y_True\", \"feature_stage\"]]\n",
    "    data = helper.get_feature_values(data)\n",
    "    data.to_pickle(pickle_path)"
   ]
  },
  {
   "cell_type": "code",
   "execution_count": 227,
   "metadata": {
    "collapsed": false
   },
   "outputs": [
    {
     "name": "stdout",
     "output_type": "stream",
     "text": [
      "Pre-Seed\n",
      "0.83\n",
      "[[94313 13447]\n",
      " [ 7357  8681]]\n",
      "             precision    recall  f1-score   support\n",
      "\n",
      "          0       0.93      0.88      0.90    107760\n",
      "          1       0.39      0.54      0.45     16038\n",
      "\n",
      "avg / total       0.86      0.83      0.84    123798\n",
      "\n",
      "Seed\n",
      "0.81\n",
      "[[16921  2771]\n",
      " [ 2077  3395]]\n",
      "             precision    recall  f1-score   support\n",
      "\n",
      "          0       0.89      0.86      0.87     19692\n",
      "          1       0.55      0.62      0.58      5472\n",
      "\n",
      "avg / total       0.82      0.81      0.81     25164\n",
      "\n",
      "Series A\n",
      "0.77\n",
      "[[4074 1008]\n",
      " [ 976 2558]]\n",
      "             precision    recall  f1-score   support\n",
      "\n",
      "          0       0.81      0.80      0.80      5082\n",
      "          1       0.72      0.72      0.72      3534\n",
      "\n",
      "avg / total       0.77      0.77      0.77      8616\n",
      "\n",
      "Series B\n",
      "0.76\n",
      "[[2394  408]\n",
      " [ 902 1780]]\n",
      "             precision    recall  f1-score   support\n",
      "\n",
      "          0       0.73      0.85      0.79      2802\n",
      "          1       0.81      0.66      0.73      2682\n",
      "\n",
      "avg / total       0.77      0.76      0.76      5484\n",
      "\n",
      "Series C\n",
      "0.80\n",
      "[[1075  224]\n",
      " [ 369 1251]]\n",
      "             precision    recall  f1-score   support\n",
      "\n",
      "          0       0.74      0.83      0.78      1299\n",
      "          1       0.85      0.77      0.81      1620\n",
      "\n",
      "avg / total       0.80      0.80      0.80      2919\n",
      "\n",
      "Series D+\n",
      "0.84\n",
      "[[945  66]\n",
      " [254 679]]\n",
      "             precision    recall  f1-score   support\n",
      "\n",
      "          0       0.79      0.93      0.86      1011\n",
      "          1       0.91      0.73      0.81       933\n",
      "\n",
      "avg / total       0.85      0.84      0.83      1944\n",
      "\n"
     ]
    }
   ],
   "source": [
    "group = [\"feature_stage\"]\n",
    "cl_reports = helper.feature_function(data, metrics.classification_report, group = group)\n",
    "cf_matrix = helper.feature_function(data, metrics.confusion_matrix, group = group)\n",
    "acc_scores = helper.feature_function(data, metrics.accuracy_score, group = group)\n",
    "for i, (index, rep) in enumerate(cl_reports.iteritems()):\n",
    "    print(index)\n",
    "    print(\"{0:.2f}\".format(acc_scores.tolist()[i]))\n",
    "    print(cf_matrix.tolist()[i])\n",
    "    print(rep)"
   ]
  },
  {
   "cell_type": "markdown",
   "metadata": {},
   "source": [
    "### Classification report by target outcome"
   ]
  },
  {
   "cell_type": "code",
   "execution_count": 228,
   "metadata": {
    "collapsed": true
   },
   "outputs": [],
   "source": [
    "reload=True"
   ]
  },
  {
   "cell_type": "code",
   "execution_count": 229,
   "metadata": {
    "collapsed": true
   },
   "outputs": [],
   "source": [
    "chart_id = \"tables/evaluation/clf_report_outcome\"\n",
    "pickle_path = \"{}/{}.pkl\".format(SAVE_PATH, chart_id)"
   ]
  },
  {
   "cell_type": "code",
   "execution_count": 230,
   "metadata": {
    "collapsed": false
   },
   "outputs": [],
   "source": [
    "try: \n",
    "    if reload: data = pd.read_pickle(pickle_path)\n",
    "    else: raise IOError\n",
    "except IOError: \n",
    "    data = helper.get_results(35, \"evaluate\")\n",
    "    data = data.loc[data[\"forecast_window_years\"] == \"4 Years\"].reset_index(drop=True)\n",
    "    data = data[[\"Y_Pred\", \"Y_True\", \"label_type\"]]\n",
    "    data = helper.get_feature_values(data)\n",
    "    data.to_pickle(pickle_path)"
   ]
  },
  {
   "cell_type": "code",
   "execution_count": 231,
   "metadata": {
    "collapsed": false
   },
   "outputs": [
    {
     "name": "stdout",
     "output_type": "stream",
     "text": [
      "Acquisition\n",
      "0.91\n",
      "[[146054  11305]\n",
      " [  3065   7501]]\n",
      "             precision    recall  f1-score   support\n",
      "\n",
      "        0.0       0.98      0.93      0.95    157359\n",
      "        1.0       0.40      0.71      0.51     10566\n",
      "\n",
      "avg / total       0.94      0.91      0.93    167925\n",
      "\n",
      "Exit\n",
      "0.92\n",
      "[[145625   9928]\n",
      " [  3755   8617]]\n",
      "             precision    recall  f1-score   support\n",
      "\n",
      "        0.0       0.97      0.94      0.96    155553\n",
      "        1.0       0.46      0.70      0.56     12372\n",
      "\n",
      "avg / total       0.94      0.92      0.93    167925\n",
      "\n",
      "Extra Round\n",
      "0.80\n",
      "[[121153  25184]\n",
      " [  8448  13140]]\n",
      "             precision    recall  f1-score   support\n",
      "\n",
      "        0.0       0.93      0.83      0.88    146337\n",
      "        1.0       0.34      0.61      0.44     21588\n",
      "\n",
      "avg / total       0.86      0.80      0.82    167925\n",
      "\n",
      "Extra Stage\n",
      "0.82\n",
      "[[118761  18885]\n",
      " [ 11677  18602]]\n",
      "             precision    recall  f1-score   support\n",
      "\n",
      "        0.0       0.91      0.86      0.89    137646\n",
      "        1.0       0.50      0.61      0.55     30279\n",
      "\n",
      "avg / total       0.84      0.82      0.83    167925\n",
      "\n",
      "IPO\n",
      "0.98\n",
      "[[162805   3068]\n",
      " [   881   1171]]\n",
      "             precision    recall  f1-score   support\n",
      "\n",
      "        0.0       0.99      0.98      0.99    165873\n",
      "        1.0       0.28      0.57      0.37      2052\n",
      "\n",
      "avg / total       0.99      0.98      0.98    167925\n",
      "\n"
     ]
    }
   ],
   "source": [
    "group = [\"label_type\"]\n",
    "cl_reports = helper.feature_function(data, metrics.classification_report, group = group)\n",
    "cf_matrix = helper.feature_function(data, metrics.confusion_matrix, group = group)\n",
    "acc_scores = helper.feature_function(data, metrics.accuracy_score, group = group)\n",
    "for i, (index, rep) in enumerate(cl_reports.iteritems()):\n",
    "    print(index)\n",
    "    print(\"{0:.2f}\".format(acc_scores.tolist()[i]))\n",
    "    print(cf_matrix.tolist()[i])\n",
    "    print(rep)"
   ]
  },
  {
   "cell_type": "markdown",
   "metadata": {},
   "source": [
    "### Example company profiles and their predictions"
   ]
  },
  {
   "cell_type": "code",
   "execution_count": 251,
   "metadata": {
    "collapsed": true
   },
   "outputs": [],
   "source": [
    "reload = True"
   ]
  },
  {
   "cell_type": "code",
   "execution_count": 252,
   "metadata": {
    "collapsed": true
   },
   "outputs": [],
   "source": [
    "chart_id = \"tables/discussion/example_profiles\"\n",
    "pickle_path = \"{}/{}.pkl\".format(SAVE_PATH, chart_id)"
   ]
  },
  {
   "cell_type": "code",
   "execution_count": 253,
   "metadata": {
    "collapsed": true
   },
   "outputs": [],
   "source": [
    "def get_data():\n",
    "    data = helper.get_results(33, \"evaluate\")\n",
    "    return data"
   ]
  },
  {
   "cell_type": "code",
   "execution_count": 254,
   "metadata": {
    "collapsed": false
   },
   "outputs": [
    {
     "name": "stdout",
     "output_type": "stream",
     "text": [
      "Error: Time\n",
      "Error: Imputer\n",
      "Error: Transformer\n",
      "Error: Scaler\n",
      "Error: Extractor\n"
     ]
    }
   ],
   "source": [
    "try: \n",
    "    if reload: data = pd.read_pickle(pickle_path)\n",
    "    else: raise IOError\n",
    "except IOError: \n",
    "    data = get_data()\n",
    "    data.to_pickle(pickle_path)"
   ]
  },
  {
   "cell_type": "code",
   "execution_count": 277,
   "metadata": {
    "collapsed": true
   },
   "outputs": [],
   "source": [
    "features_stage_info = dict(\n",
    "    Age = 'confidence_context_economy_company_age_number',\n",
    "    FundingRounds = 'confidence_validation_funding_rounds_number',\n",
    "    FundingRaised = 'confidence_validation_funding_raised_value_total_number',\n",
    "    SeriesA = 'confidence_validation_funding_round_codes_list_a',\n",
    "    SeriesB = 'confidence_validation_funding_round_codes_list_b',\n",
    "    SeriesC = 'confidence_validation_funding_round_codes_list_c',\n",
    "    SeriesD = 'confidence_validation_funding_round_codes_list_d',\n",
    "    SeriesE = 'confidence_validation_funding_round_codes_list_e',\n",
    "    SeriesF = 'confidence_validation_funding_round_codes_list_f',\n",
    "    SeriesG = 'confidence_validation_funding_round_codes_list_g',\n",
    "    SeriesH = 'confidence_validation_funding_round_codes_list_h',\n",
    "    Closed = \"keys_company_status_closed_bool\",\n",
    "    Acquired = \"keys_company_status_acquired_bool\",\n",
    "    IPO = \"keys_company_status_ipo_bool\"\n",
    ")\n",
    "\n",
    "label_stage_info = dict(\n",
    "    Age = 'outcome_age_number',\n",
    "    FundingRounds = 'outcome_funding_rounds_number',\n",
    "    FundingRaised = 'outcome_funding_raised_value_total_number',\n",
    "    SeriesA = 'outcome_funding_round_codes_list_a',\n",
    "    SeriesB = 'outcome_funding_round_codes_list_b',\n",
    "    SeriesC = 'outcome_funding_round_codes_list_c',\n",
    "    SeriesD = 'outcome_funding_round_codes_list_d',\n",
    "    SeriesE = 'outcome_funding_round_codes_list_e',\n",
    "    SeriesF = 'outcome_funding_round_codes_list_f',\n",
    "    SeriesG = 'outcome_funding_round_codes_list_g',\n",
    "    SeriesH = 'outcome_funding_round_codes_list_h',\n",
    "    Closed = \"outcome_closed_bool\",\n",
    "    Acquired = \"outcome_acquired_bool\",\n",
    "    IPO = \"outcome_ipo_bool\"\n",
    ")"
   ]
  },
  {
   "cell_type": "code",
   "execution_count": 317,
   "metadata": {
    "collapsed": false
   },
   "outputs": [
    {
     "name": "stdout",
     "output_type": "stream",
     "text": [
      "logManager - INFO - add_stages | Started\n",
      "logManager - INFO - add_stages | Passed | 3.44\n",
      "logManager - INFO - add_stages | Started\n",
      "logManager - INFO - add_stages | Passed | 4.58\n",
      "logManager - INFO - apply_constraints | Started\n",
      "logManager - INFO - apply_constraints | Passed | 2.93\n",
      "logManager - INFO - finalise_dataset | Started\n",
      "logManager - INFO - make_label | Started\n",
      "Feature: 1.0    41266\n",
      "2.0     8388\n",
      "3.0     2872\n",
      "4.0     1828\n",
      "5.0      973\n",
      "6.0      648\n",
      "Name: keys_company_stage_number, dtype: int64\n",
      "Outcome:  1.0    35279\n",
      " 2.0     8978\n",
      " 8.0     3479\n",
      " 3.0     2525\n",
      " 4.0     1734\n",
      "-1.0     1233\n",
      " 5.0     1055\n",
      " 6.0      830\n",
      " 7.0      601\n",
      "Name: outcome_stage_number, dtype: int64\n",
      "Label: 0    45882\n",
      "1    10093\n",
      "Name: outcome_extra_stage_bool, dtype: int64\n",
      "logManager - INFO - make_label | Passed | 0.80\n",
      "logManager - INFO - filter_features | Started\n",
      "logManager - INFO - filter_features | Passed | 1.26\n",
      "logManager - INFO - finalise_dataset | Passed | 2.61\n"
     ]
    }
   ],
   "source": [
    "df = pd.read_csv(SYS_PATH+\"analysis/output/autoVC/26/evaluate/2013-04-09_2017-04-04.csv\")\n",
    "df = vc.add_stages(df, features_stage_info, \"feature\")\n",
    "df = vc.add_stages(df, label_stage_info, \"label\")\n",
    "df = vc.apply_constraints(df)\n",
    "X, y, keys = vc.finalise_dataset(df)\n",
    "source_data = df"
   ]
  },
  {
   "cell_type": "code",
   "execution_count": 318,
   "metadata": {
    "collapsed": false
   },
   "outputs": [
    {
     "name": "stdout",
     "output_type": "stream",
     "text": [
      "Error: Time\n",
      "Error: Imputer\n",
      "Error: Transformer\n",
      "Error: Scaler\n",
      "Error: Extractor\n"
     ]
    }
   ],
   "source": [
    "results_data = helper.get_results(33, \"evaluate\")\n",
    "results_data = results_data.loc[results_data[\"forecast_window_years\"] == \"4 Years\"]\n",
    "results_data = results_data.sample(1).squeeze()"
   ]
  },
  {
   "cell_type": "code",
   "execution_count": 322,
   "metadata": {
    "collapsed": false
   },
   "outputs": [],
   "source": [
    "data = pd.concat([source_data, pd.Series(results_data[\"Y_Pred\"], index=source_data.index, name=\"Y_Pred\")], axis=1)"
   ]
  },
  {
   "cell_type": "code",
   "execution_count": 332,
   "metadata": {
    "collapsed": false
   },
   "outputs": [
    {
     "data": {
      "text/html": [
       "<div>\n",
       "<table border=\"1\" class=\"dataframe\">\n",
       "  <thead>\n",
       "    <tr style=\"text-align: right;\">\n",
       "      <th></th>\n",
       "      <th>keys_company_name_id</th>\n",
       "      <th>keys_company_stage</th>\n",
       "      <th>outcome_stage</th>\n",
       "      <th>Y_True</th>\n",
       "      <th>Y_Pred</th>\n",
       "      <th>Correct</th>\n",
       "    </tr>\n",
       "  </thead>\n",
       "  <tbody>\n",
       "    <tr>\n",
       "      <th>6143</th>\n",
       "      <td>rupeewizard.com</td>\n",
       "      <td>Pre-Seed</td>\n",
       "      <td>Pre-Seed</td>\n",
       "      <td>0</td>\n",
       "      <td>0</td>\n",
       "      <td>1</td>\n",
       "    </tr>\n",
       "    <tr>\n",
       "      <th>88597</th>\n",
       "      <td>EnergySavvy</td>\n",
       "      <td>Series B</td>\n",
       "      <td>Series D+</td>\n",
       "      <td>1</td>\n",
       "      <td>1</td>\n",
       "      <td>1</td>\n",
       "    </tr>\n",
       "    <tr>\n",
       "      <th>7113</th>\n",
       "      <td>Ghostown Studios</td>\n",
       "      <td>Pre-Seed</td>\n",
       "      <td>Pre-Seed</td>\n",
       "      <td>0</td>\n",
       "      <td>0</td>\n",
       "      <td>1</td>\n",
       "    </tr>\n",
       "    <tr>\n",
       "      <th>87340</th>\n",
       "      <td>Perpetuum Lab</td>\n",
       "      <td>Pre-Seed</td>\n",
       "      <td>Pre-Seed</td>\n",
       "      <td>0</td>\n",
       "      <td>0</td>\n",
       "      <td>1</td>\n",
       "    </tr>\n",
       "    <tr>\n",
       "      <th>4615</th>\n",
       "      <td>Pressdot.net</td>\n",
       "      <td>Pre-Seed</td>\n",
       "      <td>Pre-Seed</td>\n",
       "      <td>0</td>\n",
       "      <td>0</td>\n",
       "      <td>1</td>\n",
       "    </tr>\n",
       "    <tr>\n",
       "      <th>84451</th>\n",
       "      <td>ContestDesigns.com</td>\n",
       "      <td>Pre-Seed</td>\n",
       "      <td>Pre-Seed</td>\n",
       "      <td>0</td>\n",
       "      <td>0</td>\n",
       "      <td>1</td>\n",
       "    </tr>\n",
       "    <tr>\n",
       "      <th>49166</th>\n",
       "      <td>style36.co.za</td>\n",
       "      <td>Pre-Seed</td>\n",
       "      <td>Pre-Seed</td>\n",
       "      <td>0</td>\n",
       "      <td>0</td>\n",
       "      <td>1</td>\n",
       "    </tr>\n",
       "    <tr>\n",
       "      <th>88557</th>\n",
       "      <td>Active-Semi</td>\n",
       "      <td>Seed</td>\n",
       "      <td>Seed</td>\n",
       "      <td>0</td>\n",
       "      <td>1</td>\n",
       "      <td>0</td>\n",
       "    </tr>\n",
       "    <tr>\n",
       "      <th>41518</th>\n",
       "      <td>Sigma Infotech</td>\n",
       "      <td>Pre-Seed</td>\n",
       "      <td>Pre-Seed</td>\n",
       "      <td>0</td>\n",
       "      <td>0</td>\n",
       "      <td>1</td>\n",
       "    </tr>\n",
       "    <tr>\n",
       "      <th>53304</th>\n",
       "      <td>CareerLeak</td>\n",
       "      <td>Pre-Seed</td>\n",
       "      <td>Pre-Seed</td>\n",
       "      <td>0</td>\n",
       "      <td>0</td>\n",
       "      <td>1</td>\n",
       "    </tr>\n",
       "    <tr>\n",
       "      <th>92119</th>\n",
       "      <td>Artoha`s SEO</td>\n",
       "      <td>Pre-Seed</td>\n",
       "      <td>Pre-Seed</td>\n",
       "      <td>0</td>\n",
       "      <td>0</td>\n",
       "      <td>1</td>\n",
       "    </tr>\n",
       "    <tr>\n",
       "      <th>31653</th>\n",
       "      <td>Meefind.com</td>\n",
       "      <td>Pre-Seed</td>\n",
       "      <td>Pre-Seed</td>\n",
       "      <td>0</td>\n",
       "      <td>0</td>\n",
       "      <td>1</td>\n",
       "    </tr>\n",
       "    <tr>\n",
       "      <th>61272</th>\n",
       "      <td>Marvel Internet Group</td>\n",
       "      <td>Pre-Seed</td>\n",
       "      <td>Pre-Seed</td>\n",
       "      <td>0</td>\n",
       "      <td>0</td>\n",
       "      <td>1</td>\n",
       "    </tr>\n",
       "    <tr>\n",
       "      <th>59948</th>\n",
       "      <td>Venturian Media</td>\n",
       "      <td>Pre-Seed</td>\n",
       "      <td>Pre-Seed</td>\n",
       "      <td>0</td>\n",
       "      <td>0</td>\n",
       "      <td>1</td>\n",
       "    </tr>\n",
       "    <tr>\n",
       "      <th>14778</th>\n",
       "      <td>TOKiBiz</td>\n",
       "      <td>Pre-Seed</td>\n",
       "      <td>Pre-Seed</td>\n",
       "      <td>0</td>\n",
       "      <td>0</td>\n",
       "      <td>1</td>\n",
       "    </tr>\n",
       "    <tr>\n",
       "      <th>10521</th>\n",
       "      <td>SKOUT</td>\n",
       "      <td>Seed</td>\n",
       "      <td>Acquired</td>\n",
       "      <td>1</td>\n",
       "      <td>1</td>\n",
       "      <td>1</td>\n",
       "    </tr>\n",
       "    <tr>\n",
       "      <th>10833</th>\n",
       "      <td>Jigoshop</td>\n",
       "      <td>Pre-Seed</td>\n",
       "      <td>Pre-Seed</td>\n",
       "      <td>0</td>\n",
       "      <td>0</td>\n",
       "      <td>1</td>\n",
       "    </tr>\n",
       "    <tr>\n",
       "      <th>86822</th>\n",
       "      <td>PRIMA Cinema</td>\n",
       "      <td>Pre-Seed</td>\n",
       "      <td>Pre-Seed</td>\n",
       "      <td>0</td>\n",
       "      <td>0</td>\n",
       "      <td>1</td>\n",
       "    </tr>\n",
       "    <tr>\n",
       "      <th>36780</th>\n",
       "      <td>Adjug</td>\n",
       "      <td>Series B</td>\n",
       "      <td>Acquired</td>\n",
       "      <td>1</td>\n",
       "      <td>1</td>\n",
       "      <td>1</td>\n",
       "    </tr>\n",
       "    <tr>\n",
       "      <th>70764</th>\n",
       "      <td>Tango Health</td>\n",
       "      <td>Series B</td>\n",
       "      <td>Series C</td>\n",
       "      <td>1</td>\n",
       "      <td>1</td>\n",
       "      <td>1</td>\n",
       "    </tr>\n",
       "    <tr>\n",
       "      <th>45263</th>\n",
       "      <td>Compass</td>\n",
       "      <td>Pre-Seed</td>\n",
       "      <td>Seed</td>\n",
       "      <td>1</td>\n",
       "      <td>1</td>\n",
       "      <td>1</td>\n",
       "    </tr>\n",
       "    <tr>\n",
       "      <th>46007</th>\n",
       "      <td>HotelUpgrade</td>\n",
       "      <td>Pre-Seed</td>\n",
       "      <td>Pre-Seed</td>\n",
       "      <td>0</td>\n",
       "      <td>0</td>\n",
       "      <td>1</td>\n",
       "    </tr>\n",
       "    <tr>\n",
       "      <th>91964</th>\n",
       "      <td>Ecommerce Recruiter.com</td>\n",
       "      <td>Pre-Seed</td>\n",
       "      <td>Pre-Seed</td>\n",
       "      <td>0</td>\n",
       "      <td>0</td>\n",
       "      <td>1</td>\n",
       "    </tr>\n",
       "    <tr>\n",
       "      <th>52852</th>\n",
       "      <td>goSawa</td>\n",
       "      <td>Pre-Seed</td>\n",
       "      <td>Pre-Seed</td>\n",
       "      <td>0</td>\n",
       "      <td>0</td>\n",
       "      <td>1</td>\n",
       "    </tr>\n",
       "    <tr>\n",
       "      <th>76934</th>\n",
       "      <td>Vitzu Ltd.</td>\n",
       "      <td>Pre-Seed</td>\n",
       "      <td>Pre-Seed</td>\n",
       "      <td>0</td>\n",
       "      <td>0</td>\n",
       "      <td>1</td>\n",
       "    </tr>\n",
       "    <tr>\n",
       "      <th>8560</th>\n",
       "      <td>ioSafe</td>\n",
       "      <td>Pre-Seed</td>\n",
       "      <td>Seed</td>\n",
       "      <td>1</td>\n",
       "      <td>0</td>\n",
       "      <td>0</td>\n",
       "    </tr>\n",
       "    <tr>\n",
       "      <th>21619</th>\n",
       "      <td>CureDM</td>\n",
       "      <td>Series B</td>\n",
       "      <td>Series B</td>\n",
       "      <td>0</td>\n",
       "      <td>0</td>\n",
       "      <td>1</td>\n",
       "    </tr>\n",
       "    <tr>\n",
       "      <th>14494</th>\n",
       "      <td>Traction.io</td>\n",
       "      <td>Pre-Seed</td>\n",
       "      <td>Pre-Seed</td>\n",
       "      <td>0</td>\n",
       "      <td>1</td>\n",
       "      <td>0</td>\n",
       "    </tr>\n",
       "    <tr>\n",
       "      <th>24507</th>\n",
       "      <td>Absolute Marketing</td>\n",
       "      <td>Pre-Seed</td>\n",
       "      <td>Pre-Seed</td>\n",
       "      <td>0</td>\n",
       "      <td>0</td>\n",
       "      <td>1</td>\n",
       "    </tr>\n",
       "    <tr>\n",
       "      <th>90827</th>\n",
       "      <td>illuminea</td>\n",
       "      <td>Pre-Seed</td>\n",
       "      <td>Pre-Seed</td>\n",
       "      <td>0</td>\n",
       "      <td>0</td>\n",
       "      <td>1</td>\n",
       "    </tr>\n",
       "    <tr>\n",
       "      <th>29548</th>\n",
       "      <td>Jazz</td>\n",
       "      <td>Pre-Seed</td>\n",
       "      <td>Other</td>\n",
       "      <td>0</td>\n",
       "      <td>0</td>\n",
       "      <td>1</td>\n",
       "    </tr>\n",
       "    <tr>\n",
       "      <th>82506</th>\n",
       "      <td>KODA</td>\n",
       "      <td>Seed</td>\n",
       "      <td>Seed</td>\n",
       "      <td>0</td>\n",
       "      <td>1</td>\n",
       "      <td>0</td>\n",
       "    </tr>\n",
       "    <tr>\n",
       "      <th>99747</th>\n",
       "      <td>El Grupazo</td>\n",
       "      <td>Pre-Seed</td>\n",
       "      <td>Pre-Seed</td>\n",
       "      <td>0</td>\n",
       "      <td>0</td>\n",
       "      <td>1</td>\n",
       "    </tr>\n",
       "    <tr>\n",
       "      <th>38703</th>\n",
       "      <td>Accesstream</td>\n",
       "      <td>Pre-Seed</td>\n",
       "      <td>Pre-Seed</td>\n",
       "      <td>0</td>\n",
       "      <td>0</td>\n",
       "      <td>1</td>\n",
       "    </tr>\n",
       "    <tr>\n",
       "      <th>92334</th>\n",
       "      <td>Lextine Software</td>\n",
       "      <td>Pre-Seed</td>\n",
       "      <td>Pre-Seed</td>\n",
       "      <td>0</td>\n",
       "      <td>0</td>\n",
       "      <td>1</td>\n",
       "    </tr>\n",
       "    <tr>\n",
       "      <th>6718</th>\n",
       "      <td>AAA Opzioni Binarie</td>\n",
       "      <td>Pre-Seed</td>\n",
       "      <td>Pre-Seed</td>\n",
       "      <td>0</td>\n",
       "      <td>0</td>\n",
       "      <td>1</td>\n",
       "    </tr>\n",
       "    <tr>\n",
       "      <th>87261</th>\n",
       "      <td>DAU-UP</td>\n",
       "      <td>Pre-Seed</td>\n",
       "      <td>Pre-Seed</td>\n",
       "      <td>0</td>\n",
       "      <td>0</td>\n",
       "      <td>1</td>\n",
       "    </tr>\n",
       "    <tr>\n",
       "      <th>71687</th>\n",
       "      <td>Springbox</td>\n",
       "      <td>Seed</td>\n",
       "      <td>Seed</td>\n",
       "      <td>0</td>\n",
       "      <td>0</td>\n",
       "      <td>1</td>\n",
       "    </tr>\n",
       "    <tr>\n",
       "      <th>19021</th>\n",
       "      <td>Radial Outdoor Media</td>\n",
       "      <td>Pre-Seed</td>\n",
       "      <td>Pre-Seed</td>\n",
       "      <td>0</td>\n",
       "      <td>0</td>\n",
       "      <td>1</td>\n",
       "    </tr>\n",
       "    <tr>\n",
       "      <th>44089</th>\n",
       "      <td>Fortem</td>\n",
       "      <td>Seed</td>\n",
       "      <td>Seed</td>\n",
       "      <td>0</td>\n",
       "      <td>0</td>\n",
       "      <td>1</td>\n",
       "    </tr>\n",
       "    <tr>\n",
       "      <th>41411</th>\n",
       "      <td>NXTLVL Media, LLC</td>\n",
       "      <td>Pre-Seed</td>\n",
       "      <td>Pre-Seed</td>\n",
       "      <td>0</td>\n",
       "      <td>0</td>\n",
       "      <td>1</td>\n",
       "    </tr>\n",
       "    <tr>\n",
       "      <th>27666</th>\n",
       "      <td>TasteBook</td>\n",
       "      <td>Series A</td>\n",
       "      <td>Series A</td>\n",
       "      <td>0</td>\n",
       "      <td>0</td>\n",
       "      <td>1</td>\n",
       "    </tr>\n",
       "    <tr>\n",
       "      <th>11093</th>\n",
       "      <td>Platfora</td>\n",
       "      <td>Series B</td>\n",
       "      <td>Acquired</td>\n",
       "      <td>1</td>\n",
       "      <td>1</td>\n",
       "      <td>1</td>\n",
       "    </tr>\n",
       "    <tr>\n",
       "      <th>53353</th>\n",
       "      <td>Alizé Pharma</td>\n",
       "      <td>Seed</td>\n",
       "      <td>Acquired</td>\n",
       "      <td>1</td>\n",
       "      <td>0</td>\n",
       "      <td>0</td>\n",
       "    </tr>\n",
       "    <tr>\n",
       "      <th>102653</th>\n",
       "      <td>Fixational</td>\n",
       "      <td>Pre-Seed</td>\n",
       "      <td>Seed</td>\n",
       "      <td>1</td>\n",
       "      <td>0</td>\n",
       "      <td>0</td>\n",
       "    </tr>\n",
       "    <tr>\n",
       "      <th>69122</th>\n",
       "      <td>SodaHead</td>\n",
       "      <td>Series B</td>\n",
       "      <td>Acquired</td>\n",
       "      <td>1</td>\n",
       "      <td>1</td>\n",
       "      <td>1</td>\n",
       "    </tr>\n",
       "    <tr>\n",
       "      <th>11899</th>\n",
       "      <td>Kreeo</td>\n",
       "      <td>Pre-Seed</td>\n",
       "      <td>Pre-Seed</td>\n",
       "      <td>0</td>\n",
       "      <td>0</td>\n",
       "      <td>1</td>\n",
       "    </tr>\n",
       "    <tr>\n",
       "      <th>69602</th>\n",
       "      <td>20Dresses</td>\n",
       "      <td>Pre-Seed</td>\n",
       "      <td>Seed</td>\n",
       "      <td>1</td>\n",
       "      <td>0</td>\n",
       "      <td>0</td>\n",
       "    </tr>\n",
       "    <tr>\n",
       "      <th>57553</th>\n",
       "      <td>Infinetics Technologies</td>\n",
       "      <td>Seed</td>\n",
       "      <td>Seed</td>\n",
       "      <td>0</td>\n",
       "      <td>0</td>\n",
       "      <td>1</td>\n",
       "    </tr>\n",
       "    <tr>\n",
       "      <th>87646</th>\n",
       "      <td>My Rental Units</td>\n",
       "      <td>Seed</td>\n",
       "      <td>Seed</td>\n",
       "      <td>0</td>\n",
       "      <td>0</td>\n",
       "      <td>1</td>\n",
       "    </tr>\n",
       "  </tbody>\n",
       "</table>\n",
       "</div>"
      ],
      "text/plain": [
       "           keys_company_name_id keys_company_stage outcome_stage  Y_True  \\\n",
       "6143            rupeewizard.com           Pre-Seed      Pre-Seed       0   \n",
       "88597               EnergySavvy           Series B     Series D+       1   \n",
       "7113           Ghostown Studios           Pre-Seed      Pre-Seed       0   \n",
       "87340             Perpetuum Lab           Pre-Seed      Pre-Seed       0   \n",
       "4615               Pressdot.net           Pre-Seed      Pre-Seed       0   \n",
       "84451        ContestDesigns.com           Pre-Seed      Pre-Seed       0   \n",
       "49166             style36.co.za           Pre-Seed      Pre-Seed       0   \n",
       "88557               Active-Semi               Seed          Seed       0   \n",
       "41518            Sigma Infotech           Pre-Seed      Pre-Seed       0   \n",
       "53304                CareerLeak           Pre-Seed      Pre-Seed       0   \n",
       "92119              Artoha`s SEO           Pre-Seed      Pre-Seed       0   \n",
       "31653               Meefind.com           Pre-Seed      Pre-Seed       0   \n",
       "61272     Marvel Internet Group           Pre-Seed      Pre-Seed       0   \n",
       "59948           Venturian Media           Pre-Seed      Pre-Seed       0   \n",
       "14778                   TOKiBiz           Pre-Seed      Pre-Seed       0   \n",
       "10521                     SKOUT               Seed      Acquired       1   \n",
       "10833                  Jigoshop           Pre-Seed      Pre-Seed       0   \n",
       "86822              PRIMA Cinema           Pre-Seed      Pre-Seed       0   \n",
       "36780                     Adjug           Series B      Acquired       1   \n",
       "70764              Tango Health           Series B      Series C       1   \n",
       "45263                   Compass           Pre-Seed          Seed       1   \n",
       "46007              HotelUpgrade           Pre-Seed      Pre-Seed       0   \n",
       "91964   Ecommerce Recruiter.com           Pre-Seed      Pre-Seed       0   \n",
       "52852                    goSawa           Pre-Seed      Pre-Seed       0   \n",
       "76934                Vitzu Ltd.           Pre-Seed      Pre-Seed       0   \n",
       "8560                     ioSafe           Pre-Seed          Seed       1   \n",
       "21619                    CureDM           Series B      Series B       0   \n",
       "14494               Traction.io           Pre-Seed      Pre-Seed       0   \n",
       "24507        Absolute Marketing           Pre-Seed      Pre-Seed       0   \n",
       "90827                 illuminea           Pre-Seed      Pre-Seed       0   \n",
       "29548                      Jazz           Pre-Seed         Other       0   \n",
       "82506                      KODA               Seed          Seed       0   \n",
       "99747                El Grupazo           Pre-Seed      Pre-Seed       0   \n",
       "38703               Accesstream           Pre-Seed      Pre-Seed       0   \n",
       "92334          Lextine Software           Pre-Seed      Pre-Seed       0   \n",
       "6718        AAA Opzioni Binarie           Pre-Seed      Pre-Seed       0   \n",
       "87261                    DAU-UP           Pre-Seed      Pre-Seed       0   \n",
       "71687                 Springbox               Seed          Seed       0   \n",
       "19021      Radial Outdoor Media           Pre-Seed      Pre-Seed       0   \n",
       "44089                    Fortem               Seed          Seed       0   \n",
       "41411         NXTLVL Media, LLC           Pre-Seed      Pre-Seed       0   \n",
       "27666                 TasteBook           Series A      Series A       0   \n",
       "11093                  Platfora           Series B      Acquired       1   \n",
       "53353              Alizé Pharma               Seed      Acquired       1   \n",
       "102653               Fixational           Pre-Seed          Seed       1   \n",
       "69122                  SodaHead           Series B      Acquired       1   \n",
       "11899                     Kreeo           Pre-Seed      Pre-Seed       0   \n",
       "69602                 20Dresses           Pre-Seed          Seed       1   \n",
       "57553   Infinetics Technologies               Seed          Seed       0   \n",
       "87646           My Rental Units               Seed          Seed       0   \n",
       "\n",
       "        Y_Pred  Correct  \n",
       "6143         0        1  \n",
       "88597        1        1  \n",
       "7113         0        1  \n",
       "87340        0        1  \n",
       "4615         0        1  \n",
       "84451        0        1  \n",
       "49166        0        1  \n",
       "88557        1        0  \n",
       "41518        0        1  \n",
       "53304        0        1  \n",
       "92119        0        1  \n",
       "31653        0        1  \n",
       "61272        0        1  \n",
       "59948        0        1  \n",
       "14778        0        1  \n",
       "10521        1        1  \n",
       "10833        0        1  \n",
       "86822        0        1  \n",
       "36780        1        1  \n",
       "70764        1        1  \n",
       "45263        1        1  \n",
       "46007        0        1  \n",
       "91964        0        1  \n",
       "52852        0        1  \n",
       "76934        0        1  \n",
       "8560         0        0  \n",
       "21619        0        1  \n",
       "14494        1        0  \n",
       "24507        0        1  \n",
       "90827        0        1  \n",
       "29548        0        1  \n",
       "82506        1        0  \n",
       "99747        0        1  \n",
       "38703        0        1  \n",
       "92334        0        1  \n",
       "6718         0        1  \n",
       "87261        0        1  \n",
       "71687        0        1  \n",
       "19021        0        1  \n",
       "44089        0        1  \n",
       "41411        0        1  \n",
       "27666        0        1  \n",
       "11093        1        1  \n",
       "53353        0        0  \n",
       "102653       0        0  \n",
       "69122        1        1  \n",
       "11899        0        1  \n",
       "69602        0        0  \n",
       "57553        0        1  \n",
       "87646        0        1  "
      ]
     },
     "execution_count": 332,
     "metadata": {},
     "output_type": "execute_result"
    }
   ],
   "source": [
    "data[\"Missing\"] = data.isnull().sum(axis=1)\n",
    "data[\"Y_True\"] = data[\"outcome_extra_stage_bool\"]\n",
    "data[\"Correct\"] = np.where(data[\"outcome_extra_stage_bool\"] == data[\"Y_Pred\"], 1, 0)\n",
    "data.sort_values(by=\"Missing\",ascending=True)[[\"keys_company_name_id\", \"keys_company_stage\", \"outcome_stage\", \"Y_True\", \"Y_Pred\", \"Correct\"]].sample(50)"
   ]
  },
  {
   "cell_type": "code",
   "execution_count": 345,
   "metadata": {
    "collapsed": false
   },
   "outputs": [
    {
     "data": {
      "text/html": [
       "<div>\n",
       "<table border=\"1\" class=\"dataframe\">\n",
       "  <thead>\n",
       "    <tr style=\"text-align: right;\">\n",
       "      <th></th>\n",
       "      <th>34245</th>\n",
       "      <th>98092</th>\n",
       "      <th>11202</th>\n",
       "      <th>21843</th>\n",
       "    </tr>\n",
       "  </thead>\n",
       "  <tbody>\n",
       "    <tr>\n",
       "      <th>keys_company_name_id</th>\n",
       "      <td>Mixpanel</td>\n",
       "      <td>Fab</td>\n",
       "      <td>Doctor.com</td>\n",
       "      <td>ChaCha</td>\n",
       "    </tr>\n",
       "    <tr>\n",
       "      <th>confidence_context_economy_company_age_number</th>\n",
       "      <td>3.81</td>\n",
       "      <td>4.27</td>\n",
       "      <td>0.603</td>\n",
       "      <td>7.36</td>\n",
       "    </tr>\n",
       "    <tr>\n",
       "      <th>confidence_validation_funding_raised_value_total_number</th>\n",
       "      <td>1.2e+07</td>\n",
       "      <td>1.71e+08</td>\n",
       "      <td>NaN</td>\n",
       "      <td>9.2e+07</td>\n",
       "    </tr>\n",
       "    <tr>\n",
       "      <th>confidence_validation_funding_rounds_number</th>\n",
       "      <td>4</td>\n",
       "      <td>8</td>\n",
       "      <td>NaN</td>\n",
       "      <td>8</td>\n",
       "    </tr>\n",
       "    <tr>\n",
       "      <th>keys_company_stage</th>\n",
       "      <td>Series A</td>\n",
       "      <td>Series C</td>\n",
       "      <td>Pre-Seed</td>\n",
       "      <td>Series D+</td>\n",
       "    </tr>\n",
       "    <tr>\n",
       "      <th>outcome_age_number</th>\n",
       "      <td>7.79</td>\n",
       "      <td>8.26</td>\n",
       "      <td>4.59</td>\n",
       "      <td>11.3</td>\n",
       "    </tr>\n",
       "    <tr>\n",
       "      <th>outcome_funding_raised_value_total_number</th>\n",
       "      <td>7.7e+07</td>\n",
       "      <td>3.36e+08</td>\n",
       "      <td>5e+06</td>\n",
       "      <td>9.6e+07</td>\n",
       "    </tr>\n",
       "    <tr>\n",
       "      <th>outcome_funding_rounds_number</th>\n",
       "      <td>5</td>\n",
       "      <td>11</td>\n",
       "      <td>3</td>\n",
       "      <td>9</td>\n",
       "    </tr>\n",
       "    <tr>\n",
       "      <th>outcome_stage</th>\n",
       "      <td>Series B</td>\n",
       "      <td>Acquired</td>\n",
       "      <td>Series A</td>\n",
       "      <td>Series D+</td>\n",
       "    </tr>\n",
       "    <tr>\n",
       "      <th>Y_Pred</th>\n",
       "      <td>1</td>\n",
       "      <td>1</td>\n",
       "      <td>0</td>\n",
       "      <td>1</td>\n",
       "    </tr>\n",
       "    <tr>\n",
       "      <th>Y_True</th>\n",
       "      <td>1</td>\n",
       "      <td>1</td>\n",
       "      <td>1</td>\n",
       "      <td>0</td>\n",
       "    </tr>\n",
       "    <tr>\n",
       "      <th>Correct</th>\n",
       "      <td>1</td>\n",
       "      <td>1</td>\n",
       "      <td>0</td>\n",
       "      <td>0</td>\n",
       "    </tr>\n",
       "  </tbody>\n",
       "</table>\n",
       "</div>"
      ],
      "text/plain": [
       "                                                       34245     98092  \\\n",
       "keys_company_name_id                                Mixpanel       Fab   \n",
       "confidence_context_economy_company_age_number           3.81      4.27   \n",
       "confidence_validation_funding_raised_value_tota...   1.2e+07  1.71e+08   \n",
       "confidence_validation_funding_rounds_number                4         8   \n",
       "keys_company_stage                                  Series A  Series C   \n",
       "outcome_age_number                                      7.79      8.26   \n",
       "outcome_funding_raised_value_total_number            7.7e+07  3.36e+08   \n",
       "outcome_funding_rounds_number                              5        11   \n",
       "outcome_stage                                       Series B  Acquired   \n",
       "Y_Pred                                                     1         1   \n",
       "Y_True                                                     1         1   \n",
       "Correct                                                    1         1   \n",
       "\n",
       "                                                         11202      21843  \n",
       "keys_company_name_id                                Doctor.com     ChaCha  \n",
       "confidence_context_economy_company_age_number            0.603       7.36  \n",
       "confidence_validation_funding_raised_value_tota...         NaN    9.2e+07  \n",
       "confidence_validation_funding_rounds_number                NaN          8  \n",
       "keys_company_stage                                    Pre-Seed  Series D+  \n",
       "outcome_age_number                                        4.59       11.3  \n",
       "outcome_funding_raised_value_total_number                5e+06    9.6e+07  \n",
       "outcome_funding_rounds_number                                3          9  \n",
       "outcome_stage                                         Series A  Series D+  \n",
       "Y_Pred                                                       0          1  \n",
       "Y_True                                                       1          0  \n",
       "Correct                                                      0          0  "
      ]
     },
     "execution_count": 345,
     "metadata": {},
     "output_type": "execute_result"
    }
   ],
   "source": [
    "elements = [\n",
    "    \"keys_company_name_id\",\n",
    "    \"confidence_context_economy_company_age_number\",\n",
    "    \"confidence_validation_funding_raised_value_total_number\",\n",
    "    \"confidence_validation_funding_rounds_number\",\n",
    "    \"keys_company_stage\", \n",
    "    \"outcome_age_number\",\n",
    "    \"outcome_funding_raised_value_total_number\",\n",
    "    \"outcome_funding_rounds_number\",\n",
    "    \"outcome_stage\", \n",
    "    \"Y_Pred\",\n",
    "    \"Y_True\", \n",
    "    \"Correct\"]\n",
    "names = [\"ChaCha\", \"Doctor.com\", \"Fab\", \"Mixpanel\"]\n",
    "temp = pd.DataFrame()\n",
    "for name in names:\n",
    "    new = data.loc[data[\"keys_company_name_id\"] == name][elements]\n",
    "    temp = pd.concat([new, temp], axis=0)\n",
    "temp.T"
   ]
  },
  {
   "cell_type": "code",
   "execution_count": null,
   "metadata": {
    "collapsed": true
   },
   "outputs": [],
   "source": []
  }
 ],
 "metadata": {
  "kernelspec": {
   "display_name": "Python 3",
   "language": "python",
   "name": "python3"
  },
  "language_info": {
   "codemirror_mode": {
    "name": "ipython",
    "version": 3
   },
   "file_extension": ".py",
   "mimetype": "text/x-python",
   "name": "python",
   "nbconvert_exporter": "python",
   "pygments_lexer": "ipython3",
   "version": "3.6.0"
  }
 },
 "nbformat": 4,
 "nbformat_minor": 2
}

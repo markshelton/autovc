{
 "cells": [
  {
   "cell_type": "markdown",
   "metadata": {},
   "source": [
    "# 3.1 Data Preparation"
   ]
  },
  {
   "cell_type": "code",
   "execution_count": 230,
   "metadata": {
    "collapsed": false
   },
   "outputs": [],
   "source": [
    "#setup path\n",
    "path = 'C:/Users/mark/Documents/GitHub/honours/dev/package/'\n",
    "import sys; sys.path.append(path)\n",
    "\n",
    "#standard imports\n",
    "import numpy as np\n",
    "import pandas as pd\n",
    "import datetime\n",
    "from scipy import stats\n",
    "from collections import OrderedDict\n",
    "import math\n",
    "from datetime import date, timedelta\n",
    "\n",
    "#third party imports\n",
    "from IPython.core.interactiveshell import InteractiveShell\n",
    "import matplotlib.pyplot as plt\n",
    "import matplotlib.dates as md\n",
    "import matplotlib\n",
    "import matplotlib.ticker as ticker\n",
    "from matplotlib import rcParams\n",
    "import seaborn as sns\n",
    "\n",
    "#local imports\n",
    "import analysis.dataPreparer as dp\n",
    "import analysis.autoVC2 as vc"
   ]
  },
  {
   "cell_type": "code",
   "execution_count": 231,
   "metadata": {
    "collapsed": false
   },
   "outputs": [],
   "source": [
    "#setup\n",
    "%matplotlib inline\n",
    "\n",
    "TINY_SIZE = 12\n",
    "SMALL_SIZE = 16\n",
    "MEDIUM_SIZE = 20\n",
    "BIGGER_SIZE = 30\n",
    "\n",
    "plt.style.use(['seaborn-white', 'seaborn-paper'])\n",
    "sns.set_palette(\"colorblind\")\n",
    "rcParams['font.family'] = 'serif' \n",
    "rcParams['font.serif'] = 'CMU Serif' \n",
    "rcParams['font.weight'] = 'bold'\n",
    "rcParams['font.size'] = SMALL_SIZE #default font size\n",
    "rcParams['axes.titlesize'] =SMALL_SIZE   # fontsize of the axes title\n",
    "rcParams['axes.labelsize'] =MEDIUM_SIZE    # fontsize of the x and y labels\n",
    "rcParams['xtick.labelsize'] =SMALL_SIZE    # fontsize of the tick labels\n",
    "rcParams['ytick.labelsize'] =SMALL_SIZE   # fontsize of the tick labels\n",
    "rcParams['legend.fontsize'] =SMALL_SIZE    # legend fontsize\n",
    "rcParams['figure.titlesize'] =BIGGER_SIZE  # fontsize of the figure title\n",
    "rcParams['figure.figsize'] = (8,4)\n",
    "\n",
    "save_path = r\"C:/Users/mark/Documents/GitHub/honours/submissions/thesis-original/figures/design/\""
   ]
  },
  {
   "cell_type": "code",
   "execution_count": 232,
   "metadata": {
    "collapsed": true
   },
   "outputs": [],
   "source": [
    "pd.set_option('precision',3)"
   ]
  },
  {
   "cell_type": "code",
   "execution_count": 233,
   "metadata": {
    "collapsed": true
   },
   "outputs": [],
   "source": [
    "def auto_label(ax, fmt='{:,.0f}'):\n",
    "    ymax_old = ax.get_ylim()[1]\n",
    "    ax.set_ylim(ymax= ax.get_ylim()[1] * 1.1)\n",
    "    for p in ax.patches:\n",
    "        height = p.get_height()\n",
    "        ax.text(\n",
    "            x=p.get_x()+p.get_width()/2.,\n",
    "            y=np.nanmax([height,0]) + ymax_old * 0.02,\n",
    "            s=fmt.format(np.nanmax([height,0])),\n",
    "            ha=\"center\")\n",
    "    ax.yaxis.set_ticks([])"
   ]
  },
  {
   "cell_type": "code",
   "execution_count": 264,
   "metadata": {
    "collapsed": true
   },
   "outputs": [],
   "source": [
    "outline_bars = dict(linewidth = 1.25, edgecolor = '.15')"
   ]
  },
  {
   "cell_type": "code",
   "execution_count": 235,
   "metadata": {
    "collapsed": true
   },
   "outputs": [],
   "source": [
    "def add_vertical_line(ax, value, label, color, linestyle=\"dashed\"):\n",
    "    ax.axvline(value, linestyle=linestyle, color=color)\n",
    "    x_bounds = ax.get_xlim()\n",
    "    xy_pos = (((value-x_bounds[0])/(x_bounds[1]-x_bounds[0])),1.01)\n",
    "    ax.annotate(s=label, xy =xy_pos, xycoords='axes fraction', verticalalignment='right', horizontalalignment='right bottom', color=color)"
   ]
  },
  {
   "cell_type": "code",
   "execution_count": 236,
   "metadata": {
    "collapsed": true
   },
   "outputs": [],
   "source": [
    "def add_horizontal_line(ax, value, label, color, linestyle=\"dashed\"):\n",
    "    ax.axhline(value, linestyle=linestyle, color=color)\n",
    "    y_bounds = ax.get_ylim()\n",
    "    xy_pos = (1.01,((value-y_bounds[0])/(y_bounds[1]-y_bounds[0])))\n",
    "    ax.annotate(s=label, xy =xy_pos, xycoords='axes fraction', verticalalignment='right', horizontalalignment='right bottom', color=color)"
   ]
  },
  {
   "cell_type": "code",
   "execution_count": 237,
   "metadata": {
    "collapsed": true
   },
   "outputs": [],
   "source": [
    "def add_boxplot_labels(ax, labels, color=\"black\"):\n",
    "    y_bounds = ax.get_ylim()\n",
    "    for value, label in enumerate(labels):\n",
    "        xy_pos = (1.01,((value-y_bounds[0] + 0.15)/(y_bounds[1]-y_bounds[0])))\n",
    "        ax.annotate(s=label, xy =xy_pos, size=TINY_SIZE, xycoords='axes fraction', verticalalignment='right', horizontalalignment='right bottom', color=color)"
   ]
  },
  {
   "cell_type": "code",
   "execution_count": 238,
   "metadata": {
    "collapsed": false
   },
   "outputs": [
    {
     "name": "stdout",
     "output_type": "stream",
     "text": [
      "logManager - INFO - export_dataframe | Started\n",
      "logManager - INFO - export_dataframe | Passed | 308.62\n"
     ]
    }
   ],
   "source": [
    "#constants\n",
    "input_path = path+\"analysis/input/master.db\"\n",
    "flatten_config = path+\"analysis/config/master_feature.sql\"\n",
    "raw_flat_file = path+\"analysis/output/temp/raw.csv\"\n",
    "clean_flat_file = path+\"analysis/output/temp/clean.csv\"\n",
    "output_path = path+\"analysis/output/temp/output.db\"\n",
    "#output_path = path+\"analysis/output/autoVC/8/test/2015-04-06/2017-04-03/label_clean.csv\"\n",
    "\n",
    "#dp.flatten_file(input_path, flatten_config, raw_flat_file, \"feature\")\n",
    "#dp.clean_file(raw_flat_file, clean_flat_file)\n",
    "#dp.load_file(output_path, clean_flat_file, \"feature\")\n",
    "df = dp.export_dataframe(output_path, \"feature\")\n",
    "df_backup = df.copy()"
   ]
  },
  {
   "cell_type": "code",
   "execution_count": 91,
   "metadata": {
    "collapsed": true
   },
   "outputs": [],
   "source": [
    "#reload data from memory\n",
    "df = df_backup"
   ]
  },
  {
   "cell_type": "code",
   "execution_count": null,
   "metadata": {
    "collapsed": false
   },
   "outputs": [],
   "source": [
    "df = df.sample(50000)"
   ]
  },
  {
   "cell_type": "code",
   "execution_count": 239,
   "metadata": {
    "collapsed": true
   },
   "outputs": [],
   "source": [
    "def get_results(build, stage):\n",
    "    \n",
    "    def split_date(x):\n",
    "        return date(*map(int, x.split(\"-\")))\n",
    "    \n",
    "    df = pd.read_pickle(r\"C:\\Users\\mark\\Documents\\GitHub\\honours\\dev\\package\\analysis\\output\\autoVC\\{}\\{}\\log_results.pkl\".format(build, stage))\n",
    "    df = df.reset_index()\n",
    "    try: df[\"Time\"] = pd.to_numeric(df[\"mean_fit_time\"],errors=\"coerce\")\n",
    "    except: print(\"Error: Time\")\n",
    "    try: df[\"Imputer\"] = df[\"param_imputer__strategy\"].map({\"most_frequent\": \"Mode\", \"median\": \"Median\", \"mean\": \"Mean\"})\n",
    "    except: print(\"Error: Imputer\")\n",
    "    try: df[\"Transformer\"] = df[\"param_transformer__func\"].astype(str).map({\"None\":\"None\",\"<ufunc 'sqrt'>\":\"SQRT\",\"<ufunc 'log1p'>\": \"Log1P\"})\n",
    "    except: print(\"Error: Transformer\")\n",
    "    try: df[\"Scaler\"] = df['param_scaler'].apply(lambda x: str(x).split(\"(\")[0])\n",
    "    except: print(\"Error: Scaler\")\n",
    "    try: \n",
    "        df[\"param_extractor__n_components_bin_20\"] = df[\"param_extractor__n_components\"] // 20\n",
    "        df[\"Extractor\"]=df['param_extractor__n_components_bin_20'].map({0 : \"1-20\", 1 : \"21-40\", 2: \"41-60\",3: \"61-80\", 4: \"81-100\"})\n",
    "    except: print(\"Error: Extractor\")\n",
    "    try: \n",
    "        df[\"Classifier\"] = df[\"Classifier\"].apply(lambda x: str(x).split(\"(\")[0])\n",
    "        df[\"Classifier\"]=df['Classifier'].map({\"LogisticRegression\": \"Logistic Regression\", \"RandomForestClassifier\":\"Random Forest\", \"DecisionTreeClassifier\": \"Decision Tree\", \"GaussianNB\": \"Naive Bayes\", \"MLPClassifier\": \"Artificial Neural Network\", \"KNeighborsClassifier\": \"K-Nearest Neighbors\", \"CalibratedClassifierCV\": \"Support Vector Machine\"})\n",
    "    except: print(\"Error: Classifier\")\n",
    "    try:\n",
    "        df[\"label_date\"] = df[\"label_slice\"]\n",
    "        df[\"label_date_str\"] = df[\"label_date\"].astype(str)\n",
    "        df[\"feature_date\"] = df[\"feature_slice\"]\n",
    "        df[\"feature_date_str\"] = df[\"feature_date\"].astype(str)\n",
    "        df[\"forecast_window\"] =  df[\"label_date\"] - df[\"feature_date\"]\n",
    "        df[\"forecast_window_months\"] = df[\"forecast_window\"].apply(lambda x: x.days // 30)\n",
    "    except: print(\"Error: Dates\")\n",
    "    try:\n",
    "        df[\"outcome_chance\"] = df[\"outcome_extra_stage_bool\"].ix[0].value_counts(normalize=True)[1]\n",
    "    except: print(\"Error: Outcome\")\n",
    "    df[\"Params_str\"] = df[\"Params\"].astype(str)\n",
    "    return df"
   ]
  },
  {
   "cell_type": "code",
   "execution_count": 240,
   "metadata": {
    "collapsed": false
   },
   "outputs": [],
   "source": [
    "stage_features = dict(\n",
    "    Age = 'confidence_context_broader_company_age_number',\n",
    "    FundingRounds = 'confidence_validation_funding_rounds_number',\n",
    "    FundingRaised = 'confidence_validation_funding_raised_value_total_number',\n",
    "    SeriesA = 'confidence_validation_funding_round_codes_list_a',\n",
    "    SeriesB = 'confidence_validation_funding_round_codes_list_b',\n",
    "    SeriesC = 'confidence_validation_funding_round_codes_list_c',\n",
    "    SeriesD = 'confidence_validation_funding_round_codes_list_d',\n",
    "    SeriesE = 'confidence_validation_funding_round_codes_list_e',\n",
    "    SeriesF = 'confidence_validation_funding_round_codes_list_f',\n",
    "    SeriesG = 'confidence_validation_funding_round_codes_list_g',\n",
    "    SeriesH = 'confidence_validation_funding_round_codes_list_h',\n",
    "    Closed = \"keys_company_status_closed_bool\",\n",
    "    Acquired = \"keys_company_status_acquired_bool\",\n",
    "    IPO = \"keys_company_status_ipo_bool\"\n",
    ")"
   ]
  },
  {
   "cell_type": "code",
   "execution_count": 241,
   "metadata": {
    "collapsed": false
   },
   "outputs": [],
   "source": [
    "def create_stages(df, **features):\n",
    "    df2 = df.copy()\n",
    "    df2[\"keys_company_stage\"] = \"Other\"\n",
    "    df2[\"keys_company_stage\"] = np.where((df2[\"keys_company_stage\"] == \"Other\") & (df2[features[\"Closed\"]] >= 1), \"Closed\", df2[\"keys_company_stage\"])\n",
    "    df2[\"keys_company_stage\"] = np.where((df2[\"keys_company_stage\"] == \"Other\") & (df2[features[\"Acquired\"]] >= 1), \"Acquired\", df2[\"keys_company_stage\"])\n",
    "    df2[\"keys_company_stage\"] = np.where((df2[\"keys_company_stage\"] == \"Other\") & (df2[features[\"IPO\"]] >= 1), \"IPO\", df2[\"keys_company_stage\"])\n",
    "    df2[\"keys_company_stage_series-d+\"] = df2[[features[\"SeriesD\"],features[\"SeriesE\"],features[\"SeriesF\"],features[\"SeriesG\"],features[\"SeriesH\"]]].sum(axis=1)\n",
    "    df2[\"keys_company_stage\"] = np.where((df2[\"keys_company_stage\"] == \"Other\") & (df2[\"keys_company_stage_series-d+\"] >= 1), \"Series D+\", df2[\"keys_company_stage\"])\n",
    "    df2[\"keys_company_stage\"] = np.where((df2[\"keys_company_stage\"] == \"Other\") & (df2[features[\"SeriesC\"]] >= 1), \"Series C\", df2[\"keys_company_stage\"])\n",
    "    df2[\"keys_company_stage\"] = np.where((df2[\"keys_company_stage\"] == \"Other\") & (df2[features[\"SeriesB\"]] >= 1), \"Series B\", df2[\"keys_company_stage\"])\n",
    "    df2[\"keys_company_stage\"] = np.where((df2[\"keys_company_stage\"] == \"Other\") & (df2[features[\"SeriesA\"]] >= 1), \"Series A\", df2[\"keys_company_stage\"])\n",
    "    df2[\"keys_company_stage\"] = np.where((df2[\"keys_company_stage\"] == \"Other\") & (df2[features[\"FundingRaised\"]] >= 0), \"Seed\", df2[\"keys_company_stage\"])\n",
    "    age_new_cutoff = df2[features[\"Age\"]][df2[\"keys_company_stage\"] == \"Seed\"].quantile(0.75)\n",
    "    df2[\"keys_company_stage\"] = np.where((df2[\"keys_company_stage\"] == \"Other\") & (df2[features[\"Age\"]] <= age_new_cutoff), \"Pre-Seed\", df2[\"keys_company_stage\"])\n",
    "    group_stages = {\"Other\" : \"Excluded\", \"Closed\" : \"Excluded\", \"IPO\" : \"Excluded\", \"Acquired\" : \"Excluded\", \"Pre-Seed\" : \"Included\",\n",
    "        \"Seed\" : \"Included\", \"Series A\" : \"Included\", \"Series B\" : \"Included\", \"Series C\" : \"Included\", \"Series D+\" : \"Included\"}\n",
    "    df2[\"keys_company_stage_group\"] = df2[\"keys_company_stage\"].map(group_stages)\n",
    "    ordinal_stages = {\"Pre-Seed\" : 1, \"Seed\" : 2, \"Series A\" : 3, \"Series B\" : 4, \"Series C\" : 5, \"Series D+\" : 6,\"Other\" : np.nan, \"Closed\" : -1, \"IPO\" : 7, \"Acquired\" : 8}\n",
    "    df2[\"keys_company_stage_number\"] = df2[\"keys_company_stage\"].map(ordinal_stages)\n",
    "    return df2[[\"keys_company_stage_group\", \"keys_company_stage\",\"keys_company_stage_number\"]]"
   ]
  },
  {
   "cell_type": "code",
   "execution_count": 242,
   "metadata": {
    "collapsed": false
   },
   "outputs": [
    {
     "name": "stdout",
     "output_type": "stream",
     "text": [
      "Stages done.\n"
     ]
    }
   ],
   "source": [
    "stages = create_stages(df, **stage_features)\n",
    "df = pd.concat([stages, df], axis=1)\n",
    "print(\"Stages done.\")"
   ]
  },
  {
   "cell_type": "markdown",
   "metadata": {},
   "source": [
    "## 3.1.3 Preliminary Screening"
   ]
  },
  {
   "cell_type": "code",
   "execution_count": 243,
   "metadata": {
    "collapsed": false
   },
   "outputs": [
    {
     "name": "stdout",
     "output_type": "stream",
     "text": [
      "Other        206872\n",
      "Pre-Seed     113915\n",
      "Seed          52219\n",
      "Acquired      26894\n",
      "Series A       8654\n",
      "IPO            5800\n",
      "Series B       4657\n",
      "Closed         3279\n",
      "Series C       2231\n",
      "Series D+      1413\n",
      "Name: keys_company_stage, dtype: int64\n",
      "Other        0.486\n",
      "Pre-Seed     0.267\n",
      "Seed         0.123\n",
      "Acquired     0.063\n",
      "Series A     0.020\n",
      "IPO          0.014\n",
      "Series B     0.011\n",
      "Closed       0.008\n",
      "Series C     0.005\n",
      "Series D+    0.003\n",
      "Name: keys_company_stage, dtype: float64\n",
      "425934\n"
     ]
    }
   ],
   "source": [
    "print(df[\"keys_company_stage\"].value_counts())\n",
    "print(df[\"keys_company_stage\"].value_counts(normalize=True))\n",
    "print(df[\"keys_company_stage\"].value_counts().sum())"
   ]
  },
  {
   "cell_type": "code",
   "execution_count": 244,
   "metadata": {
    "collapsed": false
   },
   "outputs": [
    {
     "data": {
      "image/png": "[encoded data removed]",
      "text/plain": [
       "<matplotlib.figure.Figure at 0x1f399d39828>"
      ]
     },
     "metadata": {},
     "output_type": "display_data"
    }
   ],
   "source": [
    "order_1 = [\"Pre-Seed\", \"Seed\", \"Series A\", \"Series B\", \"Series C\", \"Series D+\", \"IPO\", \"Acquired\"]\n",
    "f = plt.figure()\n",
    "ax = sns.countplot(x= df[\"keys_company_stage\"], order = order_1, **outline_bars)\n",
    "auto_label(ax)\n",
    "add_vertical_line(ax, 1.5, \"Break-Even\", color=\"r\")\n",
    "add_vertical_line(ax, 5.5, \"Exit\", color=\"b\")\n",
    "ax.set_xlabel(\"Developmental Stage\")\n",
    "ax.set_ylabel(\"Companies\")\n",
    "plt.tight_layout()\n",
    "f.savefig(save_path+\"lifecycle.pdf\", bbox_inches=\"tight\")"
   ]
  },
  {
   "cell_type": "markdown",
   "metadata": {},
   "source": [
    "Removed Other, Closed, Acquired & IPO groups"
   ]
  },
  {
   "cell_type": "code",
   "execution_count": 245,
   "metadata": {
    "collapsed": false
   },
   "outputs": [],
   "source": [
    "df = df.loc[df['keys_company_stage_group'] != \"Excluded\"]"
   ]
  },
  {
   "cell_type": "code",
   "execution_count": 246,
   "metadata": {
    "collapsed": false
   },
   "outputs": [
    {
     "name": "stdout",
     "output_type": "stream",
     "text": [
      "Pre-Seed     113915\n",
      "Seed          52219\n",
      "Series A       8654\n",
      "Series B       4657\n",
      "Series C       2231\n",
      "Series D+      1413\n",
      "Name: keys_company_stage, dtype: int64\n",
      "Pre-Seed     0.622\n",
      "Seed         0.285\n",
      "Series A     0.047\n",
      "Series B     0.025\n",
      "Series C     0.012\n",
      "Series D+    0.008\n",
      "Name: keys_company_stage, dtype: float64\n",
      "183089\n"
     ]
    }
   ],
   "source": [
    "print(df[\"keys_company_stage\"].value_counts())\n",
    "print(df[\"keys_company_stage\"].value_counts(normalize=True))\n",
    "print(df[\"keys_company_stage\"].value_counts().sum())"
   ]
  },
  {
   "cell_type": "code",
   "execution_count": 247,
   "metadata": {
    "collapsed": true
   },
   "outputs": [],
   "source": [
    "age_old_cutoff = df[\"confidence_context_broader_company_age_number\"][df[\"keys_company_stage\"] == \"Series D+\"].quantile(0.75)"
   ]
  },
  {
   "cell_type": "code",
   "execution_count": 248,
   "metadata": {
    "collapsed": false
   },
   "outputs": [
    {
     "data": {
      "image/png": "[encoded data removed]",
      "text/plain": [
       "<matplotlib.figure.Figure at 0x1f4255c9208>"
      ]
     },
     "metadata": {},
     "output_type": "display_data"
    }
   ],
   "source": [
    "order_1 = [\"Pre-Seed\", \"Seed\", \"Series A\", \"Series B\", \"Series C\", \"Series D+\"]\n",
    "f = plt.figure()\n",
    "ax = sns.boxplot(\n",
    "    x=\"confidence_context_broader_company_age_number\", \n",
    "    y=\"keys_company_stage\",\n",
    "    order=order_1,data=df, fliersize=0)\n",
    "ax.set_xlim(xmin=0, xmax=30)\n",
    "ax.set_xlabel(\"Company Age (Years)\")\n",
    "ax.set_ylabel(\"Developmental Stage\")\n",
    "add_vertical_line(ax, age_old_cutoff, \"Age Upper Bound\", color=\"r\")\n",
    "plt.tight_layout()\n",
    "f.savefig(save_path+\"stages_ages.pdf\", bbox_inches=\"tight\")"
   ]
  },
  {
   "cell_type": "markdown",
   "metadata": {},
   "source": [
    "Removed companies older than 15 years old"
   ]
  },
  {
   "cell_type": "code",
   "execution_count": 249,
   "metadata": {
    "collapsed": false
   },
   "outputs": [
    {
     "data": {
      "text/plain": [
       "15.698630136986301"
      ]
     },
     "execution_count": 249,
     "metadata": {},
     "output_type": "execute_result"
    }
   ],
   "source": [
    "age_old_cutoff"
   ]
  },
  {
   "cell_type": "code",
   "execution_count": 250,
   "metadata": {
    "collapsed": false
   },
   "outputs": [],
   "source": [
    "df = df.loc[df['confidence_context_broader_company_age_number'] <= age_old_cutoff]"
   ]
  },
  {
   "cell_type": "code",
   "execution_count": 251,
   "metadata": {
    "collapsed": false
   },
   "outputs": [
    {
     "name": "stdout",
     "output_type": "stream",
     "text": [
      "Pre-Seed     113915\n",
      "Seed          38942\n",
      "Series A       6615\n",
      "Series B       3342\n",
      "Series C       1610\n",
      "Series D+       998\n",
      "Name: keys_company_stage, dtype: int64\n",
      "Pre-Seed     0.689\n",
      "Seed         0.235\n",
      "Series A     0.040\n",
      "Series B     0.020\n",
      "Series C     0.010\n",
      "Series D+    0.006\n",
      "Name: keys_company_stage, dtype: float64\n",
      "165422\n"
     ]
    }
   ],
   "source": [
    "print(df[\"keys_company_stage\"].value_counts())\n",
    "print(df[\"keys_company_stage\"].value_counts(normalize=True))\n",
    "print(df[\"keys_company_stage\"].value_counts().sum())"
   ]
  },
  {
   "cell_type": "markdown",
   "metadata": {},
   "source": [
    "## 3.1.4 Descriptive Statistics"
   ]
  },
  {
   "cell_type": "markdown",
   "metadata": {},
   "source": [
    "Table 3. Final test dataset counts grouped by lifecycle stage."
   ]
  },
  {
   "cell_type": "code",
   "execution_count": 252,
   "metadata": {
    "collapsed": true
   },
   "outputs": [],
   "source": [
    "drops = [col for col in list(df) if col.startswith((\"key\",\"from\",\"outcome\",\"index\"))]\n",
    "X = df.drop(drops, axis=1)\n",
    "X = X.select_dtypes(['number'])"
   ]
  },
  {
   "cell_type": "code",
   "execution_count": 253,
   "metadata": {
    "collapsed": false
   },
   "outputs": [
    {
     "data": {
      "text/plain": [
       "419"
      ]
     },
     "execution_count": 253,
     "metadata": {},
     "output_type": "execute_result"
    }
   ],
   "source": [
    "df[\"keys_missing_features\"] = X.isnull().sum(axis=1)\n",
    "len(list(df))"
   ]
  },
  {
   "cell_type": "code",
   "execution_count": 254,
   "metadata": {
    "collapsed": false,
    "scrolled": true
   },
   "outputs": [
    {
     "name": "stderr",
     "output_type": "stream",
     "text": [
      "C:\\ProgramData\\Anaconda3\\lib\\site-packages\\numpy\\lib\\function_base.py:3569: RuntimeWarning: Invalid value encountered in median\n",
      "  RuntimeWarning)\n",
      "C:\\ProgramData\\Anaconda3\\lib\\site-packages\\numpy\\lib\\nanfunctions.py:1043: RuntimeWarning: All-NaN slice encountered\n",
      "  warnings.warn(\"All-NaN slice encountered\", RuntimeWarning)\n"
     ]
    },
    {
     "data": {
      "text/html": [
       "<div>\n",
       "<table border=\"1\" class=\"dataframe\">\n",
       "  <thead>\n",
       "    <tr>\n",
       "      <th></th>\n",
       "      <th>Obs</th>\n",
       "      <th colspan=\"2\" halign=\"left\">Age (Years)</th>\n",
       "      <th colspan=\"2\" halign=\"left\">Funding Raised (USD, millions)</th>\n",
       "      <th colspan=\"2\" halign=\"left\">Funding Rounds (N)</th>\n",
       "      <th colspan=\"2\" halign=\"left\">Available Features (N)</th>\n",
       "    </tr>\n",
       "    <tr>\n",
       "      <th></th>\n",
       "      <th>N</th>\n",
       "      <th>Median</th>\n",
       "      <th>IQR</th>\n",
       "      <th>Median</th>\n",
       "      <th>IQR</th>\n",
       "      <th>Median</th>\n",
       "      <th>IQR</th>\n",
       "      <th>Median</th>\n",
       "      <th>IQR</th>\n",
       "    </tr>\n",
       "    <tr>\n",
       "      <th>keys_company_stage</th>\n",
       "      <th></th>\n",
       "      <th></th>\n",
       "      <th></th>\n",
       "      <th></th>\n",
       "      <th></th>\n",
       "      <th></th>\n",
       "      <th></th>\n",
       "      <th></th>\n",
       "      <th></th>\n",
       "    </tr>\n",
       "  </thead>\n",
       "  <tbody>\n",
       "    <tr>\n",
       "      <th>Pre-Seed</th>\n",
       "      <td>113915</td>\n",
       "      <td>4.362</td>\n",
       "      <td>3.737</td>\n",
       "      <td>NaN</td>\n",
       "      <td>NaN</td>\n",
       "      <td>NaN</td>\n",
       "      <td>NaN</td>\n",
       "      <td>33</td>\n",
       "      <td>127</td>\n",
       "    </tr>\n",
       "    <tr>\n",
       "      <th>Seed</th>\n",
       "      <td>38942</td>\n",
       "      <td>4.663</td>\n",
       "      <td>4.003</td>\n",
       "      <td>0.250</td>\n",
       "      <td>1.295</td>\n",
       "      <td>1.0</td>\n",
       "      <td>1.0</td>\n",
       "      <td>185</td>\n",
       "      <td>127</td>\n",
       "    </tr>\n",
       "    <tr>\n",
       "      <th>Series A</th>\n",
       "      <td>6615</td>\n",
       "      <td>5.693</td>\n",
       "      <td>5.005</td>\n",
       "      <td>4.400</td>\n",
       "      <td>7.906</td>\n",
       "      <td>2.0</td>\n",
       "      <td>2.0</td>\n",
       "      <td>246</td>\n",
       "      <td>117</td>\n",
       "    </tr>\n",
       "    <tr>\n",
       "      <th>Series B</th>\n",
       "      <td>3342</td>\n",
       "      <td>7.608</td>\n",
       "      <td>5.918</td>\n",
       "      <td>14.891</td>\n",
       "      <td>22.032</td>\n",
       "      <td>3.0</td>\n",
       "      <td>2.0</td>\n",
       "      <td>261</td>\n",
       "      <td>87</td>\n",
       "    </tr>\n",
       "    <tr>\n",
       "      <th>Series C</th>\n",
       "      <td>1610</td>\n",
       "      <td>8.696</td>\n",
       "      <td>5.523</td>\n",
       "      <td>35.285</td>\n",
       "      <td>45.881</td>\n",
       "      <td>3.0</td>\n",
       "      <td>2.0</td>\n",
       "      <td>311</td>\n",
       "      <td>80</td>\n",
       "    </tr>\n",
       "    <tr>\n",
       "      <th>Series D+</th>\n",
       "      <td>998</td>\n",
       "      <td>9.696</td>\n",
       "      <td>5.005</td>\n",
       "      <td>74.385</td>\n",
       "      <td>90.300</td>\n",
       "      <td>5.0</td>\n",
       "      <td>3.0</td>\n",
       "      <td>324</td>\n",
       "      <td>69</td>\n",
       "    </tr>\n",
       "  </tbody>\n",
       "</table>\n",
       "</div>"
      ],
      "text/plain": [
       "                       Obs Age (Years)        Funding Raised (USD, millions)  \\\n",
       "                         N      Median    IQR                         Median   \n",
       "keys_company_stage                                                             \n",
       "Pre-Seed            113915       4.362  3.737                            NaN   \n",
       "Seed                 38942       4.663  4.003                          0.250   \n",
       "Series A              6615       5.693  5.005                          4.400   \n",
       "Series B              3342       7.608  5.918                         14.891   \n",
       "Series C              1610       8.696  5.523                         35.285   \n",
       "Series D+              998       9.696  5.005                         74.385   \n",
       "\n",
       "                           Funding Rounds (N)      Available Features (N)       \n",
       "                       IQR             Median  IQR                 Median  IQR  \n",
       "keys_company_stage                                                              \n",
       "Pre-Seed               NaN                NaN  NaN                     33  127  \n",
       "Seed                 1.295                1.0  1.0                    185  127  \n",
       "Series A             7.906                2.0  2.0                    246  117  \n",
       "Series B            22.032                3.0  2.0                    261   87  \n",
       "Series C            45.881                3.0  2.0                    311   80  \n",
       "Series D+           90.300                5.0  3.0                    324   69  "
      ]
     },
     "execution_count": 254,
     "metadata": {},
     "output_type": "execute_result"
    }
   ],
   "source": [
    "groups = [df[\"keys_company_stage\"]]\n",
    "columns = [\"keys_company_stage\", \"confidence_context_broader_company_age_number\", \"confidence_validation_funding_raised_value_total_number\", \"confidence_validation_funding_rounds_number\", \"keys_missing_features\"]\n",
    "colnames = [\"Obs\", \"Age (Years)\", \"Funding Raised (USD, millions)\", \"Funding Rounds (N)\", \"Available Features (N)\"]\n",
    "colfuncs = [{\"N\":len}, \n",
    "    OrderedDict([(\"Median\", np.median),(\"IQR\", lambda x: stats.iqr(x,nan_policy=\"omit\"))]), \n",
    "    OrderedDict([(\"Median\", lambda x: np.median(x) / 1e6), (\"IQR\", lambda x: stats.iqr(x,nan_policy=\"omit\") / 1e6)]), \n",
    "    OrderedDict([(\"Median\", np.median),(\"IQR\", lambda x: stats.iqr(x,nan_policy=\"omit\"))]), \n",
    "    OrderedDict([(\"Median\", lambda x: len(list(df)) - np.median(x)), (\"IQR\", lambda x: stats.iqr(x,nan_policy=\"omit\") )])]\n",
    "\n",
    "namefunc = OrderedDict(zip(columns, colnames))\n",
    "aggfunc = OrderedDict(zip(columns, colfuncs))\n",
    "\n",
    "order_1 = [\"Pre-Seed\", \"Seed\", \"Series A\", \"Series B\", \"Series C\", \"Series D+\"]\n",
    "\n",
    "tab = df[columns].groupby(groups)\n",
    "tab = tab.agg(aggfunc)\n",
    "tab.rename(columns=namefunc)"
   ]
  },
  {
   "cell_type": "code",
   "execution_count": 255,
   "metadata": {
    "collapsed": false
   },
   "outputs": [
    {
     "name": "stderr",
     "output_type": "stream",
     "text": [
      "C:\\ProgramData\\Anaconda3\\lib\\site-packages\\numpy\\lib\\function_base.py:3569: RuntimeWarning: Invalid value encountered in median\n",
      "  RuntimeWarning)\n"
     ]
    },
    {
     "data": {
      "text/html": [
       "<div>\n",
       "<table border=\"1\" class=\"dataframe\">\n",
       "  <thead>\n",
       "    <tr>\n",
       "      <th></th>\n",
       "      <th>Obs</th>\n",
       "      <th colspan=\"2\" halign=\"left\">Age (Years)</th>\n",
       "      <th colspan=\"2\" halign=\"left\">Funding Raised (USD, millions)</th>\n",
       "      <th colspan=\"2\" halign=\"left\">Funding Rounds (N)</th>\n",
       "      <th colspan=\"2\" halign=\"left\">Available Features (N)</th>\n",
       "    </tr>\n",
       "    <tr>\n",
       "      <th></th>\n",
       "      <th>N</th>\n",
       "      <th>Median</th>\n",
       "      <th>IQR</th>\n",
       "      <th>Median</th>\n",
       "      <th>IQR</th>\n",
       "      <th>Median</th>\n",
       "      <th>IQR</th>\n",
       "      <th>Median</th>\n",
       "      <th>IQR</th>\n",
       "    </tr>\n",
       "    <tr>\n",
       "      <th>keys_company_stage_group</th>\n",
       "      <th></th>\n",
       "      <th></th>\n",
       "      <th></th>\n",
       "      <th></th>\n",
       "      <th></th>\n",
       "      <th></th>\n",
       "      <th></th>\n",
       "      <th></th>\n",
       "      <th></th>\n",
       "    </tr>\n",
       "  </thead>\n",
       "  <tbody>\n",
       "    <tr>\n",
       "      <th>Included</th>\n",
       "      <td>165422</td>\n",
       "      <td>4.688</td>\n",
       "      <td>4.003</td>\n",
       "      <td>NaN</td>\n",
       "      <td>3.97</td>\n",
       "      <td>1.0</td>\n",
       "      <td>1.0</td>\n",
       "      <td>98</td>\n",
       "      <td>145</td>\n",
       "    </tr>\n",
       "  </tbody>\n",
       "</table>\n",
       "</div>"
      ],
      "text/plain": [
       "                             Obs Age (Years)         \\\n",
       "                               N      Median    IQR   \n",
       "keys_company_stage_group                              \n",
       "Included                  165422       4.688  4.003   \n",
       "\n",
       "                         Funding Raised (USD, millions)        \\\n",
       "                                                 Median   IQR   \n",
       "keys_company_stage_group                                        \n",
       "Included                                            NaN  3.97   \n",
       "\n",
       "                         Funding Rounds (N)      Available Features (N)       \n",
       "                                     Median  IQR                 Median  IQR  \n",
       "keys_company_stage_group                                                      \n",
       "Included                                1.0  1.0                     98  145  "
      ]
     },
     "execution_count": 255,
     "metadata": {},
     "output_type": "execute_result"
    }
   ],
   "source": [
    "groups = [df[\"keys_company_stage_group\"]]\n",
    "columns = [\"keys_company_stage\", \"confidence_context_broader_company_age_number\", \"confidence_validation_funding_raised_value_total_number\", \"confidence_validation_funding_rounds_number\", \"keys_missing_features\"]\n",
    "colnames = [\"Obs\", \"Age (Years)\", \"Funding Raised (USD, millions)\", \"Funding Rounds (N)\", \"Available Features (N)\"]\n",
    "colfuncs = [{\"N\":len}, \n",
    "    OrderedDict([(\"Median\", np.median),(\"IQR\", lambda x: stats.iqr(x,nan_policy=\"omit\"))]), \n",
    "    OrderedDict([(\"Median\", lambda x: np.median(x) / 1e6), (\"IQR\", lambda x: stats.iqr(x,nan_policy=\"omit\") / 1e6)]), \n",
    "    OrderedDict([(\"Median\", np.median), (\"IQR\", lambda x: stats.iqr(x,nan_policy=\"omit\"))]),\n",
    "    OrderedDict([(\"Median\", lambda x: len(list(df)) - np.median(x)), (\"IQR\", lambda x: stats.iqr(x,nan_policy=\"omit\") )])]\n",
    "\n",
    "namefunc = OrderedDict(zip(columns, colnames))\n",
    "aggfunc = OrderedDict(zip(columns, colfuncs))\n",
    "\n",
    "tab = df[columns].groupby(groups)\n",
    "tab = tab.agg(aggfunc)\n",
    "tab.rename(columns=namefunc)"
   ]
  },
  {
   "cell_type": "markdown",
   "metadata": {},
   "source": [
    "Table 3. Final test dataset counts grouped by company sector."
   ]
  },
  {
   "cell_type": "code",
   "execution_count": 256,
   "metadata": {
    "collapsed": false
   },
   "outputs": [],
   "source": [
    "industries = [x for x in list(df) if x.startswith(\"confidence_context_industry_category_group_list\")]"
   ]
  },
  {
   "cell_type": "code",
   "execution_count": 266,
   "metadata": {
    "collapsed": false
   },
   "outputs": [
    {
     "data": {
      "image/png": "[encoded data removed]",
      "text/plain": [
       "<matplotlib.figure.Figure at 0x1f38c41d208>"
      ]
     },
     "metadata": {},
     "output_type": "display_data"
    }
   ],
   "source": [
    "values = [df[industry].value_counts()[1] for industry in industries]\n",
    "values = sorted(values,reverse=True)\n",
    "f = plt.figure()\n",
    "names = [\"Software\", \"Internet\", \"Media\", \"Commerce\", \"Mobile\", \"Sales\", \"IT\", \"Health\", \"Hardware\", \"Financial\"]\n",
    "ax = sns.barplot(y = values, x = names, order = names,  **outline_bars)\n",
    "auto_label(ax)\n",
    "plt.xticks(rotation=30)\n",
    "ax.set_ylabel(\"Companies\")\n",
    "ax.set_xlabel(\"Industry Sectors (Top 10)\")\n",
    "plt.tight_layout()\n",
    "f.savefig(save_path+\"industry_counts.pdf\", bbox_inches=\"tight\")"
   ]
  },
  {
   "cell_type": "markdown",
   "metadata": {},
   "source": [
    "[SPARSITY]"
   ]
  },
  {
   "cell_type": "code",
   "execution_count": 258,
   "metadata": {
    "collapsed": true
   },
   "outputs": [],
   "source": [
    "missing_by_feature = X.isnull().sum(axis=1)"
   ]
  },
  {
   "cell_type": "code",
   "execution_count": 259,
   "metadata": {
    "collapsed": true
   },
   "outputs": [],
   "source": [
    "missing_by_col =  X.isnull().sum(axis=0)"
   ]
  },
  {
   "cell_type": "code",
   "execution_count": 261,
   "metadata": {
    "collapsed": false
   },
   "outputs": [
    {
     "name": "stderr",
     "output_type": "stream",
     "text": [
      "C:\\ProgramData\\Anaconda3\\lib\\site-packages\\statsmodels\\nonparametric\\kdetools.py:20: VisibleDeprecationWarning: using a non-integer number instead of an integer will result in an error in the future\n",
      "  y = X[:m/2+1] + np.r_[0,X[m/2+1:],0]*1j\n"
     ]
    },
    {
     "data": {
      "image/png": "[encoded data removed]",
      "text/plain": [
       "<matplotlib.figure.Figure at 0x1f395a83518>"
      ]
     },
     "metadata": {},
     "output_type": "display_data"
    }
   ],
   "source": [
    "f = plt.figure(figsize = (8,3))\n",
    "ax = sns.distplot(missing_by_feature, bins=25, hist_kws = outline_bars)\n",
    "ax.set_xlim(xmin=0, xmax=len(missing_by_col))\n",
    "add_vertical_line(ax, np.median(missing_by_feature), \"Median\", color=\"r\")\n",
    "ax.set_xlabel(\"Missing Features\")\n",
    "ax.set_ylabel(\"Density\")\n",
    "plt.tight_layout()\n",
    "f.savefig(save_path+\"sparsity_features.pdf\", bbox_inches=\"tight\")"
   ]
  },
  {
   "cell_type": "code",
   "execution_count": 262,
   "metadata": {
    "collapsed": false
   },
   "outputs": [
    {
     "name": "stderr",
     "output_type": "stream",
     "text": [
      "C:\\ProgramData\\Anaconda3\\lib\\site-packages\\statsmodels\\nonparametric\\kdetools.py:20: VisibleDeprecationWarning: using a non-integer number instead of an integer will result in an error in the future\n",
      "  y = X[:m/2+1] + np.r_[0,X[m/2+1:],0]*1j\n"
     ]
    },
    {
     "data": {
      "image/png": "[encoded data removed]",
      "text/plain": [
       "<matplotlib.figure.Figure at 0x1f38d5f7e80>"
      ]
     },
     "metadata": {},
     "output_type": "display_data"
    }
   ],
   "source": [
    "f = plt.figure(figsize = (8,3))\n",
    "ax = sns.distplot(missing_by_col, bins=25, hist_kws = outline_bars)\n",
    "ax.set_xlim(xmin=0, xmax=len(missing_by_feature))\n",
    "add_vertical_line(ax, np.median(missing_by_col), \"Median\", color=\"r\")\n",
    "ax.set_xticklabels([\"{:,.0f}\".format(xtick) for xtick in ax.get_xticks().tolist()])\n",
    "ax.set_xlabel(\"Missing Observations\")\n",
    "ax.set_ylabel(\"Density\")\n",
    "plt.tight_layout()\n",
    "f.savefig(save_path+\"sparsity_observations.pdf\", bbox_inches=\"tight\")"
   ]
  },
  {
   "cell_type": "markdown",
   "metadata": {},
   "source": [
    "[SKEW BY FEATURE (GROUPED BY WHETHER ZEROS-REMOVED)]"
   ]
  },
  {
   "cell_type": "code",
   "execution_count": 267,
   "metadata": {
    "collapsed": false
   },
   "outputs": [
    {
     "ename": "KeyboardInterrupt",
     "evalue": "",
     "output_type": "error",
     "traceback": [
      "\u001b[0;31m---------------------------------------------------------------------------\u001b[0m",
      "\u001b[0;31mKeyboardInterrupt\u001b[0m                         Traceback (most recent call last)",
      "\u001b[0;32m<ipython-input-267-9b989387714c>\u001b[0m in \u001b[0;36m<module>\u001b[0;34m()\u001b[0m\n\u001b[0;32m----> 1\u001b[0;31m \u001b[0mskews\u001b[0m \u001b[1;33m=\u001b[0m \u001b[0mX\u001b[0m\u001b[1;33m.\u001b[0m\u001b[0mapply\u001b[0m\u001b[1;33m(\u001b[0m\u001b[1;32mlambda\u001b[0m \u001b[0mx\u001b[0m\u001b[1;33m:\u001b[0m \u001b[0mstats\u001b[0m\u001b[1;33m.\u001b[0m\u001b[0mskew\u001b[0m\u001b[1;33m(\u001b[0m\u001b[0mx\u001b[0m\u001b[1;33m.\u001b[0m\u001b[0mdropna\u001b[0m\u001b[1;33m(\u001b[0m\u001b[1;33m)\u001b[0m\u001b[1;33m)\u001b[0m\u001b[1;33m)\u001b[0m\u001b[1;33m.\u001b[0m\u001b[0mdropna\u001b[0m\u001b[1;33m(\u001b[0m\u001b[1;33m)\u001b[0m\u001b[1;33m\u001b[0m\u001b[0m\n\u001b[0m\u001b[1;32m      2\u001b[0m \u001b[0mskews\u001b[0m \u001b[1;33m=\u001b[0m \u001b[0mskews\u001b[0m\u001b[1;33m[\u001b[0m\u001b[1;33m(\u001b[0m\u001b[0mskews\u001b[0m \u001b[1;33m>=\u001b[0m \u001b[1;33m-\u001b[0m\u001b[1;36m20\u001b[0m\u001b[1;33m)\u001b[0m \u001b[1;33m&\u001b[0m \u001b[1;33m(\u001b[0m\u001b[0mskews\u001b[0m \u001b[1;33m<\u001b[0m \u001b[1;36m40\u001b[0m\u001b[1;33m)\u001b[0m\u001b[1;33m]\u001b[0m\u001b[1;33m\u001b[0m\u001b[0m\n",
      "\u001b[0;32mC:\\ProgramData\\Anaconda3\\lib\\site-packages\\pandas\\core\\frame.py\u001b[0m in \u001b[0;36mapply\u001b[0;34m(self, func, axis, broadcast, raw, reduce, args, **kwds)\u001b[0m\n\u001b[1;32m   4150\u001b[0m                     \u001b[1;32mif\u001b[0m \u001b[0mreduce\u001b[0m \u001b[1;32mis\u001b[0m \u001b[1;32mNone\u001b[0m\u001b[1;33m:\u001b[0m\u001b[1;33m\u001b[0m\u001b[0m\n\u001b[1;32m   4151\u001b[0m                         \u001b[0mreduce\u001b[0m \u001b[1;33m=\u001b[0m \u001b[1;32mTrue\u001b[0m\u001b[1;33m\u001b[0m\u001b[0m\n\u001b[0;32m-> 4152\u001b[0;31m                     \u001b[1;32mreturn\u001b[0m \u001b[0mself\u001b[0m\u001b[1;33m.\u001b[0m\u001b[0m_apply_standard\u001b[0m\u001b[1;33m(\u001b[0m\u001b[0mf\u001b[0m\u001b[1;33m,\u001b[0m \u001b[0maxis\u001b[0m\u001b[1;33m,\u001b[0m \u001b[0mreduce\u001b[0m\u001b[1;33m=\u001b[0m\u001b[0mreduce\u001b[0m\u001b[1;33m)\u001b[0m\u001b[1;33m\u001b[0m\u001b[0m\n\u001b[0m\u001b[1;32m   4153\u001b[0m             \u001b[1;32melse\u001b[0m\u001b[1;33m:\u001b[0m\u001b[1;33m\u001b[0m\u001b[0m\n\u001b[1;32m   4154\u001b[0m                 \u001b[1;32mreturn\u001b[0m \u001b[0mself\u001b[0m\u001b[1;33m.\u001b[0m\u001b[0m_apply_broadcast\u001b[0m\u001b[1;33m(\u001b[0m\u001b[0mf\u001b[0m\u001b[1;33m,\u001b[0m \u001b[0maxis\u001b[0m\u001b[1;33m)\u001b[0m\u001b[1;33m\u001b[0m\u001b[0m\n",
      "\u001b[0;32mC:\\ProgramData\\Anaconda3\\lib\\site-packages\\pandas\\core\\frame.py\u001b[0m in \u001b[0;36m_apply_standard\u001b[0;34m(self, func, axis, ignore_failures, reduce)\u001b[0m\n\u001b[1;32m   4206\u001b[0m                     \u001b[0mlabels\u001b[0m \u001b[1;33m=\u001b[0m \u001b[0mself\u001b[0m\u001b[1;33m.\u001b[0m\u001b[0m_get_agg_axis\u001b[0m\u001b[1;33m(\u001b[0m\u001b[0maxis\u001b[0m\u001b[1;33m)\u001b[0m\u001b[1;33m\u001b[0m\u001b[0m\n\u001b[1;32m   4207\u001b[0m                     result = lib.reduce(values, func, axis=axis, dummy=dummy,\n\u001b[0;32m-> 4208\u001b[0;31m                                         labels=labels)\n\u001b[0m\u001b[1;32m   4209\u001b[0m                     \u001b[1;32mreturn\u001b[0m \u001b[0mSeries\u001b[0m\u001b[1;33m(\u001b[0m\u001b[0mresult\u001b[0m\u001b[1;33m,\u001b[0m \u001b[0mindex\u001b[0m\u001b[1;33m=\u001b[0m\u001b[0mlabels\u001b[0m\u001b[1;33m)\u001b[0m\u001b[1;33m\u001b[0m\u001b[0m\n\u001b[1;32m   4210\u001b[0m                 \u001b[1;32mexcept\u001b[0m \u001b[0mException\u001b[0m\u001b[1;33m:\u001b[0m\u001b[1;33m\u001b[0m\u001b[0m\n",
      "\u001b[0;32mpandas\\src\\reduce.pyx\u001b[0m in \u001b[0;36mpandas.lib.reduce (pandas\\lib.c:45030)\u001b[0;34m()\u001b[0m\n",
      "\u001b[0;32mpandas\\src\\reduce.pyx\u001b[0m in \u001b[0;36mpandas.lib.Reducer.get_result (pandas\\lib.c:34673)\u001b[0;34m()\u001b[0m\n",
      "\u001b[0;32m<ipython-input-267-9b989387714c>\u001b[0m in \u001b[0;36m<lambda>\u001b[0;34m(x)\u001b[0m\n\u001b[0;32m----> 1\u001b[0;31m \u001b[0mskews\u001b[0m \u001b[1;33m=\u001b[0m \u001b[0mX\u001b[0m\u001b[1;33m.\u001b[0m\u001b[0mapply\u001b[0m\u001b[1;33m(\u001b[0m\u001b[1;32mlambda\u001b[0m \u001b[0mx\u001b[0m\u001b[1;33m:\u001b[0m \u001b[0mstats\u001b[0m\u001b[1;33m.\u001b[0m\u001b[0mskew\u001b[0m\u001b[1;33m(\u001b[0m\u001b[0mx\u001b[0m\u001b[1;33m.\u001b[0m\u001b[0mdropna\u001b[0m\u001b[1;33m(\u001b[0m\u001b[1;33m)\u001b[0m\u001b[1;33m)\u001b[0m\u001b[1;33m)\u001b[0m\u001b[1;33m.\u001b[0m\u001b[0mdropna\u001b[0m\u001b[1;33m(\u001b[0m\u001b[1;33m)\u001b[0m\u001b[1;33m\u001b[0m\u001b[0m\n\u001b[0m\u001b[1;32m      2\u001b[0m \u001b[0mskews\u001b[0m \u001b[1;33m=\u001b[0m \u001b[0mskews\u001b[0m\u001b[1;33m[\u001b[0m\u001b[1;33m(\u001b[0m\u001b[0mskews\u001b[0m \u001b[1;33m>=\u001b[0m \u001b[1;33m-\u001b[0m\u001b[1;36m20\u001b[0m\u001b[1;33m)\u001b[0m \u001b[1;33m&\u001b[0m \u001b[1;33m(\u001b[0m\u001b[0mskews\u001b[0m \u001b[1;33m<\u001b[0m \u001b[1;36m40\u001b[0m\u001b[1;33m)\u001b[0m\u001b[1;33m]\u001b[0m\u001b[1;33m\u001b[0m\u001b[0m\n",
      "\u001b[0;32mC:\\ProgramData\\Anaconda3\\lib\\site-packages\\pandas\\core\\series.py\u001b[0m in \u001b[0;36mdropna\u001b[0;34m(self, axis, inplace, **kwargs)\u001b[0m\n\u001b[1;32m   2643\u001b[0m \u001b[1;33m\u001b[0m\u001b[0m\n\u001b[1;32m   2644\u001b[0m         \u001b[1;32mif\u001b[0m \u001b[0mself\u001b[0m\u001b[1;33m.\u001b[0m\u001b[0m_can_hold_na\u001b[0m\u001b[1;33m:\u001b[0m\u001b[1;33m\u001b[0m\u001b[0m\n\u001b[0;32m-> 2645\u001b[0;31m             \u001b[0mresult\u001b[0m \u001b[1;33m=\u001b[0m \u001b[0mremove_na\u001b[0m\u001b[1;33m(\u001b[0m\u001b[0mself\u001b[0m\u001b[1;33m)\u001b[0m\u001b[1;33m\u001b[0m\u001b[0m\n\u001b[0m\u001b[1;32m   2646\u001b[0m             \u001b[1;32mif\u001b[0m \u001b[0minplace\u001b[0m\u001b[1;33m:\u001b[0m\u001b[1;33m\u001b[0m\u001b[0m\n\u001b[1;32m   2647\u001b[0m                 \u001b[0mself\u001b[0m\u001b[1;33m.\u001b[0m\u001b[0m_update_inplace\u001b[0m\u001b[1;33m(\u001b[0m\u001b[0mresult\u001b[0m\u001b[1;33m)\u001b[0m\u001b[1;33m\u001b[0m\u001b[0m\n",
      "\u001b[0;32mC:\\ProgramData\\Anaconda3\\lib\\site-packages\\pandas\\core\\series.py\u001b[0m in \u001b[0;36mremove_na\u001b[0;34m(series)\u001b[0m\n\u001b[1;32m   2786\u001b[0m     \u001b[0mReturn\u001b[0m \u001b[0mseries\u001b[0m \u001b[0mcontaining\u001b[0m \u001b[0monly\u001b[0m \u001b[0mtrue\u001b[0m\u001b[1;33m/\u001b[0m\u001b[0mnon\u001b[0m\u001b[1;33m-\u001b[0m\u001b[0mNaN\u001b[0m \u001b[0mvalues\u001b[0m\u001b[1;33m,\u001b[0m \u001b[0mpossibly\u001b[0m \u001b[0mempty\u001b[0m\u001b[1;33m.\u001b[0m\u001b[1;33m\u001b[0m\u001b[0m\n\u001b[1;32m   2787\u001b[0m     \"\"\"\n\u001b[0;32m-> 2788\u001b[0;31m     \u001b[1;32mreturn\u001b[0m \u001b[0mseries\u001b[0m\u001b[1;33m[\u001b[0m\u001b[0mnotnull\u001b[0m\u001b[1;33m(\u001b[0m\u001b[0m_values_from_object\u001b[0m\u001b[1;33m(\u001b[0m\u001b[0mseries\u001b[0m\u001b[1;33m)\u001b[0m\u001b[1;33m)\u001b[0m\u001b[1;33m]\u001b[0m\u001b[1;33m\u001b[0m\u001b[0m\n\u001b[0m\u001b[1;32m   2789\u001b[0m \u001b[1;33m\u001b[0m\u001b[0m\n\u001b[1;32m   2790\u001b[0m \u001b[1;33m\u001b[0m\u001b[0m\n",
      "\u001b[0;32mC:\\ProgramData\\Anaconda3\\lib\\site-packages\\pandas\\core\\series.py\u001b[0m in \u001b[0;36m__getitem__\u001b[0;34m(self, key)\u001b[0m\n\u001b[1;32m    601\u001b[0m         \u001b[0mkey\u001b[0m \u001b[1;33m=\u001b[0m \u001b[0mcom\u001b[0m\u001b[1;33m.\u001b[0m\u001b[0m_apply_if_callable\u001b[0m\u001b[1;33m(\u001b[0m\u001b[0mkey\u001b[0m\u001b[1;33m,\u001b[0m \u001b[0mself\u001b[0m\u001b[1;33m)\u001b[0m\u001b[1;33m\u001b[0m\u001b[0m\n\u001b[1;32m    602\u001b[0m         \u001b[1;32mtry\u001b[0m\u001b[1;33m:\u001b[0m\u001b[1;33m\u001b[0m\u001b[0m\n\u001b[0;32m--> 603\u001b[0;31m             \u001b[0mresult\u001b[0m \u001b[1;33m=\u001b[0m \u001b[0mself\u001b[0m\u001b[1;33m.\u001b[0m\u001b[0mindex\u001b[0m\u001b[1;33m.\u001b[0m\u001b[0mget_value\u001b[0m\u001b[1;33m(\u001b[0m\u001b[0mself\u001b[0m\u001b[1;33m,\u001b[0m \u001b[0mkey\u001b[0m\u001b[1;33m)\u001b[0m\u001b[1;33m\u001b[0m\u001b[0m\n\u001b[0m\u001b[1;32m    604\u001b[0m \u001b[1;33m\u001b[0m\u001b[0m\n\u001b[1;32m    605\u001b[0m             \u001b[1;32mif\u001b[0m \u001b[1;32mnot\u001b[0m \u001b[0mis_scalar\u001b[0m\u001b[1;33m(\u001b[0m\u001b[0mresult\u001b[0m\u001b[1;33m)\u001b[0m\u001b[1;33m:\u001b[0m\u001b[1;33m\u001b[0m\u001b[0m\n",
      "\u001b[0;32mC:\\ProgramData\\Anaconda3\\lib\\site-packages\\pandas\\indexes\\base.py\u001b[0m in \u001b[0;36mget_value\u001b[0;34m(self, series, key)\u001b[0m\n\u001b[1;32m   2167\u001b[0m         \u001b[1;32mtry\u001b[0m\u001b[1;33m:\u001b[0m\u001b[1;33m\u001b[0m\u001b[0m\n\u001b[1;32m   2168\u001b[0m             return self._engine.get_value(s, k,\n\u001b[0;32m-> 2169\u001b[0;31m                                           tz=getattr(series.dtype, 'tz', None))\n\u001b[0m\u001b[1;32m   2170\u001b[0m         \u001b[1;32mexcept\u001b[0m \u001b[0mKeyError\u001b[0m \u001b[1;32mas\u001b[0m \u001b[0me1\u001b[0m\u001b[1;33m:\u001b[0m\u001b[1;33m\u001b[0m\u001b[0m\n\u001b[1;32m   2171\u001b[0m             \u001b[1;32mif\u001b[0m \u001b[0mlen\u001b[0m\u001b[1;33m(\u001b[0m\u001b[0mself\u001b[0m\u001b[1;33m)\u001b[0m \u001b[1;33m>\u001b[0m \u001b[1;36m0\u001b[0m \u001b[1;32mand\u001b[0m \u001b[0mself\u001b[0m\u001b[1;33m.\u001b[0m\u001b[0minferred_type\u001b[0m \u001b[1;32min\u001b[0m \u001b[1;33m[\u001b[0m\u001b[1;34m'integer'\u001b[0m\u001b[1;33m,\u001b[0m \u001b[1;34m'boolean'\u001b[0m\u001b[1;33m]\u001b[0m\u001b[1;33m:\u001b[0m\u001b[1;33m\u001b[0m\u001b[0m\n",
      "\u001b[0;32mpandas\\index.pyx\u001b[0m in \u001b[0;36mpandas.index.IndexEngine.get_value (pandas\\index.c:3557)\u001b[0;34m()\u001b[0m\n",
      "\u001b[0;32mpandas\\index.pyx\u001b[0m in \u001b[0;36mpandas.index.IndexEngine.get_value (pandas\\index.c:3240)\u001b[0;34m()\u001b[0m\n",
      "\u001b[0;32mpandas\\index.pyx\u001b[0m in \u001b[0;36mpandas.index.IndexEngine.get_loc (pandas\\index.c:3972)\u001b[0;34m()\u001b[0m\n",
      "\u001b[0;32mC:\\ProgramData\\Anaconda3\\lib\\site-packages\\numpy\\core\\numeric.py\u001b[0m in \u001b[0;36marray_str\u001b[0;34m(a, max_line_width, precision, suppress_small)\u001b[0m\n\u001b[1;32m   1867\u001b[0m \u001b[1;33m\u001b[0m\u001b[0m\n\u001b[1;32m   1868\u001b[0m     \"\"\"\n\u001b[0;32m-> 1869\u001b[0;31m     \u001b[1;32mreturn\u001b[0m \u001b[0marray2string\u001b[0m\u001b[1;33m(\u001b[0m\u001b[0ma\u001b[0m\u001b[1;33m,\u001b[0m \u001b[0mmax_line_width\u001b[0m\u001b[1;33m,\u001b[0m \u001b[0mprecision\u001b[0m\u001b[1;33m,\u001b[0m \u001b[0msuppress_small\u001b[0m\u001b[1;33m,\u001b[0m \u001b[1;34m' '\u001b[0m\u001b[1;33m,\u001b[0m \u001b[1;34m\"\"\u001b[0m\u001b[1;33m,\u001b[0m \u001b[0mstr\u001b[0m\u001b[1;33m)\u001b[0m\u001b[1;33m\u001b[0m\u001b[0m\n\u001b[0m\u001b[1;32m   1870\u001b[0m \u001b[1;33m\u001b[0m\u001b[0m\n\u001b[1;32m   1871\u001b[0m \u001b[1;32mdef\u001b[0m \u001b[0mset_string_function\u001b[0m\u001b[1;33m(\u001b[0m\u001b[0mf\u001b[0m\u001b[1;33m,\u001b[0m \u001b[0mrepr\u001b[0m\u001b[1;33m=\u001b[0m\u001b[1;32mTrue\u001b[0m\u001b[1;33m)\u001b[0m\u001b[1;33m:\u001b[0m\u001b[1;33m\u001b[0m\u001b[0m\n",
      "\u001b[0;32mC:\\ProgramData\\Anaconda3\\lib\\site-packages\\numpy\\core\\arrayprint.py\u001b[0m in \u001b[0;36marray2string\u001b[0;34m(a, max_line_width, precision, suppress_small, separator, prefix, style, formatter)\u001b[0m\n\u001b[1;32m    445\u001b[0m     \u001b[1;32melse\u001b[0m\u001b[1;33m:\u001b[0m\u001b[1;33m\u001b[0m\u001b[0m\n\u001b[1;32m    446\u001b[0m         lst = _array2string(a, max_line_width, precision, suppress_small,\n\u001b[0;32m--> 447\u001b[0;31m                             separator, prefix, formatter=formatter)\n\u001b[0m\u001b[1;32m    448\u001b[0m     \u001b[1;32mreturn\u001b[0m \u001b[0mlst\u001b[0m\u001b[1;33m\u001b[0m\u001b[0m\n\u001b[1;32m    449\u001b[0m \u001b[1;33m\u001b[0m\u001b[0m\n",
      "\u001b[0;32mC:\\ProgramData\\Anaconda3\\lib\\site-packages\\numpy\\core\\arrayprint.py\u001b[0m in \u001b[0;36m_array2string\u001b[0;34m(a, max_line_width, precision, suppress_small, separator, prefix, formatter)\u001b[0m\n\u001b[1;32m    323\u001b[0m     lst = _formatArray(a, format_function, len(a.shape), max_line_width,\n\u001b[1;32m    324\u001b[0m                        \u001b[0mnext_line_prefix\u001b[0m\u001b[1;33m,\u001b[0m \u001b[0mseparator\u001b[0m\u001b[1;33m,\u001b[0m\u001b[1;33m\u001b[0m\u001b[0m\n\u001b[0;32m--> 325\u001b[0;31m                        _summaryEdgeItems, summary_insert)[:-1]\n\u001b[0m\u001b[1;32m    326\u001b[0m     \u001b[1;32mreturn\u001b[0m \u001b[0mlst\u001b[0m\u001b[1;33m\u001b[0m\u001b[0m\n\u001b[1;32m    327\u001b[0m \u001b[1;33m\u001b[0m\u001b[0m\n",
      "\u001b[0;32mC:\\ProgramData\\Anaconda3\\lib\\site-packages\\numpy\\core\\arrayprint.py\u001b[0m in \u001b[0;36m_formatArray\u001b[0;34m(a, format_function, rank, max_line_len, next_line_prefix, separator, edge_items, summary_insert)\u001b[0m\n\u001b[1;32m    492\u001b[0m         \u001b[1;32mfor\u001b[0m \u001b[0mi\u001b[0m \u001b[1;32min\u001b[0m \u001b[0mrange\u001b[0m\u001b[1;33m(\u001b[0m\u001b[0mtrailing_items\u001b[0m\u001b[1;33m,\u001b[0m \u001b[1;36m1\u001b[0m\u001b[1;33m,\u001b[0m \u001b[1;33m-\u001b[0m\u001b[1;36m1\u001b[0m\u001b[1;33m)\u001b[0m\u001b[1;33m:\u001b[0m\u001b[1;33m\u001b[0m\u001b[0m\n\u001b[1;32m    493\u001b[0m             \u001b[0mword\u001b[0m \u001b[1;33m=\u001b[0m \u001b[0mformat_function\u001b[0m\u001b[1;33m(\u001b[0m\u001b[0ma\u001b[0m\u001b[1;33m[\u001b[0m\u001b[1;33m-\u001b[0m\u001b[0mi\u001b[0m\u001b[1;33m]\u001b[0m\u001b[1;33m)\u001b[0m \u001b[1;33m+\u001b[0m \u001b[0mseparator\u001b[0m\u001b[1;33m\u001b[0m\u001b[0m\n\u001b[0;32m--> 494\u001b[0;31m             \u001b[0ms\u001b[0m\u001b[1;33m,\u001b[0m \u001b[0mline\u001b[0m \u001b[1;33m=\u001b[0m \u001b[0m_extendLine\u001b[0m\u001b[1;33m(\u001b[0m\u001b[0ms\u001b[0m\u001b[1;33m,\u001b[0m \u001b[0mline\u001b[0m\u001b[1;33m,\u001b[0m \u001b[0mword\u001b[0m\u001b[1;33m,\u001b[0m \u001b[0mmax_line_len\u001b[0m\u001b[1;33m,\u001b[0m \u001b[0mnext_line_prefix\u001b[0m\u001b[1;33m)\u001b[0m\u001b[1;33m\u001b[0m\u001b[0m\n\u001b[0m\u001b[1;32m    495\u001b[0m \u001b[1;33m\u001b[0m\u001b[0m\n\u001b[1;32m    496\u001b[0m         \u001b[0mword\u001b[0m \u001b[1;33m=\u001b[0m \u001b[0mformat_function\u001b[0m\u001b[1;33m(\u001b[0m\u001b[0ma\u001b[0m\u001b[1;33m[\u001b[0m\u001b[1;33m-\u001b[0m\u001b[1;36m1\u001b[0m\u001b[1;33m]\u001b[0m\u001b[1;33m)\u001b[0m\u001b[1;33m\u001b[0m\u001b[0m\n",
      "\u001b[0;32mC:\\ProgramData\\Anaconda3\\lib\\site-packages\\numpy\\core\\arrayprint.py\u001b[0m in \u001b[0;36m_extendLine\u001b[0;34m(s, line, word, max_line_len, next_line_prefix)\u001b[0m\n\u001b[1;32m    452\u001b[0m         \u001b[0ms\u001b[0m \u001b[1;33m+=\u001b[0m \u001b[0mline\u001b[0m\u001b[1;33m.\u001b[0m\u001b[0mrstrip\u001b[0m\u001b[1;33m(\u001b[0m\u001b[1;33m)\u001b[0m \u001b[1;33m+\u001b[0m \u001b[1;34m\"\\n\"\u001b[0m\u001b[1;33m\u001b[0m\u001b[0m\n\u001b[1;32m    453\u001b[0m         \u001b[0mline\u001b[0m \u001b[1;33m=\u001b[0m \u001b[0mnext_line_prefix\u001b[0m\u001b[1;33m\u001b[0m\u001b[0m\n\u001b[0;32m--> 454\u001b[0;31m     \u001b[0mline\u001b[0m \u001b[1;33m+=\u001b[0m \u001b[0mword\u001b[0m\u001b[1;33m\u001b[0m\u001b[0m\n\u001b[0m\u001b[1;32m    455\u001b[0m     \u001b[1;32mreturn\u001b[0m \u001b[0ms\u001b[0m\u001b[1;33m,\u001b[0m \u001b[0mline\u001b[0m\u001b[1;33m\u001b[0m\u001b[0m\n\u001b[1;32m    456\u001b[0m \u001b[1;33m\u001b[0m\u001b[0m\n",
      "\u001b[0;31mKeyboardInterrupt\u001b[0m: "
     ]
    }
   ],
   "source": [
    "skews = X.apply(lambda x: stats.skew(x.dropna())).dropna()\n",
    "skews = skews[(skews >= -20) & (skews < 40)]"
   ]
  },
  {
   "cell_type": "code",
   "execution_count": null,
   "metadata": {
    "collapsed": false
   },
   "outputs": [],
   "source": [
    "f = plt.figure(figsize = (8,3))\n",
    "ax = sns.distplot(skews, bins=25, hist_kws = outline_bars)\n",
    "ax.set_xlim(xmin=-20, xmax=40)\n",
    "ax.xaxis.set_major_locator(ticker.MultipleLocator(5))\n",
    "add_vertical_line(ax, 0, \"Norm\", color=\"b\")\n",
    "add_vertical_line(ax, np.median(skews), \"Median\", color=\"r\")\n",
    "ax.set_xlabel(\"Skew\")\n",
    "ax.set_ylabel(\"Density\")\n",
    "plt.tight_layout()\n",
    "f.savefig(save_path+\"skew.pdf\", bbox_inches=\"tight\")"
   ]
  },
  {
   "cell_type": "code",
   "execution_count": null,
   "metadata": {
    "collapsed": true
   },
   "outputs": [],
   "source": [
    "kurtoses = X.apply(lambda x: stats.kurtosis(x.dropna())).dropna()\n",
    "kurtoses = kurtoses[(kurtoses >= -25) & (kurtoses < 200)]"
   ]
  },
  {
   "cell_type": "code",
   "execution_count": null,
   "metadata": {
    "collapsed": false
   },
   "outputs": [],
   "source": [
    "f = plt.figure(figsize = (8,3))\n",
    "ax = sns.distplot(kurtoses, bins=25, hist_kws = outline_bars)\n",
    "ax.set_xlim(xmin=-25, xmax=200)\n",
    "ax.xaxis.set_major_locator(ticker.MultipleLocator(25))\n",
    "add_vertical_line(ax, 0, \"Norm\", color=\"b\")\n",
    "add_vertical_line(ax, np.median(kurtoses), \"Median\", color=\"r\")\n",
    "ax.set_xlabel(\"Kurtosis (Fisher's)\")\n",
    "ax.set_ylabel(\"Density\")\n",
    "plt.tight_layout()\n",
    "f.savefig(save_path+\"kurtosis.pdf\", bbox_inches=\"tight\")"
   ]
  },
  {
   "cell_type": "markdown",
   "metadata": {},
   "source": [
    "[KURTOSIS  BY FEATURE (GROUPED BY WHETHER ZEROS-REMOVED)]"
   ]
  },
  {
   "cell_type": "markdown",
   "metadata": {},
   "source": [
    "[BOXPLOT OF FEATURES]"
   ]
  },
  {
   "cell_type": "code",
   "execution_count": null,
   "metadata": {
    "collapsed": false
   },
   "outputs": [],
   "source": [
    "iqrs = X.apply(lambda x: stats.iqr(x.dropna())).dropna()\n",
    "iqrs = np.log1p(iqrs)\n",
    "iqrs = iqrs[(iqrs >= 0) & (iqrs < 25)]"
   ]
  },
  {
   "cell_type": "code",
   "execution_count": null,
   "metadata": {
    "collapsed": false
   },
   "outputs": [],
   "source": [
    "f = plt.figure(figsize = (8,3))\n",
    "ax = sns.distplot(iqrs, bins=25, hist_kws = outline_bars)\n",
    "ax.set_xlim(xmin=0, xmax=25)\n",
    "add_vertical_line(ax, np.mean(iqrs), \"Mean\", color=\"b\")\n",
    "add_vertical_line(ax, np.median(iqrs), \"Median\", color=\"r\")\n",
    "ax.set_xlabel(\"Interquartile Range (log1p)\")\n",
    "ax.set_ylabel(\"Density\")\n",
    "plt.tight_layout()\n",
    "f.savefig(save_path+\"scaling.pdf\", bbox_inches=\"tight\")"
   ]
  },
  {
   "cell_type": "markdown",
   "metadata": {},
   "source": [
    "[ORTHOGONALITY]"
   ]
  },
  {
   "cell_type": "code",
   "execution_count": null,
   "metadata": {
    "collapsed": true
   },
   "outputs": [],
   "source": [
    "X_sample = X.sample(1000)\n",
    "thresholds = [x*.1 for x in range(10)]"
   ]
  },
  {
   "cell_type": "code",
   "execution_count": null,
   "metadata": {
    "collapsed": true
   },
   "outputs": [],
   "source": [
    "pearson = {x: pd.DataFrame(np.where(abs(X_sample.corr(method=\"pearson\").stack()) >= x, True, False)).stack().value_counts(normalize=True)[True]*100 for x in thresholds}\n",
    "pearson = pd.DataFrame.from_dict(data=pearson, orient=\"index\")\n",
    "pearson[\"Method\"] = \"Pearson\""
   ]
  },
  {
   "cell_type": "code",
   "execution_count": null,
   "metadata": {
    "collapsed": true
   },
   "outputs": [],
   "source": [
    "kendall = {x: pd.DataFrame(np.where(abs(X_sample.corr(method=\"kendall\").stack()) >= x, True, False)).stack().value_counts(normalize=True)[True]*100 for x in thresholds}\n",
    "kendall = pd.DataFrame.from_dict(data=kendall, orient=\"index\")\n",
    "kendall[\"Method\"] = \"kendall\""
   ]
  },
  {
   "cell_type": "code",
   "execution_count": null,
   "metadata": {
    "collapsed": false
   },
   "outputs": [],
   "source": [
    "spearman = {x: pd.DataFrame(np.where(abs(X_sample.corr(method=\"spearman\").stack()) >= x, True, False)).stack().value_counts(normalize=True)[True]*100 for x in thresholds}\n",
    "spearman = pd.DataFrame.from_dict(data=spearman, orient=\"index\")\n",
    "spearman[\"Method\"] = \"Spearman\""
   ]
  },
  {
   "cell_type": "code",
   "execution_count": null,
   "metadata": {
    "collapsed": false
   },
   "outputs": [],
   "source": [
    "corrs = pd.concat([spearman, pearson], axis=0)\n",
    "corrs = corrs.drop(0.0)"
   ]
  },
  {
   "cell_type": "code",
   "execution_count": null,
   "metadata": {
    "collapsed": false
   },
   "outputs": [],
   "source": [
    "f = plt.figure()\n",
    "ax = sns.barplot(x=corrs.index, y=corrs[0], hue=corrs[\"Method\"], **outline_bars)\n",
    "auto_label(ax, fmt='{:,.0f}%')\n",
    "ax.set_xlabel(\"Correlation Cutoff (abs)\")\n",
    "ax.set_ylabel(\"Intercorrelations\\nabove Cutoff (%)\")\n",
    "plt.tight_layout()\n",
    "f.savefig(save_path+\"orthogonality.pdf\", bbox_inches=\"tight\")"
   ]
  },
  {
   "cell_type": "markdown",
   "metadata": {},
   "source": [
    "# 3.2 Pre-Processing"
   ]
  },
  {
   "cell_type": "markdown",
   "metadata": {},
   "source": [
    "## 3.2.1 Imputation"
   ]
  },
  {
   "cell_type": "markdown",
   "metadata": {},
   "source": [
    "Figure 3. Mean, median and mode of features (grouped bar plot)."
   ]
  },
  {
   "cell_type": "code",
   "execution_count": null,
   "metadata": {
    "collapsed": false
   },
   "outputs": [],
   "source": [
    "means = X_sample.apply(lambda x: np.mean(x.dropna())).dropna()"
   ]
  },
  {
   "cell_type": "code",
   "execution_count": null,
   "metadata": {
    "collapsed": false
   },
   "outputs": [],
   "source": [
    "medians = X_sample.apply(lambda x: np.median(x.dropna())).dropna()"
   ]
  },
  {
   "cell_type": "code",
   "execution_count": null,
   "metadata": {
    "collapsed": true
   },
   "outputs": [],
   "source": [
    "def get_mode(x):\n",
    "    try: return stats.mode(x.dropna())[0][0]\n",
    "    except: return np.nan\n",
    "\n",
    "modes = X.apply(get_mode).dropna()"
   ]
  },
  {
   "cell_type": "code",
   "execution_count": null,
   "metadata": {
    "collapsed": false
   },
   "outputs": [],
   "source": [
    "f = plt.figure()\n",
    "plt.hist([means, medians, modes],label=[\"Mean\",\"Median\",\"Mode\"], **outline_bars)\n",
    "plt.xlabel(\"Measures of Central Tendency\")\n",
    "plt.ylabel(\"Features\")\n",
    "plt.legend(title=\"Method\")\n",
    "plt.tight_layout()\n",
    "f.savefig(save_path+\"central_tendency.pdf\", bbox_inches=\"tight\")"
   ]
  },
  {
   "cell_type": "markdown",
   "metadata": {},
   "source": [
    "Figure 3. ROC Curve for different imputations - mean, median, mode (line plot)."
   ]
  },
  {
   "cell_type": "code",
   "execution_count": null,
   "metadata": {
    "collapsed": false
   },
   "outputs": [],
   "source": [
    "df_create = get_results(15, \"create\")"
   ]
  },
  {
   "cell_type": "code",
   "execution_count": null,
   "metadata": {
    "collapsed": false
   },
   "outputs": [],
   "source": [
    "f = plt.figure()\n",
    "order = df_create.groupby(\"Imputer\")[\"PRC\"].median().sort_values(ascending=False).index.tolist()\n",
    "ax = sns.boxplot(x=\"PRC\", y=\"Imputer\", data=df_create, order=order, fliersize=0)\n",
    "ax.set_xlabel(\"Area Under Precision-Recall Curve\")\n",
    "ax.set_ylabel(\"Imputer Strategy\")\n",
    "add_vertical_line(ax, df_create[\"outcome_chance\"].ix[0], \"Chance\", color=\"r\")\n",
    "plt.tight_layout()\n",
    "f.savefig(save_path+\"imputer.pdf\", bbox_inches=\"tight\")"
   ]
  },
  {
   "cell_type": "code",
   "execution_count": null,
   "metadata": {
    "collapsed": false
   },
   "outputs": [],
   "source": [
    "f = plt.figure()\n",
    "order = df_create.groupby(\"Transformer\")[\"PRC\"].median().sort_values(ascending=False).index.tolist()\n",
    "ax = sns.boxplot(x=\"PRC\", y=\"Transformer\", data=df_create, order=order, fliersize=0)\n",
    "ax.set_xlabel(\"Area Under Precision-Recall Curve\")\n",
    "ax.set_ylabel(\"Transformation Function\")\n",
    "add_vertical_line(ax, df_create[\"outcome_chance\"].ix[0], \"Chance\", color=\"r\")\n",
    "plt.tight_layout()\n",
    "f.savefig(save_path+\"transformer.pdf\", bbox_inches=\"tight\")"
   ]
  },
  {
   "cell_type": "code",
   "execution_count": null,
   "metadata": {
    "collapsed": false
   },
   "outputs": [],
   "source": [
    "f = plt.figure()\n",
    "order = df_create.groupby(\"Scaler\")[\"PRC\"].median().sort_values(ascending=False).index.tolist()\n",
    "ax = sns.boxplot(x=\"PRC\", y=\"Scaler\", data=df_create, order=order, fliersize=0)\n",
    "ax.set_xlabel(\"Area Under Precision-Recall Curve\")\n",
    "ax.set_ylabel(\"Scaling Function\")\n",
    "add_vertical_line(ax, df_create[\"outcome_chance\"].ix[0], \"Chance\", color=\"r\")\n",
    "plt.tight_layout()\n",
    "f.savefig(save_path+\"scaler.pdf\", bbox_inches=\"tight\")"
   ]
  },
  {
   "cell_type": "code",
   "execution_count": null,
   "metadata": {
    "collapsed": false
   },
   "outputs": [],
   "source": [
    "f = plt.figure()\n",
    "order = df_create['param_extractor__n_components_bin_20'].value_counts().index.sort_values().tolist()\n",
    "order = list(map(lambda x: {0 : \"1-20\", 1 : \"21-40\", 2: \"41-60\",3: \"61-80\", 4: \"81-100\"}[x], order))\n",
    "ax = sns.boxplot(x=\"PRC\", y=\"Extractor\", data=df_create, order=order, fliersize=0)\n",
    "ax.set_xlabel(\"Area Under Precision-Recall Curve\")\n",
    "ax.set_ylabel(\"PCA Extracted Components\")\n",
    "add_vertical_line(ax, df_create[\"outcome_chance\"].ix[0], \"Chance\", color=\"r\")\n",
    "plt.tight_layout()\n",
    "f.savefig(save_path+\"extracter.pdf\", bbox_inches=\"tight\")"
   ]
  },
  {
   "cell_type": "code",
   "execution_count": null,
   "metadata": {
    "collapsed": false
   },
   "outputs": [],
   "source": [
    "f = plt.figure()\n",
    "order = df_create.groupby(\"Classifier\")[\"PRC\"].quantile(0.75).sort_values(ascending=False).index.tolist()\n",
    "ax = sns.boxplot(x=\"PRC\", y=\"Classifier\", data=df_create, order=order, fliersize=0)\n",
    "ax.set_xlabel(\"Area Under Precision-Recall Curve\")\n",
    "ax.set_ylabel(\"Classification Algorithm\")\n",
    "add_vertical_line(ax, df_create[\"outcome_chance\"].ix[0], \"Chance\", color=\"r\")\n",
    "plt.tight_layout()\n",
    "f.savefig(save_path+\"classifier.pdf\", bbox_inches=\"tight\")"
   ]
  },
  {
   "cell_type": "code",
   "execution_count": 167,
   "metadata": {
    "collapsed": true
   },
   "outputs": [],
   "source": [
    "df_create = get_results(16, \"create\")"
   ]
  },
  {
   "cell_type": "code",
   "execution_count": 173,
   "metadata": {
    "collapsed": false
   },
   "outputs": [],
   "source": [
    "df_create[\"ROC\"] = df_create[\"ROC\"].fillna(df_create['AUC'])"
   ]
  },
  {
   "cell_type": "code",
   "execution_count": 175,
   "metadata": {
    "collapsed": true
   },
   "outputs": [],
   "source": [
    "df_create[\"MCC\"] = df_create[\"MCC\"].fillna(df_create['MC'])"
   ]
  },
  {
   "cell_type": "code",
   "execution_count": 176,
   "metadata": {
    "collapsed": false
   },
   "outputs": [
    {
     "data": {
      "text/html": [
       "<div>\n",
       "<table border=\"1\" class=\"dataframe\">\n",
       "  <thead>\n",
       "    <tr>\n",
       "      <th></th>\n",
       "      <th colspan=\"2\" halign=\"left\">AUC PRC</th>\n",
       "      <th colspan=\"2\" halign=\"left\">AUC ROC</th>\n",
       "      <th colspan=\"2\" halign=\"left\">F1</th>\n",
       "      <th colspan=\"2\" halign=\"left\">MCC</th>\n",
       "      <th colspan=\"2\" halign=\"left\">Fit Time (s)</th>\n",
       "    </tr>\n",
       "    <tr>\n",
       "      <th></th>\n",
       "      <th>Median</th>\n",
       "      <th>Max</th>\n",
       "      <th>Median</th>\n",
       "      <th>Max</th>\n",
       "      <th>Median</th>\n",
       "      <th>Max</th>\n",
       "      <th>Median</th>\n",
       "      <th>Max</th>\n",
       "      <th>Median</th>\n",
       "      <th>IQR</th>\n",
       "    </tr>\n",
       "    <tr>\n",
       "      <th>Classifier</th>\n",
       "      <th></th>\n",
       "      <th></th>\n",
       "      <th></th>\n",
       "      <th></th>\n",
       "      <th></th>\n",
       "      <th></th>\n",
       "      <th></th>\n",
       "      <th></th>\n",
       "      <th></th>\n",
       "      <th></th>\n",
       "    </tr>\n",
       "  </thead>\n",
       "  <tbody>\n",
       "    <tr>\n",
       "      <th>Artificial Neural Network</th>\n",
       "      <td>0.320</td>\n",
       "      <td>0.335</td>\n",
       "      <td>0.517</td>\n",
       "      <td>0.523</td>\n",
       "      <td>0.072</td>\n",
       "      <td>0.096</td>\n",
       "      <td>0.111</td>\n",
       "      <td>0.140</td>\n",
       "      <td>9.146</td>\n",
       "      <td>12.017</td>\n",
       "    </tr>\n",
       "    <tr>\n",
       "      <th>Decision Tree</th>\n",
       "      <td>0.388</td>\n",
       "      <td>0.429</td>\n",
       "      <td>0.651</td>\n",
       "      <td>0.659</td>\n",
       "      <td>0.305</td>\n",
       "      <td>0.314</td>\n",
       "      <td>0.212</td>\n",
       "      <td>0.224</td>\n",
       "      <td>15.329</td>\n",
       "      <td>6.747</td>\n",
       "    </tr>\n",
       "    <tr>\n",
       "      <th>K-Nearest Neighbors</th>\n",
       "      <td>0.335</td>\n",
       "      <td>0.353</td>\n",
       "      <td>0.532</td>\n",
       "      <td>0.565</td>\n",
       "      <td>0.131</td>\n",
       "      <td>0.226</td>\n",
       "      <td>0.137</td>\n",
       "      <td>0.210</td>\n",
       "      <td>8.537</td>\n",
       "      <td>12.316</td>\n",
       "    </tr>\n",
       "    <tr>\n",
       "      <th>Logistic Regression</th>\n",
       "      <td>0.417</td>\n",
       "      <td>0.465</td>\n",
       "      <td>0.675</td>\n",
       "      <td>0.710</td>\n",
       "      <td>0.339</td>\n",
       "      <td>0.358</td>\n",
       "      <td>0.255</td>\n",
       "      <td>0.288</td>\n",
       "      <td>7.326</td>\n",
       "      <td>407.031</td>\n",
       "    </tr>\n",
       "    <tr>\n",
       "      <th>Naive Bayes</th>\n",
       "      <td>0.354</td>\n",
       "      <td>0.367</td>\n",
       "      <td>0.623</td>\n",
       "      <td>0.638</td>\n",
       "      <td>0.303</td>\n",
       "      <td>0.321</td>\n",
       "      <td>0.212</td>\n",
       "      <td>0.239</td>\n",
       "      <td>8.589</td>\n",
       "      <td>19.131</td>\n",
       "    </tr>\n",
       "    <tr>\n",
       "      <th>Random Forest</th>\n",
       "      <td>0.376</td>\n",
       "      <td>0.465</td>\n",
       "      <td>0.619</td>\n",
       "      <td>0.709</td>\n",
       "      <td>0.332</td>\n",
       "      <td>0.360</td>\n",
       "      <td>0.271</td>\n",
       "      <td>0.288</td>\n",
       "      <td>68.325</td>\n",
       "      <td>29.064</td>\n",
       "    </tr>\n",
       "    <tr>\n",
       "      <th>Support Vector Machine</th>\n",
       "      <td>0.233</td>\n",
       "      <td>0.244</td>\n",
       "      <td>0.503</td>\n",
       "      <td>0.504</td>\n",
       "      <td>0.014</td>\n",
       "      <td>0.017</td>\n",
       "      <td>0.038</td>\n",
       "      <td>0.045</td>\n",
       "      <td>29.015</td>\n",
       "      <td>0.000</td>\n",
       "    </tr>\n",
       "  </tbody>\n",
       "</table>\n",
       "</div>"
      ],
      "text/plain": [
       "                          AUC PRC        AUC ROC            F1           MCC  \\\n",
       "                           Median    Max  Median    Max Median    Max Median   \n",
       "Classifier                                                                     \n",
       "Artificial Neural Network   0.320  0.335   0.517  0.523  0.072  0.096  0.111   \n",
       "Decision Tree               0.388  0.429   0.651  0.659  0.305  0.314  0.212   \n",
       "K-Nearest Neighbors         0.335  0.353   0.532  0.565  0.131  0.226  0.137   \n",
       "Logistic Regression         0.417  0.465   0.675  0.710  0.339  0.358  0.255   \n",
       "Naive Bayes                 0.354  0.367   0.623  0.638  0.303  0.321  0.212   \n",
       "Random Forest               0.376  0.465   0.619  0.709  0.332  0.360  0.271   \n",
       "Support Vector Machine      0.233  0.244   0.503  0.504  0.014  0.017  0.038   \n",
       "\n",
       "                                 Fit Time (s)           \n",
       "                             Max       Median      IQR  \n",
       "Classifier                                              \n",
       "Artificial Neural Network  0.140        9.146   12.017  \n",
       "Decision Tree              0.224       15.329    6.747  \n",
       "K-Nearest Neighbors        0.210        8.537   12.316  \n",
       "Logistic Regression        0.288        7.326  407.031  \n",
       "Naive Bayes                0.239        8.589   19.131  \n",
       "Random Forest              0.288       68.325   29.064  \n",
       "Support Vector Machine     0.045       29.015    0.000  "
      ]
     },
     "execution_count": 176,
     "metadata": {},
     "output_type": "execute_result"
    }
   ],
   "source": [
    "groups = [df_create[\"Classifier\"]]\n",
    "columns = [\"PRC\", \"ROC\", \"F1\", \"MCC\", \"Time\"]\n",
    "colnames = [\"AUC PRC\", \"AUC ROC\", \"F1\", \"MCC\", \"Fit Time (s)\"]\n",
    "colfuncs = [\n",
    "    OrderedDict([(\"Median\", np.median),(\"Max\", np.max)]), \n",
    "    OrderedDict([(\"Median\", np.median),(\"Max\", np.max)]), \n",
    "    OrderedDict([(\"Median\", np.median),(\"Max\", np.max)]), \n",
    "    OrderedDict([(\"Median\", np.median),(\"Max\", np.max)]), \n",
    "    OrderedDict([(\"Median\", np.median),(\"IQR\", lambda x: stats.iqr(x,nan_policy=\"omit\"))])]\n",
    "\n",
    "namefunc = OrderedDict(zip(columns, colnames))\n",
    "aggfunc = OrderedDict(zip(columns, colfuncs))\n",
    "\n",
    "tab = df_create[columns]\n",
    "tab = tab.groupby(groups)\n",
    "tab = tab.agg(aggfunc)\n",
    "tab = tab.rename(columns=namefunc)\n",
    "tab"
   ]
  },
  {
   "cell_type": "code",
   "execution_count": 177,
   "metadata": {
    "collapsed": false
   },
   "outputs": [
    {
     "data": {
      "text/plain": [
       "'\\\\begin{tabular}{lrrrrrrrrrr}\\n\\\\toprule\\n{} & AUC PRC &        & AUC ROC &        &     F1 &        &    MCC &        & Fit Time (s) &          \\\\\\\\\\n{} &  Median &    Max &  Median &    Max & Median &    Max & Median &    Max &       Median &      IQR \\\\\\\\\\nClassifier                &         &        &         &        &        &        &        &        &              &          \\\\\\\\\\n\\\\midrule\\nArtificial Neural Network &   0.320 &  0.335 &   0.517 &  0.523 &  0.072 &  0.096 &  0.111 &  0.140 &        9.146 &   12.017 \\\\\\\\\\nDecision Tree             &   0.388 &  0.429 &   0.651 &  0.659 &  0.305 &  0.314 &  0.212 &  0.224 &       15.329 &    6.747 \\\\\\\\\\nK-Nearest Neighbors       &   0.335 &  0.353 &   0.532 &  0.565 &  0.131 &  0.226 &  0.137 &  0.210 &        8.537 &   12.316 \\\\\\\\\\nLogistic Regression       &   0.417 &  0.465 &   0.675 &  0.710 &  0.339 &  0.358 &  0.255 &  0.288 &        7.326 &  407.031 \\\\\\\\\\nNaive Bayes               &   0.354 &  0.367 &   0.623 &  0.638 &  0.303 &  0.321 &  0.212 &  0.239 &        8.589 &   19.131 \\\\\\\\\\nRandom Forest             &   0.376 &  0.465 &   0.619 &  0.709 &  0.332 &  0.360 &  0.271 &  0.288 &       68.325 &   29.064 \\\\\\\\\\nSupport Vector Machine    &   0.233 &  0.244 &   0.503 &  0.504 &  0.014 &  0.017 &  0.038 &  0.045 &       29.015 &    0.000 \\\\\\\\\\n\\\\bottomrule\\n\\\\end{tabular}\\n'"
      ]
     },
     "execution_count": 177,
     "metadata": {},
     "output_type": "execute_result"
    }
   ],
   "source": [
    "tab.to_latex()"
   ]
  },
  {
   "cell_type": "markdown",
   "metadata": {},
   "source": [
    "## 3.2.2 Transformation"
   ]
  },
  {
   "cell_type": "markdown",
   "metadata": {},
   "source": [
    "--> Apply Imputation"
   ]
  },
  {
   "cell_type": "code",
   "execution_count": 178,
   "metadata": {
    "collapsed": false
   },
   "outputs": [],
   "source": [
    "from sklearn.preprocessing import Imputer\n",
    "\n",
    "X = X.dropna(axis=1, how = \"all\")\n",
    "imp = Imputer(strategy=\"median\")\n",
    "X_imp = imp.fit_transform(X)\n",
    "X_imp = pd.DataFrame(X_imp, index=X.index, columns=list(X))"
   ]
  },
  {
   "cell_type": "markdown",
   "metadata": {},
   "source": [
    "--> Shift to positive numbers only"
   ]
  },
  {
   "cell_type": "code",
   "execution_count": 179,
   "metadata": {
    "collapsed": false
   },
   "outputs": [],
   "source": [
    "mins_by_col = X_imp.min(axis=0)#.dropna()"
   ]
  },
  {
   "cell_type": "code",
   "execution_count": 180,
   "metadata": {
    "collapsed": false
   },
   "outputs": [
    {
     "data": {
      "text/html": [
       "<div>\n",
       "<table border=\"1\" class=\"dataframe\">\n",
       "  <thead>\n",
       "    <tr style=\"text-align: right;\">\n",
       "      <th></th>\n",
       "      <th>confidence_context_local_offices_headquarters_zipcode_number</th>\n",
       "      <th>confidence_context_industry_category_list_advertising</th>\n",
       "      <th>confidence_context_industry_category_list_apps</th>\n",
       "      <th>confidence_context_industry_category_list_consulting</th>\n",
       "      <th>confidence_context_industry_category_list_curated-web</th>\n",
       "      <th>confidence_context_industry_category_list_e-commerce</th>\n",
       "      <th>confidence_context_industry_category_list_health-care</th>\n",
       "      <th>confidence_context_industry_category_list_internet</th>\n",
       "      <th>confidence_context_industry_category_list_mobile</th>\n",
       "      <th>confidence_context_industry_category_list_social-media</th>\n",
       "      <th>...</th>\n",
       "      <th>potential_human_advisors_companies_exits_advisor_average_number</th>\n",
       "      <th>potential_human_advisors_companies_exits_advisor_total_number</th>\n",
       "      <th>potential_human_advisors_companies_acquisitions_advisor_average_number</th>\n",
       "      <th>potential_human_advisors_companies_acquisitions_advisor_total_number</th>\n",
       "      <th>potential_human_advisors_companies_ipo_advisor_average_number</th>\n",
       "      <th>potential_human_advisors_companies_ipo_advisor_total_number</th>\n",
       "      <th>potential_human_advisors_companies_operating_advisor_average_number</th>\n",
       "      <th>potential_human_advisors_companies_operating_advisor_total_number</th>\n",
       "      <th>potential_human_advisors_companies_closed_advisor_average_number</th>\n",
       "      <th>potential_human_advisors_companies_closed_advisor_total_number</th>\n",
       "    </tr>\n",
       "  </thead>\n",
       "  <tbody>\n",
       "    <tr>\n",
       "      <th>count</th>\n",
       "      <td>1.654e+05</td>\n",
       "      <td>165422.000</td>\n",
       "      <td>165422.000</td>\n",
       "      <td>165422.000</td>\n",
       "      <td>165422.000</td>\n",
       "      <td>165422.000</td>\n",
       "      <td>165422.000</td>\n",
       "      <td>165422.000</td>\n",
       "      <td>165422.000</td>\n",
       "      <td>165422.000</td>\n",
       "      <td>...</td>\n",
       "      <td>165422.000</td>\n",
       "      <td>165422.000</td>\n",
       "      <td>165422.000</td>\n",
       "      <td>165422.000</td>\n",
       "      <td>165422.000</td>\n",
       "      <td>165422.000</td>\n",
       "      <td>165422.000</td>\n",
       "      <td>165422.000</td>\n",
       "      <td>165422.000</td>\n",
       "      <td>165422.000</td>\n",
       "    </tr>\n",
       "    <tr>\n",
       "      <th>mean</th>\n",
       "      <td>1.640e+05</td>\n",
       "      <td>0.040</td>\n",
       "      <td>0.040</td>\n",
       "      <td>0.025</td>\n",
       "      <td>0.054</td>\n",
       "      <td>0.074</td>\n",
       "      <td>0.041</td>\n",
       "      <td>0.044</td>\n",
       "      <td>0.080</td>\n",
       "      <td>0.042</td>\n",
       "      <td>...</td>\n",
       "      <td>0.125</td>\n",
       "      <td>0.349</td>\n",
       "      <td>0.099</td>\n",
       "      <td>0.272</td>\n",
       "      <td>0.035</td>\n",
       "      <td>0.104</td>\n",
       "      <td>2.313</td>\n",
       "      <td>4.637</td>\n",
       "      <td>0.007</td>\n",
       "      <td>0.017</td>\n",
       "    </tr>\n",
       "    <tr>\n",
       "      <th>std</th>\n",
       "      <td>7.367e+06</td>\n",
       "      <td>0.195</td>\n",
       "      <td>0.196</td>\n",
       "      <td>0.156</td>\n",
       "      <td>0.226</td>\n",
       "      <td>0.262</td>\n",
       "      <td>0.198</td>\n",
       "      <td>0.205</td>\n",
       "      <td>0.272</td>\n",
       "      <td>0.201</td>\n",
       "      <td>...</td>\n",
       "      <td>0.789</td>\n",
       "      <td>2.480</td>\n",
       "      <td>0.651</td>\n",
       "      <td>1.964</td>\n",
       "      <td>0.287</td>\n",
       "      <td>0.929</td>\n",
       "      <td>1.611</td>\n",
       "      <td>4.673</td>\n",
       "      <td>0.080</td>\n",
       "      <td>0.180</td>\n",
       "    </tr>\n",
       "    <tr>\n",
       "      <th>min</th>\n",
       "      <td>0.000e+00</td>\n",
       "      <td>0.000</td>\n",
       "      <td>0.000</td>\n",
       "      <td>0.000</td>\n",
       "      <td>0.000</td>\n",
       "      <td>0.000</td>\n",
       "      <td>0.000</td>\n",
       "      <td>0.000</td>\n",
       "      <td>0.000</td>\n",
       "      <td>0.000</td>\n",
       "      <td>...</td>\n",
       "      <td>0.000</td>\n",
       "      <td>0.000</td>\n",
       "      <td>0.000</td>\n",
       "      <td>0.000</td>\n",
       "      <td>0.000</td>\n",
       "      <td>0.000</td>\n",
       "      <td>0.000</td>\n",
       "      <td>0.000</td>\n",
       "      <td>0.000</td>\n",
       "      <td>0.000</td>\n",
       "    </tr>\n",
       "    <tr>\n",
       "      <th>25%</th>\n",
       "      <td>6.065e+04</td>\n",
       "      <td>0.000</td>\n",
       "      <td>0.000</td>\n",
       "      <td>0.000</td>\n",
       "      <td>0.000</td>\n",
       "      <td>0.000</td>\n",
       "      <td>0.000</td>\n",
       "      <td>0.000</td>\n",
       "      <td>0.000</td>\n",
       "      <td>0.000</td>\n",
       "      <td>...</td>\n",
       "      <td>0.000</td>\n",
       "      <td>0.000</td>\n",
       "      <td>0.000</td>\n",
       "      <td>0.000</td>\n",
       "      <td>0.000</td>\n",
       "      <td>0.000</td>\n",
       "      <td>2.091</td>\n",
       "      <td>4.000</td>\n",
       "      <td>0.000</td>\n",
       "      <td>0.000</td>\n",
       "    </tr>\n",
       "    <tr>\n",
       "      <th>50%</th>\n",
       "      <td>6.065e+04</td>\n",
       "      <td>0.000</td>\n",
       "      <td>0.000</td>\n",
       "      <td>0.000</td>\n",
       "      <td>0.000</td>\n",
       "      <td>0.000</td>\n",
       "      <td>0.000</td>\n",
       "      <td>0.000</td>\n",
       "      <td>0.000</td>\n",
       "      <td>0.000</td>\n",
       "      <td>...</td>\n",
       "      <td>0.000</td>\n",
       "      <td>0.000</td>\n",
       "      <td>0.000</td>\n",
       "      <td>0.000</td>\n",
       "      <td>0.000</td>\n",
       "      <td>0.000</td>\n",
       "      <td>2.091</td>\n",
       "      <td>4.000</td>\n",
       "      <td>0.000</td>\n",
       "      <td>0.000</td>\n",
       "    </tr>\n",
       "    <tr>\n",
       "      <th>75%</th>\n",
       "      <td>6.065e+04</td>\n",
       "      <td>0.000</td>\n",
       "      <td>0.000</td>\n",
       "      <td>0.000</td>\n",
       "      <td>0.000</td>\n",
       "      <td>0.000</td>\n",
       "      <td>0.000</td>\n",
       "      <td>0.000</td>\n",
       "      <td>0.000</td>\n",
       "      <td>0.000</td>\n",
       "      <td>...</td>\n",
       "      <td>0.000</td>\n",
       "      <td>0.000</td>\n",
       "      <td>0.000</td>\n",
       "      <td>0.000</td>\n",
       "      <td>0.000</td>\n",
       "      <td>0.000</td>\n",
       "      <td>2.091</td>\n",
       "      <td>4.000</td>\n",
       "      <td>0.000</td>\n",
       "      <td>0.000</td>\n",
       "    </tr>\n",
       "    <tr>\n",
       "      <th>max</th>\n",
       "      <td>1.939e+09</td>\n",
       "      <td>1.000</td>\n",
       "      <td>1.000</td>\n",
       "      <td>1.000</td>\n",
       "      <td>1.000</td>\n",
       "      <td>1.000</td>\n",
       "      <td>1.000</td>\n",
       "      <td>1.000</td>\n",
       "      <td>1.000</td>\n",
       "      <td>1.000</td>\n",
       "      <td>...</td>\n",
       "      <td>36.000</td>\n",
       "      <td>99.000</td>\n",
       "      <td>32.000</td>\n",
       "      <td>78.000</td>\n",
       "      <td>12.000</td>\n",
       "      <td>58.000</td>\n",
       "      <td>49.000</td>\n",
       "      <td>294.000</td>\n",
       "      <td>4.000</td>\n",
       "      <td>7.000</td>\n",
       "    </tr>\n",
       "  </tbody>\n",
       "</table>\n",
       "<p>8 rows × 408 columns</p>\n",
       "</div>"
      ],
      "text/plain": [
       "       confidence_context_local_offices_headquarters_zipcode_number  \\\n",
       "count                                          1.654e+05              \n",
       "mean                                           1.640e+05              \n",
       "std                                            7.367e+06              \n",
       "min                                            0.000e+00              \n",
       "25%                                            6.065e+04              \n",
       "50%                                            6.065e+04              \n",
       "75%                                            6.065e+04              \n",
       "max                                            1.939e+09              \n",
       "\n",
       "       confidence_context_industry_category_list_advertising  \\\n",
       "count                                         165422.000       \n",
       "mean                                               0.040       \n",
       "std                                                0.195       \n",
       "min                                                0.000       \n",
       "25%                                                0.000       \n",
       "50%                                                0.000       \n",
       "75%                                                0.000       \n",
       "max                                                1.000       \n",
       "\n",
       "       confidence_context_industry_category_list_apps  \\\n",
       "count                                      165422.000   \n",
       "mean                                            0.040   \n",
       "std                                             0.196   \n",
       "min                                             0.000   \n",
       "25%                                             0.000   \n",
       "50%                                             0.000   \n",
       "75%                                             0.000   \n",
       "max                                             1.000   \n",
       "\n",
       "       confidence_context_industry_category_list_consulting  \\\n",
       "count                                         165422.000      \n",
       "mean                                               0.025      \n",
       "std                                                0.156      \n",
       "min                                                0.000      \n",
       "25%                                                0.000      \n",
       "50%                                                0.000      \n",
       "75%                                                0.000      \n",
       "max                                                1.000      \n",
       "\n",
       "       confidence_context_industry_category_list_curated-web  \\\n",
       "count                                         165422.000       \n",
       "mean                                               0.054       \n",
       "std                                                0.226       \n",
       "min                                                0.000       \n",
       "25%                                                0.000       \n",
       "50%                                                0.000       \n",
       "75%                                                0.000       \n",
       "max                                                1.000       \n",
       "\n",
       "       confidence_context_industry_category_list_e-commerce  \\\n",
       "count                                         165422.000      \n",
       "mean                                               0.074      \n",
       "std                                                0.262      \n",
       "min                                                0.000      \n",
       "25%                                                0.000      \n",
       "50%                                                0.000      \n",
       "75%                                                0.000      \n",
       "max                                                1.000      \n",
       "\n",
       "       confidence_context_industry_category_list_health-care  \\\n",
       "count                                         165422.000       \n",
       "mean                                               0.041       \n",
       "std                                                0.198       \n",
       "min                                                0.000       \n",
       "25%                                                0.000       \n",
       "50%                                                0.000       \n",
       "75%                                                0.000       \n",
       "max                                                1.000       \n",
       "\n",
       "       confidence_context_industry_category_list_internet  \\\n",
       "count                                         165422.000    \n",
       "mean                                               0.044    \n",
       "std                                                0.205    \n",
       "min                                                0.000    \n",
       "25%                                                0.000    \n",
       "50%                                                0.000    \n",
       "75%                                                0.000    \n",
       "max                                                1.000    \n",
       "\n",
       "       confidence_context_industry_category_list_mobile  \\\n",
       "count                                        165422.000   \n",
       "mean                                              0.080   \n",
       "std                                               0.272   \n",
       "min                                               0.000   \n",
       "25%                                               0.000   \n",
       "50%                                               0.000   \n",
       "75%                                               0.000   \n",
       "max                                               1.000   \n",
       "\n",
       "       confidence_context_industry_category_list_social-media  \\\n",
       "count                                         165422.000        \n",
       "mean                                               0.042        \n",
       "std                                                0.201        \n",
       "min                                                0.000        \n",
       "25%                                                0.000        \n",
       "50%                                                0.000        \n",
       "75%                                                0.000        \n",
       "max                                                1.000        \n",
       "\n",
       "                                    ...                                \\\n",
       "count                               ...                                 \n",
       "mean                                ...                                 \n",
       "std                                 ...                                 \n",
       "min                                 ...                                 \n",
       "25%                                 ...                                 \n",
       "50%                                 ...                                 \n",
       "75%                                 ...                                 \n",
       "max                                 ...                                 \n",
       "\n",
       "       potential_human_advisors_companies_exits_advisor_average_number  \\\n",
       "count                                         165422.000                 \n",
       "mean                                               0.125                 \n",
       "std                                                0.789                 \n",
       "min                                                0.000                 \n",
       "25%                                                0.000                 \n",
       "50%                                                0.000                 \n",
       "75%                                                0.000                 \n",
       "max                                               36.000                 \n",
       "\n",
       "       potential_human_advisors_companies_exits_advisor_total_number  \\\n",
       "count                                         165422.000               \n",
       "mean                                               0.349               \n",
       "std                                                2.480               \n",
       "min                                                0.000               \n",
       "25%                                                0.000               \n",
       "50%                                                0.000               \n",
       "75%                                                0.000               \n",
       "max                                               99.000               \n",
       "\n",
       "       potential_human_advisors_companies_acquisitions_advisor_average_number  \\\n",
       "count                                         165422.000                        \n",
       "mean                                               0.099                        \n",
       "std                                                0.651                        \n",
       "min                                                0.000                        \n",
       "25%                                                0.000                        \n",
       "50%                                                0.000                        \n",
       "75%                                                0.000                        \n",
       "max                                               32.000                        \n",
       "\n",
       "       potential_human_advisors_companies_acquisitions_advisor_total_number  \\\n",
       "count                                         165422.000                      \n",
       "mean                                               0.272                      \n",
       "std                                                1.964                      \n",
       "min                                                0.000                      \n",
       "25%                                                0.000                      \n",
       "50%                                                0.000                      \n",
       "75%                                                0.000                      \n",
       "max                                               78.000                      \n",
       "\n",
       "       potential_human_advisors_companies_ipo_advisor_average_number  \\\n",
       "count                                         165422.000               \n",
       "mean                                               0.035               \n",
       "std                                                0.287               \n",
       "min                                                0.000               \n",
       "25%                                                0.000               \n",
       "50%                                                0.000               \n",
       "75%                                                0.000               \n",
       "max                                               12.000               \n",
       "\n",
       "       potential_human_advisors_companies_ipo_advisor_total_number  \\\n",
       "count                                         165422.000             \n",
       "mean                                               0.104             \n",
       "std                                                0.929             \n",
       "min                                                0.000             \n",
       "25%                                                0.000             \n",
       "50%                                                0.000             \n",
       "75%                                                0.000             \n",
       "max                                               58.000             \n",
       "\n",
       "       potential_human_advisors_companies_operating_advisor_average_number  \\\n",
       "count                                         165422.000                     \n",
       "mean                                               2.313                     \n",
       "std                                                1.611                     \n",
       "min                                                0.000                     \n",
       "25%                                                2.091                     \n",
       "50%                                                2.091                     \n",
       "75%                                                2.091                     \n",
       "max                                               49.000                     \n",
       "\n",
       "       potential_human_advisors_companies_operating_advisor_total_number  \\\n",
       "count                                         165422.000                   \n",
       "mean                                               4.637                   \n",
       "std                                                4.673                   \n",
       "min                                                0.000                   \n",
       "25%                                                4.000                   \n",
       "50%                                                4.000                   \n",
       "75%                                                4.000                   \n",
       "max                                              294.000                   \n",
       "\n",
       "       potential_human_advisors_companies_closed_advisor_average_number  \\\n",
       "count                                         165422.000                  \n",
       "mean                                               0.007                  \n",
       "std                                                0.080                  \n",
       "min                                                0.000                  \n",
       "25%                                                0.000                  \n",
       "50%                                                0.000                  \n",
       "75%                                                0.000                  \n",
       "max                                                4.000                  \n",
       "\n",
       "       potential_human_advisors_companies_closed_advisor_total_number  \n",
       "count                                         165422.000               \n",
       "mean                                               0.017               \n",
       "std                                                0.180               \n",
       "min                                                0.000               \n",
       "25%                                                0.000               \n",
       "50%                                                0.000               \n",
       "75%                                                0.000               \n",
       "max                                                7.000               \n",
       "\n",
       "[8 rows x 408 columns]"
      ]
     },
     "execution_count": 180,
     "metadata": {},
     "output_type": "execute_result"
    }
   ],
   "source": [
    "X_pos = X_imp.subtract(X_imp.min(axis=0))\n",
    "X_pos.describe()"
   ]
  },
  {
   "cell_type": "markdown",
   "metadata": {},
   "source": [
    "--> Start transformations"
   ]
  },
  {
   "cell_type": "code",
   "execution_count": 181,
   "metadata": {
    "collapsed": false
   },
   "outputs": [],
   "source": [
    "funding = pd.to_numeric(X_pos[\"confidence_validation_funding_raised_value_total_number\"],errors=\"coerce\")"
   ]
  },
  {
   "cell_type": "code",
   "execution_count": 182,
   "metadata": {
    "collapsed": false
   },
   "outputs": [
    {
     "data": {
      "text/plain": [
       "(165422,)"
      ]
     },
     "execution_count": 182,
     "metadata": {},
     "output_type": "execute_result"
    }
   ],
   "source": [
    "funding.shape"
   ]
  },
  {
   "cell_type": "code",
   "execution_count": 183,
   "metadata": {
    "collapsed": false
   },
   "outputs": [],
   "source": [
    "log1p = pd.DataFrame(np.log1p(funding), index=X_pos.index)"
   ]
  },
  {
   "cell_type": "code",
   "execution_count": 184,
   "metadata": {
    "collapsed": false
   },
   "outputs": [],
   "source": [
    "sqrt = pd.DataFrame(funding**(1/2), index=X_pos.index)"
   ]
  },
  {
   "cell_type": "code",
   "execution_count": 185,
   "metadata": {
    "collapsed": false
   },
   "outputs": [],
   "source": [
    "funding = funding.to_frame()\n",
    "funding[\"Method\"] = \"None\"\n",
    "log1p[\"Method\"] = \"Log1P\"\n",
    "sqrt[\"Method\"] = \"SQRT\"\n",
    "transforms = pd.concat([funding,log1p,sqrt],axis=0)"
   ]
  },
  {
   "cell_type": "code",
   "execution_count": 207,
   "metadata": {
    "collapsed": false
   },
   "outputs": [
    {
     "data": {
      "text/html": [
       "<div>\n",
       "<table border=\"1\" class=\"dataframe\">\n",
       "  <thead>\n",
       "    <tr style=\"text-align: right;\">\n",
       "      <th></th>\n",
       "      <th></th>\n",
       "      <th>confidence_validation_funding_raised_value_total_number</th>\n",
       "    </tr>\n",
       "    <tr>\n",
       "      <th>Method</th>\n",
       "      <th></th>\n",
       "      <th></th>\n",
       "    </tr>\n",
       "  </thead>\n",
       "  <tbody>\n",
       "    <tr>\n",
       "      <th rowspan=\"8\" valign=\"top\">Log1P</th>\n",
       "      <th>count</th>\n",
       "      <td>1.654e+05</td>\n",
       "    </tr>\n",
       "    <tr>\n",
       "      <th>mean</th>\n",
       "      <td>1.264e+01</td>\n",
       "    </tr>\n",
       "    <tr>\n",
       "      <th>std</th>\n",
       "      <td>3.496e+00</td>\n",
       "    </tr>\n",
       "    <tr>\n",
       "      <th>min</th>\n",
       "      <td>0.000e+00</td>\n",
       "    </tr>\n",
       "    <tr>\n",
       "      <th>25%</th>\n",
       "      <td>1.330e+01</td>\n",
       "    </tr>\n",
       "    <tr>\n",
       "      <th>50%</th>\n",
       "      <td>1.330e+01</td>\n",
       "    </tr>\n",
       "    <tr>\n",
       "      <th>75%</th>\n",
       "      <td>1.330e+01</td>\n",
       "    </tr>\n",
       "    <tr>\n",
       "      <th>max</th>\n",
       "      <td>2.316e+01</td>\n",
       "    </tr>\n",
       "    <tr>\n",
       "      <th rowspan=\"8\" valign=\"top\">None</th>\n",
       "      <th>count</th>\n",
       "      <td>1.654e+05</td>\n",
       "    </tr>\n",
       "    <tr>\n",
       "      <th>mean</th>\n",
       "      <td>3.735e+06</td>\n",
       "    </tr>\n",
       "    <tr>\n",
       "      <th>std</th>\n",
       "      <td>5.217e+07</td>\n",
       "    </tr>\n",
       "    <tr>\n",
       "      <th>min</th>\n",
       "      <td>0.000e+00</td>\n",
       "    </tr>\n",
       "    <tr>\n",
       "      <th>25%</th>\n",
       "      <td>5.999e+05</td>\n",
       "    </tr>\n",
       "    <tr>\n",
       "      <th>50%</th>\n",
       "      <td>5.999e+05</td>\n",
       "    </tr>\n",
       "    <tr>\n",
       "      <th>75%</th>\n",
       "      <td>5.999e+05</td>\n",
       "    </tr>\n",
       "    <tr>\n",
       "      <th>max</th>\n",
       "      <td>1.146e+10</td>\n",
       "    </tr>\n",
       "    <tr>\n",
       "      <th rowspan=\"8\" valign=\"top\">SQRT</th>\n",
       "      <th>count</th>\n",
       "      <td>1.654e+05</td>\n",
       "    </tr>\n",
       "    <tr>\n",
       "      <th>mean</th>\n",
       "      <td>1.051e+03</td>\n",
       "    </tr>\n",
       "    <tr>\n",
       "      <th>std</th>\n",
       "      <td>1.622e+03</td>\n",
       "    </tr>\n",
       "    <tr>\n",
       "      <th>min</th>\n",
       "      <td>0.000e+00</td>\n",
       "    </tr>\n",
       "    <tr>\n",
       "      <th>25%</th>\n",
       "      <td>7.745e+02</td>\n",
       "    </tr>\n",
       "    <tr>\n",
       "      <th>50%</th>\n",
       "      <td>7.745e+02</td>\n",
       "    </tr>\n",
       "    <tr>\n",
       "      <th>75%</th>\n",
       "      <td>7.745e+02</td>\n",
       "    </tr>\n",
       "    <tr>\n",
       "      <th>max</th>\n",
       "      <td>1.070e+05</td>\n",
       "    </tr>\n",
       "  </tbody>\n",
       "</table>\n",
       "</div>"
      ],
      "text/plain": [
       "              confidence_validation_funding_raised_value_total_number\n",
       "Method                                                               \n",
       "Log1P  count                                          1.654e+05      \n",
       "       mean                                           1.264e+01      \n",
       "       std                                            3.496e+00      \n",
       "       min                                            0.000e+00      \n",
       "       25%                                            1.330e+01      \n",
       "       50%                                            1.330e+01      \n",
       "       75%                                            1.330e+01      \n",
       "       max                                            2.316e+01      \n",
       "None   count                                          1.654e+05      \n",
       "       mean                                           3.735e+06      \n",
       "       std                                            5.217e+07      \n",
       "       min                                            0.000e+00      \n",
       "       25%                                            5.999e+05      \n",
       "       50%                                            5.999e+05      \n",
       "       75%                                            5.999e+05      \n",
       "       max                                            1.146e+10      \n",
       "SQRT   count                                          1.654e+05      \n",
       "       mean                                           1.051e+03      \n",
       "       std                                            1.622e+03      \n",
       "       min                                            0.000e+00      \n",
       "       25%                                            7.745e+02      \n",
       "       50%                                            7.745e+02      \n",
       "       75%                                            7.745e+02      \n",
       "       max                                            1.070e+05      "
      ]
     },
     "execution_count": 207,
     "metadata": {},
     "output_type": "execute_result"
    }
   ],
   "source": [
    "transforms.groupby(\"Method\").describe()"
   ]
  },
  {
   "cell_type": "code",
   "execution_count": 238,
   "metadata": {
    "collapsed": true
   },
   "outputs": [],
   "source": [
    "transforms = transforms.sample(1000)"
   ]
  },
  {
   "cell_type": "code",
   "execution_count": 239,
   "metadata": {
    "collapsed": true
   },
   "outputs": [],
   "source": [
    "funding = transforms[\"confidence_validation_funding_raised_value_total_number\"]\n",
    "funding.name = \"Funding Raised\""
   ]
  },
  {
   "cell_type": "code",
   "execution_count": 245,
   "metadata": {
    "collapsed": false
   },
   "outputs": [
    {
     "name": "stderr",
     "output_type": "stream",
     "text": [
      "C:\\ProgramData\\Anaconda3\\lib\\site-packages\\statsmodels\\nonparametric\\kdetools.py:20: VisibleDeprecationWarning: using a non-integer number instead of an integer will result in an error in the future\n",
      "  y = X[:m/2+1] + np.r_[0,X[m/2+1:],0]*1j\n"
     ]
    },
    {
     "data": {
      "image/png": "[encoded data removed]",
      "text/plain": [
       "<matplotlib.figure.Figure at 0x231e9cc6b38>"
      ]
     },
     "metadata": {},
     "output_type": "display_data"
    }
   ],
   "source": [
    "f, (ax1, ax2, ax3) = plt.subplots(nrows=1, ncols=3)\n",
    "\n",
    "sns.distplot(funding[transforms[\"Method\"] == \"None\"],ax=ax1)\n",
    "ax1.set_title(\"None\")\n",
    "ax1.xaxis.label.set_visible(False)\n",
    "\n",
    "sns.distplot(funding[transforms[\"Method\"] == \"SQRT\"],ax=ax2)\n",
    "ax2.set_title(\"SQRT\")\n",
    "ax2.xaxis.label.set_visible(False)\n",
    "\n",
    "sns.distplot(funding[transforms[\"Method\"] == \"Log1P\"],ax=ax3)\n",
    "ax3.set_title(\"Log1P\")\n",
    "ax3.xaxis.label.set_visible(False)\n",
    "\n",
    "f.text(0.5, -0.04, 'Funding Raised', size= MEDIUM_SIZE, ha='center')\n",
    "f.text(-0.04, 0.5, 'Density', va='center', size= MEDIUM_SIZE, rotation='vertical')\n",
    "plt.tight_layout()\n",
    "f.savefig(save_path+\"funding_transformation.pdf\", bbox_inches=\"tight\")"
   ]
  },
  {
   "cell_type": "code",
   "execution_count": 196,
   "metadata": {
    "collapsed": false
   },
   "outputs": [
    {
     "data": {
      "text/html": [
       "<div>\n",
       "<table border=\"1\" class=\"dataframe\">\n",
       "  <thead>\n",
       "    <tr>\n",
       "      <th></th>\n",
       "      <th colspan=\"3\" halign=\"left\">Funding Raised</th>\n",
       "    </tr>\n",
       "    <tr>\n",
       "      <th></th>\n",
       "      <th>Skew</th>\n",
       "      <th>Kurtosis</th>\n",
       "      <th>Kurtosis (0R)</th>\n",
       "    </tr>\n",
       "    <tr>\n",
       "      <th>Method</th>\n",
       "      <th></th>\n",
       "      <th></th>\n",
       "      <th></th>\n",
       "    </tr>\n",
       "  </thead>\n",
       "  <tbody>\n",
       "    <tr>\n",
       "      <th>Log1P</th>\n",
       "      <td>-2.853</td>\n",
       "      <td>8.063</td>\n",
       "      <td>6.767</td>\n",
       "    </tr>\n",
       "    <tr>\n",
       "      <th>None</th>\n",
       "      <td>123.470</td>\n",
       "      <td>22749.508</td>\n",
       "      <td>21319.112</td>\n",
       "    </tr>\n",
       "    <tr>\n",
       "      <th>SQRT</th>\n",
       "      <td>12.122</td>\n",
       "      <td>358.313</td>\n",
       "      <td>353.395</td>\n",
       "    </tr>\n",
       "  </tbody>\n",
       "</table>\n",
       "</div>"
      ],
      "text/plain": [
       "       Funding Raised                         \n",
       "                 Skew   Kurtosis Kurtosis (0R)\n",
       "Method                                        \n",
       "Log1P          -2.853      8.063         6.767\n",
       "None          123.470  22749.508     21319.112\n",
       "SQRT           12.122    358.313       353.395"
      ]
     },
     "execution_count": 196,
     "metadata": {},
     "output_type": "execute_result"
    }
   ],
   "source": [
    "groups = \"Method\"\n",
    "columns = \"confidence_validation_funding_raised_value_total_number\"\n",
    "colnames = [\"Funding Raised\"]\n",
    "colfuncs = [\n",
    "    OrderedDict([\n",
    "        (\"Skew\", lambda x: stats.skew(x,nan_policy=\"omit\")),\n",
    "        (\"Kurtosis\", lambda x: stats.kurtosis(x,nan_policy=\"omit\")),\n",
    "        #(\"Skew (0R)\", lambda x: stats.skew(x.replace(0., np.nan),nan_policy=\"omit\"))\n",
    "        (\"Kurtosis (0R)\", lambda x: stats.kurtosis(x.replace(0., np.nan),nan_policy=\"omit\"))\n",
    "    ]\n",
    "    ) \n",
    "]\n",
    "\n",
    "namefunc = OrderedDict(zip(columns, colnames))\n",
    "aggfunc = OrderedDict(zip(columns, colfuncs))\n",
    "\n",
    "order_1 = [\"None\", \"Log1P\", \"SQRT\"]\n",
    "\n",
    "tab = transforms.groupby(groups)\n",
    "tab = tab[columns]\n",
    "tab = tab.agg(aggfunc)\n",
    "tab = tab.rename(columns=namefunc)\n",
    "tab"
   ]
  },
  {
   "cell_type": "code",
   "execution_count": null,
   "metadata": {
    "collapsed": true
   },
   "outputs": [],
   "source": [
    "tab = transforms.groupby(groups)\n",
    "tab = tab[columns].replace(0, np.nan)\n",
    "tab = tab.agg(aggfunc)\n",
    "tab = tab.rename(columns=namefunc)\n",
    "tab"
   ]
  },
  {
   "cell_type": "code",
   "execution_count": 799,
   "metadata": {
    "collapsed": false
   },
   "outputs": [
    {
     "data": {
      "text/plain": [
       "'\\\\begin{tabular}{lrr}\\n\\\\toprule\\n{} & Funding Raised &            \\\\\\\\\\n{} &           Skew &   Kurtosis \\\\\\\\\\nMethod &                &            \\\\\\\\\\n\\\\midrule\\nLog1P  &         -2.853 &      8.063 \\\\\\\\\\nNone   &        123.470 &  22749.508 \\\\\\\\\\nSQRT   &         12.122 &    358.313 \\\\\\\\\\n\\\\bottomrule\\n\\\\end{tabular}\\n'"
      ]
     },
     "execution_count": 799,
     "metadata": {},
     "output_type": "execute_result"
    }
   ],
   "source": [
    "tab.to_latex()"
   ]
  },
  {
   "cell_type": "code",
   "execution_count": 642,
   "metadata": {
    "collapsed": true
   },
   "outputs": [],
   "source": [
    "binary = pd.Series(np.where(funding == 0, 0, 1), index=X_pos.index)"
   ]
  },
  {
   "cell_type": "markdown",
   "metadata": {},
   "source": [
    "--> Apply transformations"
   ]
  },
  {
   "cell_type": "code",
   "execution_count": 699,
   "metadata": {
    "collapsed": true
   },
   "outputs": [],
   "source": [
    "from sklearn.preprocessing import FunctionTransformer\n",
    "\n",
    "ft = FunctionTransformer(np.log1p)\n",
    "X_tf = ft.fit_transform(X_pos)\n",
    "X_tf = pd.DataFrame(X_tf, index=X_pos.index, columns=list(X_pos))"
   ]
  },
  {
   "cell_type": "markdown",
   "metadata": {},
   "source": [
    "--> Start scaling"
   ]
  },
  {
   "cell_type": "markdown",
   "metadata": {},
   "source": [
    "--> Apply scaling"
   ]
  },
  {
   "cell_type": "code",
   "execution_count": 701,
   "metadata": {
    "collapsed": true
   },
   "outputs": [],
   "source": [
    "from sklearn.preprocessing import scale\n",
    "\n",
    "X_std = scale(X_tf)\n",
    "X_std = pd.DataFrame(X_std, index=X_tf.index, columns=list(X_tf))"
   ]
  },
  {
   "cell_type": "markdown",
   "metadata": {},
   "source": [
    "## 3.2.3 Extraction"
   ]
  },
  {
   "cell_type": "markdown",
   "metadata": {},
   "source": [
    "PCA Model"
   ]
  },
  {
   "cell_type": "code",
   "execution_count": 721,
   "metadata": {
    "collapsed": true
   },
   "outputs": [],
   "source": [
    "#Principal Components Analysis (PCA)\n",
    "from sklearn.decomposition import PCA\n",
    "pca = PCA().fit(X_std)"
   ]
  },
  {
   "cell_type": "code",
   "execution_count": 744,
   "metadata": {
    "collapsed": false
   },
   "outputs": [
    {
     "data": {
      "image/png": "[encoded data removed]",
      "text/plain": [
       "<matplotlib.figure.Figure at 0x210837f66a0>"
      ]
     },
     "metadata": {},
     "output_type": "display_data"
    }
   ],
   "source": [
    "f = plt.figure(figsize=(10,3))\n",
    "plt.plot(np.arange(len(y)) + 1, pca.explained_variance_)\n",
    "ax = plt.gca()\n",
    "ax.xaxis.set_major_locator(ticker.MultipleLocator(5))\n",
    "ax.set_ylabel(\"Eigenvalue\")\n",
    "ax.set_xlabel(\"Component Number\")\n",
    "add_horizontal_line(ax, 1, \"Cutoff (1)\", color=\"r\")\n",
    "ax.set_xlim(1,50)\n",
    "plt.tight_layout()\n",
    "f.savefig(save_path+\"scree_plot.pdf\", bbox_inches=\"tight\")"
   ]
  },
  {
   "cell_type": "markdown",
   "metadata": {},
   "source": [
    "Grouped"
   ]
  },
  {
   "cell_type": "code",
   "execution_count": null,
   "metadata": {
    "collapsed": true
   },
   "outputs": [],
   "source": [
    "from collections import defaultdict\n",
    "from itertools import combinations\n",
    "\n",
    "features = list(X_std)\n",
    "f_map = {x: '_'.join(x.split(\"_\")[:3]) for x in features}\n",
    "f_group = defaultdict(list)\n",
    "for f,g in f_map.items():\n",
    "    f_group[g].append(f)\n",
    "agg_group = {}\n",
    "for g,l in f_group.items():\n",
    "    combo = combinations(l, 2)\n",
    "    for x,y in combo:\n",
    "        corr = stats.spearmanr(X_std[x][:100], X_std[y][:100])[0]\n",
    "        if corr < 0: X_std[y] *= -1\n",
    "    tot = X_std[l].sum(axis=1)\n",
    "    agg_group[g] = tot\n",
    "X_grp = pd.DataFrame(agg_group)\n",
    "grp_corr = X_grp.corr(method=\"spearman\")\n"
   ]
  },
  {
   "cell_type": "code",
   "execution_count": 720,
   "metadata": {
    "collapsed": false
   },
   "outputs": [
    {
     "data": {
      "image/png": "[encoded data removed]",
      "text/plain": [
       "<matplotlib.figure.Figure at 0x210b2268b38>"
      ]
     },
     "metadata": {},
     "output_type": "display_data"
    }
   ],
   "source": [
    "f = plt.figure()\n",
    "mask = np.zeros_like(grp_corr)\n",
    "mask[np.triu_indices_from(mask)] = True\n",
    "f_names = [x.split(\"_\")[2] for x in list(X_grp)]\n",
    "ax = sns.heatmap(grp_corr,square=True, mask=mask, robust=True, vmin = -0.5, vmax = 0.5, xticklabels=f_names, yticklabels=f_names, **outline_bars)\n",
    "ax.collections[0].colorbar.set_label(\"Spearman Correlation\")\n",
    "ax.set_xlabel(\"Grouped Features\")\n",
    "ax.set_ylabel(\"Grouped Features\")\n",
    "plt.tight_layout()\n",
    "f.savefig(save_path+\"grouped_heatmap.pdf\", bbox_inches=\"tight\")"
   ]
  },
  {
   "cell_type": "markdown",
   "metadata": {},
   "source": [
    "# 3.3 Classification"
   ]
  },
  {
   "cell_type": "markdown",
   "metadata": {},
   "source": [
    "# 3.4 Experimentation"
   ]
  },
  {
   "cell_type": "markdown",
   "metadata": {},
   "source": [
    "## 3.4.2 Robustness"
   ]
  },
  {
   "cell_type": "markdown",
   "metadata": {},
   "source": [
    "## 3.4.3 Predictive Power"
   ]
  },
  {
   "cell_type": "markdown",
   "metadata": {
    "collapsed": true
   },
   "source": [
    "Table 3.5 Comparison of 2013 slice from 2016 dataset with original 2013 dataset."
   ]
  },
  {
   "cell_type": "code",
   "execution_count": 97,
   "metadata": {
    "collapsed": false
   },
   "outputs": [],
   "source": [
    "def plot_learning_curve(df, group, target, ax):\n",
    "    \n",
    "    def concat_lists(series):\n",
    "        return np.array(list(zip(*[element for list_ in [np.array(list(zip(*list_))) for list_ in series] for element in list_])))\n",
    "\n",
    "    test_scores = concat_lists(df.loc[df[group] == target][\"Test_Scores\"])\n",
    "    train_scores = concat_lists(df.loc[df[group] == target][\"Train_Scores\"])\n",
    "    train_sizes = df.loc[df[group] == target][\"Train_Sizes\"].sample(1).squeeze()\n",
    "    print(train_sizes)\n",
    "    \n",
    "    ax.set_title(\"{}\".format(target))\n",
    "    \n",
    "    train_scores_mean = np.mean(train_scores, axis=1)\n",
    "    train_scores_std = np.std(train_scores,axis=1)\n",
    "    test_scores_mean = np.mean(test_scores, axis=1)\n",
    "    test_scores_std = np.std(test_scores, axis=1)\n",
    "            \n",
    "    ax.fill_between(train_sizes, train_scores_mean - train_scores_std,\n",
    "                     train_scores_mean + train_scores_std, alpha=0.1, color=\"blue\")\n",
    "    ax.fill_between(train_sizes, test_scores_mean - test_scores_std,\n",
    "                     test_scores_mean + test_scores_std, alpha=0.1, color=\"green\")\n",
    "    a, = ax.plot(train_sizes, train_scores_mean, 'o-', color=\"blue\", label=\"Training score\")\n",
    "    b, = ax.plot(train_sizes, test_scores_mean, 'o-', color=\"green\", label=\"Cross-validation score\")        \n",
    "    \n",
    "    ax.grid()\n",
    "    ax.set_ylim(ymin=0, ymax=1)\n",
    "    ax.set_xticklabels([\"{:,.0f}\".format(xtick) for xtick in ax.get_xticks().tolist()])\n",
    "    \n",
    "    return (a,b)\n",
    "    "
   ]
  },
  {
   "cell_type": "code",
   "execution_count": 114,
   "metadata": {
    "collapsed": false
   },
   "outputs": [],
   "source": [
    "def plot_learning_curves(df, group):\n",
    "    targets = df[group].value_counts().index.tolist()\n",
    "    rows=math.ceil(math.sqrt(len(targets)))\n",
    "    cols = math.ceil(len(targets) / rows)\n",
    "    f, axes = plt.subplots(nrows=rows, ncols=cols)\n",
    "    axes = [item for sublist in axes for item in sublist]\n",
    "    for i, target in enumerate(targets):\n",
    "        leg = plot_learning_curve(df, group, target, axes[i])\n",
    "        add_horizontal_line(axes[i], df[\"outcome_chance\"].ix[0], \"\", color=\"r\")\n",
    "        if i == 0: axes[i].legend(\n",
    "            bbox_to_anchor = axes[len(axes) - 1].get_position(),\n",
    "            bbox_transform=plt.gcf().transFigure)\n",
    "    for x in range(len(targets), len(axes)): f.delaxes(axes[x])\n",
    "    f.text(0.5, -0.04, 'Training Examples', ha='center')\n",
    "    f.text(-0.04, 0.5, 'Area under Precision-Recall Curve', va='center', rotation='vertical')\n",
    "    plt.tight_layout()\n",
    "    return f"
   ]
  },
  {
   "cell_type": "code",
   "execution_count": 104,
   "metadata": {
    "collapsed": false
   },
   "outputs": [],
   "source": [
    "df_create = get_results(16, \"create\")"
   ]
  },
  {
   "cell_type": "code",
   "execution_count": 111,
   "metadata": {
    "collapsed": false
   },
   "outputs": [
    {
     "data": {
      "text/plain": [
       "0.10310943317078286"
      ]
     },
     "execution_count": 111,
     "metadata": {},
     "output_type": "execute_result"
    }
   ],
   "source": [
    "df_create[\"outcome_chance\"].ix[0]"
   ]
  },
  {
   "cell_type": "code",
   "execution_count": 115,
   "metadata": {
    "collapsed": false
   },
   "outputs": [
    {
     "name": "stdout",
     "output_type": "stream",
     "text": [
      "[ 3178  6356  9535 12713 15892 19070 22248 25427 28605 31784]\n",
      "[ 3178  6357  9535 12714 15892 19071 22249 25428 28606 31785]\n",
      "[ 3178  6356  9535 12713 15892 19070 22248 25427 28605 31784]\n",
      "[ 3178  6357  9535 12714 15892 19071 22249 25428 28606 31785]\n",
      "[ 3178  6356  9535 12713 15892 19070 22248 25427 28605 31784]\n",
      "[ 3178  6357  9535 12714 15892 19071 22249 25428 28606 31785]\n",
      "[ 3178  6357  9535 12714 15892 19071 22249 25428 28606 31785]\n"
     ]
    },
    {
     "data": {
      "image/png": "[encoded data removed]",
      "text/plain": [
       "<matplotlib.figure.Figure at 0x231d6b453c8>"
      ]
     },
     "metadata": {},
     "output_type": "display_data"
    }
   ],
   "source": [
    "f = plot_learning_curves(df_create, \"Classifier\")\n",
    "f.savefig(save_path+\"create_learning_curves.pdf\", bbox_inches=\"tight\")"
   ]
  },
  {
   "cell_type": "code",
   "execution_count": 218,
   "metadata": {
    "collapsed": false
   },
   "outputs": [
    {
     "name": "stdout",
     "output_type": "stream",
     "text": [
      "Error: Time\n",
      "Error: Imputer\n",
      "Error: Transformer\n",
      "Error: Scaler\n",
      "Error: Extractor\n"
     ]
    }
   ],
   "source": [
    "df_select = get_results(16, \"select\")"
   ]
  },
  {
   "cell_type": "code",
   "execution_count": 226,
   "metadata": {
    "collapsed": true
   },
   "outputs": [],
   "source": [
    "df_select[\"feature_date_str\"] = df_select[\"feature_date\"].apply(lambda x: x.strftime(\"%Y-%m\"))"
   ]
  },
  {
   "cell_type": "code",
   "execution_count": 227,
   "metadata": {
    "collapsed": true
   },
   "outputs": [],
   "source": [
    "df_select2 = df_select.copy()\n",
    "df_select2[\"feature_date_str\"] = \"Overall\"\n",
    "df_select2 = pd.concat([df_select2, df_select],axis=0)"
   ]
  },
  {
   "cell_type": "code",
   "execution_count": 228,
   "metadata": {
    "collapsed": false
   },
   "outputs": [],
   "source": [
    "from datetime import date"
   ]
  },
  {
   "cell_type": "code",
   "execution_count": 229,
   "metadata": {
    "collapsed": false
   },
   "outputs": [
    {
     "data": {
      "image/png": "[encoded data removed]",
      "text/plain": [
       "<matplotlib.figure.Figure at 0x1f3d0417b38>"
      ]
     },
     "metadata": {},
     "output_type": "display_data"
    }
   ],
   "source": [
    "f = plt.figure()\n",
    "order = df_select[\"feature_date_str\"].value_counts().index.sort_values(ascending=True).tolist()\n",
    "order.append(\"Overall\")\n",
    "ax = sns.boxplot(x=\"PRC\", y=\"feature_date_str\", data=df_select2, order=order, fliersize=0)\n",
    "ax.set_xlabel(\"Area Under Precision-Recall Curve\")\n",
    "ax.set_ylabel(\"Feature Slice Date\")\n",
    "#add_vertical_line(ax, df_select[\"outcome_chance\"].median(), \"Chance\", color=\"r\")\n",
    "add_horizontal_line(ax, 6.5, \"\", color=\"black\")\n",
    "plt.tight_layout()\n",
    "f.savefig(save_path+\"selection_agg_slice.pdf\", bbox_inches=\"tight\")"
   ]
  },
  {
   "cell_type": "code",
   "execution_count": 273,
   "metadata": {
    "collapsed": false
   },
   "outputs": [
    {
     "name": "stdout",
     "output_type": "stream",
     "text": [
      "Error: Time\n",
      "Error: Imputer\n",
      "Error: Transformer\n",
      "Error: Scaler\n",
      "Error: Extractor\n"
     ]
    }
   ],
   "source": [
    "df_select = get_results(16, \"select\")"
   ]
  },
  {
   "cell_type": "code",
   "execution_count": 274,
   "metadata": {
    "collapsed": false
   },
   "outputs": [],
   "source": [
    "df_select3 = df_select[~np.isnan(df_select[\"rank_create\"])]"
   ]
  },
  {
   "cell_type": "code",
   "execution_count": 275,
   "metadata": {
    "collapsed": false
   },
   "outputs": [],
   "source": [
    "labels = df_select3[[\"rank_create\",\"Classifier\"]].drop_duplicates().sort_values(by=\"rank_create\", ascending=True)[\"Classifier\"].tolist()"
   ]
  },
  {
   "cell_type": "code",
   "execution_count": 276,
   "metadata": {
    "collapsed": false
   },
   "outputs": [
    {
     "data": {
      "image/png": "[encoded data removed]",
      "text/plain": [
       "<matplotlib.figure.Figure at 0x1f4365bdf98>"
      ]
     },
     "metadata": {},
     "output_type": "display_data"
    }
   ],
   "source": [
    "f = plt.figure()\n",
    "order = df_select3[\"rank_create\"].value_counts().index.tolist()\n",
    "ax = sns.boxplot(x=\"PRC\", y=\"rank_create\", data=df_select3, order=order, fliersize=0, orient=\"h\")\n",
    "ax.set_yticklabels([\"{:,.0f}\".format(ytick+1) for ytick in ax.get_yticks().tolist()])\n",
    "ax.set_xlabel(\"Area Under Precision-Recall Curve\")\n",
    "ax.set_ylabel(\"Finalist Ranking\")\n",
    "add_boxplot_labels(ax, labels)\n",
    "#add_vertical_line(ax, df_select3[\"outcome_chance\"].median(), \"Chance\", color=\"r\")\n",
    "#add_horizontal_line(ax, 5.5, \"\", color=\"black\")\n",
    "plt.tight_layout()\n",
    "f.savefig(save_path+\"selection_agg_rank.pdf\", bbox_inches=\"tight\")"
   ]
  },
  {
   "cell_type": "code",
   "execution_count": 281,
   "metadata": {
    "collapsed": false
   },
   "outputs": [
    {
     "name": "stdout",
     "output_type": "stream",
     "text": [
      "Error: Time\n",
      "Error: Imputer\n",
      "Error: Transformer\n",
      "Error: Scaler\n",
      "Error: Extractor\n"
     ]
    }
   ],
   "source": [
    "pipelines = get_results(16, \"select\")"
   ]
  },
  {
   "cell_type": "code",
   "execution_count": 282,
   "metadata": {
    "collapsed": false
   },
   "outputs": [],
   "source": [
    "def rank_pipelines(pipelines, number_selected, criteria, stage):\n",
    "    pipelines[\"Params_str\"] = pipelines[\"Params\"].astype(str)\n",
    "    unique_params = {v:k for k,v in dict(enumerate(pipelines[\"Params_str\"].unique().tolist())).items()}\n",
    "    pipelines[\"Params_str_dummy\"] = pipelines[\"Params_str\"].replace(unique_params)\n",
    "    dummy_rank = pipelines.groupby(\"Params_str_dummy\")[criteria].median().rank(ascending=False).to_dict()\n",
    "    pipelines[\"rank_{}\".format(stage)] = pipelines[\"Params_str_dummy\"].map(dummy_rank)\n",
    "    pipelines.set_index(\"rank_{}\".format(stage), drop=False, inplace=True)\n",
    "    top_pipelines = pipelines.sort_index().ix[1:number_selected]\n",
    "    top_pipelines = top_pipelines.drop_duplicates(subset=\"Params_str_dummy\").squeeze()\n",
    "    return top_pipelines"
   ]
  },
  {
   "cell_type": "code",
   "execution_count": 272,
   "metadata": {
    "collapsed": false
   },
   "outputs": [
    {
     "name": "stderr",
     "output_type": "stream",
     "text": [
      "C:\\ProgramData\\Anaconda3\\lib\\site-packages\\ipykernel\\__main__.py:2: SettingWithCopyWarning: \n",
      "A value is trying to be set on a copy of a slice from a DataFrame.\n",
      "Try using .loc[row_indexer,col_indexer] = value instead\n",
      "\n",
      "See the caveats in the documentation: http://pandas.pydata.org/pandas-docs/stable/indexing.html#indexing-view-versus-copy\n",
      "  from ipykernel import kernelapp as app\n",
      "C:\\ProgramData\\Anaconda3\\lib\\site-packages\\ipykernel\\__main__.py:4: SettingWithCopyWarning: \n",
      "A value is trying to be set on a copy of a slice from a DataFrame.\n",
      "Try using .loc[row_indexer,col_indexer] = value instead\n",
      "\n",
      "See the caveats in the documentation: http://pandas.pydata.org/pandas-docs/stable/indexing.html#indexing-view-versus-copy\n",
      "C:\\ProgramData\\Anaconda3\\lib\\site-packages\\ipykernel\\__main__.py:6: SettingWithCopyWarning: \n",
      "A value is trying to be set on a copy of a slice from a DataFrame.\n",
      "Try using .loc[row_indexer,col_indexer] = value instead\n",
      "\n",
      "See the caveats in the documentation: http://pandas.pydata.org/pandas-docs/stable/indexing.html#indexing-view-versus-copy\n"
     ]
    },
    {
     "data": {
      "text/plain": [
       "{'absolute': FunctionTransformer(accept_sparse=False, func=<ufunc 'absolute'>,\n",
       "           inv_kw_args=None, inverse_func=None, kw_args=None, pass_y=False,\n",
       "           validate=True),\n",
       " 'absolute__accept_sparse': False,\n",
       " 'absolute__func': <ufunc 'absolute'>,\n",
       " 'absolute__inv_kw_args': None,\n",
       " 'absolute__inverse_func': None,\n",
       " 'absolute__kw_args': None,\n",
       " 'absolute__pass_y': False,\n",
       " 'absolute__validate': True,\n",
       " 'clf': RandomForestClassifier(bootstrap=True, class_weight='balanced',\n",
       "             criterion='entropy', max_depth=8, max_features='auto',\n",
       "             max_leaf_nodes=None, min_impurity_split=1e-07,\n",
       "             min_samples_leaf=1, min_samples_split=2,\n",
       "             min_weight_fraction_leaf=0.0, n_estimators=34, n_jobs=1,\n",
       "             oob_score=False, random_state=None, verbose=0,\n",
       "             warm_start=False),\n",
       " 'clf__bootstrap': True,\n",
       " 'clf__class_weight': 'balanced',\n",
       " 'clf__criterion': 'entropy',\n",
       " 'clf__max_depth': 8,\n",
       " 'clf__max_features': 'auto',\n",
       " 'clf__max_leaf_nodes': None,\n",
       " 'clf__min_impurity_split': 1e-07,\n",
       " 'clf__min_samples_leaf': 1,\n",
       " 'clf__min_samples_split': 2,\n",
       " 'clf__min_weight_fraction_leaf': 0.0,\n",
       " 'clf__n_estimators': 34,\n",
       " 'clf__n_jobs': 1,\n",
       " 'clf__oob_score': False,\n",
       " 'clf__random_state': None,\n",
       " 'clf__verbose': 0,\n",
       " 'clf__warm_start': False,\n",
       " 'extractor': PCA(copy=True, iterated_power='auto', n_components=27, random_state=None,\n",
       "   svd_solver='auto', tol=0.0, whiten=False),\n",
       " 'extractor__copy': True,\n",
       " 'extractor__iterated_power': 'auto',\n",
       " 'extractor__n_components': 27,\n",
       " 'extractor__random_state': None,\n",
       " 'extractor__svd_solver': 'auto',\n",
       " 'extractor__tol': 0.0,\n",
       " 'extractor__whiten': False,\n",
       " 'imputer': Imputer(axis=0, copy=True, missing_values='NaN', strategy='most_frequent',\n",
       "     verbose=0),\n",
       " 'imputer__axis': 0,\n",
       " 'imputer__copy': True,\n",
       " 'imputer__missing_values': 'NaN',\n",
       " 'imputer__strategy': 'most_frequent',\n",
       " 'imputer__verbose': 0,\n",
       " 'scaler': MinMaxScaler(copy=True, feature_range=(0, 1)),\n",
       " 'scaler__copy': True,\n",
       " 'scaler__feature_range': (0, 1),\n",
       " 'steps': [('imputer',\n",
       "   Imputer(axis=0, copy=True, missing_values='NaN', strategy='most_frequent',\n",
       "       verbose=0)),\n",
       "  ('absolute',\n",
       "   FunctionTransformer(accept_sparse=False, func=<ufunc 'absolute'>,\n",
       "             inv_kw_args=None, inverse_func=None, kw_args=None, pass_y=False,\n",
       "             validate=True)),\n",
       "  ('transformer', FunctionTransformer(accept_sparse=False, func=<ufunc 'sqrt'>,\n",
       "             inv_kw_args=None, inverse_func=None, kw_args=None, pass_y=False,\n",
       "             validate=True)),\n",
       "  ('scaler', MinMaxScaler(copy=True, feature_range=(0, 1))),\n",
       "  ('extractor',\n",
       "   PCA(copy=True, iterated_power='auto', n_components=27, random_state=None,\n",
       "     svd_solver='auto', tol=0.0, whiten=False)),\n",
       "  ('clf', RandomForestClassifier(bootstrap=True, class_weight='balanced',\n",
       "               criterion='entropy', max_depth=8, max_features='auto',\n",
       "               max_leaf_nodes=None, min_impurity_split=1e-07,\n",
       "               min_samples_leaf=1, min_samples_split=2,\n",
       "               min_weight_fraction_leaf=0.0, n_estimators=34, n_jobs=1,\n",
       "               oob_score=False, random_state=None, verbose=0,\n",
       "               warm_start=False))],\n",
       " 'transformer': FunctionTransformer(accept_sparse=False, func=<ufunc 'sqrt'>,\n",
       "           inv_kw_args=None, inverse_func=None, kw_args=None, pass_y=False,\n",
       "           validate=True),\n",
       " 'transformer__accept_sparse': False,\n",
       " 'transformer__func': <ufunc 'sqrt'>,\n",
       " 'transformer__inv_kw_args': None,\n",
       " 'transformer__inverse_func': None,\n",
       " 'transformer__kw_args': None,\n",
       " 'transformer__pass_y': False,\n",
       " 'transformer__validate': True}"
      ]
     },
     "execution_count": 272,
     "metadata": {},
     "output_type": "execute_result"
    }
   ],
   "source": [
    "rank_pipelines(df_select3, 1, \"PRC\", \"select\")[\"Params\"]"
   ]
  },
  {
   "cell_type": "code",
   "execution_count": 283,
   "metadata": {
    "collapsed": false
   },
   "outputs": [
    {
     "name": "stderr",
     "output_type": "stream",
     "text": [
      "C:\\ProgramData\\Anaconda3\\lib\\site-packages\\ipykernel\\__main__.py:2: SettingWithCopyWarning: \n",
      "A value is trying to be set on a copy of a slice from a DataFrame.\n",
      "Try using .loc[row_indexer,col_indexer] = value instead\n",
      "\n",
      "See the caveats in the documentation: http://pandas.pydata.org/pandas-docs/stable/indexing.html#indexing-view-versus-copy\n",
      "  from ipykernel import kernelapp as app\n",
      "C:\\ProgramData\\Anaconda3\\lib\\site-packages\\ipykernel\\__main__.py:4: SettingWithCopyWarning: \n",
      "A value is trying to be set on a copy of a slice from a DataFrame.\n",
      "Try using .loc[row_indexer,col_indexer] = value instead\n",
      "\n",
      "See the caveats in the documentation: http://pandas.pydata.org/pandas-docs/stable/indexing.html#indexing-view-versus-copy\n",
      "C:\\ProgramData\\Anaconda3\\lib\\site-packages\\ipykernel\\__main__.py:6: SettingWithCopyWarning: \n",
      "A value is trying to be set on a copy of a slice from a DataFrame.\n",
      "Try using .loc[row_indexer,col_indexer] = value instead\n",
      "\n",
      "See the caveats in the documentation: http://pandas.pydata.org/pandas-docs/stable/indexing.html#indexing-view-versus-copy\n"
     ]
    }
   ],
   "source": [
    "best_pipeline = rank_pipelines(df_select3, 1, \"PRC\", \"select\")"
   ]
  },
  {
   "cell_type": "markdown",
   "metadata": {},
   "source": [
    "Pipeline Evaluation"
   ]
  },
  {
   "cell_type": "markdown",
   "metadata": {},
   "source": [
    "Efficiency"
   ]
  },
  {
   "cell_type": "markdown",
   "metadata": {},
   "source": [
    "Robustness"
   ]
  },
  {
   "cell_type": "code",
   "execution_count": 277,
   "metadata": {
    "collapsed": true
   },
   "outputs": [],
   "source": [
    "index=[\"People\", \"Companies\", \"Funding Rounds\", \"Acquisitions\", \"IPOs\"]\n",
    "\n",
    "sliced = pd.DataFrame({\"Counts\":[216146, 179351,49131,8882,790]}, index=index)\n",
    "original = pd.DataFrame({\"Counts\": [226709, 196553,52928,9562,1259]},index=index)\n",
    "\n",
    "sliced[\"Method\"] = \"Slice\"\n",
    "original[\"Method\"] = \"Original\"\n",
    "counts = pd.concat([sliced, original], axis=0)\n",
    " "
   ]
  },
  {
   "cell_type": "code",
   "execution_count": 280,
   "metadata": {
    "collapsed": false
   },
   "outputs": [
    {
     "data": {
      "image/png": "[encoded data removed]",
      "text/plain": [
       "<matplotlib.figure.Figure at 0x1f394e996a0>"
      ]
     },
     "metadata": {},
     "output_type": "display_data"
    }
   ],
   "source": [
    "f = plt.figure(figsize=(9,4))\n",
    "ax = sns.barplot(x=counts.index, y=counts[\"Counts\"], hue=counts[\"Method\"], **outline_bars)\n",
    "auto_label(ax, fmt='{:,.0f}')\n",
    "ax.set_xlabel(\"Relations\")\n",
    "ax.set_ylabel(\"Records\")\n",
    "plt.tight_layout()\n",
    "f.savefig(save_path+\"2013_slice_comparison.pdf\", bbox_inches=\"tight\")"
   ]
  },
  {
   "cell_type": "code",
   "execution_count": 184,
   "metadata": {
    "collapsed": false
   },
   "outputs": [],
   "source": [
    "#constants\n",
    "input_path = path+\"analysis/input/master.db\"\n",
    "feature_config = path+\"analysis/config/master_feature.sql\"\n",
    "output_folder = path+\"analysis/output/autoVC/17/\"\n",
    "slice_output_pickle = output_folder+\"output.pkl\""
   ]
  },
  {
   "cell_type": "code",
   "execution_count": 1130,
   "metadata": {
    "collapsed": false
   },
   "outputs": [
    {
     "name": "stdout",
     "output_type": "stream",
     "text": [
      "logManager - INFO - prepare_dataset | Started\n",
      "logManager - INFO - get_slice | Started\n",
      "logManager - INFO - get_slice | Passed | 0.32\n",
      "logManager - INFO - prepare_dataset | Passed | 9.92\n",
      "logManager - INFO - add_stages | Started\n",
      "logManager - INFO - add_stages | Passed | 2.83\n",
      "logManager - INFO - prepare_dataset | Started\n",
      "logManager - INFO - get_slice | Started\n",
      "logManager - INFO - get_slice | Passed | 0.26\n",
      "logManager - INFO - prepare_dataset | Passed | 14.38\n",
      "logManager - INFO - add_stages | Started\n",
      "logManager - INFO - add_stages | Passed | 5.35\n",
      "logManager - INFO - prepare_dataset | Started\n",
      "logManager - INFO - get_slice | Started\n",
      "logManager - INFO - get_slice | Passed | 0.31\n",
      "logManager - INFO - prepare_dataset | Passed | 22.37\n",
      "logManager - INFO - add_stages | Started\n",
      "logManager - INFO - add_stages | Passed | 22.08\n",
      "logManager - INFO - prepare_dataset | Started\n",
      "logManager - INFO - get_slice | Started\n",
      "logManager - INFO - get_slice | Passed | 0.35\n",
      "logManager - INFO - prepare_dataset | Passed | 31.31\n",
      "logManager - INFO - add_stages | Started\n",
      "logManager - INFO - add_stages | Passed | 30.63\n",
      "logManager - INFO - prepare_dataset | Started\n",
      "logManager - INFO - get_slice | Started\n",
      "logManager - INFO - get_slice | Passed | 0.45\n",
      "logManager - INFO - prepare_dataset | Passed | 42.69\n",
      "logManager - INFO - add_stages | Started\n",
      "logManager - INFO - add_stages | Passed | 79.22\n"
     ]
    }
   ],
   "source": [
    "slices = [date(2012+x, 4, 1) for x in range(5)]\n",
    "slice_counts = pd.DataFrame()\n",
    "for slice_date in slices:\n",
    "    df = vc.prepare_dataset(input_path, slice_date, feature_config, \"feature\", output_folder, alt=True)\n",
    "    df = vc.add_stages(df)\n",
    "    temp = pd.DataFrame()\n",
    "    temp[\"id\"] = df[\"keys_company_name_id\"]\n",
    "    temp[\"stage\"] = df[\"keys_company_stage\"]\n",
    "    temp[\"group\"] = df[\"keys_company_stage_group\"]\n",
    "    ages = df['confidence_context_broader_company_age_number']\n",
    "    age_cutoff = ages[temp[\"stage\"] == \"Series D+\"].quantile(0.75)\n",
    "    temp[\"age_cutoff\"] = np.where(ages <= age_cutoff, \"Included\", \"Excluded\")\n",
    "    temp[\"date\"] = slice_date\n",
    "    slice_counts = pd.concat([temp, slice_counts], axis=0, ignore_index=True)\n",
    "    slice_counts.to_pickle(output_pickle)"
   ]
  },
  {
   "cell_type": "code",
   "execution_count": 185,
   "metadata": {
    "collapsed": false
   },
   "outputs": [],
   "source": [
    "slice_counts= pd.read_pickle(slice_output_pickle)"
   ]
  },
  {
   "cell_type": "code",
   "execution_count": 186,
   "metadata": {
    "collapsed": false
   },
   "outputs": [
    {
     "data": {
      "text/plain": [
       "['id', 'stage', 'group', 'age_cutoff', 'date']"
      ]
     },
     "execution_count": 186,
     "metadata": {},
     "output_type": "execute_result"
    }
   ],
   "source": [
    "list(slice_counts)"
   ]
  },
  {
   "cell_type": "code",
   "execution_count": 187,
   "metadata": {
    "collapsed": false
   },
   "outputs": [],
   "source": [
    "slice_counts[\"Slice\"] = slice_counts[\"date\"].apply(lambda x: x.year)"
   ]
  },
  {
   "cell_type": "code",
   "execution_count": 189,
   "metadata": {
    "collapsed": false
   },
   "outputs": [
    {
     "data": {
      "image/png": "[encoded data removed]",
      "text/plain": [
       "<matplotlib.figure.Figure at 0x1f3da92a0b8>"
      ]
     },
     "metadata": {},
     "output_type": "display_data"
    }
   ],
   "source": [
    "f = plt.figure()\n",
    "order_1 = [\"Pre-Seed\", \"Seed\", \"Series A\", \"Series B\", \"Series C\", \"Series D+\", \"IPO\", \"Acquired\", \"Closed\", \"Other\"]\n",
    "order_2 = [2012, 2013, 2014, 2015, 2016]\n",
    "ax = sns.countplot(x=\"stage\", hue=\"Slice\", order=order_1, hue_order=order_2, data=slice_counts, **outline_bars)\n",
    "#auto_label(ax, fmt='{:,.0f}')\n",
    "plt.xticks(rotation=30)\n",
    "ax.set_yticklabels([\"{:,.0f}\".format(ytick) for ytick in ax.get_yticks().tolist()])\n",
    "ax.set_xlabel(\"Developmental Stage\")\n",
    "ax.set_ylabel(\"Companies\")\n",
    "plt.tight_layout()\n",
    "#f.savefig(save_path+\"slice_counts_over_time.pdf\", bbox_inches=\"tight\")"
   ]
  },
  {
   "cell_type": "markdown",
   "metadata": {},
   "source": [
    "Predictive Power"
   ]
  },
  {
   "cell_type": "code",
   "execution_count": 5,
   "metadata": {
    "collapsed": true
   },
   "outputs": [],
   "source": [
    "#constants\n",
    "input_path = path+\"analysis/input/master.db\"\n",
    "feature_config = path+\"analysis/config/master_feature.sql\"\n",
    "label_config = path+\"analysis/config/master_label.sql\"\n",
    "merge_config = path+\"analysis/config/master_merge.sql\"\n",
    "output_folder = path+\"analysis/output/autoVC/17/\"\n",
    "merge_output_pickle = output_folder+\"merge_output.pkl\""
   ]
  },
  {
   "cell_type": "code",
   "execution_count": 6,
   "metadata": {
    "collapsed": true
   },
   "outputs": [],
   "source": [
    "features_stage_info = dict(\n",
    "    Age = 'confidence_context_broader_company_age_number',\n",
    "    FundingRounds = 'confidence_validation_funding_rounds_number',\n",
    "    FundingRaised = 'confidence_validation_funding_raised_value_total_number',\n",
    "    SeriesA = 'confidence_validation_funding_round_codes_list_a',\n",
    "    SeriesB = 'confidence_validation_funding_round_codes_list_b',\n",
    "    SeriesC = 'confidence_validation_funding_round_codes_list_c',\n",
    "    SeriesD = 'confidence_validation_funding_round_codes_list_d',\n",
    "    SeriesE = 'confidence_validation_funding_round_codes_list_e',\n",
    "    SeriesF = 'confidence_validation_funding_round_codes_list_f',\n",
    "    SeriesG = 'confidence_validation_funding_round_codes_list_g',\n",
    "    SeriesH = 'confidence_validation_funding_round_codes_list_h',\n",
    "    Closed = \"keys_company_status_closed_bool\",\n",
    "    Acquired = \"keys_company_status_acquired_bool\",\n",
    "    IPO = \"keys_company_status_ipo_bool\"\n",
    ")\n",
    "\n",
    "label_stage_info = dict(\n",
    "    Age = 'outcome_age_number',\n",
    "    FundingRounds = 'outcome_funding_rounds_number',\n",
    "    FundingRaised = 'outcome_funding_raised_value_total_number',\n",
    "    SeriesA = 'outcome_funding_round_codes_list_a',\n",
    "    SeriesB = 'outcome_funding_round_codes_list_b',\n",
    "    SeriesC = 'outcome_funding_round_codes_list_c',\n",
    "    SeriesD = 'outcome_funding_round_codes_list_d',\n",
    "    SeriesE = 'outcome_funding_round_codes_list_e',\n",
    "    SeriesF = 'outcome_funding_round_codes_list_f',\n",
    "    SeriesG = 'outcome_funding_round_codes_list_g',\n",
    "    SeriesH = 'outcome_funding_round_codes_list_h',\n",
    "    Closed = \"outcome_closed_bool\",\n",
    "    Acquired = \"outcome_acquired_bool\",\n",
    "    IPO = \"outcome_ipo_bool\"\n",
    ")"
   ]
  },
  {
   "cell_type": "code",
   "execution_count": 18,
   "metadata": {
    "collapsed": false
   },
   "outputs": [
    {
     "name": "stdout",
     "output_type": "stream",
     "text": [
      "logManager - INFO - prepare_dataset | Started\n",
      "logManager - INFO - get_slice | Started\n",
      "logManager - INFO - get_slice | Passed | 0.18\n",
      "logManager - INFO - prepare_dataset | Passed | 0.19\n",
      "logManager - INFO - prepare_dataset | Started\n",
      "logManager - INFO - get_slice | Started\n",
      "logManager - INFO - get_slice | Passed | 0.14\n",
      "logManager - INFO - flatten_file | Started\n",
      "logManager - INFO - flatten | Started\n",
      "logManager - INFO - flatten | Passed | 6.63\n",
      "dbLoader - INFO - C:/Users/mark/Documents/GitHub/honours/dev/package/analysis/output/autoVC/17/2012-04-01_label_raw.csv | Already deleted\n",
      "dbLoader - INFO - label.csv | Export started\n",
      "dbLoader - INFO - label.csv | Export successful\n",
      "logManager - INFO - flatten_file | Passed | 8.63\n",
      "logManager - INFO - clean_file | Started\n",
      "logManager - INFO - read | Started\n",
      "logManager - INFO - read | Passed | 0.55\n",
      "logManager - INFO - clean | Started\n",
      "logManager - INFO - clean | Passed | 31.62\n",
      "logManager - INFO - clean_file | Passed | 37.43\n",
      "logManager - INFO - prepare_dataset | Passed | 46.21\n",
      "logManager - INFO - merge_datasets | Started\n",
      "logManager - INFO - load_file | Started\n",
      "logManager - INFO - load_file | Passed | 77.48\n",
      "logManager - INFO - load_file | Started\n",
      "logManager - INFO - load_file | Passed | 9.11\n",
      "logManager - INFO - merge | Started\n",
      "logManager - INFO - merge | Passed | 6.02\n",
      "dbLoader - INFO - C:/Users/mark/Documents/GitHub/honours/dev/package/analysis/output/autoVC/17/2012-04-01_2012-04-01.csv | Already deleted\n",
      "dbLoader - INFO - merge.csv | Export started\n",
      "dbLoader - INFO - merge.csv | Export successful\n",
      "logManager - INFO - merge_datasets | Passed | 118.73\n",
      "logManager - INFO - export_dataframe | Started\n",
      "logManager - INFO - export_dataframe | Passed | 31.35\n",
      "logManager - INFO - add_stages | Started\n",
      "logManager - INFO - add_stages | Passed | 3.35\n",
      "logManager - INFO - add_stages | Started\n",
      "logManager - INFO - add_stages | Passed | 2.98\n",
      "logManager - INFO - apply_constraints | Started\n",
      "logManager - INFO - apply_constraints | Passed | 1.45\n",
      "logManager - INFO - make_label | Started\n",
      "Feature: 1.0    30906\n",
      "2.0     6339\n",
      "3.0     2484\n",
      "4.0     1677\n",
      "5.0      910\n",
      "6.0      617\n",
      "Name: keys_company_stage_number, dtype: int64\n",
      "Label:  1.0    30896\n",
      " 2.0     6336\n",
      " 3.0     2484\n",
      " 4.0     1676\n",
      " 5.0      909\n",
      " 6.0      617\n",
      " 8.0        3\n",
      "-1.0        1\n",
      "Name: outcome_stage_number, dtype: int64\n",
      "Merge: 0    42926\n",
      "1        7\n",
      "Name: outcome_extra_stage_bool, dtype: int64\n",
      "logManager - INFO - make_label | Passed | 0.52\n",
      "logManager - INFO - prepare_dataset | Started\n",
      "logManager - INFO - get_slice | Started\n",
      "logManager - INFO - get_slice | Passed | 0.20\n",
      "logManager - INFO - prepare_dataset | Passed | 0.21\n",
      "logManager - INFO - prepare_dataset | Started\n",
      "logManager - INFO - get_slice | Started\n",
      "logManager - INFO - get_slice | Passed | 0.21\n",
      "logManager - INFO - prepare_dataset | Passed | 0.22\n",
      "logManager - INFO - merge_datasets | Started\n",
      "logManager - INFO - merge_datasets | Passed | 0.00\n",
      "logManager - INFO - export_dataframe | Started\n",
      "logManager - INFO - export_dataframe | Passed | 26.57\n",
      "logManager - INFO - add_stages | Started\n",
      "logManager - INFO - add_stages | Passed | 2.00\n",
      "logManager - INFO - add_stages | Started\n",
      "logManager - INFO - add_stages | Passed | 2.03\n",
      "logManager - INFO - apply_constraints | Started\n",
      "logManager - INFO - apply_constraints | Passed | 1.23\n",
      "logManager - INFO - make_label | Started\n",
      "Feature: 1.0    30911\n",
      "2.0     6342\n",
      "3.0     2485\n",
      "4.0     1679\n",
      "5.0      910\n",
      "6.0      617\n",
      "Name: keys_company_stage_number, dtype: int64\n",
      "Label:  1.0    29852\n",
      " 2.0     6359\n",
      " 3.0     2463\n",
      " 4.0     1746\n",
      " 5.0      964\n",
      " 6.0      697\n",
      " 8.0      461\n",
      "-1.0      386\n",
      " 7.0        5\n",
      "Name: outcome_stage_number, dtype: int64\n",
      "Merge: 0    41035\n",
      "1     1909\n",
      "Name: outcome_extra_stage_bool, dtype: int64\n",
      "logManager - INFO - make_label | Passed | 0.31\n",
      "logManager - INFO - prepare_dataset | Started\n",
      "logManager - INFO - get_slice | Started\n",
      "logManager - INFO - get_slice | Passed | 0.18\n",
      "logManager - INFO - prepare_dataset | Passed | 0.19\n",
      "logManager - INFO - prepare_dataset | Started\n",
      "logManager - INFO - get_slice | Started\n",
      "logManager - INFO - get_slice | Passed | 0.22\n",
      "logManager - INFO - prepare_dataset | Passed | 0.22\n",
      "logManager - INFO - merge_datasets | Started\n",
      "logManager - INFO - merge_datasets | Passed | 0.00\n",
      "logManager - INFO - export_dataframe | Started\n",
      "logManager - INFO - export_dataframe | Passed | 28.78\n",
      "logManager - INFO - add_stages | Started\n",
      "logManager - INFO - add_stages | Passed | 2.07\n",
      "logManager - INFO - add_stages | Started\n",
      "logManager - INFO - add_stages | Passed | 2.02\n",
      "logManager - INFO - apply_constraints | Started\n",
      "logManager - INFO - apply_constraints | Passed | 1.09\n",
      "logManager - INFO - make_label | Started\n",
      "Feature: 1.0    30924\n",
      "2.0     6349\n",
      "3.0     2488\n",
      "4.0     1680\n",
      "5.0      912\n",
      "6.0      617\n",
      "Name: keys_company_stage_number, dtype: int64\n",
      "Label:  1.0    28339\n",
      " 2.0     6623\n",
      " 3.0     2332\n",
      " 4.0     1759\n",
      " 8.0     1195\n",
      " 5.0     1026\n",
      "-1.0      816\n",
      " 6.0      803\n",
      " 7.0       54\n",
      "Name: outcome_stage_number, dtype: int64\n",
      "Merge: 0    38445\n",
      "1     4525\n",
      "Name: outcome_extra_stage_bool, dtype: int64\n",
      "logManager - INFO - make_label | Passed | 0.30\n",
      "logManager - INFO - prepare_dataset | Started\n",
      "logManager - INFO - get_slice | Started\n",
      "logManager - INFO - get_slice | Passed | 0.19\n",
      "logManager - INFO - prepare_dataset | Passed | 0.20\n",
      "logManager - INFO - prepare_dataset | Started\n",
      "logManager - INFO - get_slice | Started\n",
      "logManager - INFO - get_slice | Passed | 0.19\n",
      "logManager - INFO - prepare_dataset | Passed | 0.20\n",
      "logManager - INFO - merge_datasets | Started\n",
      "logManager - INFO - merge_datasets | Passed | 0.00\n",
      "logManager - INFO - export_dataframe | Started\n",
      "logManager - INFO - export_dataframe | Passed | 27.34\n",
      "logManager - INFO - add_stages | Started\n",
      "logManager - INFO - add_stages | Passed | 2.06\n",
      "logManager - INFO - add_stages | Started\n",
      "logManager - INFO - add_stages | Passed | 2.41\n",
      "logManager - INFO - apply_constraints | Started\n",
      "logManager - INFO - apply_constraints | Passed | 1.25\n",
      "logManager - INFO - make_label | Started\n",
      "Feature: 1.0    31064\n",
      "2.0     6203\n",
      "3.0     2466\n",
      "4.0     1645\n",
      "5.0      876\n",
      "6.0      559\n",
      "Name: keys_company_stage_number, dtype: int64\n",
      "Label:  1.0    26555\n",
      " 2.0     6558\n",
      " 3.0     2189\n",
      " 8.0     1891\n",
      " 4.0     1668\n",
      " 5.0      938\n",
      "-1.0      875\n",
      " 6.0      759\n",
      " 7.0      376\n",
      "Name: outcome_stage_number, dtype: int64\n",
      "Merge: 0    36456\n",
      "1     6357\n",
      "Name: outcome_extra_stage_bool, dtype: int64\n",
      "logManager - INFO - make_label | Passed | 0.35\n",
      "logManager - INFO - prepare_dataset | Started\n",
      "logManager - INFO - get_slice | Started\n",
      "logManager - INFO - get_slice | Passed | 0.16\n",
      "logManager - INFO - prepare_dataset | Passed | 0.16\n",
      "logManager - INFO - prepare_dataset | Started\n",
      "logManager - INFO - get_slice | Started\n",
      "logManager - INFO - get_slice | Passed | 0.18\n",
      "logManager - INFO - prepare_dataset | Passed | 0.18\n",
      "logManager - INFO - merge_datasets | Started\n",
      "logManager - INFO - merge_datasets | Passed | 0.00\n",
      "logManager - INFO - export_dataframe | Started\n",
      "logManager - INFO - export_dataframe | Passed | 29.12\n",
      "logManager - INFO - add_stages | Started\n",
      "logManager - INFO - add_stages | Passed | 3.04\n",
      "logManager - INFO - add_stages | Started\n",
      "logManager - INFO - add_stages | Passed | 2.30\n",
      "logManager - INFO - apply_constraints | Started\n",
      "logManager - INFO - apply_constraints | Passed | 1.39\n",
      "logManager - INFO - make_label | Started\n",
      "Feature: 1.0    31236\n",
      "2.0     6437\n",
      "3.0     2530\n",
      "4.0     1705\n",
      "5.0      924\n",
      "6.0      625\n",
      "Name: keys_company_stage_number, dtype: int64\n",
      "Label:  1.0    26094\n",
      " 2.0     6574\n",
      " 8.0     2651\n",
      " 3.0     2121\n",
      " 4.0     1661\n",
      " 5.0     1017\n",
      "-1.0      901\n",
      " 6.0      826\n",
      " 7.0      445\n",
      "Name: outcome_stage_number, dtype: int64\n",
      "Merge: 0    35828\n",
      "1     7629\n",
      "Name: outcome_extra_stage_bool, dtype: int64\n",
      "logManager - INFO - make_label | Passed | 0.38\n",
      "logManager - INFO - prepare_dataset | Started\n",
      "logManager - INFO - get_slice | Started\n",
      "logManager - INFO - get_slice | Passed | 0.21\n",
      "logManager - INFO - prepare_dataset | Passed | 0.22\n",
      "logManager - INFO - prepare_dataset | Started\n",
      "logManager - INFO - get_slice | Started\n",
      "logManager - INFO - get_slice | Passed | 0.19\n",
      "logManager - INFO - prepare_dataset | Passed | 0.19\n",
      "logManager - INFO - merge_datasets | Started\n",
      "logManager - INFO - load_file | Started\n",
      "logManager - INFO - load_file | Passed | 124.91\n",
      "logManager - INFO - load_file | Started\n",
      "logManager - INFO - load_file | Passed | 16.18\n",
      "logManager - INFO - merge | Started\n",
      "logManager - INFO - merge | Passed | 8.57\n",
      "dbLoader - INFO - C:/Users/mark/Documents/GitHub/honours/dev/package/analysis/output/autoVC/17/2013-04-01_2013-04-01.csv | Already deleted\n",
      "dbLoader - INFO - merge.csv | Export started\n",
      "dbLoader - INFO - merge.csv | Export successful\n",
      "logManager - INFO - merge_datasets | Passed | 185.30\n",
      "logManager - INFO - export_dataframe | Started\n",
      "logManager - INFO - export_dataframe | Passed | 44.21\n",
      "logManager - INFO - add_stages | Started\n",
      "logManager - INFO - add_stages | Passed | 3.43\n",
      "logManager - INFO - add_stages | Started\n",
      "logManager - INFO - add_stages | Passed | 3.83\n",
      "logManager - INFO - apply_constraints | Started\n",
      "logManager - INFO - apply_constraints | Passed | 2.20\n",
      "logManager - INFO - make_label | Started\n",
      "Feature: 1.0    40955\n",
      "2.0     8284\n",
      "3.0     2823\n",
      "4.0     1827\n",
      "5.0      962\n",
      "6.0      644\n",
      "Name: keys_company_stage_number, dtype: int64\n",
      "Label:  1.0    40936\n",
      " 2.0     8278\n",
      " 3.0     2822\n",
      " 4.0     1825\n",
      " 5.0      962\n",
      " 6.0      644\n",
      " 8.0        7\n",
      "-1.0        2\n",
      "Name: outcome_stage_number, dtype: int64\n",
      "Merge: 0    55478\n",
      "1       17\n",
      "Name: outcome_extra_stage_bool, dtype: int64\n",
      "logManager - INFO - make_label | Passed | 1.03\n",
      "logManager - INFO - prepare_dataset | Started\n",
      "logManager - INFO - get_slice | Started\n",
      "logManager - INFO - get_slice | Passed | 0.22\n",
      "logManager - INFO - prepare_dataset | Passed | 0.23\n",
      "logManager - INFO - prepare_dataset | Started\n",
      "logManager - INFO - get_slice | Started\n",
      "logManager - INFO - get_slice | Passed | 0.21\n",
      "logManager - INFO - prepare_dataset | Passed | 0.22\n",
      "logManager - INFO - merge_datasets | Started\n",
      "logManager - INFO - merge_datasets | Passed | 0.00\n",
      "logManager - INFO - export_dataframe | Started\n",
      "logManager - INFO - export_dataframe | Passed | 40.77\n",
      "logManager - INFO - add_stages | Started\n",
      "logManager - INFO - add_stages | Passed | 3.13\n",
      "logManager - INFO - add_stages | Started\n",
      "logManager - INFO - add_stages | Passed | 3.48\n",
      "logManager - INFO - apply_constraints | Started\n",
      "logManager - INFO - apply_constraints | Passed | 2.48\n",
      "logManager - INFO - make_label | Started\n",
      "Feature: 1.0    40948\n",
      "2.0     8297\n",
      "3.0     2826\n",
      "4.0     1828\n",
      "5.0      966\n",
      "6.0      644\n",
      "Name: keys_company_stage_number, dtype: int64\n",
      "Label:  1.0    37766\n",
      " 2.0     9235\n",
      " 3.0     2854\n",
      " 4.0     1950\n",
      " 5.0     1054\n",
      " 8.0      795\n",
      " 6.0      763\n",
      "-1.0      566\n",
      " 7.0       47\n",
      "Name: outcome_stage_number, dtype: int64\n",
      "Merge: 0    51183\n",
      "1     4326\n",
      "Name: outcome_extra_stage_bool, dtype: int64\n",
      "logManager - INFO - make_label | Passed | 0.46\n",
      "logManager - INFO - prepare_dataset | Started\n",
      "logManager - INFO - get_slice | Started\n",
      "logManager - INFO - get_slice | Passed | 0.26\n",
      "logManager - INFO - prepare_dataset | Passed | 0.26\n",
      "logManager - INFO - prepare_dataset | Started\n",
      "logManager - INFO - get_slice | Started\n",
      "logManager - INFO - get_slice | Passed | 0.19\n",
      "logManager - INFO - prepare_dataset | Passed | 0.20\n",
      "logManager - INFO - merge_datasets | Started\n",
      "logManager - INFO - merge_datasets | Passed | 0.01\n",
      "logManager - INFO - export_dataframe | Started\n",
      "logManager - INFO - export_dataframe | Passed | 47.80\n",
      "logManager - INFO - add_stages | Started\n",
      "logManager - INFO - add_stages | Passed | 3.63\n",
      "logManager - INFO - add_stages | Started\n",
      "logManager - INFO - add_stages | Passed | 3.25\n",
      "logManager - INFO - apply_constraints | Started\n",
      "logManager - INFO - apply_constraints | Passed | 1.92\n",
      "logManager - INFO - make_label | Started\n",
      "Feature: 1.0    40999\n",
      "2.0     8354\n",
      "3.0     2846\n",
      "4.0     1839\n",
      "5.0      974\n",
      "6.0      649\n",
      "Name: keys_company_stage_number, dtype: int64\n",
      "Label:  1.0    36346\n",
      " 2.0     9498\n",
      " 3.0     2856\n",
      " 4.0     1974\n",
      " 8.0     1675\n",
      " 5.0     1049\n",
      " 6.0      795\n",
      "-1.0      648\n",
      " 7.0      376\n",
      "Name: outcome_stage_number, dtype: int64\n",
      "Merge: 0    48359\n",
      "1     7302\n",
      "Name: outcome_extra_stage_bool, dtype: int64\n",
      "logManager - INFO - make_label | Passed | 0.90\n",
      "logManager - INFO - prepare_dataset | Started\n",
      "logManager - INFO - get_slice | Started\n",
      "logManager - INFO - get_slice | Passed | 0.33\n",
      "logManager - INFO - prepare_dataset | Passed | 0.34\n",
      "logManager - INFO - prepare_dataset | Started\n",
      "logManager - INFO - get_slice | Started\n",
      "logManager - INFO - get_slice | Passed | 0.27\n",
      "logManager - INFO - prepare_dataset | Passed | 0.28\n",
      "logManager - INFO - merge_datasets | Started\n",
      "logManager - INFO - merge_datasets | Passed | 0.00\n",
      "logManager - INFO - export_dataframe | Started\n",
      "logManager - INFO - export_dataframe | Passed | 47.26\n",
      "logManager - INFO - add_stages | Started\n",
      "logManager - INFO - add_stages | Passed | 3.76\n",
      "logManager - INFO - add_stages | Started\n",
      "logManager - INFO - add_stages | Passed | 3.52\n",
      "logManager - INFO - apply_constraints | Started\n",
      "logManager - INFO - apply_constraints | Passed | 1.90\n",
      "logManager - INFO - make_label | Started\n",
      "Feature: 1.0    41155\n",
      "2.0     8420\n",
      "3.0     2883\n",
      "4.0     1852\n",
      "5.0      982\n",
      "6.0      653\n",
      "Name: keys_company_stage_number, dtype: int64\n",
      "Label:  1.0    34232\n",
      " 2.0     9362\n",
      " 3.0     2754\n",
      " 8.0     2526\n",
      " 4.0     1966\n",
      " 5.0     1129\n",
      " 6.0      843\n",
      "-1.0      697\n",
      " 7.0      432\n",
      "Name: outcome_stage_number, dtype: int64\n",
      "Merge: 0    46966\n",
      "1     8979\n",
      "Name: outcome_extra_stage_bool, dtype: int64\n",
      "logManager - INFO - make_label | Passed | 0.52\n",
      "logManager - INFO - prepare_dataset | Started\n",
      "logManager - INFO - get_slice | Started\n",
      "logManager - INFO - get_slice | Passed | 0.37\n",
      "logManager - INFO - prepare_dataset | Passed | 0.38\n",
      "logManager - INFO - prepare_dataset | Started\n",
      "logManager - INFO - get_slice | Started\n",
      "logManager - INFO - get_slice | Passed | 0.23\n",
      "logManager - INFO - prepare_dataset | Passed | 0.24\n",
      "logManager - INFO - merge_datasets | Started\n",
      "logManager - INFO - load_file | Started\n",
      "logManager - INFO - load_file | Passed | 258.23\n",
      "logManager - INFO - load_file | Started\n",
      "logManager - INFO - load_file | Passed | 34.74\n",
      "logManager - INFO - merge | Started\n",
      "logManager - INFO - merge | Passed | 17.69\n",
      "dbLoader - INFO - C:/Users/mark/Documents/GitHub/honours/dev/package/analysis/output/autoVC/17/2014-04-01_2014-04-01.csv | Already deleted\n",
      "dbLoader - INFO - merge.csv | Export started\n",
      "dbLoader - INFO - merge.csv | Export successful\n",
      "logManager - INFO - merge_datasets | Passed | 379.31\n",
      "logManager - INFO - export_dataframe | Started\n",
      "logManager - INFO - export_dataframe | Passed | 78.28\n",
      "logManager - INFO - add_stages | Started\n",
      "logManager - INFO - add_stages | Passed | 11.56\n",
      "logManager - INFO - add_stages | Started\n",
      "logManager - INFO - add_stages | Passed | 12.79\n",
      "logManager - INFO - apply_constraints | Started\n",
      "logManager - INFO - apply_constraints | Passed | 8.80\n",
      "logManager - INFO - make_label | Started\n",
      "Feature: 1.0    59411\n",
      "2.0    16993\n",
      "3.0     3776\n",
      "4.0     2289\n",
      "5.0     1154\n",
      "6.0      806\n",
      "Name: keys_company_stage_number, dtype: int64\n",
      "Label:  1.0    59370\n",
      " 2.0    16967\n",
      " 3.0     3774\n",
      " 4.0     2286\n",
      " 5.0     1150\n",
      " 6.0      806\n",
      " 8.0       16\n",
      "-1.0        3\n",
      "Name: outcome_stage_number, dtype: int64\n",
      "Merge: 0    84388\n",
      "1       41\n",
      "Name: outcome_extra_stage_bool, dtype: int64\n",
      "logManager - INFO - make_label | Passed | 1.92\n",
      "logManager - INFO - prepare_dataset | Started\n",
      "logManager - INFO - get_slice | Started\n",
      "logManager - INFO - get_slice | Passed | 0.43\n",
      "logManager - INFO - prepare_dataset | Passed | 0.44\n",
      "logManager - INFO - prepare_dataset | Started\n",
      "logManager - INFO - get_slice | Started\n",
      "logManager - INFO - get_slice | Passed | 0.27\n",
      "logManager - INFO - prepare_dataset | Passed | 0.28\n",
      "logManager - INFO - merge_datasets | Started\n",
      "logManager - INFO - merge_datasets | Passed | 0.01\n",
      "logManager - INFO - export_dataframe | Started\n",
      "logManager - INFO - export_dataframe | Passed | 90.34\n",
      "logManager - INFO - add_stages | Started\n",
      "logManager - INFO - add_stages | Passed | 10.20\n",
      "logManager - INFO - add_stages | Started\n",
      "logManager - INFO - add_stages | Passed | 10.42\n",
      "logManager - INFO - apply_constraints | Started\n",
      "logManager - INFO - apply_constraints | Passed | 7.75\n",
      "logManager - INFO - make_label | Started\n",
      "Feature: 1.0    59569\n",
      "2.0    17117\n",
      "3.0     3801\n",
      "4.0     2302\n",
      "5.0     1167\n",
      "6.0      811\n",
      "Name: keys_company_stage_number, dtype: int64\n",
      "Label:  1.0    54930\n",
      " 2.0    18404\n",
      " 3.0     4094\n",
      " 4.0     2486\n",
      " 5.0     1205\n",
      " 8.0     1082\n",
      " 6.0      866\n",
      " 7.0      481\n",
      "-1.0      125\n",
      "Name: outcome_stage_number, dtype: int64\n",
      "Merge: 0    78348\n",
      "1     6419\n",
      "Name: outcome_extra_stage_bool, dtype: int64\n",
      "logManager - INFO - make_label | Passed | 1.36\n",
      "logManager - INFO - prepare_dataset | Started\n",
      "logManager - INFO - get_slice | Started\n",
      "logManager - INFO - get_slice | Passed | 0.78\n",
      "logManager - INFO - prepare_dataset | Passed | 0.80\n",
      "logManager - INFO - prepare_dataset | Started\n",
      "logManager - INFO - get_slice | Started\n",
      "logManager - INFO - get_slice | Passed | 0.32\n",
      "logManager - INFO - prepare_dataset | Passed | 0.33\n",
      "logManager - INFO - merge_datasets | Started\n",
      "logManager - INFO - merge_datasets | Passed | 0.00\n",
      "logManager - INFO - export_dataframe | Started\n",
      "logManager - INFO - export_dataframe | Passed | 86.84\n",
      "logManager - INFO - add_stages | Started\n",
      "logManager - INFO - add_stages | Passed | 11.95\n",
      "logManager - INFO - add_stages | Started\n",
      "logManager - INFO - add_stages | Passed | 11.99\n",
      "logManager - INFO - apply_constraints | Started\n",
      "logManager - INFO - apply_constraints | Passed | 8.24\n",
      "logManager - INFO - make_label | Started\n",
      "Feature: 1.0    59652\n",
      "2.0    17276\n",
      "3.0     3835\n",
      "4.0     2321\n",
      "5.0     1176\n",
      "6.0      818\n",
      "Name: keys_company_stage_number, dtype: int64\n",
      "Label:  1.0    53590\n",
      " 2.0    18325\n",
      " 3.0     4155\n",
      " 4.0     2619\n",
      " 8.0     2196\n",
      " 5.0     1390\n",
      " 6.0      952\n",
      " 7.0      575\n",
      "-1.0      206\n",
      "Name: outcome_stage_number, dtype: int64\n",
      "Merge: 0    75174\n",
      "1     9904\n",
      "Name: outcome_extra_stage_bool, dtype: int64\n",
      "logManager - INFO - make_label | Passed | 1.78\n",
      "logManager - INFO - prepare_dataset | Started\n",
      "logManager - INFO - get_slice | Started\n",
      "logManager - INFO - get_slice | Passed | 0.51\n",
      "logManager - INFO - prepare_dataset | Passed | 0.52\n",
      "logManager - INFO - prepare_dataset | Started\n",
      "logManager - INFO - get_slice | Started\n",
      "logManager - INFO - get_slice | Passed | 0.21\n",
      "logManager - INFO - prepare_dataset | Passed | 0.22\n",
      "logManager - INFO - merge_datasets | Started\n",
      "logManager - INFO - load_file | Started\n",
      "logManager - INFO - load_file | Passed | 461.82\n",
      "logManager - INFO - load_file | Started\n",
      "logManager - INFO - load_file | Passed | 74.68\n",
      "logManager - INFO - merge | Started\n",
      "logManager - INFO - merge | Passed | 26.07\n",
      "dbLoader - INFO - C:/Users/mark/Documents/GitHub/honours/dev/package/analysis/output/autoVC/17/2015-04-01_2015-04-01.csv | Already deleted\n",
      "dbLoader - INFO - merge.csv | Export started\n",
      "dbLoader - INFO - merge.csv | Export successful\n",
      "logManager - INFO - merge_datasets | Passed | 664.96\n",
      "logManager - INFO - export_dataframe | Started\n",
      "logManager - INFO - export_dataframe | Passed | 107.90\n",
      "logManager - INFO - add_stages | Started\n",
      "logManager - INFO - add_stages | Passed | 22.93\n",
      "logManager - INFO - add_stages | Started\n",
      "logManager - INFO - add_stages | Passed | 30.64\n",
      "logManager - INFO - apply_constraints | Started\n",
      "logManager - INFO - apply_constraints | Passed | 19.13\n",
      "logManager - INFO - make_label | Started\n",
      "Feature: 1.0    83414\n",
      "2.0    27379\n",
      "3.0     5087\n",
      "4.0     2706\n",
      "5.0     1222\n",
      "6.0      844\n",
      "Name: keys_company_stage_number, dtype: int64\n",
      "Label:  1.0    83031\n",
      " 2.0    27230\n",
      " 3.0     5057\n",
      " 4.0     2686\n",
      " 5.0     1211\n",
      " 6.0      838\n",
      " 8.0       99\n",
      "-1.0       18\n",
      " 7.0        6\n",
      "Name: outcome_stage_number, dtype: int64\n",
      "Merge: 0    120313\n",
      "1       339\n",
      "Name: outcome_extra_stage_bool, dtype: int64\n",
      "logManager - INFO - make_label | Passed | 2.33\n",
      "logManager - INFO - prepare_dataset | Started\n",
      "logManager - INFO - get_slice | Started\n",
      "logManager - INFO - get_slice | Passed | 0.52\n",
      "logManager - INFO - prepare_dataset | Passed | 0.53\n",
      "logManager - INFO - prepare_dataset | Started\n",
      "logManager - INFO - get_slice | Started\n",
      "logManager - INFO - get_slice | Passed | 0.21\n",
      "logManager - INFO - prepare_dataset | Passed | 0.22\n",
      "logManager - INFO - merge_datasets | Started\n",
      "logManager - INFO - merge_datasets | Passed | 0.00\n",
      "logManager - INFO - export_dataframe | Started\n",
      "logManager - INFO - export_dataframe | Passed | 116.62\n",
      "logManager - INFO - add_stages | Started\n",
      "logManager - INFO - add_stages | Passed | 28.90\n",
      "logManager - INFO - add_stages | Started\n",
      "logManager - INFO - add_stages | Passed | 28.77\n",
      "logManager - INFO - apply_constraints | Started\n",
      "logManager - INFO - apply_constraints | Passed | 23.57\n",
      "logManager - INFO - make_label | Started\n",
      "Feature: 1.0    81167\n",
      "2.0    27690\n",
      "3.0     5156\n",
      "4.0     2730\n",
      "5.0     1230\n",
      "6.0      852\n",
      "Name: keys_company_stage_number, dtype: int64\n",
      "Label:  1.0    74333\n",
      " 2.0    28651\n",
      " 3.0     5439\n",
      " 4.0     2955\n",
      " 5.0     1458\n",
      " 8.0     1350\n",
      " 6.0      938\n",
      "-1.0      154\n",
      " 7.0      126\n",
      "Name: outcome_stage_number, dtype: int64\n",
      "Merge: 0    111649\n",
      "1      7176\n",
      "Name: outcome_extra_stage_bool, dtype: int64\n",
      "logManager - INFO - make_label | Passed | 1.81\n",
      "logManager - INFO - prepare_dataset | Started\n",
      "logManager - INFO - get_slice | Started\n",
      "logManager - INFO - get_slice | Passed | 0.53\n",
      "logManager - INFO - prepare_dataset | Passed | 0.55\n",
      "logManager - INFO - prepare_dataset | Started\n",
      "logManager - INFO - get_slice | Started\n",
      "logManager - INFO - get_slice | Passed | 0.22\n",
      "logManager - INFO - prepare_dataset | Passed | 0.23\n",
      "logManager - INFO - merge_datasets | Started\n",
      "logManager - INFO - load_file | Started\n",
      "logManager - INFO - load_file | Passed | 578.24\n",
      "logManager - INFO - load_file | Started\n",
      "logManager - INFO - load_file | Passed | 106.70\n",
      "logManager - INFO - merge | Started\n",
      "logManager - INFO - merge | Passed | 42.05\n",
      "dbLoader - INFO - C:/Users/mark/Documents/GitHub/honours/dev/package/analysis/output/autoVC/17/2016-04-01_2016-04-01.csv | Already deleted\n",
      "dbLoader - INFO - merge.csv | Export started\n",
      "dbLoader - INFO - merge.csv | Export successful\n",
      "logManager - INFO - merge_datasets | Passed | 869.35\n",
      "logManager - INFO - export_dataframe | Started\n",
      "logManager - INFO - export_dataframe | Passed | 151.39\n",
      "logManager - INFO - add_stages | Started\n",
      "logManager - INFO - add_stages | Passed | 54.64\n",
      "logManager - INFO - add_stages | Started\n",
      "logManager - INFO - add_stages | Passed | 49.44\n",
      "logManager - INFO - apply_constraints | Started\n",
      "logManager - INFO - apply_constraints | Passed | 39.30\n",
      "logManager - INFO - make_label | Started\n",
      "Feature: 1.0    106611\n",
      "2.0     36400\n",
      "3.0      6408\n",
      "4.0      3269\n",
      "5.0      1564\n",
      "6.0       977\n",
      "Name: keys_company_stage_number, dtype: int64\n",
      "Label:  1.0    105582\n",
      " 2.0     36038\n",
      " 3.0      6340\n",
      " 4.0      3230\n",
      " 5.0      1544\n",
      " 6.0       973\n",
      " 8.0       230\n",
      "-1.0        41\n",
      " 7.0        13\n",
      "Name: outcome_stage_number, dtype: int64\n",
      "Merge: 0    154304\n",
      "1       925\n",
      "Name: outcome_extra_stage_bool, dtype: int64\n",
      "logManager - INFO - make_label | Passed | 4.59\n"
     ]
    }
   ],
   "source": [
    "from itertools import combinations_with_replacement\n",
    "slices = [date(2012+x, 4, 1) for x in range(5)]\n",
    "merge_counts = pd.DataFrame()\n",
    "for feature_date, label_date in combinations_with_replacement(slices, 2):\n",
    "    feature_clean_path = vc.prepare_dataset(input_path, feature_date, feature_config, \"feature\", output_folder)\n",
    "    label_clean_path = vc.prepare_dataset(input_path, label_date, label_config, \"label\", output_folder)\n",
    "    merge_path = vc.merge_datasets(feature_date, label_date, output_folder, feature_clean_path, label_clean_path, merge_config)\n",
    "    df = dp.export_dataframe(merge_path, \"merge\")\n",
    "    df = vc.add_stages(df, features_stage_info, \"feature\")\n",
    "    df = vc.add_stages(df, label_stage_info, \"label\")\n",
    "    df = vc.apply_constraints(df)\n",
    "    y = vc.make_label(df)\n",
    "    df = df[\"keys_company_name_id\", \"keys_company_uuid_id\",\n",
    "            \"keys_company_stage\", \"outcome_stage\",\n",
    "            \"keys_company_stage_number\", \"outcome_stage_number\", \n",
    "            \"outcome_extra_stage_number\", \"outcome_extra_stage_bool\"]\n",
    "    df[\"feature_date\"] = feature_date\n",
    "    df[\"label_date\"] = label_date\n",
    "    merge_counts = pd.concat([df, merge_counts], axis=0, ignore_index=True)\n",
    "    merge_counts.to_pickle(merge_output_pickle)"
   ]
  },
  {
   "cell_type": "code",
   "execution_count": 137,
   "metadata": {
    "collapsed": false
   },
   "outputs": [],
   "source": [
    "merge_counts= pd.read_pickle(merge_output_pickle)"
   ]
  },
  {
   "cell_type": "code",
   "execution_count": 138,
   "metadata": {
    "collapsed": false
   },
   "outputs": [],
   "source": [
    "merge_counts = merge_counts[[\n",
    "    \"keys_company_name_id\", \"keys_company_uuid_id\",\n",
    "    \"keys_company_stage\", \"outcome_stage\",\n",
    "    \"keys_company_stage_number\", \"outcome_stage_number\", \n",
    "    \"outcome_extra_stage_number\", \"outcome_extra_stage_bool\",\n",
    "    \"feature_date\", \"label_date\"]]"
   ]
  },
  {
   "cell_type": "code",
   "execution_count": 157,
   "metadata": {
    "collapsed": true
   },
   "outputs": [],
   "source": [
    "merge_counts[\"outcome_exit_bool\"] = np.where((merge_counts[\"outcome_stage\"] == \"Acquisition\") | (merge_counts[\"outcome_stage\"] == \"IPO\"), 1, 0)"
   ]
  },
  {
   "cell_type": "code",
   "execution_count": 158,
   "metadata": {
    "collapsed": true
   },
   "outputs": [],
   "source": [
    "merge_counts2 = merge_counts[merge_counts[\"feature_date\"] != merge_counts[\"label_date\"]]"
   ]
  },
  {
   "cell_type": "code",
   "execution_count": 170,
   "metadata": {
    "collapsed": false
   },
   "outputs": [],
   "source": [
    "merge_counts3 = merge_counts2.groupby(['feature_date','keys_company_stage','label_date']).agg({'outcome_extra_stage_bool': lambda x: x.sum() / x.count() * 100})\n",
    "merge_counts3 = merge_counts3.reset_index()\n",
    "merge_counts3[\"forecast_window\"] = merge_counts3[\"label_date\"] - merge_counts3[\"feature_date\"]\n",
    "merge_counts3[\"forecast_window\"] = merge_counts3[\"forecast_window\"].apply(lambda x: x.days // 365).astype(str)"
   ]
  },
  {
   "cell_type": "code",
   "execution_count": 171,
   "metadata": {
    "collapsed": false
   },
   "outputs": [
    {
     "data": {
      "image/png": "[encoded data removed]",
      "text/plain": [
       "<matplotlib.figure.Figure at 0x1f3906aaac8>"
      ]
     },
     "metadata": {},
     "output_type": "display_data"
    }
   ],
   "source": [
    "f = plt.figure()\n",
    "ax = sns.boxplot(data = merge_counts3, x = \"outcome_extra_stage_bool\", y = \"forecast_window\", orient=\"h\")\n",
    "ax.set_xticklabels([\"{:,.0f}%\".format(xtick) for xtick in ax.get_xticks().tolist()])\n",
    "ax.set_xlabel(\"Companies that raised an\\nextra funding round or exited\")\n",
    "ax.set_ylabel(\"Forecast Window\\n(Years)\")\n",
    "plt.tight_layout()\n",
    "f.savefig(save_path+\"outcome_forecast_window.pdf\", bbox_inches=\"tight\")"
   ]
  },
  {
   "cell_type": "code",
   "execution_count": 172,
   "metadata": {
    "collapsed": false
   },
   "outputs": [
    {
     "data": {
      "image/png": "[encoded data removed]",
      "text/plain": [
       "<matplotlib.figure.Figure at 0x1f38f9edb38>"
      ]
     },
     "metadata": {},
     "output_type": "display_data"
    }
   ],
   "source": [
    "f = plt.figure()\n",
    "ax = sns.boxplot(data = merge_counts3, x = \"outcome_extra_stage_bool\", y = \"keys_company_stage\", orient=\"h\")\n",
    "ax.set_xticklabels([\"{:,.0f}%\".format(xtick) for xtick in ax.get_xticks().tolist()])\n",
    "ax.set_xlabel(\"Companies that raised an\\nextra funding round or exited\")\n",
    "ax.set_ylabel(\"Developmental Stage\")\n",
    "plt.tight_layout()\n",
    "#f.savefig(save_path+\"outcome_stage.pdf\", bbox_inches=\"tight\")"
   ]
  },
  {
   "cell_type": "code",
   "execution_count": 284,
   "metadata": {
    "collapsed": false
   },
   "outputs": [
    {
     "name": "stdout",
     "output_type": "stream",
     "text": [
      "Error: Time\n",
      "Error: Imputer\n",
      "Error: Transformer\n",
      "Error: Scaler\n",
      "Error: Extractor\n"
     ]
    }
   ],
   "source": [
    "results = get_results(16, \"evaluate\")"
   ]
  },
  {
   "cell_type": "code",
   "execution_count": 288,
   "metadata": {
    "collapsed": false
   },
   "outputs": [
    {
     "data": {
      "text/plain": [
       "['level_0',\n",
       " 'index',\n",
       " 'CK',\n",
       " 'Classifier',\n",
       " 'F1',\n",
       " 'MCC',\n",
       " 'PRC',\n",
       " 'PRC_Thresholds',\n",
       " 'Params',\n",
       " 'Precision',\n",
       " 'ROC',\n",
       " 'ROC_FPR',\n",
       " 'ROC_TPR',\n",
       " 'ROC_Thresholds',\n",
       " 'Recall',\n",
       " 'Test_Scores',\n",
       " 'Train_Scores',\n",
       " 'Train_Sizes',\n",
       " 'Weights',\n",
       " 'feature_slice',\n",
       " 'label_slice',\n",
       " 'feature_names',\n",
       " 'label_name',\n",
       " 'feature_stage',\n",
       " 'feature_stage_number',\n",
       " 'label_stage',\n",
       " 'label_stage_number',\n",
       " 'outcome_extra_stage_bool',\n",
       " 'rank_select',\n",
       " 'build_identifier',\n",
       " 'log_scores',\n",
       " 'n_jobs',\n",
       " 'verbosity',\n",
       " 'master_path',\n",
       " 'master_end_date',\n",
       " 'master_start_date',\n",
       " 'master_feature_config',\n",
       " 'master_label_config',\n",
       " 'master_merge_config',\n",
       " 'output_folder',\n",
       " 'create_pipelines_flag',\n",
       " 'cv_folds_create',\n",
       " 'time_slices_create',\n",
       " 'max_observations_create',\n",
       " 'load_prev_files_create',\n",
       " 'output_folder_create',\n",
       " 'output_slices_path_create',\n",
       " 'output_log_create',\n",
       " 'algorithms',\n",
       " 'search_iterations',\n",
       " 'select_pipeline_flag',\n",
       " 'pipeline_criteria_select',\n",
       " 'cv_folds_select',\n",
       " 'time_slices_select',\n",
       " 'max_observations_select',\n",
       " 'load_prev_files_select',\n",
       " 'output_folder_select',\n",
       " 'output_slices_path_select',\n",
       " 'output_log_select',\n",
       " 'top_pipelines_select',\n",
       " 'evaluate_pipeline_flag',\n",
       " 'pipeline_criteria_evaluate',\n",
       " 'time_slices_evaluate',\n",
       " 'max_observations_evaluate',\n",
       " 'load_prev_files_evaluate',\n",
       " 'output_folder_evaluate',\n",
       " 'output_slices_path_evaluate',\n",
       " 'output_log_evaluate',\n",
       " 'test_path',\n",
       " 'test_date',\n",
       " 'test_feature_config',\n",
       " 'test_label_config',\n",
       " 'test_merge_config',\n",
       " 'final_merge_config',\n",
       " 'label_date',\n",
       " 'label_date_str',\n",
       " 'feature_date',\n",
       " 'feature_date_str',\n",
       " 'forecast_window',\n",
       " 'forecast_window_months',\n",
       " 'outcome_chance',\n",
       " 'Params_str']"
      ]
     },
     "execution_count": 288,
     "metadata": {},
     "output_type": "execute_result"
    }
   ],
   "source": [
    "list(results)"
   ]
  },
  {
   "cell_type": "code",
   "execution_count": null,
   "metadata": {
    "collapsed": true
   },
   "outputs": [],
   "source": []
  }
 ],
 "metadata": {
  "kernelspec": {
   "display_name": "Python 3",
   "language": "python",
   "name": "python3"
  },
  "language_info": {
   "codemirror_mode": {
    "name": "ipython",
    "version": 3
   },
   "file_extension": ".py",
   "mimetype": "text/x-python",
   "name": "python",
   "nbconvert_exporter": "python",
   "pygments_lexer": "ipython3",
   "version": "3.6.0"
  }
 },
 "nbformat": 4,
 "nbformat_minor": 2
}

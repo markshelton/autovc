{
 "cells": [
  {
   "cell_type": "markdown",
   "metadata": {},
   "source": [
    "# 3.1 Data Preparation"
   ]
  },
  {
   "cell_type": "code",
   "execution_count": 1,
   "metadata": {
    "collapsed": false
   },
   "outputs": [],
   "source": [
    "#setup path\n",
    "path = 'C:/Users/mark/Documents/GitHub/honours/dev/package/'\n",
    "import sys; sys.path.append(path)\n",
    "\n",
    "#standard imports\n",
    "import numpy as np\n",
    "import pandas as pd\n",
    "import datetime\n",
    "from scipy import stats\n",
    "from collections import OrderedDict, defaultdict\n",
    "import math\n",
    "from datetime import date, timedelta\n",
    "from itertools import chain, combinations_with_replacement\n",
    "from functools import partial\n",
    "\n",
    "#third party imports\n",
    "from IPython.core.interactiveshell import InteractiveShell\n",
    "import matplotlib.pyplot as plt\n",
    "import matplotlib.dates as md\n",
    "import matplotlib\n",
    "import matplotlib.ticker as ticker\n",
    "from matplotlib import rcParams\n",
    "import seaborn as sns\n",
    "from sklearn import metrics\n",
    "from sklearn.preprocessing import Imputer\n",
    "\n",
    "#local imports\n",
    "import analysis.dataPreparer as dp\n",
    "import analysis.autoVC2 as vc"
   ]
  },
  {
   "cell_type": "code",
   "execution_count": 2,
   "metadata": {
    "collapsed": false
   },
   "outputs": [],
   "source": [
    "#setup\n",
    "%matplotlib inline\n",
    "\n",
    "TINY_SIZE = 12\n",
    "SMALL_SIZE = 16\n",
    "MEDIUM_SIZE = 20\n",
    "BIGGER_SIZE = 30\n",
    "\n",
    "plt.style.use(['seaborn-white', 'seaborn-paper'])\n",
    "sns.set_palette(\"colorblind\")\n",
    "rcParams['font.family'] = 'serif' \n",
    "rcParams['font.serif'] = 'CMU Serif' \n",
    "rcParams['font.weight'] = 'bold'\n",
    "rcParams['font.size'] = SMALL_SIZE #default font size\n",
    "rcParams['axes.titlesize'] =SMALL_SIZE   # fontsize of the axes title\n",
    "rcParams['axes.labelsize'] =MEDIUM_SIZE    # fontsize of the x and y labels\n",
    "rcParams['xtick.labelsize'] =SMALL_SIZE    # fontsize of the tick labels\n",
    "rcParams['ytick.labelsize'] =SMALL_SIZE   # fontsize of the tick labels\n",
    "rcParams['legend.fontsize'] =SMALL_SIZE    # legend fontsize\n",
    "rcParams['figure.titlesize'] =BIGGER_SIZE  # fontsize of the figure title\n",
    "rcParams['figure.figsize'] = (8,4)\n",
    "pd.set_option('precision',3)\n",
    "outline_bars = dict(linewidth = 1.25, edgecolor = '.15')\n",
    "\n",
    "save_path = r\"C:/Users/mark/Documents/GitHub/honours/submissions/thesis-original/figures/\"\n",
    "#save_path = r\"C:/Users/mark/Documents/GitHub/honours/submissions/thesis-original/figures/design/\"\n",
    "#evaluation_path = r\"C:/Users/mark/Documents/GitHub/honours/submissions/thesis-original/figures/evaluation/\""
   ]
  },
  {
   "cell_type": "code",
   "execution_count": 3,
   "metadata": {
    "collapsed": true
   },
   "outputs": [],
   "source": [
    "def auto_label(ax, fmt='{:,.0f}', adjust=0):\n",
    "    ymax_old = ax.get_ylim()[1]\n",
    "    ax.set_ylim(ymax= ax.get_ylim()[1] * 1.1)\n",
    "    for p in ax.patches:\n",
    "        height = p.get_height()\n",
    "        ax.text(\n",
    "            x=p.get_x()+p.get_width()/2.,\n",
    "            y=np.nanmax([height,0]) + ymax_old * 0.02 + adjust,\n",
    "            s=fmt.format(np.nanmax([height,0])),\n",
    "            ha=\"center\")\n",
    "    ax.yaxis.set_ticks([])"
   ]
  },
  {
   "cell_type": "code",
   "execution_count": 4,
   "metadata": {
    "collapsed": true
   },
   "outputs": [],
   "source": [
    "def add_vertical_line(ax, value, label, color, linestyle=\"dashed\"):\n",
    "    ax.axvline(value, linestyle=linestyle, color=color)\n",
    "    x_bounds = ax.get_xlim()\n",
    "    xy_pos = (((value-x_bounds[0])/(x_bounds[1]-x_bounds[0])),1.01)\n",
    "    ax.annotate(s=label, xy =xy_pos, xycoords='axes fraction', verticalalignment='right', horizontalalignment='right bottom', color=color)"
   ]
  },
  {
   "cell_type": "code",
   "execution_count": 5,
   "metadata": {
    "collapsed": true
   },
   "outputs": [],
   "source": [
    "def add_horizontal_line(ax, value, label, color, linestyle=\"dashed\"):\n",
    "    ax.axhline(value, linestyle=linestyle, color=color)\n",
    "    y_bounds = ax.get_ylim()\n",
    "    xy_pos = (1.01,((value-y_bounds[0])/(y_bounds[1]-y_bounds[0])))\n",
    "    ax.annotate(s=label, xy =xy_pos, xycoords='axes fraction', verticalalignment='right', horizontalalignment='right bottom', color=color)"
   ]
  },
  {
   "cell_type": "code",
   "execution_count": 6,
   "metadata": {
    "collapsed": true
   },
   "outputs": [],
   "source": [
    "def add_boxplot_labels(ax, labels, color=\"black\"):\n",
    "    y_bounds = ax.get_ylim()\n",
    "    for value, label in enumerate(labels):\n",
    "        xy_pos = (1.01,((value-y_bounds[0] + 0.15)/(y_bounds[1]-y_bounds[0])))\n",
    "        ax.annotate(s=label, xy =xy_pos, size=TINY_SIZE, xycoords='axes fraction', verticalalignment='right', horizontalalignment='right bottom', color=color)"
   ]
  },
  {
   "cell_type": "code",
   "execution_count": 60,
   "metadata": {
    "collapsed": true
   },
   "outputs": [],
   "source": [
    "def get_results(build, stage):\n",
    "    \n",
    "    def split_date(x):\n",
    "        return date(*map(int, x.split(\"-\")))\n",
    "    \n",
    "    df = pd.read_pickle(r\"C:\\Users\\mark\\Documents\\GitHub\\honours\\dev\\package\\analysis\\output\\autoVC\\{}\\{}\\log_results.pkl\".format(build, stage))\n",
    "    df = df.reset_index()\n",
    "    try: df[\"Time\"] = pd.to_numeric(df[\"mean_fit_time\"],errors=\"coerce\")\n",
    "    except: print(\"Error: Time\")\n",
    "    try: df[\"Imputer\"] = df[\"param_imputer__strategy\"].map({\"most_frequent\": \"Mode\", \"median\": \"Median\", \"mean\": \"Mean\"})\n",
    "    except: print(\"Error: Imputer\")\n",
    "    try: df[\"Transformer\"] = df[\"param_transformer__func\"].astype(str).map({\"None\":\"None\",\"<ufunc 'sqrt'>\":\"SQRT\",\"<ufunc 'log1p'>\": \"Log1P\"})\n",
    "    except: print(\"Error: Transformer\")\n",
    "    try: df[\"Scaler\"] = df['param_scaler'].apply(lambda x: str(x).split(\"(\")[0])\n",
    "    except: print(\"Error: Scaler\")\n",
    "    try: \n",
    "        df[\"param_extractor__n_components_bin_20\"] = df[\"param_extractor__n_components\"] // 20\n",
    "        df[\"Extractor\"]=df['param_extractor__n_components_bin_20'].map({0 : \"1-20\", 1 : \"21-40\", 2: \"41-60\",3: \"61-80\", 4: \"81-100\"})\n",
    "    except: print(\"Error: Extractor\")\n",
    "    try: \n",
    "        df[\"Classifier\"] = df[\"Classifier\"].apply(lambda x: str(x).split(\"(\")[0])\n",
    "        df[\"Classifier\"]=df['Classifier'].map({\"LogisticRegression\": \"Logistic Regression\", \"RandomForestClassifier\":\"Random Forest\", \"DecisionTreeClassifier\": \"Decision Tree\", \"GaussianNB\": \"Naive Bayes\", \"MLPClassifier\": \"Artificial Neural Network\", \"KNeighborsClassifier\": \"K-Nearest Neighbors\", \"CalibratedClassifierCV\": \"Support Vector Machine\"})\n",
    "    except: print(\"Error: Classifier\")\n",
    "    try:\n",
    "        df[\"label_date\"] = df[\"label_slice\"]\n",
    "        df[\"label_date_str\"] = df[\"label_date\"].astype(str)\n",
    "        df[\"feature_date\"] = df[\"feature_slice\"]\n",
    "        df[\"feature_date_str\"] = df[\"feature_date\"].astype(str)\n",
    "        df[\"forecast_window\"] =  df[\"label_date\"] - df[\"feature_date\"]\n",
    "        df[\"forecast_window_months\"] = df[\"forecast_window\"].apply(lambda x: x.days // 30)\n",
    "    except: print(\"Error: Dates\")\n",
    "    try:\n",
    "        df[\"outcome_chance\"] = df[\"label_name\"].apply(lambda x: pd.Series(x).value_counts(normalize=True)[1])\n",
    "    except: print(\"Error: Outcome\")\n",
    "    df[\"Params_str\"] = df[\"Params\"].astype(str)\n",
    "    return df"
   ]
  },
  {
   "cell_type": "code",
   "execution_count": 8,
   "metadata": {
    "collapsed": false
   },
   "outputs": [],
   "source": [
    "def create_stages(df, **features):\n",
    "    df2 = df.copy()\n",
    "    df2[\"keys_company_stage\"] = \"Other\"\n",
    "    df2[\"keys_company_stage\"] = np.where((df2[\"keys_company_stage\"] == \"Other\") & (df2[features[\"Closed\"]] >= 1), \"Closed\", df2[\"keys_company_stage\"])\n",
    "    df2[\"keys_company_stage\"] = np.where((df2[\"keys_company_stage\"] == \"Other\") & (df2[features[\"Acquired\"]] >= 1), \"Acquired\", df2[\"keys_company_stage\"])\n",
    "    df2[\"keys_company_stage\"] = np.where((df2[\"keys_company_stage\"] == \"Other\") & (df2[features[\"IPO\"]] >= 1), \"IPO\", df2[\"keys_company_stage\"])\n",
    "    df2[\"keys_company_stage_series-d+\"] = df2[[features[\"SeriesD\"],features[\"SeriesE\"],features[\"SeriesF\"],features[\"SeriesG\"],features[\"SeriesH\"]]].sum(axis=1)\n",
    "    df2[\"keys_company_stage\"] = np.where((df2[\"keys_company_stage\"] == \"Other\") & (df2[\"keys_company_stage_series-d+\"] >= 1), \"Series D+\", df2[\"keys_company_stage\"])\n",
    "    df2[\"keys_company_stage\"] = np.where((df2[\"keys_company_stage\"] == \"Other\") & (df2[features[\"SeriesC\"]] >= 1), \"Series C\", df2[\"keys_company_stage\"])\n",
    "    df2[\"keys_company_stage\"] = np.where((df2[\"keys_company_stage\"] == \"Other\") & (df2[features[\"SeriesB\"]] >= 1), \"Series B\", df2[\"keys_company_stage\"])\n",
    "    df2[\"keys_company_stage\"] = np.where((df2[\"keys_company_stage\"] == \"Other\") & (df2[features[\"SeriesA\"]] >= 1), \"Series A\", df2[\"keys_company_stage\"])\n",
    "    df2[\"keys_company_stage\"] = np.where((df2[\"keys_company_stage\"] == \"Other\") & (df2[features[\"FundingRaised\"]] >= 0), \"Seed\", df2[\"keys_company_stage\"])\n",
    "    age_new_cutoff = df2[features[\"Age\"]][df2[\"keys_company_stage\"] == \"Seed\"].quantile(0.75)\n",
    "    df2[\"keys_company_stage\"] = np.where((df2[\"keys_company_stage\"] == \"Other\") & (df2[features[\"Age\"]] <= age_new_cutoff), \"Pre-Seed\", df2[\"keys_company_stage\"])\n",
    "    group_stages = {\"Other\" : \"Excluded\", \"Closed\" : \"Excluded\", \"IPO\" : \"Excluded\", \"Acquired\" : \"Excluded\", \"Pre-Seed\" : \"Included\",\n",
    "        \"Seed\" : \"Included\", \"Series A\" : \"Included\", \"Series B\" : \"Included\", \"Series C\" : \"Included\", \"Series D+\" : \"Included\"}\n",
    "    df2[\"keys_company_stage_group\"] = df2[\"keys_company_stage\"].map(group_stages)\n",
    "    ordinal_stages = {\"Pre-Seed\" : 1, \"Seed\" : 2, \"Series A\" : 3, \"Series B\" : 4, \"Series C\" : 5, \"Series D+\" : 6,\"Other\" : np.nan, \"Closed\" : -1, \"IPO\" : 7, \"Acquired\" : 8}\n",
    "    df2[\"keys_company_stage_number\"] = df2[\"keys_company_stage\"].map(ordinal_stages)\n",
    "    return df2[[\"keys_company_stage_group\", \"keys_company_stage\",\"keys_company_stage_number\"]]"
   ]
  },
  {
   "cell_type": "code",
   "execution_count": 9,
   "metadata": {
    "collapsed": true
   },
   "outputs": [],
   "source": [
    "def get_feature_values(df, total=\"Y_Pred\"):\n",
    "    \n",
    "    def listify(col):\n",
    "        if type(col.ix[0]) not in [list, np.ndarray, np.array, pd.Series]: \n",
    "            return col.apply(lambda x: [x])\n",
    "        else: return col\n",
    "    \n",
    "    def multip(row):\n",
    "        for col in row.index:\n",
    "            if col != \"total\" and type(row[col]) is list and len(row[col]) != row[\"total\"][0]:\n",
    "                row[col] = row[col] * row[\"total\"][0]\n",
    "        return row\n",
    "\n",
    "    df[\"total\"] = df[total].apply(len)\n",
    "    df = df.apply(listify, axis=0)\n",
    "    df = df.apply(multip, axis=1)\n",
    "    df = df.drop(\"total\",axis=1)\n",
    "    df = df.apply(lambda x: list(chain.from_iterable(x)),axis=0)\n",
    "    df = df.apply(pd.Series).T\n",
    "    return df"
   ]
  },
  {
   "cell_type": "code",
   "execution_count": 10,
   "metadata": {
    "collapsed": true
   },
   "outputs": [],
   "source": [
    "def feature_function(df, func, group=None):\n",
    "    df[[\"Y_Pred\",\"Y_True\"]] = df[[\"Y_Pred\",\"Y_True\"]].astype(int)\n",
    "    if group: return df.groupby(group).apply(lambda x: func(x[\"Y_True\"], x[\"Y_Pred\"]))\n",
    "    else: return func(df[\"Y_True\"], df[\"Y_Pred\"])"
   ]
  },
  {
   "cell_type": "code",
   "execution_count": 46,
   "metadata": {
    "collapsed": false
   },
   "outputs": [],
   "source": [
    "def plot_learning_curve2(df, ax = None, group = None, target = None, multiple=False):\n",
    "\n",
    "    def prepare_scores(df):\n",
    "        df = df[[\"Test_Scores\", \"Train_Scores\", \"Train_Sizes\"]].apply(lambda x: list(chain.from_iterable(x)))\n",
    "        df = df.apply(pd.Series).T\n",
    "        df = df.apply(lambda x: [x.tolist()],axis=0)\n",
    "        return df\n",
    "    \n",
    "    def concat_lists(series):\n",
    "        return np.array(list(zip(*[element for list_ in [np.array(list(zip(*list_))) for list_ in series] for element in list_])))\n",
    "    \n",
    "    def func_across_dims(l, func):\n",
    "        output = []\n",
    "        for suba in l:\n",
    "            output.append(func(suba))\n",
    "        return np.array(output)\n",
    "    \n",
    "    if group and target: \n",
    "        df = prepare_scores(df.loc[df[group] == target])\n",
    "        ax.set_title(\"{}\".format(target))\n",
    "    else: df = prepare_scores(df)\n",
    "    \n",
    "    if ax is None: ax = plt.gca()\n",
    "    \n",
    "    #print(df.head(), group, target)\n",
    "    #if group and target:\n",
    "        #test_scores = concat_lists(df.loc[df[group] == target][\"Test_Scores\"])\n",
    "        #train_scores = concat_lists(df.loc[df[group] == target][\"Train_Scores\"])\n",
    "        #train_sizes = np.array(df.loc[df[group] == target][\"Train_Sizes\"]).squeeze()\n",
    "        #ax.set_title(\"{}\".format(target))\n",
    "    #else:\n",
    "    test_scores = concat_lists(df[\"Test_Scores\"])\n",
    "    train_scores = concat_lists(df[\"Train_Scores\"])\n",
    "    train_sizes = np.array(df[\"Train_Sizes\"]).squeeze()\n",
    "        \n",
    "    dic_test = defaultdict(partial(np.ndarray, 0))\n",
    "    dic_train = defaultdict(partial(np.ndarray, 0))\n",
    "    scores = list(zip(test_scores, train_scores))\n",
    "    for i, size in enumerate(train_sizes):\n",
    "        dic_test[size] = np.append(dic_test[size], test_scores[i])\n",
    "        dic_train[size] = np.append(dic_train[size], train_scores[i])\n",
    "    train_sizes = []\n",
    "    test_scores = []\n",
    "    train_scores = []\n",
    "    for size in sorted(dic_test):\n",
    "        train_sizes.append(size)\n",
    "        test_scores.append(dic_test[size])\n",
    "        train_scores.append(dic_train[size])\n",
    "\n",
    "    train_sizes = np.array(train_sizes)\n",
    "    test_scores = np.array(test_scores)\n",
    "    train_scores = np.array(train_scores)\n",
    "        \n",
    "    train_scores_mean = func_across_dims(train_scores, np.mean)# np.mean(train_scores, axis=1)\n",
    "    train_scores_std = func_across_dims(train_scores, np.std) #np.std(train_scores,axis=1)\n",
    "    test_scores_mean = func_across_dims(test_scores, np.mean) #np.mean(test_scores, axis=1)\n",
    "    test_scores_std = func_across_dims(test_scores, np.std) #np.std(test_scores, axis=1)\n",
    "\n",
    "    ax.fill_between(train_sizes, train_scores_mean - train_scores_std,\n",
    "                     train_scores_mean + train_scores_std, alpha=0.1, color=\"blue\")\n",
    "    ax.fill_between(train_sizes, test_scores_mean - test_scores_std,\n",
    "                     test_scores_mean + test_scores_std, alpha=0.1, color=\"green\")\n",
    "    a, = ax.plot(train_sizes, train_scores_mean, 'o-', color=\"blue\", label=\"Training score\")\n",
    "    b, = ax.plot(train_sizes, test_scores_mean, 'o-', color=\"green\", label=\"Cross-validation score\")        \n",
    "    \n",
    "    ax.grid()\n",
    "    ax.set_ylim(ymin=0, ymax=1)\n",
    "    ax.set_xticklabels([\"{:,.0f}\".format(xtick) for xtick in ax.get_xticks().tolist()])\n",
    "    if not multiple: plt.legend()\n",
    "    \n",
    "    return (a,b)\n",
    "    "
   ]
  },
  {
   "cell_type": "code",
   "execution_count": 43,
   "metadata": {
    "collapsed": false
   },
   "outputs": [],
   "source": [
    "def plot_learning_curve(df, ax = None, group = None, target = None, multiple=False):\n",
    "    \n",
    "    def concat_lists(series):\n",
    "        return np.array(list(zip(*[element for list_ in [np.array(list(zip(*list_))) for list_ in series] for element in list_])))\n",
    "\n",
    "    if not ax: ax = plt.gca()\n",
    "    \n",
    "    if group and target:\n",
    "        test_scores = concat_lists(df.loc[df[group] == target][\"Test_Scores\"])\n",
    "        train_scores = concat_lists(df.loc[df[group] == target][\"Train_Scores\"])\n",
    "        train_sizes = df.loc[df[group] == target][\"Train_Sizes\"].sample(1).squeeze()\n",
    "        ax.set_title(\"{}\".format(target))\n",
    "    else:\n",
    "        test_scores = concat_lists(df[\"Test_Scores\"])\n",
    "        train_scores = concat_lists(df[\"Train_Scores\"])\n",
    "        train_sizes = df[\"Train_Sizes\"].sample(1).squeeze()\n",
    "        print(test_scores, train_scores, train_sizes)\n",
    "\n",
    "    train_scores_mean = np.mean(train_scores, axis=1)\n",
    "    train_scores_std = np.std(train_scores,axis=1)\n",
    "    test_scores_mean = np.mean(test_scores, axis=1)\n",
    "    test_scores_std = np.std(test_scores, axis=1)\n",
    "            \n",
    "    ax.fill_between(train_sizes, train_scores_mean - train_scores_std,\n",
    "                     train_scores_mean + train_scores_std, alpha=0.1, color=\"blue\")\n",
    "    ax.fill_between(train_sizes, test_scores_mean - test_scores_std,\n",
    "                     test_scores_mean + test_scores_std, alpha=0.1, color=\"green\")\n",
    "    a, = ax.plot(train_sizes, train_scores_mean, 'o-', color=\"blue\", label=\"Training score\")\n",
    "    b, = ax.plot(train_sizes, test_scores_mean, 'o-', color=\"green\", label=\"Cross-validation score\")        \n",
    "    \n",
    "    ax.grid()\n",
    "    ax.set_ylim(ymin=0, ymax=1)\n",
    "    ax.set_xticklabels([\"{:,.0f}\".format(xtick) for xtick in ax.get_xticks().tolist()])\n",
    "    if not multiple: plt.legend()\n",
    "    \n",
    "    return (a,b)\n",
    "    "
   ]
  },
  {
   "cell_type": "code",
   "execution_count": 13,
   "metadata": {
    "collapsed": false
   },
   "outputs": [],
   "source": [
    "def plot_learning_curves(df, group):\n",
    "    targets = df[group].value_counts().index.tolist()\n",
    "    rows=math.ceil(math.sqrt(len(targets)))\n",
    "    cols = math.ceil(len(targets) / rows)\n",
    "    f, axes = plt.subplots(nrows=rows, ncols=cols)\n",
    "    axes = [item for sublist in axes for item in sublist]\n",
    "    for i, target in enumerate(targets):\n",
    "        leg = plot_learning_curve(df, axes[i], group=group, target=target, multiple=True)\n",
    "        add_horizontal_line(axes[i], df[\"outcome_chance\"].ix[0], \"\", color=\"r\")\n",
    "        if i == 0: axes[i].legend(\n",
    "            bbox_to_anchor = axes[len(axes) - 1].get_position(),\n",
    "            bbox_transform=plt.gcf().transFigure)\n",
    "    for x in range(len(targets), len(axes)): f.delaxes(axes[x])\n",
    "    f.text(0.5, -0.04, 'Training Examples', ha='center')\n",
    "    f.text(-0.04, 0.5, 'Area under Precision-Recall Curve', va='center', rotation='vertical')\n",
    "    plt.tight_layout()\n",
    "    return f"
   ]
  },
  {
   "cell_type": "code",
   "execution_count": 72,
   "metadata": {
    "collapsed": false
   },
   "outputs": [],
   "source": [
    "def plot_learning_curves2(df, group):\n",
    "    targets = df[group].value_counts().index.tolist()\n",
    "    rows=math.ceil(math.sqrt(len(targets)))\n",
    "    cols = math.ceil(len(targets) / rows)\n",
    "    f, axes = plt.subplots(nrows=rows, ncols=cols)\n",
    "    axes = [item for sublist in axes for item in sublist]\n",
    "    for i, target in enumerate(targets):\n",
    "        leg = plot_learning_curve2(df, axes[i], group=group, target=target, multiple=True)\n",
    "        outcome_chance = df[\"outcome_chance\"].ix[df.loc[df[group] == target].sample(1).index.tolist()[0]]\n",
    "        add_horizontal_line(axes[i], outcome_chance, \"\", color=\"r\")\n",
    "        if i == 0: axes[i].legend(\n",
    "            bbox_to_anchor = axes[len(axes) - 1].get_position(),\n",
    "            bbox_transform=plt.gcf().transFigure)\n",
    "    for x in range(len(targets), len(axes)): f.delaxes(axes[x])\n",
    "    f.text(0.5, -0.04, 'Training Examples', ha='center')\n",
    "    f.text(-0.04, 0.5, 'Area under Precision-Recall Curve', va='center', rotation='vertical')\n",
    "    plt.tight_layout()\n",
    "    return f"
   ]
  },
  {
   "cell_type": "code",
   "execution_count": 14,
   "metadata": {
    "collapsed": false
   },
   "outputs": [],
   "source": [
    "def plot_roc_curve(df, iv, dv, x, y, n=None):\n",
    "\n",
    "    def convert_array(x):\n",
    "        y = []\n",
    "        for v in x.split():\n",
    "            try: float(v)\n",
    "            except: pass\n",
    "            else: y.append(float(v))\n",
    "        return y\n",
    "        \n",
    "    roc_x = df[x]#.apply(convert_array)\n",
    "    roc_y = df[y]#.apply(convert_array)\n",
    "    roc_clf = pd.concat([df[iv], roc_x, roc_y],axis=1)\n",
    "    roc_clf.index = roc_clf[iv]\n",
    "    roc_x_clf_split = roc_clf.apply(lambda a: pd.Series(a[x]),axis=1)\n",
    "    roc_y_clf_split = roc_clf.apply(lambda a: pd.Series(a[y]),axis=1)\n",
    "    roc_clf_split = pd.DataFrame()\n",
    "    for i, col in enumerate(list(roc_x_clf_split)):\n",
    "        if n and i %n == 0:\n",
    "            roc_clf_split[col] = list(zip(roc_x_clf_split[col], roc_y_clf_split[col]))\n",
    "    roc_clf_split[iv] = roc_clf_split.index = roc_x_clf_split.index\n",
    "    roc_clf_melt = pd.melt(roc_clf_split, id_vars=iv)\n",
    "    roc_clf_melt[x] = roc_clf_melt.apply(lambda a: a['value'][0], axis=1)\n",
    "    roc_clf_melt[y] = roc_clf_melt.apply(lambda a: a['value'][1], axis=1)\n",
    "    roc_clf_melt = roc_clf_melt[[iv,x,y]]\n",
    "    roc_clf_melt = roc_clf_melt.dropna()\n",
    "    \n",
    "    groups = roc_clf_melt[iv].value_counts().index.tolist()\n",
    "    grp_aucs = {group: df.groupby(iv).get_group(group)[dv].max() for group in groups}\n",
    "    \n",
    "    roc_clf_melt = roc_clf_melt.sort_values(by=x)\n",
    "\n",
    "    g = sns.lmplot(data = roc_clf_melt, x=x, y=y, hue=iv, fit_reg =False, x_bins = 100, x_estimator = np.max, legend_out=False)\n",
    "    g.map(plt.plot, x, y)\n",
    "    g.axes[0][0].set_xlim(0,1)\n",
    "    g.axes[0][0].set_ylim(0,1)\n",
    "    \n",
    "    return g, grp_aucs\n"
   ]
  },
  {
   "cell_type": "code",
   "execution_count": 15,
   "metadata": {
    "collapsed": false
   },
   "outputs": [],
   "source": [
    "def rank_pipelines(pipelines, number_selected, criteria, stage):\n",
    "    pipelines[\"Params_str\"] = pipelines[\"Params\"].astype(str)\n",
    "    unique_params = {v:k for k,v in dict(enumerate(pipelines[\"Params_str\"].unique().tolist())).items()}\n",
    "    pipelines[\"Params_str_dummy\"] = pipelines[\"Params_str\"].replace(unique_params)\n",
    "    dummy_rank = pipelines.groupby(\"Params_str_dummy\")[criteria].median().rank(ascending=False).to_dict()\n",
    "    pipelines[\"rank_{}\".format(stage)] = pipelines[\"Params_str_dummy\"].map(dummy_rank)\n",
    "    pipelines.set_index(\"rank_{}\".format(stage), drop=False, inplace=True)\n",
    "    top_pipelines = pipelines.sort_index().ix[1:number_selected]\n",
    "    top_pipelines = top_pipelines.drop_duplicates(subset=\"Params_str_dummy\").squeeze()\n",
    "    return top_pipelines"
   ]
  },
  {
   "cell_type": "code",
   "execution_count": 16,
   "metadata": {
    "collapsed": true
   },
   "outputs": [],
   "source": [
    "def add_auc_to_legend(auc, ax, title):\n",
    "    handles, labels = ax.get_legend_handles_labels()\n",
    "    items = int(len(handles) / 2)\n",
    "    handles = handles[0:items]\n",
    "    labels = labels[0:items]\n",
    "    auc = dict((str(k),v)for k,v in auc.items())\n",
    "    labels = [\"{} ({:,.3f})\".format(label, auc[label]) for i, label in enumerate(labels)]\n",
    "    plt.legend(loc=\"best\", handles=handles, labels=labels, title=title)\n"
   ]
  },
  {
   "cell_type": "code",
   "execution_count": 17,
   "metadata": {
    "collapsed": true
   },
   "outputs": [],
   "source": [
    "def divide_groups(x, totals):\n",
    "    value = x.index.get_level_values(level=0)[0]\n",
    "    x = x.apply(lambda x: x/float(totals.loc[value]))\n",
    "    return x"
   ]
  },
  {
   "cell_type": "code",
   "execution_count": 18,
   "metadata": {
    "collapsed": true
   },
   "outputs": [],
   "source": [
    "def get_mode(x):\n",
    "    try: return stats.mode(x.dropna())[0][0]\n",
    "    except: return np.nan"
   ]
  },
  {
   "cell_type": "code",
   "execution_count": 67,
   "metadata": {
    "collapsed": true
   },
   "outputs": [],
   "source": [
    "#constants\n",
    "input_path = path+\"analysis/input/master.db\"\n",
    "flatten_config = path+\"analysis/config/master_feature.sql\"\n",
    "raw_flat_file = path+\"analysis/output/temp/raw.csv\"\n",
    "clean_flat_file = path+\"analysis/output/temp/clean.csv\"\n",
    "output_path = path+\"analysis/output/temp/output.db\"\n",
    "#output_path = path+\"analysis/output/autoVC/8/test/2015-04-06/2017-04-03/label_clean.csv\""
   ]
  },
  {
   "cell_type": "code",
   "execution_count": 68,
   "metadata": {
    "collapsed": false
   },
   "outputs": [
    {
     "name": "stdout",
     "output_type": "stream",
     "text": [
      "logManager - INFO - export_dataframe | Started\n",
      "logManager - INFO - export_dataframe | Passed | 174.94\n"
     ]
    }
   ],
   "source": [
    "#dp.flatten_file(input_path, flatten_config, raw_flat_file, \"feature\")\n",
    "#dp.clean_file(raw_flat_file, clean_flat_file)\n",
    "#dp.load_file(output_path, clean_flat_file, \"feature\")\n",
    "df = dp.export_dataframe(output_path, \"feature\")\n",
    "df_backup = df.copy()"
   ]
  },
  {
   "cell_type": "code",
   "execution_count": null,
   "metadata": {
    "collapsed": true
   },
   "outputs": [],
   "source": [
    "#reload data from memory\n",
    "df = df_backup"
   ]
  },
  {
   "cell_type": "code",
   "execution_count": null,
   "metadata": {
    "collapsed": false
   },
   "outputs": [],
   "source": [
    "df = df.sample(50000)"
   ]
  },
  {
   "cell_type": "code",
   "execution_count": 40,
   "metadata": {
    "collapsed": false
   },
   "outputs": [],
   "source": [
    "stage_features = dict(\n",
    "    Age = 'confidence_context_broader_company_age_number',\n",
    "    FundingRounds = 'confidence_validation_funding_rounds_number',\n",
    "    FundingRaised = 'confidence_validation_funding_raised_value_total_number',\n",
    "    SeriesA = 'confidence_validation_funding_round_codes_list_a',\n",
    "    SeriesB = 'confidence_validation_funding_round_codes_list_b',\n",
    "    SeriesC = 'confidence_validation_funding_round_codes_list_c',\n",
    "    SeriesD = 'confidence_validation_funding_round_codes_list_d',\n",
    "    SeriesE = 'confidence_validation_funding_round_codes_list_e',\n",
    "    SeriesF = 'confidence_validation_funding_round_codes_list_f',\n",
    "    SeriesG = 'confidence_validation_funding_round_codes_list_g',\n",
    "    SeriesH = 'confidence_validation_funding_round_codes_list_h',\n",
    "    Closed = \"keys_company_status_closed_bool\",\n",
    "    Acquired = \"keys_company_status_acquired_bool\",\n",
    "    IPO = \"keys_company_status_ipo_bool\"\n",
    ")"
   ]
  },
  {
   "cell_type": "code",
   "execution_count": 70,
   "metadata": {
    "collapsed": false
   },
   "outputs": [
    {
     "name": "stdout",
     "output_type": "stream",
     "text": [
      "Stages done.\n"
     ]
    }
   ],
   "source": [
    "stages = create_stages(df, **stage_features)\n",
    "df = pd.concat([stages, df], axis=1)\n",
    "print(\"Stages done.\")"
   ]
  },
  {
   "cell_type": "markdown",
   "metadata": {},
   "source": [
    "## 3.1.3 Preliminary Screening"
   ]
  },
  {
   "cell_type": "code",
   "execution_count": null,
   "metadata": {
    "collapsed": false
   },
   "outputs": [
    {
     "name": "stdout",
     "output_type": "stream",
     "text": [
      "Other        206872\n",
      "Pre-Seed     113915\n",
      "Seed          52219\n",
      "Acquired      26894\n",
      "Series A       8654\n",
      "IPO            5800\n",
      "Series B       4657\n",
      "Closed         3279\n",
      "Series C       2231\n",
      "Series D+      1413\n",
      "Name: keys_company_stage, dtype: int64\n",
      "Other        0.486\n",
      "Pre-Seed     0.267\n",
      "Seed         0.123\n",
      "Acquired     0.063\n",
      "Series A     0.020\n",
      "IPO          0.014\n",
      "Series B     0.011\n",
      "Closed       0.008\n",
      "Series C     0.005\n",
      "Series D+    0.003\n",
      "Name: keys_company_stage, dtype: float64\n",
      "425934\n"
     ]
    }
   ],
   "source": [
    "print(df[\"keys_company_stage\"].value_counts())\n",
    "print(df[\"keys_company_stage\"].value_counts(normalize=True))\n",
    "print(df[\"keys_company_stage\"].value_counts().sum())"
   ]
  },
  {
   "cell_type": "code",
   "execution_count": null,
   "metadata": {
    "collapsed": false
   },
   "outputs": [],
   "source": [
    "order_1 = [\"Pre-Seed\", \"Seed\", \"Series A\", \"Series B\", \"Series C\", \"Series D+\", \"IPO\", \"Acquired\"]\n",
    "f = plt.figure()\n",
    "ax = sns.countplot(x= df[\"keys_company_stage\"], order = order_1, **outline_bars)\n",
    "auto_label(ax)\n",
    "add_vertical_line(ax, 1.5, \"Break-Even\", color=\"r\")\n",
    "add_vertical_line(ax, 5.5, \"Exit\", color=\"b\")\n",
    "ax.set_xlabel(\"Developmental Stage\")\n",
    "ax.set_ylabel(\"Companies\")\n",
    "plt.tight_layout()\n",
    "f.savefig(save_path+\"lifecycle.pdf\", bbox_inches=\"tight\")"
   ]
  },
  {
   "cell_type": "markdown",
   "metadata": {},
   "source": [
    "Removed Other, Closed, Acquired & IPO groups"
   ]
  },
  {
   "cell_type": "code",
   "execution_count": null,
   "metadata": {
    "collapsed": false
   },
   "outputs": [],
   "source": [
    "df = df.loc[df['keys_company_stage_group'] != \"Excluded\"]"
   ]
  },
  {
   "cell_type": "code",
   "execution_count": null,
   "metadata": {
    "collapsed": false
   },
   "outputs": [],
   "source": [
    "print(df[\"keys_company_stage\"].value_counts())\n",
    "print(df[\"keys_company_stage\"].value_counts(normalize=True))\n",
    "print(df[\"keys_company_stage\"].value_counts().sum())"
   ]
  },
  {
   "cell_type": "code",
   "execution_count": null,
   "metadata": {
    "collapsed": true
   },
   "outputs": [],
   "source": [
    "age_old_cutoff = df[\"confidence_context_broader_company_age_number\"][df[\"keys_company_stage\"] == \"Series D+\"].quantile(0.75)"
   ]
  },
  {
   "cell_type": "code",
   "execution_count": null,
   "metadata": {
    "collapsed": false
   },
   "outputs": [],
   "source": [
    "order_1 = [\"Pre-Seed\", \"Seed\", \"Series A\", \"Series B\", \"Series C\", \"Series D+\"]\n",
    "f = plt.figure()\n",
    "ax = sns.boxplot(\n",
    "    x=\"confidence_context_broader_company_age_number\", \n",
    "    y=\"keys_company_stage\",\n",
    "    order=order_1,data=df, fliersize=0)\n",
    "ax.set_xlim(xmin=0, xmax=30)\n",
    "ax.set_xlabel(\"Company Age (Years)\")\n",
    "ax.set_ylabel(\"Developmental Stage\")\n",
    "add_vertical_line(ax, age_old_cutoff, \"Age Upper Bound\", color=\"r\")\n",
    "plt.tight_layout()\n",
    "f.savefig(save_path+\"stages_ages.pdf\", bbox_inches=\"tight\")"
   ]
  },
  {
   "cell_type": "markdown",
   "metadata": {},
   "source": [
    "Removed companies older than 15 years old"
   ]
  },
  {
   "cell_type": "code",
   "execution_count": null,
   "metadata": {
    "collapsed": false
   },
   "outputs": [],
   "source": [
    "age_old_cutoff"
   ]
  },
  {
   "cell_type": "code",
   "execution_count": null,
   "metadata": {
    "collapsed": false
   },
   "outputs": [],
   "source": [
    "df = df.loc[df['confidence_context_broader_company_age_number'] <= age_old_cutoff]"
   ]
  },
  {
   "cell_type": "code",
   "execution_count": null,
   "metadata": {
    "collapsed": false
   },
   "outputs": [],
   "source": [
    "print(df[\"keys_company_stage\"].value_counts())\n",
    "print(df[\"keys_company_stage\"].value_counts(normalize=True))\n",
    "print(df[\"keys_company_stage\"].value_counts().sum())"
   ]
  },
  {
   "cell_type": "markdown",
   "metadata": {},
   "source": [
    "## 3.1.4 Descriptive Statistics"
   ]
  },
  {
   "cell_type": "markdown",
   "metadata": {},
   "source": [
    "Table 3. Final test dataset counts grouped by lifecycle stage."
   ]
  },
  {
   "cell_type": "code",
   "execution_count": null,
   "metadata": {
    "collapsed": true
   },
   "outputs": [],
   "source": [
    "drops = [col for col in list(df) if col.startswith((\"key\",\"from\",\"outcome\",\"index\"))]\n",
    "X = df.drop(drops, axis=1)\n",
    "X = X.select_dtypes(['number'])"
   ]
  },
  {
   "cell_type": "code",
   "execution_count": null,
   "metadata": {
    "collapsed": false
   },
   "outputs": [],
   "source": [
    "df[\"keys_missing_features\"] = X.isnull().sum(axis=1)\n",
    "len(list(df))"
   ]
  },
  {
   "cell_type": "code",
   "execution_count": null,
   "metadata": {
    "collapsed": false,
    "scrolled": true
   },
   "outputs": [],
   "source": [
    "groups = [df[\"keys_company_stage\"]]\n",
    "columns = [\"keys_company_stage\", \"confidence_context_broader_company_age_number\", \"confidence_validation_funding_raised_value_total_number\", \"confidence_validation_funding_rounds_number\", \"keys_missing_features\"]\n",
    "colnames = [\"Obs\", \"Age (Years)\", \"Funding Raised (USD, millions)\", \"Funding Rounds (N)\", \"Available Features (N)\"]\n",
    "colfuncs = [{\"N\":len}, \n",
    "    OrderedDict([(\"Median\", np.median),(\"IQR\", lambda x: stats.iqr(x,nan_policy=\"omit\"))]), \n",
    "    OrderedDict([(\"Median\", lambda x: np.median(x) / 1e6), (\"IQR\", lambda x: stats.iqr(x,nan_policy=\"omit\") / 1e6)]), \n",
    "    OrderedDict([(\"Median\", np.median),(\"IQR\", lambda x: stats.iqr(x,nan_policy=\"omit\"))]), \n",
    "    OrderedDict([(\"Median\", lambda x: len(list(df)) - np.median(x)), (\"IQR\", lambda x: stats.iqr(x,nan_policy=\"omit\") )])]\n",
    "\n",
    "namefunc = OrderedDict(zip(columns, colnames))\n",
    "aggfunc = OrderedDict(zip(columns, colfuncs))\n",
    "\n",
    "order_1 = [\"Pre-Seed\", \"Seed\", \"Series A\", \"Series B\", \"Series C\", \"Series D+\"]\n",
    "\n",
    "tab = df[columns].groupby(groups)\n",
    "tab = tab.agg(aggfunc)\n",
    "tab.rename(columns=namefunc)"
   ]
  },
  {
   "cell_type": "code",
   "execution_count": null,
   "metadata": {
    "collapsed": false
   },
   "outputs": [],
   "source": [
    "groups = [df[\"keys_company_stage_group\"]]\n",
    "columns = [\"keys_company_stage\", \"confidence_context_broader_company_age_number\", \"confidence_validation_funding_raised_value_total_number\", \"confidence_validation_funding_rounds_number\", \"keys_missing_features\"]\n",
    "colnames = [\"Obs\", \"Age (Years)\", \"Funding Raised (USD, millions)\", \"Funding Rounds (N)\", \"Available Features (N)\"]\n",
    "colfuncs = [{\"N\":len}, \n",
    "    OrderedDict([(\"Median\", np.median),(\"IQR\", lambda x: stats.iqr(x,nan_policy=\"omit\"))]), \n",
    "    OrderedDict([(\"Median\", lambda x: np.median(x) / 1e6), (\"IQR\", lambda x: stats.iqr(x,nan_policy=\"omit\") / 1e6)]), \n",
    "    OrderedDict([(\"Median\", np.median), (\"IQR\", lambda x: stats.iqr(x,nan_policy=\"omit\"))]),\n",
    "    OrderedDict([(\"Median\", lambda x: len(list(df)) - np.median(x)), (\"IQR\", lambda x: stats.iqr(x,nan_policy=\"omit\") )])]\n",
    "\n",
    "namefunc = OrderedDict(zip(columns, colnames))\n",
    "aggfunc = OrderedDict(zip(columns, colfuncs))\n",
    "\n",
    "tab = df[columns].groupby(groups)\n",
    "tab = tab.agg(aggfunc)\n",
    "tab.rename(columns=namefunc)"
   ]
  },
  {
   "cell_type": "markdown",
   "metadata": {},
   "source": [
    "Table 3. Final test dataset counts grouped by company sector."
   ]
  },
  {
   "cell_type": "code",
   "execution_count": null,
   "metadata": {
    "collapsed": false
   },
   "outputs": [],
   "source": [
    "industries = [x for x in list(df) if x.startswith(\"confidence_context_industry_category_group_list\")]"
   ]
  },
  {
   "cell_type": "code",
   "execution_count": null,
   "metadata": {
    "collapsed": false
   },
   "outputs": [],
   "source": [
    "values = [df[industry].value_counts()[1] for industry in industries]\n",
    "values = sorted(values,reverse=True)\n",
    "f = plt.figure()\n",
    "names = [\"Software\", \"Internet\", \"Media\", \"Commerce\", \"Mobile\", \"Sales\", \"IT\", \"Health\", \"Hardware\", \"Financial\"]\n",
    "ax = sns.barplot(y = values, x = names, order = names,  **outline_bars)\n",
    "auto_label(ax)\n",
    "plt.xticks(rotation=30)\n",
    "ax.set_ylabel(\"Companies\")\n",
    "ax.set_xlabel(\"Industry Sectors (Top 10)\")\n",
    "plt.tight_layout()\n",
    "f.savefig(save_path+\"industry_counts.pdf\", bbox_inches=\"tight\")"
   ]
  },
  {
   "cell_type": "markdown",
   "metadata": {},
   "source": [
    "[SPARSITY]"
   ]
  },
  {
   "cell_type": "code",
   "execution_count": null,
   "metadata": {
    "collapsed": true
   },
   "outputs": [],
   "source": [
    "missing_by_feature = X.isnull().sum(axis=1)"
   ]
  },
  {
   "cell_type": "code",
   "execution_count": null,
   "metadata": {
    "collapsed": true
   },
   "outputs": [],
   "source": [
    "missing_by_col =  X.isnull().sum(axis=0)"
   ]
  },
  {
   "cell_type": "code",
   "execution_count": null,
   "metadata": {
    "collapsed": false
   },
   "outputs": [],
   "source": [
    "f = plt.figure(figsize = (8,3))\n",
    "ax = sns.distplot(missing_by_feature, bins=25, hist_kws = outline_bars)\n",
    "ax.set_xlim(xmin=0, xmax=len(missing_by_col))\n",
    "add_vertical_line(ax, np.median(missing_by_feature), \"Median\", color=\"r\")\n",
    "ax.set_xlabel(\"Missing Features\")\n",
    "ax.set_ylabel(\"Density\")\n",
    "plt.tight_layout()\n",
    "f.savefig(save_path+\"sparsity_features.pdf\", bbox_inches=\"tight\")"
   ]
  },
  {
   "cell_type": "code",
   "execution_count": null,
   "metadata": {
    "collapsed": false
   },
   "outputs": [],
   "source": [
    "f = plt.figure(figsize = (8,3))\n",
    "ax = sns.distplot(missing_by_col, bins=25, hist_kws = outline_bars)\n",
    "ax.set_xlim(xmin=0, xmax=len(missing_by_feature))\n",
    "add_vertical_line(ax, np.median(missing_by_col), \"Median\", color=\"r\")\n",
    "ax.set_xticklabels([\"{:,.0f}\".format(xtick) for xtick in ax.get_xticks().tolist()])\n",
    "ax.set_xlabel(\"Missing Observations\")\n",
    "ax.set_ylabel(\"Density\")\n",
    "plt.tight_layout()\n",
    "f.savefig(save_path+\"sparsity_observations.pdf\", bbox_inches=\"tight\")"
   ]
  },
  {
   "cell_type": "markdown",
   "metadata": {},
   "source": [
    "[SKEW BY FEATURE (GROUPED BY WHETHER ZEROS-REMOVED)]"
   ]
  },
  {
   "cell_type": "code",
   "execution_count": null,
   "metadata": {
    "collapsed": false
   },
   "outputs": [],
   "source": [
    "skews = X.apply(lambda x: stats.skew(x.dropna())).dropna()\n",
    "skews = skews[(skews >= -20) & (skews < 40)]"
   ]
  },
  {
   "cell_type": "code",
   "execution_count": null,
   "metadata": {
    "collapsed": false
   },
   "outputs": [],
   "source": [
    "f = plt.figure(figsize = (8,3))\n",
    "ax = sns.distplot(skews, bins=25, hist_kws = outline_bars)\n",
    "ax.set_xlim(xmin=-20, xmax=40)\n",
    "ax.xaxis.set_major_locator(ticker.MultipleLocator(5))\n",
    "add_vertical_line(ax, 0, \"Norm\", color=\"b\")\n",
    "add_vertical_line(ax, np.median(skews), \"Median\", color=\"r\")\n",
    "ax.set_xlabel(\"Skew\")\n",
    "ax.set_ylabel(\"Density\")\n",
    "plt.tight_layout()\n",
    "f.savefig(save_path+\"skew.pdf\", bbox_inches=\"tight\")"
   ]
  },
  {
   "cell_type": "code",
   "execution_count": null,
   "metadata": {
    "collapsed": true
   },
   "outputs": [],
   "source": [
    "kurtoses = X.apply(lambda x: stats.kurtosis(x.dropna())).dropna()\n",
    "kurtoses = kurtoses[(kurtoses >= -25) & (kurtoses < 200)]"
   ]
  },
  {
   "cell_type": "code",
   "execution_count": null,
   "metadata": {
    "collapsed": false
   },
   "outputs": [],
   "source": [
    "f = plt.figure(figsize = (8,3))\n",
    "ax = sns.distplot(kurtoses, bins=25, hist_kws = outline_bars)\n",
    "ax.set_xlim(xmin=-25, xmax=200)\n",
    "ax.xaxis.set_major_locator(ticker.MultipleLocator(25))\n",
    "add_vertical_line(ax, 0, \"Norm\", color=\"b\")\n",
    "add_vertical_line(ax, np.median(kurtoses), \"Median\", color=\"r\")\n",
    "ax.set_xlabel(\"Kurtosis (Fisher's)\")\n",
    "ax.set_ylabel(\"Density\")\n",
    "plt.tight_layout()\n",
    "f.savefig(save_path+\"kurtosis.pdf\", bbox_inches=\"tight\")"
   ]
  },
  {
   "cell_type": "markdown",
   "metadata": {},
   "source": [
    "[KURTOSIS  BY FEATURE (GROUPED BY WHETHER ZEROS-REMOVED)]"
   ]
  },
  {
   "cell_type": "markdown",
   "metadata": {},
   "source": [
    "[BOXPLOT OF FEATURES]"
   ]
  },
  {
   "cell_type": "code",
   "execution_count": null,
   "metadata": {
    "collapsed": false
   },
   "outputs": [],
   "source": [
    "iqrs = X.apply(lambda x: stats.iqr(x.dropna())).dropna()\n",
    "iqrs = np.log1p(iqrs)\n",
    "iqrs = iqrs[(iqrs >= 0) & (iqrs < 25)]"
   ]
  },
  {
   "cell_type": "code",
   "execution_count": null,
   "metadata": {
    "collapsed": false
   },
   "outputs": [],
   "source": [
    "f = plt.figure(figsize = (8,3))\n",
    "ax = sns.distplot(iqrs, bins=25, hist_kws = outline_bars)\n",
    "ax.set_xlim(xmin=0, xmax=25)\n",
    "add_vertical_line(ax, np.mean(iqrs), \"Mean\", color=\"b\")\n",
    "add_vertical_line(ax, np.median(iqrs), \"Median\", color=\"r\")\n",
    "ax.set_xlabel(\"Interquartile Range (log1p)\")\n",
    "ax.set_ylabel(\"Density\")\n",
    "plt.tight_layout()\n",
    "f.savefig(save_path+\"scaling.pdf\", bbox_inches=\"tight\")"
   ]
  },
  {
   "cell_type": "markdown",
   "metadata": {},
   "source": [
    "[ORTHOGONALITY]"
   ]
  },
  {
   "cell_type": "code",
   "execution_count": null,
   "metadata": {
    "collapsed": true
   },
   "outputs": [],
   "source": [
    "X_sample = X.sample(1000)\n",
    "thresholds = [x*.1 for x in range(10)]"
   ]
  },
  {
   "cell_type": "code",
   "execution_count": null,
   "metadata": {
    "collapsed": true
   },
   "outputs": [],
   "source": [
    "pearson = {x: pd.DataFrame(np.where(abs(X_sample.corr(method=\"pearson\").stack()) >= x, True, False)).stack().value_counts(normalize=True)[True]*100 for x in thresholds}\n",
    "pearson = pd.DataFrame.from_dict(data=pearson, orient=\"index\")\n",
    "pearson[\"Method\"] = \"Pearson\""
   ]
  },
  {
   "cell_type": "code",
   "execution_count": null,
   "metadata": {
    "collapsed": true
   },
   "outputs": [],
   "source": [
    "kendall = {x: pd.DataFrame(np.where(abs(X_sample.corr(method=\"kendall\").stack()) >= x, True, False)).stack().value_counts(normalize=True)[True]*100 for x in thresholds}\n",
    "kendall = pd.DataFrame.from_dict(data=kendall, orient=\"index\")\n",
    "kendall[\"Method\"] = \"kendall\""
   ]
  },
  {
   "cell_type": "code",
   "execution_count": null,
   "metadata": {
    "collapsed": false
   },
   "outputs": [],
   "source": [
    "spearman = {x: pd.DataFrame(np.where(abs(X_sample.corr(method=\"spearman\").stack()) >= x, True, False)).stack().value_counts(normalize=True)[True]*100 for x in thresholds}\n",
    "spearman = pd.DataFrame.from_dict(data=spearman, orient=\"index\")\n",
    "spearman[\"Method\"] = \"Spearman\""
   ]
  },
  {
   "cell_type": "code",
   "execution_count": null,
   "metadata": {
    "collapsed": false
   },
   "outputs": [],
   "source": [
    "corrs = pd.concat([spearman, pearson], axis=0)\n",
    "corrs = corrs.drop(0.0)"
   ]
  },
  {
   "cell_type": "code",
   "execution_count": null,
   "metadata": {
    "collapsed": false
   },
   "outputs": [],
   "source": [
    "f = plt.figure()\n",
    "ax = sns.barplot(x=corrs.index, y=corrs[0], hue=corrs[\"Method\"], **outline_bars)\n",
    "auto_label(ax, fmt='{:,.0f}%')\n",
    "ax.set_xlabel(\"Correlation Cutoff (abs)\")\n",
    "ax.set_ylabel(\"Intercorrelations\\nabove Cutoff (%)\")\n",
    "plt.tight_layout()\n",
    "f.savefig(save_path+\"orthogonality.pdf\", bbox_inches=\"tight\")"
   ]
  },
  {
   "cell_type": "markdown",
   "metadata": {},
   "source": [
    "# 3.2 Pre-Processing"
   ]
  },
  {
   "cell_type": "markdown",
   "metadata": {},
   "source": [
    "## 3.2.1 Imputation"
   ]
  },
  {
   "cell_type": "markdown",
   "metadata": {},
   "source": [
    "Figure 3. Mean, median and mode of features (grouped bar plot)."
   ]
  },
  {
   "cell_type": "code",
   "execution_count": null,
   "metadata": {
    "collapsed": false
   },
   "outputs": [],
   "source": [
    "means = X_sample.apply(lambda x: np.mean(x.dropna())).dropna()"
   ]
  },
  {
   "cell_type": "code",
   "execution_count": null,
   "metadata": {
    "collapsed": false
   },
   "outputs": [],
   "source": [
    "medians = X_sample.apply(lambda x: np.median(x.dropna())).dropna()"
   ]
  },
  {
   "cell_type": "code",
   "execution_count": null,
   "metadata": {
    "collapsed": true
   },
   "outputs": [],
   "source": [
    "modes = X.apply(get_mode).dropna()"
   ]
  },
  {
   "cell_type": "code",
   "execution_count": null,
   "metadata": {
    "collapsed": false
   },
   "outputs": [],
   "source": [
    "f = plt.figure()\n",
    "plt.hist([means, medians, modes],label=[\"Mean\",\"Median\",\"Mode\"], **outline_bars)\n",
    "plt.xlabel(\"Measures of Central Tendency\")\n",
    "plt.ylabel(\"Features\")\n",
    "plt.legend(title=\"Method\")\n",
    "plt.tight_layout()\n",
    "f.savefig(save_path+\"central_tendency.pdf\", bbox_inches=\"tight\")"
   ]
  },
  {
   "cell_type": "markdown",
   "metadata": {},
   "source": [
    "Figure 3. ROC Curve for different imputations - mean, median, mode (line plot)."
   ]
  },
  {
   "cell_type": "code",
   "execution_count": null,
   "metadata": {
    "collapsed": false
   },
   "outputs": [],
   "source": [
    "df_create = get_results(15, \"create\")"
   ]
  },
  {
   "cell_type": "code",
   "execution_count": null,
   "metadata": {
    "collapsed": false
   },
   "outputs": [],
   "source": [
    "f = plt.figure()\n",
    "order = df_create.groupby(\"Imputer\")[\"PRC\"].median().sort_values(ascending=False).index.tolist()\n",
    "ax = sns.boxplot(x=\"PRC\", y=\"Imputer\", data=df_create, order=order, fliersize=0)\n",
    "ax.set_xlabel(\"Area Under Precision-Recall Curve\")\n",
    "ax.set_ylabel(\"Imputer Strategy\")\n",
    "add_vertical_line(ax, df_create[\"outcome_chance\"].ix[0], \"Chance\", color=\"r\")\n",
    "plt.tight_layout()\n",
    "f.savefig(save_path+\"imputer.pdf\", bbox_inches=\"tight\")"
   ]
  },
  {
   "cell_type": "code",
   "execution_count": null,
   "metadata": {
    "collapsed": false
   },
   "outputs": [],
   "source": [
    "f = plt.figure()\n",
    "order = df_create.groupby(\"Transformer\")[\"PRC\"].median().sort_values(ascending=False).index.tolist()\n",
    "ax = sns.boxplot(x=\"PRC\", y=\"Transformer\", data=df_create, order=order, fliersize=0)\n",
    "ax.set_xlabel(\"Area Under Precision-Recall Curve\")\n",
    "ax.set_ylabel(\"Transformation Function\")\n",
    "add_vertical_line(ax, df_create[\"outcome_chance\"].ix[0], \"Chance\", color=\"r\")\n",
    "plt.tight_layout()\n",
    "f.savefig(save_path+\"transformer.pdf\", bbox_inches=\"tight\")"
   ]
  },
  {
   "cell_type": "code",
   "execution_count": null,
   "metadata": {
    "collapsed": false
   },
   "outputs": [],
   "source": [
    "f = plt.figure()\n",
    "order = df_create.groupby(\"Scaler\")[\"PRC\"].median().sort_values(ascending=False).index.tolist()\n",
    "ax = sns.boxplot(x=\"PRC\", y=\"Scaler\", data=df_create, order=order, fliersize=0)\n",
    "ax.set_xlabel(\"Area Under Precision-Recall Curve\")\n",
    "ax.set_ylabel(\"Scaling Function\")\n",
    "add_vertical_line(ax, df_create[\"outcome_chance\"].ix[0], \"Chance\", color=\"r\")\n",
    "plt.tight_layout()\n",
    "f.savefig(save_path+\"scaler.pdf\", bbox_inches=\"tight\")"
   ]
  },
  {
   "cell_type": "code",
   "execution_count": null,
   "metadata": {
    "collapsed": false
   },
   "outputs": [],
   "source": [
    "f = plt.figure()\n",
    "order = df_create['param_extractor__n_components_bin_20'].value_counts().index.sort_values().tolist()\n",
    "order = list(map(lambda x: {0 : \"1-20\", 1 : \"21-40\", 2: \"41-60\",3: \"61-80\", 4: \"81-100\"}[x], order))\n",
    "ax = sns.boxplot(x=\"PRC\", y=\"Extractor\", data=df_create, order=order, fliersize=0)\n",
    "ax.set_xlabel(\"Area Under Precision-Recall Curve\")\n",
    "ax.set_ylabel(\"PCA Extracted Components\")\n",
    "add_vertical_line(ax, df_create[\"outcome_chance\"].ix[0], \"Chance\", color=\"r\")\n",
    "plt.tight_layout()\n",
    "f.savefig(save_path+\"extracter.pdf\", bbox_inches=\"tight\")"
   ]
  },
  {
   "cell_type": "code",
   "execution_count": null,
   "metadata": {
    "collapsed": false
   },
   "outputs": [],
   "source": [
    "f = plt.figure()\n",
    "order = df_create.groupby(\"Classifier\")[\"PRC\"].quantile(0.75).sort_values(ascending=False).index.tolist()\n",
    "ax = sns.boxplot(x=\"PRC\", y=\"Classifier\", data=df_create, order=order, fliersize=0)\n",
    "ax.set_xlabel(\"Area Under Precision-Recall Curve\")\n",
    "ax.set_ylabel(\"Classification Algorithm\")\n",
    "add_vertical_line(ax, df_create[\"outcome_chance\"].ix[0], \"Chance\", color=\"r\")\n",
    "plt.tight_layout()\n",
    "f.savefig(save_path+\"classifier.pdf\", bbox_inches=\"tight\")"
   ]
  },
  {
   "cell_type": "code",
   "execution_count": null,
   "metadata": {
    "collapsed": true
   },
   "outputs": [],
   "source": [
    "df_create = get_results(16, \"create\")"
   ]
  },
  {
   "cell_type": "code",
   "execution_count": null,
   "metadata": {
    "collapsed": false
   },
   "outputs": [],
   "source": [
    "df_create[\"ROC\"] = df_create[\"ROC\"].fillna(df_create['AUC'])"
   ]
  },
  {
   "cell_type": "code",
   "execution_count": null,
   "metadata": {
    "collapsed": true
   },
   "outputs": [],
   "source": [
    "df_create[\"MCC\"] = df_create[\"MCC\"].fillna(df_create['MC'])"
   ]
  },
  {
   "cell_type": "code",
   "execution_count": null,
   "metadata": {
    "collapsed": false
   },
   "outputs": [],
   "source": [
    "groups = [df_create[\"Classifier\"]]\n",
    "columns = [\"PRC\", \"ROC\", \"F1\", \"MCC\", \"Time\"]\n",
    "colnames = [\"AUC PRC\", \"AUC ROC\", \"F1\", \"MCC\", \"Fit Time (s)\"]\n",
    "colfuncs = [\n",
    "    OrderedDict([(\"Median\", np.median),(\"Max\", np.max)]), \n",
    "    OrderedDict([(\"Median\", np.median),(\"Max\", np.max)]), \n",
    "    OrderedDict([(\"Median\", np.median),(\"Max\", np.max)]), \n",
    "    OrderedDict([(\"Median\", np.median),(\"Max\", np.max)]), \n",
    "    OrderedDict([(\"Median\", np.median),(\"IQR\", lambda x: stats.iqr(x,nan_policy=\"omit\"))])]\n",
    "\n",
    "namefunc = OrderedDict(zip(columns, colnames))\n",
    "aggfunc = OrderedDict(zip(columns, colfuncs))\n",
    "\n",
    "tab = df_create[columns]\n",
    "tab = tab.groupby(groups)\n",
    "tab = tab.agg(aggfunc)\n",
    "tab = tab.rename(columns=namefunc)\n",
    "tab"
   ]
  },
  {
   "cell_type": "code",
   "execution_count": null,
   "metadata": {
    "collapsed": false
   },
   "outputs": [],
   "source": [
    "tab.to_latex()"
   ]
  },
  {
   "cell_type": "markdown",
   "metadata": {},
   "source": [
    "## 3.2.2 Transformation"
   ]
  },
  {
   "cell_type": "markdown",
   "metadata": {},
   "source": [
    "--> Apply Imputation"
   ]
  },
  {
   "cell_type": "code",
   "execution_count": null,
   "metadata": {
    "collapsed": false
   },
   "outputs": [],
   "source": [
    "X = X.dropna(axis=1, how = \"all\")\n",
    "imp = Imputer(strategy=\"median\")\n",
    "X_imp = imp.fit_transform(X)\n",
    "X_imp = pd.DataFrame(X_imp, index=X.index, columns=list(X))"
   ]
  },
  {
   "cell_type": "markdown",
   "metadata": {},
   "source": [
    "--> Shift to positive numbers only"
   ]
  },
  {
   "cell_type": "code",
   "execution_count": null,
   "metadata": {
    "collapsed": false
   },
   "outputs": [],
   "source": [
    "mins_by_col = X_imp.min(axis=0)#.dropna()"
   ]
  },
  {
   "cell_type": "code",
   "execution_count": null,
   "metadata": {
    "collapsed": false
   },
   "outputs": [],
   "source": [
    "X_pos = X_imp.subtract(X_imp.min(axis=0))\n",
    "X_pos.describe()"
   ]
  },
  {
   "cell_type": "markdown",
   "metadata": {},
   "source": [
    "--> Start transformations"
   ]
  },
  {
   "cell_type": "code",
   "execution_count": null,
   "metadata": {
    "collapsed": false
   },
   "outputs": [],
   "source": [
    "funding = pd.to_numeric(X_pos[\"confidence_validation_funding_raised_value_total_number\"],errors=\"coerce\")"
   ]
  },
  {
   "cell_type": "code",
   "execution_count": null,
   "metadata": {
    "collapsed": false
   },
   "outputs": [],
   "source": [
    "funding.shape"
   ]
  },
  {
   "cell_type": "code",
   "execution_count": null,
   "metadata": {
    "collapsed": false
   },
   "outputs": [],
   "source": [
    "log1p = pd.DataFrame(np.log1p(funding), index=X_pos.index)"
   ]
  },
  {
   "cell_type": "code",
   "execution_count": null,
   "metadata": {
    "collapsed": false
   },
   "outputs": [],
   "source": [
    "sqrt = pd.DataFrame(funding**(1/2), index=X_pos.index)"
   ]
  },
  {
   "cell_type": "code",
   "execution_count": null,
   "metadata": {
    "collapsed": false
   },
   "outputs": [],
   "source": [
    "funding = funding.to_frame()\n",
    "funding[\"Method\"] = \"None\"\n",
    "log1p[\"Method\"] = \"Log1P\"\n",
    "sqrt[\"Method\"] = \"SQRT\"\n",
    "transforms = pd.concat([funding,log1p,sqrt],axis=0)"
   ]
  },
  {
   "cell_type": "code",
   "execution_count": null,
   "metadata": {
    "collapsed": false
   },
   "outputs": [],
   "source": [
    "transforms.groupby(\"Method\").describe()"
   ]
  },
  {
   "cell_type": "code",
   "execution_count": null,
   "metadata": {
    "collapsed": true
   },
   "outputs": [],
   "source": [
    "transforms = transforms.sample(1000)"
   ]
  },
  {
   "cell_type": "code",
   "execution_count": null,
   "metadata": {
    "collapsed": true
   },
   "outputs": [],
   "source": [
    "funding = transforms[\"confidence_validation_funding_raised_value_total_number\"]\n",
    "funding.name = \"Funding Raised\""
   ]
  },
  {
   "cell_type": "code",
   "execution_count": null,
   "metadata": {
    "collapsed": false
   },
   "outputs": [],
   "source": [
    "f, (ax1, ax2, ax3) = plt.subplots(nrows=1, ncols=3)\n",
    "\n",
    "sns.distplot(funding[transforms[\"Method\"] == \"None\"],ax=ax1)\n",
    "ax1.set_title(\"None\")\n",
    "ax1.xaxis.label.set_visible(False)\n",
    "\n",
    "sns.distplot(funding[transforms[\"Method\"] == \"SQRT\"],ax=ax2)\n",
    "ax2.set_title(\"SQRT\")\n",
    "ax2.xaxis.label.set_visible(False)\n",
    "\n",
    "sns.distplot(funding[transforms[\"Method\"] == \"Log1P\"],ax=ax3)\n",
    "ax3.set_title(\"Log1P\")\n",
    "ax3.xaxis.label.set_visible(False)\n",
    "\n",
    "f.text(0.5, -0.04, 'Funding Raised', size= MEDIUM_SIZE, ha='center')\n",
    "f.text(-0.04, 0.5, 'Density', va='center', size= MEDIUM_SIZE, rotation='vertical')\n",
    "plt.tight_layout()\n",
    "f.savefig(save_path+\"funding_transformation.pdf\", bbox_inches=\"tight\")"
   ]
  },
  {
   "cell_type": "code",
   "execution_count": null,
   "metadata": {
    "collapsed": false
   },
   "outputs": [],
   "source": [
    "groups = \"Method\"\n",
    "columns = \"confidence_validation_funding_raised_value_total_number\"\n",
    "colnames = [\"Funding Raised\"]\n",
    "colfuncs = [\n",
    "    OrderedDict([\n",
    "        (\"Skew\", lambda x: stats.skew(x,nan_policy=\"omit\")),\n",
    "        (\"Kurtosis\", lambda x: stats.kurtosis(x,nan_policy=\"omit\")),\n",
    "        #(\"Skew (0R)\", lambda x: stats.skew(x.replace(0., np.nan),nan_policy=\"omit\"))\n",
    "        (\"Kurtosis (0R)\", lambda x: stats.kurtosis(x.replace(0., np.nan),nan_policy=\"omit\"))\n",
    "    ]\n",
    "    ) \n",
    "]\n",
    "\n",
    "namefunc = OrderedDict(zip(columns, colnames))\n",
    "aggfunc = OrderedDict(zip(columns, colfuncs))\n",
    "\n",
    "order_1 = [\"None\", \"Log1P\", \"SQRT\"]\n",
    "\n",
    "tab = transforms.groupby(groups)\n",
    "tab = tab[columns]\n",
    "tab = tab.agg(aggfunc)\n",
    "tab = tab.rename(columns=namefunc)\n",
    "tab"
   ]
  },
  {
   "cell_type": "code",
   "execution_count": null,
   "metadata": {
    "collapsed": true
   },
   "outputs": [],
   "source": [
    "tab = transforms.groupby(groups)\n",
    "tab = tab[columns].replace(0, np.nan)\n",
    "tab = tab.agg(aggfunc)\n",
    "tab = tab.rename(columns=namefunc)\n",
    "tab"
   ]
  },
  {
   "cell_type": "code",
   "execution_count": null,
   "metadata": {
    "collapsed": false
   },
   "outputs": [],
   "source": [
    "tab.to_latex()"
   ]
  },
  {
   "cell_type": "code",
   "execution_count": null,
   "metadata": {
    "collapsed": true
   },
   "outputs": [],
   "source": [
    "binary = pd.Series(np.where(funding == 0, 0, 1), index=X_pos.index)"
   ]
  },
  {
   "cell_type": "markdown",
   "metadata": {},
   "source": [
    "--> Apply transformations"
   ]
  },
  {
   "cell_type": "code",
   "execution_count": null,
   "metadata": {
    "collapsed": true
   },
   "outputs": [],
   "source": [
    "from sklearn.preprocessing import FunctionTransformer\n",
    "\n",
    "ft = FunctionTransformer(np.log1p)\n",
    "X_tf = ft.fit_transform(X_pos)\n",
    "X_tf = pd.DataFrame(X_tf, index=X_pos.index, columns=list(X_pos))"
   ]
  },
  {
   "cell_type": "markdown",
   "metadata": {},
   "source": [
    "--> Start scaling"
   ]
  },
  {
   "cell_type": "markdown",
   "metadata": {},
   "source": [
    "--> Apply scaling"
   ]
  },
  {
   "cell_type": "code",
   "execution_count": null,
   "metadata": {
    "collapsed": true
   },
   "outputs": [],
   "source": [
    "from sklearn.preprocessing import scale\n",
    "\n",
    "X_std = scale(X_tf)\n",
    "X_std = pd.DataFrame(X_std, index=X_tf.index, columns=list(X_tf))"
   ]
  },
  {
   "cell_type": "markdown",
   "metadata": {},
   "source": [
    "## 3.2.3 Extraction"
   ]
  },
  {
   "cell_type": "markdown",
   "metadata": {},
   "source": [
    "PCA Model"
   ]
  },
  {
   "cell_type": "code",
   "execution_count": null,
   "metadata": {
    "collapsed": true
   },
   "outputs": [],
   "source": [
    "#Principal Components Analysis (PCA)\n",
    "from sklearn.decomposition import PCA\n",
    "pca = PCA().fit(X_std)"
   ]
  },
  {
   "cell_type": "code",
   "execution_count": null,
   "metadata": {
    "collapsed": false
   },
   "outputs": [],
   "source": [
    "f = plt.figure(figsize=(10,3))\n",
    "plt.plot(np.arange(len(y)) + 1, pca.explained_variance_)\n",
    "ax = plt.gca()\n",
    "ax.xaxis.set_major_locator(ticker.MultipleLocator(5))\n",
    "ax.set_ylabel(\"Eigenvalue\")\n",
    "ax.set_xlabel(\"Component Number\")\n",
    "add_horizontal_line(ax, 1, \"Cutoff (1)\", color=\"r\")\n",
    "ax.set_xlim(1,50)\n",
    "plt.tight_layout()\n",
    "f.savefig(save_path+\"scree_plot.pdf\", bbox_inches=\"tight\")"
   ]
  },
  {
   "cell_type": "markdown",
   "metadata": {},
   "source": [
    "Grouped"
   ]
  },
  {
   "cell_type": "code",
   "execution_count": null,
   "metadata": {
    "collapsed": true
   },
   "outputs": [],
   "source": [
    "from collections import defaultdict\n",
    "from itertools import combinations\n",
    "\n",
    "features = list(X_std)\n",
    "f_map = {x: '_'.join(x.split(\"_\")[:3]) for x in features}\n",
    "f_group = defaultdict(list)\n",
    "for f,g in f_map.items():\n",
    "    f_group[g].append(f)\n",
    "agg_group = {}\n",
    "for g,l in f_group.items():\n",
    "    combo = combinations(l, 2)\n",
    "    for x,y in combo:\n",
    "        corr = stats.spearmanr(X_std[x][:100], X_std[y][:100])[0]\n",
    "        if corr < 0: X_std[y] *= -1\n",
    "    tot = X_std[l].sum(axis=1)\n",
    "    agg_group[g] = tot\n",
    "X_grp = pd.DataFrame(agg_group)\n",
    "grp_corr = X_grp.corr(method=\"spearman\")\n"
   ]
  },
  {
   "cell_type": "code",
   "execution_count": null,
   "metadata": {
    "collapsed": false
   },
   "outputs": [],
   "source": [
    "f = plt.figure()\n",
    "mask = np.zeros_like(grp_corr)\n",
    "mask[np.triu_indices_from(mask)] = True\n",
    "f_names = [x.split(\"_\")[2] for x in list(X_grp)]\n",
    "ax = sns.heatmap(grp_corr,square=True, mask=mask, robust=True, vmin = -0.5, vmax = 0.5, xticklabels=f_names, yticklabels=f_names, **outline_bars)\n",
    "ax.collections[0].colorbar.set_label(\"Spearman Correlation\")\n",
    "ax.set_xlabel(\"Grouped Features\")\n",
    "ax.set_ylabel(\"Grouped Features\")\n",
    "plt.tight_layout()\n",
    "f.savefig(save_path+\"grouped_heatmap.pdf\", bbox_inches=\"tight\")"
   ]
  },
  {
   "cell_type": "markdown",
   "metadata": {},
   "source": [
    "# 3.3 Classification"
   ]
  },
  {
   "cell_type": "markdown",
   "metadata": {},
   "source": [
    "# 3.4 Experimentation"
   ]
  },
  {
   "cell_type": "markdown",
   "metadata": {},
   "source": [
    "## 3.4.2 Robustness"
   ]
  },
  {
   "cell_type": "markdown",
   "metadata": {},
   "source": [
    "## 3.4.3 Predictive Power"
   ]
  },
  {
   "cell_type": "markdown",
   "metadata": {
    "collapsed": true
   },
   "source": [
    "Table 3.5 Comparison of 2013 slice from 2016 dataset with original 2013 dataset."
   ]
  },
  {
   "cell_type": "code",
   "execution_count": null,
   "metadata": {
    "collapsed": false
   },
   "outputs": [],
   "source": [
    "df_create = get_results(16, \"create\")"
   ]
  },
  {
   "cell_type": "code",
   "execution_count": null,
   "metadata": {
    "collapsed": false
   },
   "outputs": [],
   "source": [
    "df_create[\"outcome_chance\"].ix[0]"
   ]
  },
  {
   "cell_type": "code",
   "execution_count": null,
   "metadata": {
    "collapsed": false
   },
   "outputs": [],
   "source": [
    "f = plot_learning_curves(df_create, \"Classifier\")\n",
    "#f.savefig(save_path+\"create_learning_curves.pdf\", bbox_inches=\"tight\")"
   ]
  },
  {
   "cell_type": "code",
   "execution_count": null,
   "metadata": {
    "collapsed": false
   },
   "outputs": [],
   "source": [
    "df_select = get_results(16, \"select\")"
   ]
  },
  {
   "cell_type": "code",
   "execution_count": null,
   "metadata": {
    "collapsed": true
   },
   "outputs": [],
   "source": [
    "df_select[\"feature_date_str\"] = df_select[\"feature_date\"].apply(lambda x: x.strftime(\"%Y-%m\"))"
   ]
  },
  {
   "cell_type": "code",
   "execution_count": null,
   "metadata": {
    "collapsed": true
   },
   "outputs": [],
   "source": [
    "df_select2 = df_select.copy()\n",
    "df_select2[\"feature_date_str\"] = \"Overall\"\n",
    "df_select2 = pd.concat([df_select2, df_select],axis=0)"
   ]
  },
  {
   "cell_type": "code",
   "execution_count": null,
   "metadata": {
    "collapsed": false
   },
   "outputs": [],
   "source": [
    "from datetime import date"
   ]
  },
  {
   "cell_type": "code",
   "execution_count": null,
   "metadata": {
    "collapsed": false
   },
   "outputs": [],
   "source": [
    "f = plt.figure()\n",
    "order = df_select[\"feature_date_str\"].value_counts().index.sort_values(ascending=True).tolist()\n",
    "order.append(\"Overall\")\n",
    "ax = sns.boxplot(x=\"PRC\", y=\"feature_date_str\", data=df_select2, order=order, fliersize=0)\n",
    "ax.set_xlabel(\"Area Under Precision-Recall Curve\")\n",
    "ax.set_ylabel(\"Feature Slice Date\")\n",
    "#add_vertical_line(ax, df_select[\"outcome_chance\"].median(), \"Chance\", color=\"r\")\n",
    "add_horizontal_line(ax, 6.5, \"\", color=\"black\")\n",
    "plt.tight_layout()\n",
    "f.savefig(save_path+\"selection_agg_slice.pdf\", bbox_inches=\"tight\")"
   ]
  },
  {
   "cell_type": "code",
   "execution_count": null,
   "metadata": {
    "collapsed": false
   },
   "outputs": [],
   "source": [
    "df_select = get_results(16, \"select\")"
   ]
  },
  {
   "cell_type": "code",
   "execution_count": null,
   "metadata": {
    "collapsed": false
   },
   "outputs": [],
   "source": [
    "df_select3 = df_select[~np.isnan(df_select[\"rank_create\"])]"
   ]
  },
  {
   "cell_type": "code",
   "execution_count": null,
   "metadata": {
    "collapsed": false
   },
   "outputs": [],
   "source": [
    "labels = df_select3[[\"rank_create\",\"Classifier\"]].drop_duplicates().sort_values(by=\"rank_create\", ascending=True)[\"Classifier\"].tolist()"
   ]
  },
  {
   "cell_type": "code",
   "execution_count": null,
   "metadata": {
    "collapsed": false
   },
   "outputs": [],
   "source": [
    "f = plt.figure()\n",
    "order = df_select3[\"rank_create\"].value_counts().index.tolist()\n",
    "ax = sns.boxplot(x=\"PRC\", y=\"rank_create\", data=df_select3, order=order, fliersize=0, orient=\"h\")\n",
    "ax.set_yticklabels([\"{:,.0f}\".format(ytick+1) for ytick in ax.get_yticks().tolist()])\n",
    "ax.set_xlabel(\"Area Under Precision-Recall Curve\")\n",
    "ax.set_ylabel(\"Finalist Ranking\")\n",
    "add_boxplot_labels(ax, labels)\n",
    "#add_vertical_line(ax, df_select3[\"outcome_chance\"].median(), \"Chance\", color=\"r\")\n",
    "#add_horizontal_line(ax, 5.5, \"\", color=\"black\")\n",
    "plt.tight_layout()\n",
    "f.savefig(save_path+\"selection_agg_rank.pdf\", bbox_inches=\"tight\")"
   ]
  },
  {
   "cell_type": "code",
   "execution_count": null,
   "metadata": {
    "collapsed": false
   },
   "outputs": [],
   "source": [
    "pipelines = get_results(16, \"select\")"
   ]
  },
  {
   "cell_type": "code",
   "execution_count": null,
   "metadata": {
    "collapsed": true
   },
   "outputs": [],
   "source": [
    "rank_pipelines(df_select3, 1, \"PRC\", \"select\")[\"Params\"]"
   ]
  },
  {
   "cell_type": "code",
   "execution_count": null,
   "metadata": {
    "collapsed": false
   },
   "outputs": [],
   "source": [
    "best_pipeline = rank_pipelines(df_select3, 1, \"PRC\", \"select\")"
   ]
  },
  {
   "cell_type": "markdown",
   "metadata": {},
   "source": [
    "Pipeline Evaluation"
   ]
  },
  {
   "cell_type": "markdown",
   "metadata": {},
   "source": [
    "Efficiency"
   ]
  },
  {
   "cell_type": "markdown",
   "metadata": {},
   "source": [
    "Robustness"
   ]
  },
  {
   "cell_type": "code",
   "execution_count": null,
   "metadata": {
    "collapsed": true
   },
   "outputs": [],
   "source": [
    "index=[\"People\", \"Companies\", \"Funding Rounds\", \"Acquisitions\", \"IPOs\"]\n",
    "\n",
    "sliced = pd.DataFrame({\"Counts\":[216146, 179351,49131,8882,790]}, index=index)\n",
    "original = pd.DataFrame({\"Counts\": [226709, 196553,52928,9562,1259]},index=index)\n",
    "\n",
    "sliced[\"Method\"] = \"Slice\"\n",
    "original[\"Method\"] = \"Original\"\n",
    "counts = pd.concat([sliced, original], axis=0)\n",
    " "
   ]
  },
  {
   "cell_type": "code",
   "execution_count": null,
   "metadata": {
    "collapsed": false
   },
   "outputs": [],
   "source": [
    "f = plt.figure(figsize=(9,4))\n",
    "ax = sns.barplot(x=counts.index, y=counts[\"Counts\"], hue=counts[\"Method\"], **outline_bars)\n",
    "auto_label(ax, fmt='{:,.0f}')\n",
    "ax.set_xlabel(\"Relations\")\n",
    "ax.set_ylabel(\"Records\")\n",
    "plt.tight_layout()\n",
    "f.savefig(save_path+\"2013_slice_comparison.pdf\", bbox_inches=\"tight\")"
   ]
  },
  {
   "cell_type": "code",
   "execution_count": null,
   "metadata": {
    "collapsed": false
   },
   "outputs": [],
   "source": [
    "#constants\n",
    "input_path = path+\"analysis/input/master.db\"\n",
    "feature_config = path+\"analysis/config/master_feature.sql\"\n",
    "output_folder = path+\"analysis/output/autoVC/17/\"\n",
    "slice_output_pickle = output_folder+\"output.pkl\""
   ]
  },
  {
   "cell_type": "code",
   "execution_count": null,
   "metadata": {
    "collapsed": false
   },
   "outputs": [],
   "source": [
    "slices = [date(2012+x, 4, 1) for x in range(5)]\n",
    "slice_counts = pd.DataFrame()\n",
    "for slice_date in slices:\n",
    "    df = vc.prepare_dataset(input_path, slice_date, feature_config, \"feature\", output_folder, alt=True)\n",
    "    df = vc.add_stages(df)\n",
    "    temp = pd.DataFrame()\n",
    "    temp[\"id\"] = df[\"keys_company_name_id\"]\n",
    "    temp[\"stage\"] = df[\"keys_company_stage\"]\n",
    "    temp[\"group\"] = df[\"keys_company_stage_group\"]\n",
    "    ages = df['confidence_context_broader_company_age_number']\n",
    "    age_cutoff = ages[temp[\"stage\"] == \"Series D+\"].quantile(0.75)\n",
    "    temp[\"age_cutoff\"] = np.where(ages <= age_cutoff, \"Included\", \"Excluded\")\n",
    "    temp[\"date\"] = slice_date\n",
    "    slice_counts = pd.concat([temp, slice_counts], axis=0, ignore_index=True)\n",
    "    slice_counts.to_pickle(output_pickle)"
   ]
  },
  {
   "cell_type": "code",
   "execution_count": null,
   "metadata": {
    "collapsed": false
   },
   "outputs": [],
   "source": [
    "slice_counts= pd.read_pickle(slice_output_pickle)"
   ]
  },
  {
   "cell_type": "code",
   "execution_count": null,
   "metadata": {
    "collapsed": false
   },
   "outputs": [],
   "source": [
    "list(slice_counts)"
   ]
  },
  {
   "cell_type": "code",
   "execution_count": null,
   "metadata": {
    "collapsed": false
   },
   "outputs": [],
   "source": [
    "slice_counts[\"Slice\"] = slice_counts[\"date\"].apply(lambda x: x.year)"
   ]
  },
  {
   "cell_type": "code",
   "execution_count": null,
   "metadata": {
    "collapsed": false
   },
   "outputs": [],
   "source": [
    "f = plt.figure()\n",
    "order_1 = [\"Pre-Seed\", \"Seed\", \"Series A\", \"Series B\", \"Series C\", \"Series D+\", \"IPO\", \"Acquired\", \"Closed\", \"Other\"]\n",
    "order_2 = [2012, 2013, 2014, 2015, 2016]\n",
    "ax = sns.countplot(x=\"stage\", hue=\"Slice\", order=order_1, hue_order=order_2, data=slice_counts, **outline_bars)\n",
    "#auto_label(ax, fmt='{:,.0f}')\n",
    "plt.xticks(rotation=30)\n",
    "ax.set_yticklabels([\"{:,.0f}\".format(ytick) for ytick in ax.get_yticks().tolist()])\n",
    "ax.set_xlabel(\"Developmental Stage\")\n",
    "ax.set_ylabel(\"Companies\")\n",
    "plt.tight_layout()\n",
    "#f.savefig(save_path+\"slice_counts_over_time.pdf\", bbox_inches=\"tight\")"
   ]
  },
  {
   "cell_type": "markdown",
   "metadata": {},
   "source": [
    "Predictive Power"
   ]
  },
  {
   "cell_type": "code",
   "execution_count": null,
   "metadata": {
    "collapsed": true
   },
   "outputs": [],
   "source": [
    "#constants\n",
    "input_path = path+\"analysis/input/master.db\"\n",
    "feature_config = path+\"analysis/config/master_feature.sql\"\n",
    "label_config = path+\"analysis/config/master_label.sql\"\n",
    "merge_config = path+\"analysis/config/master_merge.sql\"\n",
    "output_folder = path+\"analysis/output/autoVC/17/\"\n",
    "merge_output_pickle = output_folder+\"merge_output.pkl\""
   ]
  },
  {
   "cell_type": "code",
   "execution_count": 46,
   "metadata": {
    "collapsed": true
   },
   "outputs": [],
   "source": [
    "features_stage_info = dict(\n",
    "    Age = 'confidence_context_broader_company_age_number',\n",
    "    FundingRounds = 'confidence_validation_funding_rounds_number',\n",
    "    FundingRaised = 'confidence_validation_funding_raised_value_total_number',\n",
    "    SeriesA = 'confidence_validation_funding_round_codes_list_a',\n",
    "    SeriesB = 'confidence_validation_funding_round_codes_list_b',\n",
    "    SeriesC = 'confidence_validation_funding_round_codes_list_c',\n",
    "    SeriesD = 'confidence_validation_funding_round_codes_list_d',\n",
    "    SeriesE = 'confidence_validation_funding_round_codes_list_e',\n",
    "    SeriesF = 'confidence_validation_funding_round_codes_list_f',\n",
    "    SeriesG = 'confidence_validation_funding_round_codes_list_g',\n",
    "    SeriesH = 'confidence_validation_funding_round_codes_list_h',\n",
    "    Closed = \"keys_company_status_closed_bool\",\n",
    "    Acquired = \"keys_company_status_acquired_bool\",\n",
    "    IPO = \"keys_company_status_ipo_bool\"\n",
    ")\n",
    "\n",
    "label_stage_info = dict(\n",
    "    Age = 'outcome_age_number',\n",
    "    FundingRounds = 'outcome_funding_rounds_number',\n",
    "    FundingRaised = 'outcome_funding_raised_value_total_number',\n",
    "    SeriesA = 'outcome_funding_round_codes_list_a',\n",
    "    SeriesB = 'outcome_funding_round_codes_list_b',\n",
    "    SeriesC = 'outcome_funding_round_codes_list_c',\n",
    "    SeriesD = 'outcome_funding_round_codes_list_d',\n",
    "    SeriesE = 'outcome_funding_round_codes_list_e',\n",
    "    SeriesF = 'outcome_funding_round_codes_list_f',\n",
    "    SeriesG = 'outcome_funding_round_codes_list_g',\n",
    "    SeriesH = 'outcome_funding_round_codes_list_h',\n",
    "    Closed = \"outcome_closed_bool\",\n",
    "    Acquired = \"outcome_acquired_bool\",\n",
    "    IPO = \"outcome_ipo_bool\"\n",
    ")"
   ]
  },
  {
   "cell_type": "code",
   "execution_count": null,
   "metadata": {
    "collapsed": false
   },
   "outputs": [],
   "source": [
    "slices = [date(2012+x, 4, 1) for x in range(5)]\n",
    "merge_counts = pd.DataFrame()\n",
    "for feature_date, label_date in combinations_with_replacement(slices, 2):\n",
    "    feature_clean_path = vc.prepare_dataset(input_path, feature_date, feature_config, \"feature\", output_folder)\n",
    "    label_clean_path = vc.prepare_dataset(input_path, label_date, label_config, \"label\", output_folder)\n",
    "    merge_path = vc.merge_datasets(feature_date, label_date, output_folder, feature_clean_path, label_clean_path, merge_config)\n",
    "    df = dp.export_dataframe(merge_path, \"merge\")\n",
    "    df = vc.add_stages(df, features_stage_info, \"feature\")\n",
    "    df = vc.add_stages(df, label_stage_info, \"label\")\n",
    "    df = vc.apply_constraints(df)\n",
    "    y = vc.make_label(df)\n",
    "    df = df[\"keys_company_name_id\", \"keys_company_uuid_id\",\n",
    "            \"keys_company_stage\", \"outcome_stage\",\n",
    "            \"keys_company_stage_number\", \"outcome_stage_number\", \n",
    "            \"outcome_extra_stage_number\", \"outcome_extra_stage_bool\"]\n",
    "    df[\"feature_date\"] = feature_date\n",
    "    df[\"label_date\"] = label_date\n",
    "    merge_counts = pd.concat([df, merge_counts], axis=0, ignore_index=True)\n",
    "    merge_counts.to_pickle(merge_output_pickle)"
   ]
  },
  {
   "cell_type": "code",
   "execution_count": null,
   "metadata": {
    "collapsed": false
   },
   "outputs": [],
   "source": [
    "merge_counts= pd.read_pickle(merge_output_pickle)"
   ]
  },
  {
   "cell_type": "code",
   "execution_count": null,
   "metadata": {
    "collapsed": false
   },
   "outputs": [],
   "source": [
    "merge_counts = merge_counts[[\n",
    "    \"keys_company_name_id\", \"keys_company_uuid_id\",\n",
    "    \"keys_company_stage\", \"outcome_stage\",\n",
    "    \"keys_company_stage_number\", \"outcome_stage_number\", \n",
    "    \"outcome_extra_stage_number\", \"outcome_extra_stage_bool\",\n",
    "    \"feature_date\", \"label_date\"]]"
   ]
  },
  {
   "cell_type": "code",
   "execution_count": null,
   "metadata": {
    "collapsed": true
   },
   "outputs": [],
   "source": [
    "merge_counts[\"outcome_exit_bool\"] = np.where((merge_counts[\"outcome_stage\"] == \"Acquisition\") | (merge_counts[\"outcome_stage\"] == \"IPO\"), 1, 0)"
   ]
  },
  {
   "cell_type": "code",
   "execution_count": null,
   "metadata": {
    "collapsed": true
   },
   "outputs": [],
   "source": [
    "merge_counts2 = merge_counts[merge_counts[\"feature_date\"] != merge_counts[\"label_date\"]]"
   ]
  },
  {
   "cell_type": "code",
   "execution_count": null,
   "metadata": {
    "collapsed": false
   },
   "outputs": [],
   "source": [
    "merge_counts3 = merge_counts2.groupby(['feature_date','keys_company_stage','label_date']).agg({'outcome_extra_stage_bool': lambda x: x.sum() / x.count() * 100})\n",
    "merge_counts3 = merge_counts3.reset_index()\n",
    "merge_counts3[\"forecast_window\"] = merge_counts3[\"label_date\"] - merge_counts3[\"feature_date\"]\n",
    "merge_counts3[\"forecast_window\"] = merge_counts3[\"forecast_window\"].apply(lambda x: x.days // 365).astype(str)"
   ]
  },
  {
   "cell_type": "code",
   "execution_count": null,
   "metadata": {
    "collapsed": false
   },
   "outputs": [],
   "source": [
    "f = plt.figure()\n",
    "ax = sns.boxplot(data = merge_counts3, x = \"outcome_extra_stage_bool\", y = \"forecast_window\", orient=\"h\")\n",
    "ax.set_xticklabels([\"{:,.0f}%\".format(xtick) for xtick in ax.get_xticks().tolist()])\n",
    "ax.set_xlabel(\"Companies that raised an\\nextra funding round or exited\")\n",
    "ax.set_ylabel(\"Forecast Window\\n(Years)\")\n",
    "plt.tight_layout()\n",
    "f.savefig(save_path+\"outcome_forecast_window.pdf\", bbox_inches=\"tight\")"
   ]
  },
  {
   "cell_type": "code",
   "execution_count": null,
   "metadata": {
    "collapsed": false
   },
   "outputs": [],
   "source": [
    "f = plt.figure()\n",
    "ax = sns.boxplot(data = merge_counts3, x = \"outcome_extra_stage_bool\", y = \"keys_company_stage\", orient=\"h\")\n",
    "ax.set_xticklabels([\"{:,.0f}%\".format(xtick) for xtick in ax.get_xticks().tolist()])\n",
    "ax.set_xlabel(\"Companies that raised an\\nextra funding round or exited\")\n",
    "ax.set_ylabel(\"Developmental Stage\")\n",
    "plt.tight_layout()\n",
    "#f.savefig(save_path+\"outcome_stage.pdf\", bbox_inches=\"tight\")"
   ]
  },
  {
   "cell_type": "code",
   "execution_count": null,
   "metadata": {
    "collapsed": false
   },
   "outputs": [],
   "source": [
    "results = get_results(16, \"evaluate\")"
   ]
  },
  {
   "cell_type": "code",
   "execution_count": null,
   "metadata": {
    "collapsed": false
   },
   "outputs": [],
   "source": [
    "list(results)"
   ]
  },
  {
   "cell_type": "code",
   "execution_count": null,
   "metadata": {
    "collapsed": false
   },
   "outputs": [],
   "source": [
    "import pickle\n",
    "with open(r\"C:\\Users\\mark\\Documents\\GitHub\\honours\\dev\\package\\analysis\\output\\autoVC\\16\\evaluate\\stored_slices.pkl\", \"rb\") as prev_slices:\n",
    "    dataset_slices = pickle.load(prev_slices)"
   ]
  },
  {
   "cell_type": "code",
   "execution_count": null,
   "metadata": {
    "collapsed": false
   },
   "outputs": [],
   "source": [
    "dataset_slices = [\n",
    " (datetime.date(2012, 3, 8), datetime.date(2016, 3, 3)), #4\n",
    " (datetime.date(2012, 5, 12), datetime.date(2015, 5, 9)), #3\n",
    " (datetime.date(2012, 5, 12), datetime.date(2016, 5, 7)), #4\n",
    " (datetime.date(2012, 7, 9), datetime.date(2014, 7, 7)), #2\n",
    " (datetime.date(2012, 7, 9), datetime.date(2016, 7, 4)), #4\n",
    " (datetime.date(2013, 1, 1), datetime.date(2015, 1, 1)), #2\n",
    " (datetime.date(2013, 1, 1), datetime.date(2016, 1, 1)), #3\n",
    " (datetime.date(2013, 8, 1), datetime.date(2016, 8, 1)), #3\n",
    " (datetime.date(2014, 7, 7), datetime.date(2016, 7, 4)), #2\n",
    "]"
   ]
  },
  {
   "cell_type": "code",
   "execution_count": null,
   "metadata": {
    "collapsed": true
   },
   "outputs": [],
   "source": [
    "with open(r\"C:\\Users\\mark\\Documents\\GitHub\\honours\\dev\\package\\analysis\\output\\autoVC\\16\\evaluate\\stored_slices.pkl\", \"wb+\") as save_path:\n",
    "    pickle.dump(dataset_slices, save_path)"
   ]
  },
  {
   "cell_type": "code",
   "execution_count": 68,
   "metadata": {
    "collapsed": true
   },
   "outputs": [],
   "source": []
  },
  {
   "cell_type": "code",
   "execution_count": 65,
   "metadata": {
    "collapsed": false
   },
   "outputs": [
    {
     "name": "stdout",
     "output_type": "stream",
     "text": [
      "Error: Time\n",
      "Error: Imputer\n",
      "Error: Transformer\n",
      "Error: Scaler\n",
      "Error: Extractor\n"
     ]
    }
   ],
   "source": [
    "df_evaluate = get_results(16, \"evaluate\")"
   ]
  },
  {
   "cell_type": "code",
   "execution_count": 66,
   "metadata": {
    "collapsed": false
   },
   "outputs": [
    {
     "data": {
      "text/html": [
       "<div>\n",
       "<table border=\"1\" class=\"dataframe\">\n",
       "  <thead>\n",
       "    <tr style=\"text-align: right;\">\n",
       "      <th></th>\n",
       "      <th>level_0</th>\n",
       "      <th>index</th>\n",
       "      <th>CK</th>\n",
       "      <th>Classifier</th>\n",
       "      <th>F1</th>\n",
       "      <th>MCC</th>\n",
       "      <th>PRC</th>\n",
       "      <th>PRC_Thresholds</th>\n",
       "      <th>Params</th>\n",
       "      <th>Precision</th>\n",
       "      <th>...</th>\n",
       "      <th>test_merge_config</th>\n",
       "      <th>final_merge_config</th>\n",
       "      <th>label_date</th>\n",
       "      <th>label_date_str</th>\n",
       "      <th>feature_date</th>\n",
       "      <th>feature_date_str</th>\n",
       "      <th>forecast_window</th>\n",
       "      <th>forecast_window_months</th>\n",
       "      <th>outcome_chance</th>\n",
       "      <th>Params_str</th>\n",
       "    </tr>\n",
       "  </thead>\n",
       "  <tbody>\n",
       "    <tr>\n",
       "      <th>0</th>\n",
       "      <td>0</td>\n",
       "      <td>0</td>\n",
       "      <td>0.373</td>\n",
       "      <td>Random Forest</td>\n",
       "      <td>0.485</td>\n",
       "      <td>0.390</td>\n",
       "      <td>0.540</td>\n",
       "      <td>[0.21104507856, 0.211598286868, 0.213523619612...</td>\n",
       "      <td>{'steps': [('imputer', Imputer(axis=0, copy=Tr...</td>\n",
       "      <td>[0.144501551361, 0.144587308171, 0.14470219881...</td>\n",
       "      <td>...</td>\n",
       "      <td>analysis/config/master_merge.sql</td>\n",
       "      <td>analysis/config/master_test_merge.sql</td>\n",
       "      <td>2016-08-01</td>\n",
       "      <td>2016-08-01</td>\n",
       "      <td>2013-08-01</td>\n",
       "      <td>2013-08-01</td>\n",
       "      <td>1096 days</td>\n",
       "      <td>36</td>\n",
       "      <td>0.144</td>\n",
       "      <td>{'steps': [('imputer', Imputer(axis=0, copy=Tr...</td>\n",
       "    </tr>\n",
       "    <tr>\n",
       "      <th>1</th>\n",
       "      <td>0</td>\n",
       "      <td>0</td>\n",
       "      <td>0.369</td>\n",
       "      <td>Random Forest</td>\n",
       "      <td>0.481</td>\n",
       "      <td>0.384</td>\n",
       "      <td>0.534</td>\n",
       "      <td>[0.21593049749, 0.216026201775, 0.216071089278...</td>\n",
       "      <td>{'steps': [('imputer', Imputer(axis=0, copy=Tr...</td>\n",
       "      <td>[0.14479310181, 0.144937875275, 0.144953386606...</td>\n",
       "      <td>...</td>\n",
       "      <td>analysis/config/master_merge.sql</td>\n",
       "      <td>analysis/config/master_test_merge.sql</td>\n",
       "      <td>2016-01-01</td>\n",
       "      <td>2016-01-01</td>\n",
       "      <td>2013-01-01</td>\n",
       "      <td>2013-01-01</td>\n",
       "      <td>1095 days</td>\n",
       "      <td>36</td>\n",
       "      <td>0.145</td>\n",
       "      <td>{'steps': [('imputer', Imputer(axis=0, copy=Tr...</td>\n",
       "    </tr>\n",
       "    <tr>\n",
       "      <th>2</th>\n",
       "      <td>0</td>\n",
       "      <td>0</td>\n",
       "      <td>5.236</td>\n",
       "      <td>Random Forest</td>\n",
       "      <td>0.361</td>\n",
       "      <td>0.289</td>\n",
       "      <td>0.435</td>\n",
       "      <td>[0.224062824433, 0.224063052722, 0.22426082428...</td>\n",
       "      <td>{'steps': [('imputer', Imputer(axis=0, copy=Tr...</td>\n",
       "      <td>[0.0978811509839, 0.0979092213271, 0.097912545...</td>\n",
       "      <td>...</td>\n",
       "      <td>analysis/config/master_merge.sql</td>\n",
       "      <td>analysis/config/master_test_merge.sql</td>\n",
       "      <td>2015-01-01</td>\n",
       "      <td>2015-01-01</td>\n",
       "      <td>2013-01-01</td>\n",
       "      <td>2013-01-01</td>\n",
       "      <td>730 days</td>\n",
       "      <td>24</td>\n",
       "      <td>0.098</td>\n",
       "      <td>{'steps': [('imputer', Imputer(axis=0, copy=Tr...</td>\n",
       "    </tr>\n",
       "    <tr>\n",
       "      <th>3</th>\n",
       "      <td>0</td>\n",
       "      <td>0</td>\n",
       "      <td>6.082</td>\n",
       "      <td>Random Forest</td>\n",
       "      <td>0.374</td>\n",
       "      <td>0.307</td>\n",
       "      <td>0.454</td>\n",
       "      <td>[0.190702169234, 0.190721233797, 0.19075733760...</td>\n",
       "      <td>{'steps': [('imputer', Imputer(axis=0, copy=Tr...</td>\n",
       "      <td>[0.0978518059926, 0.0978466444461, 0.097847474...</td>\n",
       "      <td>...</td>\n",
       "      <td>analysis/config/master_merge.sql</td>\n",
       "      <td>analysis/config/master_test_merge.sql</td>\n",
       "      <td>2016-07-04</td>\n",
       "      <td>2016-07-04</td>\n",
       "      <td>2014-07-07</td>\n",
       "      <td>2014-07-07</td>\n",
       "      <td>728 days</td>\n",
       "      <td>24</td>\n",
       "      <td>0.098</td>\n",
       "      <td>{'steps': [('imputer', Imputer(axis=0, copy=Tr...</td>\n",
       "    </tr>\n",
       "    <tr>\n",
       "      <th>4</th>\n",
       "      <td>0</td>\n",
       "      <td>0</td>\n",
       "      <td>0.436</td>\n",
       "      <td>Random Forest</td>\n",
       "      <td>0.549</td>\n",
       "      <td>0.440</td>\n",
       "      <td>0.591</td>\n",
       "      <td>[0.185125139312, 0.185164718497, 0.18519422451...</td>\n",
       "      <td>{'steps': [('imputer', Imputer(axis=0, copy=Tr...</td>\n",
       "      <td>[0.181329449629, 0.181314729574, 0.18137669298...</td>\n",
       "      <td>...</td>\n",
       "      <td>analysis/config/master_merge.sql</td>\n",
       "      <td>analysis/config/master_test_merge.sql</td>\n",
       "      <td>2016-07-04</td>\n",
       "      <td>2016-07-04</td>\n",
       "      <td>2012-07-09</td>\n",
       "      <td>2012-07-09</td>\n",
       "      <td>1456 days</td>\n",
       "      <td>48</td>\n",
       "      <td>0.181</td>\n",
       "      <td>{'steps': [('imputer', Imputer(axis=0, copy=Tr...</td>\n",
       "    </tr>\n",
       "    <tr>\n",
       "      <th>5</th>\n",
       "      <td>0</td>\n",
       "      <td>0</td>\n",
       "      <td>4.380</td>\n",
       "      <td>Random Forest</td>\n",
       "      <td>0.360</td>\n",
       "      <td>0.286</td>\n",
       "      <td>0.426</td>\n",
       "      <td>[0.193511930547, 0.193613919978, 0.19392590066...</td>\n",
       "      <td>{'steps': [('imputer', Imputer(axis=0, copy=Tr...</td>\n",
       "      <td>[0.0979548175127, 0.0979488224407, 0.097957138...</td>\n",
       "      <td>...</td>\n",
       "      <td>analysis/config/master_merge.sql</td>\n",
       "      <td>analysis/config/master_test_merge.sql</td>\n",
       "      <td>2014-07-07</td>\n",
       "      <td>2014-07-07</td>\n",
       "      <td>2012-07-09</td>\n",
       "      <td>2012-07-09</td>\n",
       "      <td>728 days</td>\n",
       "      <td>24</td>\n",
       "      <td>0.098</td>\n",
       "      <td>{'steps': [('imputer', Imputer(axis=0, copy=Tr...</td>\n",
       "    </tr>\n",
       "    <tr>\n",
       "      <th>6</th>\n",
       "      <td>0</td>\n",
       "      <td>0</td>\n",
       "      <td>0.436</td>\n",
       "      <td>Random Forest</td>\n",
       "      <td>0.550</td>\n",
       "      <td>0.441</td>\n",
       "      <td>0.591</td>\n",
       "      <td>[0.199643169237, 0.199667423388, 0.19990989578...</td>\n",
       "      <td>{'steps': [('imputer', Imputer(axis=0, copy=Tr...</td>\n",
       "      <td>[0.181049494641, 0.181321250045, 0.18132451045...</td>\n",
       "      <td>...</td>\n",
       "      <td>analysis/config/master_merge.sql</td>\n",
       "      <td>analysis/config/master_test_merge.sql</td>\n",
       "      <td>2016-05-07</td>\n",
       "      <td>2016-05-07</td>\n",
       "      <td>2012-05-12</td>\n",
       "      <td>2012-05-12</td>\n",
       "      <td>1456 days</td>\n",
       "      <td>48</td>\n",
       "      <td>0.181</td>\n",
       "      <td>{'steps': [('imputer', Imputer(axis=0, copy=Tr...</td>\n",
       "    </tr>\n",
       "    <tr>\n",
       "      <th>7</th>\n",
       "      <td>0</td>\n",
       "      <td>0</td>\n",
       "      <td>0.383</td>\n",
       "      <td>Random Forest</td>\n",
       "      <td>0.488</td>\n",
       "      <td>0.392</td>\n",
       "      <td>0.533</td>\n",
       "      <td>[0.196633643089, 0.200558269329, 0.20091462821...</td>\n",
       "      <td>{'steps': [('imputer', Imputer(axis=0, copy=Tr...</td>\n",
       "      <td>[0.144341719474, 0.14466183947, 0.144663553838...</td>\n",
       "      <td>...</td>\n",
       "      <td>analysis/config/master_merge.sql</td>\n",
       "      <td>analysis/config/master_test_merge.sql</td>\n",
       "      <td>2015-05-09</td>\n",
       "      <td>2015-05-09</td>\n",
       "      <td>2012-05-12</td>\n",
       "      <td>2012-05-12</td>\n",
       "      <td>1092 days</td>\n",
       "      <td>36</td>\n",
       "      <td>0.144</td>\n",
       "      <td>{'steps': [('imputer', Imputer(axis=0, copy=Tr...</td>\n",
       "    </tr>\n",
       "    <tr>\n",
       "      <th>8</th>\n",
       "      <td>0</td>\n",
       "      <td>0</td>\n",
       "      <td>0.439</td>\n",
       "      <td>Random Forest</td>\n",
       "      <td>0.550</td>\n",
       "      <td>0.442</td>\n",
       "      <td>0.590</td>\n",
       "      <td>[0.176999598632, 0.177131043683, 0.17713756783...</td>\n",
       "      <td>{'steps': [('imputer', Imputer(axis=0, copy=Tr...</td>\n",
       "      <td>[0.181108018317, 0.181135600223, 0.18113885396...</td>\n",
       "      <td>...</td>\n",
       "      <td>analysis/config/master_merge.sql</td>\n",
       "      <td>analysis/config/master_test_merge.sql</td>\n",
       "      <td>2016-03-03</td>\n",
       "      <td>2016-03-03</td>\n",
       "      <td>2012-03-08</td>\n",
       "      <td>2012-03-08</td>\n",
       "      <td>1456 days</td>\n",
       "      <td>48</td>\n",
       "      <td>0.181</td>\n",
       "      <td>{'steps': [('imputer', Imputer(axis=0, copy=Tr...</td>\n",
       "    </tr>\n",
       "  </tbody>\n",
       "</table>\n",
       "<p>9 rows × 88 columns</p>\n",
       "</div>"
      ],
      "text/plain": [
       "   level_0  index     CK     Classifier     F1    MCC    PRC  \\\n",
       "0        0      0  0.373  Random Forest  0.485  0.390  0.540   \n",
       "1        0      0  0.369  Random Forest  0.481  0.384  0.534   \n",
       "2        0      0  5.236  Random Forest  0.361  0.289  0.435   \n",
       "3        0      0  6.082  Random Forest  0.374  0.307  0.454   \n",
       "4        0      0  0.436  Random Forest  0.549  0.440  0.591   \n",
       "5        0      0  4.380  Random Forest  0.360  0.286  0.426   \n",
       "6        0      0  0.436  Random Forest  0.550  0.441  0.591   \n",
       "7        0      0  0.383  Random Forest  0.488  0.392  0.533   \n",
       "8        0      0  0.439  Random Forest  0.550  0.442  0.590   \n",
       "\n",
       "                                      PRC_Thresholds  \\\n",
       "0  [0.21104507856, 0.211598286868, 0.213523619612...   \n",
       "1  [0.21593049749, 0.216026201775, 0.216071089278...   \n",
       "2  [0.224062824433, 0.224063052722, 0.22426082428...   \n",
       "3  [0.190702169234, 0.190721233797, 0.19075733760...   \n",
       "4  [0.185125139312, 0.185164718497, 0.18519422451...   \n",
       "5  [0.193511930547, 0.193613919978, 0.19392590066...   \n",
       "6  [0.199643169237, 0.199667423388, 0.19990989578...   \n",
       "7  [0.196633643089, 0.200558269329, 0.20091462821...   \n",
       "8  [0.176999598632, 0.177131043683, 0.17713756783...   \n",
       "\n",
       "                                              Params  \\\n",
       "0  {'steps': [('imputer', Imputer(axis=0, copy=Tr...   \n",
       "1  {'steps': [('imputer', Imputer(axis=0, copy=Tr...   \n",
       "2  {'steps': [('imputer', Imputer(axis=0, copy=Tr...   \n",
       "3  {'steps': [('imputer', Imputer(axis=0, copy=Tr...   \n",
       "4  {'steps': [('imputer', Imputer(axis=0, copy=Tr...   \n",
       "5  {'steps': [('imputer', Imputer(axis=0, copy=Tr...   \n",
       "6  {'steps': [('imputer', Imputer(axis=0, copy=Tr...   \n",
       "7  {'steps': [('imputer', Imputer(axis=0, copy=Tr...   \n",
       "8  {'steps': [('imputer', Imputer(axis=0, copy=Tr...   \n",
       "\n",
       "                                           Precision  \\\n",
       "0  [0.144501551361, 0.144587308171, 0.14470219881...   \n",
       "1  [0.14479310181, 0.144937875275, 0.144953386606...   \n",
       "2  [0.0978811509839, 0.0979092213271, 0.097912545...   \n",
       "3  [0.0978518059926, 0.0978466444461, 0.097847474...   \n",
       "4  [0.181329449629, 0.181314729574, 0.18137669298...   \n",
       "5  [0.0979548175127, 0.0979488224407, 0.097957138...   \n",
       "6  [0.181049494641, 0.181321250045, 0.18132451045...   \n",
       "7  [0.144341719474, 0.14466183947, 0.144663553838...   \n",
       "8  [0.181108018317, 0.181135600223, 0.18113885396...   \n",
       "\n",
       "                         ...                          \\\n",
       "0                        ...                           \n",
       "1                        ...                           \n",
       "2                        ...                           \n",
       "3                        ...                           \n",
       "4                        ...                           \n",
       "5                        ...                           \n",
       "6                        ...                           \n",
       "7                        ...                           \n",
       "8                        ...                           \n",
       "\n",
       "                  test_merge_config                     final_merge_config  \\\n",
       "0  analysis/config/master_merge.sql  analysis/config/master_test_merge.sql   \n",
       "1  analysis/config/master_merge.sql  analysis/config/master_test_merge.sql   \n",
       "2  analysis/config/master_merge.sql  analysis/config/master_test_merge.sql   \n",
       "3  analysis/config/master_merge.sql  analysis/config/master_test_merge.sql   \n",
       "4  analysis/config/master_merge.sql  analysis/config/master_test_merge.sql   \n",
       "5  analysis/config/master_merge.sql  analysis/config/master_test_merge.sql   \n",
       "6  analysis/config/master_merge.sql  analysis/config/master_test_merge.sql   \n",
       "7  analysis/config/master_merge.sql  analysis/config/master_test_merge.sql   \n",
       "8  analysis/config/master_merge.sql  analysis/config/master_test_merge.sql   \n",
       "\n",
       "   label_date label_date_str feature_date feature_date_str forecast_window  \\\n",
       "0  2016-08-01     2016-08-01   2013-08-01       2013-08-01       1096 days   \n",
       "1  2016-01-01     2016-01-01   2013-01-01       2013-01-01       1095 days   \n",
       "2  2015-01-01     2015-01-01   2013-01-01       2013-01-01        730 days   \n",
       "3  2016-07-04     2016-07-04   2014-07-07       2014-07-07        728 days   \n",
       "4  2016-07-04     2016-07-04   2012-07-09       2012-07-09       1456 days   \n",
       "5  2014-07-07     2014-07-07   2012-07-09       2012-07-09        728 days   \n",
       "6  2016-05-07     2016-05-07   2012-05-12       2012-05-12       1456 days   \n",
       "7  2015-05-09     2015-05-09   2012-05-12       2012-05-12       1092 days   \n",
       "8  2016-03-03     2016-03-03   2012-03-08       2012-03-08       1456 days   \n",
       "\n",
       "  forecast_window_months outcome_chance  \\\n",
       "0                     36          0.144   \n",
       "1                     36          0.145   \n",
       "2                     24          0.098   \n",
       "3                     24          0.098   \n",
       "4                     48          0.181   \n",
       "5                     24          0.098   \n",
       "6                     48          0.181   \n",
       "7                     36          0.144   \n",
       "8                     48          0.181   \n",
       "\n",
       "                                          Params_str  \n",
       "0  {'steps': [('imputer', Imputer(axis=0, copy=Tr...  \n",
       "1  {'steps': [('imputer', Imputer(axis=0, copy=Tr...  \n",
       "2  {'steps': [('imputer', Imputer(axis=0, copy=Tr...  \n",
       "3  {'steps': [('imputer', Imputer(axis=0, copy=Tr...  \n",
       "4  {'steps': [('imputer', Imputer(axis=0, copy=Tr...  \n",
       "5  {'steps': [('imputer', Imputer(axis=0, copy=Tr...  \n",
       "6  {'steps': [('imputer', Imputer(axis=0, copy=Tr...  \n",
       "7  {'steps': [('imputer', Imputer(axis=0, copy=Tr...  \n",
       "8  {'steps': [('imputer', Imputer(axis=0, copy=Tr...  \n",
       "\n",
       "[9 rows x 88 columns]"
      ]
     },
     "execution_count": 66,
     "metadata": {},
     "output_type": "execute_result"
    }
   ],
   "source": [
    "df_evaluate"
   ]
  },
  {
   "cell_type": "markdown",
   "metadata": {},
   "source": [
    "%Figure Area under PR curves by training_observations"
   ]
  },
  {
   "cell_type": "code",
   "execution_count": null,
   "metadata": {
    "collapsed": false
   },
   "outputs": [],
   "source": [
    "df_evaluate[\"Test_Scores\"]"
   ]
  },
  {
   "cell_type": "code",
   "execution_count": null,
   "metadata": {
    "collapsed": true
   },
   "outputs": [],
   "source": []
  },
  {
   "cell_type": "code",
   "execution_count": null,
   "metadata": {
    "collapsed": true
   },
   "outputs": [],
   "source": [
    "from collections import defaultdict"
   ]
  },
  {
   "cell_type": "code",
   "execution_count": null,
   "metadata": {
    "collapsed": false
   },
   "outputs": [],
   "source": []
  },
  {
   "cell_type": "code",
   "execution_count": null,
   "metadata": {
    "collapsed": false
   },
   "outputs": [],
   "source": [
    "plot_learning_curve2(df_evaluate)"
   ]
  },
  {
   "cell_type": "code",
   "execution_count": null,
   "metadata": {
    "collapsed": false
   },
   "outputs": [],
   "source": [
    "test_scores = concat_lists(yoo[\"Test_Scores\"])\n",
    "train_scores = concat_lists(yoo[\"Train_Scores\"])\n",
    "train_sizes = np.array(yoo[\"Train_Sizes\"]).squeeze()"
   ]
  },
  {
   "cell_type": "code",
   "execution_count": null,
   "metadata": {
    "collapsed": true
   },
   "outputs": [],
   "source": []
  },
  {
   "cell_type": "code",
   "execution_count": null,
   "metadata": {
    "collapsed": false
   },
   "outputs": [],
   "source": [
    "dic_test = defaultdict(partial(np.ndarray, 0))\n",
    "dic_train = defaultdict(partial(np.ndarray, 0))\n",
    "scores = list(zip(test_scores, train_scores))\n",
    "for i, size in enumerate(train_sizes):\n",
    "    dic_test[size] = np.append(dic_test[size], test_scores[i])\n",
    "    dic_train[size] = np.append(dic_train[size], train_scores[i])#dic_train[size].extend(train_scores[i])\n",
    "train_sizes = []\n",
    "test_scores = []\n",
    "train_scores = []\n",
    "for size in sorted(dic_test):\n",
    "    train_sizes.append(size)\n",
    "    test_scores.append(dic_test[size])\n",
    "    train_scores.append(dic_train[size])"
   ]
  },
  {
   "cell_type": "code",
   "execution_count": null,
   "metadata": {
    "collapsed": false
   },
   "outputs": [],
   "source": [
    "np.array(train_scores)"
   ]
  },
  {
   "cell_type": "code",
   "execution_count": null,
   "metadata": {
    "collapsed": false
   },
   "outputs": [],
   "source": [
    "np.array(train_scores).shape"
   ]
  },
  {
   "cell_type": "code",
   "execution_count": null,
   "metadata": {
    "collapsed": false
   },
   "outputs": [],
   "source": [
    "df_evaluate[\"Test_Scores\"].ix[0]"
   ]
  },
  {
   "cell_type": "code",
   "execution_count": null,
   "metadata": {
    "collapsed": false
   },
   "outputs": [],
   "source": []
  },
  {
   "cell_type": "code",
   "execution_count": null,
   "metadata": {
    "collapsed": false
   },
   "outputs": [],
   "source": []
  },
  {
   "cell_type": "code",
   "execution_count": null,
   "metadata": {
    "collapsed": false
   },
   "outputs": [],
   "source": [
    "df_evaluate[[\"Test_Scores\", \"Train_Scores\", \"Train_Sizes\"]]"
   ]
  },
  {
   "cell_type": "code",
   "execution_count": null,
   "metadata": {
    "collapsed": false
   },
   "outputs": [],
   "source": []
  },
  {
   "cell_type": "code",
   "execution_count": null,
   "metadata": {
    "collapsed": false
   },
   "outputs": [],
   "source": [
    "hi = pd.DataFrame()\n",
    "for x in list(yoo):\n",
    "    hi[x] = [yoo[x].tolist()]\n",
    "    #hi = pd.concat([hi, pd.Series()],axis=1)"
   ]
  },
  {
   "cell_type": "code",
   "execution_count": null,
   "metadata": {
    "collapsed": false
   },
   "outputs": [],
   "source": [
    "yoo.apply(lambda x: x.tolist(), axis=0)"
   ]
  },
  {
   "cell_type": "code",
   "execution_count": null,
   "metadata": {
    "collapsed": false
   },
   "outputs": [],
   "source": [
    "df_evaluate[[\"Test_Scores\", \"Train_Scores\", \"Train_Sizes\"]].ix[0]"
   ]
  },
  {
   "cell_type": "code",
   "execution_count": null,
   "metadata": {
    "collapsed": false
   },
   "outputs": [],
   "source": [
    "yoo[[\"Test_Scores\", \"Train_Scores\", \"Train_Sizes\"]].ix[0]\n",
    "yoo[\"Train_Sizes\"] = yoo[\"Train_Sizes\"].apply(lambda x: [x])\n",
    "yoo = yoo.apply(lambda x: list(chain.from_iterable(x)))"
   ]
  },
  {
   "cell_type": "code",
   "execution_count": null,
   "metadata": {
    "collapsed": false
   },
   "outputs": [],
   "source": [
    "plot_learning_curve2(yoo)"
   ]
  },
  {
   "cell_type": "code",
   "execution_count": 51,
   "metadata": {
    "collapsed": false
   },
   "outputs": [
    {
     "data": {
      "text/plain": [
       "0    [0, 0, 0, 0, 0, 0, 0, 0, 0, 0, 0, 0, 0, 0, 0, ...\n",
       "1    [0, 0, 0, 0, 0, 0, 0, 0, 0, 0, 0, 0, 0, 0, 0, ...\n",
       "2    [0, 0, 0, 0, 0, 0, 0, 0, 0, 0, 0, 0, 0, 0, 0, ...\n",
       "3    [0, 0, 0, 0, 0, 0, 0, 0, 0, 0, 0, 0, 0, 0, 0, ...\n",
       "4    [0, 0, 0, 0, 1, 0, 0, 0, 0, 0, 0, 0, 0, 1, 0, ...\n",
       "5    [0, 0, 0, 0, 0, 0, 0, 0, 0, 0, 0, 0, 0, 0, 0, ...\n",
       "6    [0, 0, 0, 0, 1, 0, 0, 0, 0, 0, 0, 0, 0, 1, 0, ...\n",
       "7    [0, 0, 0, 0, 0, 0, 0, 0, 0, 0, 0, 0, 0, 0, 0, ...\n",
       "8    [0, 0, 0, 0, 1, 0, 0, 0, 0, 0, 0, 0, 0, 1, 0, ...\n",
       "Name: label_name, dtype: object"
      ]
     },
     "execution_count": 51,
     "metadata": {},
     "output_type": "execute_result"
    }
   ],
   "source": [
    "df_evaluate[\"label_name\"]"
   ]
  },
  {
   "cell_type": "code",
   "execution_count": 68,
   "metadata": {
    "collapsed": false
   },
   "outputs": [],
   "source": [
    "df_evaluate[\"forecast_window_years\"] = df_evaluate[\"forecast_window_months\"] / 12"
   ]
  },
  {
   "cell_type": "code",
   "execution_count": 38,
   "metadata": {
    "collapsed": false
   },
   "outputs": [
    {
     "data": {
      "text/plain": [
       "[4.0, 2.0, 3.0]"
      ]
     },
     "execution_count": 38,
     "metadata": {},
     "output_type": "execute_result"
    }
   ],
   "source": [
    "df_evaluate[\"forecast_window_years\"].value_counts().index.tolist()"
   ]
  },
  {
   "cell_type": "code",
   "execution_count": 39,
   "metadata": {
    "collapsed": false
   },
   "outputs": [
    {
     "data": {
      "text/plain": [
       "4    [[0.516379955123, 0.530167057849, 0.5250108115...\n",
       "6    [[0.520855135297, 0.537392271337, 0.5233539673...\n",
       "8    [[0.520616287601, 0.538266026546, 0.5252725470...\n",
       "Name: Test_Scores, dtype: object"
      ]
     },
     "execution_count": 39,
     "metadata": {},
     "output_type": "execute_result"
    }
   ],
   "source": [
    "df_evaluate.loc[df_evaluate[\"forecast_window_years\"] == 4.0][\"Test_Scores\"]"
   ]
  },
  {
   "cell_type": "code",
   "execution_count": 73,
   "metadata": {
    "collapsed": false
   },
   "outputs": [
    {
     "data": {
      "image/png": "[encoded data removed]",
      "text/plain": [
       "<matplotlib.figure.Figure at 0x2a5cc68d630>"
      ]
     },
     "execution_count": 73,
     "metadata": {},
     "output_type": "execute_result"
    },
    {
     "data": {
      "image/png": "[encoded data removed]",
      "text/plain": [
       "<matplotlib.figure.Figure at 0x2a5cc68d630>"
      ]
     },
     "metadata": {},
     "output_type": "display_data"
    }
   ],
   "source": [
    "plot_learning_curves2(df = df_evaluate, group = \"forecast_window_years\")"
   ]
  },
  {
   "cell_type": "code",
   "execution_count": 76,
   "metadata": {
    "collapsed": false
   },
   "outputs": [
    {
     "data": {
      "text/plain": [
       "<matplotlib.figure.Figure at 0x2a5cd9334e0>"
      ]
     },
     "metadata": {},
     "output_type": "display_data"
    },
    {
     "data": {
      "image/png": "[encoded data removed]",
      "text/plain": [
       "<matplotlib.figure.Figure at 0x2a5d6a1a2e8>"
      ]
     },
     "metadata": {},
     "output_type": "display_data"
    }
   ],
   "source": [
    "f = plt.figure()\n",
    "f = plot_learning_curves2(df_evaluate, group=\"forecast_window_years\")\n",
    "#ax = plt.gca()\n",
    "#ax.set_xticklabels([\"{:,.0f}\".format(xtick) for xtick in ax.get_xticks().tolist()])\n",
    "#ax.set_xlabel(\"Training Examples\")\n",
    "#ax.set_ylabel(\"Area Under PR Curve\")\n",
    "plt.tight_layout()\n",
    "f.savefig(save_path+\"evaluation/\"+\"efficiency_learning_curve.pdf\", bbox_inches=\"tight\")"
   ]
  },
  {
   "cell_type": "markdown",
   "metadata": {},
   "source": [
    "%Figure Time by training_observations"
   ]
  },
  {
   "cell_type": "markdown",
   "metadata": {},
   "source": [
    "%Figure PR curves for models trained by time slices (line plot)."
   ]
  },
  {
   "cell_type": "code",
   "execution_count": null,
   "metadata": {
    "collapsed": false
   },
   "outputs": [],
   "source": [
    "df_evaluate = get_results(16, \"evaluate\")"
   ]
  },
  {
   "cell_type": "code",
   "execution_count": null,
   "metadata": {
    "collapsed": false
   },
   "outputs": [],
   "source": [
    "df_evaluate[\"feature_date_str\"] = df_evaluate[\"feature_date\"].apply(lambda x: x.year)"
   ]
  },
  {
   "cell_type": "code",
   "execution_count": null,
   "metadata": {
    "collapsed": true
   },
   "outputs": [],
   "source": [
    "df_evaluate[\"forecast_window_years\"] = df_evaluate[\"forecast_window\"].apply(lambda x: x.days // 360).astype(str)"
   ]
  },
  {
   "cell_type": "code",
   "execution_count": null,
   "metadata": {
    "collapsed": true
   },
   "outputs": [],
   "source": [
    "f = plt.figure()\n",
    "ax = sns.barplot(x=yo.values, y = yo.index)\n",
    "ax.set_ylabel(\"Developmental Stage\")\n",
    "ax.set_xlabel(\"F1 Score\")\n",
    "add_vertical_line(ax, overall, \"Overall\", color=\"r\")\n",
    "plt.tight_layout()\n",
    "f.savefig(evaluation_path+\"predictive_stage.pdf\", bbox_inches=\"tight\")"
   ]
  },
  {
   "cell_type": "code",
   "execution_count": null,
   "metadata": {
    "collapsed": false
   },
   "outputs": [],
   "source": [
    "df_evaluate.groupby([\"forecast_window_years\", \"feature_date_str\"])[\"F1\"].agg(lambda x: np.std(x))"
   ]
  },
  {
   "cell_type": "code",
   "execution_count": null,
   "metadata": {
    "collapsed": false
   },
   "outputs": [],
   "source": [
    "f= plt.figure()\n",
    "ax = sns.barplot(x = \"F1\", y = \"forecast_window_years\", data=df_evaluate, orient=\"h\")\n",
    "ax.set_ylabel(\"Forecast Window (Years)\")\n",
    "ax.set_xlabel(\"F1 Score\")\n",
    "plt.tight_layout()\n",
    "f.savefig(evaluation_path+\"predictive_window.pdf\", bbox_inches=\"tight\")"
   ]
  },
  {
   "cell_type": "code",
   "execution_count": null,
   "metadata": {
    "collapsed": false
   },
   "outputs": [],
   "source": [
    "df_evaluate[[\"Y_Pred\", \"Y_True\", \"feature_stage\"]]"
   ]
  },
  {
   "cell_type": "code",
   "execution_count": null,
   "metadata": {
    "collapsed": false
   },
   "outputs": [],
   "source": [
    "tags = df_evaluate[\"Y_Pred\"].apply(pd.Series)\n",
    "tags = tags.rename(columns = lambda x : 'listcol_' + str(x))\n",
    "df = pd.concat([df[:], tags[:]], axis=1)"
   ]
  },
  {
   "cell_type": "code",
   "execution_count": null,
   "metadata": {
    "collapsed": false
   },
   "outputs": [],
   "source": [
    "a = [\"a\"]\n",
    "a.append(\"a\")\n",
    "a"
   ]
  },
  {
   "cell_type": "code",
   "execution_count": null,
   "metadata": {
    "collapsed": false
   },
   "outputs": [],
   "source": [
    "df_evaluate[\"forecast_window_years\"]"
   ]
  },
  {
   "cell_type": "code",
   "execution_count": null,
   "metadata": {
    "collapsed": false
   },
   "outputs": [],
   "source": [
    "df_evaluate2 = df_evaluate[df_evaluate[\"forecast_window_years\"] ==\"2\"]\n",
    "df_evaluate2"
   ]
  },
  {
   "cell_type": "code",
   "execution_count": null,
   "metadata": {
    "collapsed": false
   },
   "outputs": [],
   "source": [
    "f, auc = plot_roc_curve(df_evaluate2, iv = \"feature_date_str\", dv = \"PRC\", x = \"Recall\", y = \"Precision\", n = 500)\n",
    "ax =  plt.gca()\n",
    "add_auc_to_legend(auc, ax, title=\"Slice Date (AUC PRC)\")\n",
    "plt.tight_layout()\n",
    "f.savefig(evaluation_path+\"pr_curve_slice.pdf\", bbox_inches=\"tight\")"
   ]
  },
  {
   "cell_type": "code",
   "execution_count": null,
   "metadata": {
    "collapsed": false
   },
   "outputs": [],
   "source": [
    "f, auc = plot_roc_curve(df_evaluate, iv = \"forecast_window_years\", dv = \"PRC\", x = \"Recall\", y = \"Precision\", n = 500)\n",
    "ax = plt.gca()\n",
    "add_auc_to_legend(auc, ax, title=\"Forecast Window (AUC PRC)\")\n",
    "plt.tight_layout()\n",
    "f.savefig(evaluation_path+\"pr_curve_window.pdf\", bbox_inches=\"tight\")"
   ]
  },
  {
   "cell_type": "code",
   "execution_count": null,
   "metadata": {
    "collapsed": false
   },
   "outputs": [],
   "source": [
    "a = df_evaluate.ix[0][\"feature_names\"]\n",
    "b= df_evaluate.ix[0][\"Weights\"]"
   ]
  },
  {
   "cell_type": "code",
   "execution_count": 179,
   "metadata": {
    "collapsed": false,
    "scrolled": true
   },
   "outputs": [
    {
     "name": "stdout",
     "output_type": "stream",
     "text": [
      "Error: Time\n",
      "Error: Imputer\n",
      "Error: Transformer\n",
      "Error: Scaler\n",
      "Error: Extractor\n"
     ]
    }
   ],
   "source": [
    "df_evaluate = get_results(19, \"evaluate\")"
   ]
  },
  {
   "cell_type": "code",
   "execution_count": 180,
   "metadata": {
    "collapsed": false
   },
   "outputs": [],
   "source": [
    "df_evaluate[\"feature_date_str\"] = df_evaluate[\"feature_date\"].apply(lambda x: x.year)\n",
    "df_evaluate[\"forecast_window_years\"] = df_evaluate[\"forecast_window\"].apply(lambda x: x.days // 360).astype(str)"
   ]
  },
  {
   "cell_type": "code",
   "execution_count": 181,
   "metadata": {
    "collapsed": false
   },
   "outputs": [
    {
     "name": "stderr",
     "output_type": "stream",
     "text": [
      "C:\\ProgramData\\Anaconda3\\lib\\site-packages\\ipykernel\\__main__.py:14: SettingWithCopyWarning: \n",
      "A value is trying to be set on a copy of a slice from a DataFrame.\n",
      "Try using .loc[row_indexer,col_indexer] = value instead\n",
      "\n",
      "See the caveats in the documentation: http://pandas.pydata.org/pandas-docs/stable/indexing.html#indexing-view-versus-copy\n"
     ]
    }
   ],
   "source": [
    "hi = df_evaluate[[\"Y_Pred\", \"Y_True\", \"feature_stage\",\"forecast_window_years\",\"feature_date_str\"]]\n",
    "df = get_feature_values(hi)\n",
    "results = feature_function(df, metrics.f1_score, group = [\"feature_stage\"])\n",
    "overall = feature_function(df, metrics.f1_score)"
   ]
  },
  {
   "cell_type": "code",
   "execution_count": 182,
   "metadata": {
    "collapsed": false,
    "scrolled": false
   },
   "outputs": [
    {
     "data": {
      "image/png": "[encoded data removed]",
      "text/plain": [
       "<matplotlib.figure.Figure at 0x2a696fcae10>"
      ]
     },
     "metadata": {},
     "output_type": "display_data"
    }
   ],
   "source": [
    "f = plt.figure()\n",
    "ax = sns.barplot(y=results.values, x = results.index, orient=\"v\", **outline_bars)\n",
    "auto_label(ax, fmt='{:,.2f}')\n",
    "add_horizontal_line(ax, overall+ 0.01, \"Overall: {:,.2f}\".format(overall), color=\"r\")\n",
    "ax.set_xlabel(\"Developmental Stage\")\n",
    "ax.set_ylabel(\"F1 Score\")\n",
    "plt.tight_layout()\n",
    "#f.savefig(evaluation_path+\"predictive_stage.pdf\", bbox_inches=\"tight\")"
   ]
  },
  {
   "cell_type": "code",
   "execution_count": 241,
   "metadata": {
    "collapsed": false
   },
   "outputs": [
    {
     "name": "stdout",
     "output_type": "stream",
     "text": [
      "Error: Time\n",
      "Error: Imputer\n",
      "Error: Transformer\n",
      "Error: Scaler\n",
      "Error: Extractor\n"
     ]
    },
    {
     "data": {
      "text/plain": [
       "[('imputer',\n",
       "  Imputer(axis=0, copy=True, missing_values='NaN', strategy='most_frequent',\n",
       "      verbose=0)),\n",
       " ('absolute', FunctionTransformer(accept_sparse=False, func=<ufunc 'absolute'>,\n",
       "            inv_kw_args=None, inverse_func=None, kw_args=None, pass_y=False,\n",
       "            validate=True)),\n",
       " ('transformer', FunctionTransformer(accept_sparse=False, func=<ufunc 'sqrt'>,\n",
       "            inv_kw_args=None, inverse_func=None, kw_args=None, pass_y=False,\n",
       "            validate=True)),\n",
       " ('scaler', MinMaxScaler(copy=True, feature_range=(0, 1))),\n",
       " ('clf', RandomForestClassifier(bootstrap=True, class_weight='balanced',\n",
       "              criterion='entropy', max_depth=8, max_features='auto',\n",
       "              max_leaf_nodes=None, min_impurity_split=1e-07,\n",
       "              min_samples_leaf=1, min_samples_split=2,\n",
       "              min_weight_fraction_leaf=0.0, n_estimators=34, n_jobs=1,\n",
       "              oob_score=False, random_state=None, verbose=0,\n",
       "              warm_start=False))]"
      ]
     },
     "execution_count": 241,
     "metadata": {},
     "output_type": "execute_result"
    }
   ],
   "source": [
    "get_results(20, \"evaluate\")[\"Params\"].ix[0][\"steps\"]"
   ]
  },
  {
   "cell_type": "code",
   "execution_count": 245,
   "metadata": {
    "collapsed": false,
    "scrolled": true
   },
   "outputs": [
    {
     "name": "stdout",
     "output_type": "stream",
     "text": [
      "Error: Time\n",
      "Error: Imputer\n",
      "Error: Transformer\n",
      "Error: Scaler\n",
      "Error: Extractor\n"
     ]
    }
   ],
   "source": [
    "df_evaluate = get_results(20, \"evaluate\")"
   ]
  },
  {
   "cell_type": "code",
   "execution_count": 219,
   "metadata": {
    "collapsed": false
   },
   "outputs": [],
   "source": [
    "df_evaluate[\"feature_date_str\"] = df_evaluate[\"feature_date\"].apply(lambda x: x.year)\n",
    "df_evaluate[\"forecast_window_years\"] = df_evaluate[\"forecast_window\"].apply(lambda x: x.days // 360).astype(str)\n",
    "df_evaluate[\"feature_stage_single\"] = df_evaluate[\"feature_stage\"].apply(lambda x: x.value_counts().index[0])"
   ]
  },
  {
   "cell_type": "code",
   "execution_count": 220,
   "metadata": {
    "collapsed": false
   },
   "outputs": [
    {
     "name": "stderr",
     "output_type": "stream",
     "text": [
      "C:\\ProgramData\\Anaconda3\\lib\\site-packages\\ipykernel\\__main__.py:14: SettingWithCopyWarning: \n",
      "A value is trying to be set on a copy of a slice from a DataFrame.\n",
      "Try using .loc[row_indexer,col_indexer] = value instead\n",
      "\n",
      "See the caveats in the documentation: http://pandas.pydata.org/pandas-docs/stable/indexing.html#indexing-view-versus-copy\n"
     ]
    }
   ],
   "source": [
    "hi = df_evaluate[[\"Y_Pred\", \"Y_True\", \"feature_stage_single\",\"forecast_window_years\",\"feature_date_str\"]]\n",
    "df = get_feature_values(hi)\n",
    "results2 = feature_function(df, metrics.f1_score, group = [\"feature_stage_single\"])\n",
    "overall2 = feature_function(df, metrics.f1_score)"
   ]
  },
  {
   "cell_type": "code",
   "execution_count": 222,
   "metadata": {
    "collapsed": false,
    "scrolled": true
   },
   "outputs": [
    {
     "data": {
      "image/png": "[encoded data removed]",
      "text/plain": [
       "<matplotlib.figure.Figure at 0x2a6951ac908>"
      ]
     },
     "metadata": {},
     "output_type": "display_data"
    }
   ],
   "source": [
    "f = plt.figure()\n",
    "ax = sns.barplot(y=results2.values, x = results2.index, orient=\"v\", **outline_bars)\n",
    "auto_label(ax, fmt='{:,.2f}')\n",
    "add_horizontal_line(ax, overall2+ 0.01, \"Overall: {:,.2f}\".format(overall2), color=\"r\")\n",
    "ax.set_xlabel(\"Developmental Stage\")\n",
    "ax.set_ylabel(\"F1 Score\")\n",
    "plt.tight_layout()\n",
    "#f.savefig(evaluation_path+\"predictive_stage.pdf\", bbox_inches=\"tight\")"
   ]
  },
  {
   "cell_type": "code",
   "execution_count": 223,
   "metadata": {
    "collapsed": false
   },
   "outputs": [],
   "source": [
    "if type(results) is pd.Series: results = results.to_frame()\n",
    "results[\"method\"] = \"Combined\"\n",
    "if type(results2) is pd.Series: results2 = results2.to_frame()\n",
    "results2[\"method\"] = \"Individual\"\n",
    "results3 = pd.concat([results, results2], axis=0)"
   ]
  },
  {
   "cell_type": "code",
   "execution_count": 224,
   "metadata": {
    "collapsed": false
   },
   "outputs": [
    {
     "data": {
      "text/html": [
       "<div>\n",
       "<table border=\"1\" class=\"dataframe\">\n",
       "  <thead>\n",
       "    <tr style=\"text-align: right;\">\n",
       "      <th></th>\n",
       "      <th>0</th>\n",
       "      <th>method</th>\n",
       "    </tr>\n",
       "  </thead>\n",
       "  <tbody>\n",
       "    <tr>\n",
       "      <th>Pre-Seed</th>\n",
       "      <td>0.332</td>\n",
       "      <td>Combined</td>\n",
       "    </tr>\n",
       "    <tr>\n",
       "      <th>Seed</th>\n",
       "      <td>0.359</td>\n",
       "      <td>Combined</td>\n",
       "    </tr>\n",
       "    <tr>\n",
       "      <th>Series A</th>\n",
       "      <td>0.517</td>\n",
       "      <td>Combined</td>\n",
       "    </tr>\n",
       "    <tr>\n",
       "      <th>Series B</th>\n",
       "      <td>0.583</td>\n",
       "      <td>Combined</td>\n",
       "    </tr>\n",
       "    <tr>\n",
       "      <th>Series C</th>\n",
       "      <td>0.623</td>\n",
       "      <td>Combined</td>\n",
       "    </tr>\n",
       "    <tr>\n",
       "      <th>Series D+</th>\n",
       "      <td>0.532</td>\n",
       "      <td>Combined</td>\n",
       "    </tr>\n",
       "    <tr>\n",
       "      <th>Pre-Seed</th>\n",
       "      <td>0.357</td>\n",
       "      <td>Individual</td>\n",
       "    </tr>\n",
       "    <tr>\n",
       "      <th>Seed</th>\n",
       "      <td>0.463</td>\n",
       "      <td>Individual</td>\n",
       "    </tr>\n",
       "    <tr>\n",
       "      <th>Series A</th>\n",
       "      <td>0.622</td>\n",
       "      <td>Individual</td>\n",
       "    </tr>\n",
       "    <tr>\n",
       "      <th>Series B</th>\n",
       "      <td>0.640</td>\n",
       "      <td>Individual</td>\n",
       "    </tr>\n",
       "    <tr>\n",
       "      <th>Series C</th>\n",
       "      <td>0.674</td>\n",
       "      <td>Individual</td>\n",
       "    </tr>\n",
       "    <tr>\n",
       "      <th>Series D+</th>\n",
       "      <td>0.656</td>\n",
       "      <td>Individual</td>\n",
       "    </tr>\n",
       "  </tbody>\n",
       "</table>\n",
       "</div>"
      ],
      "text/plain": [
       "               0      method\n",
       "Pre-Seed   0.332    Combined\n",
       "Seed       0.359    Combined\n",
       "Series A   0.517    Combined\n",
       "Series B   0.583    Combined\n",
       "Series C   0.623    Combined\n",
       "Series D+  0.532    Combined\n",
       "Pre-Seed   0.357  Individual\n",
       "Seed       0.463  Individual\n",
       "Series A   0.622  Individual\n",
       "Series B   0.640  Individual\n",
       "Series C   0.674  Individual\n",
       "Series D+  0.656  Individual"
      ]
     },
     "execution_count": 224,
     "metadata": {},
     "output_type": "execute_result"
    }
   ],
   "source": [
    "results3"
   ]
  },
  {
   "cell_type": "code",
   "execution_count": 244,
   "metadata": {
    "collapsed": false
   },
   "outputs": [
    {
     "data": {
      "image/png": "[encoded data removed]",
      "text/plain": [
       "<matplotlib.figure.Figure at 0x2a6941f54a8>"
      ]
     },
     "metadata": {},
     "output_type": "display_data"
    }
   ],
   "source": [
    "chart_id = \"f1_individual_combined\"\n",
    "results3 = pd.read_pickle(evaluation_path + chart_id + \".pkl\")\n",
    "\n",
    "f = plt.figure()\n",
    "ax = sns.barplot(y=results3[0], x = results3.index, hue = results3[\"method\"], orient=\"v\", **outline_bars)\n",
    "auto_label(ax, fmt='{:,.2f}')\n",
    "add_horizontal_line(ax, overall+ 0.0, \"Overall: {:,.2f}\".format(overall), color=\"blue\")\n",
    "add_horizontal_line(ax, overall2+ 0.02, \"Overall: {:,.2f}\".format(overall2), color=\"lime\")\n",
    "ax.set_xlabel(\"Developmental Stage\")\n",
    "ax.set_ylabel(\"F1 Score (Positive Class)\")\n",
    "ax.legend(title=\"Fit Method\")\n",
    "plt.tight_layout()\n",
    "\n",
    "f.savefig(evaluation_path + chart_id + \".pdf\", bbox_inches=\"tight\")\n",
    "results3.to_pickle(evaluation_path + chart_id + \".pkl\")"
   ]
  },
  {
   "cell_type": "code",
   "execution_count": 133,
   "metadata": {
    "collapsed": false
   },
   "outputs": [
    {
     "data": {
      "text/plain": [
       "feature_date_str  forecast_window_years       \n",
       "2012              2                      count         1.000\n",
       "                                         mean     118121.000\n",
       "                                         std             NaN\n",
       "                                         min      118121.000\n",
       "                                         25%      118121.000\n",
       "                                         50%      118121.000\n",
       "                                         75%      118121.000\n",
       "                                         max      118121.000\n",
       "                  3                      count         1.000\n",
       "                                         mean      84611.000\n",
       "                                         std             NaN\n",
       "                                         min       84611.000\n",
       "                                         25%       84611.000\n",
       "                                         50%       84611.000\n",
       "                                         75%       84611.000\n",
       "                                         max       84611.000\n",
       "                  4                      count         3.000\n",
       "                                         mean      55824.000\n",
       "                                         std           0.000\n",
       "                                         min       55824.000\n",
       "                                         25%       55824.000\n",
       "                                         50%       55824.000\n",
       "                                         75%       55824.000\n",
       "                                         max       55824.000\n",
       "2013              2                      count         1.000\n",
       "                                         mean     118024.000\n",
       "                                         std             NaN\n",
       "                                         min      118024.000\n",
       "                                         25%      118024.000\n",
       "                                         50%      118024.000\n",
       "                                         75%      118024.000\n",
       "                                         max      118024.000\n",
       "                  3                      count         2.000\n",
       "                                         mean      84403.500\n",
       "                                         std          78.489\n",
       "                                         min       84348.000\n",
       "                                         25%       84375.750\n",
       "                                         50%       84403.500\n",
       "                                         75%       84431.250\n",
       "                                         max       84459.000\n",
       "2014              2                      count         1.000\n",
       "                                         mean     118121.000\n",
       "                                         std             NaN\n",
       "                                         min      118121.000\n",
       "                                         25%      118121.000\n",
       "                                         50%      118121.000\n",
       "                                         75%      118121.000\n",
       "                                         max      118121.000\n",
       "Name: total, dtype: float64"
      ]
     },
     "execution_count": 133,
     "metadata": {},
     "output_type": "execute_result"
    }
   ],
   "source": [
    "df_evaluate.groupby([\"feature_date_str\",\"forecast_window_years\"])[\"total\"].describe()"
   ]
  },
  {
   "cell_type": "code",
   "execution_count": 135,
   "metadata": {
    "collapsed": false
   },
   "outputs": [
    {
     "name": "stdout",
     "output_type": "stream",
     "text": [
      "             precision    recall  f1-score   support\n",
      "\n",
      "          0       0.95      0.77      0.85    106583\n",
      "          1       0.22      0.59      0.32     11538\n",
      "\n",
      "avg / total       0.88      0.76      0.80    118121\n",
      "\n",
      "             precision    recall  f1-score   support\n",
      "\n",
      "          0       0.95      0.75      0.84    106489\n",
      "          1       0.21      0.62      0.32     11535\n",
      "\n",
      "avg / total       0.88      0.74      0.79    118024\n",
      "\n",
      "             precision    recall  f1-score   support\n",
      "\n",
      "          0       0.95      0.76      0.84    106583\n",
      "          1       0.21      0.61      0.32     11538\n",
      "\n",
      "avg / total       0.88      0.74      0.79    118121\n",
      "\n"
     ]
    }
   ],
   "source": [
    "df2 = df[df[\"forecast_window_years\"] == \"2\"]\n",
    "cl_reports = feature_function(df2, metrics.classification_report, group = [\"feature_date_str\"])\n",
    "for rep in cl_reports:\n",
    "    print(rep)"
   ]
  },
  {
   "cell_type": "code",
   "execution_count": 31,
   "metadata": {
    "collapsed": false
   },
   "outputs": [
    {
     "name": "stderr",
     "output_type": "stream",
     "text": [
      "C:\\ProgramData\\Anaconda3\\lib\\site-packages\\ipykernel\\__main__.py:14: SettingWithCopyWarning: \n",
      "A value is trying to be set on a copy of a slice from a DataFrame.\n",
      "Try using .loc[row_indexer,col_indexer] = value instead\n",
      "\n",
      "See the caveats in the documentation: http://pandas.pydata.org/pandas-docs/stable/indexing.html#indexing-view-versus-copy\n"
     ]
    },
    {
     "data": {
      "text/plain": [
       "feature_stage  forecast_window_years\n",
       "Pre-Seed       2                        0.257\n",
       "               3                        0.357\n",
       "               4                        0.423\n",
       "Seed           2                        0.284\n",
       "               3                        0.390\n",
       "               4                        0.481\n",
       "Series A       2                        0.429\n",
       "               3                        0.553\n",
       "               4                        0.615\n",
       "Series B       2                        0.506\n",
       "               3                        0.602\n",
       "               4                        0.662\n",
       "Series C       2                        0.502\n",
       "               3                        0.652\n",
       "               4                        0.719\n",
       "Series D+      2                        0.361\n",
       "               3                        0.583\n",
       "               4                        0.652\n",
       "dtype: float64"
      ]
     },
     "execution_count": 31,
     "metadata": {},
     "output_type": "execute_result"
    }
   ],
   "source": [
    "hi = df_evaluate[[\"Y_Pred\", \"Y_True\", \"feature_stage\",\"forecast_window_years\", \"feature_date_str\"]]\n",
    "output2 = get_feature_values(hi, metrics.f1_score, group = [\"feature_stage\",\"forecast_window_years\"])\n",
    "overall = get_feature_values(hi, metrics.f1_score)"
   ]
  },
  {
   "cell_type": "code",
   "execution_count": 56,
   "metadata": {
    "collapsed": false
   },
   "outputs": [],
   "source": [
    "cross = pd.crosstab(values = output2.values, aggfunc=np.mean, columns = output2.index.get_level_values(level=0), index =output2.index.get_level_values(level=1))"
   ]
  },
  {
   "cell_type": "code",
   "execution_count": 69,
   "metadata": {
    "collapsed": false
   },
   "outputs": [
    {
     "data": {
      "image/png": "[encoded data removed]",
      "text/plain": [
       "<matplotlib.figure.Figure at 0x26edbe081d0>"
      ]
     },
     "metadata": {},
     "output_type": "display_data"
    }
   ],
   "source": [
    "f = plt.figure()\n",
    "ax = sns.heatmap(cross, annot=True, square=True, cbar=False, **outline_bars)\n",
    "ax.set_ylabel(\"Forecast Window\")\n",
    "ax.set_xlabel(\"Developmental Stage\")\n",
    "plt.tight_layout()\n",
    "f.savefig(evaluation_path+\"predictive_heatmap.pdf\", bbox_inches=\"tight\")"
   ]
  },
  {
   "cell_type": "code",
   "execution_count": 100,
   "metadata": {
    "collapsed": false
   },
   "outputs": [
    {
     "name": "stdout",
     "output_type": "stream",
     "text": [
      "Error: Time\n",
      "Error: Imputer\n",
      "Error: Transformer\n",
      "Error: Scaler\n",
      "Error: Extractor\n"
     ]
    }
   ],
   "source": [
    "df_evaluate = get_results(16, \"evaluate\")"
   ]
  },
  {
   "cell_type": "code",
   "execution_count": 101,
   "metadata": {
    "collapsed": true
   },
   "outputs": [],
   "source": [
    "df_evaluate[\"feature_date_str\"] = df_evaluate[\"feature_date\"].apply(lambda x: x.year)\n",
    "df_evaluate[\"forecast_window_years\"] = df_evaluate[\"forecast_window\"].apply(lambda x: x.days // 360).astype(str)"
   ]
  },
  {
   "cell_type": "code",
   "execution_count": 102,
   "metadata": {
    "collapsed": false
   },
   "outputs": [],
   "source": []
  },
  {
   "cell_type": "code",
   "execution_count": 103,
   "metadata": {
    "collapsed": false
   },
   "outputs": [
    {
     "data": {
      "text/plain": [
       "0        Seed\n",
       "1    Pre-Seed\n",
       "Name: feature_stage_single, dtype: object"
      ]
     },
     "execution_count": 103,
     "metadata": {},
     "output_type": "execute_result"
    }
   ],
   "source": []
  },
  {
   "cell_type": "code",
   "execution_count": 22,
   "metadata": {
    "collapsed": false
   },
   "outputs": [
    {
     "name": "stderr",
     "output_type": "stream",
     "text": [
      "C:\\ProgramData\\Anaconda3\\lib\\site-packages\\ipykernel\\__main__.py:14: SettingWithCopyWarning: \n",
      "A value is trying to be set on a copy of a slice from a DataFrame.\n",
      "Try using .loc[row_indexer,col_indexer] = value instead\n",
      "\n",
      "See the caveats in the documentation: http://pandas.pydata.org/pandas-docs/stable/indexing.html#indexing-view-versus-copy\n"
     ]
    }
   ],
   "source": [
    "hi = df_evaluate[[\"feature_names\", \"Weights\", \"forecast_window_years\",\"feature_date_str\"]]\n",
    "df = get_feature_values(hi, total=\"feature_names\")"
   ]
  },
  {
   "cell_type": "code",
   "execution_count": 23,
   "metadata": {
    "collapsed": false
   },
   "outputs": [],
   "source": [
    "df[\"Weights\"] = df[\"Weights\"].astype(float)"
   ]
  },
  {
   "cell_type": "code",
   "execution_count": 45,
   "metadata": {
    "collapsed": true
   },
   "outputs": [],
   "source": [
    "df[\"feature_supergroups\"] = df[\"feature_names\"].apply(lambda x: x.split(\"_\")[1])\n",
    "df[\"feature_groups\"] = df[\"feature_names\"].apply(lambda x: x.split(\"_\")[2])\n",
    "df[\"feature_subgroups\"] = df[\"feature_names\"].apply(lambda x: \"_\".join(x.split(\"_\")[2:4]))"
   ]
  },
  {
   "cell_type": "code",
   "execution_count": 315,
   "metadata": {
    "collapsed": false
   },
   "outputs": [],
   "source": [
    "yo = df.groupby([\"forecast_window_years\",\"feature_groups\"]).agg({\"Weights\":sum})\n",
    "yoo = yo.groupby(level=0, group_keys=False)\n",
    "yooo = yoo.apply(lambda x: divide_groups(x, yoo.sum()))\n",
    "yooo = yooo.groupby(level=0, group_keys=False)\n",
    "weights = yooo.apply(lambda x: x.sort_values(by=\"Weights\",ascending=False))[\"Weights\"]"
   ]
  },
  {
   "cell_type": "code",
   "execution_count": 316,
   "metadata": {
    "collapsed": false
   },
   "outputs": [
    {
     "data": {
      "text/plain": [
       "array([ 0.42588218,  0.22633908,  0.12002801,  0.11005097,  0.05232413,\n",
       "        0.04911522,  0.01177418,  0.00448624,  0.        ,  0.        ,\n",
       "        0.44555856,  0.2396361 ,  0.10671208,  0.09663917,  0.05053688,\n",
       "        0.04463953,  0.01079072,  0.00548696,  0.        ,  0.        ,\n",
       "        0.44452473,  0.20268268,  0.14598944,  0.106741  ,  0.04668177,\n",
       "        0.03904024,  0.00859172,  0.00574842,  0.        ,  0.        ])"
      ]
     },
     "execution_count": 316,
     "metadata": {},
     "output_type": "execute_result"
    }
   ],
   "source": [
    "weights.values"
   ]
  },
  {
   "cell_type": "code",
   "execution_count": 321,
   "metadata": {
    "collapsed": false
   },
   "outputs": [
    {
     "data": {
      "image/png": "[encoded data removed]",
      "text/plain": [
       "<matplotlib.figure.Figure at 0x26e84363a20>"
      ]
     },
     "metadata": {},
     "output_type": "display_data"
    }
   ],
   "source": [
    "f = plt.figure()\n",
    "ax = sns.barplot(y = weights.values, hue = weights.index.get_level_values(level=0), x=weights.index.get_level_values(level=1), orient=\"v\", **outline_bars)\n",
    "ax.set_xlabel(\"Feature Groups\")\n",
    "ax.set_ylabel(\"Model Weights\")\n",
    "plt.xticks(rotation=30)\n",
    "plt.legend(title=\"Forecast Window\")\n",
    "plt.tight_layout()\n",
    "f.savefig(evaluation_path+\"feature_groups_window.pdf\", bbox_inches=\"tight\")"
   ]
  },
  {
   "cell_type": "code",
   "execution_count": 43,
   "metadata": {
    "collapsed": false
   },
   "outputs": [],
   "source": [
    "yo = df.groupby([\"feature_date_str\",\"feature_groups\"]).agg({\"Weights\":sum})\n",
    "yoo = yo.groupby(level=0, group_keys=False)\n",
    "yooo = yoo.apply(lambda x: divide_groups(x, yoo.sum()))\n",
    "yooo = yooo.groupby(level=0, group_keys=False)\n",
    "weights = yooo.apply(lambda x: x.sort_values(by=\"Weights\",ascending=False))[\"Weights\"]"
   ]
  },
  {
   "cell_type": "code",
   "execution_count": 44,
   "metadata": {
    "collapsed": false
   },
   "outputs": [
    {
     "data": {
      "image/png": "[encoded data removed]",
      "text/plain": [
       "<matplotlib.figure.Figure at 0x2a691a8e470>"
      ]
     },
     "metadata": {},
     "output_type": "display_data"
    }
   ],
   "source": [
    "f = plt.figure()\n",
    "ax = sns.barplot(y = weights.values, hue = weights.index.get_level_values(level=0), x=weights.index.get_level_values(level=1), orient=\"v\", **outline_bars)\n",
    "ax.set_xlabel(\"Feature Groups\")\n",
    "ax.set_ylabel(\"Model Weights\")\n",
    "plt.xticks(rotation=30)\n",
    "plt.legend(title=\"Slice Date\")\n",
    "plt.tight_layout()\n",
    "f.savefig(evaluation_path+\"feature_groups_slice.pdf\", bbox_inches=\"tight\")"
   ]
  },
  {
   "cell_type": "code",
   "execution_count": 46,
   "metadata": {
    "collapsed": false
   },
   "outputs": [],
   "source": [
    "yo = df.groupby([\"forecast_window_years\",\"feature_supergroups\"]).agg({\"Weights\":sum})\n",
    "yoo = yo.groupby(level=0, group_keys=False)\n",
    "yooo = yoo.apply(lambda x: divide_groups(x, yoo.sum()))\n",
    "yooo = yooo.groupby(level=0, group_keys=False)\n",
    "weights = yooo.apply(lambda x: x.sort_values(by=\"Weights\",ascending=False))[\"Weights\"]"
   ]
  },
  {
   "cell_type": "code",
   "execution_count": 48,
   "metadata": {
    "collapsed": false
   },
   "outputs": [
    {
     "data": {
      "image/png": "[encoded data removed]",
      "text/plain": [
       "<matplotlib.figure.Figure at 0x2a691c4a278>"
      ]
     },
     "metadata": {},
     "output_type": "display_data"
    }
   ],
   "source": [
    "f = plt.figure()\n",
    "ax = sns.barplot(y = weights.values, hue = weights.index.get_level_values(level=0), x=weights.index.get_level_values(level=1), orient=\"v\", **outline_bars)\n",
    "ax.set_xlabel(\"Feature Groups\")\n",
    "ax.set_ylabel(\"Model Weights\")\n",
    "ax.set_ylim(ymax=1)\n",
    "plt.xticks(rotation=30)\n",
    "plt.legend(title=\"Forecast Window\")\n",
    "plt.tight_layout()\n",
    "#f.savefig(evaluation_path+\"feature_groups_window.pdf\", bbox_inches=\"tight\")"
   ]
  },
  {
   "cell_type": "code",
   "execution_count": null,
   "metadata": {
    "collapsed": true
   },
   "outputs": [],
   "source": []
  },
  {
   "cell_type": "code",
   "execution_count": 228,
   "metadata": {
    "collapsed": false
   },
   "outputs": [
    {
     "name": "stdout",
     "output_type": "stream",
     "text": [
      "Error: Time\n",
      "Error: Imputer\n",
      "Error: Transformer\n",
      "Error: Scaler\n",
      "Error: Extractor\n"
     ]
    }
   ],
   "source": [
    "df_evaluate = get_results(16, \"evaluate\")"
   ]
  },
  {
   "cell_type": "code",
   "execution_count": 229,
   "metadata": {
    "collapsed": true
   },
   "outputs": [],
   "source": [
    "df_evaluate[\"feature_date_str\"] = df_evaluate[\"feature_date\"].apply(lambda x: x.year)\n",
    "df_evaluate[\"forecast_window_years\"] = df_evaluate[\"forecast_window\"].apply(lambda x: x.days // 360).astype(str)\n",
    "df_evaluate[\"feature_stage_single\"] = df_evaluate[\"feature_stage\"].apply(lambda x: x.value_counts().index[0])"
   ]
  },
  {
   "cell_type": "code",
   "execution_count": 230,
   "metadata": {
    "collapsed": false
   },
   "outputs": [
    {
     "name": "stderr",
     "output_type": "stream",
     "text": [
      "C:\\ProgramData\\Anaconda3\\lib\\site-packages\\ipykernel\\__main__.py:14: SettingWithCopyWarning: \n",
      "A value is trying to be set on a copy of a slice from a DataFrame.\n",
      "Try using .loc[row_indexer,col_indexer] = value instead\n",
      "\n",
      "See the caveats in the documentation: http://pandas.pydata.org/pandas-docs/stable/indexing.html#indexing-view-versus-copy\n"
     ]
    }
   ],
   "source": [
    "hi = df_evaluate[[\"feature_names\", \"Weights\", \"forecast_window_years\",\"feature_date_str\", \"feature_stage_single\"]]\n",
    "df = get_feature_values(hi, total=\"feature_names\")"
   ]
  },
  {
   "cell_type": "code",
   "execution_count": 231,
   "metadata": {
    "collapsed": false
   },
   "outputs": [],
   "source": [
    "df[\"Weights\"] = df[\"Weights\"].astype(float)"
   ]
  },
  {
   "cell_type": "code",
   "execution_count": 232,
   "metadata": {
    "collapsed": true
   },
   "outputs": [],
   "source": [
    "df[\"feature_supergroups\"] = df[\"feature_names\"].apply(lambda x: x.split(\"_\")[1])\n",
    "df[\"feature_groups\"] = df[\"feature_names\"].apply(lambda x: x.split(\"_\")[2])\n",
    "df[\"feature_subgroups\"] = df[\"feature_names\"].apply(lambda x: \"_\".join(x.split(\"_\")[2:4]))"
   ]
  },
  {
   "cell_type": "code",
   "execution_count": 233,
   "metadata": {
    "collapsed": false
   },
   "outputs": [],
   "source": [
    "yo = df.groupby([\"feature_stage_single\",\"feature_groups\"]).agg({\"Weights\":sum})\n",
    "yoo = yo.groupby(level=0, group_keys=False)\n",
    "yooo = yoo.apply(lambda x: divide_groups(x, yoo.sum()))\n",
    "yooo = yooo.groupby(level=0, group_keys=False)\n",
    "weights = yooo.apply(lambda x: x.sort_values(by=\"Weights\",ascending=False))[\"Weights\"]"
   ]
  },
  {
   "cell_type": "code",
   "execution_count": 234,
   "metadata": {
    "collapsed": false
   },
   "outputs": [],
   "source": [
    "order = weights.reset_index().groupby(\"feature_groups\").agg(np.mean).sort_values(by=\"Weights\",ascending=False).index.tolist()"
   ]
  },
  {
   "cell_type": "code",
   "execution_count": 235,
   "metadata": {
    "collapsed": false,
    "scrolled": true
   },
   "outputs": [
    {
     "data": {
      "image/png": "[encoded data removed]",
      "text/plain": [
       "<matplotlib.figure.Figure at 0x2a692693400>"
      ]
     },
     "metadata": {},
     "output_type": "display_data"
    }
   ],
   "source": [
    "f = plt.figure()\n",
    "ax = sns.barplot(y = weights.values, hue = weights.index.get_level_values(level=0), x=weights.index.get_level_values(level=1), order = order, orient=\"v\", **outline_bars)\n",
    "ax.set_xlabel(\"Feature Groups\")\n",
    "ax.set_ylabel(\"Model Weights\")\n",
    "plt.xticks(rotation=30)\n",
    "plt.legend(title=\"Developmental Stage\")\n",
    "plt.tight_layout()\n",
    "f.savefig(evaluation_path+\"feature_groups_stage.pdf\", bbox_inches=\"tight\")"
   ]
  },
  {
   "cell_type": "code",
   "execution_count": null,
   "metadata": {
    "collapsed": true
   },
   "outputs": [],
   "source": []
  },
  {
   "cell_type": "code",
   "execution_count": 305,
   "metadata": {
    "collapsed": false
   },
   "outputs": [
    {
     "name": "stdout",
     "output_type": "stream",
     "text": [
      "Error: Time\n",
      "Error: Imputer\n",
      "Error: Transformer\n",
      "Error: Scaler\n",
      "Error: Extractor\n",
      "Error: Outcome\n"
     ]
    }
   ],
   "source": [
    "df_evaluate = get_results(16, \"evaluate\")"
   ]
  },
  {
   "cell_type": "code",
   "execution_count": 306,
   "metadata": {
    "collapsed": true
   },
   "outputs": [],
   "source": [
    "df_evaluate[\"feature_date_str\"] = df_evaluate[\"feature_date\"].apply(lambda x: x.year)\n",
    "df_evaluate[\"forecast_window_years\"] = df_evaluate[\"forecast_window\"].apply(lambda x: x.days // 360).astype(str)"
   ]
  },
  {
   "cell_type": "code",
   "execution_count": 307,
   "metadata": {
    "collapsed": true
   },
   "outputs": [],
   "source": [
    "df_evaluate[\"label_type\"] = df_evaluate[\"label_type\"].apply(lambda x: x.replace(\"_\",\" \"))"
   ]
  },
  {
   "cell_type": "code",
   "execution_count": 308,
   "metadata": {
    "collapsed": false
   },
   "outputs": [
    {
     "name": "stderr",
     "output_type": "stream",
     "text": [
      "C:\\ProgramData\\Anaconda3\\lib\\site-packages\\ipykernel\\__main__.py:14: SettingWithCopyWarning: \n",
      "A value is trying to be set on a copy of a slice from a DataFrame.\n",
      "Try using .loc[row_indexer,col_indexer] = value instead\n",
      "\n",
      "See the caveats in the documentation: http://pandas.pydata.org/pandas-docs/stable/indexing.html#indexing-view-versus-copy\n"
     ]
    }
   ],
   "source": [
    "hi = df_evaluate[[\"feature_names\", \"Weights\", \"forecast_window_years\",\"feature_date_str\", \"label_type\"]]\n",
    "df = get_feature_values(hi, total=\"feature_names\")"
   ]
  },
  {
   "cell_type": "code",
   "execution_count": 309,
   "metadata": {
    "collapsed": false
   },
   "outputs": [],
   "source": [
    "df[\"Weights\"] = df[\"Weights\"].astype(float)"
   ]
  },
  {
   "cell_type": "code",
   "execution_count": 310,
   "metadata": {
    "collapsed": true
   },
   "outputs": [],
   "source": [
    "df[\"feature_supergroups\"] = df[\"feature_names\"].apply(lambda x: x.split(\"_\")[1])\n",
    "df[\"feature_groups\"] = df[\"feature_names\"].apply(lambda x: x.split(\"_\")[2])\n",
    "df[\"feature_subgroups\"] = df[\"feature_names\"].apply(lambda x: \"_\".join(x.split(\"_\")[2:4]))"
   ]
  },
  {
   "cell_type": "code",
   "execution_count": 311,
   "metadata": {
    "collapsed": false
   },
   "outputs": [],
   "source": [
    "yo = df.groupby([\"label_type\",\"feature_groups\"]).agg({\"Weights\":sum})\n",
    "yoo = yo.groupby(level=0, group_keys=False)\n",
    "yooo = yoo.apply(lambda x: divide_groups(x, yoo.sum()))\n",
    "yooo = yooo.groupby(level=0, group_keys=False)\n",
    "weights = yooo.apply(lambda x: x.sort_values(by=\"Weights\",ascending=False))[\"Weights\"]"
   ]
  },
  {
   "cell_type": "code",
   "execution_count": 312,
   "metadata": {
    "collapsed": false
   },
   "outputs": [],
   "source": [
    "order = weights.reset_index().groupby(\"feature_groups\").agg(np.mean).sort_values(by=\"Weights\",ascending=False).index.tolist()"
   ]
  },
  {
   "cell_type": "code",
   "execution_count": 314,
   "metadata": {
    "collapsed": false,
    "scrolled": true
   },
   "outputs": [
    {
     "data": {
      "image/png": "[encoded data removed]",
      "text/plain": [
       "<matplotlib.figure.Figure at 0x2a695fe8550>"
      ]
     },
     "metadata": {},
     "output_type": "display_data"
    }
   ],
   "source": [
    "f = plt.figure()\n",
    "hue_order = [\"Extra Stage\", \"Extra Round\", \"Exit\", \"Acquisition\", \"IPO\"]\n",
    "ax = sns.barplot(y = weights.values, hue = weights.index.get_level_values(level=0), x=weights.index.get_level_values(level=1), order = order,hue_order=hue_order, orient=\"v\", **outline_bars)\n",
    "ax.set_xlabel(\"Feature Groups\")\n",
    "ax.set_ylabel(\"Model Weights\")\n",
    "plt.xticks(rotation=30)\n",
    "plt.legend(title=\"Target Outcome\")\n",
    "plt.tight_layout()\n",
    "f.savefig(evaluation_path+\"feature_groups_outcome.pdf\", bbox_inches=\"tight\")"
   ]
  },
  {
   "cell_type": "code",
   "execution_count": null,
   "metadata": {
    "collapsed": true
   },
   "outputs": [],
   "source": []
  },
  {
   "cell_type": "code",
   "execution_count": 300,
   "metadata": {
    "collapsed": false
   },
   "outputs": [
    {
     "name": "stdout",
     "output_type": "stream",
     "text": [
      "Error: Time\n",
      "Error: Imputer\n",
      "Error: Transformer\n",
      "Error: Scaler\n",
      "Error: Extractor\n",
      "Error: Outcome\n"
     ]
    }
   ],
   "source": [
    "df_evaluate = get_results(16, \"evaluate\")"
   ]
  },
  {
   "cell_type": "code",
   "execution_count": 301,
   "metadata": {
    "collapsed": false
   },
   "outputs": [],
   "source": [
    "df_evaluate[\"feature_date_str\"] = df_evaluate[\"feature_date\"].apply(lambda x: x.year)\n",
    "df_evaluate[\"forecast_window_years\"] = df_evaluate[\"forecast_window\"].apply(lambda x: x.days // 360).astype(str)\n",
    "df_evaluate[\"label_type\"] = df_evaluate[\"label_type\"].apply(lambda x: x.replace(\"_\",\" \"))"
   ]
  },
  {
   "cell_type": "code",
   "execution_count": 304,
   "metadata": {
    "collapsed": false
   },
   "outputs": [
    {
     "data": {
      "image/png": "[encoded data removed]",
      "text/plain": [
       "<matplotlib.figure.Figure at 0x2a696096d68>"
      ]
     },
     "metadata": {},
     "output_type": "display_data"
    }
   ],
   "source": [
    "f= plt.figure()\n",
    "order = [\"Extra Stage\", \"Extra Round\", \"Exit\", \"Acquisition\", \"IPO\"]\n",
    "ax = sns.barplot(y = \"F1\", x = \"label_type\", data=df_evaluate, order = order, orient=\"v\", **outline_bars)\n",
    "auto_label(ax, fmt=\"{:.2f}\", adjust=0.05)\n",
    "ax.set_xlabel(\"Target Outcome\")\n",
    "ax.set_ylabel(\"F1 Score\")\n",
    "add_vertical_line(ax, 0.5, \"\", color=\"grey\")\n",
    "add_vertical_line(ax, 1.5, \"\", color=\"grey\")\n",
    "plt.tight_layout()\n",
    "f.savefig(evaluation_path+\"f1_predictive_outcome.pdf\", bbox_inches=\"tight\")"
   ]
  },
  {
   "cell_type": "code",
   "execution_count": 295,
   "metadata": {
    "collapsed": false
   },
   "outputs": [
    {
     "name": "stdout",
     "output_type": "stream",
     "text": [
      "Error: Time\n",
      "Error: Imputer\n",
      "Error: Transformer\n",
      "Error: Scaler\n",
      "Error: Extractor\n",
      "Error: Outcome\n"
     ]
    }
   ],
   "source": [
    "df_evaluate = get_results(16, \"evaluate\")"
   ]
  },
  {
   "cell_type": "code",
   "execution_count": 296,
   "metadata": {
    "collapsed": false
   },
   "outputs": [],
   "source": [
    "df_evaluate[\"feature_date_str\"] = df_evaluate[\"feature_date\"].apply(lambda x: x.year)\n",
    "df_evaluate[\"forecast_window_years\"] = df_evaluate[\"forecast_window\"].apply(lambda x: x.days // 360).astype(str)\n",
    "df_evaluate[\"label_type\"] = df_evaluate[\"label_type\"].apply(lambda x: x.replace(\"_\",\" \"))"
   ]
  },
  {
   "cell_type": "code",
   "execution_count": 297,
   "metadata": {
    "collapsed": false
   },
   "outputs": [
    {
     "name": "stderr",
     "output_type": "stream",
     "text": [
      "C:\\ProgramData\\Anaconda3\\lib\\site-packages\\ipykernel\\__main__.py:14: SettingWithCopyWarning: \n",
      "A value is trying to be set on a copy of a slice from a DataFrame.\n",
      "Try using .loc[row_indexer,col_indexer] = value instead\n",
      "\n",
      "See the caveats in the documentation: http://pandas.pydata.org/pandas-docs/stable/indexing.html#indexing-view-versus-copy\n"
     ]
    }
   ],
   "source": [
    "hi = df_evaluate[[\"Y_Pred\", \"Y_True\", \"label_type\",\"forecast_window_years\",\"feature_date_str\"]]\n",
    "df = get_feature_values(hi)"
   ]
  },
  {
   "cell_type": "code",
   "execution_count": 298,
   "metadata": {
    "collapsed": false
   },
   "outputs": [
    {
     "name": "stdout",
     "output_type": "stream",
     "text": [
      "             precision    recall  f1-score   support\n",
      "\n",
      "          0       0.98      0.95      0.97    133333\n",
      "          1       0.41      0.64      0.50      7102\n",
      "\n",
      "avg / total       0.95      0.94      0.94    140435\n",
      "\n",
      "             precision    recall  f1-score   support\n",
      "\n",
      "          0       0.97      0.94      0.96     51706\n",
      "          1       0.48      0.69      0.57      4118\n",
      "\n",
      "avg / total       0.94      0.92      0.93     55824\n",
      "\n",
      "             precision    recall  f1-score   support\n",
      "\n",
      "          0       1.00      0.86      0.93     48962\n",
      "          1       0.50      0.99      0.67      6862\n",
      "\n",
      "avg / total       0.94      0.88      0.89     55824\n",
      "\n",
      "             precision    recall  f1-score   support\n",
      "\n",
      "          0       0.91      0.87      0.89     45739\n",
      "          1       0.50      0.61      0.55     10085\n",
      "\n",
      "avg / total       0.84      0.82      0.83     55824\n",
      "\n",
      "             precision    recall  f1-score   support\n",
      "\n",
      "          0       0.99      0.99      0.99    138742\n",
      "          1       0.33      0.41      0.37      1693\n",
      "\n",
      "avg / total       0.98      0.98      0.98    140435\n",
      "\n"
     ]
    }
   ],
   "source": [
    "cl_reports = feature_function(df, metrics.classification_report, group = [\"label_type\"])\n",
    "for rep in cl_reports:\n",
    "    print(rep)"
   ]
  },
  {
   "cell_type": "code",
   "execution_count": 27,
   "metadata": {
    "collapsed": false
   },
   "outputs": [
    {
     "name": "stdout",
     "output_type": "stream",
     "text": [
      "Error: Time\n",
      "Error: Imputer\n",
      "Error: Transformer\n",
      "Error: Scaler\n",
      "Error: Extractor\n"
     ]
    }
   ],
   "source": [
    "hello = get_results(16, \"select\")"
   ]
  },
  {
   "cell_type": "code",
   "execution_count": 28,
   "metadata": {
    "collapsed": false
   },
   "outputs": [
    {
     "data": {
      "text/html": [
       "<div>\n",
       "<table border=\"1\" class=\"dataframe\">\n",
       "  <thead>\n",
       "    <tr style=\"text-align: right;\">\n",
       "      <th></th>\n",
       "      <th>level_0</th>\n",
       "      <th>CK</th>\n",
       "      <th>Classifier</th>\n",
       "      <th>F1</th>\n",
       "      <th>MCC</th>\n",
       "      <th>PRC</th>\n",
       "      <th>PRC_Thresholds</th>\n",
       "      <th>Params</th>\n",
       "      <th>Precision</th>\n",
       "      <th>ROC</th>\n",
       "      <th>...</th>\n",
       "      <th>top_pipelines_select</th>\n",
       "      <th>verbosity</th>\n",
       "      <th>label_date</th>\n",
       "      <th>label_date_str</th>\n",
       "      <th>feature_date</th>\n",
       "      <th>feature_date_str</th>\n",
       "      <th>forecast_window</th>\n",
       "      <th>forecast_window_months</th>\n",
       "      <th>outcome_chance</th>\n",
       "      <th>Params_str</th>\n",
       "    </tr>\n",
       "  </thead>\n",
       "  <tbody>\n",
       "    <tr>\n",
       "      <th>0</th>\n",
       "      <td>0</td>\n",
       "      <td>0.204</td>\n",
       "      <td>Decision Tree</td>\n",
       "      <td>0.326</td>\n",
       "      <td>0.211</td>\n",
       "      <td>0.377</td>\n",
       "      <td>[0.0, 0.016431577003, 0.0197171119079, 0.02295...</td>\n",
       "      <td>{'steps': [('imputer', Imputer(axis=0, copy=Tr...</td>\n",
       "      <td>[0.126852024631, 0.140142517815, 0.14507866813...</td>\n",
       "      <td>0.625</td>\n",
       "      <td>...</td>\n",
       "      <td>10</td>\n",
       "      <td>1</td>\n",
       "      <td>2015-01-23</td>\n",
       "      <td>2015-01-23</td>\n",
       "      <td>2013-01-25</td>\n",
       "      <td>2013-01-25</td>\n",
       "      <td>728 days</td>\n",
       "      <td>24</td>\n",
       "      <td>0.127</td>\n",
       "      <td>{'steps': [('imputer', Imputer(axis=0, copy=Tr...</td>\n",
       "    </tr>\n",
       "    <tr>\n",
       "      <th>1</th>\n",
       "      <td>1</td>\n",
       "      <td>0.185</td>\n",
       "      <td>Decision Tree</td>\n",
       "      <td>0.306</td>\n",
       "      <td>0.189</td>\n",
       "      <td>0.355</td>\n",
       "      <td>[0.0, 0.0140506980607, 0.0187272573005, 0.0427...</td>\n",
       "      <td>{'steps': [('imputer', Imputer(axis=0, copy=Tr...</td>\n",
       "      <td>[0.126856758976, 0.121553308824, 0.12539910600...</td>\n",
       "      <td>0.609</td>\n",
       "      <td>...</td>\n",
       "      <td>10</td>\n",
       "      <td>1</td>\n",
       "      <td>2015-01-23</td>\n",
       "      <td>2015-01-23</td>\n",
       "      <td>2013-01-25</td>\n",
       "      <td>2013-01-25</td>\n",
       "      <td>728 days</td>\n",
       "      <td>24</td>\n",
       "      <td>0.127</td>\n",
       "      <td>{'steps': [('imputer', Imputer(axis=0, copy=Tr...</td>\n",
       "    </tr>\n",
       "    <tr>\n",
       "      <th>2</th>\n",
       "      <td>0</td>\n",
       "      <td>0.265</td>\n",
       "      <td>Random Forest</td>\n",
       "      <td>0.342</td>\n",
       "      <td>0.270</td>\n",
       "      <td>0.398</td>\n",
       "      <td>[0.0146260464713, 0.0147110046303, 0.014748218...</td>\n",
       "      <td>{'steps': [('imputer', Imputer(axis=0, copy=Tr...</td>\n",
       "      <td>[0.127902163688, 0.127869345977, 0.12787415798...</td>\n",
       "      <td>0.616</td>\n",
       "      <td>...</td>\n",
       "      <td>10</td>\n",
       "      <td>1</td>\n",
       "      <td>2015-01-23</td>\n",
       "      <td>2015-01-23</td>\n",
       "      <td>2013-01-25</td>\n",
       "      <td>2013-01-25</td>\n",
       "      <td>728 days</td>\n",
       "      <td>24</td>\n",
       "      <td>0.127</td>\n",
       "      <td>{'steps': [('imputer', Imputer(axis=0, copy=Tr...</td>\n",
       "    </tr>\n",
       "    <tr>\n",
       "      <th>3</th>\n",
       "      <td>1</td>\n",
       "      <td>0.261</td>\n",
       "      <td>Random Forest</td>\n",
       "      <td>0.332</td>\n",
       "      <td>0.271</td>\n",
       "      <td>0.399</td>\n",
       "      <td>[0.0201101381086, 0.0202298658792, 0.020255384...</td>\n",
       "      <td>{'steps': [('imputer', Imputer(axis=0, copy=Tr...</td>\n",
       "      <td>[0.128123939839, 0.128095902288, 0.12810073135...</td>\n",
       "      <td>0.609</td>\n",
       "      <td>...</td>\n",
       "      <td>10</td>\n",
       "      <td>1</td>\n",
       "      <td>2015-01-23</td>\n",
       "      <td>2015-01-23</td>\n",
       "      <td>2013-01-25</td>\n",
       "      <td>2013-01-25</td>\n",
       "      <td>728 days</td>\n",
       "      <td>24</td>\n",
       "      <td>0.127</td>\n",
       "      <td>{'steps': [('imputer', Imputer(axis=0, copy=Tr...</td>\n",
       "    </tr>\n",
       "    <tr>\n",
       "      <th>4</th>\n",
       "      <td>0</td>\n",
       "      <td>0.261</td>\n",
       "      <td>Logistic Regression</td>\n",
       "      <td>0.372</td>\n",
       "      <td>0.268</td>\n",
       "      <td>0.421</td>\n",
       "      <td>[2.96502626686e-18, 5.61073895505e-15, 6.25337...</td>\n",
       "      <td>{'steps': [('imputer', Imputer(axis=0, copy=Tr...</td>\n",
       "      <td>[0.126852024631, 0.126819437187, 0.12682417049...</td>\n",
       "      <td>0.657</td>\n",
       "      <td>...</td>\n",
       "      <td>10</td>\n",
       "      <td>1</td>\n",
       "      <td>2015-01-23</td>\n",
       "      <td>2015-01-23</td>\n",
       "      <td>2013-01-25</td>\n",
       "      <td>2013-01-25</td>\n",
       "      <td>728 days</td>\n",
       "      <td>24</td>\n",
       "      <td>0.127</td>\n",
       "      <td>{'steps': [('imputer', Imputer(axis=0, copy=Tr...</td>\n",
       "    </tr>\n",
       "    <tr>\n",
       "      <th>5</th>\n",
       "      <td>1</td>\n",
       "      <td>0.227</td>\n",
       "      <td>Logistic Regression</td>\n",
       "      <td>0.353</td>\n",
       "      <td>0.241</td>\n",
       "      <td>0.415</td>\n",
       "      <td>[1.53712411952e-28, 2.9421092597e-26, 6.102015...</td>\n",
       "      <td>{'steps': [('imputer', Imputer(axis=0, copy=Tr...</td>\n",
       "      <td>[0.126866228725, 0.126833638162, 0.12683837252...</td>\n",
       "      <td>0.652</td>\n",
       "      <td>...</td>\n",
       "      <td>10</td>\n",
       "      <td>1</td>\n",
       "      <td>2015-01-23</td>\n",
       "      <td>2015-01-23</td>\n",
       "      <td>2013-01-25</td>\n",
       "      <td>2013-01-25</td>\n",
       "      <td>728 days</td>\n",
       "      <td>24</td>\n",
       "      <td>0.127</td>\n",
       "      <td>{'steps': [('imputer', Imputer(axis=0, copy=Tr...</td>\n",
       "    </tr>\n",
       "    <tr>\n",
       "      <th>6</th>\n",
       "      <td>0</td>\n",
       "      <td>0.225</td>\n",
       "      <td>Decision Tree</td>\n",
       "      <td>0.351</td>\n",
       "      <td>0.239</td>\n",
       "      <td>0.412</td>\n",
       "      <td>[0.0, 0.0135788890211, 0.0154712771227, 0.0181...</td>\n",
       "      <td>{'steps': [('imputer', Imputer(axis=0, copy=Tr...</td>\n",
       "      <td>[0.126852024631, 0.119997792129, 0.12242926940...</td>\n",
       "      <td>0.649</td>\n",
       "      <td>...</td>\n",
       "      <td>10</td>\n",
       "      <td>1</td>\n",
       "      <td>2015-01-23</td>\n",
       "      <td>2015-01-23</td>\n",
       "      <td>2013-01-25</td>\n",
       "      <td>2013-01-25</td>\n",
       "      <td>728 days</td>\n",
       "      <td>24</td>\n",
       "      <td>0.127</td>\n",
       "      <td>{'steps': [('imputer', Imputer(axis=0, copy=Tr...</td>\n",
       "    </tr>\n",
       "    <tr>\n",
       "      <th>7</th>\n",
       "      <td>1</td>\n",
       "      <td>0.221</td>\n",
       "      <td>Decision Tree</td>\n",
       "      <td>0.347</td>\n",
       "      <td>0.234</td>\n",
       "      <td>0.408</td>\n",
       "      <td>[0.0, 0.00953506181121, 0.0101614579929, 0.020...</td>\n",
       "      <td>{'steps': [('imputer', Imputer(axis=0, copy=Tr...</td>\n",
       "      <td>[0.126856758976, 0.133157299132, 0.13681673073...</td>\n",
       "      <td>0.646</td>\n",
       "      <td>...</td>\n",
       "      <td>10</td>\n",
       "      <td>1</td>\n",
       "      <td>2015-01-23</td>\n",
       "      <td>2015-01-23</td>\n",
       "      <td>2013-01-25</td>\n",
       "      <td>2013-01-25</td>\n",
       "      <td>728 days</td>\n",
       "      <td>24</td>\n",
       "      <td>0.127</td>\n",
       "      <td>{'steps': [('imputer', Imputer(axis=0, copy=Tr...</td>\n",
       "    </tr>\n",
       "    <tr>\n",
       "      <th>8</th>\n",
       "      <td>0</td>\n",
       "      <td>0.230</td>\n",
       "      <td>Decision Tree</td>\n",
       "      <td>0.356</td>\n",
       "      <td>0.245</td>\n",
       "      <td>0.419</td>\n",
       "      <td>[0.0, 0.0615188408846, 0.064096856254, 0.08205...</td>\n",
       "      <td>{'steps': [('imputer', Imputer(axis=0, copy=Tr...</td>\n",
       "      <td>[0.126852024631, 0.131912408759, 0.13246859960...</td>\n",
       "      <td>0.655</td>\n",
       "      <td>...</td>\n",
       "      <td>10</td>\n",
       "      <td>1</td>\n",
       "      <td>2015-01-23</td>\n",
       "      <td>2015-01-23</td>\n",
       "      <td>2013-01-25</td>\n",
       "      <td>2013-01-25</td>\n",
       "      <td>728 days</td>\n",
       "      <td>24</td>\n",
       "      <td>0.127</td>\n",
       "      <td>{'steps': [('imputer', Imputer(axis=0, copy=Tr...</td>\n",
       "    </tr>\n",
       "    <tr>\n",
       "      <th>9</th>\n",
       "      <td>1</td>\n",
       "      <td>0.198</td>\n",
       "      <td>Decision Tree</td>\n",
       "      <td>0.333</td>\n",
       "      <td>0.215</td>\n",
       "      <td>0.404</td>\n",
       "      <td>[0.0, 0.0412456191074, 0.0514119836772, 0.0823...</td>\n",
       "      <td>{'steps': [('imputer', Imputer(axis=0, copy=Tr...</td>\n",
       "      <td>[0.126856758976, 0.135553786812, 0.13665634674...</td>\n",
       "      <td>0.640</td>\n",
       "      <td>...</td>\n",
       "      <td>10</td>\n",
       "      <td>1</td>\n",
       "      <td>2015-01-23</td>\n",
       "      <td>2015-01-23</td>\n",
       "      <td>2013-01-25</td>\n",
       "      <td>2013-01-25</td>\n",
       "      <td>728 days</td>\n",
       "      <td>24</td>\n",
       "      <td>0.127</td>\n",
       "      <td>{'steps': [('imputer', Imputer(axis=0, copy=Tr...</td>\n",
       "    </tr>\n",
       "    <tr>\n",
       "      <th>10</th>\n",
       "      <td>0</td>\n",
       "      <td>0.296</td>\n",
       "      <td>Logistic Regression</td>\n",
       "      <td>0.412</td>\n",
       "      <td>0.318</td>\n",
       "      <td>0.480</td>\n",
       "      <td>[4.4985793175e-06, 0.0253105129977, 0.02617425...</td>\n",
       "      <td>{'steps': [('imputer', Imputer(axis=0, copy=Tr...</td>\n",
       "      <td>[0.126856758976, 0.126824170492, 0.12682890415...</td>\n",
       "      <td>0.703</td>\n",
       "      <td>...</td>\n",
       "      <td>10</td>\n",
       "      <td>1</td>\n",
       "      <td>2015-01-23</td>\n",
       "      <td>2015-01-23</td>\n",
       "      <td>2013-01-25</td>\n",
       "      <td>2013-01-25</td>\n",
       "      <td>728 days</td>\n",
       "      <td>24</td>\n",
       "      <td>0.127</td>\n",
       "      <td>{'steps': [('imputer', Imputer(axis=0, copy=Tr...</td>\n",
       "    </tr>\n",
       "    <tr>\n",
       "      <th>11</th>\n",
       "      <td>1</td>\n",
       "      <td>0.301</td>\n",
       "      <td>Logistic Regression</td>\n",
       "      <td>0.414</td>\n",
       "      <td>0.319</td>\n",
       "      <td>0.476</td>\n",
       "      <td>[8.6383119093e-07, 0.000175671931839, 0.003456...</td>\n",
       "      <td>{'steps': [('imputer', Imputer(axis=0, copy=Tr...</td>\n",
       "      <td>[0.126861493674, 0.12682890415, 0.126796312194...</td>\n",
       "      <td>0.700</td>\n",
       "      <td>...</td>\n",
       "      <td>10</td>\n",
       "      <td>1</td>\n",
       "      <td>2015-01-23</td>\n",
       "      <td>2015-01-23</td>\n",
       "      <td>2013-01-25</td>\n",
       "      <td>2013-01-25</td>\n",
       "      <td>728 days</td>\n",
       "      <td>24</td>\n",
       "      <td>0.127</td>\n",
       "      <td>{'steps': [('imputer', Imputer(axis=0, copy=Tr...</td>\n",
       "    </tr>\n",
       "    <tr>\n",
       "      <th>12</th>\n",
       "      <td>0</td>\n",
       "      <td>0.196</td>\n",
       "      <td>Decision Tree</td>\n",
       "      <td>0.339</td>\n",
       "      <td>0.224</td>\n",
       "      <td>0.431</td>\n",
       "      <td>[0.0, 0.0321807237533, 0.0542461306591, 0.0810...</td>\n",
       "      <td>{'steps': [('imputer', Imputer(axis=0, copy=Tr...</td>\n",
       "      <td>[0.126852024631, 0.12656641604, 0.127489500068...</td>\n",
       "      <td>0.654</td>\n",
       "      <td>...</td>\n",
       "      <td>10</td>\n",
       "      <td>1</td>\n",
       "      <td>2015-01-23</td>\n",
       "      <td>2015-01-23</td>\n",
       "      <td>2013-01-25</td>\n",
       "      <td>2013-01-25</td>\n",
       "      <td>728 days</td>\n",
       "      <td>24</td>\n",
       "      <td>0.127</td>\n",
       "      <td>{'steps': [('imputer', Imputer(axis=0, copy=Tr...</td>\n",
       "    </tr>\n",
       "    <tr>\n",
       "      <th>13</th>\n",
       "      <td>1</td>\n",
       "      <td>0.196</td>\n",
       "      <td>Decision Tree</td>\n",
       "      <td>0.339</td>\n",
       "      <td>0.224</td>\n",
       "      <td>0.432</td>\n",
       "      <td>[0.0, 0.0714149444532, 0.0732191539942, 0.0783...</td>\n",
       "      <td>{'steps': [('imputer', Imputer(axis=0, copy=Tr...</td>\n",
       "      <td>[0.126856758976, 0.125157588141, 0.12618421052...</td>\n",
       "      <td>0.654</td>\n",
       "      <td>...</td>\n",
       "      <td>10</td>\n",
       "      <td>1</td>\n",
       "      <td>2015-01-23</td>\n",
       "      <td>2015-01-23</td>\n",
       "      <td>2013-01-25</td>\n",
       "      <td>2013-01-25</td>\n",
       "      <td>728 days</td>\n",
       "      <td>24</td>\n",
       "      <td>0.127</td>\n",
       "      <td>{'steps': [('imputer', Imputer(axis=0, copy=Tr...</td>\n",
       "    </tr>\n",
       "    <tr>\n",
       "      <th>14</th>\n",
       "      <td>0</td>\n",
       "      <td>0.292</td>\n",
       "      <td>Random Forest</td>\n",
       "      <td>0.407</td>\n",
       "      <td>0.310</td>\n",
       "      <td>0.470</td>\n",
       "      <td>[0.127445014254, 0.127489958439, 0.12755264203...</td>\n",
       "      <td>{'steps': [('imputer', Imputer(axis=0, copy=Tr...</td>\n",
       "      <td>[0.129293620906, 0.129290008371, 0.12929492789...</td>\n",
       "      <td>0.695</td>\n",
       "      <td>...</td>\n",
       "      <td>10</td>\n",
       "      <td>1</td>\n",
       "      <td>2015-01-23</td>\n",
       "      <td>2015-01-23</td>\n",
       "      <td>2013-01-25</td>\n",
       "      <td>2013-01-25</td>\n",
       "      <td>728 days</td>\n",
       "      <td>24</td>\n",
       "      <td>0.127</td>\n",
       "      <td>{'steps': [('imputer', Imputer(axis=0, copy=Tr...</td>\n",
       "    </tr>\n",
       "    <tr>\n",
       "      <th>15</th>\n",
       "      <td>1</td>\n",
       "      <td>0.289</td>\n",
       "      <td>Random Forest</td>\n",
       "      <td>0.404</td>\n",
       "      <td>0.307</td>\n",
       "      <td>0.467</td>\n",
       "      <td>[0.106967292677, 0.107049410028, 0.10705184171...</td>\n",
       "      <td>{'steps': [('imputer', Imputer(axis=0, copy=Tr...</td>\n",
       "      <td>[0.128764632345, 0.128731626004, 0.12873650312...</td>\n",
       "      <td>0.693</td>\n",
       "      <td>...</td>\n",
       "      <td>10</td>\n",
       "      <td>1</td>\n",
       "      <td>2015-01-23</td>\n",
       "      <td>2015-01-23</td>\n",
       "      <td>2013-01-25</td>\n",
       "      <td>2013-01-25</td>\n",
       "      <td>728 days</td>\n",
       "      <td>24</td>\n",
       "      <td>0.127</td>\n",
       "      <td>{'steps': [('imputer', Imputer(axis=0, copy=Tr...</td>\n",
       "    </tr>\n",
       "    <tr>\n",
       "      <th>16</th>\n",
       "      <td>0</td>\n",
       "      <td>0.278</td>\n",
       "      <td>Random Forest</td>\n",
       "      <td>0.403</td>\n",
       "      <td>0.310</td>\n",
       "      <td>0.488</td>\n",
       "      <td>[0.114682376418, 0.115275425833, 0.11600220036...</td>\n",
       "      <td>{'steps': [('imputer', Imputer(axis=0, copy=Tr...</td>\n",
       "      <td>[0.127460906739, 0.127557340741, 0.12761482705...</td>\n",
       "      <td>0.707</td>\n",
       "      <td>...</td>\n",
       "      <td>10</td>\n",
       "      <td>1</td>\n",
       "      <td>2015-01-23</td>\n",
       "      <td>2015-01-23</td>\n",
       "      <td>2013-01-25</td>\n",
       "      <td>2013-01-25</td>\n",
       "      <td>728 days</td>\n",
       "      <td>24</td>\n",
       "      <td>0.127</td>\n",
       "      <td>{'steps': [('imputer', Imputer(axis=0, copy=Tr...</td>\n",
       "    </tr>\n",
       "    <tr>\n",
       "      <th>17</th>\n",
       "      <td>1</td>\n",
       "      <td>0.287</td>\n",
       "      <td>Random Forest</td>\n",
       "      <td>0.406</td>\n",
       "      <td>0.309</td>\n",
       "      <td>0.475</td>\n",
       "      <td>[0.110065301163, 0.112087889166, 0.11349064671...</td>\n",
       "      <td>{'steps': [('imputer', Imputer(axis=0, copy=Tr...</td>\n",
       "      <td>[0.12701793722, 0.127558877662, 0.127545270118...</td>\n",
       "      <td>0.699</td>\n",
       "      <td>...</td>\n",
       "      <td>10</td>\n",
       "      <td>1</td>\n",
       "      <td>2015-01-23</td>\n",
       "      <td>2015-01-23</td>\n",
       "      <td>2013-01-25</td>\n",
       "      <td>2013-01-25</td>\n",
       "      <td>728 days</td>\n",
       "      <td>24</td>\n",
       "      <td>0.127</td>\n",
       "      <td>{'steps': [('imputer', Imputer(axis=0, copy=Tr...</td>\n",
       "    </tr>\n",
       "    <tr>\n",
       "      <th>18</th>\n",
       "      <td>0</td>\n",
       "      <td>0.304</td>\n",
       "      <td>Logistic Regression</td>\n",
       "      <td>0.421</td>\n",
       "      <td>0.331</td>\n",
       "      <td>0.496</td>\n",
       "      <td>[0.0421654784697, 0.0423765906298, 0.044793653...</td>\n",
       "      <td>{'steps': [('imputer', Imputer(axis=0, copy=Tr...</td>\n",
       "      <td>[0.126994208855, 0.126961590196, 0.12696633411...</td>\n",
       "      <td>0.716</td>\n",
       "      <td>...</td>\n",
       "      <td>10</td>\n",
       "      <td>1</td>\n",
       "      <td>2015-01-23</td>\n",
       "      <td>2015-01-23</td>\n",
       "      <td>2013-01-25</td>\n",
       "      <td>2013-01-25</td>\n",
       "      <td>728 days</td>\n",
       "      <td>24</td>\n",
       "      <td>0.127</td>\n",
       "      <td>{'steps': [('imputer', Imputer(axis=0, copy=Tr...</td>\n",
       "    </tr>\n",
       "    <tr>\n",
       "      <th>19</th>\n",
       "      <td>1</td>\n",
       "      <td>0.307</td>\n",
       "      <td>Logistic Regression</td>\n",
       "      <td>0.421</td>\n",
       "      <td>0.329</td>\n",
       "      <td>0.489</td>\n",
       "      <td>[0.0887246222194, 0.0888854286501, 0.089827524...</td>\n",
       "      <td>{'steps': [('imputer', Imputer(axis=0, copy=Tr...</td>\n",
       "      <td>[0.127638002253, 0.127605242405, 0.12761003455...</td>\n",
       "      <td>0.710</td>\n",
       "      <td>...</td>\n",
       "      <td>10</td>\n",
       "      <td>1</td>\n",
       "      <td>2015-01-23</td>\n",
       "      <td>2015-01-23</td>\n",
       "      <td>2013-01-25</td>\n",
       "      <td>2013-01-25</td>\n",
       "      <td>728 days</td>\n",
       "      <td>24</td>\n",
       "      <td>0.127</td>\n",
       "      <td>{'steps': [('imputer', Imputer(axis=0, copy=Tr...</td>\n",
       "    </tr>\n",
       "    <tr>\n",
       "      <th>20</th>\n",
       "      <td>0</td>\n",
       "      <td>0.220</td>\n",
       "      <td>Decision Tree</td>\n",
       "      <td>0.340</td>\n",
       "      <td>0.224</td>\n",
       "      <td>0.388</td>\n",
       "      <td>[0.0, 0.0309433013452, 0.0329906277206, 0.0367...</td>\n",
       "      <td>{'steps': [('imputer', Imputer(axis=0, copy=Tr...</td>\n",
       "      <td>[0.133648431215, 0.14898989899, 0.150680669, 0...</td>\n",
       "      <td>0.626</td>\n",
       "      <td>...</td>\n",
       "      <td>10</td>\n",
       "      <td>1</td>\n",
       "      <td>2015-06-06</td>\n",
       "      <td>2015-06-06</td>\n",
       "      <td>2013-06-08</td>\n",
       "      <td>2013-06-08</td>\n",
       "      <td>728 days</td>\n",
       "      <td>24</td>\n",
       "      <td>0.127</td>\n",
       "      <td>{'steps': [('imputer', Imputer(axis=0, copy=Tr...</td>\n",
       "    </tr>\n",
       "    <tr>\n",
       "      <th>21</th>\n",
       "      <td>1</td>\n",
       "      <td>0.221</td>\n",
       "      <td>Decision Tree</td>\n",
       "      <td>0.343</td>\n",
       "      <td>0.225</td>\n",
       "      <td>0.392</td>\n",
       "      <td>[0.0, 0.0274114259351, 0.0470361493145, 0.0664...</td>\n",
       "      <td>{'steps': [('imputer', Imputer(axis=0, copy=Tr...</td>\n",
       "      <td>[0.133652911401, 0.152314436437, 0.15300422705...</td>\n",
       "      <td>0.630</td>\n",
       "      <td>...</td>\n",
       "      <td>10</td>\n",
       "      <td>1</td>\n",
       "      <td>2015-06-06</td>\n",
       "      <td>2015-06-06</td>\n",
       "      <td>2013-06-08</td>\n",
       "      <td>2013-06-08</td>\n",
       "      <td>728 days</td>\n",
       "      <td>24</td>\n",
       "      <td>0.127</td>\n",
       "      <td>{'steps': [('imputer', Imputer(axis=0, copy=Tr...</td>\n",
       "    </tr>\n",
       "    <tr>\n",
       "      <th>22</th>\n",
       "      <td>0</td>\n",
       "      <td>0.290</td>\n",
       "      <td>Random Forest</td>\n",
       "      <td>0.367</td>\n",
       "      <td>0.296</td>\n",
       "      <td>0.426</td>\n",
       "      <td>[0.00900828673821, 0.00911709866749, 0.0092185...</td>\n",
       "      <td>{'steps': [('imputer', Imputer(axis=0, copy=Tr...</td>\n",
       "      <td>[0.134332884097, 0.134303716432, 0.13432181971...</td>\n",
       "      <td>0.626</td>\n",
       "      <td>...</td>\n",
       "      <td>10</td>\n",
       "      <td>1</td>\n",
       "      <td>2015-06-06</td>\n",
       "      <td>2015-06-06</td>\n",
       "      <td>2013-06-08</td>\n",
       "      <td>2013-06-08</td>\n",
       "      <td>728 days</td>\n",
       "      <td>24</td>\n",
       "      <td>0.127</td>\n",
       "      <td>{'steps': [('imputer', Imputer(axis=0, copy=Tr...</td>\n",
       "    </tr>\n",
       "    <tr>\n",
       "      <th>23</th>\n",
       "      <td>1</td>\n",
       "      <td>0.274</td>\n",
       "      <td>Random Forest</td>\n",
       "      <td>0.349</td>\n",
       "      <td>0.283</td>\n",
       "      <td>0.416</td>\n",
       "      <td>[0.027226277071, 0.0273419567988, 0.0275810121...</td>\n",
       "      <td>{'steps': [('imputer', Imputer(axis=0, copy=Tr...</td>\n",
       "      <td>[0.134864526604, 0.134835261484, 0.13483982273...</td>\n",
       "      <td>0.616</td>\n",
       "      <td>...</td>\n",
       "      <td>10</td>\n",
       "      <td>1</td>\n",
       "      <td>2015-06-06</td>\n",
       "      <td>2015-06-06</td>\n",
       "      <td>2013-06-08</td>\n",
       "      <td>2013-06-08</td>\n",
       "      <td>728 days</td>\n",
       "      <td>24</td>\n",
       "      <td>0.127</td>\n",
       "      <td>{'steps': [('imputer', Imputer(axis=0, copy=Tr...</td>\n",
       "    </tr>\n",
       "    <tr>\n",
       "      <th>24</th>\n",
       "      <td>0</td>\n",
       "      <td>0.264</td>\n",
       "      <td>Logistic Regression</td>\n",
       "      <td>0.376</td>\n",
       "      <td>0.268</td>\n",
       "      <td>0.421</td>\n",
       "      <td>[7.12554163332e-19, 3.76546532077e-05, 0.00011...</td>\n",
       "      <td>{'steps': [('imputer', Imputer(axis=0, copy=Tr...</td>\n",
       "      <td>[0.133648431215, 0.133619389226, 0.13359034529...</td>\n",
       "      <td>0.650</td>\n",
       "      <td>...</td>\n",
       "      <td>10</td>\n",
       "      <td>1</td>\n",
       "      <td>2015-06-06</td>\n",
       "      <td>2015-06-06</td>\n",
       "      <td>2013-06-08</td>\n",
       "      <td>2013-06-08</td>\n",
       "      <td>728 days</td>\n",
       "      <td>24</td>\n",
       "      <td>0.127</td>\n",
       "      <td>{'steps': [('imputer', Imputer(axis=0, copy=Tr...</td>\n",
       "    </tr>\n",
       "    <tr>\n",
       "      <th>25</th>\n",
       "      <td>1</td>\n",
       "      <td>0.257</td>\n",
       "      <td>Logistic Regression</td>\n",
       "      <td>0.376</td>\n",
       "      <td>0.264</td>\n",
       "      <td>0.426</td>\n",
       "      <td>[2.0622542031e-28, 4.28400157415e-23, 2.120147...</td>\n",
       "      <td>{'steps': [('imputer', Imputer(axis=0, copy=Tr...</td>\n",
       "      <td>[0.133652911401, 0.133623868589, 0.13362834825...</td>\n",
       "      <td>0.654</td>\n",
       "      <td>...</td>\n",
       "      <td>10</td>\n",
       "      <td>1</td>\n",
       "      <td>2015-06-06</td>\n",
       "      <td>2015-06-06</td>\n",
       "      <td>2013-06-08</td>\n",
       "      <td>2013-06-08</td>\n",
       "      <td>728 days</td>\n",
       "      <td>24</td>\n",
       "      <td>0.127</td>\n",
       "      <td>{'steps': [('imputer', Imputer(axis=0, copy=Tr...</td>\n",
       "    </tr>\n",
       "    <tr>\n",
       "      <th>26</th>\n",
       "      <td>0</td>\n",
       "      <td>0.232</td>\n",
       "      <td>Decision Tree</td>\n",
       "      <td>0.364</td>\n",
       "      <td>0.247</td>\n",
       "      <td>0.430</td>\n",
       "      <td>[0.0, 0.0142939868907, 0.0246952746064, 0.0542...</td>\n",
       "      <td>{'steps': [('imputer', Imputer(axis=0, copy=Tr...</td>\n",
       "      <td>[0.133648431215, 0.145977686436, 0.14828002414...</td>\n",
       "      <td>0.656</td>\n",
       "      <td>...</td>\n",
       "      <td>10</td>\n",
       "      <td>1</td>\n",
       "      <td>2015-06-06</td>\n",
       "      <td>2015-06-06</td>\n",
       "      <td>2013-06-08</td>\n",
       "      <td>2013-06-08</td>\n",
       "      <td>728 days</td>\n",
       "      <td>24</td>\n",
       "      <td>0.127</td>\n",
       "      <td>{'steps': [('imputer', Imputer(axis=0, copy=Tr...</td>\n",
       "    </tr>\n",
       "    <tr>\n",
       "      <th>27</th>\n",
       "      <td>1</td>\n",
       "      <td>0.232</td>\n",
       "      <td>Decision Tree</td>\n",
       "      <td>0.362</td>\n",
       "      <td>0.245</td>\n",
       "      <td>0.423</td>\n",
       "      <td>[0.0, 0.0130564922517, 0.029136326895, 0.02913...</td>\n",
       "      <td>{'steps': [('imputer', Imputer(axis=0, copy=Tr...</td>\n",
       "      <td>[0.133652911401, 0.128966619834, 0.13446402274...</td>\n",
       "      <td>0.651</td>\n",
       "      <td>...</td>\n",
       "      <td>10</td>\n",
       "      <td>1</td>\n",
       "      <td>2015-06-06</td>\n",
       "      <td>2015-06-06</td>\n",
       "      <td>2013-06-08</td>\n",
       "      <td>2013-06-08</td>\n",
       "      <td>728 days</td>\n",
       "      <td>24</td>\n",
       "      <td>0.127</td>\n",
       "      <td>{'steps': [('imputer', Imputer(axis=0, copy=Tr...</td>\n",
       "    </tr>\n",
       "    <tr>\n",
       "      <th>28</th>\n",
       "      <td>0</td>\n",
       "      <td>0.230</td>\n",
       "      <td>Decision Tree</td>\n",
       "      <td>0.365</td>\n",
       "      <td>0.248</td>\n",
       "      <td>0.435</td>\n",
       "      <td>[0.0, 0.0458154652901, 0.0678877923333, 0.0708...</td>\n",
       "      <td>{'steps': [('imputer', Imputer(axis=0, copy=Tr...</td>\n",
       "      <td>[0.133648431215, 0.148736887176, 0.14934295562...</td>\n",
       "      <td>0.659</td>\n",
       "      <td>...</td>\n",
       "      <td>10</td>\n",
       "      <td>1</td>\n",
       "      <td>2015-06-06</td>\n",
       "      <td>2015-06-06</td>\n",
       "      <td>2013-06-08</td>\n",
       "      <td>2013-06-08</td>\n",
       "      <td>728 days</td>\n",
       "      <td>24</td>\n",
       "      <td>0.127</td>\n",
       "      <td>{'steps': [('imputer', Imputer(axis=0, copy=Tr...</td>\n",
       "    </tr>\n",
       "    <tr>\n",
       "      <th>29</th>\n",
       "      <td>1</td>\n",
       "      <td>0.228</td>\n",
       "      <td>Decision Tree</td>\n",
       "      <td>0.356</td>\n",
       "      <td>0.238</td>\n",
       "      <td>0.414</td>\n",
       "      <td>[0.0, 0.0208111894869, 0.0385319398025, 0.0458...</td>\n",
       "      <td>{'steps': [('imputer', Imputer(axis=0, copy=Tr...</td>\n",
       "      <td>[0.133652911401, 0.136053426928, 0.13732289705...</td>\n",
       "      <td>0.645</td>\n",
       "      <td>...</td>\n",
       "      <td>10</td>\n",
       "      <td>1</td>\n",
       "      <td>2015-06-06</td>\n",
       "      <td>2015-06-06</td>\n",
       "      <td>2013-06-08</td>\n",
       "      <td>2013-06-08</td>\n",
       "      <td>728 days</td>\n",
       "      <td>24</td>\n",
       "      <td>0.127</td>\n",
       "      <td>{'steps': [('imputer', Imputer(axis=0, copy=Tr...</td>\n",
       "    </tr>\n",
       "    <tr>\n",
       "      <th>...</th>\n",
       "      <td>...</td>\n",
       "      <td>...</td>\n",
       "      <td>...</td>\n",
       "      <td>...</td>\n",
       "      <td>...</td>\n",
       "      <td>...</td>\n",
       "      <td>...</td>\n",
       "      <td>...</td>\n",
       "      <td>...</td>\n",
       "      <td>...</td>\n",
       "      <td>...</td>\n",
       "      <td>...</td>\n",
       "      <td>...</td>\n",
       "      <td>...</td>\n",
       "      <td>...</td>\n",
       "      <td>...</td>\n",
       "      <td>...</td>\n",
       "      <td>...</td>\n",
       "      <td>...</td>\n",
       "      <td>...</td>\n",
       "      <td>...</td>\n",
       "    </tr>\n",
       "    <tr>\n",
       "      <th>135</th>\n",
       "      <td>0</td>\n",
       "      <td>0.251</td>\n",
       "      <td>Random Forest</td>\n",
       "      <td>0.361</td>\n",
       "      <td>0.286</td>\n",
       "      <td>0.454</td>\n",
       "      <td>[0.0658426611574, 0.0659752376895, 0.065975787...</td>\n",
       "      <td>{'steps': [('imputer', Imputer(axis=0, copy=Tr...</td>\n",
       "      <td>[0.10411477219, 0.10409308779, 0.104099653106,...</td>\n",
       "      <td>0.703</td>\n",
       "      <td>...</td>\n",
       "      <td>5</td>\n",
       "      <td>1</td>\n",
       "      <td>2016-07-24</td>\n",
       "      <td>2016-07-24</td>\n",
       "      <td>2014-07-27</td>\n",
       "      <td>2014-07-27</td>\n",
       "      <td>728 days</td>\n",
       "      <td>24</td>\n",
       "      <td>0.127</td>\n",
       "      <td>{'steps': [('imputer', Imputer(axis=0, copy=Tr...</td>\n",
       "    </tr>\n",
       "    <tr>\n",
       "      <th>136</th>\n",
       "      <td>1</td>\n",
       "      <td>0.238</td>\n",
       "      <td>Random Forest</td>\n",
       "      <td>0.352</td>\n",
       "      <td>0.277</td>\n",
       "      <td>0.453</td>\n",
       "      <td>[0.0654503646861, 0.0659157280923, 0.065938322...</td>\n",
       "      <td>{'steps': [('imputer', Imputer(axis=0, copy=Tr...</td>\n",
       "      <td>[0.104599594526, 0.104594423321, 0.10460105203...</td>\n",
       "      <td>0.700</td>\n",
       "      <td>...</td>\n",
       "      <td>5</td>\n",
       "      <td>1</td>\n",
       "      <td>2016-07-24</td>\n",
       "      <td>2016-07-24</td>\n",
       "      <td>2014-07-27</td>\n",
       "      <td>2014-07-27</td>\n",
       "      <td>728 days</td>\n",
       "      <td>24</td>\n",
       "      <td>0.127</td>\n",
       "      <td>{'steps': [('imputer', Imputer(axis=0, copy=Tr...</td>\n",
       "    </tr>\n",
       "    <tr>\n",
       "      <th>137</th>\n",
       "      <td>2</td>\n",
       "      <td>0.235</td>\n",
       "      <td>Random Forest</td>\n",
       "      <td>0.349</td>\n",
       "      <td>0.273</td>\n",
       "      <td>0.450</td>\n",
       "      <td>[0.0485447404009, 0.0505228939837, 0.051726159...</td>\n",
       "      <td>{'steps': [('imputer', Imputer(axis=0, copy=Tr...</td>\n",
       "      <td>[0.10394434476, 0.104001260239, 0.104086523302...</td>\n",
       "      <td>0.697</td>\n",
       "      <td>...</td>\n",
       "      <td>5</td>\n",
       "      <td>1</td>\n",
       "      <td>2016-07-24</td>\n",
       "      <td>2016-07-24</td>\n",
       "      <td>2014-07-27</td>\n",
       "      <td>2014-07-27</td>\n",
       "      <td>728 days</td>\n",
       "      <td>24</td>\n",
       "      <td>0.127</td>\n",
       "      <td>{'steps': [('imputer', Imputer(axis=0, copy=Tr...</td>\n",
       "    </tr>\n",
       "    <tr>\n",
       "      <th>138</th>\n",
       "      <td>0</td>\n",
       "      <td>0.246</td>\n",
       "      <td>Random Forest</td>\n",
       "      <td>0.360</td>\n",
       "      <td>0.291</td>\n",
       "      <td>0.470</td>\n",
       "      <td>[0.0828148162097, 0.0834977449151, 0.084944539...</td>\n",
       "      <td>{'steps': [('imputer', Imputer(axis=0, copy=Tr...</td>\n",
       "      <td>[0.103882212295, 0.104079959642, 0.10409437890...</td>\n",
       "      <td>0.713</td>\n",
       "      <td>...</td>\n",
       "      <td>5</td>\n",
       "      <td>1</td>\n",
       "      <td>2016-07-24</td>\n",
       "      <td>2016-07-24</td>\n",
       "      <td>2014-07-27</td>\n",
       "      <td>2014-07-27</td>\n",
       "      <td>728 days</td>\n",
       "      <td>24</td>\n",
       "      <td>0.127</td>\n",
       "      <td>{'steps': [('imputer', Imputer(axis=0, copy=Tr...</td>\n",
       "    </tr>\n",
       "    <tr>\n",
       "      <th>139</th>\n",
       "      <td>1</td>\n",
       "      <td>0.241</td>\n",
       "      <td>Random Forest</td>\n",
       "      <td>0.354</td>\n",
       "      <td>0.280</td>\n",
       "      <td>0.457</td>\n",
       "      <td>[0.101250119679, 0.101833255987, 0.10228752190...</td>\n",
       "      <td>{'steps': [('imputer', Imputer(axis=0, copy=Tr...</td>\n",
       "      <td>[0.104642687371, 0.104624259136, 0.10463089162...</td>\n",
       "      <td>0.703</td>\n",
       "      <td>...</td>\n",
       "      <td>5</td>\n",
       "      <td>1</td>\n",
       "      <td>2016-07-24</td>\n",
       "      <td>2016-07-24</td>\n",
       "      <td>2014-07-27</td>\n",
       "      <td>2014-07-27</td>\n",
       "      <td>728 days</td>\n",
       "      <td>24</td>\n",
       "      <td>0.127</td>\n",
       "      <td>{'steps': [('imputer', Imputer(axis=0, copy=Tr...</td>\n",
       "    </tr>\n",
       "    <tr>\n",
       "      <th>140</th>\n",
       "      <td>2</td>\n",
       "      <td>0.250</td>\n",
       "      <td>Random Forest</td>\n",
       "      <td>0.362</td>\n",
       "      <td>0.293</td>\n",
       "      <td>0.470</td>\n",
       "      <td>[0.117086863337, 0.118760478843, 0.11942728698...</td>\n",
       "      <td>{'steps': [('imputer', Imputer(axis=0, copy=Tr...</td>\n",
       "      <td>[0.103918174666, 0.103971778639, 0.10398815524...</td>\n",
       "      <td>0.714</td>\n",
       "      <td>...</td>\n",
       "      <td>5</td>\n",
       "      <td>1</td>\n",
       "      <td>2016-07-24</td>\n",
       "      <td>2016-07-24</td>\n",
       "      <td>2014-07-27</td>\n",
       "      <td>2014-07-27</td>\n",
       "      <td>728 days</td>\n",
       "      <td>24</td>\n",
       "      <td>0.127</td>\n",
       "      <td>{'steps': [('imputer', Imputer(axis=0, copy=Tr...</td>\n",
       "    </tr>\n",
       "    <tr>\n",
       "      <th>141</th>\n",
       "      <td>0</td>\n",
       "      <td>0.243</td>\n",
       "      <td>Logistic Regression</td>\n",
       "      <td>0.356</td>\n",
       "      <td>0.284</td>\n",
       "      <td>0.461</td>\n",
       "      <td>[0.0506392909467, 0.051191284918, 0.0520411615...</td>\n",
       "      <td>{'steps': [('imputer', Imputer(axis=0, copy=Tr...</td>\n",
       "      <td>[0.104045878498, 0.104017646132, 0.10402092393...</td>\n",
       "      <td>0.706</td>\n",
       "      <td>...</td>\n",
       "      <td>5</td>\n",
       "      <td>1</td>\n",
       "      <td>2016-07-24</td>\n",
       "      <td>2016-07-24</td>\n",
       "      <td>2014-07-27</td>\n",
       "      <td>2014-07-27</td>\n",
       "      <td>728 days</td>\n",
       "      <td>24</td>\n",
       "      <td>0.127</td>\n",
       "      <td>{'steps': [('imputer', Imputer(axis=0, copy=Tr...</td>\n",
       "    </tr>\n",
       "    <tr>\n",
       "      <th>142</th>\n",
       "      <td>1</td>\n",
       "      <td>0.241</td>\n",
       "      <td>Logistic Regression</td>\n",
       "      <td>0.355</td>\n",
       "      <td>0.283</td>\n",
       "      <td>0.461</td>\n",
       "      <td>[0.0558231558019, 0.0567858783062, 0.056787574...</td>\n",
       "      <td>{'steps': [('imputer', Imputer(axis=0, copy=Tr...</td>\n",
       "      <td>[0.104483751543, 0.104455414214, 0.10445871966...</td>\n",
       "      <td>0.706</td>\n",
       "      <td>...</td>\n",
       "      <td>5</td>\n",
       "      <td>1</td>\n",
       "      <td>2016-07-24</td>\n",
       "      <td>2016-07-24</td>\n",
       "      <td>2014-07-27</td>\n",
       "      <td>2014-07-27</td>\n",
       "      <td>728 days</td>\n",
       "      <td>24</td>\n",
       "      <td>0.127</td>\n",
       "      <td>{'steps': [('imputer', Imputer(axis=0, copy=Tr...</td>\n",
       "    </tr>\n",
       "    <tr>\n",
       "      <th>143</th>\n",
       "      <td>2</td>\n",
       "      <td>0.243</td>\n",
       "      <td>Logistic Regression</td>\n",
       "      <td>0.357</td>\n",
       "      <td>0.285</td>\n",
       "      <td>0.462</td>\n",
       "      <td>[0.0447474960413, 0.0447724651651, 0.044792490...</td>\n",
       "      <td>{'steps': [('imputer', Imputer(axis=0, copy=Tr...</td>\n",
       "      <td>[0.1040098277, 0.103981603982, 0.103984879509,...</td>\n",
       "      <td>0.707</td>\n",
       "      <td>...</td>\n",
       "      <td>5</td>\n",
       "      <td>1</td>\n",
       "      <td>2016-07-24</td>\n",
       "      <td>2016-07-24</td>\n",
       "      <td>2014-07-27</td>\n",
       "      <td>2014-07-27</td>\n",
       "      <td>728 days</td>\n",
       "      <td>24</td>\n",
       "      <td>0.127</td>\n",
       "      <td>{'steps': [('imputer', Imputer(axis=0, copy=Tr...</td>\n",
       "    </tr>\n",
       "    <tr>\n",
       "      <th>144</th>\n",
       "      <td>0</td>\n",
       "      <td>0.242</td>\n",
       "      <td>Logistic Regression</td>\n",
       "      <td>0.355</td>\n",
       "      <td>0.283</td>\n",
       "      <td>0.460</td>\n",
       "      <td>[0.0504211129028, 0.0508857573866, 0.051913856...</td>\n",
       "      <td>{'steps': [('imputer', Imputer(axis=0, copy=Tr...</td>\n",
       "      <td>[0.104045878498, 0.104017646132, 0.10402092393...</td>\n",
       "      <td>0.705</td>\n",
       "      <td>...</td>\n",
       "      <td>5</td>\n",
       "      <td>1</td>\n",
       "      <td>2016-07-24</td>\n",
       "      <td>2016-07-24</td>\n",
       "      <td>2014-07-27</td>\n",
       "      <td>2014-07-27</td>\n",
       "      <td>728 days</td>\n",
       "      <td>24</td>\n",
       "      <td>0.127</td>\n",
       "      <td>{'steps': [('imputer', Imputer(axis=0, copy=Tr...</td>\n",
       "    </tr>\n",
       "    <tr>\n",
       "      <th>145</th>\n",
       "      <td>1</td>\n",
       "      <td>0.242</td>\n",
       "      <td>Logistic Regression</td>\n",
       "      <td>0.355</td>\n",
       "      <td>0.283</td>\n",
       "      <td>0.462</td>\n",
       "      <td>[0.0559060700182, 0.0567834640079, 0.056793822...</td>\n",
       "      <td>{'steps': [('imputer', Imputer(axis=0, copy=Tr...</td>\n",
       "      <td>[0.104483751543, 0.104455414214, 0.10445871966...</td>\n",
       "      <td>0.706</td>\n",
       "      <td>...</td>\n",
       "      <td>5</td>\n",
       "      <td>1</td>\n",
       "      <td>2016-07-24</td>\n",
       "      <td>2016-07-24</td>\n",
       "      <td>2014-07-27</td>\n",
       "      <td>2014-07-27</td>\n",
       "      <td>728 days</td>\n",
       "      <td>24</td>\n",
       "      <td>0.127</td>\n",
       "      <td>{'steps': [('imputer', Imputer(axis=0, copy=Tr...</td>\n",
       "    </tr>\n",
       "    <tr>\n",
       "      <th>146</th>\n",
       "      <td>2</td>\n",
       "      <td>0.243</td>\n",
       "      <td>Logistic Regression</td>\n",
       "      <td>0.357</td>\n",
       "      <td>0.285</td>\n",
       "      <td>0.463</td>\n",
       "      <td>[0.044599330021, 0.0447269244967, 0.0448022092...</td>\n",
       "      <td>{'steps': [('imputer', Imputer(axis=0, copy=Tr...</td>\n",
       "      <td>[0.104003275694, 0.103975053547, 0.10397832866...</td>\n",
       "      <td>0.707</td>\n",
       "      <td>...</td>\n",
       "      <td>5</td>\n",
       "      <td>1</td>\n",
       "      <td>2016-07-24</td>\n",
       "      <td>2016-07-24</td>\n",
       "      <td>2014-07-27</td>\n",
       "      <td>2014-07-27</td>\n",
       "      <td>728 days</td>\n",
       "      <td>24</td>\n",
       "      <td>0.127</td>\n",
       "      <td>{'steps': [('imputer', Imputer(axis=0, copy=Tr...</td>\n",
       "    </tr>\n",
       "    <tr>\n",
       "      <th>147</th>\n",
       "      <td>0</td>\n",
       "      <td>0.250</td>\n",
       "      <td>Random Forest</td>\n",
       "      <td>0.362</td>\n",
       "      <td>0.291</td>\n",
       "      <td>0.465</td>\n",
       "      <td>[0.100708827637, 0.103478897573, 0.10475985360...</td>\n",
       "      <td>{'steps': [('imputer', Imputer(axis=0, copy=Tr...</td>\n",
       "      <td>[0.103882212295, 0.103919408154, 0.10420746730...</td>\n",
       "      <td>0.710</td>\n",
       "      <td>...</td>\n",
       "      <td>5</td>\n",
       "      <td>1</td>\n",
       "      <td>2016-07-24</td>\n",
       "      <td>2016-07-24</td>\n",
       "      <td>2014-07-27</td>\n",
       "      <td>2014-07-27</td>\n",
       "      <td>728 days</td>\n",
       "      <td>24</td>\n",
       "      <td>0.127</td>\n",
       "      <td>{'steps': [('imputer', Imputer(axis=0, copy=Tr...</td>\n",
       "    </tr>\n",
       "    <tr>\n",
       "      <th>148</th>\n",
       "      <td>1</td>\n",
       "      <td>0.241</td>\n",
       "      <td>Random Forest</td>\n",
       "      <td>0.354</td>\n",
       "      <td>0.280</td>\n",
       "      <td>0.456</td>\n",
       "      <td>[0.131889630377, 0.131911523612, 0.13260019000...</td>\n",
       "      <td>{'steps': [('imputer', Imputer(axis=0, copy=Tr...</td>\n",
       "      <td>[0.105226258764, 0.105231279288, 0.10529169723...</td>\n",
       "      <td>0.703</td>\n",
       "      <td>...</td>\n",
       "      <td>5</td>\n",
       "      <td>1</td>\n",
       "      <td>2016-07-24</td>\n",
       "      <td>2016-07-24</td>\n",
       "      <td>2014-07-27</td>\n",
       "      <td>2014-07-27</td>\n",
       "      <td>728 days</td>\n",
       "      <td>24</td>\n",
       "      <td>0.127</td>\n",
       "      <td>{'steps': [('imputer', Imputer(axis=0, copy=Tr...</td>\n",
       "    </tr>\n",
       "    <tr>\n",
       "      <th>149</th>\n",
       "      <td>2</td>\n",
       "      <td>0.249</td>\n",
       "      <td>Random Forest</td>\n",
       "      <td>0.361</td>\n",
       "      <td>0.291</td>\n",
       "      <td>0.468</td>\n",
       "      <td>[0.134064613414, 0.134085200275, 0.13428078163...</td>\n",
       "      <td>{'steps': [('imputer', Imputer(axis=0, copy=Tr...</td>\n",
       "      <td>[0.104091797491, 0.104145633518, 0.10415220546...</td>\n",
       "      <td>0.712</td>\n",
       "      <td>...</td>\n",
       "      <td>5</td>\n",
       "      <td>1</td>\n",
       "      <td>2016-07-24</td>\n",
       "      <td>2016-07-24</td>\n",
       "      <td>2014-07-27</td>\n",
       "      <td>2014-07-27</td>\n",
       "      <td>728 days</td>\n",
       "      <td>24</td>\n",
       "      <td>0.127</td>\n",
       "      <td>{'steps': [('imputer', Imputer(axis=0, copy=Tr...</td>\n",
       "    </tr>\n",
       "    <tr>\n",
       "      <th>150</th>\n",
       "      <td>0</td>\n",
       "      <td>0.281</td>\n",
       "      <td>Random Forest</td>\n",
       "      <td>0.397</td>\n",
       "      <td>0.317</td>\n",
       "      <td>0.488</td>\n",
       "      <td>[0.115891838823, 0.1159218204, 0.115998289896,...</td>\n",
       "      <td>{'steps': [('imputer', Imputer(axis=0, copy=Tr...</td>\n",
       "      <td>[0.118047466511, 0.118015361654, 0.11801965780...</td>\n",
       "      <td>0.718</td>\n",
       "      <td>...</td>\n",
       "      <td>5</td>\n",
       "      <td>1</td>\n",
       "      <td>2016-03-03</td>\n",
       "      <td>2016-03-03</td>\n",
       "      <td>2014-03-06</td>\n",
       "      <td>2014-03-06</td>\n",
       "      <td>728 days</td>\n",
       "      <td>24</td>\n",
       "      <td>0.127</td>\n",
       "      <td>{'steps': [('imputer', Imputer(axis=0, copy=Tr...</td>\n",
       "    </tr>\n",
       "    <tr>\n",
       "      <th>151</th>\n",
       "      <td>1</td>\n",
       "      <td>0.275</td>\n",
       "      <td>Random Forest</td>\n",
       "      <td>0.393</td>\n",
       "      <td>0.313</td>\n",
       "      <td>0.488</td>\n",
       "      <td>[0.102827011596, 0.102943840186, 0.10317702092...</td>\n",
       "      <td>{'steps': [('imputer', Imputer(axis=0, copy=Tr...</td>\n",
       "      <td>[0.117170841013, 0.117160105556, 0.11716434097...</td>\n",
       "      <td>0.717</td>\n",
       "      <td>...</td>\n",
       "      <td>5</td>\n",
       "      <td>1</td>\n",
       "      <td>2016-03-03</td>\n",
       "      <td>2016-03-03</td>\n",
       "      <td>2014-03-06</td>\n",
       "      <td>2014-03-06</td>\n",
       "      <td>728 days</td>\n",
       "      <td>24</td>\n",
       "      <td>0.127</td>\n",
       "      <td>{'steps': [('imputer', Imputer(axis=0, copy=Tr...</td>\n",
       "    </tr>\n",
       "    <tr>\n",
       "      <th>152</th>\n",
       "      <td>2</td>\n",
       "      <td>0.273</td>\n",
       "      <td>Random Forest</td>\n",
       "      <td>0.390</td>\n",
       "      <td>0.308</td>\n",
       "      <td>0.479</td>\n",
       "      <td>[0.123561167861, 0.12366243222, 0.123732133214...</td>\n",
       "      <td>{'steps': [('imputer', Imputer(axis=0, copy=Tr...</td>\n",
       "      <td>[0.117758163525, 0.117815987495, 0.11782883734...</td>\n",
       "      <td>0.711</td>\n",
       "      <td>...</td>\n",
       "      <td>5</td>\n",
       "      <td>1</td>\n",
       "      <td>2016-03-03</td>\n",
       "      <td>2016-03-03</td>\n",
       "      <td>2014-03-06</td>\n",
       "      <td>2014-03-06</td>\n",
       "      <td>728 days</td>\n",
       "      <td>24</td>\n",
       "      <td>0.127</td>\n",
       "      <td>{'steps': [('imputer', Imputer(axis=0, copy=Tr...</td>\n",
       "    </tr>\n",
       "    <tr>\n",
       "      <th>153</th>\n",
       "      <td>0</td>\n",
       "      <td>0.262</td>\n",
       "      <td>Random Forest</td>\n",
       "      <td>0.383</td>\n",
       "      <td>0.302</td>\n",
       "      <td>0.483</td>\n",
       "      <td>[0.105848802432, 0.108755685532, 0.10881221814...</td>\n",
       "      <td>{'steps': [('imputer', Imputer(axis=0, copy=Tr...</td>\n",
       "      <td>[0.116144975288, 0.116405156009, 0.11661031580...</td>\n",
       "      <td>0.712</td>\n",
       "      <td>...</td>\n",
       "      <td>5</td>\n",
       "      <td>1</td>\n",
       "      <td>2016-03-03</td>\n",
       "      <td>2016-03-03</td>\n",
       "      <td>2014-03-06</td>\n",
       "      <td>2014-03-06</td>\n",
       "      <td>728 days</td>\n",
       "      <td>24</td>\n",
       "      <td>0.127</td>\n",
       "      <td>{'steps': [('imputer', Imputer(axis=0, copy=Tr...</td>\n",
       "    </tr>\n",
       "    <tr>\n",
       "      <th>154</th>\n",
       "      <td>1</td>\n",
       "      <td>0.274</td>\n",
       "      <td>Random Forest</td>\n",
       "      <td>0.393</td>\n",
       "      <td>0.316</td>\n",
       "      <td>0.494</td>\n",
       "      <td>[0.143257100439, 0.143496734229, 0.14359279399...</td>\n",
       "      <td>{'steps': [('imputer', Imputer(axis=0, copy=Tr...</td>\n",
       "      <td>[0.116300760511, 0.116289917474, 0.11629826324...</td>\n",
       "      <td>0.721</td>\n",
       "      <td>...</td>\n",
       "      <td>5</td>\n",
       "      <td>1</td>\n",
       "      <td>2016-03-03</td>\n",
       "      <td>2016-03-03</td>\n",
       "      <td>2014-03-06</td>\n",
       "      <td>2014-03-06</td>\n",
       "      <td>728 days</td>\n",
       "      <td>24</td>\n",
       "      <td>0.127</td>\n",
       "      <td>{'steps': [('imputer', Imputer(axis=0, copy=Tr...</td>\n",
       "    </tr>\n",
       "    <tr>\n",
       "      <th>155</th>\n",
       "      <td>2</td>\n",
       "      <td>0.272</td>\n",
       "      <td>Random Forest</td>\n",
       "      <td>0.390</td>\n",
       "      <td>0.308</td>\n",
       "      <td>0.482</td>\n",
       "      <td>[0.128717642339, 0.132765088709, 0.13360242113...</td>\n",
       "      <td>{'steps': [('imputer', Imputer(axis=0, copy=Tr...</td>\n",
       "      <td>[0.116105003044, 0.116195667766, 0.11619983502...</td>\n",
       "      <td>0.713</td>\n",
       "      <td>...</td>\n",
       "      <td>5</td>\n",
       "      <td>1</td>\n",
       "      <td>2016-03-03</td>\n",
       "      <td>2016-03-03</td>\n",
       "      <td>2014-03-06</td>\n",
       "      <td>2014-03-06</td>\n",
       "      <td>728 days</td>\n",
       "      <td>24</td>\n",
       "      <td>0.127</td>\n",
       "      <td>{'steps': [('imputer', Imputer(axis=0, copy=Tr...</td>\n",
       "    </tr>\n",
       "    <tr>\n",
       "      <th>156</th>\n",
       "      <td>0</td>\n",
       "      <td>0.277</td>\n",
       "      <td>Logistic Regression</td>\n",
       "      <td>0.393</td>\n",
       "      <td>0.312</td>\n",
       "      <td>0.484</td>\n",
       "      <td>[0.0600570980717, 0.0604793227198, 0.060518215...</td>\n",
       "      <td>{'steps': [('imputer', Imputer(axis=0, copy=Tr...</td>\n",
       "      <td>[0.11639091268, 0.116359198909, 0.116363375328...</td>\n",
       "      <td>0.714</td>\n",
       "      <td>...</td>\n",
       "      <td>5</td>\n",
       "      <td>1</td>\n",
       "      <td>2016-03-03</td>\n",
       "      <td>2016-03-03</td>\n",
       "      <td>2014-03-06</td>\n",
       "      <td>2014-03-06</td>\n",
       "      <td>728 days</td>\n",
       "      <td>24</td>\n",
       "      <td>0.127</td>\n",
       "      <td>{'steps': [('imputer', Imputer(axis=0, copy=Tr...</td>\n",
       "    </tr>\n",
       "    <tr>\n",
       "      <th>157</th>\n",
       "      <td>1</td>\n",
       "      <td>0.281</td>\n",
       "      <td>Logistic Regression</td>\n",
       "      <td>0.398</td>\n",
       "      <td>0.319</td>\n",
       "      <td>0.491</td>\n",
       "      <td>[0.040302650917, 0.0403630457009, 0.0413712857...</td>\n",
       "      <td>{'steps': [('imputer', Imputer(axis=0, copy=Tr...</td>\n",
       "      <td>[0.116188223489, 0.116156547918, 0.11616071108...</td>\n",
       "      <td>0.721</td>\n",
       "      <td>...</td>\n",
       "      <td>5</td>\n",
       "      <td>1</td>\n",
       "      <td>2016-03-03</td>\n",
       "      <td>2016-03-03</td>\n",
       "      <td>2014-03-06</td>\n",
       "      <td>2014-03-06</td>\n",
       "      <td>728 days</td>\n",
       "      <td>24</td>\n",
       "      <td>0.127</td>\n",
       "      <td>{'steps': [('imputer', Imputer(axis=0, copy=Tr...</td>\n",
       "    </tr>\n",
       "    <tr>\n",
       "      <th>158</th>\n",
       "      <td>2</td>\n",
       "      <td>0.279</td>\n",
       "      <td>Logistic Regression</td>\n",
       "      <td>0.394</td>\n",
       "      <td>0.311</td>\n",
       "      <td>0.479</td>\n",
       "      <td>[0.0658019163796, 0.0665777317322, 0.067959564...</td>\n",
       "      <td>{'steps': [('imputer', Imputer(axis=0, copy=Tr...</td>\n",
       "      <td>[0.116451149425, 0.116419411617, 0.11642359364...</td>\n",
       "      <td>0.711</td>\n",
       "      <td>...</td>\n",
       "      <td>5</td>\n",
       "      <td>1</td>\n",
       "      <td>2016-03-03</td>\n",
       "      <td>2016-03-03</td>\n",
       "      <td>2014-03-06</td>\n",
       "      <td>2014-03-06</td>\n",
       "      <td>728 days</td>\n",
       "      <td>24</td>\n",
       "      <td>0.127</td>\n",
       "      <td>{'steps': [('imputer', Imputer(axis=0, copy=Tr...</td>\n",
       "    </tr>\n",
       "    <tr>\n",
       "      <th>159</th>\n",
       "      <td>0</td>\n",
       "      <td>0.277</td>\n",
       "      <td>Logistic Regression</td>\n",
       "      <td>0.394</td>\n",
       "      <td>0.312</td>\n",
       "      <td>0.484</td>\n",
       "      <td>[0.0602593327882, 0.060387900423, 0.0605531770...</td>\n",
       "      <td>{'steps': [('imputer', Imputer(axis=0, copy=Tr...</td>\n",
       "      <td>[0.116386735573, 0.11635502279, 0.116359198909...</td>\n",
       "      <td>0.714</td>\n",
       "      <td>...</td>\n",
       "      <td>5</td>\n",
       "      <td>1</td>\n",
       "      <td>2016-03-03</td>\n",
       "      <td>2016-03-03</td>\n",
       "      <td>2014-03-06</td>\n",
       "      <td>2014-03-06</td>\n",
       "      <td>728 days</td>\n",
       "      <td>24</td>\n",
       "      <td>0.127</td>\n",
       "      <td>{'steps': [('imputer', Imputer(axis=0, copy=Tr...</td>\n",
       "    </tr>\n",
       "    <tr>\n",
       "      <th>160</th>\n",
       "      <td>1</td>\n",
       "      <td>0.281</td>\n",
       "      <td>Logistic Regression</td>\n",
       "      <td>0.397</td>\n",
       "      <td>0.319</td>\n",
       "      <td>0.491</td>\n",
       "      <td>[0.0390320095067, 0.0406679132323, 0.041200234...</td>\n",
       "      <td>{'steps': [('imputer', Imputer(axis=0, copy=Tr...</td>\n",
       "      <td>[0.116188223489, 0.116156547918, 0.11616071108...</td>\n",
       "      <td>0.720</td>\n",
       "      <td>...</td>\n",
       "      <td>5</td>\n",
       "      <td>1</td>\n",
       "      <td>2016-03-03</td>\n",
       "      <td>2016-03-03</td>\n",
       "      <td>2014-03-06</td>\n",
       "      <td>2014-03-06</td>\n",
       "      <td>728 days</td>\n",
       "      <td>24</td>\n",
       "      <td>0.127</td>\n",
       "      <td>{'steps': [('imputer', Imputer(axis=0, copy=Tr...</td>\n",
       "    </tr>\n",
       "    <tr>\n",
       "      <th>161</th>\n",
       "      <td>2</td>\n",
       "      <td>0.278</td>\n",
       "      <td>Logistic Regression</td>\n",
       "      <td>0.394</td>\n",
       "      <td>0.311</td>\n",
       "      <td>0.479</td>\n",
       "      <td>[0.0663344014588, 0.0671849219858, 0.068347604...</td>\n",
       "      <td>{'steps': [('imputer', Imputer(axis=0, copy=Tr...</td>\n",
       "      <td>[0.116451149425, 0.116419411617, 0.11642359364...</td>\n",
       "      <td>0.711</td>\n",
       "      <td>...</td>\n",
       "      <td>5</td>\n",
       "      <td>1</td>\n",
       "      <td>2016-03-03</td>\n",
       "      <td>2016-03-03</td>\n",
       "      <td>2014-03-06</td>\n",
       "      <td>2014-03-06</td>\n",
       "      <td>728 days</td>\n",
       "      <td>24</td>\n",
       "      <td>0.127</td>\n",
       "      <td>{'steps': [('imputer', Imputer(axis=0, copy=Tr...</td>\n",
       "    </tr>\n",
       "    <tr>\n",
       "      <th>162</th>\n",
       "      <td>0</td>\n",
       "      <td>0.263</td>\n",
       "      <td>Random Forest</td>\n",
       "      <td>0.385</td>\n",
       "      <td>0.305</td>\n",
       "      <td>0.487</td>\n",
       "      <td>[0.101481285531, 0.103122238692, 0.10324226891...</td>\n",
       "      <td>{'steps': [('imputer', Imputer(axis=0, copy=Tr...</td>\n",
       "      <td>[0.116307427465, 0.116467883317, 0.11649299317...</td>\n",
       "      <td>0.715</td>\n",
       "      <td>...</td>\n",
       "      <td>5</td>\n",
       "      <td>1</td>\n",
       "      <td>2016-03-03</td>\n",
       "      <td>2016-03-03</td>\n",
       "      <td>2014-03-06</td>\n",
       "      <td>2014-03-06</td>\n",
       "      <td>728 days</td>\n",
       "      <td>24</td>\n",
       "      <td>0.127</td>\n",
       "      <td>{'steps': [('imputer', Imputer(axis=0, copy=Tr...</td>\n",
       "    </tr>\n",
       "    <tr>\n",
       "      <th>163</th>\n",
       "      <td>1</td>\n",
       "      <td>0.269</td>\n",
       "      <td>Random Forest</td>\n",
       "      <td>0.390</td>\n",
       "      <td>0.312</td>\n",
       "      <td>0.492</td>\n",
       "      <td>[0.163355670561, 0.1636124483, 0.163630573164,...</td>\n",
       "      <td>{'steps': [('imputer', Imputer(axis=0, copy=Tr...</td>\n",
       "      <td>[0.117192018508, 0.117215189873, 0.11722366898...</td>\n",
       "      <td>0.719</td>\n",
       "      <td>...</td>\n",
       "      <td>5</td>\n",
       "      <td>1</td>\n",
       "      <td>2016-03-03</td>\n",
       "      <td>2016-03-03</td>\n",
       "      <td>2014-03-06</td>\n",
       "      <td>2014-03-06</td>\n",
       "      <td>728 days</td>\n",
       "      <td>24</td>\n",
       "      <td>0.127</td>\n",
       "      <td>{'steps': [('imputer', Imputer(axis=0, copy=Tr...</td>\n",
       "    </tr>\n",
       "    <tr>\n",
       "      <th>164</th>\n",
       "      <td>2</td>\n",
       "      <td>0.269</td>\n",
       "      <td>Random Forest</td>\n",
       "      <td>0.387</td>\n",
       "      <td>0.304</td>\n",
       "      <td>0.477</td>\n",
       "      <td>[0.140871820158, 0.141369575315, 0.14157105177...</td>\n",
       "      <td>{'steps': [('imputer', Imputer(axis=0, copy=Tr...</td>\n",
       "      <td>[0.116405156009, 0.116557577501, 0.11656176946...</td>\n",
       "      <td>0.709</td>\n",
       "      <td>...</td>\n",
       "      <td>5</td>\n",
       "      <td>1</td>\n",
       "      <td>2016-03-03</td>\n",
       "      <td>2016-03-03</td>\n",
       "      <td>2014-03-06</td>\n",
       "      <td>2014-03-06</td>\n",
       "      <td>728 days</td>\n",
       "      <td>24</td>\n",
       "      <td>0.127</td>\n",
       "      <td>{'steps': [('imputer', Imputer(axis=0, copy=Tr...</td>\n",
       "    </tr>\n",
       "  </tbody>\n",
       "</table>\n",
       "<p>165 rows × 81 columns</p>\n",
       "</div>"
      ],
      "text/plain": [
       "     level_0     CK           Classifier     F1    MCC    PRC  \\\n",
       "0          0  0.204        Decision Tree  0.326  0.211  0.377   \n",
       "1          1  0.185        Decision Tree  0.306  0.189  0.355   \n",
       "2          0  0.265        Random Forest  0.342  0.270  0.398   \n",
       "3          1  0.261        Random Forest  0.332  0.271  0.399   \n",
       "4          0  0.261  Logistic Regression  0.372  0.268  0.421   \n",
       "5          1  0.227  Logistic Regression  0.353  0.241  0.415   \n",
       "6          0  0.225        Decision Tree  0.351  0.239  0.412   \n",
       "7          1  0.221        Decision Tree  0.347  0.234  0.408   \n",
       "8          0  0.230        Decision Tree  0.356  0.245  0.419   \n",
       "9          1  0.198        Decision Tree  0.333  0.215  0.404   \n",
       "10         0  0.296  Logistic Regression  0.412  0.318  0.480   \n",
       "11         1  0.301  Logistic Regression  0.414  0.319  0.476   \n",
       "12         0  0.196        Decision Tree  0.339  0.224  0.431   \n",
       "13         1  0.196        Decision Tree  0.339  0.224  0.432   \n",
       "14         0  0.292        Random Forest  0.407  0.310  0.470   \n",
       "15         1  0.289        Random Forest  0.404  0.307  0.467   \n",
       "16         0  0.278        Random Forest  0.403  0.310  0.488   \n",
       "17         1  0.287        Random Forest  0.406  0.309  0.475   \n",
       "18         0  0.304  Logistic Regression  0.421  0.331  0.496   \n",
       "19         1  0.307  Logistic Regression  0.421  0.329  0.489   \n",
       "20         0  0.220        Decision Tree  0.340  0.224  0.388   \n",
       "21         1  0.221        Decision Tree  0.343  0.225  0.392   \n",
       "22         0  0.290        Random Forest  0.367  0.296  0.426   \n",
       "23         1  0.274        Random Forest  0.349  0.283  0.416   \n",
       "24         0  0.264  Logistic Regression  0.376  0.268  0.421   \n",
       "25         1  0.257  Logistic Regression  0.376  0.264  0.426   \n",
       "26         0  0.232        Decision Tree  0.364  0.247  0.430   \n",
       "27         1  0.232        Decision Tree  0.362  0.245  0.423   \n",
       "28         0  0.230        Decision Tree  0.365  0.248  0.435   \n",
       "29         1  0.228        Decision Tree  0.356  0.238  0.414   \n",
       "..       ...    ...                  ...    ...    ...    ...   \n",
       "135        0  0.251        Random Forest  0.361  0.286  0.454   \n",
       "136        1  0.238        Random Forest  0.352  0.277  0.453   \n",
       "137        2  0.235        Random Forest  0.349  0.273  0.450   \n",
       "138        0  0.246        Random Forest  0.360  0.291  0.470   \n",
       "139        1  0.241        Random Forest  0.354  0.280  0.457   \n",
       "140        2  0.250        Random Forest  0.362  0.293  0.470   \n",
       "141        0  0.243  Logistic Regression  0.356  0.284  0.461   \n",
       "142        1  0.241  Logistic Regression  0.355  0.283  0.461   \n",
       "143        2  0.243  Logistic Regression  0.357  0.285  0.462   \n",
       "144        0  0.242  Logistic Regression  0.355  0.283  0.460   \n",
       "145        1  0.242  Logistic Regression  0.355  0.283  0.462   \n",
       "146        2  0.243  Logistic Regression  0.357  0.285  0.463   \n",
       "147        0  0.250        Random Forest  0.362  0.291  0.465   \n",
       "148        1  0.241        Random Forest  0.354  0.280  0.456   \n",
       "149        2  0.249        Random Forest  0.361  0.291  0.468   \n",
       "150        0  0.281        Random Forest  0.397  0.317  0.488   \n",
       "151        1  0.275        Random Forest  0.393  0.313  0.488   \n",
       "152        2  0.273        Random Forest  0.390  0.308  0.479   \n",
       "153        0  0.262        Random Forest  0.383  0.302  0.483   \n",
       "154        1  0.274        Random Forest  0.393  0.316  0.494   \n",
       "155        2  0.272        Random Forest  0.390  0.308  0.482   \n",
       "156        0  0.277  Logistic Regression  0.393  0.312  0.484   \n",
       "157        1  0.281  Logistic Regression  0.398  0.319  0.491   \n",
       "158        2  0.279  Logistic Regression  0.394  0.311  0.479   \n",
       "159        0  0.277  Logistic Regression  0.394  0.312  0.484   \n",
       "160        1  0.281  Logistic Regression  0.397  0.319  0.491   \n",
       "161        2  0.278  Logistic Regression  0.394  0.311  0.479   \n",
       "162        0  0.263        Random Forest  0.385  0.305  0.487   \n",
       "163        1  0.269        Random Forest  0.390  0.312  0.492   \n",
       "164        2  0.269        Random Forest  0.387  0.304  0.477   \n",
       "\n",
       "                                        PRC_Thresholds  \\\n",
       "0    [0.0, 0.016431577003, 0.0197171119079, 0.02295...   \n",
       "1    [0.0, 0.0140506980607, 0.0187272573005, 0.0427...   \n",
       "2    [0.0146260464713, 0.0147110046303, 0.014748218...   \n",
       "3    [0.0201101381086, 0.0202298658792, 0.020255384...   \n",
       "4    [2.96502626686e-18, 5.61073895505e-15, 6.25337...   \n",
       "5    [1.53712411952e-28, 2.9421092597e-26, 6.102015...   \n",
       "6    [0.0, 0.0135788890211, 0.0154712771227, 0.0181...   \n",
       "7    [0.0, 0.00953506181121, 0.0101614579929, 0.020...   \n",
       "8    [0.0, 0.0615188408846, 0.064096856254, 0.08205...   \n",
       "9    [0.0, 0.0412456191074, 0.0514119836772, 0.0823...   \n",
       "10   [4.4985793175e-06, 0.0253105129977, 0.02617425...   \n",
       "11   [8.6383119093e-07, 0.000175671931839, 0.003456...   \n",
       "12   [0.0, 0.0321807237533, 0.0542461306591, 0.0810...   \n",
       "13   [0.0, 0.0714149444532, 0.0732191539942, 0.0783...   \n",
       "14   [0.127445014254, 0.127489958439, 0.12755264203...   \n",
       "15   [0.106967292677, 0.107049410028, 0.10705184171...   \n",
       "16   [0.114682376418, 0.115275425833, 0.11600220036...   \n",
       "17   [0.110065301163, 0.112087889166, 0.11349064671...   \n",
       "18   [0.0421654784697, 0.0423765906298, 0.044793653...   \n",
       "19   [0.0887246222194, 0.0888854286501, 0.089827524...   \n",
       "20   [0.0, 0.0309433013452, 0.0329906277206, 0.0367...   \n",
       "21   [0.0, 0.0274114259351, 0.0470361493145, 0.0664...   \n",
       "22   [0.00900828673821, 0.00911709866749, 0.0092185...   \n",
       "23   [0.027226277071, 0.0273419567988, 0.0275810121...   \n",
       "24   [7.12554163332e-19, 3.76546532077e-05, 0.00011...   \n",
       "25   [2.0622542031e-28, 4.28400157415e-23, 2.120147...   \n",
       "26   [0.0, 0.0142939868907, 0.0246952746064, 0.0542...   \n",
       "27   [0.0, 0.0130564922517, 0.029136326895, 0.02913...   \n",
       "28   [0.0, 0.0458154652901, 0.0678877923333, 0.0708...   \n",
       "29   [0.0, 0.0208111894869, 0.0385319398025, 0.0458...   \n",
       "..                                                 ...   \n",
       "135  [0.0658426611574, 0.0659752376895, 0.065975787...   \n",
       "136  [0.0654503646861, 0.0659157280923, 0.065938322...   \n",
       "137  [0.0485447404009, 0.0505228939837, 0.051726159...   \n",
       "138  [0.0828148162097, 0.0834977449151, 0.084944539...   \n",
       "139  [0.101250119679, 0.101833255987, 0.10228752190...   \n",
       "140  [0.117086863337, 0.118760478843, 0.11942728698...   \n",
       "141  [0.0506392909467, 0.051191284918, 0.0520411615...   \n",
       "142  [0.0558231558019, 0.0567858783062, 0.056787574...   \n",
       "143  [0.0447474960413, 0.0447724651651, 0.044792490...   \n",
       "144  [0.0504211129028, 0.0508857573866, 0.051913856...   \n",
       "145  [0.0559060700182, 0.0567834640079, 0.056793822...   \n",
       "146  [0.044599330021, 0.0447269244967, 0.0448022092...   \n",
       "147  [0.100708827637, 0.103478897573, 0.10475985360...   \n",
       "148  [0.131889630377, 0.131911523612, 0.13260019000...   \n",
       "149  [0.134064613414, 0.134085200275, 0.13428078163...   \n",
       "150  [0.115891838823, 0.1159218204, 0.115998289896,...   \n",
       "151  [0.102827011596, 0.102943840186, 0.10317702092...   \n",
       "152  [0.123561167861, 0.12366243222, 0.123732133214...   \n",
       "153  [0.105848802432, 0.108755685532, 0.10881221814...   \n",
       "154  [0.143257100439, 0.143496734229, 0.14359279399...   \n",
       "155  [0.128717642339, 0.132765088709, 0.13360242113...   \n",
       "156  [0.0600570980717, 0.0604793227198, 0.060518215...   \n",
       "157  [0.040302650917, 0.0403630457009, 0.0413712857...   \n",
       "158  [0.0658019163796, 0.0665777317322, 0.067959564...   \n",
       "159  [0.0602593327882, 0.060387900423, 0.0605531770...   \n",
       "160  [0.0390320095067, 0.0406679132323, 0.041200234...   \n",
       "161  [0.0663344014588, 0.0671849219858, 0.068347604...   \n",
       "162  [0.101481285531, 0.103122238692, 0.10324226891...   \n",
       "163  [0.163355670561, 0.1636124483, 0.163630573164,...   \n",
       "164  [0.140871820158, 0.141369575315, 0.14157105177...   \n",
       "\n",
       "                                                Params  \\\n",
       "0    {'steps': [('imputer', Imputer(axis=0, copy=Tr...   \n",
       "1    {'steps': [('imputer', Imputer(axis=0, copy=Tr...   \n",
       "2    {'steps': [('imputer', Imputer(axis=0, copy=Tr...   \n",
       "3    {'steps': [('imputer', Imputer(axis=0, copy=Tr...   \n",
       "4    {'steps': [('imputer', Imputer(axis=0, copy=Tr...   \n",
       "5    {'steps': [('imputer', Imputer(axis=0, copy=Tr...   \n",
       "6    {'steps': [('imputer', Imputer(axis=0, copy=Tr...   \n",
       "7    {'steps': [('imputer', Imputer(axis=0, copy=Tr...   \n",
       "8    {'steps': [('imputer', Imputer(axis=0, copy=Tr...   \n",
       "9    {'steps': [('imputer', Imputer(axis=0, copy=Tr...   \n",
       "10   {'steps': [('imputer', Imputer(axis=0, copy=Tr...   \n",
       "11   {'steps': [('imputer', Imputer(axis=0, copy=Tr...   \n",
       "12   {'steps': [('imputer', Imputer(axis=0, copy=Tr...   \n",
       "13   {'steps': [('imputer', Imputer(axis=0, copy=Tr...   \n",
       "14   {'steps': [('imputer', Imputer(axis=0, copy=Tr...   \n",
       "15   {'steps': [('imputer', Imputer(axis=0, copy=Tr...   \n",
       "16   {'steps': [('imputer', Imputer(axis=0, copy=Tr...   \n",
       "17   {'steps': [('imputer', Imputer(axis=0, copy=Tr...   \n",
       "18   {'steps': [('imputer', Imputer(axis=0, copy=Tr...   \n",
       "19   {'steps': [('imputer', Imputer(axis=0, copy=Tr...   \n",
       "20   {'steps': [('imputer', Imputer(axis=0, copy=Tr...   \n",
       "21   {'steps': [('imputer', Imputer(axis=0, copy=Tr...   \n",
       "22   {'steps': [('imputer', Imputer(axis=0, copy=Tr...   \n",
       "23   {'steps': [('imputer', Imputer(axis=0, copy=Tr...   \n",
       "24   {'steps': [('imputer', Imputer(axis=0, copy=Tr...   \n",
       "25   {'steps': [('imputer', Imputer(axis=0, copy=Tr...   \n",
       "26   {'steps': [('imputer', Imputer(axis=0, copy=Tr...   \n",
       "27   {'steps': [('imputer', Imputer(axis=0, copy=Tr...   \n",
       "28   {'steps': [('imputer', Imputer(axis=0, copy=Tr...   \n",
       "29   {'steps': [('imputer', Imputer(axis=0, copy=Tr...   \n",
       "..                                                 ...   \n",
       "135  {'steps': [('imputer', Imputer(axis=0, copy=Tr...   \n",
       "136  {'steps': [('imputer', Imputer(axis=0, copy=Tr...   \n",
       "137  {'steps': [('imputer', Imputer(axis=0, copy=Tr...   \n",
       "138  {'steps': [('imputer', Imputer(axis=0, copy=Tr...   \n",
       "139  {'steps': [('imputer', Imputer(axis=0, copy=Tr...   \n",
       "140  {'steps': [('imputer', Imputer(axis=0, copy=Tr...   \n",
       "141  {'steps': [('imputer', Imputer(axis=0, copy=Tr...   \n",
       "142  {'steps': [('imputer', Imputer(axis=0, copy=Tr...   \n",
       "143  {'steps': [('imputer', Imputer(axis=0, copy=Tr...   \n",
       "144  {'steps': [('imputer', Imputer(axis=0, copy=Tr...   \n",
       "145  {'steps': [('imputer', Imputer(axis=0, copy=Tr...   \n",
       "146  {'steps': [('imputer', Imputer(axis=0, copy=Tr...   \n",
       "147  {'steps': [('imputer', Imputer(axis=0, copy=Tr...   \n",
       "148  {'steps': [('imputer', Imputer(axis=0, copy=Tr...   \n",
       "149  {'steps': [('imputer', Imputer(axis=0, copy=Tr...   \n",
       "150  {'steps': [('imputer', Imputer(axis=0, copy=Tr...   \n",
       "151  {'steps': [('imputer', Imputer(axis=0, copy=Tr...   \n",
       "152  {'steps': [('imputer', Imputer(axis=0, copy=Tr...   \n",
       "153  {'steps': [('imputer', Imputer(axis=0, copy=Tr...   \n",
       "154  {'steps': [('imputer', Imputer(axis=0, copy=Tr...   \n",
       "155  {'steps': [('imputer', Imputer(axis=0, copy=Tr...   \n",
       "156  {'steps': [('imputer', Imputer(axis=0, copy=Tr...   \n",
       "157  {'steps': [('imputer', Imputer(axis=0, copy=Tr...   \n",
       "158  {'steps': [('imputer', Imputer(axis=0, copy=Tr...   \n",
       "159  {'steps': [('imputer', Imputer(axis=0, copy=Tr...   \n",
       "160  {'steps': [('imputer', Imputer(axis=0, copy=Tr...   \n",
       "161  {'steps': [('imputer', Imputer(axis=0, copy=Tr...   \n",
       "162  {'steps': [('imputer', Imputer(axis=0, copy=Tr...   \n",
       "163  {'steps': [('imputer', Imputer(axis=0, copy=Tr...   \n",
       "164  {'steps': [('imputer', Imputer(axis=0, copy=Tr...   \n",
       "\n",
       "                                             Precision    ROC  \\\n",
       "0    [0.126852024631, 0.140142517815, 0.14507866813...  0.625   \n",
       "1    [0.126856758976, 0.121553308824, 0.12539910600...  0.609   \n",
       "2    [0.127902163688, 0.127869345977, 0.12787415798...  0.616   \n",
       "3    [0.128123939839, 0.128095902288, 0.12810073135...  0.609   \n",
       "4    [0.126852024631, 0.126819437187, 0.12682417049...  0.657   \n",
       "5    [0.126866228725, 0.126833638162, 0.12683837252...  0.652   \n",
       "6    [0.126852024631, 0.119997792129, 0.12242926940...  0.649   \n",
       "7    [0.126856758976, 0.133157299132, 0.13681673073...  0.646   \n",
       "8    [0.126852024631, 0.131912408759, 0.13246859960...  0.655   \n",
       "9    [0.126856758976, 0.135553786812, 0.13665634674...  0.640   \n",
       "10   [0.126856758976, 0.126824170492, 0.12682890415...  0.703   \n",
       "11   [0.126861493674, 0.12682890415, 0.126796312194...  0.700   \n",
       "12   [0.126852024631, 0.12656641604, 0.127489500068...  0.654   \n",
       "13   [0.126856758976, 0.125157588141, 0.12618421052...  0.654   \n",
       "14   [0.129293620906, 0.129290008371, 0.12929492789...  0.695   \n",
       "15   [0.128764632345, 0.128731626004, 0.12873650312...  0.693   \n",
       "16   [0.127460906739, 0.127557340741, 0.12761482705...  0.707   \n",
       "17   [0.12701793722, 0.127558877662, 0.127545270118...  0.699   \n",
       "18   [0.126994208855, 0.126961590196, 0.12696633411...  0.716   \n",
       "19   [0.127638002253, 0.127605242405, 0.12761003455...  0.710   \n",
       "20   [0.133648431215, 0.14898989899, 0.150680669, 0...  0.626   \n",
       "21   [0.133652911401, 0.152314436437, 0.15300422705...  0.630   \n",
       "22   [0.134332884097, 0.134303716432, 0.13432181971...  0.626   \n",
       "23   [0.134864526604, 0.134835261484, 0.13483982273...  0.616   \n",
       "24   [0.133648431215, 0.133619389226, 0.13359034529...  0.650   \n",
       "25   [0.133652911401, 0.133623868589, 0.13362834825...  0.654   \n",
       "26   [0.133648431215, 0.145977686436, 0.14828002414...  0.656   \n",
       "27   [0.133652911401, 0.128966619834, 0.13446402274...  0.651   \n",
       "28   [0.133648431215, 0.148736887176, 0.14934295562...  0.659   \n",
       "29   [0.133652911401, 0.136053426928, 0.13732289705...  0.645   \n",
       "..                                                 ...    ...   \n",
       "135  [0.10411477219, 0.10409308779, 0.104099653106,...  0.703   \n",
       "136  [0.104599594526, 0.104594423321, 0.10460105203...  0.700   \n",
       "137  [0.10394434476, 0.104001260239, 0.104086523302...  0.697   \n",
       "138  [0.103882212295, 0.104079959642, 0.10409437890...  0.713   \n",
       "139  [0.104642687371, 0.104624259136, 0.10463089162...  0.703   \n",
       "140  [0.103918174666, 0.103971778639, 0.10398815524...  0.714   \n",
       "141  [0.104045878498, 0.104017646132, 0.10402092393...  0.706   \n",
       "142  [0.104483751543, 0.104455414214, 0.10445871966...  0.706   \n",
       "143  [0.1040098277, 0.103981603982, 0.103984879509,...  0.707   \n",
       "144  [0.104045878498, 0.104017646132, 0.10402092393...  0.705   \n",
       "145  [0.104483751543, 0.104455414214, 0.10445871966...  0.706   \n",
       "146  [0.104003275694, 0.103975053547, 0.10397832866...  0.707   \n",
       "147  [0.103882212295, 0.103919408154, 0.10420746730...  0.710   \n",
       "148  [0.105226258764, 0.105231279288, 0.10529169723...  0.703   \n",
       "149  [0.104091797491, 0.104145633518, 0.10415220546...  0.712   \n",
       "150  [0.118047466511, 0.118015361654, 0.11801965780...  0.718   \n",
       "151  [0.117170841013, 0.117160105556, 0.11716434097...  0.717   \n",
       "152  [0.117758163525, 0.117815987495, 0.11782883734...  0.711   \n",
       "153  [0.116144975288, 0.116405156009, 0.11661031580...  0.712   \n",
       "154  [0.116300760511, 0.116289917474, 0.11629826324...  0.721   \n",
       "155  [0.116105003044, 0.116195667766, 0.11619983502...  0.713   \n",
       "156  [0.11639091268, 0.116359198909, 0.116363375328...  0.714   \n",
       "157  [0.116188223489, 0.116156547918, 0.11616071108...  0.721   \n",
       "158  [0.116451149425, 0.116419411617, 0.11642359364...  0.711   \n",
       "159  [0.116386735573, 0.11635502279, 0.116359198909...  0.714   \n",
       "160  [0.116188223489, 0.116156547918, 0.11616071108...  0.720   \n",
       "161  [0.116451149425, 0.116419411617, 0.11642359364...  0.711   \n",
       "162  [0.116307427465, 0.116467883317, 0.11649299317...  0.715   \n",
       "163  [0.117192018508, 0.117215189873, 0.11722366898...  0.719   \n",
       "164  [0.116405156009, 0.116557577501, 0.11656176946...  0.709   \n",
       "\n",
       "                           ...                         top_pipelines_select  \\\n",
       "0                          ...                                           10   \n",
       "1                          ...                                           10   \n",
       "2                          ...                                           10   \n",
       "3                          ...                                           10   \n",
       "4                          ...                                           10   \n",
       "5                          ...                                           10   \n",
       "6                          ...                                           10   \n",
       "7                          ...                                           10   \n",
       "8                          ...                                           10   \n",
       "9                          ...                                           10   \n",
       "10                         ...                                           10   \n",
       "11                         ...                                           10   \n",
       "12                         ...                                           10   \n",
       "13                         ...                                           10   \n",
       "14                         ...                                           10   \n",
       "15                         ...                                           10   \n",
       "16                         ...                                           10   \n",
       "17                         ...                                           10   \n",
       "18                         ...                                           10   \n",
       "19                         ...                                           10   \n",
       "20                         ...                                           10   \n",
       "21                         ...                                           10   \n",
       "22                         ...                                           10   \n",
       "23                         ...                                           10   \n",
       "24                         ...                                           10   \n",
       "25                         ...                                           10   \n",
       "26                         ...                                           10   \n",
       "27                         ...                                           10   \n",
       "28                         ...                                           10   \n",
       "29                         ...                                           10   \n",
       "..                         ...                                          ...   \n",
       "135                        ...                                            5   \n",
       "136                        ...                                            5   \n",
       "137                        ...                                            5   \n",
       "138                        ...                                            5   \n",
       "139                        ...                                            5   \n",
       "140                        ...                                            5   \n",
       "141                        ...                                            5   \n",
       "142                        ...                                            5   \n",
       "143                        ...                                            5   \n",
       "144                        ...                                            5   \n",
       "145                        ...                                            5   \n",
       "146                        ...                                            5   \n",
       "147                        ...                                            5   \n",
       "148                        ...                                            5   \n",
       "149                        ...                                            5   \n",
       "150                        ...                                            5   \n",
       "151                        ...                                            5   \n",
       "152                        ...                                            5   \n",
       "153                        ...                                            5   \n",
       "154                        ...                                            5   \n",
       "155                        ...                                            5   \n",
       "156                        ...                                            5   \n",
       "157                        ...                                            5   \n",
       "158                        ...                                            5   \n",
       "159                        ...                                            5   \n",
       "160                        ...                                            5   \n",
       "161                        ...                                            5   \n",
       "162                        ...                                            5   \n",
       "163                        ...                                            5   \n",
       "164                        ...                                            5   \n",
       "\n",
       "    verbosity  label_date label_date_str feature_date feature_date_str  \\\n",
       "0           1  2015-01-23     2015-01-23   2013-01-25       2013-01-25   \n",
       "1           1  2015-01-23     2015-01-23   2013-01-25       2013-01-25   \n",
       "2           1  2015-01-23     2015-01-23   2013-01-25       2013-01-25   \n",
       "3           1  2015-01-23     2015-01-23   2013-01-25       2013-01-25   \n",
       "4           1  2015-01-23     2015-01-23   2013-01-25       2013-01-25   \n",
       "5           1  2015-01-23     2015-01-23   2013-01-25       2013-01-25   \n",
       "6           1  2015-01-23     2015-01-23   2013-01-25       2013-01-25   \n",
       "7           1  2015-01-23     2015-01-23   2013-01-25       2013-01-25   \n",
       "8           1  2015-01-23     2015-01-23   2013-01-25       2013-01-25   \n",
       "9           1  2015-01-23     2015-01-23   2013-01-25       2013-01-25   \n",
       "10          1  2015-01-23     2015-01-23   2013-01-25       2013-01-25   \n",
       "11          1  2015-01-23     2015-01-23   2013-01-25       2013-01-25   \n",
       "12          1  2015-01-23     2015-01-23   2013-01-25       2013-01-25   \n",
       "13          1  2015-01-23     2015-01-23   2013-01-25       2013-01-25   \n",
       "14          1  2015-01-23     2015-01-23   2013-01-25       2013-01-25   \n",
       "15          1  2015-01-23     2015-01-23   2013-01-25       2013-01-25   \n",
       "16          1  2015-01-23     2015-01-23   2013-01-25       2013-01-25   \n",
       "17          1  2015-01-23     2015-01-23   2013-01-25       2013-01-25   \n",
       "18          1  2015-01-23     2015-01-23   2013-01-25       2013-01-25   \n",
       "19          1  2015-01-23     2015-01-23   2013-01-25       2013-01-25   \n",
       "20          1  2015-06-06     2015-06-06   2013-06-08       2013-06-08   \n",
       "21          1  2015-06-06     2015-06-06   2013-06-08       2013-06-08   \n",
       "22          1  2015-06-06     2015-06-06   2013-06-08       2013-06-08   \n",
       "23          1  2015-06-06     2015-06-06   2013-06-08       2013-06-08   \n",
       "24          1  2015-06-06     2015-06-06   2013-06-08       2013-06-08   \n",
       "25          1  2015-06-06     2015-06-06   2013-06-08       2013-06-08   \n",
       "26          1  2015-06-06     2015-06-06   2013-06-08       2013-06-08   \n",
       "27          1  2015-06-06     2015-06-06   2013-06-08       2013-06-08   \n",
       "28          1  2015-06-06     2015-06-06   2013-06-08       2013-06-08   \n",
       "29          1  2015-06-06     2015-06-06   2013-06-08       2013-06-08   \n",
       "..        ...         ...            ...          ...              ...   \n",
       "135         1  2016-07-24     2016-07-24   2014-07-27       2014-07-27   \n",
       "136         1  2016-07-24     2016-07-24   2014-07-27       2014-07-27   \n",
       "137         1  2016-07-24     2016-07-24   2014-07-27       2014-07-27   \n",
       "138         1  2016-07-24     2016-07-24   2014-07-27       2014-07-27   \n",
       "139         1  2016-07-24     2016-07-24   2014-07-27       2014-07-27   \n",
       "140         1  2016-07-24     2016-07-24   2014-07-27       2014-07-27   \n",
       "141         1  2016-07-24     2016-07-24   2014-07-27       2014-07-27   \n",
       "142         1  2016-07-24     2016-07-24   2014-07-27       2014-07-27   \n",
       "143         1  2016-07-24     2016-07-24   2014-07-27       2014-07-27   \n",
       "144         1  2016-07-24     2016-07-24   2014-07-27       2014-07-27   \n",
       "145         1  2016-07-24     2016-07-24   2014-07-27       2014-07-27   \n",
       "146         1  2016-07-24     2016-07-24   2014-07-27       2014-07-27   \n",
       "147         1  2016-07-24     2016-07-24   2014-07-27       2014-07-27   \n",
       "148         1  2016-07-24     2016-07-24   2014-07-27       2014-07-27   \n",
       "149         1  2016-07-24     2016-07-24   2014-07-27       2014-07-27   \n",
       "150         1  2016-03-03     2016-03-03   2014-03-06       2014-03-06   \n",
       "151         1  2016-03-03     2016-03-03   2014-03-06       2014-03-06   \n",
       "152         1  2016-03-03     2016-03-03   2014-03-06       2014-03-06   \n",
       "153         1  2016-03-03     2016-03-03   2014-03-06       2014-03-06   \n",
       "154         1  2016-03-03     2016-03-03   2014-03-06       2014-03-06   \n",
       "155         1  2016-03-03     2016-03-03   2014-03-06       2014-03-06   \n",
       "156         1  2016-03-03     2016-03-03   2014-03-06       2014-03-06   \n",
       "157         1  2016-03-03     2016-03-03   2014-03-06       2014-03-06   \n",
       "158         1  2016-03-03     2016-03-03   2014-03-06       2014-03-06   \n",
       "159         1  2016-03-03     2016-03-03   2014-03-06       2014-03-06   \n",
       "160         1  2016-03-03     2016-03-03   2014-03-06       2014-03-06   \n",
       "161         1  2016-03-03     2016-03-03   2014-03-06       2014-03-06   \n",
       "162         1  2016-03-03     2016-03-03   2014-03-06       2014-03-06   \n",
       "163         1  2016-03-03     2016-03-03   2014-03-06       2014-03-06   \n",
       "164         1  2016-03-03     2016-03-03   2014-03-06       2014-03-06   \n",
       "\n",
       "    forecast_window forecast_window_months  outcome_chance  \\\n",
       "0          728 days                     24           0.127   \n",
       "1          728 days                     24           0.127   \n",
       "2          728 days                     24           0.127   \n",
       "3          728 days                     24           0.127   \n",
       "4          728 days                     24           0.127   \n",
       "5          728 days                     24           0.127   \n",
       "6          728 days                     24           0.127   \n",
       "7          728 days                     24           0.127   \n",
       "8          728 days                     24           0.127   \n",
       "9          728 days                     24           0.127   \n",
       "10         728 days                     24           0.127   \n",
       "11         728 days                     24           0.127   \n",
       "12         728 days                     24           0.127   \n",
       "13         728 days                     24           0.127   \n",
       "14         728 days                     24           0.127   \n",
       "15         728 days                     24           0.127   \n",
       "16         728 days                     24           0.127   \n",
       "17         728 days                     24           0.127   \n",
       "18         728 days                     24           0.127   \n",
       "19         728 days                     24           0.127   \n",
       "20         728 days                     24           0.127   \n",
       "21         728 days                     24           0.127   \n",
       "22         728 days                     24           0.127   \n",
       "23         728 days                     24           0.127   \n",
       "24         728 days                     24           0.127   \n",
       "25         728 days                     24           0.127   \n",
       "26         728 days                     24           0.127   \n",
       "27         728 days                     24           0.127   \n",
       "28         728 days                     24           0.127   \n",
       "29         728 days                     24           0.127   \n",
       "..              ...                    ...             ...   \n",
       "135        728 days                     24           0.127   \n",
       "136        728 days                     24           0.127   \n",
       "137        728 days                     24           0.127   \n",
       "138        728 days                     24           0.127   \n",
       "139        728 days                     24           0.127   \n",
       "140        728 days                     24           0.127   \n",
       "141        728 days                     24           0.127   \n",
       "142        728 days                     24           0.127   \n",
       "143        728 days                     24           0.127   \n",
       "144        728 days                     24           0.127   \n",
       "145        728 days                     24           0.127   \n",
       "146        728 days                     24           0.127   \n",
       "147        728 days                     24           0.127   \n",
       "148        728 days                     24           0.127   \n",
       "149        728 days                     24           0.127   \n",
       "150        728 days                     24           0.127   \n",
       "151        728 days                     24           0.127   \n",
       "152        728 days                     24           0.127   \n",
       "153        728 days                     24           0.127   \n",
       "154        728 days                     24           0.127   \n",
       "155        728 days                     24           0.127   \n",
       "156        728 days                     24           0.127   \n",
       "157        728 days                     24           0.127   \n",
       "158        728 days                     24           0.127   \n",
       "159        728 days                     24           0.127   \n",
       "160        728 days                     24           0.127   \n",
       "161        728 days                     24           0.127   \n",
       "162        728 days                     24           0.127   \n",
       "163        728 days                     24           0.127   \n",
       "164        728 days                     24           0.127   \n",
       "\n",
       "                                            Params_str  \n",
       "0    {'steps': [('imputer', Imputer(axis=0, copy=Tr...  \n",
       "1    {'steps': [('imputer', Imputer(axis=0, copy=Tr...  \n",
       "2    {'steps': [('imputer', Imputer(axis=0, copy=Tr...  \n",
       "3    {'steps': [('imputer', Imputer(axis=0, copy=Tr...  \n",
       "4    {'steps': [('imputer', Imputer(axis=0, copy=Tr...  \n",
       "5    {'steps': [('imputer', Imputer(axis=0, copy=Tr...  \n",
       "6    {'steps': [('imputer', Imputer(axis=0, copy=Tr...  \n",
       "7    {'steps': [('imputer', Imputer(axis=0, copy=Tr...  \n",
       "8    {'steps': [('imputer', Imputer(axis=0, copy=Tr...  \n",
       "9    {'steps': [('imputer', Imputer(axis=0, copy=Tr...  \n",
       "10   {'steps': [('imputer', Imputer(axis=0, copy=Tr...  \n",
       "11   {'steps': [('imputer', Imputer(axis=0, copy=Tr...  \n",
       "12   {'steps': [('imputer', Imputer(axis=0, copy=Tr...  \n",
       "13   {'steps': [('imputer', Imputer(axis=0, copy=Tr...  \n",
       "14   {'steps': [('imputer', Imputer(axis=0, copy=Tr...  \n",
       "15   {'steps': [('imputer', Imputer(axis=0, copy=Tr...  \n",
       "16   {'steps': [('imputer', Imputer(axis=0, copy=Tr...  \n",
       "17   {'steps': [('imputer', Imputer(axis=0, copy=Tr...  \n",
       "18   {'steps': [('imputer', Imputer(axis=0, copy=Tr...  \n",
       "19   {'steps': [('imputer', Imputer(axis=0, copy=Tr...  \n",
       "20   {'steps': [('imputer', Imputer(axis=0, copy=Tr...  \n",
       "21   {'steps': [('imputer', Imputer(axis=0, copy=Tr...  \n",
       "22   {'steps': [('imputer', Imputer(axis=0, copy=Tr...  \n",
       "23   {'steps': [('imputer', Imputer(axis=0, copy=Tr...  \n",
       "24   {'steps': [('imputer', Imputer(axis=0, copy=Tr...  \n",
       "25   {'steps': [('imputer', Imputer(axis=0, copy=Tr...  \n",
       "26   {'steps': [('imputer', Imputer(axis=0, copy=Tr...  \n",
       "27   {'steps': [('imputer', Imputer(axis=0, copy=Tr...  \n",
       "28   {'steps': [('imputer', Imputer(axis=0, copy=Tr...  \n",
       "29   {'steps': [('imputer', Imputer(axis=0, copy=Tr...  \n",
       "..                                                 ...  \n",
       "135  {'steps': [('imputer', Imputer(axis=0, copy=Tr...  \n",
       "136  {'steps': [('imputer', Imputer(axis=0, copy=Tr...  \n",
       "137  {'steps': [('imputer', Imputer(axis=0, copy=Tr...  \n",
       "138  {'steps': [('imputer', Imputer(axis=0, copy=Tr...  \n",
       "139  {'steps': [('imputer', Imputer(axis=0, copy=Tr...  \n",
       "140  {'steps': [('imputer', Imputer(axis=0, copy=Tr...  \n",
       "141  {'steps': [('imputer', Imputer(axis=0, copy=Tr...  \n",
       "142  {'steps': [('imputer', Imputer(axis=0, copy=Tr...  \n",
       "143  {'steps': [('imputer', Imputer(axis=0, copy=Tr...  \n",
       "144  {'steps': [('imputer', Imputer(axis=0, copy=Tr...  \n",
       "145  {'steps': [('imputer', Imputer(axis=0, copy=Tr...  \n",
       "146  {'steps': [('imputer', Imputer(axis=0, copy=Tr...  \n",
       "147  {'steps': [('imputer', Imputer(axis=0, copy=Tr...  \n",
       "148  {'steps': [('imputer', Imputer(axis=0, copy=Tr...  \n",
       "149  {'steps': [('imputer', Imputer(axis=0, copy=Tr...  \n",
       "150  {'steps': [('imputer', Imputer(axis=0, copy=Tr...  \n",
       "151  {'steps': [('imputer', Imputer(axis=0, copy=Tr...  \n",
       "152  {'steps': [('imputer', Imputer(axis=0, copy=Tr...  \n",
       "153  {'steps': [('imputer', Imputer(axis=0, copy=Tr...  \n",
       "154  {'steps': [('imputer', Imputer(axis=0, copy=Tr...  \n",
       "155  {'steps': [('imputer', Imputer(axis=0, copy=Tr...  \n",
       "156  {'steps': [('imputer', Imputer(axis=0, copy=Tr...  \n",
       "157  {'steps': [('imputer', Imputer(axis=0, copy=Tr...  \n",
       "158  {'steps': [('imputer', Imputer(axis=0, copy=Tr...  \n",
       "159  {'steps': [('imputer', Imputer(axis=0, copy=Tr...  \n",
       "160  {'steps': [('imputer', Imputer(axis=0, copy=Tr...  \n",
       "161  {'steps': [('imputer', Imputer(axis=0, copy=Tr...  \n",
       "162  {'steps': [('imputer', Imputer(axis=0, copy=Tr...  \n",
       "163  {'steps': [('imputer', Imputer(axis=0, copy=Tr...  \n",
       "164  {'steps': [('imputer', Imputer(axis=0, copy=Tr...  \n",
       "\n",
       "[165 rows x 81 columns]"
      ]
     },
     "execution_count": 28,
     "metadata": {},
     "output_type": "execute_result"
    }
   ],
   "source": [
    "hello"
   ]
  },
  {
   "cell_type": "code",
   "execution_count": 29,
   "metadata": {
    "collapsed": false
   },
   "outputs": [
    {
     "data": {
      "text/plain": [
       "['level_0',\n",
       " 'CK',\n",
       " 'Classifier',\n",
       " 'F1',\n",
       " 'MCC',\n",
       " 'PRC',\n",
       " 'PRC_Thresholds',\n",
       " 'Params',\n",
       " 'Precision',\n",
       " 'ROC',\n",
       " 'ROC_FPR',\n",
       " 'ROC_TPR',\n",
       " 'ROC_Thresholds',\n",
       " 'Recall',\n",
       " 'Test_Scores',\n",
       " 'Train_Scores',\n",
       " 'Train_Sizes',\n",
       " 'Weights',\n",
       " 'build_identifier',\n",
       " 'create_pipelines_flag',\n",
       " 'cv_folds_create',\n",
       " 'cv_folds_select',\n",
       " 'evaluate_pipeline_flag',\n",
       " 'feature_names',\n",
       " 'feature_slice',\n",
       " 'feature_stage',\n",
       " 'feature_stage_number',\n",
       " 'final_merge_config',\n",
       " 'index',\n",
       " 'label_name',\n",
       " 'label_slice',\n",
       " 'label_stage',\n",
       " 'label_stage_number',\n",
       " 'load_prev_files_create',\n",
       " 'load_prev_files_evaluate',\n",
       " 'load_prev_files_select',\n",
       " 'log_scores',\n",
       " 'master_end_date',\n",
       " 'master_feature_config',\n",
       " 'master_label_config',\n",
       " 'master_merge_config',\n",
       " 'master_path',\n",
       " 'master_start_date',\n",
       " 'max_observations_create',\n",
       " 'max_observations_evaluate',\n",
       " 'max_observations_select',\n",
       " 'n_jobs',\n",
       " 'outcome_extra_stage_bool',\n",
       " 'output_folder',\n",
       " 'output_folder_create',\n",
       " 'output_folder_evaluate',\n",
       " 'output_folder_select',\n",
       " 'output_log_create',\n",
       " 'output_log_evaluate',\n",
       " 'output_log_select',\n",
       " 'output_slices_path_create',\n",
       " 'output_slices_path_evaluate',\n",
       " 'output_slices_path_select',\n",
       " 'pipeline_criteria_evaluate',\n",
       " 'pipeline_criteria_select',\n",
       " 'rank_create',\n",
       " 'search_iterations',\n",
       " 'select_pipeline_flag',\n",
       " 'test_date',\n",
       " 'test_feature_config',\n",
       " 'test_label_config',\n",
       " 'test_merge_config',\n",
       " 'test_path',\n",
       " 'time_slices_create',\n",
       " 'time_slices_evaluate',\n",
       " 'time_slices_select',\n",
       " 'top_pipelines_select',\n",
       " 'verbosity',\n",
       " 'label_date',\n",
       " 'label_date_str',\n",
       " 'feature_date',\n",
       " 'feature_date_str',\n",
       " 'forecast_window',\n",
       " 'forecast_window_months',\n",
       " 'outcome_chance',\n",
       " 'Params_str']"
      ]
     },
     "execution_count": 29,
     "metadata": {},
     "output_type": "execute_result"
    }
   ],
   "source": [
    "list(hello)"
   ]
  },
  {
   "cell_type": "code",
   "execution_count": 30,
   "metadata": {
    "collapsed": false
   },
   "outputs": [
    {
     "ename": "KeyError",
     "evalue": "\"['mean_fit_time' 'mean_score_time'] not in index\"",
     "output_type": "error",
     "traceback": [
      "\u001b[0;31m---------------------------------------------------------------------------\u001b[0m",
      "\u001b[0;31mKeyError\u001b[0m                                  Traceback (most recent call last)",
      "\u001b[0;32m<ipython-input-30-05d50218f592>\u001b[0m in \u001b[0;36m<module>\u001b[0;34m()\u001b[0m\n\u001b[0;32m----> 1\u001b[0;31m \u001b[0mhello\u001b[0m\u001b[1;33m[\u001b[0m\u001b[1;33m[\u001b[0m\u001b[1;34m\"mean_fit_time\"\u001b[0m\u001b[1;33m,\u001b[0m\u001b[1;34m\"mean_score_time\"\u001b[0m\u001b[1;33m]\u001b[0m\u001b[1;33m]\u001b[0m\u001b[1;33m.\u001b[0m\u001b[0mastype\u001b[0m\u001b[1;33m(\u001b[0m\u001b[0mfloat\u001b[0m\u001b[1;33m)\u001b[0m\u001b[1;33m.\u001b[0m\u001b[0mdescribe\u001b[0m\u001b[1;33m(\u001b[0m\u001b[1;33m)\u001b[0m\u001b[1;33m\u001b[0m\u001b[0m\n\u001b[0m",
      "\u001b[0;32mC:\\ProgramData\\Anaconda3\\lib\\site-packages\\pandas\\core\\frame.py\u001b[0m in \u001b[0;36m__getitem__\u001b[0;34m(self, key)\u001b[0m\n\u001b[1;32m   2051\u001b[0m         \u001b[1;32mif\u001b[0m \u001b[0misinstance\u001b[0m\u001b[1;33m(\u001b[0m\u001b[0mkey\u001b[0m\u001b[1;33m,\u001b[0m \u001b[1;33m(\u001b[0m\u001b[0mSeries\u001b[0m\u001b[1;33m,\u001b[0m \u001b[0mnp\u001b[0m\u001b[1;33m.\u001b[0m\u001b[0mndarray\u001b[0m\u001b[1;33m,\u001b[0m \u001b[0mIndex\u001b[0m\u001b[1;33m,\u001b[0m \u001b[0mlist\u001b[0m\u001b[1;33m)\u001b[0m\u001b[1;33m)\u001b[0m\u001b[1;33m:\u001b[0m\u001b[1;33m\u001b[0m\u001b[0m\n\u001b[1;32m   2052\u001b[0m             \u001b[1;31m# either boolean or fancy integer index\u001b[0m\u001b[1;33m\u001b[0m\u001b[1;33m\u001b[0m\u001b[0m\n\u001b[0;32m-> 2053\u001b[0;31m             \u001b[1;32mreturn\u001b[0m \u001b[0mself\u001b[0m\u001b[1;33m.\u001b[0m\u001b[0m_getitem_array\u001b[0m\u001b[1;33m(\u001b[0m\u001b[0mkey\u001b[0m\u001b[1;33m)\u001b[0m\u001b[1;33m\u001b[0m\u001b[0m\n\u001b[0m\u001b[1;32m   2054\u001b[0m         \u001b[1;32melif\u001b[0m \u001b[0misinstance\u001b[0m\u001b[1;33m(\u001b[0m\u001b[0mkey\u001b[0m\u001b[1;33m,\u001b[0m \u001b[0mDataFrame\u001b[0m\u001b[1;33m)\u001b[0m\u001b[1;33m:\u001b[0m\u001b[1;33m\u001b[0m\u001b[0m\n\u001b[1;32m   2055\u001b[0m             \u001b[1;32mreturn\u001b[0m \u001b[0mself\u001b[0m\u001b[1;33m.\u001b[0m\u001b[0m_getitem_frame\u001b[0m\u001b[1;33m(\u001b[0m\u001b[0mkey\u001b[0m\u001b[1;33m)\u001b[0m\u001b[1;33m\u001b[0m\u001b[0m\n",
      "\u001b[0;32mC:\\ProgramData\\Anaconda3\\lib\\site-packages\\pandas\\core\\frame.py\u001b[0m in \u001b[0;36m_getitem_array\u001b[0;34m(self, key)\u001b[0m\n\u001b[1;32m   2095\u001b[0m             \u001b[1;32mreturn\u001b[0m \u001b[0mself\u001b[0m\u001b[1;33m.\u001b[0m\u001b[0mtake\u001b[0m\u001b[1;33m(\u001b[0m\u001b[0mindexer\u001b[0m\u001b[1;33m,\u001b[0m \u001b[0maxis\u001b[0m\u001b[1;33m=\u001b[0m\u001b[1;36m0\u001b[0m\u001b[1;33m,\u001b[0m \u001b[0mconvert\u001b[0m\u001b[1;33m=\u001b[0m\u001b[1;32mFalse\u001b[0m\u001b[1;33m)\u001b[0m\u001b[1;33m\u001b[0m\u001b[0m\n\u001b[1;32m   2096\u001b[0m         \u001b[1;32melse\u001b[0m\u001b[1;33m:\u001b[0m\u001b[1;33m\u001b[0m\u001b[0m\n\u001b[0;32m-> 2097\u001b[0;31m             \u001b[0mindexer\u001b[0m \u001b[1;33m=\u001b[0m \u001b[0mself\u001b[0m\u001b[1;33m.\u001b[0m\u001b[0mix\u001b[0m\u001b[1;33m.\u001b[0m\u001b[0m_convert_to_indexer\u001b[0m\u001b[1;33m(\u001b[0m\u001b[0mkey\u001b[0m\u001b[1;33m,\u001b[0m \u001b[0maxis\u001b[0m\u001b[1;33m=\u001b[0m\u001b[1;36m1\u001b[0m\u001b[1;33m)\u001b[0m\u001b[1;33m\u001b[0m\u001b[0m\n\u001b[0m\u001b[1;32m   2098\u001b[0m             \u001b[1;32mreturn\u001b[0m \u001b[0mself\u001b[0m\u001b[1;33m.\u001b[0m\u001b[0mtake\u001b[0m\u001b[1;33m(\u001b[0m\u001b[0mindexer\u001b[0m\u001b[1;33m,\u001b[0m \u001b[0maxis\u001b[0m\u001b[1;33m=\u001b[0m\u001b[1;36m1\u001b[0m\u001b[1;33m,\u001b[0m \u001b[0mconvert\u001b[0m\u001b[1;33m=\u001b[0m\u001b[1;32mTrue\u001b[0m\u001b[1;33m)\u001b[0m\u001b[1;33m\u001b[0m\u001b[0m\n\u001b[1;32m   2099\u001b[0m \u001b[1;33m\u001b[0m\u001b[0m\n",
      "\u001b[0;32mC:\\ProgramData\\Anaconda3\\lib\\site-packages\\pandas\\core\\indexing.py\u001b[0m in \u001b[0;36m_convert_to_indexer\u001b[0;34m(self, obj, axis, is_setter)\u001b[0m\n\u001b[1;32m   1228\u001b[0m                 \u001b[0mmask\u001b[0m \u001b[1;33m=\u001b[0m \u001b[0mcheck\u001b[0m \u001b[1;33m==\u001b[0m \u001b[1;33m-\u001b[0m\u001b[1;36m1\u001b[0m\u001b[1;33m\u001b[0m\u001b[0m\n\u001b[1;32m   1229\u001b[0m                 \u001b[1;32mif\u001b[0m \u001b[0mmask\u001b[0m\u001b[1;33m.\u001b[0m\u001b[0many\u001b[0m\u001b[1;33m(\u001b[0m\u001b[1;33m)\u001b[0m\u001b[1;33m:\u001b[0m\u001b[1;33m\u001b[0m\u001b[0m\n\u001b[0;32m-> 1230\u001b[0;31m                     \u001b[1;32mraise\u001b[0m \u001b[0mKeyError\u001b[0m\u001b[1;33m(\u001b[0m\u001b[1;34m'%s not in index'\u001b[0m \u001b[1;33m%\u001b[0m \u001b[0mobjarr\u001b[0m\u001b[1;33m[\u001b[0m\u001b[0mmask\u001b[0m\u001b[1;33m]\u001b[0m\u001b[1;33m)\u001b[0m\u001b[1;33m\u001b[0m\u001b[0m\n\u001b[0m\u001b[1;32m   1231\u001b[0m \u001b[1;33m\u001b[0m\u001b[0m\n\u001b[1;32m   1232\u001b[0m                 \u001b[1;32mreturn\u001b[0m \u001b[0m_values_from_object\u001b[0m\u001b[1;33m(\u001b[0m\u001b[0mindexer\u001b[0m\u001b[1;33m)\u001b[0m\u001b[1;33m\u001b[0m\u001b[0m\n",
      "\u001b[0;31mKeyError\u001b[0m: \"['mean_fit_time' 'mean_score_time'] not in index\""
     ]
    }
   ],
   "source": [
    "hello[[\"mean_fit_time\",\"mean_score_time\"]].astype(float).describe()"
   ]
  },
  {
   "cell_type": "code",
   "execution_count": 134,
   "metadata": {
    "collapsed": false
   },
   "outputs": [
    {
     "data": {
      "text/html": [
       "<div>\n",
       "<table border=\"1\" class=\"dataframe\">\n",
       "  <thead>\n",
       "    <tr style=\"text-align: right;\">\n",
       "      <th></th>\n",
       "      <th>keys_company_name_id</th>\n",
       "      <th>confidence_context_local_offices_headquarters_zipcode_number</th>\n",
       "      <th>confidence_context_industry_category_list_advertising</th>\n",
       "      <th>confidence_context_industry_category_list_apps</th>\n",
       "      <th>confidence_context_industry_category_list_consulting</th>\n",
       "      <th>confidence_context_industry_category_list_curated-web</th>\n",
       "      <th>confidence_context_industry_category_list_e-commerce</th>\n",
       "      <th>confidence_context_industry_category_list_enterprise-software</th>\n",
       "      <th>confidence_context_industry_category_list_internet</th>\n",
       "      <th>confidence_context_industry_category_list_mobile</th>\n",
       "      <th>...</th>\n",
       "      <th>outcome_funding_round_codes_list_e</th>\n",
       "      <th>outcome_funding_round_codes_list_f</th>\n",
       "      <th>outcome_funding_round_codes_list_g</th>\n",
       "      <th>outcome_funding_round_codes_list_h</th>\n",
       "      <th>outcome_ipo_valuation_number</th>\n",
       "      <th>outcome_ipo_bool</th>\n",
       "      <th>outcome_ipo_duration</th>\n",
       "      <th>keys_company_uuid_id</th>\n",
       "      <th>outcome_exit_bool</th>\n",
       "      <th>outcome_exit_duration</th>\n",
       "    </tr>\n",
       "  </thead>\n",
       "  <tbody>\n",
       "    <tr>\n",
       "      <th>0</th>\n",
       "      <td>STD Risk Calculator</td>\n",
       "      <td>NaN</td>\n",
       "      <td>NaN</td>\n",
       "      <td>NaN</td>\n",
       "      <td>NaN</td>\n",
       "      <td>NaN</td>\n",
       "      <td>NaN</td>\n",
       "      <td>NaN</td>\n",
       "      <td>NaN</td>\n",
       "      <td>NaN</td>\n",
       "      <td>...</td>\n",
       "      <td>NaN</td>\n",
       "      <td>NaN</td>\n",
       "      <td>NaN</td>\n",
       "      <td>NaN</td>\n",
       "      <td>NaN</td>\n",
       "      <td>NaN</td>\n",
       "      <td>NaN</td>\n",
       "      <td>00001b2d-a4f7-55d5-d69a-17acbac9c17b</td>\n",
       "      <td>0</td>\n",
       "      <td>NaN</td>\n",
       "    </tr>\n",
       "    <tr>\n",
       "      <th>1</th>\n",
       "      <td>Smart MultiMedia</td>\n",
       "      <td>77098.0</td>\n",
       "      <td>0.0</td>\n",
       "      <td>0.0</td>\n",
       "      <td>1.0</td>\n",
       "      <td>0.0</td>\n",
       "      <td>0.0</td>\n",
       "      <td>0.0</td>\n",
       "      <td>0.0</td>\n",
       "      <td>0.0</td>\n",
       "      <td>...</td>\n",
       "      <td>NaN</td>\n",
       "      <td>NaN</td>\n",
       "      <td>NaN</td>\n",
       "      <td>NaN</td>\n",
       "      <td>NaN</td>\n",
       "      <td>NaN</td>\n",
       "      <td>NaN</td>\n",
       "      <td>00003a2c-ad4d-ff61-997b-7b22b2320895</td>\n",
       "      <td>0</td>\n",
       "      <td>NaN</td>\n",
       "    </tr>\n",
       "    <tr>\n",
       "      <th>2</th>\n",
       "      <td>FILLMYBELLY</td>\n",
       "      <td>NaN</td>\n",
       "      <td>0.0</td>\n",
       "      <td>0.0</td>\n",
       "      <td>0.0</td>\n",
       "      <td>0.0</td>\n",
       "      <td>0.0</td>\n",
       "      <td>0.0</td>\n",
       "      <td>1.0</td>\n",
       "      <td>0.0</td>\n",
       "      <td>...</td>\n",
       "      <td>NaN</td>\n",
       "      <td>NaN</td>\n",
       "      <td>NaN</td>\n",
       "      <td>NaN</td>\n",
       "      <td>NaN</td>\n",
       "      <td>NaN</td>\n",
       "      <td>NaN</td>\n",
       "      <td>0000e47b-d356-abc0-125d-ebcbc920687e</td>\n",
       "      <td>1</td>\n",
       "      <td>NaN</td>\n",
       "    </tr>\n",
       "    <tr>\n",
       "      <th>3</th>\n",
       "      <td>Voitel</td>\n",
       "      <td>NaN</td>\n",
       "      <td>NaN</td>\n",
       "      <td>NaN</td>\n",
       "      <td>NaN</td>\n",
       "      <td>NaN</td>\n",
       "      <td>NaN</td>\n",
       "      <td>NaN</td>\n",
       "      <td>NaN</td>\n",
       "      <td>NaN</td>\n",
       "      <td>...</td>\n",
       "      <td>NaN</td>\n",
       "      <td>NaN</td>\n",
       "      <td>NaN</td>\n",
       "      <td>NaN</td>\n",
       "      <td>NaN</td>\n",
       "      <td>NaN</td>\n",
       "      <td>NaN</td>\n",
       "      <td>0000ed60-83b4-679a-18b8-4fc3475c7a39</td>\n",
       "      <td>0</td>\n",
       "      <td>NaN</td>\n",
       "    </tr>\n",
       "    <tr>\n",
       "      <th>4</th>\n",
       "      <td>SocialOptic</td>\n",
       "      <td>NaN</td>\n",
       "      <td>0.0</td>\n",
       "      <td>0.0</td>\n",
       "      <td>0.0</td>\n",
       "      <td>0.0</td>\n",
       "      <td>0.0</td>\n",
       "      <td>0.0</td>\n",
       "      <td>0.0</td>\n",
       "      <td>0.0</td>\n",
       "      <td>...</td>\n",
       "      <td>NaN</td>\n",
       "      <td>NaN</td>\n",
       "      <td>NaN</td>\n",
       "      <td>NaN</td>\n",
       "      <td>NaN</td>\n",
       "      <td>NaN</td>\n",
       "      <td>NaN</td>\n",
       "      <td>0002a7a9-b405-fb78-af07-a6b4ac44bf4e</td>\n",
       "      <td>0</td>\n",
       "      <td>NaN</td>\n",
       "    </tr>\n",
       "  </tbody>\n",
       "</table>\n",
       "<p>5 rows × 452 columns</p>\n",
       "</div>"
      ],
      "text/plain": [
       "  keys_company_name_id  \\\n",
       "0  STD Risk Calculator   \n",
       "1     Smart MultiMedia   \n",
       "2          FILLMYBELLY   \n",
       "3               Voitel   \n",
       "4          SocialOptic   \n",
       "\n",
       "   confidence_context_local_offices_headquarters_zipcode_number  \\\n",
       "0                                                NaN              \n",
       "1                                            77098.0              \n",
       "2                                                NaN              \n",
       "3                                                NaN              \n",
       "4                                                NaN              \n",
       "\n",
       "   confidence_context_industry_category_list_advertising  \\\n",
       "0                                                NaN       \n",
       "1                                                0.0       \n",
       "2                                                0.0       \n",
       "3                                                NaN       \n",
       "4                                                0.0       \n",
       "\n",
       "   confidence_context_industry_category_list_apps  \\\n",
       "0                                             NaN   \n",
       "1                                             0.0   \n",
       "2                                             0.0   \n",
       "3                                             NaN   \n",
       "4                                             0.0   \n",
       "\n",
       "   confidence_context_industry_category_list_consulting  \\\n",
       "0                                                NaN      \n",
       "1                                                1.0      \n",
       "2                                                0.0      \n",
       "3                                                NaN      \n",
       "4                                                0.0      \n",
       "\n",
       "   confidence_context_industry_category_list_curated-web  \\\n",
       "0                                                NaN       \n",
       "1                                                0.0       \n",
       "2                                                0.0       \n",
       "3                                                NaN       \n",
       "4                                                0.0       \n",
       "\n",
       "   confidence_context_industry_category_list_e-commerce  \\\n",
       "0                                                NaN      \n",
       "1                                                0.0      \n",
       "2                                                0.0      \n",
       "3                                                NaN      \n",
       "4                                                0.0      \n",
       "\n",
       "   confidence_context_industry_category_list_enterprise-software  \\\n",
       "0                                                NaN               \n",
       "1                                                0.0               \n",
       "2                                                0.0               \n",
       "3                                                NaN               \n",
       "4                                                0.0               \n",
       "\n",
       "   confidence_context_industry_category_list_internet  \\\n",
       "0                                                NaN    \n",
       "1                                                0.0    \n",
       "2                                                1.0    \n",
       "3                                                NaN    \n",
       "4                                                0.0    \n",
       "\n",
       "   confidence_context_industry_category_list_mobile          ...            \\\n",
       "0                                               NaN          ...             \n",
       "1                                               0.0          ...             \n",
       "2                                               0.0          ...             \n",
       "3                                               NaN          ...             \n",
       "4                                               0.0          ...             \n",
       "\n",
       "   outcome_funding_round_codes_list_e  outcome_funding_round_codes_list_f  \\\n",
       "0                                 NaN                                 NaN   \n",
       "1                                 NaN                                 NaN   \n",
       "2                                 NaN                                 NaN   \n",
       "3                                 NaN                                 NaN   \n",
       "4                                 NaN                                 NaN   \n",
       "\n",
       "   outcome_funding_round_codes_list_g  outcome_funding_round_codes_list_h  \\\n",
       "0                                 NaN                                 NaN   \n",
       "1                                 NaN                                 NaN   \n",
       "2                                 NaN                                 NaN   \n",
       "3                                 NaN                                 NaN   \n",
       "4                                 NaN                                 NaN   \n",
       "\n",
       "   outcome_ipo_valuation_number  outcome_ipo_bool  outcome_ipo_duration  \\\n",
       "0                           NaN               NaN                   NaN   \n",
       "1                           NaN               NaN                   NaN   \n",
       "2                           NaN               NaN                   NaN   \n",
       "3                           NaN               NaN                   NaN   \n",
       "4                           NaN               NaN                   NaN   \n",
       "\n",
       "                   keys_company_uuid_id  outcome_exit_bool  \\\n",
       "0  00001b2d-a4f7-55d5-d69a-17acbac9c17b                  0   \n",
       "1  00003a2c-ad4d-ff61-997b-7b22b2320895                  0   \n",
       "2  0000e47b-d356-abc0-125d-ebcbc920687e                  1   \n",
       "3  0000ed60-83b4-679a-18b8-4fc3475c7a39                  0   \n",
       "4  0002a7a9-b405-fb78-af07-a6b4ac44bf4e                  0   \n",
       "\n",
       "   outcome_exit_duration  \n",
       "0                    NaN  \n",
       "1                    NaN  \n",
       "2                    NaN  \n",
       "3                    NaN  \n",
       "4                    NaN  \n",
       "\n",
       "[5 rows x 452 columns]"
      ]
     },
     "execution_count": 134,
     "metadata": {},
     "output_type": "execute_result"
    }
   ],
   "source": [
    "import sqlite3\n",
    "db_path = r\"C:\\Users\\mark\\Documents\\GitHub\\honours\\dev\\package\\analysis\\output\\autoVC\\16\\evaluate\\2013-04-09_2017-04-04.csv\"\n",
    "df = pd.read_csv(db_path)\n",
    "df.head()"
   ]
  },
  {
   "cell_type": "code",
   "execution_count": 135,
   "metadata": {
    "collapsed": false
   },
   "outputs": [
    {
     "name": "stdout",
     "output_type": "stream",
     "text": [
      "Stages done.\n"
     ]
    }
   ],
   "source": [
    "stages = create_stages(df, **stage_features)\n",
    "df = pd.concat([stages, df], axis=1)\n",
    "print(\"Stages done.\")"
   ]
  },
  {
   "cell_type": "code",
   "execution_count": 136,
   "metadata": {
    "collapsed": false
   },
   "outputs": [
    {
     "name": "stdout",
     "output_type": "stream",
     "text": [
      "Stages done.\n"
     ]
    }
   ],
   "source": [
    "\n",
    "stages = create_stages(df, **label_stage_info)\n",
    "stages = stages.rename(columns={\n",
    "\"keys_company_stage_group\": \"outcome_stage_group\",\n",
    "\"keys_company_stage\":\"outcome_stage\",\n",
    "\"keys_company_stage_number\":\"outcome_stage_number\"})\n",
    "df = pd.concat([stages, df], axis=1)\n",
    "print(\"Stages done.\")"
   ]
  },
  {
   "cell_type": "code",
   "execution_count": 137,
   "metadata": {
    "collapsed": false
   },
   "outputs": [
    {
     "data": {
      "text/plain": [
       "['keys_company_stage_group',\n",
       " 'keys_company_stage',\n",
       " 'keys_company_stage_number',\n",
       " 'keys_company_name_id',\n",
       " 'keys_company_status_operating_bool',\n",
       " 'keys_company_status_closed_bool',\n",
       " 'keys_company_status_acquired_bool',\n",
       " 'keys_company_status_ipo_bool',\n",
       " 'keys_company_uuid_id']"
      ]
     },
     "execution_count": 137,
     "metadata": {},
     "output_type": "execute_result"
    }
   ],
   "source": [
    "[x for x in list(df) if x.startswith(\"keys_company\")]"
   ]
  },
  {
   "cell_type": "code",
   "execution_count": 138,
   "metadata": {
    "collapsed": false
   },
   "outputs": [],
   "source": [
    "df[\"Missing\"] = examples.isnull().sum(axis=1)"
   ]
  },
  {
   "cell_type": "code",
   "execution_count": 124,
   "metadata": {
    "collapsed": false
   },
   "outputs": [
    {
     "data": {
      "text/plain": [
       "(103251, 459)"
      ]
     },
     "execution_count": 124,
     "metadata": {},
     "output_type": "execute_result"
    }
   ],
   "source": [
    "df.shape"
   ]
  },
  {
   "cell_type": "code",
   "execution_count": 139,
   "metadata": {
    "collapsed": true
   },
   "outputs": [],
   "source": [
    "age_old_cutoff = df[\"confidence_context_broader_company_age_number\"][df[\"keys_company_stage\"] == \"Series D+\"].quantile(0.75)\n",
    "df = df.loc[df['confidence_context_broader_company_age_number'] <= age_old_cutoff]\n",
    "df = df.loc[df['keys_company_stage_group'] == \"Included\"]"
   ]
  },
  {
   "cell_type": "code",
   "execution_count": 140,
   "metadata": {
    "collapsed": true
   },
   "outputs": [],
   "source": [
    "df[\"outcome_extra_stage_number\"] = df[\"outcome_stage_number\"] - df[\"keys_company_stage_number\"]\n",
    "df[\"outcome_extra_stage_bool\"] = np.where(df[\"outcome_extra_stage_number\"] > 0, 1, 0)"
   ]
  },
  {
   "cell_type": "code",
   "execution_count": 141,
   "metadata": {
    "collapsed": false
   },
   "outputs": [
    {
     "data": {
      "text/plain": [
       "(55824, 461)"
      ]
     },
     "execution_count": 141,
     "metadata": {},
     "output_type": "execute_result"
    }
   ],
   "source": [
    "df.shape"
   ]
  },
  {
   "cell_type": "code",
   "execution_count": 142,
   "metadata": {
    "collapsed": true
   },
   "outputs": [],
   "source": [
    "df = df.reset_index()"
   ]
  },
  {
   "cell_type": "code",
   "execution_count": 143,
   "metadata": {
    "collapsed": false
   },
   "outputs": [
    {
     "name": "stdout",
     "output_type": "stream",
     "text": [
      "Error: Time\n",
      "Error: Imputer\n",
      "Error: Transformer\n",
      "Error: Scaler\n",
      "Error: Extractor\n"
     ]
    }
   ],
   "source": [
    "hall = get_results(19, \"evaluate\")"
   ]
  },
  {
   "cell_type": "code",
   "execution_count": 144,
   "metadata": {
    "collapsed": false
   },
   "outputs": [
    {
     "data": {
      "text/plain": [
       "0     84459\n",
       "1     84348\n",
       "2    118024\n",
       "3    118121\n",
       "4     55824\n",
       "5    118121\n",
       "6     55824\n",
       "7     84611\n",
       "8     55824\n",
       "Name: Y_Pred, dtype: int64"
      ]
     },
     "execution_count": 144,
     "metadata": {},
     "output_type": "execute_result"
    }
   ],
   "source": [
    "hall[\"Y_Pred\"].apply(len)"
   ]
  },
  {
   "cell_type": "code",
   "execution_count": 118,
   "metadata": {
    "collapsed": false
   },
   "outputs": [
    {
     "data": {
      "text/plain": [
       "84459"
      ]
     },
     "execution_count": 118,
     "metadata": {},
     "output_type": "execute_result"
    }
   ],
   "source": [
    "len(hall.ix[0][\"Y_Pred\"])"
   ]
  },
  {
   "cell_type": "code",
   "execution_count": 145,
   "metadata": {
    "collapsed": false
   },
   "outputs": [],
   "source": [
    "df = pd.concat([df, pd.DataFrame({\"Y_Pred\":hall.ix[4][\"Y_Pred\"]})],axis=1)"
   ]
  },
  {
   "cell_type": "code",
   "execution_count": 146,
   "metadata": {
    "collapsed": false
   },
   "outputs": [
    {
     "data": {
      "text/plain": [
       "0        0\n",
       "1        1\n",
       "2        0\n",
       "3        0\n",
       "4        1\n",
       "5        0\n",
       "6        1\n",
       "7        1\n",
       "8        0\n",
       "9        0\n",
       "10       1\n",
       "11       0\n",
       "12       0\n",
       "13       1\n",
       "14       1\n",
       "15       1\n",
       "16       1\n",
       "17       0\n",
       "18       0\n",
       "19       0\n",
       "20       0\n",
       "21       1\n",
       "22       0\n",
       "23       0\n",
       "24       0\n",
       "25       0\n",
       "26       0\n",
       "27       0\n",
       "28       0\n",
       "29       0\n",
       "        ..\n",
       "55794    0\n",
       "55795    0\n",
       "55796    0\n",
       "55797    0\n",
       "55798    0\n",
       "55799    0\n",
       "55800    1\n",
       "55801    1\n",
       "55802    1\n",
       "55803    0\n",
       "55804    0\n",
       "55805    0\n",
       "55806    0\n",
       "55807    0\n",
       "55808    0\n",
       "55809    0\n",
       "55810    0\n",
       "55811    0\n",
       "55812    0\n",
       "55813    1\n",
       "55814    0\n",
       "55815    1\n",
       "55816    0\n",
       "55817    0\n",
       "55818    0\n",
       "55819    0\n",
       "55820    0\n",
       "55821    1\n",
       "55822    1\n",
       "55823    0\n",
       "Name: Y_Pred, dtype: int32"
      ]
     },
     "execution_count": 146,
     "metadata": {},
     "output_type": "execute_result"
    }
   ],
   "source": [
    "df[\"Y_Pred\"]"
   ]
  },
  {
   "cell_type": "code",
   "execution_count": 164,
   "metadata": {
    "collapsed": false
   },
   "outputs": [
    {
     "data": {
      "text/html": [
       "<div>\n",
       "<table border=\"1\" class=\"dataframe\">\n",
       "  <thead>\n",
       "    <tr style=\"text-align: right;\">\n",
       "      <th></th>\n",
       "      <th>keys_company_name_id</th>\n",
       "      <th>keys_company_stage</th>\n",
       "      <th>outcome_stage</th>\n",
       "      <th>outcome_extra_stage_bool</th>\n",
       "      <th>Y_Pred</th>\n",
       "    </tr>\n",
       "  </thead>\n",
       "  <tbody>\n",
       "    <tr>\n",
       "      <th>27691</th>\n",
       "      <td>if(we)</td>\n",
       "      <td>Series A</td>\n",
       "      <td>Acquired</td>\n",
       "      <td>1</td>\n",
       "      <td>1</td>\n",
       "    </tr>\n",
       "    <tr>\n",
       "      <th>5637</th>\n",
       "      <td>ShopSavvy</td>\n",
       "      <td>Series A</td>\n",
       "      <td>Acquired</td>\n",
       "      <td>1</td>\n",
       "      <td>1</td>\n",
       "    </tr>\n",
       "    <tr>\n",
       "      <th>12177</th>\n",
       "      <td>Bloodhound</td>\n",
       "      <td>Series A</td>\n",
       "      <td>Acquired</td>\n",
       "      <td>1</td>\n",
       "      <td>1</td>\n",
       "    </tr>\n",
       "    <tr>\n",
       "      <th>15300</th>\n",
       "      <td>Yap</td>\n",
       "      <td>Series A</td>\n",
       "      <td>Acquired</td>\n",
       "      <td>1</td>\n",
       "      <td>1</td>\n",
       "    </tr>\n",
       "    <tr>\n",
       "      <th>25092</th>\n",
       "      <td>Center'd</td>\n",
       "      <td>Series A</td>\n",
       "      <td>Series A</td>\n",
       "      <td>0</td>\n",
       "      <td>1</td>\n",
       "    </tr>\n",
       "    <tr>\n",
       "      <th>32870</th>\n",
       "      <td>EnglishCentral</td>\n",
       "      <td>Series A</td>\n",
       "      <td>Series A</td>\n",
       "      <td>0</td>\n",
       "      <td>1</td>\n",
       "    </tr>\n",
       "    <tr>\n",
       "      <th>18336</th>\n",
       "      <td>Appsfire</td>\n",
       "      <td>Series A</td>\n",
       "      <td>Acquired</td>\n",
       "      <td>1</td>\n",
       "      <td>1</td>\n",
       "    </tr>\n",
       "    <tr>\n",
       "      <th>54924</th>\n",
       "      <td>Getaround</td>\n",
       "      <td>Series A</td>\n",
       "      <td>Series B</td>\n",
       "      <td>1</td>\n",
       "      <td>1</td>\n",
       "    </tr>\n",
       "    <tr>\n",
       "      <th>18565</th>\n",
       "      <td>Mixpanel</td>\n",
       "      <td>Series A</td>\n",
       "      <td>Series B</td>\n",
       "      <td>1</td>\n",
       "      <td>1</td>\n",
       "    </tr>\n",
       "    <tr>\n",
       "      <th>34774</th>\n",
       "      <td>Mailjet</td>\n",
       "      <td>Series A</td>\n",
       "      <td>Series B</td>\n",
       "      <td>1</td>\n",
       "      <td>1</td>\n",
       "    </tr>\n",
       "  </tbody>\n",
       "</table>\n",
       "</div>"
      ],
      "text/plain": [
       "      keys_company_name_id keys_company_stage outcome_stage  \\\n",
       "27691               if(we)           Series A      Acquired   \n",
       "5637             ShopSavvy           Series A      Acquired   \n",
       "12177           Bloodhound           Series A      Acquired   \n",
       "15300                  Yap           Series A      Acquired   \n",
       "25092             Center'd           Series A      Series A   \n",
       "32870       EnglishCentral           Series A      Series A   \n",
       "18336             Appsfire           Series A      Acquired   \n",
       "54924            Getaround           Series A      Series B   \n",
       "18565             Mixpanel           Series A      Series B   \n",
       "34774              Mailjet           Series A      Series B   \n",
       "\n",
       "       outcome_extra_stage_bool  Y_Pred  \n",
       "27691                         1       1  \n",
       "5637                          1       1  \n",
       "12177                         1       1  \n",
       "15300                         1       1  \n",
       "25092                         0       1  \n",
       "32870                         0       1  \n",
       "18336                         1       1  \n",
       "54924                         1       1  \n",
       "18565                         1       1  \n",
       "34774                         1       1  "
      ]
     },
     "execution_count": 164,
     "metadata": {},
     "output_type": "execute_result"
    }
   ],
   "source": [
    "df.sort_values(by=\"Missing\",ascending=True).groupby(\"keys_company_stage\").get_group(\"Series A\")[[\"keys_company_name_id\", \"keys_company_stage\", \"outcome_stage\", \"outcome_extra_stage_bool\", \"Y_Pred\"]].head(10)"
   ]
  },
  {
   "cell_type": "code",
   "execution_count": 165,
   "metadata": {
    "collapsed": false
   },
   "outputs": [
    {
     "data": {
      "text/plain": [
       "keys_company_name_id                                       Mixpanel\n",
       "confidence_context_broader_company_age_number                  3.81\n",
       "confidence_validation_funding_rounds_number                       4\n",
       "confidence_validation_funding_raised_value_total_number     1.2e+07\n",
       "keys_company_stage                                         Series A\n",
       "outcome_stage                                              Series B\n",
       "outcome_extra_stage_bool                                          1\n",
       "Y_Pred                                                            1\n",
       "Name: 18565, dtype: object"
      ]
     },
     "execution_count": 165,
     "metadata": {},
     "output_type": "execute_result"
    }
   ],
   "source": [
    "df.loc[df[\"keys_company_name_id\"] == \"Mixpanel\"].squeeze()[[\"keys_company_name_id\", \"confidence_context_broader_company_age_number\", \"confidence_validation_funding_rounds_number\",\"confidence_validation_funding_raised_value_total_number\", \"keys_company_stage\", \"outcome_stage\", \"outcome_extra_stage_bool\", \"Y_Pred\"]]"
   ]
  },
  {
   "cell_type": "code",
   "execution_count": 156,
   "metadata": {
    "collapsed": false
   },
   "outputs": [
    {
     "data": {
      "text/plain": [
       "['index',\n",
       " 'outcome_stage_group',\n",
       " 'outcome_stage',\n",
       " 'outcome_stage_number',\n",
       " 'keys_company_stage_group',\n",
       " 'keys_company_stage',\n",
       " 'keys_company_stage_number',\n",
       " 'keys_company_name_id',\n",
       " 'confidence_context_local_offices_headquarters_zipcode_number',\n",
       " 'confidence_context_industry_category_list_advertising',\n",
       " 'confidence_context_industry_category_list_apps',\n",
       " 'confidence_context_industry_category_list_consulting',\n",
       " 'confidence_context_industry_category_list_curated-web',\n",
       " 'confidence_context_industry_category_list_e-commerce',\n",
       " 'confidence_context_industry_category_list_enterprise-software',\n",
       " 'confidence_context_industry_category_list_internet',\n",
       " 'confidence_context_industry_category_list_mobile',\n",
       " 'confidence_context_industry_category_list_social-media',\n",
       " 'confidence_context_industry_category_list_software',\n",
       " 'confidence_context_industry_category_group_list_advertising',\n",
       " 'confidence_context_industry_category_group_list_commerce-and-shopping',\n",
       " 'confidence_context_industry_category_group_list_content-and-publishing',\n",
       " 'confidence_context_industry_category_group_list_hardware',\n",
       " 'confidence_context_industry_category_group_list_information-technology',\n",
       " 'confidence_context_industry_category_group_list_internet-services',\n",
       " 'confidence_context_industry_category_group_list_media-and-entertainment',\n",
       " 'confidence_context_industry_category_group_list_mobile',\n",
       " 'confidence_context_industry_category_group_list_sales-and-marketing',\n",
       " 'confidence_context_industry_category_group_list_software',\n",
       " 'confidence_context_broader_founded_date',\n",
       " 'confidence_context_broader_closed_date',\n",
       " 'confidence_context_broader_last_updated_date',\n",
       " 'confidence_context_broader_company_age_number',\n",
       " 'keys_company_status_operating_bool',\n",
       " 'keys_company_status_closed_bool',\n",
       " 'keys_company_status_acquired_bool',\n",
       " 'keys_company_status_ipo_bool',\n",
       " 'confidence_validation_funding_first_date',\n",
       " 'confidence_validation_funding_last_date',\n",
       " 'confidence_validation_funding_rounds_number',\n",
       " 'confidence_validation_funding_raised_value_total_number',\n",
       " 'confidence_validation_funding_raised_value_average_number',\n",
       " 'confidence_validation_funding_investors_participants_total_number',\n",
       " 'confidence_validation_funding_investors_participants_average_number',\n",
       " 'confidence_validation_funding_round_types_list_angel',\n",
       " 'confidence_validation_funding_round_types_list_convertible_note',\n",
       " 'confidence_validation_funding_round_types_list_debt_financing',\n",
       " 'confidence_validation_funding_round_types_list_equity_crowdfunding',\n",
       " 'confidence_validation_funding_round_types_list_grant',\n",
       " 'confidence_validation_funding_round_types_list_non_equity_assistance',\n",
       " 'confidence_validation_funding_round_types_list_post_ipo_debt',\n",
       " 'confidence_validation_funding_round_types_list_post_ipo_equity',\n",
       " 'confidence_validation_funding_round_types_list_private_equity',\n",
       " 'confidence_validation_funding_round_types_list_product_crowdfunding',\n",
       " 'confidence_validation_funding_round_types_list_secondary_market',\n",
       " 'confidence_validation_funding_round_types_list_seed',\n",
       " 'confidence_validation_funding_round_types_list_undisclosed',\n",
       " 'confidence_validation_funding_round_types_list_venture',\n",
       " 'confidence_validation_funding_round_codes_list_a',\n",
       " 'confidence_validation_funding_round_codes_list_b',\n",
       " 'confidence_validation_funding_round_codes_list_c',\n",
       " 'confidence_validation_funding_round_codes_list_d',\n",
       " 'confidence_validation_funding_round_codes_list_e',\n",
       " 'confidence_validation_funding_round_codes_list_f',\n",
       " 'confidence_validation_funding_round_codes_list_g',\n",
       " 'confidence_validation_funding_round_codes_list_h',\n",
       " 'confidence_validation_funding_raised_amount_type_number_pair_angel_pair',\n",
       " 'confidence_validation_funding_raised_amount_type_number_pair_convertible_note_pair',\n",
       " 'confidence_validation_funding_raised_amount_type_number_pair_debt_financing_pair',\n",
       " 'confidence_validation_funding_raised_amount_type_number_pair_equity_crowdfunding_pair',\n",
       " 'confidence_validation_funding_raised_amount_type_number_pair_grant_pair',\n",
       " 'confidence_validation_funding_raised_amount_type_number_pair_non_equity_assistance_pair',\n",
       " 'confidence_validation_funding_raised_amount_type_number_pair_post_ipo_debt_pair',\n",
       " 'confidence_validation_funding_raised_amount_type_number_pair_post_ipo_equity_pair',\n",
       " 'confidence_validation_funding_raised_amount_type_number_pair_private_equity_pair',\n",
       " 'confidence_validation_funding_raised_amount_type_number_pair_product_crowdfunding_pair',\n",
       " 'confidence_validation_funding_raised_amount_type_number_pair_secondary_market_pair',\n",
       " 'confidence_validation_funding_raised_amount_type_number_pair_seed_pair',\n",
       " 'confidence_validation_funding_raised_amount_type_number_pair_undisclosed_pair',\n",
       " 'confidence_validation_funding_raised_amount_type_number_pair_venture_pair',\n",
       " 'confidence_validation_funding_post_money_valuation_type_number_pair_angel_pair',\n",
       " 'confidence_validation_funding_post_money_valuation_type_number_pair_convertible_note_pair',\n",
       " 'confidence_validation_funding_post_money_valuation_type_number_pair_debt_financing_pair',\n",
       " 'confidence_validation_funding_post_money_valuation_type_number_pair_equity_crowdfunding_pair',\n",
       " 'confidence_validation_funding_post_money_valuation_type_number_pair_grant_pair',\n",
       " 'confidence_validation_funding_post_money_valuation_type_number_pair_non_equity_assistance_pair',\n",
       " 'confidence_validation_funding_post_money_valuation_type_number_pair_post_ipo_debt_pair',\n",
       " 'confidence_validation_funding_post_money_valuation_type_number_pair_post_ipo_equity_pair',\n",
       " 'confidence_validation_funding_post_money_valuation_type_number_pair_private_equity_pair',\n",
       " 'confidence_validation_funding_post_money_valuation_type_number_pair_product_crowdfunding_pair',\n",
       " 'confidence_validation_funding_post_money_valuation_type_number_pair_secondary_market_pair',\n",
       " 'confidence_validation_funding_post_money_valuation_type_number_pair_seed_pair',\n",
       " 'confidence_validation_funding_post_money_valuation_type_number_pair_undisclosed_pair',\n",
       " 'confidence_validation_funding_post_money_valuation_type_number_pair_venture_pair',\n",
       " 'confidence_validation_funding_investors_participants_type_number_pair_angel_pair',\n",
       " 'confidence_validation_funding_investors_participants_type_number_pair_convertible_note_pair',\n",
       " 'confidence_validation_funding_investors_participants_type_number_pair_debt_financing_pair',\n",
       " 'confidence_validation_funding_investors_participants_type_number_pair_equity_crowdfunding_pair',\n",
       " 'confidence_validation_funding_investors_participants_type_number_pair_grant_pair',\n",
       " 'confidence_validation_funding_investors_participants_type_number_pair_non_equity_assistance_pair',\n",
       " 'confidence_validation_funding_investors_participants_type_number_pair_post_ipo_debt_pair',\n",
       " 'confidence_validation_funding_investors_participants_type_number_pair_post_ipo_equity_pair',\n",
       " 'confidence_validation_funding_investors_participants_type_number_pair_private_equity_pair',\n",
       " 'confidence_validation_funding_investors_participants_type_number_pair_product_crowdfunding_pair',\n",
       " 'confidence_validation_funding_investors_participants_type_number_pair_secondary_market_pair',\n",
       " 'confidence_validation_funding_investors_participants_type_number_pair_seed_pair',\n",
       " 'confidence_validation_funding_investors_participants_type_number_pair_undisclosed_pair',\n",
       " 'confidence_validation_funding_investors_participants_type_number_pair_venture_pair',\n",
       " 'confidence_validation_funding_type_date_pair_angel_pair',\n",
       " 'confidence_validation_funding_type_date_pair_convertible_note_pair',\n",
       " 'confidence_validation_funding_type_date_pair_debt_financing_pair',\n",
       " 'confidence_validation_funding_type_date_pair_equity_crowdfunding_pair',\n",
       " 'confidence_validation_funding_type_date_pair_grant_pair',\n",
       " 'confidence_validation_funding_type_date_pair_non_equity_assistance_pair',\n",
       " 'confidence_validation_funding_type_date_pair_post_ipo_debt_pair',\n",
       " 'confidence_validation_funding_type_date_pair_post_ipo_equity_pair',\n",
       " 'confidence_validation_funding_type_date_pair_private_equity_pair',\n",
       " 'confidence_validation_funding_type_date_pair_product_crowdfunding_pair',\n",
       " 'confidence_validation_funding_type_date_pair_secondary_market_pair',\n",
       " 'confidence_validation_funding_type_date_pair_seed_pair',\n",
       " 'confidence_validation_funding_type_date_pair_undisclosed_pair',\n",
       " 'confidence_validation_funding_type_date_pair_venture_pair',\n",
       " 'confidence_validation_funding_raised_amount_code_number_pair_a_pair',\n",
       " 'confidence_validation_funding_raised_amount_code_number_pair_b_pair',\n",
       " 'confidence_validation_funding_raised_amount_code_number_pair_c_pair',\n",
       " 'confidence_validation_funding_raised_amount_code_number_pair_d_pair',\n",
       " 'confidence_validation_funding_raised_amount_code_number_pair_e_pair',\n",
       " 'confidence_validation_funding_raised_amount_code_number_pair_f_pair',\n",
       " 'confidence_validation_funding_raised_amount_code_number_pair_g_pair',\n",
       " 'confidence_validation_funding_raised_amount_code_number_pair_h_pair',\n",
       " 'confidence_validation_funding_post_money_valuation_code_number_pair_a_pair',\n",
       " 'confidence_validation_funding_post_money_valuation_code_number_pair_b_pair',\n",
       " 'confidence_validation_funding_post_money_valuation_code_number_pair_c_pair',\n",
       " 'confidence_validation_funding_post_money_valuation_code_number_pair_d_pair',\n",
       " 'confidence_validation_funding_post_money_valuation_code_number_pair_e_pair',\n",
       " 'confidence_validation_funding_post_money_valuation_code_number_pair_f_pair',\n",
       " 'confidence_validation_funding_post_money_valuation_code_number_pair_g_pair',\n",
       " 'confidence_validation_funding_post_money_valuation_code_number_pair_h_pair',\n",
       " 'confidence_validation_funding_investors_participants_code_number_pair_a_pair',\n",
       " 'confidence_validation_funding_investors_participants_code_number_pair_b_pair',\n",
       " 'confidence_validation_funding_investors_participants_code_number_pair_c_pair',\n",
       " 'confidence_validation_funding_investors_participants_code_number_pair_d_pair',\n",
       " 'confidence_validation_funding_investors_participants_code_number_pair_e_pair',\n",
       " 'confidence_validation_funding_investors_participants_code_number_pair_f_pair',\n",
       " 'confidence_validation_funding_investors_participants_code_number_pair_g_pair',\n",
       " 'confidence_validation_funding_investors_participants_code_number_pair_h_pair',\n",
       " 'confidence_validation_funding_code_date_pair_a_pair',\n",
       " 'confidence_validation_funding_code_date_pair_b_pair',\n",
       " 'confidence_validation_funding_code_date_pair_c_pair',\n",
       " 'confidence_validation_funding_code_date_pair_d_pair',\n",
       " 'confidence_validation_funding_code_date_pair_e_pair',\n",
       " 'confidence_validation_funding_code_date_pair_f_pair',\n",
       " 'confidence_validation_funding_code_date_pair_g_pair',\n",
       " 'confidence_validation_funding_code_date_pair_h_pair',\n",
       " 'confidence_context_industry_competitors_count_total_number',\n",
       " 'confidence_context_industry_competitors_count_operating_number',\n",
       " 'confidence_context_industry_competitors_count_closed_number',\n",
       " 'confidence_context_industry_competitors_count_acquired_number',\n",
       " 'confidence_context_industry_competitors_count_ipo_number',\n",
       " 'confidence_validation_customers_count_total_number',\n",
       " 'confidence_validation_customers_count_operating_number',\n",
       " 'confidence_validation_customers_count_closed_number',\n",
       " 'confidence_validation_customers_count_acquired_number',\n",
       " 'confidence_validation_customers_count_ipo_number',\n",
       " 'potential_social_influence_events_count_total_number',\n",
       " 'potential_social_influence_events_size_total_number',\n",
       " 'potential_social_influence_events_size_average_number',\n",
       " 'confidence_validation_investors_count_all_investments_sum_number',\n",
       " 'confidence_validation_investors_count_distinct_investments_sum_number',\n",
       " 'confidence_validation_investors_average_distinct_investments_sum_number',\n",
       " 'confidence_validation_investors_funding_coparticipants_total_sum_number',\n",
       " 'confidence_validation_investors_funding_coparticipants_average_sum_number',\n",
       " 'confidence_validation_investors_funding_raised_total_sum_number',\n",
       " 'confidence_validation_investors_funding_raised_average_sum_number',\n",
       " 'confidence_validation_investors_count_funded_closed_total_sum_number',\n",
       " 'confidence_validation_investors_count_funded_operating_total_sum_number',\n",
       " 'confidence_validation_investors_count_funded_acquired_total_sum_number',\n",
       " 'confidence_validation_investors_count_funded_ipo_total_sum_number',\n",
       " 'confidence_validation_investors_count_funded_exit_total_sum_number',\n",
       " 'confidence_validation_investors_count_funded_closed_average_sum_number',\n",
       " 'confidence_validation_investors_count_funded_operating_average_sum_number',\n",
       " 'confidence_validation_investors_count_funded_acquired_average_sum_number',\n",
       " 'confidence_validation_investors_count_funded_ipo_average_sum_number',\n",
       " 'confidence_validation_investors_count_funded_exit_average_sum_number',\n",
       " 'confidence_validation_investors_count_all_investments_average_number',\n",
       " 'confidence_validation_investors_count_distinct_investments_average_number',\n",
       " 'confidence_validation_investors_average_distinct_investments_average_number',\n",
       " 'confidence_validation_investors_funding_coparticipants_total_average_number',\n",
       " 'confidence_validation_investors_funding_coparticipants_average_average_number',\n",
       " 'confidence_validation_investors_funding_raised_total_average_number',\n",
       " 'confidence_validation_investors_funding_raised_average_average_number',\n",
       " 'confidence_validation_investors_count_funded_closed_total_average_number',\n",
       " 'confidence_validation_investors_count_funded_operating_total_average_number',\n",
       " 'confidence_validation_investors_count_funded_acquired_total_average_number',\n",
       " 'confidence_validation_investors_count_funded_ipo_total_average_number',\n",
       " 'confidence_validation_investors_count_funded_exit_total_average_number',\n",
       " 'confidence_validation_investors_count_funded_closed_average_average_number',\n",
       " 'confidence_validation_investors_count_funded_operating_average_average_number',\n",
       " 'confidence_validation_investors_count_funded_acquired_average_average_number',\n",
       " 'confidence_validation_investors_count_funded_ipo_average_average_number',\n",
       " 'confidence_validation_investors_count_funded_exit_average_average_number',\n",
       " 'confidence_validation_investors_count_all_investments_max_number',\n",
       " 'confidence_validation_investors_count_distinct_investments_max_number',\n",
       " 'confidence_validation_investors_average_distinct_investments_max_number',\n",
       " 'confidence_validation_investors_funding_coparticipants_total_max_number',\n",
       " 'confidence_validation_investors_funding_coparticipants_average_max_number',\n",
       " 'confidence_validation_investors_funding_raised_total_max_number',\n",
       " 'confidence_validation_investors_funding_raised_average_max_number',\n",
       " 'confidence_validation_investors_count_funded_closed_total_max_number',\n",
       " 'confidence_validation_investors_count_funded_operating_total_max_number',\n",
       " 'confidence_validation_investors_count_funded_acquired_total_max_number',\n",
       " 'confidence_validation_investors_count_funded_ipo_total_max_number',\n",
       " 'confidence_validation_investors_count_funded_exit_total_max_number',\n",
       " 'confidence_validation_investors_count_funded_closed_average_max_number',\n",
       " 'confidence_validation_investors_count_funded_operating_average_max_number',\n",
       " 'confidence_validation_investors_count_funded_acquired_average_max_number',\n",
       " 'confidence_validation_investors_count_funded_ipo_average_max_number',\n",
       " 'confidence_validation_investors_count_funded_exit_average_max_number',\n",
       " 'potential_human_founders_all_total_number',\n",
       " 'potential_human_founders_female_total_number',\n",
       " 'potential_human_founders_male_total_number',\n",
       " 'potential_human_founders_female_average_number',\n",
       " 'potential_human_founders_jobs_all_average_number',\n",
       " 'potential_human_founders_jobs_all_total_number',\n",
       " 'potential_human_founders_jobs_current_average_number',\n",
       " 'potential_human_founders_jobs_current_total_number',\n",
       " 'potential_human_founders_jobs_past_average_number',\n",
       " 'potential_human_founders_jobs_past_total_number',\n",
       " 'potential_human_founders_jobs_founder_average_number',\n",
       " 'potential_human_founders_jobs_founder_total_number',\n",
       " 'potential_human_founders_jobs_executive_average_number',\n",
       " 'potential_human_founders_jobs_executive_total_number',\n",
       " 'potential_human_founders_jobs_advisor_average_number',\n",
       " 'potential_human_founders_jobs_advisor_total_number',\n",
       " 'potential_human_founders_jobs_all_average_duration',\n",
       " 'potential_human_founders_jobs_all_total_duration',\n",
       " 'potential_human_founders_jobs_current_average_duration',\n",
       " 'potential_human_founders_jobs_current_total_duration',\n",
       " 'potential_human_founders_jobs_past_average_duration',\n",
       " 'potential_human_founders_jobs_past_total_duration',\n",
       " 'potential_human_founders_jobs_founder_average_duration',\n",
       " 'potential_human_founders_jobs_founder_total_duration',\n",
       " 'potential_human_founders_jobs_executive_average_duration',\n",
       " 'potential_human_founders_jobs_executive_total_duration',\n",
       " 'potential_human_founders_jobs_advisor_average_duration',\n",
       " 'potential_human_founders_jobs_advisor_total_duration',\n",
       " 'potential_human_founders_companies_exits_all_average_number',\n",
       " 'potential_human_founders_companies_exits_all_total_number',\n",
       " 'potential_human_founders_companies_acquisitions_all_average_number',\n",
       " 'potential_human_founders_companies_acquisitions_all_total_number',\n",
       " 'potential_human_founders_companies_ipo_all_average_number',\n",
       " 'potential_human_founders_companies_ipo_all_total_number',\n",
       " 'potential_human_founders_companies_operating_all_average_number',\n",
       " 'potential_human_founders_companies_operating_all_total_number',\n",
       " 'potential_human_founders_companies_closed_all_average_number',\n",
       " 'potential_human_founders_companies_closed_all_total_number',\n",
       " 'potential_human_founders_companies_exits_founder_average_number',\n",
       " 'potential_human_founders_companies_exits_founder_total_number',\n",
       " 'potential_human_founders_companies_acquisitions_founder_average_number',\n",
       " 'potential_human_founders_companies_acquisitions_founder_total_number',\n",
       " 'potential_human_founders_companies_ipo_founder_average_number',\n",
       " 'potential_human_founders_companies_ipo_founder_total_number',\n",
       " 'potential_human_founders_companies_operating_founder_average_number',\n",
       " 'potential_human_founders_companies_operating_founder_total_number',\n",
       " 'potential_human_founders_companies_closed_founder_average_number',\n",
       " 'potential_human_founders_companies_closed_founder_total_number',\n",
       " 'potential_human_founders_companies_exits_executive_average_number',\n",
       " 'potential_human_founders_companies_exits_executive_total_number',\n",
       " 'potential_human_founders_companies_acquisitions_executive_average_number',\n",
       " 'potential_human_founders_companies_acquisitions_executive_total_number',\n",
       " 'potential_human_founders_companies_ipo_executive_average_number',\n",
       " 'potential_human_founders_companies_ipo_executive_total_number',\n",
       " 'potential_human_founders_companies_operating_executive_average_number',\n",
       " 'potential_human_founders_companies_operating_executive_total_number',\n",
       " 'potential_human_founders_companies_closed_executive_average_number',\n",
       " 'potential_human_founders_companies_closed_executive_total_number',\n",
       " 'potential_human_founders_companies_exits_advisor_average_number',\n",
       " 'potential_human_founders_companies_exits_advisor_total_number',\n",
       " 'potential_human_founders_companies_acquisitions_advisor_average_number',\n",
       " 'potential_human_founders_companies_acquisitions_advisor_total_number',\n",
       " 'potential_human_founders_companies_ipo_advisor_average_number',\n",
       " 'potential_human_founders_companies_ipo_advisor_total_number',\n",
       " 'potential_human_founders_companies_operating_advisor_average_number',\n",
       " 'potential_human_founders_companies_operating_advisor_total_number',\n",
       " 'potential_human_founders_companies_closed_advisor_average_number',\n",
       " 'potential_human_founders_companies_closed_advisor_total_number',\n",
       " 'potential_human_executives_all_total_number',\n",
       " 'potential_human_executives_female_total_number',\n",
       " 'potential_human_executives_male_total_number',\n",
       " 'potential_human_executives_female_average_number',\n",
       " 'potential_human_executives_jobs_all_average_number',\n",
       " 'potential_human_executives_jobs_all_total_number',\n",
       " 'potential_human_executives_jobs_current_average_number',\n",
       " 'potential_human_executives_jobs_current_total_number',\n",
       " 'potential_human_executives_jobs_past_average_number',\n",
       " 'potential_human_executives_jobs_past_total_number',\n",
       " 'potential_human_executives_jobs_founder_average_number',\n",
       " 'potential_human_executives_jobs_founder_total_number',\n",
       " 'potential_human_executives_jobs_executive_average_number',\n",
       " 'potential_human_executives_jobs_executive_total_number',\n",
       " 'potential_human_executives_jobs_advisor_average_number',\n",
       " 'potential_human_executives_jobs_advisor_total_number',\n",
       " 'potential_human_executives_jobs_all_average_duration',\n",
       " 'potential_human_executives_jobs_all_total_duration',\n",
       " 'potential_human_executives_jobs_current_average_duration',\n",
       " 'potential_human_executives_jobs_current_total_duration',\n",
       " 'potential_human_executives_jobs_past_average_duration',\n",
       " 'potential_human_executives_jobs_past_total_duration',\n",
       " 'potential_human_executives_jobs_founder_average_duration',\n",
       " 'potential_human_executives_jobs_founder_total_duration',\n",
       " 'potential_human_executives_jobs_executive_average_duration',\n",
       " 'potential_human_executives_jobs_executive_total_duration',\n",
       " 'potential_human_executives_jobs_advisor_average_duration',\n",
       " 'potential_human_executives_jobs_advisor_total_duration',\n",
       " 'potential_human_executives_companies_exits_all_average_number',\n",
       " 'potential_human_executives_companies_exits_all_total_number',\n",
       " 'potential_human_executives_companies_acquisitions_all_average_number',\n",
       " 'potential_human_executives_companies_acquisitions_all_total_number',\n",
       " 'potential_human_executives_companies_ipo_all_average_number',\n",
       " 'potential_human_executives_companies_ipo_all_total_number',\n",
       " 'potential_human_executives_companies_operating_all_average_number',\n",
       " 'potential_human_executives_companies_operating_all_total_number',\n",
       " 'potential_human_executives_companies_closed_all_average_number',\n",
       " 'potential_human_executives_companies_closed_all_total_number',\n",
       " 'potential_human_executives_companies_exits_founder_average_number',\n",
       " 'potential_human_executives_companies_exits_founder_total_number',\n",
       " 'potential_human_executives_companies_acquisitions_founder_average_number',\n",
       " 'potential_human_executives_companies_acquisitions_founder_total_number',\n",
       " 'potential_human_executives_companies_ipo_founder_average_number',\n",
       " 'potential_human_executives_companies_ipo_founder_total_number',\n",
       " 'potential_human_executives_companies_operating_founder_average_number',\n",
       " 'potential_human_executives_companies_operating_founder_total_number',\n",
       " 'potential_human_executives_companies_closed_founder_average_number',\n",
       " 'potential_human_executives_companies_closed_founder_total_number',\n",
       " 'potential_human_executives_companies_exits_executive_average_number',\n",
       " 'potential_human_executives_companies_exits_executive_total_number',\n",
       " 'potential_human_executives_companies_acquisitions_executive_average_number',\n",
       " 'potential_human_executives_companies_acquisitions_executive_total_number',\n",
       " 'potential_human_executives_companies_ipo_executive_average_number',\n",
       " 'potential_human_executives_companies_ipo_executive_total_number',\n",
       " 'potential_human_executives_companies_operating_executive_average_number',\n",
       " 'potential_human_executives_companies_operating_executive_total_number',\n",
       " 'potential_human_executives_companies_closed_executive_average_number',\n",
       " 'potential_human_executives_companies_closed_executive_total_number',\n",
       " 'potential_human_executives_companies_exits_advisor_average_number',\n",
       " 'potential_human_executives_companies_exits_advisor_total_number',\n",
       " 'potential_human_executives_companies_acquisitions_advisor_average_number',\n",
       " 'potential_human_executives_companies_acquisitions_advisor_total_number',\n",
       " 'potential_human_executives_companies_ipo_advisor_average_number',\n",
       " 'potential_human_executives_companies_ipo_advisor_total_number',\n",
       " 'potential_human_executives_companies_operating_advisor_average_number',\n",
       " 'potential_human_executives_companies_operating_advisor_total_number',\n",
       " 'potential_human_executives_companies_closed_advisor_average_number',\n",
       " 'potential_human_executives_companies_closed_advisor_total_number',\n",
       " 'potential_human_advisors_all_total_number',\n",
       " 'potential_human_advisors_female_total_number',\n",
       " 'potential_human_advisors_male_total_number',\n",
       " 'potential_human_advisors_female_average_number',\n",
       " 'potential_human_advisors_jobs_all_average_number',\n",
       " 'potential_human_advisors_jobs_all_total_number',\n",
       " 'potential_human_advisors_jobs_current_average_number',\n",
       " 'potential_human_advisors_jobs_current_total_number',\n",
       " 'potential_human_advisors_jobs_past_average_number',\n",
       " 'potential_human_advisors_jobs_past_total_number',\n",
       " 'potential_human_advisors_jobs_founder_average_number',\n",
       " 'potential_human_advisors_jobs_founder_total_number',\n",
       " 'potential_human_advisors_jobs_executive_average_number',\n",
       " 'potential_human_advisors_jobs_executive_total_number',\n",
       " 'potential_human_advisors_jobs_advisor_average_number',\n",
       " 'potential_human_advisors_jobs_advisor_total_number',\n",
       " 'potential_human_advisors_jobs_all_average_duration',\n",
       " 'potential_human_advisors_jobs_all_total_duration',\n",
       " 'potential_human_advisors_jobs_current_average_duration',\n",
       " 'potential_human_advisors_jobs_current_total_duration',\n",
       " 'potential_human_advisors_jobs_past_average_duration',\n",
       " 'potential_human_advisors_jobs_past_total_duration',\n",
       " 'potential_human_advisors_jobs_founder_average_duration',\n",
       " 'potential_human_advisors_jobs_founder_total_duration',\n",
       " 'potential_human_advisors_jobs_executive_average_duration',\n",
       " 'potential_human_advisors_jobs_executive_total_duration',\n",
       " 'potential_human_advisors_jobs_advisor_average_duration',\n",
       " 'potential_human_advisors_jobs_advisor_total_duration',\n",
       " 'potential_human_advisors_companies_exits_all_average_number',\n",
       " 'potential_human_advisors_companies_exits_all_total_number',\n",
       " 'potential_human_advisors_companies_acquisitions_all_average_number',\n",
       " 'potential_human_advisors_companies_acquisitions_all_total_number',\n",
       " 'potential_human_advisors_companies_ipo_all_average_number',\n",
       " 'potential_human_advisors_companies_ipo_all_total_number',\n",
       " 'potential_human_advisors_companies_operating_all_average_number',\n",
       " 'potential_human_advisors_companies_operating_all_total_number',\n",
       " 'potential_human_advisors_companies_closed_all_average_number',\n",
       " 'potential_human_advisors_companies_closed_all_total_number',\n",
       " 'potential_human_advisors_companies_exits_founder_average_number',\n",
       " 'potential_human_advisors_companies_exits_founder_total_number',\n",
       " 'potential_human_advisors_companies_acquisitions_founder_average_number',\n",
       " 'potential_human_advisors_companies_acquisitions_founder_total_number',\n",
       " 'potential_human_advisors_companies_ipo_founder_average_number',\n",
       " 'potential_human_advisors_companies_ipo_founder_total_number',\n",
       " 'potential_human_advisors_companies_operating_founder_average_number',\n",
       " 'potential_human_advisors_companies_operating_founder_total_number',\n",
       " 'potential_human_advisors_companies_closed_founder_average_number',\n",
       " 'potential_human_advisors_companies_closed_founder_total_number',\n",
       " 'potential_human_advisors_companies_exits_executive_average_number',\n",
       " 'potential_human_advisors_companies_exits_executive_total_number',\n",
       " 'potential_human_advisors_companies_acquisitions_executive_average_number',\n",
       " 'potential_human_advisors_companies_acquisitions_executive_total_number',\n",
       " 'potential_human_advisors_companies_ipo_executive_average_number',\n",
       " 'potential_human_advisors_companies_ipo_executive_total_number',\n",
       " 'potential_human_advisors_companies_operating_executive_average_number',\n",
       " 'potential_human_advisors_companies_operating_executive_total_number',\n",
       " 'potential_human_advisors_companies_closed_executive_average_number',\n",
       " 'potential_human_advisors_companies_closed_executive_total_number',\n",
       " 'potential_human_advisors_companies_exits_advisor_average_number',\n",
       " 'potential_human_advisors_companies_exits_advisor_total_number',\n",
       " 'potential_human_advisors_companies_acquisitions_advisor_average_number',\n",
       " 'potential_human_advisors_companies_acquisitions_advisor_total_number',\n",
       " 'potential_human_advisors_companies_ipo_advisor_average_number',\n",
       " 'potential_human_advisors_companies_ipo_advisor_total_number',\n",
       " 'potential_human_advisors_companies_operating_advisor_average_number',\n",
       " 'potential_human_advisors_companies_operating_advisor_total_number',\n",
       " 'potential_human_advisors_companies_closed_advisor_average_number',\n",
       " 'potential_human_advisors_companies_closed_advisor_total_number',\n",
       " 'outcome_operating_bool',\n",
       " 'outcome_closed_bool',\n",
       " 'outcome_closed_duration',\n",
       " 'outcome_age_number',\n",
       " 'outcome_acquisitions_valuation_number',\n",
       " 'outcome_acquired_bool',\n",
       " 'outcome_acquisition_duration',\n",
       " 'outcome_funding_rounds_number',\n",
       " 'outcome_funding_raised_value_total_number',\n",
       " 'outcome_funding_round_types_list_angel',\n",
       " 'outcome_funding_round_types_list_convertible_note',\n",
       " 'outcome_funding_round_types_list_debt_financing',\n",
       " 'outcome_funding_round_types_list_equity_crowdfunding',\n",
       " 'outcome_funding_round_types_list_grant',\n",
       " 'outcome_funding_round_types_list_non_equity_assistance',\n",
       " 'outcome_funding_round_types_list_post_ipo_debt',\n",
       " 'outcome_funding_round_types_list_post_ipo_equity',\n",
       " 'outcome_funding_round_types_list_private_equity',\n",
       " 'outcome_funding_round_types_list_product_crowdfunding',\n",
       " 'outcome_funding_round_types_list_secondary_market',\n",
       " 'outcome_funding_round_types_list_seed',\n",
       " 'outcome_funding_round_types_list_undisclosed',\n",
       " 'outcome_funding_round_types_list_venture',\n",
       " 'outcome_funding_round_codes_list_a',\n",
       " 'outcome_funding_round_codes_list_b',\n",
       " 'outcome_funding_round_codes_list_c',\n",
       " 'outcome_funding_round_codes_list_d',\n",
       " 'outcome_funding_round_codes_list_e',\n",
       " 'outcome_funding_round_codes_list_f',\n",
       " 'outcome_funding_round_codes_list_g',\n",
       " 'outcome_funding_round_codes_list_h',\n",
       " 'outcome_ipo_valuation_number',\n",
       " 'outcome_ipo_bool',\n",
       " 'outcome_ipo_duration',\n",
       " 'keys_company_uuid_id',\n",
       " 'outcome_exit_bool',\n",
       " 'outcome_exit_duration',\n",
       " 'Missing',\n",
       " 'outcome_extra_stage_number',\n",
       " 'outcome_extra_stage_bool',\n",
       " 'Y_Pred']"
      ]
     },
     "execution_count": 156,
     "metadata": {},
     "output_type": "execute_result"
    }
   ],
   "source": [
    "list(df)"
   ]
  },
  {
   "cell_type": "code",
   "execution_count": null,
   "metadata": {
    "collapsed": true
   },
   "outputs": [],
   "source": []
  }
 ],
 "metadata": {
  "kernelspec": {
   "display_name": "Python 3",
   "language": "python",
   "name": "python3"
  },
  "language_info": {
   "codemirror_mode": {
    "name": "ipython",
    "version": 3
   },
   "file_extension": ".py",
   "mimetype": "text/x-python",
   "name": "python",
   "nbconvert_exporter": "python",
   "pygments_lexer": "ipython3",
   "version": "3.6.0"
  }
 },
 "nbformat": 4,
 "nbformat_minor": 2
}

{
 "cells": [
  {
   "cell_type": "markdown",
   "metadata": {},
   "source": [
    "# 3.1 Data Preparation"
   ]
  },
  {
   "cell_type": "code",
   "execution_count": 14,
   "metadata": {
    "collapsed": false
   },
   "outputs": [],
   "source": [
    "#setup path\n",
    "path = 'C:/Users/mark/Documents/GitHub/honours/dev/package/'\n",
    "import sys; sys.path.append(path)\n",
    "\n",
    "#standard imports\n",
    "import numpy as np\n",
    "import pandas as pd\n",
    "import datetime\n",
    "from scipy import stats\n",
    "from collections import OrderedDict\n",
    "\n",
    "#third party imports\n",
    "from IPython.core.interactiveshell import InteractiveShell\n",
    "import matplotlib.pyplot as plt\n",
    "import matplotlib.dates as md\n",
    "import matplotlib\n",
    "from matplotlib import rcParams\n",
    "import seaborn as sns\n",
    "\n",
    "#local imports\n",
    "import analysis.dataPreparer as dp"
   ]
  },
  {
   "cell_type": "code",
   "execution_count": 155,
   "metadata": {
    "collapsed": false
   },
   "outputs": [],
   "source": [
    "#setup\n",
    "%matplotlib inline\n",
    "\n",
    "SMALL_SIZE = 16\n",
    "MEDIUM_SIZE = 20\n",
    "BIGGER_SIZE = 30\n",
    "\n",
    "plt.style.use(['seaborn-white', 'seaborn-paper'])\n",
    "sns.set_palette(\"colorblind\")\n",
    "rcParams['font.family'] = 'serif' \n",
    "rcParams['font.serif'] = 'cmr10' \n",
    "rcParams['font.weight'] = 'bold'\n",
    "rcParams['font.size'] = SMALL_SIZE #default font size\n",
    "rcParams['axes.titlesize'] =SMALL_SIZE   # fontsize of the axes title\n",
    "rcParams['axes.labelsize'] =MEDIUM_SIZE    # fontsize of the x and y labels\n",
    "rcParams['xtick.labelsize'] =SMALL_SIZE    # fontsize of the tick labels\n",
    "rcParams['ytick.labelsize'] =SMALL_SIZE   # fontsize of the tick labels\n",
    "rcParams['legend.fontsize'] =SMALL_SIZE    # legend fontsize\n",
    "rcParams['figure.titlesize'] =BIGGER_SIZE  # fontsize of the figure title\n",
    "rcParams['figure.figsize'] = 10, 6\n",
    "\n",
    "save_path = r\"C:/Users/mark/Documents/GitHub/honours/submissions/thesis-original/figures/design/\""
   ]
  },
  {
   "cell_type": "code",
   "execution_count": 149,
   "metadata": {
    "collapsed": true
   },
   "outputs": [],
   "source": [
    "def auto_label(ax):\n",
    "    ymax_old = ax.get_ylim()[1]\n",
    "    ax.set_ylim(ymax= ax.get_ylim()[1] * 1.1)\n",
    "    for p in ax.patches:\n",
    "        height = p.get_height()\n",
    "        ax.text(\n",
    "            x=p.get_x()+p.get_width()/2.,\n",
    "            y=np.nanmax([height,0]) + ymax_old * 0.02,\n",
    "            s='{:,.0f}'.format(np.nanmax([height,0])),\n",
    "            ha=\"center\")\n",
    "    ax.yaxis.set_ticks([])"
   ]
  },
  {
   "cell_type": "code",
   "execution_count": 166,
   "metadata": {
    "collapsed": true
   },
   "outputs": [],
   "source": [
    "def add_vertical_line(ax, value, label, color, linestyle=\"dashed\"):\n",
    "    ax.axvline(value, linestyle=linestyle, color=color)\n",
    "    x_bounds = ax.get_xlim()\n",
    "    ax.annotate(s=label, xy =(((value-x_bounds[0])/(x_bounds[1]-x_bounds[0])),1.01), xycoords='axes fraction', verticalalignment='right', horizontalalignment='right bottom')"
   ]
  },
  {
   "cell_type": "code",
   "execution_count": 191,
   "metadata": {
    "collapsed": false
   },
   "outputs": [
    {
     "name": "stdout",
     "output_type": "stream",
     "text": [
      "logManager - INFO - clean_file | Started\n",
      "logManager - INFO - read | Started\n",
      "logManager - INFO - read | Passed | 46.85\n",
      "logManager - INFO - clean | Started\n",
      "logManager - INFO - clean | Passed | 1480.29\n",
      "logManager - INFO - clean_file | Passed | 1823.91\n",
      "logManager - INFO - load_file | Started\n",
      "logManager - INFO - load_file | Passed | 824.74\n",
      "logManager - INFO - export_dataframe | Started\n",
      "logManager - INFO - export_dataframe | Passed | 341.95\n"
     ]
    }
   ],
   "source": [
    "#constants\n",
    "input_path = path+\"analysis/input/master.db\"\n",
    "flatten_config = path+\"analysis/config/master_feature.sql\"\n",
    "raw_flat_file = path+\"analysis/output/temp/raw.csv\"\n",
    "clean_flat_file = path+\"analysis/output/temp/clean.csv\"\n",
    "output_path = path+\"analysis/output/temp/output.db\"\n",
    "#output_path = path+\"analysis/output/autoVC/8/test/2015-04-06/2017-04-03/label_clean.csv\"\n",
    "\n",
    "#dp.flatten_file(input_path, flatten_config, raw_flat_file, \"feature\")\n",
    "dp.clean_file(raw_flat_file, clean_flat_file)\n",
    "dp.load_file(output_path, clean_flat_file, \"feature\")\n",
    "df = dp.export_dataframe(output_path, \"feature\")\n",
    "df_backup = df.copy()"
   ]
  },
  {
   "cell_type": "code",
   "execution_count": 175,
   "metadata": {
    "collapsed": true
   },
   "outputs": [],
   "source": [
    "#reload data from memory\n",
    "df = df_backup"
   ]
  },
  {
   "cell_type": "code",
   "execution_count": null,
   "metadata": {
    "collapsed": false
   },
   "outputs": [],
   "source": [
    "df = df.sample(50000)"
   ]
  },
  {
   "cell_type": "code",
   "execution_count": 192,
   "metadata": {
    "collapsed": false
   },
   "outputs": [],
   "source": [
    "stage_features = dict(\n",
    "    Age = 'confidence_context_broader_company_age_number',\n",
    "    FundingRounds = 'confidence_validation_funding_rounds_number',\n",
    "    FundingRaised = 'confidence_validation_funding_raised_value_total_number',\n",
    "    SeriesA = 'confidence_validation_funding_round_codes_list_a',\n",
    "    SeriesB = 'confidence_validation_funding_round_codes_list_b',\n",
    "    SeriesC = 'confidence_validation_funding_round_codes_list_c',\n",
    "    SeriesD = 'confidence_validation_funding_round_codes_list_d',\n",
    "    SeriesE = 'confidence_validation_funding_round_codes_list_e',\n",
    "    SeriesF = 'confidence_validation_funding_round_codes_list_f',\n",
    "    SeriesG = 'confidence_validation_funding_round_codes_list_g',\n",
    "    SeriesH = 'confidence_validation_funding_round_codes_list_h',\n",
    "    Closed = \"keys_company_status_closed_bool\",\n",
    "    Acquired = \"keys_company_status_acquired_bool\",\n",
    "    IPO = \"keys_company_status_ipo_bool\"\n",
    ")"
   ]
  },
  {
   "cell_type": "code",
   "execution_count": null,
   "metadata": {
    "collapsed": true
   },
   "outputs": [],
   "source": [
    "stage_features = dict(\n",
    "    Age = 'outcome_age_number',\n",
    "    FundingRounds = 'outcome_funding_rounds_number',\n",
    "    FundingRaised = 'outcome_funding_raised_value_total_number',\n",
    "    SeriesA = 'outcome_funding_round_codes_list_a',\n",
    "    SeriesB = 'outcome_funding_round_codes_list_b',\n",
    "    SeriesC = 'outcome_funding_round_codes_list_c',\n",
    "    SeriesD = 'outcome_funding_round_codes_list_d',\n",
    "    SeriesE = 'outcome_funding_round_codes_list_e',\n",
    "    SeriesF = 'outcome_funding_round_codes_list_f',\n",
    "    SeriesG = 'outcome_funding_round_codes_list_g',\n",
    "    SeriesH = 'outcome_funding_round_codes_list_h',\n",
    "    Closed = \"outcome_closed_bool\",\n",
    "    Acquired = \"outcome_acquired_bool\",\n",
    "    IPO = \"outcome_ipo_bool\"\n",
    ")"
   ]
  },
  {
   "cell_type": "code",
   "execution_count": 193,
   "metadata": {
    "collapsed": false
   },
   "outputs": [],
   "source": [
    "def create_stages(df, **features):\n",
    "    df2 = df.copy()\n",
    "    df2[\"keys_company_stage\"] = \"Other\"\n",
    "    df2[\"keys_company_stage\"] = np.where((df2[\"keys_company_stage\"] == \"Other\") & (df2[features[\"Closed\"]] >= 1), \"Closed\", df2[\"keys_company_stage\"])\n",
    "    df2[\"keys_company_stage\"] = np.where((df2[\"keys_company_stage\"] == \"Other\") & (df2[features[\"Acquired\"]] >= 1), \"Acquired\", df2[\"keys_company_stage\"])\n",
    "    df2[\"keys_company_stage\"] = np.where((df2[\"keys_company_stage\"] == \"Other\") & (df2[features[\"IPO\"]] >= 1), \"IPO\", df2[\"keys_company_stage\"])\n",
    "    df2[\"keys_company_stage_series-d+\"] = df2[[features[\"SeriesD\"],features[\"SeriesE\"],features[\"SeriesF\"],features[\"SeriesG\"],features[\"SeriesH\"]]].sum(axis=1)\n",
    "    df2[\"keys_company_stage\"] = np.where((df2[\"keys_company_stage\"] == \"Other\") & (df2[\"keys_company_stage_series-d+\"] >= 1), \"Series D+\", df2[\"keys_company_stage\"])\n",
    "    df2[\"keys_company_stage\"] = np.where((df2[\"keys_company_stage\"] == \"Other\") & (df2[features[\"SeriesC\"]] >= 1), \"Series C\", df2[\"keys_company_stage\"])\n",
    "    df2[\"keys_company_stage\"] = np.where((df2[\"keys_company_stage\"] == \"Other\") & (df2[features[\"SeriesB\"]] >= 1), \"Series B\", df2[\"keys_company_stage\"])\n",
    "    df2[\"keys_company_stage\"] = np.where((df2[\"keys_company_stage\"] == \"Other\") & (df2[features[\"SeriesA\"]] >= 1), \"Series A\", df2[\"keys_company_stage\"])\n",
    "    df2[\"keys_company_stage\"] = np.where((df2[\"keys_company_stage\"] == \"Other\") & (df2[features[\"FundingRaised\"]] >= 0), \"Seed\", df2[\"keys_company_stage\"])\n",
    "    age_new_cutoff = df2[features[\"Age\"]][df2[\"keys_company_stage\"] == \"Seed\"].quantile(0.75)\n",
    "    df2[\"keys_company_stage\"] = np.where((df2[\"keys_company_stage\"] == \"Other\") & (df2[features[\"Age\"]] <= age_new_cutoff), \"Pre-Seed\", df2[\"keys_company_stage\"])\n",
    "    group_stages = {\"Other\" : \"Excluded\", \"Closed\" : \"Excluded\", \"IPO\" : \"Excluded\", \"Acquired\" : \"Excluded\", \"Pre-Seed\" : \"Included\",\n",
    "        \"Seed\" : \"Included\", \"Series A\" : \"Included\", \"Series B\" : \"Included\", \"Series C\" : \"Included\", \"Series D+\" : \"Included\"}\n",
    "    df2[\"keys_company_stage_group\"] = df2[\"keys_company_stage\"].map(group_stages)\n",
    "    ordinal_stages = {\"Pre-Seed\" : 1, \"Seed\" : 2, \"Series A\" : 3, \"Series B\" : 4, \"Series C\" : 5, \"Series D+\" : 6,\"Other\" : np.nan, \"Closed\" : -1, \"IPO\" : 7, \"Acquired\" : 8}\n",
    "    df2[\"keys_company_stage_number\"] = df2[\"keys_company_stage\"].map(ordinal_stages)\n",
    "    return df2[[\"keys_company_stage_group\", \"keys_company_stage\",\"keys_company_stage_number\"]]"
   ]
  },
  {
   "cell_type": "code",
   "execution_count": 194,
   "metadata": {
    "collapsed": false
   },
   "outputs": [
    {
     "name": "stdout",
     "output_type": "stream",
     "text": [
      "Stages done.\n"
     ]
    }
   ],
   "source": [
    "stages = create_stages(df, **stage_features)\n",
    "df = pd.concat([stages, df], axis=1)\n",
    "print(\"Stages done.\")"
   ]
  },
  {
   "cell_type": "markdown",
   "metadata": {},
   "source": [
    "## 3.1.3 Preliminary Screening"
   ]
  },
  {
   "cell_type": "code",
   "execution_count": 195,
   "metadata": {
    "collapsed": false
   },
   "outputs": [
    {
     "name": "stdout",
     "output_type": "stream",
     "text": [
      "Other        413744\n",
      "Pre-Seed     227830\n",
      "Seed         104438\n",
      "Acquired      53788\n",
      "Series A      17308\n",
      "IPO           11600\n",
      "Series B       9314\n",
      "Closed         6558\n",
      "Series C       4462\n",
      "Series D+      2826\n",
      "Name: keys_company_stage, dtype: int64\n",
      "Other        0.485690\n",
      "Pre-Seed     0.267448\n",
      "Seed         0.122599\n",
      "Acquired     0.063141\n",
      "Series A     0.020318\n",
      "IPO          0.013617\n",
      "Series B     0.010934\n",
      "Closed       0.007698\n",
      "Series C     0.005238\n",
      "Series D+    0.003317\n",
      "Name: keys_company_stage, dtype: float64\n",
      "851868\n"
     ]
    }
   ],
   "source": [
    "print(df[\"keys_company_stage\"].value_counts())\n",
    "print(df[\"keys_company_stage\"].value_counts(normalize=True))\n",
    "print(df[\"keys_company_stage\"].value_counts().sum())"
   ]
  },
  {
   "cell_type": "code",
   "execution_count": 196,
   "metadata": {
    "collapsed": false
   },
   "outputs": [
    {
     "data": {
      "image/png": "[encoded data removed]",
      "text/plain": [
       "<matplotlib.figure.Figure at 0x2731616ed68>"
      ]
     },
     "metadata": {},
     "output_type": "display_data"
    }
   ],
   "source": [
    "order_1 = [\"Pre-Seed\", \"Seed\", \"Series A\", \"Series B\", \"Series C\", \"Series D+\", \"IPO\", \"Acquired\"]\n",
    "f = plt.figure()\n",
    "ax = sns.countplot(x= df[\"keys_company_stage\"], order = order_1, linewidth=None)\n",
    "auto_label(ax)\n",
    "add_vertical_line(ax, 1.5, \"Break-Even\", color=\"r\")\n",
    "add_vertical_line(ax, 5.5, \"Exit\", color=\"b\")\n",
    "ax.set_xlabel(\"Developmental Stage\")\n",
    "ax.set_ylabel(\"Companies\")\n",
    "f.savefig(save_path+\"lifecycle.pdf\", bbox_inches=\"tight\")"
   ]
  },
  {
   "cell_type": "markdown",
   "metadata": {},
   "source": [
    "Removed Other, Closed, Acquired & IPO groups"
   ]
  },
  {
   "cell_type": "code",
   "execution_count": 197,
   "metadata": {
    "collapsed": false
   },
   "outputs": [],
   "source": [
    "df = df.loc[df['keys_company_stage_group'] != \"Excluded\"]"
   ]
  },
  {
   "cell_type": "code",
   "execution_count": 198,
   "metadata": {
    "collapsed": false
   },
   "outputs": [
    {
     "name": "stdout",
     "output_type": "stream",
     "text": [
      "Pre-Seed     227830\n",
      "Seed         104438\n",
      "Series A      17308\n",
      "Series B       9314\n",
      "Series C       4462\n",
      "Series D+      2826\n",
      "Name: keys_company_stage, dtype: int64\n",
      "Pre-Seed     0.622184\n",
      "Seed         0.285211\n",
      "Series A     0.047267\n",
      "Series B     0.025436\n",
      "Series C     0.012185\n",
      "Series D+    0.007718\n",
      "Name: keys_company_stage, dtype: float64\n",
      "366178\n"
     ]
    }
   ],
   "source": [
    "print(df[\"keys_company_stage\"].value_counts())\n",
    "print(df[\"keys_company_stage\"].value_counts(normalize=True))\n",
    "print(df[\"keys_company_stage\"].value_counts().sum())"
   ]
  },
  {
   "cell_type": "code",
   "execution_count": 199,
   "metadata": {
    "collapsed": true
   },
   "outputs": [],
   "source": [
    "age_old_cutoff = df[\"confidence_context_broader_company_age_number\"][df[\"keys_company_stage\"] == \"Series D+\"].quantile(0.75)"
   ]
  },
  {
   "cell_type": "code",
   "execution_count": 200,
   "metadata": {
    "collapsed": false
   },
   "outputs": [
    {
     "data": {
      "image/png": "[encoded data removed]",
      "text/plain": [
       "<matplotlib.figure.Figure at 0x2731616ef98>"
      ]
     },
     "metadata": {},
     "output_type": "display_data"
    }
   ],
   "source": [
    "order_1 = [\"Pre-Seed\", \"Seed\", \"Series A\", \"Series B\", \"Series C\", \"Series D+\"]\n",
    "f = plt.figure()\n",
    "ax = sns.boxplot(\n",
    "    x=\"confidence_context_broader_company_age_number\", \n",
    "    y=\"keys_company_stage\",\n",
    "    order=order_1,data=df, fliersize=0)\n",
    "ax.set_xlim(xmin=0, xmax=30)\n",
    "ax.set_xlabel(\"Company Age (Years)\")\n",
    "ax.set_ylabel(\"Developmental Stage\")\n",
    "add_vertical_line(ax, age_old_cutoff, \"Age Upper Bound\", color=\"r\")\n",
    "f.savefig(save_path+\"stages_ages.pdf\", bbox_inches=\"tight\")"
   ]
  },
  {
   "cell_type": "markdown",
   "metadata": {},
   "source": [
    "Removed companies older than 15 years old"
   ]
  },
  {
   "cell_type": "code",
   "execution_count": 201,
   "metadata": {
    "collapsed": false
   },
   "outputs": [
    {
     "data": {
      "text/plain": [
       "15.698630136986301"
      ]
     },
     "execution_count": 201,
     "metadata": {},
     "output_type": "execute_result"
    }
   ],
   "source": [
    "age_old_cutoff"
   ]
  },
  {
   "cell_type": "code",
   "execution_count": 202,
   "metadata": {
    "collapsed": false
   },
   "outputs": [],
   "source": [
    "df = df.loc[df['confidence_context_broader_company_age_number'] <= age_old_cutoff]"
   ]
  },
  {
   "cell_type": "code",
   "execution_count": 203,
   "metadata": {
    "collapsed": false
   },
   "outputs": [
    {
     "name": "stdout",
     "output_type": "stream",
     "text": [
      "Pre-Seed     227830\n",
      "Seed          77884\n",
      "Series A      13230\n",
      "Series B       6684\n",
      "Series C       3220\n",
      "Series D+      1996\n",
      "Name: keys_company_stage, dtype: int64\n",
      "Pre-Seed     0.688633\n",
      "Seed         0.235410\n",
      "Series A     0.039989\n",
      "Series B     0.020203\n",
      "Series C     0.009733\n",
      "Series D+    0.006033\n",
      "Name: keys_company_stage, dtype: float64\n",
      "330844\n"
     ]
    }
   ],
   "source": [
    "print(df[\"keys_company_stage\"].value_counts())\n",
    "print(df[\"keys_company_stage\"].value_counts(normalize=True))\n",
    "print(df[\"keys_company_stage\"].value_counts().sum())"
   ]
  },
  {
   "cell_type": "markdown",
   "metadata": {},
   "source": [
    "## 3.1.4 Descriptive Statistics"
   ]
  },
  {
   "cell_type": "markdown",
   "metadata": {},
   "source": [
    "Table 3. Final test dataset counts grouped by lifecycle stage."
   ]
  },
  {
   "cell_type": "code",
   "execution_count": 204,
   "metadata": {
    "collapsed": true
   },
   "outputs": [],
   "source": [
    "drops = [col for col in list(df) if col.startswith((\"key\",\"from\",\"outcome\",\"index\"))]\n",
    "X = df.drop(drops, axis=1)\n",
    "X = X.select_dtypes(['number'])"
   ]
  },
  {
   "cell_type": "code",
   "execution_count": 205,
   "metadata": {
    "collapsed": false
   },
   "outputs": [
    {
     "data": {
      "text/plain": [
       "409"
      ]
     },
     "execution_count": 205,
     "metadata": {},
     "output_type": "execute_result"
    }
   ],
   "source": [
    "df[\"keys_missing_features\"] = X.isnull().sum(axis=1)\n",
    "len(list(df))"
   ]
  },
  {
   "cell_type": "code",
   "execution_count": 206,
   "metadata": {
    "collapsed": false,
    "scrolled": true
   },
   "outputs": [
    {
     "name": "stderr",
     "output_type": "stream",
     "text": [
      "C:\\ProgramData\\Anaconda3\\lib\\site-packages\\numpy\\lib\\function_base.py:3569: RuntimeWarning: Invalid value encountered in median\n",
      "  RuntimeWarning)\n",
      "C:\\ProgramData\\Anaconda3\\lib\\site-packages\\numpy\\lib\\nanfunctions.py:1043: RuntimeWarning: All-NaN slice encountered\n",
      "  warnings.warn(\"All-NaN slice encountered\", RuntimeWarning)\n"
     ]
    },
    {
     "data": {
      "text/html": [
       "<div>\n",
       "<table border=\"1\" class=\"dataframe\">\n",
       "  <thead>\n",
       "    <tr>\n",
       "      <th></th>\n",
       "      <th>Obs</th>\n",
       "      <th colspan=\"2\" halign=\"left\">Age (Years)</th>\n",
       "      <th colspan=\"2\" halign=\"left\">Funding Raised (USD, millions)</th>\n",
       "      <th colspan=\"2\" halign=\"left\">Funding Rounds (N)</th>\n",
       "      <th colspan=\"2\" halign=\"left\">Available Features (N)</th>\n",
       "    </tr>\n",
       "    <tr>\n",
       "      <th></th>\n",
       "      <th>N</th>\n",
       "      <th>Median</th>\n",
       "      <th>IQR</th>\n",
       "      <th>Median</th>\n",
       "      <th>IQR</th>\n",
       "      <th>Median</th>\n",
       "      <th>IQR</th>\n",
       "      <th>Median</th>\n",
       "      <th>IQR</th>\n",
       "    </tr>\n",
       "    <tr>\n",
       "      <th>keys_company_stage</th>\n",
       "      <th></th>\n",
       "      <th></th>\n",
       "      <th></th>\n",
       "      <th></th>\n",
       "      <th></th>\n",
       "      <th></th>\n",
       "      <th></th>\n",
       "      <th></th>\n",
       "      <th></th>\n",
       "    </tr>\n",
       "  </thead>\n",
       "  <tbody>\n",
       "    <tr>\n",
       "      <th>Pre-Seed</th>\n",
       "      <td>227830</td>\n",
       "      <td>4.361644</td>\n",
       "      <td>3.736986</td>\n",
       "      <td>NaN</td>\n",
       "      <td>NaN</td>\n",
       "      <td>NaN</td>\n",
       "      <td>NaN</td>\n",
       "      <td>14</td>\n",
       "      <td>121</td>\n",
       "    </tr>\n",
       "    <tr>\n",
       "      <th>Seed</th>\n",
       "      <td>77884</td>\n",
       "      <td>4.663014</td>\n",
       "      <td>4.002740</td>\n",
       "      <td>0.250000</td>\n",
       "      <td>1.29500</td>\n",
       "      <td>1.0</td>\n",
       "      <td>1.0</td>\n",
       "      <td>175</td>\n",
       "      <td>124</td>\n",
       "    </tr>\n",
       "    <tr>\n",
       "      <th>Series A</th>\n",
       "      <td>13230</td>\n",
       "      <td>5.693151</td>\n",
       "      <td>5.005479</td>\n",
       "      <td>4.400000</td>\n",
       "      <td>7.90587</td>\n",
       "      <td>2.0</td>\n",
       "      <td>2.0</td>\n",
       "      <td>238</td>\n",
       "      <td>120</td>\n",
       "    </tr>\n",
       "    <tr>\n",
       "      <th>Series B</th>\n",
       "      <td>6684</td>\n",
       "      <td>7.608219</td>\n",
       "      <td>5.917808</td>\n",
       "      <td>14.891075</td>\n",
       "      <td>22.03300</td>\n",
       "      <td>3.0</td>\n",
       "      <td>2.0</td>\n",
       "      <td>249</td>\n",
       "      <td>83</td>\n",
       "    </tr>\n",
       "    <tr>\n",
       "      <th>Series C</th>\n",
       "      <td>3220</td>\n",
       "      <td>8.695890</td>\n",
       "      <td>5.531507</td>\n",
       "      <td>35.285000</td>\n",
       "      <td>45.90000</td>\n",
       "      <td>3.0</td>\n",
       "      <td>2.0</td>\n",
       "      <td>305</td>\n",
       "      <td>77</td>\n",
       "    </tr>\n",
       "    <tr>\n",
       "      <th>Series D+</th>\n",
       "      <td>1996</td>\n",
       "      <td>9.695890</td>\n",
       "      <td>5.005479</td>\n",
       "      <td>74.384997</td>\n",
       "      <td>90.62000</td>\n",
       "      <td>5.0</td>\n",
       "      <td>3.0</td>\n",
       "      <td>316</td>\n",
       "      <td>68</td>\n",
       "    </tr>\n",
       "  </tbody>\n",
       "</table>\n",
       "</div>"
      ],
      "text/plain": [
       "                       Obs Age (Years)            \\\n",
       "                         N      Median       IQR   \n",
       "keys_company_stage                                 \n",
       "Pre-Seed            227830    4.361644  3.736986   \n",
       "Seed                 77884    4.663014  4.002740   \n",
       "Series A             13230    5.693151  5.005479   \n",
       "Series B              6684    7.608219  5.917808   \n",
       "Series C              3220    8.695890  5.531507   \n",
       "Series D+             1996    9.695890  5.005479   \n",
       "\n",
       "                   Funding Raised (USD, millions)            \\\n",
       "                                           Median       IQR   \n",
       "keys_company_stage                                            \n",
       "Pre-Seed                                      NaN       NaN   \n",
       "Seed                                     0.250000   1.29500   \n",
       "Series A                                 4.400000   7.90587   \n",
       "Series B                                14.891075  22.03300   \n",
       "Series C                                35.285000  45.90000   \n",
       "Series D+                               74.384997  90.62000   \n",
       "\n",
       "                   Funding Rounds (N)      Available Features (N)       \n",
       "                               Median  IQR                 Median  IQR  \n",
       "keys_company_stage                                                      \n",
       "Pre-Seed                          NaN  NaN                     14  121  \n",
       "Seed                              1.0  1.0                    175  124  \n",
       "Series A                          2.0  2.0                    238  120  \n",
       "Series B                          3.0  2.0                    249   83  \n",
       "Series C                          3.0  2.0                    305   77  \n",
       "Series D+                         5.0  3.0                    316   68  "
      ]
     },
     "execution_count": 206,
     "metadata": {},
     "output_type": "execute_result"
    }
   ],
   "source": [
    "groups = [df[\"keys_company_stage\"]]\n",
    "columns = [\"keys_company_stage\", \"confidence_context_broader_company_age_number\", \"confidence_validation_funding_raised_value_total_number\", \"confidence_validation_funding_rounds_number\", \"keys_missing_features\"]\n",
    "colnames = [\"Obs\", \"Age (Years)\", \"Funding Raised (USD, millions)\", \"Funding Rounds (N)\", \"Available Features (N)\"]\n",
    "colfuncs = [{\"N\":len}, \n",
    "    OrderedDict([(\"Median\", np.median),(\"IQR\", lambda x: stats.iqr(x,nan_policy=\"omit\"))]), \n",
    "    OrderedDict([(\"Median\", lambda x: np.median(x) / 1e6), (\"IQR\", lambda x: stats.iqr(x,nan_policy=\"omit\") / 1e6)]), \n",
    "    OrderedDict([(\"Median\", np.median),(\"IQR\", lambda x: stats.iqr(x,nan_policy=\"omit\"))]), \n",
    "    OrderedDict([(\"Median\", lambda x: len(list(df)) - np.median(x)), (\"IQR\", lambda x: stats.iqr(x,nan_policy=\"omit\") )])]\n",
    "\n",
    "namefunc = OrderedDict(zip(columns, colnames))\n",
    "aggfunc = OrderedDict(zip(columns, colfuncs))\n",
    "\n",
    "order_1 = [\"Pre-Seed\", \"Seed\", \"Series A\", \"Series B\", \"Series C\", \"Series D+\"]\n",
    "\n",
    "tab = df[columns].groupby(groups)\n",
    "tab = tab.agg(aggfunc)\n",
    "tab.rename(columns=namefunc)"
   ]
  },
  {
   "cell_type": "code",
   "execution_count": 207,
   "metadata": {
    "collapsed": false
   },
   "outputs": [
    {
     "name": "stderr",
     "output_type": "stream",
     "text": [
      "C:\\ProgramData\\Anaconda3\\lib\\site-packages\\numpy\\lib\\function_base.py:3569: RuntimeWarning: Invalid value encountered in median\n",
      "  RuntimeWarning)\n"
     ]
    },
    {
     "data": {
      "text/html": [
       "<div>\n",
       "<table border=\"1\" class=\"dataframe\">\n",
       "  <thead>\n",
       "    <tr>\n",
       "      <th></th>\n",
       "      <th>Obs</th>\n",
       "      <th colspan=\"2\" halign=\"left\">Age (Years)</th>\n",
       "      <th colspan=\"2\" halign=\"left\">Funding Raised (USD, millions)</th>\n",
       "      <th colspan=\"2\" halign=\"left\">Funding Rounds (N)</th>\n",
       "      <th colspan=\"2\" halign=\"left\">Available Features (N)</th>\n",
       "    </tr>\n",
       "    <tr>\n",
       "      <th></th>\n",
       "      <th>N</th>\n",
       "      <th>Median</th>\n",
       "      <th>IQR</th>\n",
       "      <th>Median</th>\n",
       "      <th>IQR</th>\n",
       "      <th>Median</th>\n",
       "      <th>IQR</th>\n",
       "      <th>Median</th>\n",
       "      <th>IQR</th>\n",
       "    </tr>\n",
       "    <tr>\n",
       "      <th>keys_company_stage_group</th>\n",
       "      <th></th>\n",
       "      <th></th>\n",
       "      <th></th>\n",
       "      <th></th>\n",
       "      <th></th>\n",
       "      <th></th>\n",
       "      <th></th>\n",
       "      <th></th>\n",
       "      <th></th>\n",
       "    </tr>\n",
       "  </thead>\n",
       "  <tbody>\n",
       "    <tr>\n",
       "      <th>Included</th>\n",
       "      <td>330844</td>\n",
       "      <td>4.687671</td>\n",
       "      <td>4.00274</td>\n",
       "      <td>NaN</td>\n",
       "      <td>3.97</td>\n",
       "      <td>1.0</td>\n",
       "      <td>1.0</td>\n",
       "      <td>83</td>\n",
       "      <td>138</td>\n",
       "    </tr>\n",
       "  </tbody>\n",
       "</table>\n",
       "</div>"
      ],
      "text/plain": [
       "                             Obs Age (Years)           \\\n",
       "                               N      Median      IQR   \n",
       "keys_company_stage_group                                \n",
       "Included                  330844    4.687671  4.00274   \n",
       "\n",
       "                         Funding Raised (USD, millions)        \\\n",
       "                                                 Median   IQR   \n",
       "keys_company_stage_group                                        \n",
       "Included                                            NaN  3.97   \n",
       "\n",
       "                         Funding Rounds (N)      Available Features (N)       \n",
       "                                     Median  IQR                 Median  IQR  \n",
       "keys_company_stage_group                                                      \n",
       "Included                                1.0  1.0                     83  138  "
      ]
     },
     "execution_count": 207,
     "metadata": {},
     "output_type": "execute_result"
    }
   ],
   "source": [
    "groups = [df[\"keys_company_stage_group\"]]\n",
    "columns = [\"keys_company_stage\", \"confidence_context_broader_company_age_number\", \"confidence_validation_funding_raised_value_total_number\", \"confidence_validation_funding_rounds_number\", \"keys_missing_features\"]\n",
    "colnames = [\"Obs\", \"Age (Years)\", \"Funding Raised (USD, millions)\", \"Funding Rounds (N)\", \"Available Features (N)\"]\n",
    "colfuncs = [{\"N\":len}, \n",
    "    OrderedDict([(\"Median\", np.median),(\"IQR\", lambda x: stats.iqr(x,nan_policy=\"omit\"))]), \n",
    "    OrderedDict([(\"Median\", lambda x: np.median(x) / 1e6), (\"IQR\", lambda x: stats.iqr(x,nan_policy=\"omit\") / 1e6)]), \n",
    "    OrderedDict([(\"Median\", np.median), (\"IQR\", lambda x: stats.iqr(x,nan_policy=\"omit\"))]),\n",
    "    OrderedDict([(\"Median\", lambda x: len(list(df)) - np.median(x)), (\"IQR\", lambda x: stats.iqr(x,nan_policy=\"omit\") )])]\n",
    "\n",
    "namefunc = OrderedDict(zip(columns, colnames))\n",
    "aggfunc = OrderedDict(zip(columns, colfuncs))\n",
    "\n",
    "tab = df[columns].groupby(groups)\n",
    "tab = tab.agg(aggfunc)\n",
    "tab.rename(columns=namefunc)"
   ]
  },
  {
   "cell_type": "markdown",
   "metadata": {},
   "source": [
    "Table 3. Final test dataset counts grouped by company sector."
   ]
  },
  {
   "cell_type": "code",
   "execution_count": 208,
   "metadata": {
    "collapsed": false
   },
   "outputs": [],
   "source": [
    "industries = [x for x in list(df) if x.startswith(\"confidence_context_industry_category_group_list\")]"
   ]
  },
  {
   "cell_type": "code",
   "execution_count": 211,
   "metadata": {
    "collapsed": false
   },
   "outputs": [
    {
     "data": {
      "text/plain": [
       "['keys_company_stage_group',\n",
       " 'keys_company_stage',\n",
       " 'keys_company_stage_number',\n",
       " 'keys_company_name_id',\n",
       " 'confidence_context_local_offices_headquarters_zipcode_number',\n",
       " 'confidence_context_broader_founded_date',\n",
       " 'confidence_context_broader_closed_date',\n",
       " 'confidence_context_broader_last_updated_date',\n",
       " 'confidence_context_broader_company_age_number',\n",
       " 'keys_company_status_operating_bool',\n",
       " 'keys_company_status_closed_bool',\n",
       " 'keys_company_status_acquired_bool',\n",
       " 'keys_company_status_ipo_bool',\n",
       " 'confidence_validation_funding_first_date',\n",
       " 'confidence_validation_funding_last_date',\n",
       " 'confidence_validation_funding_rounds_number',\n",
       " 'confidence_validation_funding_raised_value_total_number',\n",
       " 'confidence_validation_funding_raised_value_average_number',\n",
       " 'confidence_validation_funding_investors_participants_total_number',\n",
       " 'confidence_validation_funding_investors_participants_average_number',\n",
       " 'confidence_validation_funding_round_types_list_angel',\n",
       " 'confidence_validation_funding_round_types_list_convertible_note',\n",
       " 'confidence_validation_funding_round_types_list_debt_financing',\n",
       " 'confidence_validation_funding_round_types_list_equity_crowdfunding',\n",
       " 'confidence_validation_funding_round_types_list_grant',\n",
       " 'confidence_validation_funding_round_types_list_non_equity_assistance',\n",
       " 'confidence_validation_funding_round_types_list_post_ipo_debt',\n",
       " 'confidence_validation_funding_round_types_list_post_ipo_equity',\n",
       " 'confidence_validation_funding_round_types_list_private_equity',\n",
       " 'confidence_validation_funding_round_types_list_product_crowdfunding',\n",
       " 'confidence_validation_funding_round_types_list_secondary_market',\n",
       " 'confidence_validation_funding_round_types_list_seed',\n",
       " 'confidence_validation_funding_round_types_list_undisclosed',\n",
       " 'confidence_validation_funding_round_types_list_venture',\n",
       " 'confidence_validation_funding_round_codes_list_a',\n",
       " 'confidence_validation_funding_round_codes_list_b',\n",
       " 'confidence_validation_funding_round_codes_list_c',\n",
       " 'confidence_validation_funding_round_codes_list_d',\n",
       " 'confidence_validation_funding_round_codes_list_e',\n",
       " 'confidence_validation_funding_round_codes_list_f',\n",
       " 'confidence_validation_funding_round_codes_list_g',\n",
       " 'confidence_validation_funding_round_codes_list_h',\n",
       " 'confidence_validation_funding_raised_amount_type_number_pair_angel_pair',\n",
       " 'confidence_validation_funding_raised_amount_type_number_pair_convertible_note_pair',\n",
       " 'confidence_validation_funding_raised_amount_type_number_pair_debt_financing_pair',\n",
       " 'confidence_validation_funding_raised_amount_type_number_pair_equity_crowdfunding_pair',\n",
       " 'confidence_validation_funding_raised_amount_type_number_pair_grant_pair',\n",
       " 'confidence_validation_funding_raised_amount_type_number_pair_non_equity_assistance_pair',\n",
       " 'confidence_validation_funding_raised_amount_type_number_pair_post_ipo_debt_pair',\n",
       " 'confidence_validation_funding_raised_amount_type_number_pair_post_ipo_equity_pair',\n",
       " 'confidence_validation_funding_raised_amount_type_number_pair_private_equity_pair',\n",
       " 'confidence_validation_funding_raised_amount_type_number_pair_product_crowdfunding_pair',\n",
       " 'confidence_validation_funding_raised_amount_type_number_pair_secondary_market_pair',\n",
       " 'confidence_validation_funding_raised_amount_type_number_pair_seed_pair',\n",
       " 'confidence_validation_funding_raised_amount_type_number_pair_undisclosed_pair',\n",
       " 'confidence_validation_funding_raised_amount_type_number_pair_venture_pair',\n",
       " 'confidence_validation_funding_post_money_valuation_type_number_pair_angel_pair',\n",
       " 'confidence_validation_funding_post_money_valuation_type_number_pair_convertible_note_pair',\n",
       " 'confidence_validation_funding_post_money_valuation_type_number_pair_debt_financing_pair',\n",
       " 'confidence_validation_funding_post_money_valuation_type_number_pair_equity_crowdfunding_pair',\n",
       " 'confidence_validation_funding_post_money_valuation_type_number_pair_grant_pair',\n",
       " 'confidence_validation_funding_post_money_valuation_type_number_pair_non_equity_assistance_pair',\n",
       " 'confidence_validation_funding_post_money_valuation_type_number_pair_post_ipo_debt_pair',\n",
       " 'confidence_validation_funding_post_money_valuation_type_number_pair_post_ipo_equity_pair',\n",
       " 'confidence_validation_funding_post_money_valuation_type_number_pair_private_equity_pair',\n",
       " 'confidence_validation_funding_post_money_valuation_type_number_pair_product_crowdfunding_pair',\n",
       " 'confidence_validation_funding_post_money_valuation_type_number_pair_secondary_market_pair',\n",
       " 'confidence_validation_funding_post_money_valuation_type_number_pair_seed_pair',\n",
       " 'confidence_validation_funding_post_money_valuation_type_number_pair_undisclosed_pair',\n",
       " 'confidence_validation_funding_post_money_valuation_type_number_pair_venture_pair',\n",
       " 'confidence_validation_funding_investors_participants_type_number_pair_angel_pair',\n",
       " 'confidence_validation_funding_investors_participants_type_number_pair_convertible_note_pair',\n",
       " 'confidence_validation_funding_investors_participants_type_number_pair_debt_financing_pair',\n",
       " 'confidence_validation_funding_investors_participants_type_number_pair_equity_crowdfunding_pair',\n",
       " 'confidence_validation_funding_investors_participants_type_number_pair_grant_pair',\n",
       " 'confidence_validation_funding_investors_participants_type_number_pair_non_equity_assistance_pair',\n",
       " 'confidence_validation_funding_investors_participants_type_number_pair_post_ipo_debt_pair',\n",
       " 'confidence_validation_funding_investors_participants_type_number_pair_post_ipo_equity_pair',\n",
       " 'confidence_validation_funding_investors_participants_type_number_pair_private_equity_pair',\n",
       " 'confidence_validation_funding_investors_participants_type_number_pair_product_crowdfunding_pair',\n",
       " 'confidence_validation_funding_investors_participants_type_number_pair_secondary_market_pair',\n",
       " 'confidence_validation_funding_investors_participants_type_number_pair_seed_pair',\n",
       " 'confidence_validation_funding_investors_participants_type_number_pair_undisclosed_pair',\n",
       " 'confidence_validation_funding_investors_participants_type_number_pair_venture_pair',\n",
       " 'confidence_validation_funding_type_date_pair_angel_pair',\n",
       " 'confidence_validation_funding_type_date_pair_convertible_note_pair',\n",
       " 'confidence_validation_funding_type_date_pair_debt_financing_pair',\n",
       " 'confidence_validation_funding_type_date_pair_equity_crowdfunding_pair',\n",
       " 'confidence_validation_funding_type_date_pair_grant_pair',\n",
       " 'confidence_validation_funding_type_date_pair_non_equity_assistance_pair',\n",
       " 'confidence_validation_funding_type_date_pair_post_ipo_debt_pair',\n",
       " 'confidence_validation_funding_type_date_pair_post_ipo_equity_pair',\n",
       " 'confidence_validation_funding_type_date_pair_private_equity_pair',\n",
       " 'confidence_validation_funding_type_date_pair_product_crowdfunding_pair',\n",
       " 'confidence_validation_funding_type_date_pair_secondary_market_pair',\n",
       " 'confidence_validation_funding_type_date_pair_seed_pair',\n",
       " 'confidence_validation_funding_type_date_pair_undisclosed_pair',\n",
       " 'confidence_validation_funding_type_date_pair_venture_pair',\n",
       " 'confidence_validation_funding_raised_amount_code_number_pair_a_pair',\n",
       " 'confidence_validation_funding_raised_amount_code_number_pair_b_pair',\n",
       " 'confidence_validation_funding_raised_amount_code_number_pair_c_pair',\n",
       " 'confidence_validation_funding_raised_amount_code_number_pair_d_pair',\n",
       " 'confidence_validation_funding_raised_amount_code_number_pair_e_pair',\n",
       " 'confidence_validation_funding_raised_amount_code_number_pair_f_pair',\n",
       " 'confidence_validation_funding_raised_amount_code_number_pair_g_pair',\n",
       " 'confidence_validation_funding_raised_amount_code_number_pair_h_pair',\n",
       " 'confidence_validation_funding_post_money_valuation_code_number_pair_a_pair',\n",
       " 'confidence_validation_funding_post_money_valuation_code_number_pair_b_pair',\n",
       " 'confidence_validation_funding_post_money_valuation_code_number_pair_c_pair',\n",
       " 'confidence_validation_funding_post_money_valuation_code_number_pair_d_pair',\n",
       " 'confidence_validation_funding_post_money_valuation_code_number_pair_e_pair',\n",
       " 'confidence_validation_funding_post_money_valuation_code_number_pair_f_pair',\n",
       " 'confidence_validation_funding_post_money_valuation_code_number_pair_g_pair',\n",
       " 'confidence_validation_funding_post_money_valuation_code_number_pair_h_pair',\n",
       " 'confidence_validation_funding_investors_participants_code_number_pair_a_pair',\n",
       " 'confidence_validation_funding_investors_participants_code_number_pair_b_pair',\n",
       " 'confidence_validation_funding_investors_participants_code_number_pair_c_pair',\n",
       " 'confidence_validation_funding_investors_participants_code_number_pair_d_pair',\n",
       " 'confidence_validation_funding_investors_participants_code_number_pair_e_pair',\n",
       " 'confidence_validation_funding_investors_participants_code_number_pair_f_pair',\n",
       " 'confidence_validation_funding_investors_participants_code_number_pair_g_pair',\n",
       " 'confidence_validation_funding_investors_participants_code_number_pair_h_pair',\n",
       " 'confidence_validation_funding_code_date_pair_a_pair',\n",
       " 'confidence_validation_funding_code_date_pair_b_pair',\n",
       " 'confidence_validation_funding_code_date_pair_c_pair',\n",
       " 'confidence_validation_funding_code_date_pair_d_pair',\n",
       " 'confidence_validation_funding_code_date_pair_e_pair',\n",
       " 'confidence_validation_funding_code_date_pair_f_pair',\n",
       " 'confidence_validation_funding_code_date_pair_g_pair',\n",
       " 'confidence_validation_funding_code_date_pair_h_pair',\n",
       " 'confidence_context_industry_competitors_count_total_number',\n",
       " 'confidence_context_industry_competitors_count_operating_number',\n",
       " 'confidence_context_industry_competitors_count_closed_number',\n",
       " 'confidence_context_industry_competitors_count_acquired_number',\n",
       " 'confidence_context_industry_competitors_count_ipo_number',\n",
       " 'confidence_validation_customers_count_total_number',\n",
       " 'confidence_validation_customers_count_operating_number',\n",
       " 'confidence_validation_customers_count_closed_number',\n",
       " 'confidence_validation_customers_count_acquired_number',\n",
       " 'confidence_validation_customers_count_ipo_number',\n",
       " 'potential_social_influence_events_count_total_number',\n",
       " 'potential_social_influence_events_size_total_number',\n",
       " 'potential_social_influence_events_size_average_number',\n",
       " 'confidence_validation_investors_count_all_investments_sum_number',\n",
       " 'confidence_validation_investors_count_distinct_investments_sum_number',\n",
       " 'confidence_validation_investors_average_distinct_investments_sum_number',\n",
       " 'confidence_validation_investors_funding_coparticipants_total_sum_number',\n",
       " 'confidence_validation_investors_funding_coparticipants_average_sum_number',\n",
       " 'confidence_validation_investors_funding_raised_total_sum_number',\n",
       " 'confidence_validation_investors_funding_raised_average_sum_number',\n",
       " 'confidence_validation_investors_count_funded_closed_total_sum_number',\n",
       " 'confidence_validation_investors_count_funded_operating_total_sum_number',\n",
       " 'confidence_validation_investors_count_funded_acquired_total_sum_number',\n",
       " 'confidence_validation_investors_count_funded_ipo_total_sum_number',\n",
       " 'confidence_validation_investors_count_funded_exit_total_sum_number',\n",
       " 'confidence_validation_investors_count_funded_closed_average_sum_number',\n",
       " 'confidence_validation_investors_count_funded_operating_average_sum_number',\n",
       " 'confidence_validation_investors_count_funded_acquired_average_sum_number',\n",
       " 'confidence_validation_investors_count_funded_ipo_average_sum_number',\n",
       " 'confidence_validation_investors_count_funded_exit_average_sum_number',\n",
       " 'confidence_validation_investors_count_all_investments_average_number',\n",
       " 'confidence_validation_investors_count_distinct_investments_average_number',\n",
       " 'confidence_validation_investors_average_distinct_investments_average_number',\n",
       " 'confidence_validation_investors_funding_coparticipants_total_average_number',\n",
       " 'confidence_validation_investors_funding_coparticipants_average_average_number',\n",
       " 'confidence_validation_investors_funding_raised_total_average_number',\n",
       " 'confidence_validation_investors_funding_raised_average_average_number',\n",
       " 'confidence_validation_investors_count_funded_closed_total_average_number',\n",
       " 'confidence_validation_investors_count_funded_operating_total_average_number',\n",
       " 'confidence_validation_investors_count_funded_acquired_total_average_number',\n",
       " 'confidence_validation_investors_count_funded_ipo_total_average_number',\n",
       " 'confidence_validation_investors_count_funded_exit_total_average_number',\n",
       " 'confidence_validation_investors_count_funded_closed_average_average_number',\n",
       " 'confidence_validation_investors_count_funded_operating_average_average_number',\n",
       " 'confidence_validation_investors_count_funded_acquired_average_average_number',\n",
       " 'confidence_validation_investors_count_funded_ipo_average_average_number',\n",
       " 'confidence_validation_investors_count_funded_exit_average_average_number',\n",
       " 'confidence_validation_investors_count_all_investments_max_number',\n",
       " 'confidence_validation_investors_count_distinct_investments_max_number',\n",
       " 'confidence_validation_investors_average_distinct_investments_max_number',\n",
       " 'confidence_validation_investors_funding_coparticipants_total_max_number',\n",
       " 'confidence_validation_investors_funding_coparticipants_average_max_number',\n",
       " 'confidence_validation_investors_funding_raised_total_max_number',\n",
       " 'confidence_validation_investors_funding_raised_average_max_number',\n",
       " 'confidence_validation_investors_count_funded_closed_total_max_number',\n",
       " 'confidence_validation_investors_count_funded_operating_total_max_number',\n",
       " 'confidence_validation_investors_count_funded_acquired_total_max_number',\n",
       " 'confidence_validation_investors_count_funded_ipo_total_max_number',\n",
       " 'confidence_validation_investors_count_funded_exit_total_max_number',\n",
       " 'confidence_validation_investors_count_funded_closed_average_max_number',\n",
       " 'confidence_validation_investors_count_funded_operating_average_max_number',\n",
       " 'confidence_validation_investors_count_funded_acquired_average_max_number',\n",
       " 'confidence_validation_investors_count_funded_ipo_average_max_number',\n",
       " 'confidence_validation_investors_count_funded_exit_average_max_number',\n",
       " 'potential_human_founders_all_total_number',\n",
       " 'potential_human_founders_female_total_number',\n",
       " 'potential_human_founders_male_total_number',\n",
       " 'potential_human_founders_female_average_number',\n",
       " 'potential_human_founders_jobs_all_average_number',\n",
       " 'potential_human_founders_jobs_all_total_number',\n",
       " 'potential_human_founders_jobs_current_average_number',\n",
       " 'potential_human_founders_jobs_current_total_number',\n",
       " 'potential_human_founders_jobs_past_average_number',\n",
       " 'potential_human_founders_jobs_past_total_number',\n",
       " 'potential_human_founders_jobs_founder_average_number',\n",
       " 'potential_human_founders_jobs_founder_total_number',\n",
       " 'potential_human_founders_jobs_executive_average_number',\n",
       " 'potential_human_founders_jobs_executive_total_number',\n",
       " 'potential_human_founders_jobs_advisor_average_number',\n",
       " 'potential_human_founders_jobs_advisor_total_number',\n",
       " 'potential_human_founders_jobs_all_average_duration',\n",
       " 'potential_human_founders_jobs_all_total_duration',\n",
       " 'potential_human_founders_jobs_current_average_duration',\n",
       " 'potential_human_founders_jobs_current_total_duration',\n",
       " 'potential_human_founders_jobs_past_average_duration',\n",
       " 'potential_human_founders_jobs_past_total_duration',\n",
       " 'potential_human_founders_jobs_founder_average_duration',\n",
       " 'potential_human_founders_jobs_founder_total_duration',\n",
       " 'potential_human_founders_jobs_executive_average_duration',\n",
       " 'potential_human_founders_jobs_executive_total_duration',\n",
       " 'potential_human_founders_jobs_advisor_average_duration',\n",
       " 'potential_human_founders_jobs_advisor_total_duration',\n",
       " 'potential_human_founders_companies_exits_all_average_number',\n",
       " 'potential_human_founders_companies_exits_all_total_number',\n",
       " 'potential_human_founders_companies_acquisitions_all_average_number',\n",
       " 'potential_human_founders_companies_acquisitions_all_total_number',\n",
       " 'potential_human_founders_companies_ipo_all_average_number',\n",
       " 'potential_human_founders_companies_ipo_all_total_number',\n",
       " 'potential_human_founders_companies_operating_all_average_number',\n",
       " 'potential_human_founders_companies_operating_all_total_number',\n",
       " 'potential_human_founders_companies_closed_all_average_number',\n",
       " 'potential_human_founders_companies_closed_all_total_number',\n",
       " 'potential_human_founders_companies_exits_founder_average_number',\n",
       " 'potential_human_founders_companies_exits_founder_total_number',\n",
       " 'potential_human_founders_companies_acquisitions_founder_average_number',\n",
       " 'potential_human_founders_companies_acquisitions_founder_total_number',\n",
       " 'potential_human_founders_companies_ipo_founder_average_number',\n",
       " 'potential_human_founders_companies_ipo_founder_total_number',\n",
       " 'potential_human_founders_companies_operating_founder_average_number',\n",
       " 'potential_human_founders_companies_operating_founder_total_number',\n",
       " 'potential_human_founders_companies_closed_founder_average_number',\n",
       " 'potential_human_founders_companies_closed_founder_total_number',\n",
       " 'potential_human_founders_companies_exits_executive_average_number',\n",
       " 'potential_human_founders_companies_exits_executive_total_number',\n",
       " 'potential_human_founders_companies_acquisitions_executive_average_number',\n",
       " 'potential_human_founders_companies_acquisitions_executive_total_number',\n",
       " 'potential_human_founders_companies_ipo_executive_average_number',\n",
       " 'potential_human_founders_companies_ipo_executive_total_number',\n",
       " 'potential_human_founders_companies_operating_executive_average_number',\n",
       " 'potential_human_founders_companies_operating_executive_total_number',\n",
       " 'potential_human_founders_companies_closed_executive_average_number',\n",
       " 'potential_human_founders_companies_closed_executive_total_number',\n",
       " 'potential_human_founders_companies_exits_advisor_average_number',\n",
       " 'potential_human_founders_companies_exits_advisor_total_number',\n",
       " 'potential_human_founders_companies_acquisitions_advisor_average_number',\n",
       " 'potential_human_founders_companies_acquisitions_advisor_total_number',\n",
       " 'potential_human_founders_companies_ipo_advisor_average_number',\n",
       " 'potential_human_founders_companies_ipo_advisor_total_number',\n",
       " 'potential_human_founders_companies_operating_advisor_average_number',\n",
       " 'potential_human_founders_companies_operating_advisor_total_number',\n",
       " 'potential_human_founders_companies_closed_advisor_average_number',\n",
       " 'potential_human_founders_companies_closed_advisor_total_number',\n",
       " 'potential_human_executives_all_total_number',\n",
       " 'potential_human_executives_female_total_number',\n",
       " 'potential_human_executives_male_total_number',\n",
       " 'potential_human_executives_female_average_number',\n",
       " 'potential_human_executives_jobs_all_average_number',\n",
       " 'potential_human_executives_jobs_all_total_number',\n",
       " 'potential_human_executives_jobs_current_average_number',\n",
       " 'potential_human_executives_jobs_current_total_number',\n",
       " 'potential_human_executives_jobs_past_average_number',\n",
       " 'potential_human_executives_jobs_past_total_number',\n",
       " 'potential_human_executives_jobs_founder_average_number',\n",
       " 'potential_human_executives_jobs_founder_total_number',\n",
       " 'potential_human_executives_jobs_executive_average_number',\n",
       " 'potential_human_executives_jobs_executive_total_number',\n",
       " 'potential_human_executives_jobs_advisor_average_number',\n",
       " 'potential_human_executives_jobs_advisor_total_number',\n",
       " 'potential_human_executives_jobs_all_average_duration',\n",
       " 'potential_human_executives_jobs_all_total_duration',\n",
       " 'potential_human_executives_jobs_current_average_duration',\n",
       " 'potential_human_executives_jobs_current_total_duration',\n",
       " 'potential_human_executives_jobs_past_average_duration',\n",
       " 'potential_human_executives_jobs_past_total_duration',\n",
       " 'potential_human_executives_jobs_founder_average_duration',\n",
       " 'potential_human_executives_jobs_founder_total_duration',\n",
       " 'potential_human_executives_jobs_executive_average_duration',\n",
       " 'potential_human_executives_jobs_executive_total_duration',\n",
       " 'potential_human_executives_jobs_advisor_average_duration',\n",
       " 'potential_human_executives_jobs_advisor_total_duration',\n",
       " 'potential_human_executives_companies_exits_all_average_number',\n",
       " 'potential_human_executives_companies_exits_all_total_number',\n",
       " 'potential_human_executives_companies_acquisitions_all_average_number',\n",
       " 'potential_human_executives_companies_acquisitions_all_total_number',\n",
       " 'potential_human_executives_companies_ipo_all_average_number',\n",
       " 'potential_human_executives_companies_ipo_all_total_number',\n",
       " 'potential_human_executives_companies_operating_all_average_number',\n",
       " 'potential_human_executives_companies_operating_all_total_number',\n",
       " 'potential_human_executives_companies_closed_all_average_number',\n",
       " 'potential_human_executives_companies_closed_all_total_number',\n",
       " 'potential_human_executives_companies_exits_founder_average_number',\n",
       " 'potential_human_executives_companies_exits_founder_total_number',\n",
       " 'potential_human_executives_companies_acquisitions_founder_average_number',\n",
       " 'potential_human_executives_companies_acquisitions_founder_total_number',\n",
       " 'potential_human_executives_companies_ipo_founder_average_number',\n",
       " 'potential_human_executives_companies_ipo_founder_total_number',\n",
       " 'potential_human_executives_companies_operating_founder_average_number',\n",
       " 'potential_human_executives_companies_operating_founder_total_number',\n",
       " 'potential_human_executives_companies_closed_founder_average_number',\n",
       " 'potential_human_executives_companies_closed_founder_total_number',\n",
       " 'potential_human_executives_companies_exits_executive_average_number',\n",
       " 'potential_human_executives_companies_exits_executive_total_number',\n",
       " 'potential_human_executives_companies_acquisitions_executive_average_number',\n",
       " 'potential_human_executives_companies_acquisitions_executive_total_number',\n",
       " 'potential_human_executives_companies_ipo_executive_average_number',\n",
       " 'potential_human_executives_companies_ipo_executive_total_number',\n",
       " 'potential_human_executives_companies_operating_executive_average_number',\n",
       " 'potential_human_executives_companies_operating_executive_total_number',\n",
       " 'potential_human_executives_companies_closed_executive_average_number',\n",
       " 'potential_human_executives_companies_closed_executive_total_number',\n",
       " 'potential_human_executives_companies_exits_advisor_average_number',\n",
       " 'potential_human_executives_companies_exits_advisor_total_number',\n",
       " 'potential_human_executives_companies_acquisitions_advisor_average_number',\n",
       " 'potential_human_executives_companies_acquisitions_advisor_total_number',\n",
       " 'potential_human_executives_companies_ipo_advisor_average_number',\n",
       " 'potential_human_executives_companies_ipo_advisor_total_number',\n",
       " 'potential_human_executives_companies_operating_advisor_average_number',\n",
       " 'potential_human_executives_companies_operating_advisor_total_number',\n",
       " 'potential_human_executives_companies_closed_advisor_average_number',\n",
       " 'potential_human_executives_companies_closed_advisor_total_number',\n",
       " 'potential_human_advisors_all_total_number',\n",
       " 'potential_human_advisors_female_total_number',\n",
       " 'potential_human_advisors_male_total_number',\n",
       " 'potential_human_advisors_female_average_number',\n",
       " 'potential_human_advisors_jobs_all_average_number',\n",
       " 'potential_human_advisors_jobs_all_total_number',\n",
       " 'potential_human_advisors_jobs_current_average_number',\n",
       " 'potential_human_advisors_jobs_current_total_number',\n",
       " 'potential_human_advisors_jobs_past_average_number',\n",
       " 'potential_human_advisors_jobs_past_total_number',\n",
       " 'potential_human_advisors_jobs_founder_average_number',\n",
       " 'potential_human_advisors_jobs_founder_total_number',\n",
       " 'potential_human_advisors_jobs_executive_average_number',\n",
       " 'potential_human_advisors_jobs_executive_total_number',\n",
       " 'potential_human_advisors_jobs_advisor_average_number',\n",
       " 'potential_human_advisors_jobs_advisor_total_number',\n",
       " 'potential_human_advisors_jobs_all_average_duration',\n",
       " 'potential_human_advisors_jobs_all_total_duration',\n",
       " 'potential_human_advisors_jobs_current_average_duration',\n",
       " 'potential_human_advisors_jobs_current_total_duration',\n",
       " 'potential_human_advisors_jobs_past_average_duration',\n",
       " 'potential_human_advisors_jobs_past_total_duration',\n",
       " 'potential_human_advisors_jobs_founder_average_duration',\n",
       " 'potential_human_advisors_jobs_founder_total_duration',\n",
       " 'potential_human_advisors_jobs_executive_average_duration',\n",
       " 'potential_human_advisors_jobs_executive_total_duration',\n",
       " 'potential_human_advisors_jobs_advisor_average_duration',\n",
       " 'potential_human_advisors_jobs_advisor_total_duration',\n",
       " 'potential_human_advisors_companies_exits_all_average_number',\n",
       " 'potential_human_advisors_companies_exits_all_total_number',\n",
       " 'potential_human_advisors_companies_acquisitions_all_average_number',\n",
       " 'potential_human_advisors_companies_acquisitions_all_total_number',\n",
       " 'potential_human_advisors_companies_ipo_all_average_number',\n",
       " 'potential_human_advisors_companies_ipo_all_total_number',\n",
       " 'potential_human_advisors_companies_operating_all_average_number',\n",
       " 'potential_human_advisors_companies_operating_all_total_number',\n",
       " 'potential_human_advisors_companies_closed_all_average_number',\n",
       " 'potential_human_advisors_companies_closed_all_total_number',\n",
       " 'potential_human_advisors_companies_exits_founder_average_number',\n",
       " 'potential_human_advisors_companies_exits_founder_total_number',\n",
       " 'potential_human_advisors_companies_acquisitions_founder_average_number',\n",
       " 'potential_human_advisors_companies_acquisitions_founder_total_number',\n",
       " 'potential_human_advisors_companies_ipo_founder_average_number',\n",
       " 'potential_human_advisors_companies_ipo_founder_total_number',\n",
       " 'potential_human_advisors_companies_operating_founder_average_number',\n",
       " 'potential_human_advisors_companies_operating_founder_total_number',\n",
       " 'potential_human_advisors_companies_closed_founder_average_number',\n",
       " 'potential_human_advisors_companies_closed_founder_total_number',\n",
       " 'potential_human_advisors_companies_exits_executive_average_number',\n",
       " 'potential_human_advisors_companies_exits_executive_total_number',\n",
       " 'potential_human_advisors_companies_acquisitions_executive_average_number',\n",
       " 'potential_human_advisors_companies_acquisitions_executive_total_number',\n",
       " 'potential_human_advisors_companies_ipo_executive_average_number',\n",
       " 'potential_human_advisors_companies_ipo_executive_total_number',\n",
       " 'potential_human_advisors_companies_operating_executive_average_number',\n",
       " 'potential_human_advisors_companies_operating_executive_total_number',\n",
       " 'potential_human_advisors_companies_closed_executive_average_number',\n",
       " 'potential_human_advisors_companies_closed_executive_total_number',\n",
       " 'potential_human_advisors_companies_exits_advisor_average_number',\n",
       " 'potential_human_advisors_companies_exits_advisor_total_number',\n",
       " 'potential_human_advisors_companies_acquisitions_advisor_average_number',\n",
       " 'potential_human_advisors_companies_acquisitions_advisor_total_number',\n",
       " 'potential_human_advisors_companies_ipo_advisor_average_number',\n",
       " 'potential_human_advisors_companies_ipo_advisor_total_number',\n",
       " 'potential_human_advisors_companies_operating_advisor_average_number',\n",
       " 'potential_human_advisors_companies_operating_advisor_total_number',\n",
       " 'potential_human_advisors_companies_closed_advisor_average_number',\n",
       " 'potential_human_advisors_companies_closed_advisor_total_number',\n",
       " 'confidence_context_broader_closed_date_to_confidence_context_broader_founded_date_duration',\n",
       " 'confidence_context_broader_last_updated_date_to_confidence_context_broader_founded_date_duration',\n",
       " 'confidence_validation_funding_first_date_to_confidence_context_broader_founded_date_duration',\n",
       " 'confidence_validation_funding_last_date_to_confidence_context_broader_founded_date_duration',\n",
       " 'confidence_context_broader_last_updated_date_to_confidence_context_broader_closed_date_duration',\n",
       " 'confidence_validation_funding_first_date_to_confidence_context_broader_closed_date_duration',\n",
       " 'confidence_validation_funding_last_date_to_confidence_context_broader_closed_date_duration',\n",
       " 'confidence_validation_funding_first_date_to_confidence_context_broader_last_updated_date_duration',\n",
       " 'confidence_validation_funding_last_date_to_confidence_context_broader_last_updated_date_duration',\n",
       " 'confidence_validation_funding_last_date_to_confidence_validation_funding_first_date_duration',\n",
       " 'keys_missing_features']"
      ]
     },
     "execution_count": 211,
     "metadata": {},
     "output_type": "execute_result"
    }
   ],
   "source": [
    "list(df)"
   ]
  },
  {
   "cell_type": "code",
   "execution_count": 209,
   "metadata": {
    "collapsed": false
   },
   "outputs": [
    {
     "name": "stdout",
     "output_type": "stream",
     "text": [
      "[]\n"
     ]
    },
    {
     "ename": "KeyError",
     "evalue": "'Software'",
     "output_type": "error",
     "traceback": [
      "\u001b[0;31m---------------------------------------------------------------------------\u001b[0m",
      "\u001b[0;31mTypeError\u001b[0m                                 Traceback (most recent call last)",
      "\u001b[0;32mC:\\ProgramData\\Anaconda3\\lib\\site-packages\\pandas\\indexes\\base.py\u001b[0m in \u001b[0;36mget_value\u001b[0;34m(self, series, key)\u001b[0m\n\u001b[1;32m   2174\u001b[0m             \u001b[1;32mtry\u001b[0m\u001b[1;33m:\u001b[0m\u001b[1;33m\u001b[0m\u001b[0m\n\u001b[0;32m-> 2175\u001b[0;31m                 \u001b[1;32mreturn\u001b[0m \u001b[0mtslib\u001b[0m\u001b[1;33m.\u001b[0m\u001b[0mget_value_box\u001b[0m\u001b[1;33m(\u001b[0m\u001b[0ms\u001b[0m\u001b[1;33m,\u001b[0m \u001b[0mkey\u001b[0m\u001b[1;33m)\u001b[0m\u001b[1;33m\u001b[0m\u001b[0m\n\u001b[0m\u001b[1;32m   2176\u001b[0m             \u001b[1;32mexcept\u001b[0m \u001b[0mIndexError\u001b[0m\u001b[1;33m:\u001b[0m\u001b[1;33m\u001b[0m\u001b[0m\n",
      "\u001b[0;32mpandas\\tslib.pyx\u001b[0m in \u001b[0;36mpandas.tslib.get_value_box (pandas\\tslib.c:19053)\u001b[0;34m()\u001b[0m\n",
      "\u001b[0;32mpandas\\tslib.pyx\u001b[0m in \u001b[0;36mpandas.tslib.get_value_box (pandas\\tslib.c:18687)\u001b[0;34m()\u001b[0m\n",
      "\u001b[0;31mTypeError\u001b[0m: 'str' object cannot be interpreted as an integer",
      "\nDuring handling of the above exception, another exception occurred:\n",
      "\u001b[0;31mKeyError\u001b[0m                                  Traceback (most recent call last)",
      "\u001b[0;32m<ipython-input-209-ad2b85777508>\u001b[0m in \u001b[0;36m<module>\u001b[0;34m()\u001b[0m\n\u001b[1;32m      3\u001b[0m \u001b[0mprint\u001b[0m\u001b[1;33m(\u001b[0m\u001b[0mvalues\u001b[0m\u001b[1;33m)\u001b[0m\u001b[1;33m\u001b[0m\u001b[0m\n\u001b[1;32m      4\u001b[0m \u001b[0mnames\u001b[0m \u001b[1;33m=\u001b[0m \u001b[1;33m[\u001b[0m\u001b[1;34m\"Software\"\u001b[0m\u001b[1;33m,\u001b[0m \u001b[1;34m\"Internet Services\"\u001b[0m\u001b[1;33m,\u001b[0m \u001b[1;34m\"Media & Entertainment\"\u001b[0m\u001b[1;33m,\u001b[0m \u001b[1;34m\"Commerce\"\u001b[0m\u001b[1;33m,\u001b[0m \u001b[1;34m\"Mobile\"\u001b[0m\u001b[1;33m,\u001b[0m \u001b[1;34m\"Sales & Marketing\"\u001b[0m\u001b[1;33m,\u001b[0m \u001b[1;34m\"Information Technology\"\u001b[0m\u001b[1;33m,\u001b[0m \u001b[1;34m\"Health Care\"\u001b[0m\u001b[1;33m,\u001b[0m \u001b[1;34m\"Hardware\"\u001b[0m\u001b[1;33m,\u001b[0m \u001b[1;34m\"Financial Services\"\u001b[0m\u001b[1;33m]\u001b[0m\u001b[1;33m\u001b[0m\u001b[0m\n\u001b[0;32m----> 5\u001b[0;31m \u001b[0msns\u001b[0m\u001b[1;33m.\u001b[0m\u001b[0mbarplot\u001b[0m\u001b[1;33m(\u001b[0m\u001b[0mx\u001b[0m \u001b[1;33m=\u001b[0m \u001b[0mvalues\u001b[0m\u001b[1;33m,\u001b[0m \u001b[0my\u001b[0m \u001b[1;33m=\u001b[0m \u001b[0mnames\u001b[0m\u001b[1;33m,\u001b[0m \u001b[0morder\u001b[0m \u001b[1;33m=\u001b[0m \u001b[0mnames\u001b[0m\u001b[1;33m)\u001b[0m\u001b[1;33m\u001b[0m\u001b[0m\n\u001b[0m",
      "\u001b[0;32mC:\\ProgramData\\Anaconda3\\lib\\site-packages\\seaborn\\categorical.py\u001b[0m in \u001b[0;36mbarplot\u001b[0;34m(x, y, hue, data, order, hue_order, estimator, ci, n_boot, units, orient, color, palette, saturation, errcolor, errwidth, capsize, ax, **kwargs)\u001b[0m\n\u001b[1;32m   2897\u001b[0m                           \u001b[0mestimator\u001b[0m\u001b[1;33m,\u001b[0m \u001b[0mci\u001b[0m\u001b[1;33m,\u001b[0m \u001b[0mn_boot\u001b[0m\u001b[1;33m,\u001b[0m \u001b[0munits\u001b[0m\u001b[1;33m,\u001b[0m\u001b[1;33m\u001b[0m\u001b[0m\n\u001b[1;32m   2898\u001b[0m                           \u001b[0morient\u001b[0m\u001b[1;33m,\u001b[0m \u001b[0mcolor\u001b[0m\u001b[1;33m,\u001b[0m \u001b[0mpalette\u001b[0m\u001b[1;33m,\u001b[0m \u001b[0msaturation\u001b[0m\u001b[1;33m,\u001b[0m\u001b[1;33m\u001b[0m\u001b[0m\n\u001b[0;32m-> 2899\u001b[0;31m                           errcolor, errwidth, capsize)\n\u001b[0m\u001b[1;32m   2900\u001b[0m \u001b[1;33m\u001b[0m\u001b[0m\n\u001b[1;32m   2901\u001b[0m     \u001b[1;32mif\u001b[0m \u001b[0max\u001b[0m \u001b[1;32mis\u001b[0m \u001b[1;32mNone\u001b[0m\u001b[1;33m:\u001b[0m\u001b[1;33m\u001b[0m\u001b[0m\n",
      "\u001b[0;32mC:\\ProgramData\\Anaconda3\\lib\\site-packages\\seaborn\\categorical.py\u001b[0m in \u001b[0;36m__init__\u001b[0;34m(self, x, y, hue, data, order, hue_order, estimator, ci, n_boot, units, orient, color, palette, saturation, errcolor, errwidth, capsize)\u001b[0m\n\u001b[1;32m   1541\u001b[0m         \u001b[1;34m\"\"\"Initialize the plotter.\"\"\"\u001b[0m\u001b[1;33m\u001b[0m\u001b[0m\n\u001b[1;32m   1542\u001b[0m         self.establish_variables(x, y, hue, data, orient,\n\u001b[0;32m-> 1543\u001b[0;31m                                  order, hue_order, units)\n\u001b[0m\u001b[1;32m   1544\u001b[0m         \u001b[0mself\u001b[0m\u001b[1;33m.\u001b[0m\u001b[0mestablish_colors\u001b[0m\u001b[1;33m(\u001b[0m\u001b[0mcolor\u001b[0m\u001b[1;33m,\u001b[0m \u001b[0mpalette\u001b[0m\u001b[1;33m,\u001b[0m \u001b[0msaturation\u001b[0m\u001b[1;33m)\u001b[0m\u001b[1;33m\u001b[0m\u001b[0m\n\u001b[1;32m   1545\u001b[0m         \u001b[0mself\u001b[0m\u001b[1;33m.\u001b[0m\u001b[0mestimate_statistic\u001b[0m\u001b[1;33m(\u001b[0m\u001b[0mestimator\u001b[0m\u001b[1;33m,\u001b[0m \u001b[0mci\u001b[0m\u001b[1;33m,\u001b[0m \u001b[0mn_boot\u001b[0m\u001b[1;33m)\u001b[0m\u001b[1;33m\u001b[0m\u001b[0m\n",
      "\u001b[0;32mC:\\ProgramData\\Anaconda3\\lib\\site-packages\\seaborn\\categorical.py\u001b[0m in \u001b[0;36mestablish_variables\u001b[0;34m(self, x, y, hue, data, orient, order, hue_order, units)\u001b[0m\n\u001b[1;32m    201\u001b[0m                 \u001b[1;31m# Group the numeric data\u001b[0m\u001b[1;33m\u001b[0m\u001b[1;33m\u001b[0m\u001b[0m\n\u001b[1;32m    202\u001b[0m                 plot_data, value_label = self._group_longform(vals, groups,\n\u001b[0;32m--> 203\u001b[0;31m                                                               group_names)\n\u001b[0m\u001b[1;32m    204\u001b[0m \u001b[1;33m\u001b[0m\u001b[0m\n\u001b[1;32m    205\u001b[0m                 \u001b[1;31m# Now handle the hue levels for nested ordering\u001b[0m\u001b[1;33m\u001b[0m\u001b[1;33m\u001b[0m\u001b[0m\n",
      "\u001b[0;32mC:\\ProgramData\\Anaconda3\\lib\\site-packages\\seaborn\\categorical.py\u001b[0m in \u001b[0;36m_group_longform\u001b[0;34m(self, vals, grouper, order)\u001b[0m\n\u001b[1;32m    243\u001b[0m \u001b[1;33m\u001b[0m\u001b[0m\n\u001b[1;32m    244\u001b[0m         \u001b[1;31m# Group the val data\u001b[0m\u001b[1;33m\u001b[0m\u001b[1;33m\u001b[0m\u001b[0m\n\u001b[0;32m--> 245\u001b[0;31m         \u001b[0mgrouped_vals\u001b[0m \u001b[1;33m=\u001b[0m \u001b[0mvals\u001b[0m\u001b[1;33m.\u001b[0m\u001b[0mgroupby\u001b[0m\u001b[1;33m(\u001b[0m\u001b[0mgrouper\u001b[0m\u001b[1;33m)\u001b[0m\u001b[1;33m\u001b[0m\u001b[0m\n\u001b[0m\u001b[1;32m    246\u001b[0m         \u001b[0mout_data\u001b[0m \u001b[1;33m=\u001b[0m \u001b[1;33m[\u001b[0m\u001b[1;33m]\u001b[0m\u001b[1;33m\u001b[0m\u001b[0m\n\u001b[1;32m    247\u001b[0m         \u001b[1;32mfor\u001b[0m \u001b[0mg\u001b[0m \u001b[1;32min\u001b[0m \u001b[0morder\u001b[0m\u001b[1;33m:\u001b[0m\u001b[1;33m\u001b[0m\u001b[0m\n",
      "\u001b[0;32mC:\\ProgramData\\Anaconda3\\lib\\site-packages\\pandas\\core\\generic.py\u001b[0m in \u001b[0;36mgroupby\u001b[0;34m(self, by, axis, level, as_index, sort, group_keys, squeeze, **kwargs)\u001b[0m\n\u001b[1;32m   3989\u001b[0m         return groupby(self, by=by, axis=axis, level=level, as_index=as_index,\n\u001b[1;32m   3990\u001b[0m                        \u001b[0msort\u001b[0m\u001b[1;33m=\u001b[0m\u001b[0msort\u001b[0m\u001b[1;33m,\u001b[0m \u001b[0mgroup_keys\u001b[0m\u001b[1;33m=\u001b[0m\u001b[0mgroup_keys\u001b[0m\u001b[1;33m,\u001b[0m \u001b[0msqueeze\u001b[0m\u001b[1;33m=\u001b[0m\u001b[0msqueeze\u001b[0m\u001b[1;33m,\u001b[0m\u001b[1;33m\u001b[0m\u001b[0m\n\u001b[0;32m-> 3991\u001b[0;31m                        **kwargs)\n\u001b[0m\u001b[1;32m   3992\u001b[0m \u001b[1;33m\u001b[0m\u001b[0m\n\u001b[1;32m   3993\u001b[0m     \u001b[1;32mdef\u001b[0m \u001b[0masfreq\u001b[0m\u001b[1;33m(\u001b[0m\u001b[0mself\u001b[0m\u001b[1;33m,\u001b[0m \u001b[0mfreq\u001b[0m\u001b[1;33m,\u001b[0m \u001b[0mmethod\u001b[0m\u001b[1;33m=\u001b[0m\u001b[1;32mNone\u001b[0m\u001b[1;33m,\u001b[0m \u001b[0mhow\u001b[0m\u001b[1;33m=\u001b[0m\u001b[1;32mNone\u001b[0m\u001b[1;33m,\u001b[0m \u001b[0mnormalize\u001b[0m\u001b[1;33m=\u001b[0m\u001b[1;32mFalse\u001b[0m\u001b[1;33m)\u001b[0m\u001b[1;33m:\u001b[0m\u001b[1;33m\u001b[0m\u001b[0m\n",
      "\u001b[0;32mC:\\ProgramData\\Anaconda3\\lib\\site-packages\\pandas\\core\\groupby.py\u001b[0m in \u001b[0;36mgroupby\u001b[0;34m(obj, by, **kwds)\u001b[0m\n\u001b[1;32m   1509\u001b[0m         \u001b[1;32mraise\u001b[0m \u001b[0mTypeError\u001b[0m\u001b[1;33m(\u001b[0m\u001b[1;34m'invalid type: %s'\u001b[0m \u001b[1;33m%\u001b[0m \u001b[0mtype\u001b[0m\u001b[1;33m(\u001b[0m\u001b[0mobj\u001b[0m\u001b[1;33m)\u001b[0m\u001b[1;33m)\u001b[0m\u001b[1;33m\u001b[0m\u001b[0m\n\u001b[1;32m   1510\u001b[0m \u001b[1;33m\u001b[0m\u001b[0m\n\u001b[0;32m-> 1511\u001b[0;31m     \u001b[1;32mreturn\u001b[0m \u001b[0mklass\u001b[0m\u001b[1;33m(\u001b[0m\u001b[0mobj\u001b[0m\u001b[1;33m,\u001b[0m \u001b[0mby\u001b[0m\u001b[1;33m,\u001b[0m \u001b[1;33m**\u001b[0m\u001b[0mkwds\u001b[0m\u001b[1;33m)\u001b[0m\u001b[1;33m\u001b[0m\u001b[0m\n\u001b[0m\u001b[1;32m   1512\u001b[0m \u001b[1;33m\u001b[0m\u001b[0m\n\u001b[1;32m   1513\u001b[0m \u001b[1;33m\u001b[0m\u001b[0m\n",
      "\u001b[0;32mC:\\ProgramData\\Anaconda3\\lib\\site-packages\\pandas\\core\\groupby.py\u001b[0m in \u001b[0;36m__init__\u001b[0;34m(self, obj, keys, axis, level, grouper, exclusions, selection, as_index, sort, group_keys, squeeze, **kwargs)\u001b[0m\n\u001b[1;32m    368\u001b[0m                                                     \u001b[0mlevel\u001b[0m\u001b[1;33m=\u001b[0m\u001b[0mlevel\u001b[0m\u001b[1;33m,\u001b[0m\u001b[1;33m\u001b[0m\u001b[0m\n\u001b[1;32m    369\u001b[0m                                                     \u001b[0msort\u001b[0m\u001b[1;33m=\u001b[0m\u001b[0msort\u001b[0m\u001b[1;33m,\u001b[0m\u001b[1;33m\u001b[0m\u001b[0m\n\u001b[0;32m--> 370\u001b[0;31m                                                     mutated=self.mutated)\n\u001b[0m\u001b[1;32m    371\u001b[0m \u001b[1;33m\u001b[0m\u001b[0m\n\u001b[1;32m    372\u001b[0m         \u001b[0mself\u001b[0m\u001b[1;33m.\u001b[0m\u001b[0mobj\u001b[0m \u001b[1;33m=\u001b[0m \u001b[0mobj\u001b[0m\u001b[1;33m\u001b[0m\u001b[0m\n",
      "\u001b[0;32mC:\\ProgramData\\Anaconda3\\lib\\site-packages\\pandas\\core\\groupby.py\u001b[0m in \u001b[0;36m_get_grouper\u001b[0;34m(obj, key, axis, level, sort, mutated)\u001b[0m\n\u001b[1;32m   2460\u001b[0m \u001b[1;33m\u001b[0m\u001b[0m\n\u001b[1;32m   2461\u001b[0m         \u001b[1;32melif\u001b[0m \u001b[0mis_in_axis\u001b[0m\u001b[1;33m(\u001b[0m\u001b[0mgpr\u001b[0m\u001b[1;33m)\u001b[0m\u001b[1;33m:\u001b[0m  \u001b[1;31m# df.groupby('name')\u001b[0m\u001b[1;33m\u001b[0m\u001b[0m\n\u001b[0;32m-> 2462\u001b[0;31m             \u001b[0min_axis\u001b[0m\u001b[1;33m,\u001b[0m \u001b[0mname\u001b[0m\u001b[1;33m,\u001b[0m \u001b[0mgpr\u001b[0m \u001b[1;33m=\u001b[0m \u001b[1;32mTrue\u001b[0m\u001b[1;33m,\u001b[0m \u001b[0mgpr\u001b[0m\u001b[1;33m,\u001b[0m \u001b[0mobj\u001b[0m\u001b[1;33m[\u001b[0m\u001b[0mgpr\u001b[0m\u001b[1;33m]\u001b[0m\u001b[1;33m\u001b[0m\u001b[0m\n\u001b[0m\u001b[1;32m   2463\u001b[0m             \u001b[0mexclusions\u001b[0m\u001b[1;33m.\u001b[0m\u001b[0mappend\u001b[0m\u001b[1;33m(\u001b[0m\u001b[0mname\u001b[0m\u001b[1;33m)\u001b[0m\u001b[1;33m\u001b[0m\u001b[0m\n\u001b[1;32m   2464\u001b[0m         \u001b[1;32melif\u001b[0m \u001b[0misinstance\u001b[0m\u001b[1;33m(\u001b[0m\u001b[0mgpr\u001b[0m\u001b[1;33m,\u001b[0m \u001b[0mGrouper\u001b[0m\u001b[1;33m)\u001b[0m \u001b[1;32mand\u001b[0m \u001b[0mgpr\u001b[0m\u001b[1;33m.\u001b[0m\u001b[0mkey\u001b[0m \u001b[1;32mis\u001b[0m \u001b[1;32mnot\u001b[0m \u001b[1;32mNone\u001b[0m\u001b[1;33m:\u001b[0m\u001b[1;33m\u001b[0m\u001b[0m\n",
      "\u001b[0;32mC:\\ProgramData\\Anaconda3\\lib\\site-packages\\pandas\\core\\series.py\u001b[0m in \u001b[0;36m__getitem__\u001b[0;34m(self, key)\u001b[0m\n\u001b[1;32m    601\u001b[0m         \u001b[0mkey\u001b[0m \u001b[1;33m=\u001b[0m \u001b[0mcom\u001b[0m\u001b[1;33m.\u001b[0m\u001b[0m_apply_if_callable\u001b[0m\u001b[1;33m(\u001b[0m\u001b[0mkey\u001b[0m\u001b[1;33m,\u001b[0m \u001b[0mself\u001b[0m\u001b[1;33m)\u001b[0m\u001b[1;33m\u001b[0m\u001b[0m\n\u001b[1;32m    602\u001b[0m         \u001b[1;32mtry\u001b[0m\u001b[1;33m:\u001b[0m\u001b[1;33m\u001b[0m\u001b[0m\n\u001b[0;32m--> 603\u001b[0;31m             \u001b[0mresult\u001b[0m \u001b[1;33m=\u001b[0m \u001b[0mself\u001b[0m\u001b[1;33m.\u001b[0m\u001b[0mindex\u001b[0m\u001b[1;33m.\u001b[0m\u001b[0mget_value\u001b[0m\u001b[1;33m(\u001b[0m\u001b[0mself\u001b[0m\u001b[1;33m,\u001b[0m \u001b[0mkey\u001b[0m\u001b[1;33m)\u001b[0m\u001b[1;33m\u001b[0m\u001b[0m\n\u001b[0m\u001b[1;32m    604\u001b[0m \u001b[1;33m\u001b[0m\u001b[0m\n\u001b[1;32m    605\u001b[0m             \u001b[1;32mif\u001b[0m \u001b[1;32mnot\u001b[0m \u001b[0mis_scalar\u001b[0m\u001b[1;33m(\u001b[0m\u001b[0mresult\u001b[0m\u001b[1;33m)\u001b[0m\u001b[1;33m:\u001b[0m\u001b[1;33m\u001b[0m\u001b[0m\n",
      "\u001b[0;32mC:\\ProgramData\\Anaconda3\\lib\\site-packages\\pandas\\indexes\\base.py\u001b[0m in \u001b[0;36mget_value\u001b[0;34m(self, series, key)\u001b[0m\n\u001b[1;32m   2181\u001b[0m                     \u001b[1;32mraise\u001b[0m \u001b[0mInvalidIndexError\u001b[0m\u001b[1;33m(\u001b[0m\u001b[0mkey\u001b[0m\u001b[1;33m)\u001b[0m\u001b[1;33m\u001b[0m\u001b[0m\n\u001b[1;32m   2182\u001b[0m                 \u001b[1;32melse\u001b[0m\u001b[1;33m:\u001b[0m\u001b[1;33m\u001b[0m\u001b[0m\n\u001b[0;32m-> 2183\u001b[0;31m                     \u001b[1;32mraise\u001b[0m \u001b[0me1\u001b[0m\u001b[1;33m\u001b[0m\u001b[0m\n\u001b[0m\u001b[1;32m   2184\u001b[0m             \u001b[1;32mexcept\u001b[0m \u001b[0mException\u001b[0m\u001b[1;33m:\u001b[0m  \u001b[1;31m# pragma: no cover\u001b[0m\u001b[1;33m\u001b[0m\u001b[0m\n\u001b[1;32m   2185\u001b[0m                 \u001b[1;32mraise\u001b[0m \u001b[0me1\u001b[0m\u001b[1;33m\u001b[0m\u001b[0m\n",
      "\u001b[0;32mC:\\ProgramData\\Anaconda3\\lib\\site-packages\\pandas\\indexes\\base.py\u001b[0m in \u001b[0;36mget_value\u001b[0;34m(self, series, key)\u001b[0m\n\u001b[1;32m   2167\u001b[0m         \u001b[1;32mtry\u001b[0m\u001b[1;33m:\u001b[0m\u001b[1;33m\u001b[0m\u001b[0m\n\u001b[1;32m   2168\u001b[0m             return self._engine.get_value(s, k,\n\u001b[0;32m-> 2169\u001b[0;31m                                           tz=getattr(series.dtype, 'tz', None))\n\u001b[0m\u001b[1;32m   2170\u001b[0m         \u001b[1;32mexcept\u001b[0m \u001b[0mKeyError\u001b[0m \u001b[1;32mas\u001b[0m \u001b[0me1\u001b[0m\u001b[1;33m:\u001b[0m\u001b[1;33m\u001b[0m\u001b[0m\n\u001b[1;32m   2171\u001b[0m             \u001b[1;32mif\u001b[0m \u001b[0mlen\u001b[0m\u001b[1;33m(\u001b[0m\u001b[0mself\u001b[0m\u001b[1;33m)\u001b[0m \u001b[1;33m>\u001b[0m \u001b[1;36m0\u001b[0m \u001b[1;32mand\u001b[0m \u001b[0mself\u001b[0m\u001b[1;33m.\u001b[0m\u001b[0minferred_type\u001b[0m \u001b[1;32min\u001b[0m \u001b[1;33m[\u001b[0m\u001b[1;34m'integer'\u001b[0m\u001b[1;33m,\u001b[0m \u001b[1;34m'boolean'\u001b[0m\u001b[1;33m]\u001b[0m\u001b[1;33m:\u001b[0m\u001b[1;33m\u001b[0m\u001b[0m\n",
      "\u001b[0;32mpandas\\index.pyx\u001b[0m in \u001b[0;36mpandas.index.IndexEngine.get_value (pandas\\index.c:3557)\u001b[0;34m()\u001b[0m\n",
      "\u001b[0;32mpandas\\index.pyx\u001b[0m in \u001b[0;36mpandas.index.IndexEngine.get_value (pandas\\index.c:3240)\u001b[0;34m()\u001b[0m\n",
      "\u001b[0;32mpandas\\index.pyx\u001b[0m in \u001b[0;36mpandas.index.IndexEngine.get_loc (pandas\\index.c:4363)\u001b[0;34m()\u001b[0m\n",
      "\u001b[0;31mKeyError\u001b[0m: 'Software'"
     ]
    }
   ],
   "source": [
    "values = [df[industry].value_counts()[1] for industry in industries]\n",
    "values = sorted(values,reverse=True)\n",
    "print(values)\n",
    "names = [\"Software\", \"Internet Services\", \"Media & Entertainment\", \"Commerce\", \"Mobile\", \"Sales & Marketing\", \"Information Technology\", \"Health Care\", \"Hardware\", \"Financial Services\"]\n",
    "sns.barplot(x = values, y = names, order = names)"
   ]
  },
  {
   "cell_type": "markdown",
   "metadata": {},
   "source": [
    "[SKEW BY FEATURE (GROUPED BY WHETHER ZEROS-REMOVED)]"
   ]
  },
  {
   "cell_type": "code",
   "execution_count": null,
   "metadata": {
    "collapsed": false
   },
   "outputs": [],
   "source": [
    "X.apply(lambda x: stats.skew(x, nan_policy=\"omit\")).astype(float).plot(kind=\"kde\", label=\"Skew\", xlim=(-20, 40))\n",
    "X.replace(0, np.nan).apply(lambda x: stats.skew(x, nan_policy=\"omit\")).astype(float).plot(kind=\"kde\", label=\"Skew\")"
   ]
  },
  {
   "cell_type": "markdown",
   "metadata": {},
   "source": [
    "[KURTOSIS  BY FEATURE (GROUPED BY WHETHER ZEROS-REMOVED)]"
   ]
  },
  {
   "cell_type": "code",
   "execution_count": null,
   "metadata": {
    "collapsed": false
   },
   "outputs": [],
   "source": [
    "X.apply(lambda x: stats.kurtosis(x, nan_policy=\"omit\")).astype(float).plot(kind=\"kde\", label=\"Skew\", xlim=(-200, 400))\n",
    "X.replace(0, np.nan).apply(lambda x: stats.kurtosis(x, nan_policy=\"omit\")).astype(float).plot(kind=\"kde\", label=\"Skew\")"
   ]
  },
  {
   "cell_type": "markdown",
   "metadata": {},
   "source": [
    "[BOXPLOT OF FEATURES]"
   ]
  },
  {
   "cell_type": "code",
   "execution_count": null,
   "metadata": {
    "collapsed": false
   },
   "outputs": [],
   "source": [
    "X.apply(lambda x: stats.iqr(x, nan_policy=\"omit\")).astype(float).plot(kind=\"kde\", label=\"IQR\", xlim=(0, 5e8))\n",
    "X.replace(0, np.nan).apply(lambda x: stats.iqr(x, nan_policy=\"omit\")).astype(float).plot(kind=\"kde\", label=\"IQR\", xlim=(0, 5e8))"
   ]
  },
  {
   "cell_type": "markdown",
   "metadata": {},
   "source": [
    "[COVARIANCE MATRIX]"
   ]
  },
  {
   "cell_type": "code",
   "execution_count": null,
   "metadata": {
    "collapsed": false
   },
   "outputs": [],
   "source": [
    "#sns.heatmap(X.corr(), square=True, xticklabels =False, yticklabels=False, vmin=0.5)\n",
    "#pd.DataFrame(np.where(abs(X.corr().stack()) <= 1, True, False)).stack().value_counts()\n",
    "corrs = {thresh/10: pd.DataFrame(np.where(abs(X.corr().stack()) >= thresh/10, True, False)).stack().value_counts(normalize=True)[True] for thresh in range(0, 11)}\n",
    "ax = pd.DataFrame.from_dict(data=corrs, orient=\"index\").plot(kind=\"line\")\n",
    "\n",
    "corrs = {thresh/10: pd.DataFrame(np.where(abs(X.replace(0, np.nan).corr().stack()) >= thresh/10, True, False)).stack().value_counts(normalize=True)[True] for thresh in range(0, 11)}\n",
    "pd.DataFrame.from_dict(data=corrs, orient=\"index\").plot(kind=\"line\",ax=ax)"
   ]
  },
  {
   "cell_type": "markdown",
   "metadata": {},
   "source": [
    "# 3.2 Pre-Processing"
   ]
  },
  {
   "cell_type": "markdown",
   "metadata": {},
   "source": [
    "## 3.2.1 Imputation"
   ]
  },
  {
   "cell_type": "markdown",
   "metadata": {},
   "source": [
    "(!) Figure 3. Number of missing features per observation (histogram)."
   ]
  },
  {
   "cell_type": "code",
   "execution_count": null,
   "metadata": {
    "collapsed": false
   },
   "outputs": [],
   "source": [
    "g = sns.distplot(df[\"keys_missing_features\"], bins=100, kde=False)\n",
    "g.set(xlim = (0,None))"
   ]
  },
  {
   "cell_type": "markdown",
   "metadata": {},
   "source": [
    "(!) Figure 3. Number of missing observations per feature (histogram)."
   ]
  },
  {
   "cell_type": "code",
   "execution_count": null,
   "metadata": {
    "collapsed": false
   },
   "outputs": [],
   "source": [
    "missing_by_col =  X.isnull().sum(axis=0)\n",
    "g = sns.distplot(missing_by_col, bins=100, kde=False)\n",
    "g.set(xlim = (0,None))"
   ]
  },
  {
   "cell_type": "markdown",
   "metadata": {},
   "source": [
    "Figure 3. Mean, median and mode of features (grouped bar plot)."
   ]
  },
  {
   "cell_type": "code",
   "execution_count": null,
   "metadata": {
    "collapsed": false
   },
   "outputs": [],
   "source": [
    "means_by_col = X.mean(axis=0)#.dropna()\n",
    "means_by_col.plot(kind=\"kde\", label=\"Mean\")\n",
    "\n",
    "medians_by_col = X.median(axis=0)#.dropna()\n",
    "medians_by_col.plot(kind=\"kde\", label=\"Median\")\n",
    "\n",
    "modes_by_col = X.mode(axis=0).T[0]\n",
    "modes_by_col.plot(kind=\"kde\",label=\"Mode\")"
   ]
  },
  {
   "cell_type": "markdown",
   "metadata": {},
   "source": [
    "Figure 3. ROC Curve for different imputations - mean, median, mode (line plot)."
   ]
  },
  {
   "cell_type": "code",
   "execution_count": null,
   "metadata": {
    "collapsed": true
   },
   "outputs": [],
   "source": []
  },
  {
   "cell_type": "markdown",
   "metadata": {},
   "source": [
    "## 3.2.2 Transformation"
   ]
  },
  {
   "cell_type": "markdown",
   "metadata": {},
   "source": [
    "--> Apply Imputation"
   ]
  },
  {
   "cell_type": "code",
   "execution_count": null,
   "metadata": {
    "collapsed": false
   },
   "outputs": [],
   "source": [
    "from sklearn.preprocessing import Imputer\n",
    "\n",
    "X = X.dropna(axis=1, how = \"all\")\n",
    "imp = Imputer(strategy=\"median\")\n",
    "X_imp = imp.fit_transform(X)\n",
    "X_imp = pd.DataFrame(X_imp, index=X.index, columns=list(X))"
   ]
  },
  {
   "cell_type": "markdown",
   "metadata": {},
   "source": [
    "--> Shift to positive numbers only"
   ]
  },
  {
   "cell_type": "code",
   "execution_count": null,
   "metadata": {
    "collapsed": false
   },
   "outputs": [],
   "source": [
    "mins_by_col = X_imp.min(axis=0)#.dropna()\n",
    "mins_by_col.plot(kind=\"kde\", label=\"Minimum\")"
   ]
  },
  {
   "cell_type": "code",
   "execution_count": null,
   "metadata": {
    "collapsed": false
   },
   "outputs": [],
   "source": [
    "X_pos = X_imp.subtract(X_imp.min(axis=0))\n",
    "X_pos.describe()"
   ]
  },
  {
   "cell_type": "markdown",
   "metadata": {},
   "source": [
    "--> Start transformations"
   ]
  },
  {
   "cell_type": "code",
   "execution_count": null,
   "metadata": {
    "collapsed": false
   },
   "outputs": [],
   "source": [
    "funding = X_pos[\"confidence_validation_funding_raised_value_total_number\"]\n",
    "\n",
    "figure = plt.figure()\n",
    "\n",
    "ax0 = plt.subplot(151)\n",
    "funding.plot(kind=\"hist\", bins=100)\n",
    "plt.title(\"Original - No Transformation\") \n",
    "print(\"Skewness (Original): {0:.2f}\".format(stats.skew(funding))) \n",
    "\n",
    "figure.add_subplot(152, sharey=ax0)\n",
    "boxcox = pd.Series(stats.boxcox(funding + 1)[0], index=X_pos.index)\n",
    "boxcox.plot(kind=\"hist\", bins=100)\n",
    "plt.title(\"BoxCox Transformation\") \n",
    "print(\"Skewness (BoxCox): {0:.2f}\".format(stats.skew(boxcox))) \n",
    "\n",
    "figure.add_subplot(153, sharey=ax0)\n",
    "log1p = pd.Series(np.log1p(funding), index=X_pos.index)\n",
    "log1p.plot(kind=\"hist\", bins=100)\n",
    "plt.title(\"Log1P Transformation\") \n",
    "print(\"Skewness (Log1P): {0:.2f}\".format(stats.skew(log1p)))\n",
    "\n",
    "figure.add_subplot(154, sharey=ax0)\n",
    "sqrt = pd.Series(funding**(1/2), index=X_pos.index)\n",
    "sqrt.plot(kind=\"hist\", bins=100)\n",
    "plt.title(\"SQRT Transformation\") \n",
    "print(\"Skewness (SQRT): {0:.2f}\".format(stats.skew(sqrt)))\n",
    "\n",
    "from sklearn.preprocessing import binarize\n",
    "\n",
    "figure.add_subplot(155, sharey=ax0)\n",
    "binary = pd.Series(np.where(funding == 0, 0, 1), index=X_pos.index)\n",
    "binary.plot(kind=\"hist\", bins=100)\n",
    "plt.title(\"Binary Transformation\") \n",
    "print(\"Skewness (Binary): {0:.2f}\".format(stats.skew(binary)))"
   ]
  },
  {
   "cell_type": "markdown",
   "metadata": {},
   "source": [
    "--> Apply transformations"
   ]
  },
  {
   "cell_type": "code",
   "execution_count": null,
   "metadata": {
    "collapsed": true
   },
   "outputs": [],
   "source": [
    "from sklearn.preprocessing import FunctionTransformer\n",
    "\n",
    "ft = FunctionTransformer(np.log1p)\n",
    "X_tf = ft.fit_transform(X_pos)\n",
    "X_tf = pd.DataFrame(X_tf, index=X_pos.index, columns=list(X_pos))"
   ]
  },
  {
   "cell_type": "markdown",
   "metadata": {},
   "source": [
    "--> Start scaling"
   ]
  },
  {
   "cell_type": "code",
   "execution_count": null,
   "metadata": {
    "collapsed": false
   },
   "outputs": [],
   "source": [
    "from sklearn.preprocessing import scale, robust_scale, minmax_scale\n",
    "\n",
    "funding = X_tf[\"confidence_validation_funding_raised_value_total_number\"]\n",
    "\n",
    "figure = plt.figure()\n",
    "\n",
    "ax0 = plt.subplot(151)\n",
    "funding.plot(kind=\"hist\", bins=100)\n",
    "plt.title(\"Original - No Transformation\") \n",
    "print(\"Median: {}, IQR: {}\".format(funding.median(), stats.iqr(funding)))\n",
    "\n",
    "figure.add_subplot(152, sharey=ax0)\n",
    "funding_std = pd.Series(scale(funding), index=X_pos.index)\n",
    "funding_std.plot(kind=\"hist\", bins=100)\n",
    "plt.title(\"Standard Scaling\") \n",
    "print(\"Median: {}, IQR: {}\".format(funding_std.median(), stats.iqr(funding_std)))\n",
    "\n",
    "\n",
    "figure.add_subplot(153, sharey=ax0)\n",
    "funding_robust = pd.Series(robust_scale(funding), index=X_pos.index)\n",
    "funding_robust.plot(kind=\"hist\", bins=100)\n",
    "plt.title(\"Robust Scaling\") \n",
    "print(\"Median: {}, IQR: {}\".format(funding_robust.median(), stats.iqr(funding_robust)))\n",
    "\n",
    "\n",
    "figure.add_subplot(154, sharey=ax0)\n",
    "funding_mm = pd.Series(minmax_scale(funding), index=X_pos.index)\n",
    "funding_mm.plot(kind=\"hist\", bins=100)\n",
    "plt.title(\"Min Max Scaling\") \n",
    "print(\"Median: {}, IQR: {}\".format(funding_mm.median(), stats.iqr(funding_mm)))"
   ]
  },
  {
   "cell_type": "markdown",
   "metadata": {},
   "source": [
    "--> Apply scaling"
   ]
  },
  {
   "cell_type": "code",
   "execution_count": null,
   "metadata": {
    "collapsed": true
   },
   "outputs": [],
   "source": [
    "from sklearn.preprocessing import scale\n",
    "\n",
    "X_std = scale(X_tf)\n",
    "X_std = pd.DataFrame(X_std, index=X_tf.index, columns=list(X_tf))"
   ]
  },
  {
   "cell_type": "markdown",
   "metadata": {},
   "source": [
    "## 3.2.3 Extraction"
   ]
  },
  {
   "cell_type": "markdown",
   "metadata": {},
   "source": [
    "PCA Model"
   ]
  },
  {
   "cell_type": "code",
   "execution_count": null,
   "metadata": {
    "collapsed": false
   },
   "outputs": [],
   "source": [
    "#Principal Components Analysis (PCA)\n",
    "from sklearn.decomposition import PCA\n",
    "\n",
    "def screeplot(pca, X):\n",
    "    y = pca.explained_variance_\n",
    "    x = np.arange(len(y)) + 1\n",
    "    plt.plot(x, y)\n",
    "    plt.ylabel(\"Eigenvalue\")\n",
    "    plt.xlabel(\"Component Number\")\n",
    "    plt.xlim(1,None)\n",
    "    return y\n",
    "\n",
    "pca = PCA().fit(X_std)\n",
    "eigenvalues = screeplot(pca,X_std)"
   ]
  },
  {
   "cell_type": "markdown",
   "metadata": {},
   "source": [
    "Grouped"
   ]
  },
  {
   "cell_type": "code",
   "execution_count": null,
   "metadata": {
    "collapsed": false
   },
   "outputs": [],
   "source": [
    "from collections import defaultdict\n",
    "from itertools import combinations\n",
    "\n",
    "features = list(X_std)\n",
    "f_map = {x: '_'.join(x.split(\"_\")[:3]) for x in features}\n",
    "f_group = defaultdict(list)\n",
    "for f,g in f_map.items():\n",
    "    f_group[g].append(f)\n",
    "agg_group = {}\n",
    "for g,l in f_group.items():\n",
    "    combo = combinations(l, 2)\n",
    "    for x,y in combo:\n",
    "        corr = stats.spearmanr(X_std[x][:100], X_std[y][:100])[0]\n",
    "        if corr < 0: X_std[y] *= -1\n",
    "    tot = X_std[l].sum(axis=1)\n",
    "    agg_group[g] = tot\n",
    "X_grp = pd.DataFrame(agg_group)\n",
    "grp_corr = X_grp.corr(method=\"spearman\")\n",
    "mask = np.zeros_like(grp_corr)\n",
    "mask[np.triu_indices_from(mask)] = True\n",
    "f_names = [x.split(\"_\")[2] for x in list(X_grp)]\n",
    "ax = sns.heatmap(grp_corr,square=True, mask=mask, xticklabels=f_names, yticklabels=f_names)\n",
    "ax.invert_yaxis()"
   ]
  },
  {
   "cell_type": "code",
   "execution_count": null,
   "metadata": {
    "collapsed": false
   },
   "outputs": [],
   "source": [
    "pca = PCA().fit(X_grp)\n",
    "eigenvalues = screeplot(pca,X_grp)"
   ]
  },
  {
   "cell_type": "markdown",
   "metadata": {},
   "source": [
    "# 3.3 Classification"
   ]
  },
  {
   "cell_type": "markdown",
   "metadata": {},
   "source": [
    "# 3.4 Experimentation"
   ]
  },
  {
   "cell_type": "markdown",
   "metadata": {},
   "source": [
    "## 3.4.2 Robustness"
   ]
  },
  {
   "cell_type": "markdown",
   "metadata": {},
   "source": [
    "## 3.4.3 Predictive Power"
   ]
  },
  {
   "cell_type": "markdown",
   "metadata": {
    "collapsed": true
   },
   "source": [
    "Table 3.5 Comparison of 2013 slice from 2016 dataset with original 2013 dataset."
   ]
  },
  {
   "cell_type": "code",
   "execution_count": null,
   "metadata": {
    "collapsed": true
   },
   "outputs": [],
   "source": []
  }
 ],
 "metadata": {
  "kernelspec": {
   "display_name": "Python 3",
   "language": "python",
   "name": "python3"
  },
  "language_info": {
   "codemirror_mode": {
    "name": "ipython",
    "version": 3
   },
   "file_extension": ".py",
   "mimetype": "text/x-python",
   "name": "python",
   "nbconvert_exporter": "python",
   "pygments_lexer": "ipython3",
   "version": "3.6.0"
  }
 },
 "nbformat": 4,
 "nbformat_minor": 2
}

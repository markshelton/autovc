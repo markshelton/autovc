{
 "cells": [
  {
   "cell_type": "markdown",
   "metadata": {},
   "source": [
    "# 3.1 Data Preparation"
   ]
  },
  {
   "cell_type": "code",
   "execution_count": 73,
   "metadata": {
    "collapsed": false
   },
   "outputs": [],
   "source": [
    "#setup path\n",
    "path = 'C:/Users/mark/Documents/GitHub/honours/dev/package/'\n",
    "import sys; sys.path.append(path)\n",
    "\n",
    "#standard imports\n",
    "import numpy as np\n",
    "import pandas as pd\n",
    "import datetime\n",
    "from scipy import stats\n",
    "from collections import OrderedDict, defaultdict\n",
    "import math\n",
    "from datetime import date, timedelta\n",
    "from itertools import chain, combinations_with_replacement\n",
    "from functools import partial\n",
    "\n",
    "#third party imports\n",
    "from IPython.core.interactiveshell import InteractiveShell\n",
    "import matplotlib.pyplot as plt\n",
    "import matplotlib.dates as md\n",
    "import matplotlib\n",
    "import matplotlib.ticker as ticker\n",
    "from matplotlib import rcParams\n",
    "import seaborn as sns\n",
    "from sklearn import metrics\n",
    "from sklearn.preprocessing import Imputer\n",
    "\n",
    "#local imports\n",
    "import analysis.dataPreparer as dp\n",
    "import analysis.autoVC2 as vc"
   ]
  },
  {
   "cell_type": "code",
   "execution_count": 74,
   "metadata": {
    "collapsed": false
   },
   "outputs": [],
   "source": [
    "#setup\n",
    "%matplotlib inline\n",
    "\n",
    "TINY_SIZE = 12\n",
    "SMALL_SIZE = 16\n",
    "MEDIUM_SIZE = 20\n",
    "BIGGER_SIZE = 30\n",
    "\n",
    "plt.style.use(['seaborn-white', 'seaborn-paper'])\n",
    "sns.set_palette(\"colorblind\")\n",
    "rcParams['font.family'] = 'serif' \n",
    "rcParams['font.serif'] = 'CMU Serif' \n",
    "rcParams['font.weight'] = 'bold'\n",
    "rcParams['font.size'] = SMALL_SIZE #default font size\n",
    "rcParams['axes.titlesize'] =SMALL_SIZE   # fontsize of the axes title\n",
    "rcParams['axes.labelsize'] =MEDIUM_SIZE    # fontsize of the x and y labels\n",
    "rcParams['xtick.labelsize'] =SMALL_SIZE    # fontsize of the tick labels\n",
    "rcParams['ytick.labelsize'] =SMALL_SIZE   # fontsize of the tick labels\n",
    "rcParams['legend.fontsize'] =SMALL_SIZE    # legend fontsize\n",
    "rcParams['figure.titlesize'] =BIGGER_SIZE  # fontsize of the figure title\n",
    "rcParams['figure.figsize'] = (8,4)\n",
    "pd.set_option('precision',3)\n",
    "outline_bars = dict(linewidth = 1.25, edgecolor = '.15')\n",
    "\n",
    "save_path = r\"C:/Users/mark/Documents/GitHub/honours/submissions/thesis-original/figures/design/\"\n",
    "evaluation_path = r\"C:/Users/mark/Documents/GitHub/honours/submissions/thesis-original/figures/evaluation/\""
   ]
  },
  {
   "cell_type": "code",
   "execution_count": 75,
   "metadata": {
    "collapsed": true
   },
   "outputs": [],
   "source": [
    "def auto_label(ax, fmt='{:,.0f}'):\n",
    "    ymax_old = ax.get_ylim()[1]\n",
    "    ax.set_ylim(ymax= ax.get_ylim()[1] * 1.1)\n",
    "    for p in ax.patches:\n",
    "        height = p.get_height()\n",
    "        ax.text(\n",
    "            x=p.get_x()+p.get_width()/2.,\n",
    "            y=np.nanmax([height,0]) + ymax_old * 0.02,\n",
    "            s=fmt.format(np.nanmax([height,0])),\n",
    "            ha=\"center\")\n",
    "    ax.yaxis.set_ticks([])"
   ]
  },
  {
   "cell_type": "code",
   "execution_count": 76,
   "metadata": {
    "collapsed": true
   },
   "outputs": [],
   "source": [
    "def add_vertical_line(ax, value, label, color, linestyle=\"dashed\"):\n",
    "    ax.axvline(value, linestyle=linestyle, color=color)\n",
    "    x_bounds = ax.get_xlim()\n",
    "    xy_pos = (((value-x_bounds[0])/(x_bounds[1]-x_bounds[0])),1.01)\n",
    "    ax.annotate(s=label, xy =xy_pos, xycoords='axes fraction', verticalalignment='right', horizontalalignment='right bottom', color=color)"
   ]
  },
  {
   "cell_type": "code",
   "execution_count": 77,
   "metadata": {
    "collapsed": true
   },
   "outputs": [],
   "source": [
    "def add_horizontal_line(ax, value, label, color, linestyle=\"dashed\"):\n",
    "    ax.axhline(value, linestyle=linestyle, color=color)\n",
    "    y_bounds = ax.get_ylim()\n",
    "    xy_pos = (1.01,((value-y_bounds[0])/(y_bounds[1]-y_bounds[0])))\n",
    "    ax.annotate(s=label, xy =xy_pos, xycoords='axes fraction', verticalalignment='right', horizontalalignment='right bottom', color=color)"
   ]
  },
  {
   "cell_type": "code",
   "execution_count": 78,
   "metadata": {
    "collapsed": true
   },
   "outputs": [],
   "source": [
    "def add_boxplot_labels(ax, labels, color=\"black\"):\n",
    "    y_bounds = ax.get_ylim()\n",
    "    for value, label in enumerate(labels):\n",
    "        xy_pos = (1.01,((value-y_bounds[0] + 0.15)/(y_bounds[1]-y_bounds[0])))\n",
    "        ax.annotate(s=label, xy =xy_pos, size=TINY_SIZE, xycoords='axes fraction', verticalalignment='right', horizontalalignment='right bottom', color=color)"
   ]
  },
  {
   "cell_type": "code",
   "execution_count": 79,
   "metadata": {
    "collapsed": true
   },
   "outputs": [],
   "source": [
    "def get_results(build, stage):\n",
    "    \n",
    "    def split_date(x):\n",
    "        return date(*map(int, x.split(\"-\")))\n",
    "    \n",
    "    df = pd.read_pickle(r\"C:\\Users\\mark\\Documents\\GitHub\\honours\\dev\\package\\analysis\\output\\autoVC\\{}\\{}\\log_results.pkl\".format(build, stage))\n",
    "    df = df.reset_index()\n",
    "    try: df[\"Time\"] = pd.to_numeric(df[\"mean_fit_time\"],errors=\"coerce\")\n",
    "    except: print(\"Error: Time\")\n",
    "    try: df[\"Imputer\"] = df[\"param_imputer__strategy\"].map({\"most_frequent\": \"Mode\", \"median\": \"Median\", \"mean\": \"Mean\"})\n",
    "    except: print(\"Error: Imputer\")\n",
    "    try: df[\"Transformer\"] = df[\"param_transformer__func\"].astype(str).map({\"None\":\"None\",\"<ufunc 'sqrt'>\":\"SQRT\",\"<ufunc 'log1p'>\": \"Log1P\"})\n",
    "    except: print(\"Error: Transformer\")\n",
    "    try: df[\"Scaler\"] = df['param_scaler'].apply(lambda x: str(x).split(\"(\")[0])\n",
    "    except: print(\"Error: Scaler\")\n",
    "    try: \n",
    "        df[\"param_extractor__n_components_bin_20\"] = df[\"param_extractor__n_components\"] // 20\n",
    "        df[\"Extractor\"]=df['param_extractor__n_components_bin_20'].map({0 : \"1-20\", 1 : \"21-40\", 2: \"41-60\",3: \"61-80\", 4: \"81-100\"})\n",
    "    except: print(\"Error: Extractor\")\n",
    "    try: \n",
    "        df[\"Classifier\"] = df[\"Classifier\"].apply(lambda x: str(x).split(\"(\")[0])\n",
    "        df[\"Classifier\"]=df['Classifier'].map({\"LogisticRegression\": \"Logistic Regression\", \"RandomForestClassifier\":\"Random Forest\", \"DecisionTreeClassifier\": \"Decision Tree\", \"GaussianNB\": \"Naive Bayes\", \"MLPClassifier\": \"Artificial Neural Network\", \"KNeighborsClassifier\": \"K-Nearest Neighbors\", \"CalibratedClassifierCV\": \"Support Vector Machine\"})\n",
    "    except: print(\"Error: Classifier\")\n",
    "    try:\n",
    "        df[\"label_date\"] = df[\"label_slice\"]\n",
    "        df[\"label_date_str\"] = df[\"label_date\"].astype(str)\n",
    "        df[\"feature_date\"] = df[\"feature_slice\"]\n",
    "        df[\"feature_date_str\"] = df[\"feature_date\"].astype(str)\n",
    "        df[\"forecast_window\"] =  df[\"label_date\"] - df[\"feature_date\"]\n",
    "        df[\"forecast_window_months\"] = df[\"forecast_window\"].apply(lambda x: x.days // 30)\n",
    "    except: print(\"Error: Dates\")\n",
    "    try:\n",
    "        df[\"outcome_chance\"] = df[\"outcome_extra_stage_bool\"].ix[0].value_counts(normalize=True)[1]\n",
    "    except: print(\"Error: Outcome\")\n",
    "    df[\"Params_str\"] = df[\"Params\"].astype(str)\n",
    "    return df"
   ]
  },
  {
   "cell_type": "code",
   "execution_count": 80,
   "metadata": {
    "collapsed": false
   },
   "outputs": [],
   "source": [
    "def create_stages(df, **features):\n",
    "    df2 = df.copy()\n",
    "    df2[\"keys_company_stage\"] = \"Other\"\n",
    "    df2[\"keys_company_stage\"] = np.where((df2[\"keys_company_stage\"] == \"Other\") & (df2[features[\"Closed\"]] >= 1), \"Closed\", df2[\"keys_company_stage\"])\n",
    "    df2[\"keys_company_stage\"] = np.where((df2[\"keys_company_stage\"] == \"Other\") & (df2[features[\"Acquired\"]] >= 1), \"Acquired\", df2[\"keys_company_stage\"])\n",
    "    df2[\"keys_company_stage\"] = np.where((df2[\"keys_company_stage\"] == \"Other\") & (df2[features[\"IPO\"]] >= 1), \"IPO\", df2[\"keys_company_stage\"])\n",
    "    df2[\"keys_company_stage_series-d+\"] = df2[[features[\"SeriesD\"],features[\"SeriesE\"],features[\"SeriesF\"],features[\"SeriesG\"],features[\"SeriesH\"]]].sum(axis=1)\n",
    "    df2[\"keys_company_stage\"] = np.where((df2[\"keys_company_stage\"] == \"Other\") & (df2[\"keys_company_stage_series-d+\"] >= 1), \"Series D+\", df2[\"keys_company_stage\"])\n",
    "    df2[\"keys_company_stage\"] = np.where((df2[\"keys_company_stage\"] == \"Other\") & (df2[features[\"SeriesC\"]] >= 1), \"Series C\", df2[\"keys_company_stage\"])\n",
    "    df2[\"keys_company_stage\"] = np.where((df2[\"keys_company_stage\"] == \"Other\") & (df2[features[\"SeriesB\"]] >= 1), \"Series B\", df2[\"keys_company_stage\"])\n",
    "    df2[\"keys_company_stage\"] = np.where((df2[\"keys_company_stage\"] == \"Other\") & (df2[features[\"SeriesA\"]] >= 1), \"Series A\", df2[\"keys_company_stage\"])\n",
    "    df2[\"keys_company_stage\"] = np.where((df2[\"keys_company_stage\"] == \"Other\") & (df2[features[\"FundingRaised\"]] >= 0), \"Seed\", df2[\"keys_company_stage\"])\n",
    "    age_new_cutoff = df2[features[\"Age\"]][df2[\"keys_company_stage\"] == \"Seed\"].quantile(0.75)\n",
    "    df2[\"keys_company_stage\"] = np.where((df2[\"keys_company_stage\"] == \"Other\") & (df2[features[\"Age\"]] <= age_new_cutoff), \"Pre-Seed\", df2[\"keys_company_stage\"])\n",
    "    group_stages = {\"Other\" : \"Excluded\", \"Closed\" : \"Excluded\", \"IPO\" : \"Excluded\", \"Acquired\" : \"Excluded\", \"Pre-Seed\" : \"Included\",\n",
    "        \"Seed\" : \"Included\", \"Series A\" : \"Included\", \"Series B\" : \"Included\", \"Series C\" : \"Included\", \"Series D+\" : \"Included\"}\n",
    "    df2[\"keys_company_stage_group\"] = df2[\"keys_company_stage\"].map(group_stages)\n",
    "    ordinal_stages = {\"Pre-Seed\" : 1, \"Seed\" : 2, \"Series A\" : 3, \"Series B\" : 4, \"Series C\" : 5, \"Series D+\" : 6,\"Other\" : np.nan, \"Closed\" : -1, \"IPO\" : 7, \"Acquired\" : 8}\n",
    "    df2[\"keys_company_stage_number\"] = df2[\"keys_company_stage\"].map(ordinal_stages)\n",
    "    return df2[[\"keys_company_stage_group\", \"keys_company_stage\",\"keys_company_stage_number\"]]"
   ]
  },
  {
   "cell_type": "code",
   "execution_count": 81,
   "metadata": {
    "collapsed": true
   },
   "outputs": [],
   "source": [
    "def get_feature_values(df, total=\"Y_Pred\"):\n",
    "    \n",
    "    def listify(col):\n",
    "        if type(col.ix[0]) not in [list, np.ndarray, np.array, pd.Series]: \n",
    "            return col.apply(lambda x: [x])\n",
    "        else: return col\n",
    "    \n",
    "    def multip(row):\n",
    "        for col in row.index:\n",
    "            if col != \"total\" and type(row[col]) is list and len(row[col]) != row[\"total\"][0]:\n",
    "                row[col] = row[col] * row[\"total\"][0]\n",
    "        return row\n",
    "\n",
    "    df[\"total\"] = df[total].apply(len)\n",
    "    df = df.apply(listify, axis=0)\n",
    "    df = df.apply(multip, axis=1)\n",
    "    df = df.drop(\"total\",axis=1)\n",
    "    df = df.apply(lambda x: list(chain.from_iterable(x)),axis=0)\n",
    "    df = df.apply(pd.Series).T\n",
    "    return df"
   ]
  },
  {
   "cell_type": "code",
   "execution_count": 82,
   "metadata": {
    "collapsed": true
   },
   "outputs": [],
   "source": [
    "def feature_function(df, func, group=None):\n",
    "    df[[\"Y_Pred\",\"Y_True\"]] = df[[\"Y_Pred\",\"Y_True\"]].astype(int)\n",
    "    if group: return df.groupby(group).apply(lambda x: func(x[\"Y_True\"], x[\"Y_Pred\"]))\n",
    "    else: return func(df[\"Y_True\"], df[\"Y_Pred\"])"
   ]
  },
  {
   "cell_type": "code",
   "execution_count": 83,
   "metadata": {
    "collapsed": false
   },
   "outputs": [],
   "source": [
    "def plot_learning_curve2(df, ax = None, group = None, target = None, multiple=False):\n",
    "\n",
    "    def prepare_scores(df):\n",
    "        df = df[[\"Test_Scores\", \"Train_Scores\", \"Train_Sizes\"]].apply(lambda x: list(chain.from_iterable(x)))\n",
    "        df = df.apply(pd.Series).T\n",
    "        df = df.apply(lambda x: [x.tolist()],axis=0)\n",
    "        return df\n",
    "    \n",
    "    def concat_lists(series):\n",
    "        return np.array(list(zip(*[element for list_ in [np.array(list(zip(*list_))) for list_ in series] for element in list_])))\n",
    "    \n",
    "    def func_across_dims(l, func):\n",
    "        output = []\n",
    "        for suba in l:\n",
    "            output.append(func(suba))\n",
    "        return np.array(output)\n",
    "    \n",
    "    df = prepare_scores(df)\n",
    "    \n",
    "    if ax is None: ax = plt.gca()\n",
    "    \n",
    "    if group and target:\n",
    "        test_scores = concat_lists(df.loc[df[group] == target][\"Test_Scores\"])\n",
    "        train_scores = concat_lists(df.loc[df[group] == target][\"Train_Scores\"])\n",
    "        train_sizes = np.array(df.loc[df[group] == target][\"Train_Sizes\"]).squeeze()\n",
    "        ax.set_title(\"{}\".format(target))\n",
    "    else:\n",
    "        test_scores = concat_lists(df[\"Test_Scores\"])\n",
    "        train_scores = concat_lists(df[\"Train_Scores\"])\n",
    "        train_sizes = np.array(df[\"Train_Sizes\"]).squeeze()\n",
    "        \n",
    "    dic_test = defaultdict(partial(np.ndarray, 0))\n",
    "    dic_train = defaultdict(partial(np.ndarray, 0))\n",
    "    scores = list(zip(test_scores, train_scores))\n",
    "    for i, size in enumerate(train_sizes):\n",
    "        dic_test[size] = np.append(dic_test[size], test_scores[i])\n",
    "        dic_train[size] = np.append(dic_train[size], train_scores[i])\n",
    "    train_sizes = []\n",
    "    test_scores = []\n",
    "    train_scores = []\n",
    "    for size in sorted(dic_test):\n",
    "        train_sizes.append(size)\n",
    "        test_scores.append(dic_test[size])\n",
    "        train_scores.append(dic_train[size])\n",
    "\n",
    "    train_sizes = np.array(train_sizes)\n",
    "    test_scores = np.array(test_scores)\n",
    "    train_scores = np.array(train_scores)\n",
    "        \n",
    "    train_scores_mean = func_across_dims(train_scores, np.mean)# np.mean(train_scores, axis=1)\n",
    "    train_scores_std = func_across_dims(train_scores, np.std) #np.std(train_scores,axis=1)\n",
    "    test_scores_mean = func_across_dims(test_scores, np.mean) #np.mean(test_scores, axis=1)\n",
    "    test_scores_std = func_across_dims(test_scores, np.std) #np.std(test_scores, axis=1)\n",
    "\n",
    "    ax.fill_between(train_sizes, train_scores_mean - train_scores_std,\n",
    "                     train_scores_mean + train_scores_std, alpha=0.1, color=\"blue\")\n",
    "    ax.fill_between(train_sizes, test_scores_mean - test_scores_std,\n",
    "                     test_scores_mean + test_scores_std, alpha=0.1, color=\"green\")\n",
    "    a, = ax.plot(train_sizes, train_scores_mean, 'o-', color=\"blue\", label=\"Training score\")\n",
    "    b, = ax.plot(train_sizes, test_scores_mean, 'o-', color=\"green\", label=\"Cross-validation score\")        \n",
    "    \n",
    "    ax.grid()\n",
    "    ax.set_ylim(ymin=0, ymax=1)\n",
    "    ax.set_xticklabels([\"{:,.0f}\".format(xtick) for xtick in ax.get_xticks().tolist()])\n",
    "    if not multiple: plt.legend()\n",
    "    \n",
    "    return (a,b)\n",
    "    "
   ]
  },
  {
   "cell_type": "code",
   "execution_count": 84,
   "metadata": {
    "collapsed": false
   },
   "outputs": [],
   "source": [
    "def plot_learning_curve(df, ax = None, group = None, target = None, multiple=False):\n",
    "    \n",
    "    def concat_lists(series):\n",
    "        return np.array(list(zip(*[element for list_ in [np.array(list(zip(*list_))) for list_ in series] for element in list_])))\n",
    "\n",
    "    if not ax: ax = plt.gca()\n",
    "    \n",
    "    if group and target:\n",
    "        test_scores = concat_lists(df.loc[df[group] == target][\"Test_Scores\"])\n",
    "        train_scores = concat_lists(df.loc[df[group] == target][\"Train_Scores\"])\n",
    "        train_sizes = df.loc[df[group] == target][\"Train_Sizes\"].sample(1).squeeze()\n",
    "        ax.set_title(\"{}\".format(target))\n",
    "    else:\n",
    "        test_scores = concat_lists(df[\"Test_Scores\"])\n",
    "        train_scores = concat_lists(df[\"Train_Scores\"])\n",
    "        train_sizes = df[\"Train_Sizes\"].sample(1).squeeze()\n",
    "        print(test_scores, train_scores, train_sizes)\n",
    "\n",
    "    train_scores_mean = np.mean(train_scores, axis=1)\n",
    "    train_scores_std = np.std(train_scores,axis=1)\n",
    "    test_scores_mean = np.mean(test_scores, axis=1)\n",
    "    test_scores_std = np.std(test_scores, axis=1)\n",
    "            \n",
    "    ax.fill_between(train_sizes, train_scores_mean - train_scores_std,\n",
    "                     train_scores_mean + train_scores_std, alpha=0.1, color=\"blue\")\n",
    "    ax.fill_between(train_sizes, test_scores_mean - test_scores_std,\n",
    "                     test_scores_mean + test_scores_std, alpha=0.1, color=\"green\")\n",
    "    a, = ax.plot(train_sizes, train_scores_mean, 'o-', color=\"blue\", label=\"Training score\")\n",
    "    b, = ax.plot(train_sizes, test_scores_mean, 'o-', color=\"green\", label=\"Cross-validation score\")        \n",
    "    \n",
    "    ax.grid()\n",
    "    ax.set_ylim(ymin=0, ymax=1)\n",
    "    ax.set_xticklabels([\"{:,.0f}\".format(xtick) for xtick in ax.get_xticks().tolist()])\n",
    "    if not multiple: plt.legend()\n",
    "    \n",
    "    return (a,b)\n",
    "    "
   ]
  },
  {
   "cell_type": "code",
   "execution_count": 85,
   "metadata": {
    "collapsed": false
   },
   "outputs": [],
   "source": [
    "def plot_learning_curves(df, group):\n",
    "    targets = df[group].value_counts().index.tolist()\n",
    "    rows=math.ceil(math.sqrt(len(targets)))\n",
    "    cols = math.ceil(len(targets) / rows)\n",
    "    f, axes = plt.subplots(nrows=rows, ncols=cols)\n",
    "    axes = [item for sublist in axes for item in sublist]\n",
    "    for i, target in enumerate(targets):\n",
    "        leg = plot_learning_curve(df, axes[i], group=group, target=target, multiple=True)\n",
    "        add_horizontal_line(axes[i], df[\"outcome_chance\"].ix[0], \"\", color=\"r\")\n",
    "        if i == 0: axes[i].legend(\n",
    "            bbox_to_anchor = axes[len(axes) - 1].get_position(),\n",
    "            bbox_transform=plt.gcf().transFigure)\n",
    "    for x in range(len(targets), len(axes)): f.delaxes(axes[x])\n",
    "    f.text(0.5, -0.04, 'Training Examples', ha='center')\n",
    "    f.text(-0.04, 0.5, 'Area under Precision-Recall Curve', va='center', rotation='vertical')\n",
    "    plt.tight_layout()\n",
    "    return f"
   ]
  },
  {
   "cell_type": "code",
   "execution_count": 86,
   "metadata": {
    "collapsed": false
   },
   "outputs": [],
   "source": [
    "def plot_roc_curve(df, iv, dv, x, y, n=None):\n",
    "\n",
    "    def convert_array(x):\n",
    "        y = []\n",
    "        for v in x.split():\n",
    "            try: float(v)\n",
    "            except: pass\n",
    "            else: y.append(float(v))\n",
    "        return y\n",
    "        \n",
    "    roc_x = df[x]#.apply(convert_array)\n",
    "    roc_y = df[y]#.apply(convert_array)\n",
    "    roc_clf = pd.concat([df[iv], roc_x, roc_y],axis=1)\n",
    "    roc_clf.index = roc_clf[iv]\n",
    "    roc_x_clf_split = roc_clf.apply(lambda a: pd.Series(a[x]),axis=1)\n",
    "    roc_y_clf_split = roc_clf.apply(lambda a: pd.Series(a[y]),axis=1)\n",
    "    roc_clf_split = pd.DataFrame()\n",
    "    for i, col in enumerate(list(roc_x_clf_split)):\n",
    "        if n and i %n == 0:\n",
    "            roc_clf_split[col] = list(zip(roc_x_clf_split[col], roc_y_clf_split[col]))\n",
    "    roc_clf_split[iv] = roc_clf_split.index = roc_x_clf_split.index\n",
    "    roc_clf_melt = pd.melt(roc_clf_split, id_vars=iv)\n",
    "    roc_clf_melt[x] = roc_clf_melt.apply(lambda a: a['value'][0], axis=1)\n",
    "    roc_clf_melt[y] = roc_clf_melt.apply(lambda a: a['value'][1], axis=1)\n",
    "    roc_clf_melt = roc_clf_melt[[iv,x,y]]\n",
    "    roc_clf_melt = roc_clf_melt.dropna()\n",
    "    \n",
    "    groups = roc_clf_melt[iv].value_counts().index.tolist()\n",
    "    grp_aucs = {group: df.groupby(iv).get_group(group)[dv].max() for group in groups}\n",
    "    \n",
    "    roc_clf_melt = roc_clf_melt.sort_values(by=x)\n",
    "\n",
    "    g = sns.lmplot(data = roc_clf_melt, x=x, y=y, hue=iv, fit_reg =False, x_bins = 100, x_estimator = np.max, legend_out=False)\n",
    "    g.map(plt.plot, x, y)\n",
    "    g.axes[0][0].set_xlim(0,1)\n",
    "    g.axes[0][0].set_ylim(0,1)\n",
    "    \n",
    "    return g, grp_aucs\n"
   ]
  },
  {
   "cell_type": "code",
   "execution_count": 87,
   "metadata": {
    "collapsed": false
   },
   "outputs": [],
   "source": [
    "def rank_pipelines(pipelines, number_selected, criteria, stage):\n",
    "    pipelines[\"Params_str\"] = pipelines[\"Params\"].astype(str)\n",
    "    unique_params = {v:k for k,v in dict(enumerate(pipelines[\"Params_str\"].unique().tolist())).items()}\n",
    "    pipelines[\"Params_str_dummy\"] = pipelines[\"Params_str\"].replace(unique_params)\n",
    "    dummy_rank = pipelines.groupby(\"Params_str_dummy\")[criteria].median().rank(ascending=False).to_dict()\n",
    "    pipelines[\"rank_{}\".format(stage)] = pipelines[\"Params_str_dummy\"].map(dummy_rank)\n",
    "    pipelines.set_index(\"rank_{}\".format(stage), drop=False, inplace=True)\n",
    "    top_pipelines = pipelines.sort_index().ix[1:number_selected]\n",
    "    top_pipelines = top_pipelines.drop_duplicates(subset=\"Params_str_dummy\").squeeze()\n",
    "    return top_pipelines"
   ]
  },
  {
   "cell_type": "code",
   "execution_count": 88,
   "metadata": {
    "collapsed": true
   },
   "outputs": [],
   "source": [
    "def add_auc_to_legend(auc, ax, title):\n",
    "    handles, labels = ax.get_legend_handles_labels()\n",
    "    items = int(len(handles) / 2)\n",
    "    handles = handles[0:items]\n",
    "    labels = labels[0:items]\n",
    "    auc = dict((str(k),v)for k,v in auc.items())\n",
    "    labels = [\"{} ({:,.3f})\".format(label, auc[label]) for i, label in enumerate(labels)]\n",
    "    plt.legend(loc=\"best\", handles=handles, labels=labels, title=title)\n"
   ]
  },
  {
   "cell_type": "code",
   "execution_count": 89,
   "metadata": {
    "collapsed": true
   },
   "outputs": [],
   "source": [
    "def divide_groups(x, totals):\n",
    "    value = x.index.get_level_values(level=0)[0]\n",
    "    x = x.apply(lambda x: x/float(totals.loc[value]))\n",
    "    return x"
   ]
  },
  {
   "cell_type": "code",
   "execution_count": 90,
   "metadata": {
    "collapsed": true
   },
   "outputs": [],
   "source": [
    "def get_mode(x):\n",
    "    try: return stats.mode(x.dropna())[0][0]\n",
    "    except: return np.nan"
   ]
  },
  {
   "cell_type": "code",
   "execution_count": 67,
   "metadata": {
    "collapsed": true
   },
   "outputs": [],
   "source": [
    "#constants\n",
    "input_path = path+\"analysis/input/master.db\"\n",
    "flatten_config = path+\"analysis/config/master_feature.sql\"\n",
    "raw_flat_file = path+\"analysis/output/temp/raw.csv\"\n",
    "clean_flat_file = path+\"analysis/output/temp/clean.csv\"\n",
    "output_path = path+\"analysis/output/temp/output.db\"\n",
    "#output_path = path+\"analysis/output/autoVC/8/test/2015-04-06/2017-04-03/label_clean.csv\""
   ]
  },
  {
   "cell_type": "code",
   "execution_count": 68,
   "metadata": {
    "collapsed": false
   },
   "outputs": [
    {
     "name": "stdout",
     "output_type": "stream",
     "text": [
      "logManager - INFO - export_dataframe | Started\n",
      "logManager - INFO - export_dataframe | Passed | 174.94\n"
     ]
    }
   ],
   "source": [
    "#dp.flatten_file(input_path, flatten_config, raw_flat_file, \"feature\")\n",
    "#dp.clean_file(raw_flat_file, clean_flat_file)\n",
    "#dp.load_file(output_path, clean_flat_file, \"feature\")\n",
    "df = dp.export_dataframe(output_path, \"feature\")\n",
    "df_backup = df.copy()"
   ]
  },
  {
   "cell_type": "code",
   "execution_count": null,
   "metadata": {
    "collapsed": true
   },
   "outputs": [],
   "source": [
    "#reload data from memory\n",
    "df = df_backup"
   ]
  },
  {
   "cell_type": "code",
   "execution_count": null,
   "metadata": {
    "collapsed": false
   },
   "outputs": [],
   "source": [
    "df = df.sample(50000)"
   ]
  },
  {
   "cell_type": "code",
   "execution_count": 69,
   "metadata": {
    "collapsed": false
   },
   "outputs": [],
   "source": [
    "stage_features = dict(\n",
    "    Age = 'confidence_context_broader_company_age_number',\n",
    "    FundingRounds = 'confidence_validation_funding_rounds_number',\n",
    "    FundingRaised = 'confidence_validation_funding_raised_value_total_number',\n",
    "    SeriesA = 'confidence_validation_funding_round_codes_list_a',\n",
    "    SeriesB = 'confidence_validation_funding_round_codes_list_b',\n",
    "    SeriesC = 'confidence_validation_funding_round_codes_list_c',\n",
    "    SeriesD = 'confidence_validation_funding_round_codes_list_d',\n",
    "    SeriesE = 'confidence_validation_funding_round_codes_list_e',\n",
    "    SeriesF = 'confidence_validation_funding_round_codes_list_f',\n",
    "    SeriesG = 'confidence_validation_funding_round_codes_list_g',\n",
    "    SeriesH = 'confidence_validation_funding_round_codes_list_h',\n",
    "    Closed = \"keys_company_status_closed_bool\",\n",
    "    Acquired = \"keys_company_status_acquired_bool\",\n",
    "    IPO = \"keys_company_status_ipo_bool\"\n",
    ")"
   ]
  },
  {
   "cell_type": "code",
   "execution_count": 70,
   "metadata": {
    "collapsed": false
   },
   "outputs": [
    {
     "name": "stdout",
     "output_type": "stream",
     "text": [
      "Stages done.\n"
     ]
    }
   ],
   "source": [
    "stages = create_stages(df, **stage_features)\n",
    "df = pd.concat([stages, df], axis=1)\n",
    "print(\"Stages done.\")"
   ]
  },
  {
   "cell_type": "markdown",
   "metadata": {},
   "source": [
    "## 3.1.3 Preliminary Screening"
   ]
  },
  {
   "cell_type": "code",
   "execution_count": null,
   "metadata": {
    "collapsed": false
   },
   "outputs": [
    {
     "name": "stdout",
     "output_type": "stream",
     "text": [
      "Other        206872\n",
      "Pre-Seed     113915\n",
      "Seed          52219\n",
      "Acquired      26894\n",
      "Series A       8654\n",
      "IPO            5800\n",
      "Series B       4657\n",
      "Closed         3279\n",
      "Series C       2231\n",
      "Series D+      1413\n",
      "Name: keys_company_stage, dtype: int64\n",
      "Other        0.486\n",
      "Pre-Seed     0.267\n",
      "Seed         0.123\n",
      "Acquired     0.063\n",
      "Series A     0.020\n",
      "IPO          0.014\n",
      "Series B     0.011\n",
      "Closed       0.008\n",
      "Series C     0.005\n",
      "Series D+    0.003\n",
      "Name: keys_company_stage, dtype: float64\n",
      "425934\n"
     ]
    }
   ],
   "source": [
    "print(df[\"keys_company_stage\"].value_counts())\n",
    "print(df[\"keys_company_stage\"].value_counts(normalize=True))\n",
    "print(df[\"keys_company_stage\"].value_counts().sum())"
   ]
  },
  {
   "cell_type": "code",
   "execution_count": null,
   "metadata": {
    "collapsed": false
   },
   "outputs": [],
   "source": [
    "order_1 = [\"Pre-Seed\", \"Seed\", \"Series A\", \"Series B\", \"Series C\", \"Series D+\", \"IPO\", \"Acquired\"]\n",
    "f = plt.figure()\n",
    "ax = sns.countplot(x= df[\"keys_company_stage\"], order = order_1, **outline_bars)\n",
    "auto_label(ax)\n",
    "add_vertical_line(ax, 1.5, \"Break-Even\", color=\"r\")\n",
    "add_vertical_line(ax, 5.5, \"Exit\", color=\"b\")\n",
    "ax.set_xlabel(\"Developmental Stage\")\n",
    "ax.set_ylabel(\"Companies\")\n",
    "plt.tight_layout()\n",
    "f.savefig(save_path+\"lifecycle.pdf\", bbox_inches=\"tight\")"
   ]
  },
  {
   "cell_type": "markdown",
   "metadata": {},
   "source": [
    "Removed Other, Closed, Acquired & IPO groups"
   ]
  },
  {
   "cell_type": "code",
   "execution_count": null,
   "metadata": {
    "collapsed": false
   },
   "outputs": [],
   "source": [
    "df = df.loc[df['keys_company_stage_group'] != \"Excluded\"]"
   ]
  },
  {
   "cell_type": "code",
   "execution_count": null,
   "metadata": {
    "collapsed": false
   },
   "outputs": [],
   "source": [
    "print(df[\"keys_company_stage\"].value_counts())\n",
    "print(df[\"keys_company_stage\"].value_counts(normalize=True))\n",
    "print(df[\"keys_company_stage\"].value_counts().sum())"
   ]
  },
  {
   "cell_type": "code",
   "execution_count": null,
   "metadata": {
    "collapsed": true
   },
   "outputs": [],
   "source": [
    "age_old_cutoff = df[\"confidence_context_broader_company_age_number\"][df[\"keys_company_stage\"] == \"Series D+\"].quantile(0.75)"
   ]
  },
  {
   "cell_type": "code",
   "execution_count": null,
   "metadata": {
    "collapsed": false
   },
   "outputs": [],
   "source": [
    "order_1 = [\"Pre-Seed\", \"Seed\", \"Series A\", \"Series B\", \"Series C\", \"Series D+\"]\n",
    "f = plt.figure()\n",
    "ax = sns.boxplot(\n",
    "    x=\"confidence_context_broader_company_age_number\", \n",
    "    y=\"keys_company_stage\",\n",
    "    order=order_1,data=df, fliersize=0)\n",
    "ax.set_xlim(xmin=0, xmax=30)\n",
    "ax.set_xlabel(\"Company Age (Years)\")\n",
    "ax.set_ylabel(\"Developmental Stage\")\n",
    "add_vertical_line(ax, age_old_cutoff, \"Age Upper Bound\", color=\"r\")\n",
    "plt.tight_layout()\n",
    "f.savefig(save_path+\"stages_ages.pdf\", bbox_inches=\"tight\")"
   ]
  },
  {
   "cell_type": "markdown",
   "metadata": {},
   "source": [
    "Removed companies older than 15 years old"
   ]
  },
  {
   "cell_type": "code",
   "execution_count": null,
   "metadata": {
    "collapsed": false
   },
   "outputs": [],
   "source": [
    "age_old_cutoff"
   ]
  },
  {
   "cell_type": "code",
   "execution_count": null,
   "metadata": {
    "collapsed": false
   },
   "outputs": [],
   "source": [
    "df = df.loc[df['confidence_context_broader_company_age_number'] <= age_old_cutoff]"
   ]
  },
  {
   "cell_type": "code",
   "execution_count": null,
   "metadata": {
    "collapsed": false
   },
   "outputs": [],
   "source": [
    "print(df[\"keys_company_stage\"].value_counts())\n",
    "print(df[\"keys_company_stage\"].value_counts(normalize=True))\n",
    "print(df[\"keys_company_stage\"].value_counts().sum())"
   ]
  },
  {
   "cell_type": "markdown",
   "metadata": {},
   "source": [
    "## 3.1.4 Descriptive Statistics"
   ]
  },
  {
   "cell_type": "markdown",
   "metadata": {},
   "source": [
    "Table 3. Final test dataset counts grouped by lifecycle stage."
   ]
  },
  {
   "cell_type": "code",
   "execution_count": null,
   "metadata": {
    "collapsed": true
   },
   "outputs": [],
   "source": [
    "drops = [col for col in list(df) if col.startswith((\"key\",\"from\",\"outcome\",\"index\"))]\n",
    "X = df.drop(drops, axis=1)\n",
    "X = X.select_dtypes(['number'])"
   ]
  },
  {
   "cell_type": "code",
   "execution_count": null,
   "metadata": {
    "collapsed": false
   },
   "outputs": [],
   "source": [
    "df[\"keys_missing_features\"] = X.isnull().sum(axis=1)\n",
    "len(list(df))"
   ]
  },
  {
   "cell_type": "code",
   "execution_count": null,
   "metadata": {
    "collapsed": false,
    "scrolled": true
   },
   "outputs": [],
   "source": [
    "groups = [df[\"keys_company_stage\"]]\n",
    "columns = [\"keys_company_stage\", \"confidence_context_broader_company_age_number\", \"confidence_validation_funding_raised_value_total_number\", \"confidence_validation_funding_rounds_number\", \"keys_missing_features\"]\n",
    "colnames = [\"Obs\", \"Age (Years)\", \"Funding Raised (USD, millions)\", \"Funding Rounds (N)\", \"Available Features (N)\"]\n",
    "colfuncs = [{\"N\":len}, \n",
    "    OrderedDict([(\"Median\", np.median),(\"IQR\", lambda x: stats.iqr(x,nan_policy=\"omit\"))]), \n",
    "    OrderedDict([(\"Median\", lambda x: np.median(x) / 1e6), (\"IQR\", lambda x: stats.iqr(x,nan_policy=\"omit\") / 1e6)]), \n",
    "    OrderedDict([(\"Median\", np.median),(\"IQR\", lambda x: stats.iqr(x,nan_policy=\"omit\"))]), \n",
    "    OrderedDict([(\"Median\", lambda x: len(list(df)) - np.median(x)), (\"IQR\", lambda x: stats.iqr(x,nan_policy=\"omit\") )])]\n",
    "\n",
    "namefunc = OrderedDict(zip(columns, colnames))\n",
    "aggfunc = OrderedDict(zip(columns, colfuncs))\n",
    "\n",
    "order_1 = [\"Pre-Seed\", \"Seed\", \"Series A\", \"Series B\", \"Series C\", \"Series D+\"]\n",
    "\n",
    "tab = df[columns].groupby(groups)\n",
    "tab = tab.agg(aggfunc)\n",
    "tab.rename(columns=namefunc)"
   ]
  },
  {
   "cell_type": "code",
   "execution_count": null,
   "metadata": {
    "collapsed": false
   },
   "outputs": [],
   "source": [
    "groups = [df[\"keys_company_stage_group\"]]\n",
    "columns = [\"keys_company_stage\", \"confidence_context_broader_company_age_number\", \"confidence_validation_funding_raised_value_total_number\", \"confidence_validation_funding_rounds_number\", \"keys_missing_features\"]\n",
    "colnames = [\"Obs\", \"Age (Years)\", \"Funding Raised (USD, millions)\", \"Funding Rounds (N)\", \"Available Features (N)\"]\n",
    "colfuncs = [{\"N\":len}, \n",
    "    OrderedDict([(\"Median\", np.median),(\"IQR\", lambda x: stats.iqr(x,nan_policy=\"omit\"))]), \n",
    "    OrderedDict([(\"Median\", lambda x: np.median(x) / 1e6), (\"IQR\", lambda x: stats.iqr(x,nan_policy=\"omit\") / 1e6)]), \n",
    "    OrderedDict([(\"Median\", np.median), (\"IQR\", lambda x: stats.iqr(x,nan_policy=\"omit\"))]),\n",
    "    OrderedDict([(\"Median\", lambda x: len(list(df)) - np.median(x)), (\"IQR\", lambda x: stats.iqr(x,nan_policy=\"omit\") )])]\n",
    "\n",
    "namefunc = OrderedDict(zip(columns, colnames))\n",
    "aggfunc = OrderedDict(zip(columns, colfuncs))\n",
    "\n",
    "tab = df[columns].groupby(groups)\n",
    "tab = tab.agg(aggfunc)\n",
    "tab.rename(columns=namefunc)"
   ]
  },
  {
   "cell_type": "markdown",
   "metadata": {},
   "source": [
    "Table 3. Final test dataset counts grouped by company sector."
   ]
  },
  {
   "cell_type": "code",
   "execution_count": null,
   "metadata": {
    "collapsed": false
   },
   "outputs": [],
   "source": [
    "industries = [x for x in list(df) if x.startswith(\"confidence_context_industry_category_group_list\")]"
   ]
  },
  {
   "cell_type": "code",
   "execution_count": null,
   "metadata": {
    "collapsed": false
   },
   "outputs": [],
   "source": [
    "values = [df[industry].value_counts()[1] for industry in industries]\n",
    "values = sorted(values,reverse=True)\n",
    "f = plt.figure()\n",
    "names = [\"Software\", \"Internet\", \"Media\", \"Commerce\", \"Mobile\", \"Sales\", \"IT\", \"Health\", \"Hardware\", \"Financial\"]\n",
    "ax = sns.barplot(y = values, x = names, order = names,  **outline_bars)\n",
    "auto_label(ax)\n",
    "plt.xticks(rotation=30)\n",
    "ax.set_ylabel(\"Companies\")\n",
    "ax.set_xlabel(\"Industry Sectors (Top 10)\")\n",
    "plt.tight_layout()\n",
    "f.savefig(save_path+\"industry_counts.pdf\", bbox_inches=\"tight\")"
   ]
  },
  {
   "cell_type": "markdown",
   "metadata": {},
   "source": [
    "[SPARSITY]"
   ]
  },
  {
   "cell_type": "code",
   "execution_count": null,
   "metadata": {
    "collapsed": true
   },
   "outputs": [],
   "source": [
    "missing_by_feature = X.isnull().sum(axis=1)"
   ]
  },
  {
   "cell_type": "code",
   "execution_count": null,
   "metadata": {
    "collapsed": true
   },
   "outputs": [],
   "source": [
    "missing_by_col =  X.isnull().sum(axis=0)"
   ]
  },
  {
   "cell_type": "code",
   "execution_count": null,
   "metadata": {
    "collapsed": false
   },
   "outputs": [],
   "source": [
    "f = plt.figure(figsize = (8,3))\n",
    "ax = sns.distplot(missing_by_feature, bins=25, hist_kws = outline_bars)\n",
    "ax.set_xlim(xmin=0, xmax=len(missing_by_col))\n",
    "add_vertical_line(ax, np.median(missing_by_feature), \"Median\", color=\"r\")\n",
    "ax.set_xlabel(\"Missing Features\")\n",
    "ax.set_ylabel(\"Density\")\n",
    "plt.tight_layout()\n",
    "f.savefig(save_path+\"sparsity_features.pdf\", bbox_inches=\"tight\")"
   ]
  },
  {
   "cell_type": "code",
   "execution_count": null,
   "metadata": {
    "collapsed": false
   },
   "outputs": [],
   "source": [
    "f = plt.figure(figsize = (8,3))\n",
    "ax = sns.distplot(missing_by_col, bins=25, hist_kws = outline_bars)\n",
    "ax.set_xlim(xmin=0, xmax=len(missing_by_feature))\n",
    "add_vertical_line(ax, np.median(missing_by_col), \"Median\", color=\"r\")\n",
    "ax.set_xticklabels([\"{:,.0f}\".format(xtick) for xtick in ax.get_xticks().tolist()])\n",
    "ax.set_xlabel(\"Missing Observations\")\n",
    "ax.set_ylabel(\"Density\")\n",
    "plt.tight_layout()\n",
    "f.savefig(save_path+\"sparsity_observations.pdf\", bbox_inches=\"tight\")"
   ]
  },
  {
   "cell_type": "markdown",
   "metadata": {},
   "source": [
    "[SKEW BY FEATURE (GROUPED BY WHETHER ZEROS-REMOVED)]"
   ]
  },
  {
   "cell_type": "code",
   "execution_count": null,
   "metadata": {
    "collapsed": false
   },
   "outputs": [],
   "source": [
    "skews = X.apply(lambda x: stats.skew(x.dropna())).dropna()\n",
    "skews = skews[(skews >= -20) & (skews < 40)]"
   ]
  },
  {
   "cell_type": "code",
   "execution_count": null,
   "metadata": {
    "collapsed": false
   },
   "outputs": [],
   "source": [
    "f = plt.figure(figsize = (8,3))\n",
    "ax = sns.distplot(skews, bins=25, hist_kws = outline_bars)\n",
    "ax.set_xlim(xmin=-20, xmax=40)\n",
    "ax.xaxis.set_major_locator(ticker.MultipleLocator(5))\n",
    "add_vertical_line(ax, 0, \"Norm\", color=\"b\")\n",
    "add_vertical_line(ax, np.median(skews), \"Median\", color=\"r\")\n",
    "ax.set_xlabel(\"Skew\")\n",
    "ax.set_ylabel(\"Density\")\n",
    "plt.tight_layout()\n",
    "f.savefig(save_path+\"skew.pdf\", bbox_inches=\"tight\")"
   ]
  },
  {
   "cell_type": "code",
   "execution_count": null,
   "metadata": {
    "collapsed": true
   },
   "outputs": [],
   "source": [
    "kurtoses = X.apply(lambda x: stats.kurtosis(x.dropna())).dropna()\n",
    "kurtoses = kurtoses[(kurtoses >= -25) & (kurtoses < 200)]"
   ]
  },
  {
   "cell_type": "code",
   "execution_count": null,
   "metadata": {
    "collapsed": false
   },
   "outputs": [],
   "source": [
    "f = plt.figure(figsize = (8,3))\n",
    "ax = sns.distplot(kurtoses, bins=25, hist_kws = outline_bars)\n",
    "ax.set_xlim(xmin=-25, xmax=200)\n",
    "ax.xaxis.set_major_locator(ticker.MultipleLocator(25))\n",
    "add_vertical_line(ax, 0, \"Norm\", color=\"b\")\n",
    "add_vertical_line(ax, np.median(kurtoses), \"Median\", color=\"r\")\n",
    "ax.set_xlabel(\"Kurtosis (Fisher's)\")\n",
    "ax.set_ylabel(\"Density\")\n",
    "plt.tight_layout()\n",
    "f.savefig(save_path+\"kurtosis.pdf\", bbox_inches=\"tight\")"
   ]
  },
  {
   "cell_type": "markdown",
   "metadata": {},
   "source": [
    "[KURTOSIS  BY FEATURE (GROUPED BY WHETHER ZEROS-REMOVED)]"
   ]
  },
  {
   "cell_type": "markdown",
   "metadata": {},
   "source": [
    "[BOXPLOT OF FEATURES]"
   ]
  },
  {
   "cell_type": "code",
   "execution_count": null,
   "metadata": {
    "collapsed": false
   },
   "outputs": [],
   "source": [
    "iqrs = X.apply(lambda x: stats.iqr(x.dropna())).dropna()\n",
    "iqrs = np.log1p(iqrs)\n",
    "iqrs = iqrs[(iqrs >= 0) & (iqrs < 25)]"
   ]
  },
  {
   "cell_type": "code",
   "execution_count": null,
   "metadata": {
    "collapsed": false
   },
   "outputs": [],
   "source": [
    "f = plt.figure(figsize = (8,3))\n",
    "ax = sns.distplot(iqrs, bins=25, hist_kws = outline_bars)\n",
    "ax.set_xlim(xmin=0, xmax=25)\n",
    "add_vertical_line(ax, np.mean(iqrs), \"Mean\", color=\"b\")\n",
    "add_vertical_line(ax, np.median(iqrs), \"Median\", color=\"r\")\n",
    "ax.set_xlabel(\"Interquartile Range (log1p)\")\n",
    "ax.set_ylabel(\"Density\")\n",
    "plt.tight_layout()\n",
    "f.savefig(save_path+\"scaling.pdf\", bbox_inches=\"tight\")"
   ]
  },
  {
   "cell_type": "markdown",
   "metadata": {},
   "source": [
    "[ORTHOGONALITY]"
   ]
  },
  {
   "cell_type": "code",
   "execution_count": null,
   "metadata": {
    "collapsed": true
   },
   "outputs": [],
   "source": [
    "X_sample = X.sample(1000)\n",
    "thresholds = [x*.1 for x in range(10)]"
   ]
  },
  {
   "cell_type": "code",
   "execution_count": null,
   "metadata": {
    "collapsed": true
   },
   "outputs": [],
   "source": [
    "pearson = {x: pd.DataFrame(np.where(abs(X_sample.corr(method=\"pearson\").stack()) >= x, True, False)).stack().value_counts(normalize=True)[True]*100 for x in thresholds}\n",
    "pearson = pd.DataFrame.from_dict(data=pearson, orient=\"index\")\n",
    "pearson[\"Method\"] = \"Pearson\""
   ]
  },
  {
   "cell_type": "code",
   "execution_count": null,
   "metadata": {
    "collapsed": true
   },
   "outputs": [],
   "source": [
    "kendall = {x: pd.DataFrame(np.where(abs(X_sample.corr(method=\"kendall\").stack()) >= x, True, False)).stack().value_counts(normalize=True)[True]*100 for x in thresholds}\n",
    "kendall = pd.DataFrame.from_dict(data=kendall, orient=\"index\")\n",
    "kendall[\"Method\"] = \"kendall\""
   ]
  },
  {
   "cell_type": "code",
   "execution_count": null,
   "metadata": {
    "collapsed": false
   },
   "outputs": [],
   "source": [
    "spearman = {x: pd.DataFrame(np.where(abs(X_sample.corr(method=\"spearman\").stack()) >= x, True, False)).stack().value_counts(normalize=True)[True]*100 for x in thresholds}\n",
    "spearman = pd.DataFrame.from_dict(data=spearman, orient=\"index\")\n",
    "spearman[\"Method\"] = \"Spearman\""
   ]
  },
  {
   "cell_type": "code",
   "execution_count": null,
   "metadata": {
    "collapsed": false
   },
   "outputs": [],
   "source": [
    "corrs = pd.concat([spearman, pearson], axis=0)\n",
    "corrs = corrs.drop(0.0)"
   ]
  },
  {
   "cell_type": "code",
   "execution_count": null,
   "metadata": {
    "collapsed": false
   },
   "outputs": [],
   "source": [
    "f = plt.figure()\n",
    "ax = sns.barplot(x=corrs.index, y=corrs[0], hue=corrs[\"Method\"], **outline_bars)\n",
    "auto_label(ax, fmt='{:,.0f}%')\n",
    "ax.set_xlabel(\"Correlation Cutoff (abs)\")\n",
    "ax.set_ylabel(\"Intercorrelations\\nabove Cutoff (%)\")\n",
    "plt.tight_layout()\n",
    "f.savefig(save_path+\"orthogonality.pdf\", bbox_inches=\"tight\")"
   ]
  },
  {
   "cell_type": "markdown",
   "metadata": {},
   "source": [
    "# 3.2 Pre-Processing"
   ]
  },
  {
   "cell_type": "markdown",
   "metadata": {},
   "source": [
    "## 3.2.1 Imputation"
   ]
  },
  {
   "cell_type": "markdown",
   "metadata": {},
   "source": [
    "Figure 3. Mean, median and mode of features (grouped bar plot)."
   ]
  },
  {
   "cell_type": "code",
   "execution_count": null,
   "metadata": {
    "collapsed": false
   },
   "outputs": [],
   "source": [
    "means = X_sample.apply(lambda x: np.mean(x.dropna())).dropna()"
   ]
  },
  {
   "cell_type": "code",
   "execution_count": null,
   "metadata": {
    "collapsed": false
   },
   "outputs": [],
   "source": [
    "medians = X_sample.apply(lambda x: np.median(x.dropna())).dropna()"
   ]
  },
  {
   "cell_type": "code",
   "execution_count": null,
   "metadata": {
    "collapsed": true
   },
   "outputs": [],
   "source": [
    "modes = X.apply(get_mode).dropna()"
   ]
  },
  {
   "cell_type": "code",
   "execution_count": null,
   "metadata": {
    "collapsed": false
   },
   "outputs": [],
   "source": [
    "f = plt.figure()\n",
    "plt.hist([means, medians, modes],label=[\"Mean\",\"Median\",\"Mode\"], **outline_bars)\n",
    "plt.xlabel(\"Measures of Central Tendency\")\n",
    "plt.ylabel(\"Features\")\n",
    "plt.legend(title=\"Method\")\n",
    "plt.tight_layout()\n",
    "f.savefig(save_path+\"central_tendency.pdf\", bbox_inches=\"tight\")"
   ]
  },
  {
   "cell_type": "markdown",
   "metadata": {},
   "source": [
    "Figure 3. ROC Curve for different imputations - mean, median, mode (line plot)."
   ]
  },
  {
   "cell_type": "code",
   "execution_count": null,
   "metadata": {
    "collapsed": false
   },
   "outputs": [],
   "source": [
    "df_create = get_results(15, \"create\")"
   ]
  },
  {
   "cell_type": "code",
   "execution_count": null,
   "metadata": {
    "collapsed": false
   },
   "outputs": [],
   "source": [
    "f = plt.figure()\n",
    "order = df_create.groupby(\"Imputer\")[\"PRC\"].median().sort_values(ascending=False).index.tolist()\n",
    "ax = sns.boxplot(x=\"PRC\", y=\"Imputer\", data=df_create, order=order, fliersize=0)\n",
    "ax.set_xlabel(\"Area Under Precision-Recall Curve\")\n",
    "ax.set_ylabel(\"Imputer Strategy\")\n",
    "add_vertical_line(ax, df_create[\"outcome_chance\"].ix[0], \"Chance\", color=\"r\")\n",
    "plt.tight_layout()\n",
    "f.savefig(save_path+\"imputer.pdf\", bbox_inches=\"tight\")"
   ]
  },
  {
   "cell_type": "code",
   "execution_count": null,
   "metadata": {
    "collapsed": false
   },
   "outputs": [],
   "source": [
    "f = plt.figure()\n",
    "order = df_create.groupby(\"Transformer\")[\"PRC\"].median().sort_values(ascending=False).index.tolist()\n",
    "ax = sns.boxplot(x=\"PRC\", y=\"Transformer\", data=df_create, order=order, fliersize=0)\n",
    "ax.set_xlabel(\"Area Under Precision-Recall Curve\")\n",
    "ax.set_ylabel(\"Transformation Function\")\n",
    "add_vertical_line(ax, df_create[\"outcome_chance\"].ix[0], \"Chance\", color=\"r\")\n",
    "plt.tight_layout()\n",
    "f.savefig(save_path+\"transformer.pdf\", bbox_inches=\"tight\")"
   ]
  },
  {
   "cell_type": "code",
   "execution_count": null,
   "metadata": {
    "collapsed": false
   },
   "outputs": [],
   "source": [
    "f = plt.figure()\n",
    "order = df_create.groupby(\"Scaler\")[\"PRC\"].median().sort_values(ascending=False).index.tolist()\n",
    "ax = sns.boxplot(x=\"PRC\", y=\"Scaler\", data=df_create, order=order, fliersize=0)\n",
    "ax.set_xlabel(\"Area Under Precision-Recall Curve\")\n",
    "ax.set_ylabel(\"Scaling Function\")\n",
    "add_vertical_line(ax, df_create[\"outcome_chance\"].ix[0], \"Chance\", color=\"r\")\n",
    "plt.tight_layout()\n",
    "f.savefig(save_path+\"scaler.pdf\", bbox_inches=\"tight\")"
   ]
  },
  {
   "cell_type": "code",
   "execution_count": null,
   "metadata": {
    "collapsed": false
   },
   "outputs": [],
   "source": [
    "f = plt.figure()\n",
    "order = df_create['param_extractor__n_components_bin_20'].value_counts().index.sort_values().tolist()\n",
    "order = list(map(lambda x: {0 : \"1-20\", 1 : \"21-40\", 2: \"41-60\",3: \"61-80\", 4: \"81-100\"}[x], order))\n",
    "ax = sns.boxplot(x=\"PRC\", y=\"Extractor\", data=df_create, order=order, fliersize=0)\n",
    "ax.set_xlabel(\"Area Under Precision-Recall Curve\")\n",
    "ax.set_ylabel(\"PCA Extracted Components\")\n",
    "add_vertical_line(ax, df_create[\"outcome_chance\"].ix[0], \"Chance\", color=\"r\")\n",
    "plt.tight_layout()\n",
    "f.savefig(save_path+\"extracter.pdf\", bbox_inches=\"tight\")"
   ]
  },
  {
   "cell_type": "code",
   "execution_count": null,
   "metadata": {
    "collapsed": false
   },
   "outputs": [],
   "source": [
    "f = plt.figure()\n",
    "order = df_create.groupby(\"Classifier\")[\"PRC\"].quantile(0.75).sort_values(ascending=False).index.tolist()\n",
    "ax = sns.boxplot(x=\"PRC\", y=\"Classifier\", data=df_create, order=order, fliersize=0)\n",
    "ax.set_xlabel(\"Area Under Precision-Recall Curve\")\n",
    "ax.set_ylabel(\"Classification Algorithm\")\n",
    "add_vertical_line(ax, df_create[\"outcome_chance\"].ix[0], \"Chance\", color=\"r\")\n",
    "plt.tight_layout()\n",
    "f.savefig(save_path+\"classifier.pdf\", bbox_inches=\"tight\")"
   ]
  },
  {
   "cell_type": "code",
   "execution_count": null,
   "metadata": {
    "collapsed": true
   },
   "outputs": [],
   "source": [
    "df_create = get_results(16, \"create\")"
   ]
  },
  {
   "cell_type": "code",
   "execution_count": null,
   "metadata": {
    "collapsed": false
   },
   "outputs": [],
   "source": [
    "df_create[\"ROC\"] = df_create[\"ROC\"].fillna(df_create['AUC'])"
   ]
  },
  {
   "cell_type": "code",
   "execution_count": null,
   "metadata": {
    "collapsed": true
   },
   "outputs": [],
   "source": [
    "df_create[\"MCC\"] = df_create[\"MCC\"].fillna(df_create['MC'])"
   ]
  },
  {
   "cell_type": "code",
   "execution_count": null,
   "metadata": {
    "collapsed": false
   },
   "outputs": [],
   "source": [
    "groups = [df_create[\"Classifier\"]]\n",
    "columns = [\"PRC\", \"ROC\", \"F1\", \"MCC\", \"Time\"]\n",
    "colnames = [\"AUC PRC\", \"AUC ROC\", \"F1\", \"MCC\", \"Fit Time (s)\"]\n",
    "colfuncs = [\n",
    "    OrderedDict([(\"Median\", np.median),(\"Max\", np.max)]), \n",
    "    OrderedDict([(\"Median\", np.median),(\"Max\", np.max)]), \n",
    "    OrderedDict([(\"Median\", np.median),(\"Max\", np.max)]), \n",
    "    OrderedDict([(\"Median\", np.median),(\"Max\", np.max)]), \n",
    "    OrderedDict([(\"Median\", np.median),(\"IQR\", lambda x: stats.iqr(x,nan_policy=\"omit\"))])]\n",
    "\n",
    "namefunc = OrderedDict(zip(columns, colnames))\n",
    "aggfunc = OrderedDict(zip(columns, colfuncs))\n",
    "\n",
    "tab = df_create[columns]\n",
    "tab = tab.groupby(groups)\n",
    "tab = tab.agg(aggfunc)\n",
    "tab = tab.rename(columns=namefunc)\n",
    "tab"
   ]
  },
  {
   "cell_type": "code",
   "execution_count": null,
   "metadata": {
    "collapsed": false
   },
   "outputs": [],
   "source": [
    "tab.to_latex()"
   ]
  },
  {
   "cell_type": "markdown",
   "metadata": {},
   "source": [
    "## 3.2.2 Transformation"
   ]
  },
  {
   "cell_type": "markdown",
   "metadata": {},
   "source": [
    "--> Apply Imputation"
   ]
  },
  {
   "cell_type": "code",
   "execution_count": null,
   "metadata": {
    "collapsed": false
   },
   "outputs": [],
   "source": [
    "X = X.dropna(axis=1, how = \"all\")\n",
    "imp = Imputer(strategy=\"median\")\n",
    "X_imp = imp.fit_transform(X)\n",
    "X_imp = pd.DataFrame(X_imp, index=X.index, columns=list(X))"
   ]
  },
  {
   "cell_type": "markdown",
   "metadata": {},
   "source": [
    "--> Shift to positive numbers only"
   ]
  },
  {
   "cell_type": "code",
   "execution_count": null,
   "metadata": {
    "collapsed": false
   },
   "outputs": [],
   "source": [
    "mins_by_col = X_imp.min(axis=0)#.dropna()"
   ]
  },
  {
   "cell_type": "code",
   "execution_count": null,
   "metadata": {
    "collapsed": false
   },
   "outputs": [],
   "source": [
    "X_pos = X_imp.subtract(X_imp.min(axis=0))\n",
    "X_pos.describe()"
   ]
  },
  {
   "cell_type": "markdown",
   "metadata": {},
   "source": [
    "--> Start transformations"
   ]
  },
  {
   "cell_type": "code",
   "execution_count": null,
   "metadata": {
    "collapsed": false
   },
   "outputs": [],
   "source": [
    "funding = pd.to_numeric(X_pos[\"confidence_validation_funding_raised_value_total_number\"],errors=\"coerce\")"
   ]
  },
  {
   "cell_type": "code",
   "execution_count": null,
   "metadata": {
    "collapsed": false
   },
   "outputs": [],
   "source": [
    "funding.shape"
   ]
  },
  {
   "cell_type": "code",
   "execution_count": null,
   "metadata": {
    "collapsed": false
   },
   "outputs": [],
   "source": [
    "log1p = pd.DataFrame(np.log1p(funding), index=X_pos.index)"
   ]
  },
  {
   "cell_type": "code",
   "execution_count": null,
   "metadata": {
    "collapsed": false
   },
   "outputs": [],
   "source": [
    "sqrt = pd.DataFrame(funding**(1/2), index=X_pos.index)"
   ]
  },
  {
   "cell_type": "code",
   "execution_count": null,
   "metadata": {
    "collapsed": false
   },
   "outputs": [],
   "source": [
    "funding = funding.to_frame()\n",
    "funding[\"Method\"] = \"None\"\n",
    "log1p[\"Method\"] = \"Log1P\"\n",
    "sqrt[\"Method\"] = \"SQRT\"\n",
    "transforms = pd.concat([funding,log1p,sqrt],axis=0)"
   ]
  },
  {
   "cell_type": "code",
   "execution_count": null,
   "metadata": {
    "collapsed": false
   },
   "outputs": [],
   "source": [
    "transforms.groupby(\"Method\").describe()"
   ]
  },
  {
   "cell_type": "code",
   "execution_count": null,
   "metadata": {
    "collapsed": true
   },
   "outputs": [],
   "source": [
    "transforms = transforms.sample(1000)"
   ]
  },
  {
   "cell_type": "code",
   "execution_count": null,
   "metadata": {
    "collapsed": true
   },
   "outputs": [],
   "source": [
    "funding = transforms[\"confidence_validation_funding_raised_value_total_number\"]\n",
    "funding.name = \"Funding Raised\""
   ]
  },
  {
   "cell_type": "code",
   "execution_count": null,
   "metadata": {
    "collapsed": false
   },
   "outputs": [],
   "source": [
    "f, (ax1, ax2, ax3) = plt.subplots(nrows=1, ncols=3)\n",
    "\n",
    "sns.distplot(funding[transforms[\"Method\"] == \"None\"],ax=ax1)\n",
    "ax1.set_title(\"None\")\n",
    "ax1.xaxis.label.set_visible(False)\n",
    "\n",
    "sns.distplot(funding[transforms[\"Method\"] == \"SQRT\"],ax=ax2)\n",
    "ax2.set_title(\"SQRT\")\n",
    "ax2.xaxis.label.set_visible(False)\n",
    "\n",
    "sns.distplot(funding[transforms[\"Method\"] == \"Log1P\"],ax=ax3)\n",
    "ax3.set_title(\"Log1P\")\n",
    "ax3.xaxis.label.set_visible(False)\n",
    "\n",
    "f.text(0.5, -0.04, 'Funding Raised', size= MEDIUM_SIZE, ha='center')\n",
    "f.text(-0.04, 0.5, 'Density', va='center', size= MEDIUM_SIZE, rotation='vertical')\n",
    "plt.tight_layout()\n",
    "f.savefig(save_path+\"funding_transformation.pdf\", bbox_inches=\"tight\")"
   ]
  },
  {
   "cell_type": "code",
   "execution_count": null,
   "metadata": {
    "collapsed": false
   },
   "outputs": [],
   "source": [
    "groups = \"Method\"\n",
    "columns = \"confidence_validation_funding_raised_value_total_number\"\n",
    "colnames = [\"Funding Raised\"]\n",
    "colfuncs = [\n",
    "    OrderedDict([\n",
    "        (\"Skew\", lambda x: stats.skew(x,nan_policy=\"omit\")),\n",
    "        (\"Kurtosis\", lambda x: stats.kurtosis(x,nan_policy=\"omit\")),\n",
    "        #(\"Skew (0R)\", lambda x: stats.skew(x.replace(0., np.nan),nan_policy=\"omit\"))\n",
    "        (\"Kurtosis (0R)\", lambda x: stats.kurtosis(x.replace(0., np.nan),nan_policy=\"omit\"))\n",
    "    ]\n",
    "    ) \n",
    "]\n",
    "\n",
    "namefunc = OrderedDict(zip(columns, colnames))\n",
    "aggfunc = OrderedDict(zip(columns, colfuncs))\n",
    "\n",
    "order_1 = [\"None\", \"Log1P\", \"SQRT\"]\n",
    "\n",
    "tab = transforms.groupby(groups)\n",
    "tab = tab[columns]\n",
    "tab = tab.agg(aggfunc)\n",
    "tab = tab.rename(columns=namefunc)\n",
    "tab"
   ]
  },
  {
   "cell_type": "code",
   "execution_count": null,
   "metadata": {
    "collapsed": true
   },
   "outputs": [],
   "source": [
    "tab = transforms.groupby(groups)\n",
    "tab = tab[columns].replace(0, np.nan)\n",
    "tab = tab.agg(aggfunc)\n",
    "tab = tab.rename(columns=namefunc)\n",
    "tab"
   ]
  },
  {
   "cell_type": "code",
   "execution_count": null,
   "metadata": {
    "collapsed": false
   },
   "outputs": [],
   "source": [
    "tab.to_latex()"
   ]
  },
  {
   "cell_type": "code",
   "execution_count": null,
   "metadata": {
    "collapsed": true
   },
   "outputs": [],
   "source": [
    "binary = pd.Series(np.where(funding == 0, 0, 1), index=X_pos.index)"
   ]
  },
  {
   "cell_type": "markdown",
   "metadata": {},
   "source": [
    "--> Apply transformations"
   ]
  },
  {
   "cell_type": "code",
   "execution_count": null,
   "metadata": {
    "collapsed": true
   },
   "outputs": [],
   "source": [
    "from sklearn.preprocessing import FunctionTransformer\n",
    "\n",
    "ft = FunctionTransformer(np.log1p)\n",
    "X_tf = ft.fit_transform(X_pos)\n",
    "X_tf = pd.DataFrame(X_tf, index=X_pos.index, columns=list(X_pos))"
   ]
  },
  {
   "cell_type": "markdown",
   "metadata": {},
   "source": [
    "--> Start scaling"
   ]
  },
  {
   "cell_type": "markdown",
   "metadata": {},
   "source": [
    "--> Apply scaling"
   ]
  },
  {
   "cell_type": "code",
   "execution_count": null,
   "metadata": {
    "collapsed": true
   },
   "outputs": [],
   "source": [
    "from sklearn.preprocessing import scale\n",
    "\n",
    "X_std = scale(X_tf)\n",
    "X_std = pd.DataFrame(X_std, index=X_tf.index, columns=list(X_tf))"
   ]
  },
  {
   "cell_type": "markdown",
   "metadata": {},
   "source": [
    "## 3.2.3 Extraction"
   ]
  },
  {
   "cell_type": "markdown",
   "metadata": {},
   "source": [
    "PCA Model"
   ]
  },
  {
   "cell_type": "code",
   "execution_count": null,
   "metadata": {
    "collapsed": true
   },
   "outputs": [],
   "source": [
    "#Principal Components Analysis (PCA)\n",
    "from sklearn.decomposition import PCA\n",
    "pca = PCA().fit(X_std)"
   ]
  },
  {
   "cell_type": "code",
   "execution_count": null,
   "metadata": {
    "collapsed": false
   },
   "outputs": [],
   "source": [
    "f = plt.figure(figsize=(10,3))\n",
    "plt.plot(np.arange(len(y)) + 1, pca.explained_variance_)\n",
    "ax = plt.gca()\n",
    "ax.xaxis.set_major_locator(ticker.MultipleLocator(5))\n",
    "ax.set_ylabel(\"Eigenvalue\")\n",
    "ax.set_xlabel(\"Component Number\")\n",
    "add_horizontal_line(ax, 1, \"Cutoff (1)\", color=\"r\")\n",
    "ax.set_xlim(1,50)\n",
    "plt.tight_layout()\n",
    "f.savefig(save_path+\"scree_plot.pdf\", bbox_inches=\"tight\")"
   ]
  },
  {
   "cell_type": "markdown",
   "metadata": {},
   "source": [
    "Grouped"
   ]
  },
  {
   "cell_type": "code",
   "execution_count": null,
   "metadata": {
    "collapsed": true
   },
   "outputs": [],
   "source": [
    "from collections import defaultdict\n",
    "from itertools import combinations\n",
    "\n",
    "features = list(X_std)\n",
    "f_map = {x: '_'.join(x.split(\"_\")[:3]) for x in features}\n",
    "f_group = defaultdict(list)\n",
    "for f,g in f_map.items():\n",
    "    f_group[g].append(f)\n",
    "agg_group = {}\n",
    "for g,l in f_group.items():\n",
    "    combo = combinations(l, 2)\n",
    "    for x,y in combo:\n",
    "        corr = stats.spearmanr(X_std[x][:100], X_std[y][:100])[0]\n",
    "        if corr < 0: X_std[y] *= -1\n",
    "    tot = X_std[l].sum(axis=1)\n",
    "    agg_group[g] = tot\n",
    "X_grp = pd.DataFrame(agg_group)\n",
    "grp_corr = X_grp.corr(method=\"spearman\")\n"
   ]
  },
  {
   "cell_type": "code",
   "execution_count": null,
   "metadata": {
    "collapsed": false
   },
   "outputs": [],
   "source": [
    "f = plt.figure()\n",
    "mask = np.zeros_like(grp_corr)\n",
    "mask[np.triu_indices_from(mask)] = True\n",
    "f_names = [x.split(\"_\")[2] for x in list(X_grp)]\n",
    "ax = sns.heatmap(grp_corr,square=True, mask=mask, robust=True, vmin = -0.5, vmax = 0.5, xticklabels=f_names, yticklabels=f_names, **outline_bars)\n",
    "ax.collections[0].colorbar.set_label(\"Spearman Correlation\")\n",
    "ax.set_xlabel(\"Grouped Features\")\n",
    "ax.set_ylabel(\"Grouped Features\")\n",
    "plt.tight_layout()\n",
    "f.savefig(save_path+\"grouped_heatmap.pdf\", bbox_inches=\"tight\")"
   ]
  },
  {
   "cell_type": "markdown",
   "metadata": {},
   "source": [
    "# 3.3 Classification"
   ]
  },
  {
   "cell_type": "markdown",
   "metadata": {},
   "source": [
    "# 3.4 Experimentation"
   ]
  },
  {
   "cell_type": "markdown",
   "metadata": {},
   "source": [
    "## 3.4.2 Robustness"
   ]
  },
  {
   "cell_type": "markdown",
   "metadata": {},
   "source": [
    "## 3.4.3 Predictive Power"
   ]
  },
  {
   "cell_type": "markdown",
   "metadata": {
    "collapsed": true
   },
   "source": [
    "Table 3.5 Comparison of 2013 slice from 2016 dataset with original 2013 dataset."
   ]
  },
  {
   "cell_type": "code",
   "execution_count": null,
   "metadata": {
    "collapsed": false
   },
   "outputs": [],
   "source": [
    "df_create = get_results(16, \"create\")"
   ]
  },
  {
   "cell_type": "code",
   "execution_count": null,
   "metadata": {
    "collapsed": false
   },
   "outputs": [],
   "source": [
    "df_create[\"outcome_chance\"].ix[0]"
   ]
  },
  {
   "cell_type": "code",
   "execution_count": null,
   "metadata": {
    "collapsed": false
   },
   "outputs": [],
   "source": [
    "f = plot_learning_curves(df_create, \"Classifier\")\n",
    "#f.savefig(save_path+\"create_learning_curves.pdf\", bbox_inches=\"tight\")"
   ]
  },
  {
   "cell_type": "code",
   "execution_count": null,
   "metadata": {
    "collapsed": false
   },
   "outputs": [],
   "source": [
    "df_select = get_results(16, \"select\")"
   ]
  },
  {
   "cell_type": "code",
   "execution_count": null,
   "metadata": {
    "collapsed": true
   },
   "outputs": [],
   "source": [
    "df_select[\"feature_date_str\"] = df_select[\"feature_date\"].apply(lambda x: x.strftime(\"%Y-%m\"))"
   ]
  },
  {
   "cell_type": "code",
   "execution_count": null,
   "metadata": {
    "collapsed": true
   },
   "outputs": [],
   "source": [
    "df_select2 = df_select.copy()\n",
    "df_select2[\"feature_date_str\"] = \"Overall\"\n",
    "df_select2 = pd.concat([df_select2, df_select],axis=0)"
   ]
  },
  {
   "cell_type": "code",
   "execution_count": null,
   "metadata": {
    "collapsed": false
   },
   "outputs": [],
   "source": [
    "from datetime import date"
   ]
  },
  {
   "cell_type": "code",
   "execution_count": null,
   "metadata": {
    "collapsed": false
   },
   "outputs": [],
   "source": [
    "f = plt.figure()\n",
    "order = df_select[\"feature_date_str\"].value_counts().index.sort_values(ascending=True).tolist()\n",
    "order.append(\"Overall\")\n",
    "ax = sns.boxplot(x=\"PRC\", y=\"feature_date_str\", data=df_select2, order=order, fliersize=0)\n",
    "ax.set_xlabel(\"Area Under Precision-Recall Curve\")\n",
    "ax.set_ylabel(\"Feature Slice Date\")\n",
    "#add_vertical_line(ax, df_select[\"outcome_chance\"].median(), \"Chance\", color=\"r\")\n",
    "add_horizontal_line(ax, 6.5, \"\", color=\"black\")\n",
    "plt.tight_layout()\n",
    "f.savefig(save_path+\"selection_agg_slice.pdf\", bbox_inches=\"tight\")"
   ]
  },
  {
   "cell_type": "code",
   "execution_count": null,
   "metadata": {
    "collapsed": false
   },
   "outputs": [],
   "source": [
    "df_select = get_results(16, \"select\")"
   ]
  },
  {
   "cell_type": "code",
   "execution_count": null,
   "metadata": {
    "collapsed": false
   },
   "outputs": [],
   "source": [
    "df_select3 = df_select[~np.isnan(df_select[\"rank_create\"])]"
   ]
  },
  {
   "cell_type": "code",
   "execution_count": null,
   "metadata": {
    "collapsed": false
   },
   "outputs": [],
   "source": [
    "labels = df_select3[[\"rank_create\",\"Classifier\"]].drop_duplicates().sort_values(by=\"rank_create\", ascending=True)[\"Classifier\"].tolist()"
   ]
  },
  {
   "cell_type": "code",
   "execution_count": null,
   "metadata": {
    "collapsed": false
   },
   "outputs": [],
   "source": [
    "f = plt.figure()\n",
    "order = df_select3[\"rank_create\"].value_counts().index.tolist()\n",
    "ax = sns.boxplot(x=\"PRC\", y=\"rank_create\", data=df_select3, order=order, fliersize=0, orient=\"h\")\n",
    "ax.set_yticklabels([\"{:,.0f}\".format(ytick+1) for ytick in ax.get_yticks().tolist()])\n",
    "ax.set_xlabel(\"Area Under Precision-Recall Curve\")\n",
    "ax.set_ylabel(\"Finalist Ranking\")\n",
    "add_boxplot_labels(ax, labels)\n",
    "#add_vertical_line(ax, df_select3[\"outcome_chance\"].median(), \"Chance\", color=\"r\")\n",
    "#add_horizontal_line(ax, 5.5, \"\", color=\"black\")\n",
    "plt.tight_layout()\n",
    "f.savefig(save_path+\"selection_agg_rank.pdf\", bbox_inches=\"tight\")"
   ]
  },
  {
   "cell_type": "code",
   "execution_count": null,
   "metadata": {
    "collapsed": false
   },
   "outputs": [],
   "source": [
    "pipelines = get_results(16, \"select\")"
   ]
  },
  {
   "cell_type": "code",
   "execution_count": null,
   "metadata": {
    "collapsed": true
   },
   "outputs": [],
   "source": [
    "rank_pipelines(df_select3, 1, \"PRC\", \"select\")[\"Params\"]"
   ]
  },
  {
   "cell_type": "code",
   "execution_count": null,
   "metadata": {
    "collapsed": false
   },
   "outputs": [],
   "source": [
    "best_pipeline = rank_pipelines(df_select3, 1, \"PRC\", \"select\")"
   ]
  },
  {
   "cell_type": "markdown",
   "metadata": {},
   "source": [
    "Pipeline Evaluation"
   ]
  },
  {
   "cell_type": "markdown",
   "metadata": {},
   "source": [
    "Efficiency"
   ]
  },
  {
   "cell_type": "markdown",
   "metadata": {},
   "source": [
    "Robustness"
   ]
  },
  {
   "cell_type": "code",
   "execution_count": null,
   "metadata": {
    "collapsed": true
   },
   "outputs": [],
   "source": [
    "index=[\"People\", \"Companies\", \"Funding Rounds\", \"Acquisitions\", \"IPOs\"]\n",
    "\n",
    "sliced = pd.DataFrame({\"Counts\":[216146, 179351,49131,8882,790]}, index=index)\n",
    "original = pd.DataFrame({\"Counts\": [226709, 196553,52928,9562,1259]},index=index)\n",
    "\n",
    "sliced[\"Method\"] = \"Slice\"\n",
    "original[\"Method\"] = \"Original\"\n",
    "counts = pd.concat([sliced, original], axis=0)\n",
    " "
   ]
  },
  {
   "cell_type": "code",
   "execution_count": null,
   "metadata": {
    "collapsed": false
   },
   "outputs": [],
   "source": [
    "f = plt.figure(figsize=(9,4))\n",
    "ax = sns.barplot(x=counts.index, y=counts[\"Counts\"], hue=counts[\"Method\"], **outline_bars)\n",
    "auto_label(ax, fmt='{:,.0f}')\n",
    "ax.set_xlabel(\"Relations\")\n",
    "ax.set_ylabel(\"Records\")\n",
    "plt.tight_layout()\n",
    "f.savefig(save_path+\"2013_slice_comparison.pdf\", bbox_inches=\"tight\")"
   ]
  },
  {
   "cell_type": "code",
   "execution_count": null,
   "metadata": {
    "collapsed": false
   },
   "outputs": [],
   "source": [
    "#constants\n",
    "input_path = path+\"analysis/input/master.db\"\n",
    "feature_config = path+\"analysis/config/master_feature.sql\"\n",
    "output_folder = path+\"analysis/output/autoVC/17/\"\n",
    "slice_output_pickle = output_folder+\"output.pkl\""
   ]
  },
  {
   "cell_type": "code",
   "execution_count": null,
   "metadata": {
    "collapsed": false
   },
   "outputs": [],
   "source": [
    "slices = [date(2012+x, 4, 1) for x in range(5)]\n",
    "slice_counts = pd.DataFrame()\n",
    "for slice_date in slices:\n",
    "    df = vc.prepare_dataset(input_path, slice_date, feature_config, \"feature\", output_folder, alt=True)\n",
    "    df = vc.add_stages(df)\n",
    "    temp = pd.DataFrame()\n",
    "    temp[\"id\"] = df[\"keys_company_name_id\"]\n",
    "    temp[\"stage\"] = df[\"keys_company_stage\"]\n",
    "    temp[\"group\"] = df[\"keys_company_stage_group\"]\n",
    "    ages = df['confidence_context_broader_company_age_number']\n",
    "    age_cutoff = ages[temp[\"stage\"] == \"Series D+\"].quantile(0.75)\n",
    "    temp[\"age_cutoff\"] = np.where(ages <= age_cutoff, \"Included\", \"Excluded\")\n",
    "    temp[\"date\"] = slice_date\n",
    "    slice_counts = pd.concat([temp, slice_counts], axis=0, ignore_index=True)\n",
    "    slice_counts.to_pickle(output_pickle)"
   ]
  },
  {
   "cell_type": "code",
   "execution_count": null,
   "metadata": {
    "collapsed": false
   },
   "outputs": [],
   "source": [
    "slice_counts= pd.read_pickle(slice_output_pickle)"
   ]
  },
  {
   "cell_type": "code",
   "execution_count": null,
   "metadata": {
    "collapsed": false
   },
   "outputs": [],
   "source": [
    "list(slice_counts)"
   ]
  },
  {
   "cell_type": "code",
   "execution_count": null,
   "metadata": {
    "collapsed": false
   },
   "outputs": [],
   "source": [
    "slice_counts[\"Slice\"] = slice_counts[\"date\"].apply(lambda x: x.year)"
   ]
  },
  {
   "cell_type": "code",
   "execution_count": null,
   "metadata": {
    "collapsed": false
   },
   "outputs": [],
   "source": [
    "f = plt.figure()\n",
    "order_1 = [\"Pre-Seed\", \"Seed\", \"Series A\", \"Series B\", \"Series C\", \"Series D+\", \"IPO\", \"Acquired\", \"Closed\", \"Other\"]\n",
    "order_2 = [2012, 2013, 2014, 2015, 2016]\n",
    "ax = sns.countplot(x=\"stage\", hue=\"Slice\", order=order_1, hue_order=order_2, data=slice_counts, **outline_bars)\n",
    "#auto_label(ax, fmt='{:,.0f}')\n",
    "plt.xticks(rotation=30)\n",
    "ax.set_yticklabels([\"{:,.0f}\".format(ytick) for ytick in ax.get_yticks().tolist()])\n",
    "ax.set_xlabel(\"Developmental Stage\")\n",
    "ax.set_ylabel(\"Companies\")\n",
    "plt.tight_layout()\n",
    "#f.savefig(save_path+\"slice_counts_over_time.pdf\", bbox_inches=\"tight\")"
   ]
  },
  {
   "cell_type": "markdown",
   "metadata": {},
   "source": [
    "Predictive Power"
   ]
  },
  {
   "cell_type": "code",
   "execution_count": null,
   "metadata": {
    "collapsed": true
   },
   "outputs": [],
   "source": [
    "#constants\n",
    "input_path = path+\"analysis/input/master.db\"\n",
    "feature_config = path+\"analysis/config/master_feature.sql\"\n",
    "label_config = path+\"analysis/config/master_label.sql\"\n",
    "merge_config = path+\"analysis/config/master_merge.sql\"\n",
    "output_folder = path+\"analysis/output/autoVC/17/\"\n",
    "merge_output_pickle = output_folder+\"merge_output.pkl\""
   ]
  },
  {
   "cell_type": "code",
   "execution_count": null,
   "metadata": {
    "collapsed": true
   },
   "outputs": [],
   "source": [
    "features_stage_info = dict(\n",
    "    Age = 'confidence_context_broader_company_age_number',\n",
    "    FundingRounds = 'confidence_validation_funding_rounds_number',\n",
    "    FundingRaised = 'confidence_validation_funding_raised_value_total_number',\n",
    "    SeriesA = 'confidence_validation_funding_round_codes_list_a',\n",
    "    SeriesB = 'confidence_validation_funding_round_codes_list_b',\n",
    "    SeriesC = 'confidence_validation_funding_round_codes_list_c',\n",
    "    SeriesD = 'confidence_validation_funding_round_codes_list_d',\n",
    "    SeriesE = 'confidence_validation_funding_round_codes_list_e',\n",
    "    SeriesF = 'confidence_validation_funding_round_codes_list_f',\n",
    "    SeriesG = 'confidence_validation_funding_round_codes_list_g',\n",
    "    SeriesH = 'confidence_validation_funding_round_codes_list_h',\n",
    "    Closed = \"keys_company_status_closed_bool\",\n",
    "    Acquired = \"keys_company_status_acquired_bool\",\n",
    "    IPO = \"keys_company_status_ipo_bool\"\n",
    ")\n",
    "\n",
    "label_stage_info = dict(\n",
    "    Age = 'outcome_age_number',\n",
    "    FundingRounds = 'outcome_funding_rounds_number',\n",
    "    FundingRaised = 'outcome_funding_raised_value_total_number',\n",
    "    SeriesA = 'outcome_funding_round_codes_list_a',\n",
    "    SeriesB = 'outcome_funding_round_codes_list_b',\n",
    "    SeriesC = 'outcome_funding_round_codes_list_c',\n",
    "    SeriesD = 'outcome_funding_round_codes_list_d',\n",
    "    SeriesE = 'outcome_funding_round_codes_list_e',\n",
    "    SeriesF = 'outcome_funding_round_codes_list_f',\n",
    "    SeriesG = 'outcome_funding_round_codes_list_g',\n",
    "    SeriesH = 'outcome_funding_round_codes_list_h',\n",
    "    Closed = \"outcome_closed_bool\",\n",
    "    Acquired = \"outcome_acquired_bool\",\n",
    "    IPO = \"outcome_ipo_bool\"\n",
    ")"
   ]
  },
  {
   "cell_type": "code",
   "execution_count": null,
   "metadata": {
    "collapsed": false
   },
   "outputs": [],
   "source": [
    "slices = [date(2012+x, 4, 1) for x in range(5)]\n",
    "merge_counts = pd.DataFrame()\n",
    "for feature_date, label_date in combinations_with_replacement(slices, 2):\n",
    "    feature_clean_path = vc.prepare_dataset(input_path, feature_date, feature_config, \"feature\", output_folder)\n",
    "    label_clean_path = vc.prepare_dataset(input_path, label_date, label_config, \"label\", output_folder)\n",
    "    merge_path = vc.merge_datasets(feature_date, label_date, output_folder, feature_clean_path, label_clean_path, merge_config)\n",
    "    df = dp.export_dataframe(merge_path, \"merge\")\n",
    "    df = vc.add_stages(df, features_stage_info, \"feature\")\n",
    "    df = vc.add_stages(df, label_stage_info, \"label\")\n",
    "    df = vc.apply_constraints(df)\n",
    "    y = vc.make_label(df)\n",
    "    df = df[\"keys_company_name_id\", \"keys_company_uuid_id\",\n",
    "            \"keys_company_stage\", \"outcome_stage\",\n",
    "            \"keys_company_stage_number\", \"outcome_stage_number\", \n",
    "            \"outcome_extra_stage_number\", \"outcome_extra_stage_bool\"]\n",
    "    df[\"feature_date\"] = feature_date\n",
    "    df[\"label_date\"] = label_date\n",
    "    merge_counts = pd.concat([df, merge_counts], axis=0, ignore_index=True)\n",
    "    merge_counts.to_pickle(merge_output_pickle)"
   ]
  },
  {
   "cell_type": "code",
   "execution_count": null,
   "metadata": {
    "collapsed": false
   },
   "outputs": [],
   "source": [
    "merge_counts= pd.read_pickle(merge_output_pickle)"
   ]
  },
  {
   "cell_type": "code",
   "execution_count": null,
   "metadata": {
    "collapsed": false
   },
   "outputs": [],
   "source": [
    "merge_counts = merge_counts[[\n",
    "    \"keys_company_name_id\", \"keys_company_uuid_id\",\n",
    "    \"keys_company_stage\", \"outcome_stage\",\n",
    "    \"keys_company_stage_number\", \"outcome_stage_number\", \n",
    "    \"outcome_extra_stage_number\", \"outcome_extra_stage_bool\",\n",
    "    \"feature_date\", \"label_date\"]]"
   ]
  },
  {
   "cell_type": "code",
   "execution_count": null,
   "metadata": {
    "collapsed": true
   },
   "outputs": [],
   "source": [
    "merge_counts[\"outcome_exit_bool\"] = np.where((merge_counts[\"outcome_stage\"] == \"Acquisition\") | (merge_counts[\"outcome_stage\"] == \"IPO\"), 1, 0)"
   ]
  },
  {
   "cell_type": "code",
   "execution_count": null,
   "metadata": {
    "collapsed": true
   },
   "outputs": [],
   "source": [
    "merge_counts2 = merge_counts[merge_counts[\"feature_date\"] != merge_counts[\"label_date\"]]"
   ]
  },
  {
   "cell_type": "code",
   "execution_count": null,
   "metadata": {
    "collapsed": false
   },
   "outputs": [],
   "source": [
    "merge_counts3 = merge_counts2.groupby(['feature_date','keys_company_stage','label_date']).agg({'outcome_extra_stage_bool': lambda x: x.sum() / x.count() * 100})\n",
    "merge_counts3 = merge_counts3.reset_index()\n",
    "merge_counts3[\"forecast_window\"] = merge_counts3[\"label_date\"] - merge_counts3[\"feature_date\"]\n",
    "merge_counts3[\"forecast_window\"] = merge_counts3[\"forecast_window\"].apply(lambda x: x.days // 365).astype(str)"
   ]
  },
  {
   "cell_type": "code",
   "execution_count": null,
   "metadata": {
    "collapsed": false
   },
   "outputs": [],
   "source": [
    "f = plt.figure()\n",
    "ax = sns.boxplot(data = merge_counts3, x = \"outcome_extra_stage_bool\", y = \"forecast_window\", orient=\"h\")\n",
    "ax.set_xticklabels([\"{:,.0f}%\".format(xtick) for xtick in ax.get_xticks().tolist()])\n",
    "ax.set_xlabel(\"Companies that raised an\\nextra funding round or exited\")\n",
    "ax.set_ylabel(\"Forecast Window\\n(Years)\")\n",
    "plt.tight_layout()\n",
    "f.savefig(save_path+\"outcome_forecast_window.pdf\", bbox_inches=\"tight\")"
   ]
  },
  {
   "cell_type": "code",
   "execution_count": null,
   "metadata": {
    "collapsed": false
   },
   "outputs": [],
   "source": [
    "f = plt.figure()\n",
    "ax = sns.boxplot(data = merge_counts3, x = \"outcome_extra_stage_bool\", y = \"keys_company_stage\", orient=\"h\")\n",
    "ax.set_xticklabels([\"{:,.0f}%\".format(xtick) for xtick in ax.get_xticks().tolist()])\n",
    "ax.set_xlabel(\"Companies that raised an\\nextra funding round or exited\")\n",
    "ax.set_ylabel(\"Developmental Stage\")\n",
    "plt.tight_layout()\n",
    "#f.savefig(save_path+\"outcome_stage.pdf\", bbox_inches=\"tight\")"
   ]
  },
  {
   "cell_type": "code",
   "execution_count": null,
   "metadata": {
    "collapsed": false
   },
   "outputs": [],
   "source": [
    "results = get_results(16, \"evaluate\")"
   ]
  },
  {
   "cell_type": "code",
   "execution_count": null,
   "metadata": {
    "collapsed": false
   },
   "outputs": [],
   "source": [
    "list(results)"
   ]
  },
  {
   "cell_type": "code",
   "execution_count": null,
   "metadata": {
    "collapsed": false
   },
   "outputs": [],
   "source": [
    "import pickle\n",
    "with open(r\"C:\\Users\\mark\\Documents\\GitHub\\honours\\dev\\package\\analysis\\output\\autoVC\\16\\evaluate\\stored_slices.pkl\", \"rb\") as prev_slices:\n",
    "    dataset_slices = pickle.load(prev_slices)"
   ]
  },
  {
   "cell_type": "code",
   "execution_count": null,
   "metadata": {
    "collapsed": false
   },
   "outputs": [],
   "source": [
    "dataset_slices = [\n",
    " (datetime.date(2012, 3, 8), datetime.date(2016, 3, 3)), #4\n",
    " (datetime.date(2012, 5, 12), datetime.date(2015, 5, 9)), #3\n",
    " (datetime.date(2012, 5, 12), datetime.date(2016, 5, 7)), #4\n",
    " (datetime.date(2012, 7, 9), datetime.date(2014, 7, 7)), #2\n",
    " (datetime.date(2012, 7, 9), datetime.date(2016, 7, 4)), #4\n",
    " (datetime.date(2013, 1, 1), datetime.date(2015, 1, 1)), #2\n",
    " (datetime.date(2013, 1, 1), datetime.date(2016, 1, 1)), #3\n",
    " (datetime.date(2013, 8, 1), datetime.date(2016, 8, 1)), #3\n",
    " (datetime.date(2014, 7, 7), datetime.date(2016, 7, 4)), #2\n",
    "]"
   ]
  },
  {
   "cell_type": "code",
   "execution_count": null,
   "metadata": {
    "collapsed": true
   },
   "outputs": [],
   "source": [
    "with open(r\"C:\\Users\\mark\\Documents\\GitHub\\honours\\dev\\package\\analysis\\output\\autoVC\\16\\evaluate\\stored_slices.pkl\", \"wb+\") as save_path:\n",
    "    pickle.dump(dataset_slices, save_path)"
   ]
  },
  {
   "cell_type": "code",
   "execution_count": 68,
   "metadata": {
    "collapsed": true
   },
   "outputs": [],
   "source": []
  },
  {
   "cell_type": "code",
   "execution_count": null,
   "metadata": {
    "collapsed": false
   },
   "outputs": [],
   "source": [
    "df_evaluate = get_results(16, \"evaluate\")"
   ]
  },
  {
   "cell_type": "code",
   "execution_count": null,
   "metadata": {
    "collapsed": false
   },
   "outputs": [],
   "source": [
    "df_evaluate"
   ]
  },
  {
   "cell_type": "markdown",
   "metadata": {},
   "source": [
    "%Figure Area under PR curves by training_observations"
   ]
  },
  {
   "cell_type": "code",
   "execution_count": null,
   "metadata": {
    "collapsed": false
   },
   "outputs": [],
   "source": [
    "df_evaluate[\"Test_Scores\"]"
   ]
  },
  {
   "cell_type": "code",
   "execution_count": null,
   "metadata": {
    "collapsed": true
   },
   "outputs": [],
   "source": []
  },
  {
   "cell_type": "code",
   "execution_count": null,
   "metadata": {
    "collapsed": true
   },
   "outputs": [],
   "source": [
    "from collections import defaultdict"
   ]
  },
  {
   "cell_type": "code",
   "execution_count": null,
   "metadata": {
    "collapsed": false
   },
   "outputs": [],
   "source": []
  },
  {
   "cell_type": "code",
   "execution_count": null,
   "metadata": {
    "collapsed": false
   },
   "outputs": [],
   "source": [
    "plot_learning_curve2(df_evaluate)"
   ]
  },
  {
   "cell_type": "code",
   "execution_count": null,
   "metadata": {
    "collapsed": false
   },
   "outputs": [],
   "source": [
    "test_scores = concat_lists(yoo[\"Test_Scores\"])\n",
    "train_scores = concat_lists(yoo[\"Train_Scores\"])\n",
    "train_sizes = np.array(yoo[\"Train_Sizes\"]).squeeze()"
   ]
  },
  {
   "cell_type": "code",
   "execution_count": null,
   "metadata": {
    "collapsed": true
   },
   "outputs": [],
   "source": []
  },
  {
   "cell_type": "code",
   "execution_count": null,
   "metadata": {
    "collapsed": false
   },
   "outputs": [],
   "source": [
    "dic_test = defaultdict(partial(np.ndarray, 0))\n",
    "dic_train = defaultdict(partial(np.ndarray, 0))\n",
    "scores = list(zip(test_scores, train_scores))\n",
    "for i, size in enumerate(train_sizes):\n",
    "    dic_test[size] = np.append(dic_test[size], test_scores[i])\n",
    "    dic_train[size] = np.append(dic_train[size], train_scores[i])#dic_train[size].extend(train_scores[i])\n",
    "train_sizes = []\n",
    "test_scores = []\n",
    "train_scores = []\n",
    "for size in sorted(dic_test):\n",
    "    train_sizes.append(size)\n",
    "    test_scores.append(dic_test[size])\n",
    "    train_scores.append(dic_train[size])"
   ]
  },
  {
   "cell_type": "code",
   "execution_count": null,
   "metadata": {
    "collapsed": false
   },
   "outputs": [],
   "source": [
    "np.array(train_scores)"
   ]
  },
  {
   "cell_type": "code",
   "execution_count": null,
   "metadata": {
    "collapsed": false
   },
   "outputs": [],
   "source": [
    "np.array(train_scores).shape"
   ]
  },
  {
   "cell_type": "code",
   "execution_count": null,
   "metadata": {
    "collapsed": false
   },
   "outputs": [],
   "source": [
    "df_evaluate[\"Test_Scores\"].ix[0]"
   ]
  },
  {
   "cell_type": "code",
   "execution_count": null,
   "metadata": {
    "collapsed": false
   },
   "outputs": [],
   "source": []
  },
  {
   "cell_type": "code",
   "execution_count": null,
   "metadata": {
    "collapsed": false
   },
   "outputs": [],
   "source": []
  },
  {
   "cell_type": "code",
   "execution_count": null,
   "metadata": {
    "collapsed": false
   },
   "outputs": [],
   "source": [
    "df_evaluate[[\"Test_Scores\", \"Train_Scores\", \"Train_Sizes\"]]"
   ]
  },
  {
   "cell_type": "code",
   "execution_count": null,
   "metadata": {
    "collapsed": false
   },
   "outputs": [],
   "source": []
  },
  {
   "cell_type": "code",
   "execution_count": null,
   "metadata": {
    "collapsed": false
   },
   "outputs": [],
   "source": [
    "hi = pd.DataFrame()\n",
    "for x in list(yoo):\n",
    "    hi[x] = [yoo[x].tolist()]\n",
    "    #hi = pd.concat([hi, pd.Series()],axis=1)"
   ]
  },
  {
   "cell_type": "code",
   "execution_count": null,
   "metadata": {
    "collapsed": false
   },
   "outputs": [],
   "source": [
    "yoo.apply(lambda x: x.tolist(), axis=0)"
   ]
  },
  {
   "cell_type": "code",
   "execution_count": null,
   "metadata": {
    "collapsed": false
   },
   "outputs": [],
   "source": [
    "df_evaluate[[\"Test_Scores\", \"Train_Scores\", \"Train_Sizes\"]].ix[0]"
   ]
  },
  {
   "cell_type": "code",
   "execution_count": null,
   "metadata": {
    "collapsed": false
   },
   "outputs": [],
   "source": [
    "yoo[[\"Test_Scores\", \"Train_Scores\", \"Train_Sizes\"]].ix[0]\n",
    "yoo[\"Train_Sizes\"] = yoo[\"Train_Sizes\"].apply(lambda x: [x])\n",
    "yoo = yoo.apply(lambda x: list(chain.from_iterable(x)))"
   ]
  },
  {
   "cell_type": "code",
   "execution_count": null,
   "metadata": {
    "collapsed": false
   },
   "outputs": [],
   "source": [
    "plot_learning_curve2(yoo)"
   ]
  },
  {
   "cell_type": "code",
   "execution_count": null,
   "metadata": {
    "collapsed": false
   },
   "outputs": [],
   "source": [
    "f = plt.figure()\n",
    "plot_learning_curve2(df_evaluate)\n",
    "ax = plt.gca()\n",
    "ax.set_xticklabels([\"{:,.0f}\".format(xtick) for xtick in ax.get_xticks().tolist()])\n",
    "ax.set_xlabel(\"Training Examples\")\n",
    "ax.set_ylabel(\"Area Under PR Curve\")\n",
    "plt.tight_layout()\n",
    "f.savefig(evaluation_path+\"efficiency_learning_curve.pdf\", bbox_inches=\"tight\")"
   ]
  },
  {
   "cell_type": "markdown",
   "metadata": {},
   "source": [
    "%Figure Time by training_observations"
   ]
  },
  {
   "cell_type": "markdown",
   "metadata": {},
   "source": [
    "%Figure PR curves for models trained by time slices (line plot)."
   ]
  },
  {
   "cell_type": "code",
   "execution_count": null,
   "metadata": {
    "collapsed": false
   },
   "outputs": [],
   "source": [
    "df_evaluate = get_results(16, \"evaluate\")"
   ]
  },
  {
   "cell_type": "code",
   "execution_count": null,
   "metadata": {
    "collapsed": false
   },
   "outputs": [],
   "source": [
    "df_evaluate[\"feature_date_str\"] = df_evaluate[\"feature_date\"].apply(lambda x: x.year)"
   ]
  },
  {
   "cell_type": "code",
   "execution_count": null,
   "metadata": {
    "collapsed": true
   },
   "outputs": [],
   "source": [
    "df_evaluate[\"forecast_window_years\"] = df_evaluate[\"forecast_window\"].apply(lambda x: x.days // 360).astype(str)"
   ]
  },
  {
   "cell_type": "code",
   "execution_count": null,
   "metadata": {
    "collapsed": true
   },
   "outputs": [],
   "source": [
    "f = plt.figure()\n",
    "ax = sns.barplot(x=yo.values, y = yo.index)\n",
    "ax.set_ylabel(\"Developmental Stage\")\n",
    "ax.set_xlabel(\"F1 Score\")\n",
    "add_vertical_line(ax, overall, \"Overall\", color=\"r\")\n",
    "plt.tight_layout()\n",
    "f.savefig(evaluation_path+\"predictive_stage.pdf\", bbox_inches=\"tight\")"
   ]
  },
  {
   "cell_type": "code",
   "execution_count": null,
   "metadata": {
    "collapsed": false
   },
   "outputs": [],
   "source": [
    "df_evaluate.groupby([\"forecast_window_years\", \"feature_date_str\"])[\"F1\"].agg(lambda x: np.std(x))"
   ]
  },
  {
   "cell_type": "code",
   "execution_count": null,
   "metadata": {
    "collapsed": false
   },
   "outputs": [],
   "source": [
    "f= plt.figure()\n",
    "ax = sns.barplot(x = \"F1\", y = \"forecast_window_years\", data=df_evaluate, orient=\"h\")\n",
    "ax.set_ylabel(\"Forecast Window (Years)\")\n",
    "ax.set_xlabel(\"F1 Score\")\n",
    "plt.tight_layout()\n",
    "f.savefig(evaluation_path+\"predictive_window.pdf\", bbox_inches=\"tight\")"
   ]
  },
  {
   "cell_type": "code",
   "execution_count": null,
   "metadata": {
    "collapsed": false
   },
   "outputs": [],
   "source": [
    "df_evaluate[[\"Y_Pred\", \"Y_True\", \"feature_stage\"]]"
   ]
  },
  {
   "cell_type": "code",
   "execution_count": null,
   "metadata": {
    "collapsed": false
   },
   "outputs": [],
   "source": [
    "tags = df_evaluate[\"Y_Pred\"].apply(pd.Series)\n",
    "tags = tags.rename(columns = lambda x : 'listcol_' + str(x))\n",
    "df = pd.concat([df[:], tags[:]], axis=1)"
   ]
  },
  {
   "cell_type": "code",
   "execution_count": null,
   "metadata": {
    "collapsed": false
   },
   "outputs": [],
   "source": [
    "a = [\"a\"]\n",
    "a.append(\"a\")\n",
    "a"
   ]
  },
  {
   "cell_type": "code",
   "execution_count": null,
   "metadata": {
    "collapsed": false
   },
   "outputs": [],
   "source": [
    "df_evaluate[\"forecast_window_years\"]"
   ]
  },
  {
   "cell_type": "code",
   "execution_count": null,
   "metadata": {
    "collapsed": false
   },
   "outputs": [],
   "source": [
    "df_evaluate2 = df_evaluate[df_evaluate[\"forecast_window_years\"] ==\"2\"]\n",
    "df_evaluate2"
   ]
  },
  {
   "cell_type": "code",
   "execution_count": null,
   "metadata": {
    "collapsed": false
   },
   "outputs": [],
   "source": [
    "f, auc = plot_roc_curve(df_evaluate2, iv = \"feature_date_str\", dv = \"PRC\", x = \"Recall\", y = \"Precision\", n = 500)\n",
    "ax =  plt.gca()\n",
    "add_auc_to_legend(auc, ax, title=\"Slice Date (AUC PRC)\")\n",
    "plt.tight_layout()\n",
    "f.savefig(evaluation_path+\"pr_curve_slice.pdf\", bbox_inches=\"tight\")"
   ]
  },
  {
   "cell_type": "code",
   "execution_count": null,
   "metadata": {
    "collapsed": false
   },
   "outputs": [],
   "source": [
    "f, auc = plot_roc_curve(df_evaluate, iv = \"forecast_window_years\", dv = \"PRC\", x = \"Recall\", y = \"Precision\", n = 500)\n",
    "ax = plt.gca()\n",
    "add_auc_to_legend(auc, ax, title=\"Forecast Window (AUC PRC)\")\n",
    "plt.tight_layout()\n",
    "f.savefig(evaluation_path+\"pr_curve_window.pdf\", bbox_inches=\"tight\")"
   ]
  },
  {
   "cell_type": "code",
   "execution_count": null,
   "metadata": {
    "collapsed": false
   },
   "outputs": [],
   "source": [
    "a = df_evaluate.ix[0][\"feature_names\"]\n",
    "b= df_evaluate.ix[0][\"Weights\"]"
   ]
  },
  {
   "cell_type": "code",
   "execution_count": 179,
   "metadata": {
    "collapsed": false,
    "scrolled": true
   },
   "outputs": [
    {
     "name": "stdout",
     "output_type": "stream",
     "text": [
      "Error: Time\n",
      "Error: Imputer\n",
      "Error: Transformer\n",
      "Error: Scaler\n",
      "Error: Extractor\n"
     ]
    }
   ],
   "source": [
    "df_evaluate = get_results(19, \"evaluate\")"
   ]
  },
  {
   "cell_type": "code",
   "execution_count": 180,
   "metadata": {
    "collapsed": false
   },
   "outputs": [],
   "source": [
    "df_evaluate[\"feature_date_str\"] = df_evaluate[\"feature_date\"].apply(lambda x: x.year)\n",
    "df_evaluate[\"forecast_window_years\"] = df_evaluate[\"forecast_window\"].apply(lambda x: x.days // 360).astype(str)"
   ]
  },
  {
   "cell_type": "code",
   "execution_count": 181,
   "metadata": {
    "collapsed": false
   },
   "outputs": [
    {
     "name": "stderr",
     "output_type": "stream",
     "text": [
      "C:\\ProgramData\\Anaconda3\\lib\\site-packages\\ipykernel\\__main__.py:14: SettingWithCopyWarning: \n",
      "A value is trying to be set on a copy of a slice from a DataFrame.\n",
      "Try using .loc[row_indexer,col_indexer] = value instead\n",
      "\n",
      "See the caveats in the documentation: http://pandas.pydata.org/pandas-docs/stable/indexing.html#indexing-view-versus-copy\n"
     ]
    }
   ],
   "source": [
    "hi = df_evaluate[[\"Y_Pred\", \"Y_True\", \"feature_stage\",\"forecast_window_years\",\"feature_date_str\"]]\n",
    "df = get_feature_values(hi)\n",
    "results = feature_function(df, metrics.f1_score, group = [\"feature_stage\"])\n",
    "overall = feature_function(df, metrics.f1_score)"
   ]
  },
  {
   "cell_type": "code",
   "execution_count": 182,
   "metadata": {
    "collapsed": false,
    "scrolled": false
   },
   "outputs": [
    {
     "data": {
      "image/png": "[encoded data removed]",
      "text/plain": [
       "<matplotlib.figure.Figure at 0x2a696fcae10>"
      ]
     },
     "metadata": {},
     "output_type": "display_data"
    }
   ],
   "source": [
    "f = plt.figure()\n",
    "ax = sns.barplot(y=results.values, x = results.index, orient=\"v\", **outline_bars)\n",
    "auto_label(ax, fmt='{:,.2f}')\n",
    "add_horizontal_line(ax, overall+ 0.01, \"Overall: {:,.2f}\".format(overall), color=\"r\")\n",
    "ax.set_xlabel(\"Developmental Stage\")\n",
    "ax.set_ylabel(\"F1 Score\")\n",
    "plt.tight_layout()\n",
    "#f.savefig(evaluation_path+\"predictive_stage.pdf\", bbox_inches=\"tight\")"
   ]
  },
  {
   "cell_type": "code",
   "execution_count": 241,
   "metadata": {
    "collapsed": false
   },
   "outputs": [
    {
     "name": "stdout",
     "output_type": "stream",
     "text": [
      "Error: Time\n",
      "Error: Imputer\n",
      "Error: Transformer\n",
      "Error: Scaler\n",
      "Error: Extractor\n"
     ]
    },
    {
     "data": {
      "text/plain": [
       "[('imputer',\n",
       "  Imputer(axis=0, copy=True, missing_values='NaN', strategy='most_frequent',\n",
       "      verbose=0)),\n",
       " ('absolute', FunctionTransformer(accept_sparse=False, func=<ufunc 'absolute'>,\n",
       "            inv_kw_args=None, inverse_func=None, kw_args=None, pass_y=False,\n",
       "            validate=True)),\n",
       " ('transformer', FunctionTransformer(accept_sparse=False, func=<ufunc 'sqrt'>,\n",
       "            inv_kw_args=None, inverse_func=None, kw_args=None, pass_y=False,\n",
       "            validate=True)),\n",
       " ('scaler', MinMaxScaler(copy=True, feature_range=(0, 1))),\n",
       " ('clf', RandomForestClassifier(bootstrap=True, class_weight='balanced',\n",
       "              criterion='entropy', max_depth=8, max_features='auto',\n",
       "              max_leaf_nodes=None, min_impurity_split=1e-07,\n",
       "              min_samples_leaf=1, min_samples_split=2,\n",
       "              min_weight_fraction_leaf=0.0, n_estimators=34, n_jobs=1,\n",
       "              oob_score=False, random_state=None, verbose=0,\n",
       "              warm_start=False))]"
      ]
     },
     "execution_count": 241,
     "metadata": {},
     "output_type": "execute_result"
    }
   ],
   "source": [
    "get_results(20, \"evaluate\")[\"Params\"].ix[0][\"steps\"]"
   ]
  },
  {
   "cell_type": "code",
   "execution_count": 245,
   "metadata": {
    "collapsed": false,
    "scrolled": true
   },
   "outputs": [
    {
     "name": "stdout",
     "output_type": "stream",
     "text": [
      "Error: Time\n",
      "Error: Imputer\n",
      "Error: Transformer\n",
      "Error: Scaler\n",
      "Error: Extractor\n"
     ]
    }
   ],
   "source": [
    "df_evaluate = get_results(20, \"evaluate\")"
   ]
  },
  {
   "cell_type": "code",
   "execution_count": 219,
   "metadata": {
    "collapsed": false
   },
   "outputs": [],
   "source": [
    "df_evaluate[\"feature_date_str\"] = df_evaluate[\"feature_date\"].apply(lambda x: x.year)\n",
    "df_evaluate[\"forecast_window_years\"] = df_evaluate[\"forecast_window\"].apply(lambda x: x.days // 360).astype(str)\n",
    "df_evaluate[\"feature_stage_single\"] = df_evaluate[\"feature_stage\"].apply(lambda x: x.value_counts().index[0])"
   ]
  },
  {
   "cell_type": "code",
   "execution_count": 220,
   "metadata": {
    "collapsed": false
   },
   "outputs": [
    {
     "name": "stderr",
     "output_type": "stream",
     "text": [
      "C:\\ProgramData\\Anaconda3\\lib\\site-packages\\ipykernel\\__main__.py:14: SettingWithCopyWarning: \n",
      "A value is trying to be set on a copy of a slice from a DataFrame.\n",
      "Try using .loc[row_indexer,col_indexer] = value instead\n",
      "\n",
      "See the caveats in the documentation: http://pandas.pydata.org/pandas-docs/stable/indexing.html#indexing-view-versus-copy\n"
     ]
    }
   ],
   "source": [
    "hi = df_evaluate[[\"Y_Pred\", \"Y_True\", \"feature_stage_single\",\"forecast_window_years\",\"feature_date_str\"]]\n",
    "df = get_feature_values(hi)\n",
    "results2 = feature_function(df, metrics.f1_score, group = [\"feature_stage_single\"])\n",
    "overall2 = feature_function(df, metrics.f1_score)"
   ]
  },
  {
   "cell_type": "code",
   "execution_count": 222,
   "metadata": {
    "collapsed": false,
    "scrolled": true
   },
   "outputs": [
    {
     "data": {
      "image/png": "[encoded data removed]",
      "text/plain": [
       "<matplotlib.figure.Figure at 0x2a6951ac908>"
      ]
     },
     "metadata": {},
     "output_type": "display_data"
    }
   ],
   "source": [
    "f = plt.figure()\n",
    "ax = sns.barplot(y=results2.values, x = results2.index, orient=\"v\", **outline_bars)\n",
    "auto_label(ax, fmt='{:,.2f}')\n",
    "add_horizontal_line(ax, overall2+ 0.01, \"Overall: {:,.2f}\".format(overall2), color=\"r\")\n",
    "ax.set_xlabel(\"Developmental Stage\")\n",
    "ax.set_ylabel(\"F1 Score\")\n",
    "plt.tight_layout()\n",
    "#f.savefig(evaluation_path+\"predictive_stage.pdf\", bbox_inches=\"tight\")"
   ]
  },
  {
   "cell_type": "code",
   "execution_count": 223,
   "metadata": {
    "collapsed": false
   },
   "outputs": [],
   "source": [
    "if type(results) is pd.Series: results = results.to_frame()\n",
    "results[\"method\"] = \"Combined\"\n",
    "if type(results2) is pd.Series: results2 = results2.to_frame()\n",
    "results2[\"method\"] = \"Individual\"\n",
    "results3 = pd.concat([results, results2], axis=0)"
   ]
  },
  {
   "cell_type": "code",
   "execution_count": 224,
   "metadata": {
    "collapsed": false
   },
   "outputs": [
    {
     "data": {
      "text/html": [
       "<div>\n",
       "<table border=\"1\" class=\"dataframe\">\n",
       "  <thead>\n",
       "    <tr style=\"text-align: right;\">\n",
       "      <th></th>\n",
       "      <th>0</th>\n",
       "      <th>method</th>\n",
       "    </tr>\n",
       "  </thead>\n",
       "  <tbody>\n",
       "    <tr>\n",
       "      <th>Pre-Seed</th>\n",
       "      <td>0.332</td>\n",
       "      <td>Combined</td>\n",
       "    </tr>\n",
       "    <tr>\n",
       "      <th>Seed</th>\n",
       "      <td>0.359</td>\n",
       "      <td>Combined</td>\n",
       "    </tr>\n",
       "    <tr>\n",
       "      <th>Series A</th>\n",
       "      <td>0.517</td>\n",
       "      <td>Combined</td>\n",
       "    </tr>\n",
       "    <tr>\n",
       "      <th>Series B</th>\n",
       "      <td>0.583</td>\n",
       "      <td>Combined</td>\n",
       "    </tr>\n",
       "    <tr>\n",
       "      <th>Series C</th>\n",
       "      <td>0.623</td>\n",
       "      <td>Combined</td>\n",
       "    </tr>\n",
       "    <tr>\n",
       "      <th>Series D+</th>\n",
       "      <td>0.532</td>\n",
       "      <td>Combined</td>\n",
       "    </tr>\n",
       "    <tr>\n",
       "      <th>Pre-Seed</th>\n",
       "      <td>0.357</td>\n",
       "      <td>Individual</td>\n",
       "    </tr>\n",
       "    <tr>\n",
       "      <th>Seed</th>\n",
       "      <td>0.463</td>\n",
       "      <td>Individual</td>\n",
       "    </tr>\n",
       "    <tr>\n",
       "      <th>Series A</th>\n",
       "      <td>0.622</td>\n",
       "      <td>Individual</td>\n",
       "    </tr>\n",
       "    <tr>\n",
       "      <th>Series B</th>\n",
       "      <td>0.640</td>\n",
       "      <td>Individual</td>\n",
       "    </tr>\n",
       "    <tr>\n",
       "      <th>Series C</th>\n",
       "      <td>0.674</td>\n",
       "      <td>Individual</td>\n",
       "    </tr>\n",
       "    <tr>\n",
       "      <th>Series D+</th>\n",
       "      <td>0.656</td>\n",
       "      <td>Individual</td>\n",
       "    </tr>\n",
       "  </tbody>\n",
       "</table>\n",
       "</div>"
      ],
      "text/plain": [
       "               0      method\n",
       "Pre-Seed   0.332    Combined\n",
       "Seed       0.359    Combined\n",
       "Series A   0.517    Combined\n",
       "Series B   0.583    Combined\n",
       "Series C   0.623    Combined\n",
       "Series D+  0.532    Combined\n",
       "Pre-Seed   0.357  Individual\n",
       "Seed       0.463  Individual\n",
       "Series A   0.622  Individual\n",
       "Series B   0.640  Individual\n",
       "Series C   0.674  Individual\n",
       "Series D+  0.656  Individual"
      ]
     },
     "execution_count": 224,
     "metadata": {},
     "output_type": "execute_result"
    }
   ],
   "source": [
    "results3"
   ]
  },
  {
   "cell_type": "code",
   "execution_count": 244,
   "metadata": {
    "collapsed": false
   },
   "outputs": [
    {
     "data": {
      "image/png": "[encoded data removed]",
      "text/plain": [
       "<matplotlib.figure.Figure at 0x2a6941f54a8>"
      ]
     },
     "metadata": {},
     "output_type": "display_data"
    }
   ],
   "source": [
    "chart_id = \"f1_individual_combined\"\n",
    "results3 = pd.read_pickle(evaluation_path + chart_id + \".pkl\")\n",
    "\n",
    "f = plt.figure()\n",
    "ax = sns.barplot(y=results3[0], x = results3.index, hue = results3[\"method\"], orient=\"v\", **outline_bars)\n",
    "auto_label(ax, fmt='{:,.2f}')\n",
    "add_horizontal_line(ax, overall+ 0.0, \"Overall: {:,.2f}\".format(overall), color=\"blue\")\n",
    "add_horizontal_line(ax, overall2+ 0.02, \"Overall: {:,.2f}\".format(overall2), color=\"lime\")\n",
    "ax.set_xlabel(\"Developmental Stage\")\n",
    "ax.set_ylabel(\"F1 Score (Positive Class)\")\n",
    "ax.legend(title=\"Fit Method\")\n",
    "plt.tight_layout()\n",
    "\n",
    "f.savefig(evaluation_path + chart_id + \".pdf\", bbox_inches=\"tight\")\n",
    "results3.to_pickle(evaluation_path + chart_id + \".pkl\")"
   ]
  },
  {
   "cell_type": "code",
   "execution_count": 133,
   "metadata": {
    "collapsed": false
   },
   "outputs": [
    {
     "data": {
      "text/plain": [
       "feature_date_str  forecast_window_years       \n",
       "2012              2                      count         1.000\n",
       "                                         mean     118121.000\n",
       "                                         std             NaN\n",
       "                                         min      118121.000\n",
       "                                         25%      118121.000\n",
       "                                         50%      118121.000\n",
       "                                         75%      118121.000\n",
       "                                         max      118121.000\n",
       "                  3                      count         1.000\n",
       "                                         mean      84611.000\n",
       "                                         std             NaN\n",
       "                                         min       84611.000\n",
       "                                         25%       84611.000\n",
       "                                         50%       84611.000\n",
       "                                         75%       84611.000\n",
       "                                         max       84611.000\n",
       "                  4                      count         3.000\n",
       "                                         mean      55824.000\n",
       "                                         std           0.000\n",
       "                                         min       55824.000\n",
       "                                         25%       55824.000\n",
       "                                         50%       55824.000\n",
       "                                         75%       55824.000\n",
       "                                         max       55824.000\n",
       "2013              2                      count         1.000\n",
       "                                         mean     118024.000\n",
       "                                         std             NaN\n",
       "                                         min      118024.000\n",
       "                                         25%      118024.000\n",
       "                                         50%      118024.000\n",
       "                                         75%      118024.000\n",
       "                                         max      118024.000\n",
       "                  3                      count         2.000\n",
       "                                         mean      84403.500\n",
       "                                         std          78.489\n",
       "                                         min       84348.000\n",
       "                                         25%       84375.750\n",
       "                                         50%       84403.500\n",
       "                                         75%       84431.250\n",
       "                                         max       84459.000\n",
       "2014              2                      count         1.000\n",
       "                                         mean     118121.000\n",
       "                                         std             NaN\n",
       "                                         min      118121.000\n",
       "                                         25%      118121.000\n",
       "                                         50%      118121.000\n",
       "                                         75%      118121.000\n",
       "                                         max      118121.000\n",
       "Name: total, dtype: float64"
      ]
     },
     "execution_count": 133,
     "metadata": {},
     "output_type": "execute_result"
    }
   ],
   "source": [
    "df_evaluate.groupby([\"feature_date_str\",\"forecast_window_years\"])[\"total\"].describe()"
   ]
  },
  {
   "cell_type": "code",
   "execution_count": 135,
   "metadata": {
    "collapsed": false
   },
   "outputs": [
    {
     "name": "stdout",
     "output_type": "stream",
     "text": [
      "             precision    recall  f1-score   support\n",
      "\n",
      "          0       0.95      0.77      0.85    106583\n",
      "          1       0.22      0.59      0.32     11538\n",
      "\n",
      "avg / total       0.88      0.76      0.80    118121\n",
      "\n",
      "             precision    recall  f1-score   support\n",
      "\n",
      "          0       0.95      0.75      0.84    106489\n",
      "          1       0.21      0.62      0.32     11535\n",
      "\n",
      "avg / total       0.88      0.74      0.79    118024\n",
      "\n",
      "             precision    recall  f1-score   support\n",
      "\n",
      "          0       0.95      0.76      0.84    106583\n",
      "          1       0.21      0.61      0.32     11538\n",
      "\n",
      "avg / total       0.88      0.74      0.79    118121\n",
      "\n"
     ]
    }
   ],
   "source": [
    "df2 = df[df[\"forecast_window_years\"] == \"2\"]\n",
    "cl_reports = feature_function(df2, metrics.classification_report, group = [\"feature_date_str\"])\n",
    "for rep in cl_reports:\n",
    "    print(rep)"
   ]
  },
  {
   "cell_type": "code",
   "execution_count": 31,
   "metadata": {
    "collapsed": false
   },
   "outputs": [
    {
     "name": "stderr",
     "output_type": "stream",
     "text": [
      "C:\\ProgramData\\Anaconda3\\lib\\site-packages\\ipykernel\\__main__.py:14: SettingWithCopyWarning: \n",
      "A value is trying to be set on a copy of a slice from a DataFrame.\n",
      "Try using .loc[row_indexer,col_indexer] = value instead\n",
      "\n",
      "See the caveats in the documentation: http://pandas.pydata.org/pandas-docs/stable/indexing.html#indexing-view-versus-copy\n"
     ]
    },
    {
     "data": {
      "text/plain": [
       "feature_stage  forecast_window_years\n",
       "Pre-Seed       2                        0.257\n",
       "               3                        0.357\n",
       "               4                        0.423\n",
       "Seed           2                        0.284\n",
       "               3                        0.390\n",
       "               4                        0.481\n",
       "Series A       2                        0.429\n",
       "               3                        0.553\n",
       "               4                        0.615\n",
       "Series B       2                        0.506\n",
       "               3                        0.602\n",
       "               4                        0.662\n",
       "Series C       2                        0.502\n",
       "               3                        0.652\n",
       "               4                        0.719\n",
       "Series D+      2                        0.361\n",
       "               3                        0.583\n",
       "               4                        0.652\n",
       "dtype: float64"
      ]
     },
     "execution_count": 31,
     "metadata": {},
     "output_type": "execute_result"
    }
   ],
   "source": [
    "hi = df_evaluate[[\"Y_Pred\", \"Y_True\", \"feature_stage\",\"forecast_window_years\", \"feature_date_str\"]]\n",
    "output2 = get_feature_values(hi, metrics.f1_score, group = [\"feature_stage\",\"forecast_window_years\"])\n",
    "overall = get_feature_values(hi, metrics.f1_score)"
   ]
  },
  {
   "cell_type": "code",
   "execution_count": 56,
   "metadata": {
    "collapsed": false
   },
   "outputs": [],
   "source": [
    "cross = pd.crosstab(values = output2.values, aggfunc=np.mean, columns = output2.index.get_level_values(level=0), index =output2.index.get_level_values(level=1))"
   ]
  },
  {
   "cell_type": "code",
   "execution_count": 69,
   "metadata": {
    "collapsed": false
   },
   "outputs": [
    {
     "data": {
      "image/png": "[encoded data removed]",
      "text/plain": [
       "<matplotlib.figure.Figure at 0x26edbe081d0>"
      ]
     },
     "metadata": {},
     "output_type": "display_data"
    }
   ],
   "source": [
    "f = plt.figure()\n",
    "ax = sns.heatmap(cross, annot=True, square=True, cbar=False, **outline_bars)\n",
    "ax.set_ylabel(\"Forecast Window\")\n",
    "ax.set_xlabel(\"Developmental Stage\")\n",
    "plt.tight_layout()\n",
    "f.savefig(evaluation_path+\"predictive_heatmap.pdf\", bbox_inches=\"tight\")"
   ]
  },
  {
   "cell_type": "code",
   "execution_count": 100,
   "metadata": {
    "collapsed": false
   },
   "outputs": [
    {
     "name": "stdout",
     "output_type": "stream",
     "text": [
      "Error: Time\n",
      "Error: Imputer\n",
      "Error: Transformer\n",
      "Error: Scaler\n",
      "Error: Extractor\n"
     ]
    }
   ],
   "source": [
    "df_evaluate = get_results(16, \"evaluate\")"
   ]
  },
  {
   "cell_type": "code",
   "execution_count": 101,
   "metadata": {
    "collapsed": true
   },
   "outputs": [],
   "source": [
    "df_evaluate[\"feature_date_str\"] = df_evaluate[\"feature_date\"].apply(lambda x: x.year)\n",
    "df_evaluate[\"forecast_window_years\"] = df_evaluate[\"forecast_window\"].apply(lambda x: x.days // 360).astype(str)"
   ]
  },
  {
   "cell_type": "code",
   "execution_count": 102,
   "metadata": {
    "collapsed": false
   },
   "outputs": [],
   "source": []
  },
  {
   "cell_type": "code",
   "execution_count": 103,
   "metadata": {
    "collapsed": false
   },
   "outputs": [
    {
     "data": {
      "text/plain": [
       "0        Seed\n",
       "1    Pre-Seed\n",
       "Name: feature_stage_single, dtype: object"
      ]
     },
     "execution_count": 103,
     "metadata": {},
     "output_type": "execute_result"
    }
   ],
   "source": []
  },
  {
   "cell_type": "code",
   "execution_count": 22,
   "metadata": {
    "collapsed": false
   },
   "outputs": [
    {
     "name": "stderr",
     "output_type": "stream",
     "text": [
      "C:\\ProgramData\\Anaconda3\\lib\\site-packages\\ipykernel\\__main__.py:14: SettingWithCopyWarning: \n",
      "A value is trying to be set on a copy of a slice from a DataFrame.\n",
      "Try using .loc[row_indexer,col_indexer] = value instead\n",
      "\n",
      "See the caveats in the documentation: http://pandas.pydata.org/pandas-docs/stable/indexing.html#indexing-view-versus-copy\n"
     ]
    }
   ],
   "source": [
    "hi = df_evaluate[[\"feature_names\", \"Weights\", \"forecast_window_years\",\"feature_date_str\"]]\n",
    "df = get_feature_values(hi, total=\"feature_names\")"
   ]
  },
  {
   "cell_type": "code",
   "execution_count": 23,
   "metadata": {
    "collapsed": false
   },
   "outputs": [],
   "source": [
    "df[\"Weights\"] = df[\"Weights\"].astype(float)"
   ]
  },
  {
   "cell_type": "code",
   "execution_count": 45,
   "metadata": {
    "collapsed": true
   },
   "outputs": [],
   "source": [
    "df[\"feature_supergroups\"] = df[\"feature_names\"].apply(lambda x: x.split(\"_\")[1])\n",
    "df[\"feature_groups\"] = df[\"feature_names\"].apply(lambda x: x.split(\"_\")[2])\n",
    "df[\"feature_subgroups\"] = df[\"feature_names\"].apply(lambda x: \"_\".join(x.split(\"_\")[2:4]))"
   ]
  },
  {
   "cell_type": "code",
   "execution_count": 315,
   "metadata": {
    "collapsed": false
   },
   "outputs": [],
   "source": [
    "yo = df.groupby([\"forecast_window_years\",\"feature_groups\"]).agg({\"Weights\":sum})\n",
    "yoo = yo.groupby(level=0, group_keys=False)\n",
    "yooo = yoo.apply(lambda x: divide_groups(x, yoo.sum()))\n",
    "yooo = yooo.groupby(level=0, group_keys=False)\n",
    "weights = yooo.apply(lambda x: x.sort_values(by=\"Weights\",ascending=False))[\"Weights\"]"
   ]
  },
  {
   "cell_type": "code",
   "execution_count": 316,
   "metadata": {
    "collapsed": false
   },
   "outputs": [
    {
     "data": {
      "text/plain": [
       "array([ 0.42588218,  0.22633908,  0.12002801,  0.11005097,  0.05232413,\n",
       "        0.04911522,  0.01177418,  0.00448624,  0.        ,  0.        ,\n",
       "        0.44555856,  0.2396361 ,  0.10671208,  0.09663917,  0.05053688,\n",
       "        0.04463953,  0.01079072,  0.00548696,  0.        ,  0.        ,\n",
       "        0.44452473,  0.20268268,  0.14598944,  0.106741  ,  0.04668177,\n",
       "        0.03904024,  0.00859172,  0.00574842,  0.        ,  0.        ])"
      ]
     },
     "execution_count": 316,
     "metadata": {},
     "output_type": "execute_result"
    }
   ],
   "source": [
    "weights.values"
   ]
  },
  {
   "cell_type": "code",
   "execution_count": 321,
   "metadata": {
    "collapsed": false
   },
   "outputs": [
    {
     "data": {
      "image/png": "[encoded data removed]",
      "text/plain": [
       "<matplotlib.figure.Figure at 0x26e84363a20>"
      ]
     },
     "metadata": {},
     "output_type": "display_data"
    }
   ],
   "source": [
    "f = plt.figure()\n",
    "ax = sns.barplot(y = weights.values, hue = weights.index.get_level_values(level=0), x=weights.index.get_level_values(level=1), orient=\"v\", **outline_bars)\n",
    "ax.set_xlabel(\"Feature Groups\")\n",
    "ax.set_ylabel(\"Model Weights\")\n",
    "plt.xticks(rotation=30)\n",
    "plt.legend(title=\"Forecast Window\")\n",
    "plt.tight_layout()\n",
    "f.savefig(evaluation_path+\"feature_groups_window.pdf\", bbox_inches=\"tight\")"
   ]
  },
  {
   "cell_type": "code",
   "execution_count": 43,
   "metadata": {
    "collapsed": false
   },
   "outputs": [],
   "source": [
    "yo = df.groupby([\"feature_date_str\",\"feature_groups\"]).agg({\"Weights\":sum})\n",
    "yoo = yo.groupby(level=0, group_keys=False)\n",
    "yooo = yoo.apply(lambda x: divide_groups(x, yoo.sum()))\n",
    "yooo = yooo.groupby(level=0, group_keys=False)\n",
    "weights = yooo.apply(lambda x: x.sort_values(by=\"Weights\",ascending=False))[\"Weights\"]"
   ]
  },
  {
   "cell_type": "code",
   "execution_count": 44,
   "metadata": {
    "collapsed": false
   },
   "outputs": [
    {
     "data": {
      "image/png": "[encoded data removed]",
      "text/plain": [
       "<matplotlib.figure.Figure at 0x2a691a8e470>"
      ]
     },
     "metadata": {},
     "output_type": "display_data"
    }
   ],
   "source": [
    "f = plt.figure()\n",
    "ax = sns.barplot(y = weights.values, hue = weights.index.get_level_values(level=0), x=weights.index.get_level_values(level=1), orient=\"v\", **outline_bars)\n",
    "ax.set_xlabel(\"Feature Groups\")\n",
    "ax.set_ylabel(\"Model Weights\")\n",
    "plt.xticks(rotation=30)\n",
    "plt.legend(title=\"Slice Date\")\n",
    "plt.tight_layout()\n",
    "f.savefig(evaluation_path+\"feature_groups_slice.pdf\", bbox_inches=\"tight\")"
   ]
  },
  {
   "cell_type": "code",
   "execution_count": 46,
   "metadata": {
    "collapsed": false
   },
   "outputs": [],
   "source": [
    "yo = df.groupby([\"forecast_window_years\",\"feature_supergroups\"]).agg({\"Weights\":sum})\n",
    "yoo = yo.groupby(level=0, group_keys=False)\n",
    "yooo = yoo.apply(lambda x: divide_groups(x, yoo.sum()))\n",
    "yooo = yooo.groupby(level=0, group_keys=False)\n",
    "weights = yooo.apply(lambda x: x.sort_values(by=\"Weights\",ascending=False))[\"Weights\"]"
   ]
  },
  {
   "cell_type": "code",
   "execution_count": 48,
   "metadata": {
    "collapsed": false
   },
   "outputs": [
    {
     "data": {
      "image/png": "[encoded data removed]",
      "text/plain": [
       "<matplotlib.figure.Figure at 0x2a691c4a278>"
      ]
     },
     "metadata": {},
     "output_type": "display_data"
    }
   ],
   "source": [
    "f = plt.figure()\n",
    "ax = sns.barplot(y = weights.values, hue = weights.index.get_level_values(level=0), x=weights.index.get_level_values(level=1), orient=\"v\", **outline_bars)\n",
    "ax.set_xlabel(\"Feature Groups\")\n",
    "ax.set_ylabel(\"Model Weights\")\n",
    "ax.set_ylim(ymax=1)\n",
    "plt.xticks(rotation=30)\n",
    "plt.legend(title=\"Forecast Window\")\n",
    "plt.tight_layout()\n",
    "#f.savefig(evaluation_path+\"feature_groups_window.pdf\", bbox_inches=\"tight\")"
   ]
  },
  {
   "cell_type": "code",
   "execution_count": null,
   "metadata": {
    "collapsed": true
   },
   "outputs": [],
   "source": []
  },
  {
   "cell_type": "code",
   "execution_count": 228,
   "metadata": {
    "collapsed": false
   },
   "outputs": [
    {
     "name": "stdout",
     "output_type": "stream",
     "text": [
      "Error: Time\n",
      "Error: Imputer\n",
      "Error: Transformer\n",
      "Error: Scaler\n",
      "Error: Extractor\n"
     ]
    }
   ],
   "source": [
    "df_evaluate = get_results(16, \"evaluate\")"
   ]
  },
  {
   "cell_type": "code",
   "execution_count": 229,
   "metadata": {
    "collapsed": true
   },
   "outputs": [],
   "source": [
    "df_evaluate[\"feature_date_str\"] = df_evaluate[\"feature_date\"].apply(lambda x: x.year)\n",
    "df_evaluate[\"forecast_window_years\"] = df_evaluate[\"forecast_window\"].apply(lambda x: x.days // 360).astype(str)\n",
    "df_evaluate[\"feature_stage_single\"] = df_evaluate[\"feature_stage\"].apply(lambda x: x.value_counts().index[0])"
   ]
  },
  {
   "cell_type": "code",
   "execution_count": 230,
   "metadata": {
    "collapsed": false
   },
   "outputs": [
    {
     "name": "stderr",
     "output_type": "stream",
     "text": [
      "C:\\ProgramData\\Anaconda3\\lib\\site-packages\\ipykernel\\__main__.py:14: SettingWithCopyWarning: \n",
      "A value is trying to be set on a copy of a slice from a DataFrame.\n",
      "Try using .loc[row_indexer,col_indexer] = value instead\n",
      "\n",
      "See the caveats in the documentation: http://pandas.pydata.org/pandas-docs/stable/indexing.html#indexing-view-versus-copy\n"
     ]
    }
   ],
   "source": [
    "hi = df_evaluate[[\"feature_names\", \"Weights\", \"forecast_window_years\",\"feature_date_str\", \"feature_stage_single\"]]\n",
    "df = get_feature_values(hi, total=\"feature_names\")"
   ]
  },
  {
   "cell_type": "code",
   "execution_count": 231,
   "metadata": {
    "collapsed": false
   },
   "outputs": [],
   "source": [
    "df[\"Weights\"] = df[\"Weights\"].astype(float)"
   ]
  },
  {
   "cell_type": "code",
   "execution_count": 232,
   "metadata": {
    "collapsed": true
   },
   "outputs": [],
   "source": [
    "df[\"feature_supergroups\"] = df[\"feature_names\"].apply(lambda x: x.split(\"_\")[1])\n",
    "df[\"feature_groups\"] = df[\"feature_names\"].apply(lambda x: x.split(\"_\")[2])\n",
    "df[\"feature_subgroups\"] = df[\"feature_names\"].apply(lambda x: \"_\".join(x.split(\"_\")[2:4]))"
   ]
  },
  {
   "cell_type": "code",
   "execution_count": 233,
   "metadata": {
    "collapsed": false
   },
   "outputs": [],
   "source": [
    "yo = df.groupby([\"feature_stage_single\",\"feature_groups\"]).agg({\"Weights\":sum})\n",
    "yoo = yo.groupby(level=0, group_keys=False)\n",
    "yooo = yoo.apply(lambda x: divide_groups(x, yoo.sum()))\n",
    "yooo = yooo.groupby(level=0, group_keys=False)\n",
    "weights = yooo.apply(lambda x: x.sort_values(by=\"Weights\",ascending=False))[\"Weights\"]"
   ]
  },
  {
   "cell_type": "code",
   "execution_count": 234,
   "metadata": {
    "collapsed": false
   },
   "outputs": [],
   "source": [
    "order = weights.reset_index().groupby(\"feature_groups\").agg(np.mean).sort_values(by=\"Weights\",ascending=False).index.tolist()"
   ]
  },
  {
   "cell_type": "code",
   "execution_count": 235,
   "metadata": {
    "collapsed": false,
    "scrolled": true
   },
   "outputs": [
    {
     "data": {
      "image/png": "[encoded data removed]",
      "text/plain": [
       "<matplotlib.figure.Figure at 0x2a692693400>"
      ]
     },
     "metadata": {},
     "output_type": "display_data"
    }
   ],
   "source": [
    "f = plt.figure()\n",
    "ax = sns.barplot(y = weights.values, hue = weights.index.get_level_values(level=0), x=weights.index.get_level_values(level=1), order = order, orient=\"v\", **outline_bars)\n",
    "ax.set_xlabel(\"Feature Groups\")\n",
    "ax.set_ylabel(\"Model Weights\")\n",
    "plt.xticks(rotation=30)\n",
    "plt.legend(title=\"Developmental Stage\")\n",
    "plt.tight_layout()\n",
    "f.savefig(evaluation_path+\"feature_groups_stage.pdf\", bbox_inches=\"tight\")"
   ]
  },
  {
   "cell_type": "code",
   "execution_count": null,
   "metadata": {
    "collapsed": true
   },
   "outputs": [],
   "source": []
  },
  {
   "cell_type": "code",
   "execution_count": 269,
   "metadata": {
    "collapsed": false
   },
   "outputs": [
    {
     "name": "stdout",
     "output_type": "stream",
     "text": [
      "Error: Time\n",
      "Error: Imputer\n",
      "Error: Transformer\n",
      "Error: Scaler\n",
      "Error: Extractor\n",
      "Error: Outcome\n"
     ]
    }
   ],
   "source": [
    "df_evaluate = get_results(16, \"evaluate\")"
   ]
  },
  {
   "cell_type": "code",
   "execution_count": 270,
   "metadata": {
    "collapsed": true
   },
   "outputs": [],
   "source": [
    "df_evaluate[\"feature_date_str\"] = df_evaluate[\"feature_date\"].apply(lambda x: x.year)\n",
    "df_evaluate[\"forecast_window_years\"] = df_evaluate[\"forecast_window\"].apply(lambda x: x.days // 360).astype(str)"
   ]
  },
  {
   "cell_type": "code",
   "execution_count": 271,
   "metadata": {
    "collapsed": false
   },
   "outputs": [
    {
     "name": "stderr",
     "output_type": "stream",
     "text": [
      "C:\\ProgramData\\Anaconda3\\lib\\site-packages\\ipykernel\\__main__.py:14: SettingWithCopyWarning: \n",
      "A value is trying to be set on a copy of a slice from a DataFrame.\n",
      "Try using .loc[row_indexer,col_indexer] = value instead\n",
      "\n",
      "See the caveats in the documentation: http://pandas.pydata.org/pandas-docs/stable/indexing.html#indexing-view-versus-copy\n"
     ]
    }
   ],
   "source": [
    "hi = df_evaluate[[\"feature_names\", \"Weights\", \"forecast_window_years\",\"feature_date_str\", \"label_type\"]]\n",
    "df = get_feature_values(hi, total=\"feature_names\")"
   ]
  },
  {
   "cell_type": "code",
   "execution_count": 272,
   "metadata": {
    "collapsed": false
   },
   "outputs": [],
   "source": [
    "df[\"Weights\"] = df[\"Weights\"].astype(float)"
   ]
  },
  {
   "cell_type": "code",
   "execution_count": 273,
   "metadata": {
    "collapsed": true
   },
   "outputs": [],
   "source": [
    "df[\"feature_supergroups\"] = df[\"feature_names\"].apply(lambda x: x.split(\"_\")[1])\n",
    "df[\"feature_groups\"] = df[\"feature_names\"].apply(lambda x: x.split(\"_\")[2])\n",
    "df[\"feature_subgroups\"] = df[\"feature_names\"].apply(lambda x: \"_\".join(x.split(\"_\")[2:4]))"
   ]
  },
  {
   "cell_type": "code",
   "execution_count": 274,
   "metadata": {
    "collapsed": false
   },
   "outputs": [],
   "source": [
    "yo = df.groupby([\"label_type\",\"feature_groups\"]).agg({\"Weights\":sum})\n",
    "yoo = yo.groupby(level=0, group_keys=False)\n",
    "yooo = yoo.apply(lambda x: divide_groups(x, yoo.sum()))\n",
    "yooo = yooo.groupby(level=0, group_keys=False)\n",
    "weights = yooo.apply(lambda x: x.sort_values(by=\"Weights\",ascending=False))[\"Weights\"]"
   ]
  },
  {
   "cell_type": "code",
   "execution_count": 275,
   "metadata": {
    "collapsed": false
   },
   "outputs": [],
   "source": [
    "order = weights.reset_index().groupby(\"feature_groups\").agg(np.mean).sort_values(by=\"Weights\",ascending=False).index.tolist()"
   ]
  },
  {
   "cell_type": "code",
   "execution_count": null,
   "metadata": {
    "collapsed": true
   },
   "outputs": [],
   "source": []
  },
  {
   "cell_type": "code",
   "execution_count": 276,
   "metadata": {
    "collapsed": false,
    "scrolled": true
   },
   "outputs": [
    {
     "data": {
      "image/png": "[encoded data removed]",
      "text/plain": [
       "<matplotlib.figure.Figure at 0x2a69408ccc0>"
      ]
     },
     "metadata": {},
     "output_type": "display_data"
    }
   ],
   "source": [
    "f = plt.figure()\n",
    "ax = sns.barplot(y = weights.values, hue = weights.index.get_level_values(level=0), x=weights.index.get_level_values(level=1), order = order, orient=\"v\", **outline_bars)\n",
    "ax.set_xlabel(\"Feature Groups\")\n",
    "ax.set_ylabel(\"Model Weights\")\n",
    "plt.xticks(rotation=30)\n",
    "plt.legend(title=\"Target Outcome\")\n",
    "plt.tight_layout()\n",
    "f.savefig(evaluation_path+\"feature_groups_outcome.pdf\", bbox_inches=\"tight\")"
   ]
  },
  {
   "cell_type": "code",
   "execution_count": null,
   "metadata": {
    "collapsed": true
   },
   "outputs": [],
   "source": []
  },
  {
   "cell_type": "code",
   "execution_count": 288,
   "metadata": {
    "collapsed": false
   },
   "outputs": [
    {
     "name": "stdout",
     "output_type": "stream",
     "text": [
      "Error: Time\n",
      "Error: Imputer\n",
      "Error: Transformer\n",
      "Error: Scaler\n",
      "Error: Extractor\n",
      "Error: Outcome\n"
     ]
    }
   ],
   "source": [
    "df_evaluate = get_results(16, \"evaluate\")"
   ]
  },
  {
   "cell_type": "code",
   "execution_count": 289,
   "metadata": {
    "collapsed": false
   },
   "outputs": [],
   "source": [
    "df_evaluate[\"feature_date_str\"] = df_evaluate[\"feature_date\"].apply(lambda x: x.year)\n",
    "df_evaluate[\"forecast_window_years\"] = df_evaluate[\"forecast_window\"].apply(lambda x: x.days // 360).astype(str)\n",
    "df_evaluate[\"label_type\"] = df_evaluate[\"label_type\"].apply(lambda x: x.replace(\"_\",\" \"))"
   ]
  },
  {
   "cell_type": "code",
   "execution_count": 299,
   "metadata": {
    "collapsed": false
   },
   "outputs": [
    {
     "data": {
      "image/png": "[encoded data removed]",
      "text/plain": [
       "<matplotlib.figure.Figure at 0x2a693d59828>"
      ]
     },
     "metadata": {},
     "output_type": "display_data"
    }
   ],
   "source": [
    "f= plt.figure()\n",
    "order = [\"Extra Stage\", \"Extra Round\", \"Exit\", \"Acquisition\", \"IPO\"]\n",
    "ax = sns.barplot(y = \"F1\", x = \"label_type\", data=df_evaluate, order = order, orient=\"v\", **outline_bars)\n",
    "auto_label(ax, fmt=\"{:.2f}\")\n",
    "ax.set_xlabel(\"Target Outcome\")\n",
    "ax.set_ylabel(\"F1 Score\")\n",
    "add_vertical_line(ax, 0.5, \"\", color=\"grey\")\n",
    "add_vertical_line(ax, 1.5, \"\", color=\"grey\")\n",
    "plt.tight_layout()\n",
    "f.savefig(evaluation_path+\"f1_predictive_outcome.pdf\", bbox_inches=\"tight\")"
   ]
  },
  {
   "cell_type": "code",
   "execution_count": 295,
   "metadata": {
    "collapsed": false
   },
   "outputs": [
    {
     "name": "stdout",
     "output_type": "stream",
     "text": [
      "Error: Time\n",
      "Error: Imputer\n",
      "Error: Transformer\n",
      "Error: Scaler\n",
      "Error: Extractor\n",
      "Error: Outcome\n"
     ]
    }
   ],
   "source": [
    "df_evaluate = get_results(16, \"evaluate\")"
   ]
  },
  {
   "cell_type": "code",
   "execution_count": 296,
   "metadata": {
    "collapsed": false
   },
   "outputs": [],
   "source": [
    "df_evaluate[\"feature_date_str\"] = df_evaluate[\"feature_date\"].apply(lambda x: x.year)\n",
    "df_evaluate[\"forecast_window_years\"] = df_evaluate[\"forecast_window\"].apply(lambda x: x.days // 360).astype(str)\n",
    "df_evaluate[\"label_type\"] = df_evaluate[\"label_type\"].apply(lambda x: x.replace(\"_\",\" \"))"
   ]
  },
  {
   "cell_type": "code",
   "execution_count": 297,
   "metadata": {
    "collapsed": false
   },
   "outputs": [
    {
     "name": "stderr",
     "output_type": "stream",
     "text": [
      "C:\\ProgramData\\Anaconda3\\lib\\site-packages\\ipykernel\\__main__.py:14: SettingWithCopyWarning: \n",
      "A value is trying to be set on a copy of a slice from a DataFrame.\n",
      "Try using .loc[row_indexer,col_indexer] = value instead\n",
      "\n",
      "See the caveats in the documentation: http://pandas.pydata.org/pandas-docs/stable/indexing.html#indexing-view-versus-copy\n"
     ]
    }
   ],
   "source": [
    "hi = df_evaluate[[\"Y_Pred\", \"Y_True\", \"label_type\",\"forecast_window_years\",\"feature_date_str\"]]\n",
    "df = get_feature_values(hi)"
   ]
  },
  {
   "cell_type": "code",
   "execution_count": 298,
   "metadata": {
    "collapsed": false
   },
   "outputs": [
    {
     "name": "stdout",
     "output_type": "stream",
     "text": [
      "             precision    recall  f1-score   support\n",
      "\n",
      "          0       0.98      0.95      0.97    133333\n",
      "          1       0.41      0.64      0.50      7102\n",
      "\n",
      "avg / total       0.95      0.94      0.94    140435\n",
      "\n",
      "             precision    recall  f1-score   support\n",
      "\n",
      "          0       0.97      0.94      0.96     51706\n",
      "          1       0.48      0.69      0.57      4118\n",
      "\n",
      "avg / total       0.94      0.92      0.93     55824\n",
      "\n",
      "             precision    recall  f1-score   support\n",
      "\n",
      "          0       1.00      0.86      0.93     48962\n",
      "          1       0.50      0.99      0.67      6862\n",
      "\n",
      "avg / total       0.94      0.88      0.89     55824\n",
      "\n",
      "             precision    recall  f1-score   support\n",
      "\n",
      "          0       0.91      0.87      0.89     45739\n",
      "          1       0.50      0.61      0.55     10085\n",
      "\n",
      "avg / total       0.84      0.82      0.83     55824\n",
      "\n",
      "             precision    recall  f1-score   support\n",
      "\n",
      "          0       0.99      0.99      0.99    138742\n",
      "          1       0.33      0.41      0.37      1693\n",
      "\n",
      "avg / total       0.98      0.98      0.98    140435\n",
      "\n"
     ]
    }
   ],
   "source": [
    "cl_reports = feature_function(df, metrics.classification_report, group = [\"label_type\"])\n",
    "for rep in cl_reports:\n",
    "    print(rep)"
   ]
  },
  {
   "cell_type": "code",
   "execution_count": null,
   "metadata": {
    "collapsed": true
   },
   "outputs": [],
   "source": []
  }
 ],
 "metadata": {
  "kernelspec": {
   "display_name": "Python 3",
   "language": "python",
   "name": "python3"
  },
  "language_info": {
   "codemirror_mode": {
    "name": "ipython",
    "version": 3
   },
   "file_extension": ".py",
   "mimetype": "text/x-python",
   "name": "python",
   "nbconvert_exporter": "python",
   "pygments_lexer": "ipython3",
   "version": "3.6.0"
  }
 },
 "nbformat": 4,
 "nbformat_minor": 2
}

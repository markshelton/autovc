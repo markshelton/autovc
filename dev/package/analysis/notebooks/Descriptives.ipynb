{
 "cells": [
  {
   "cell_type": "markdown",
   "metadata": {},
   "source": [
    "# Descriptives"
   ]
  },
  {
   "cell_type": "markdown",
   "metadata": {},
   "source": [
    "### Preamble"
   ]
  },
  {
   "cell_type": "markdown",
   "metadata": {},
   "source": [
    "Paths"
   ]
  },
  {
   "cell_type": "code",
   "execution_count": 26,
   "metadata": {
    "collapsed": true
   },
   "outputs": [],
   "source": [
    "SYS_PATH = 'C:/Users/mark/Documents/GitHub/honours/dev/package/'\n",
    "SAVE_PATH = r\"C:/Users/mark/Documents/GitHub/honours/submissions/thesis-original\"\n",
    "LOAD_PATH = r\"C:/Users/mark/Documents/GitHub/honours/dev/package/analysis/output/temp/output.db\""
   ]
  },
  {
   "cell_type": "markdown",
   "metadata": {},
   "source": [
    "Imports"
   ]
  },
  {
   "cell_type": "code",
   "execution_count": 27,
   "metadata": {
    "collapsed": false
   },
   "outputs": [],
   "source": [
    "#standard imports\n",
    "import sys\n",
    "import numpy as np\n",
    "import pandas as pd\n",
    "from scipy import stats\n",
    "from collections import OrderedDict\n",
    "from datetime import date, timedelta\n",
    "\n",
    "#third party imports\n",
    "import matplotlib\n",
    "import matplotlib.pyplot as plt\n",
    "import matplotlib.dates as md\n",
    "import matplotlib.ticker as ticker\n",
    "from matplotlib import rcParams\n",
    "import seaborn as sns\n",
    "\n",
    "#local imports\n",
    "sys.path.append(SYS_PATH)\n",
    "import analysis.dataPreparer as dp\n",
    "import analysis.autoVC2 as vc"
   ]
  },
  {
   "cell_type": "markdown",
   "metadata": {},
   "source": [
    "Formatting"
   ]
  },
  {
   "cell_type": "code",
   "execution_count": 3,
   "metadata": {
    "collapsed": true
   },
   "outputs": [],
   "source": [
    "%matplotlib inline\n",
    "TINY_SIZE, SMALL_SIZE, MEDIUM_SIZE, BIGGER_SIZE  = 12, 16, 20, 30\n",
    "plt.style.use(['seaborn-white', 'seaborn-paper'])\n",
    "sns.set_palette(\"colorblind\")\n",
    "rcParams['font.family'] = 'serif' \n",
    "rcParams['font.serif'] = 'CMU Serif' \n",
    "rcParams['font.weight'] = 'bold'\n",
    "rcParams['font.size'] = SMALL_SIZE #default font size\n",
    "rcParams['axes.titlesize'] =SMALL_SIZE   # fontsize of the axes title\n",
    "rcParams['axes.labelsize'] =MEDIUM_SIZE    # fontsize of the x and y labels\n",
    "rcParams['xtick.labelsize'] =SMALL_SIZE    # fontsize of the tick labels\n",
    "rcParams['ytick.labelsize'] =SMALL_SIZE   # fontsize of the tick labels\n",
    "rcParams['legend.fontsize'] =SMALL_SIZE    # legend fontsize\n",
    "rcParams['figure.titlesize'] =BIGGER_SIZE  # fontsize of the figure title\n",
    "rcParams['figure.figsize'] = (8,3)\n",
    "pd.set_option('precision',3)\n",
    "outline_bars = dict(linewidth = 1.25, edgecolor = '.15')"
   ]
  },
  {
   "cell_type": "code",
   "execution_count": 4,
   "metadata": {
    "collapsed": true
   },
   "outputs": [],
   "source": [
    "STAGE_FEATURES = dict(\n",
    "    Age = 'confidence_context_economy_company_age_number',\n",
    "    FundingRounds = 'confidence_validation_funding_rounds_number',\n",
    "    FundingRaised = 'confidence_validation_funding_raised_value_total_number',\n",
    "    SeriesA = 'confidence_validation_funding_round_codes_list_a',\n",
    "    SeriesB = 'confidence_validation_funding_round_codes_list_b',\n",
    "    SeriesC = 'confidence_validation_funding_round_codes_list_c',\n",
    "    SeriesD = 'confidence_validation_funding_round_codes_list_d',\n",
    "    SeriesE = 'confidence_validation_funding_round_codes_list_e',\n",
    "    SeriesF = 'confidence_validation_funding_round_codes_list_f',\n",
    "    SeriesG = 'confidence_validation_funding_round_codes_list_g',\n",
    "    SeriesH = 'confidence_validation_funding_round_codes_list_h',\n",
    "    Closed = \"keys_company_status_closed_bool\",\n",
    "    Acquired = \"keys_company_status_acquired_bool\",\n",
    "    IPO = \"keys_company_status_ipo_bool\")"
   ]
  },
  {
   "cell_type": "markdown",
   "metadata": {},
   "source": [
    "Functions"
   ]
  },
  {
   "cell_type": "code",
   "execution_count": 30,
   "metadata": {
    "collapsed": true
   },
   "outputs": [],
   "source": [
    "def load_data(path=LOAD_PATH):\n",
    "    data = vc.prepare_dataset(\n",
    "        SYS_PATH + \"analysis/input/master.db\", date(2016, 9, 9),\n",
    "        SYS_PATH + \"analysis/config/master_feature.sql\", \"feature\",\n",
    "        SYS_PATH + \"analysis/output/temp/\", alt=True)\n",
    "    data = vc.add_stages(data)\n",
    "    return data"
   ]
  },
  {
   "cell_type": "code",
   "execution_count": 6,
   "metadata": {
    "collapsed": true
   },
   "outputs": [],
   "source": [
    "def auto_label(ax, fmt='{:,.0f}', adjust=0):\n",
    "    ymax_old = ax.get_ylim()[1]\n",
    "    ax.set_ylim(ymax= ax.get_ylim()[1] * 1.1)\n",
    "    for p in ax.patches:\n",
    "        height = p.get_height()\n",
    "        ax.text(\n",
    "            x=p.get_x()+p.get_width()/2.,\n",
    "            y=np.nanmax([height,0]) + ymax_old * 0.02 + adjust,\n",
    "            s=fmt.format(np.nanmax([height,0])),\n",
    "            ha=\"center\")\n",
    "    ax.yaxis.set_ticks([])"
   ]
  },
  {
   "cell_type": "code",
   "execution_count": 7,
   "metadata": {
    "collapsed": true
   },
   "outputs": [],
   "source": [
    "def add_vertical_line(ax, value, label, color, linestyle=\"dashed\"):\n",
    "    ax.axvline(value, linestyle=linestyle, color=color)\n",
    "    x_bounds = ax.get_xlim()\n",
    "    xy_pos = (((value-x_bounds[0])/(x_bounds[1]-x_bounds[0])),1.01)\n",
    "    ax.annotate(s=label, xy =xy_pos, xycoords='axes fraction', verticalalignment='right', horizontalalignment='right bottom', color=color)"
   ]
  },
  {
   "cell_type": "markdown",
   "metadata": {},
   "source": [
    "### Counts by developmental stage"
   ]
  },
  {
   "cell_type": "code",
   "execution_count": 8,
   "metadata": {
    "collapsed": true
   },
   "outputs": [],
   "source": [
    "reload = True"
   ]
  },
  {
   "cell_type": "code",
   "execution_count": 9,
   "metadata": {
    "collapsed": true
   },
   "outputs": [],
   "source": [
    "chart_id = \"figures/design/descriptives_counts_stage\"\n",
    "pickle_path = \"{}/{}.pkl\".format(SAVE_PATH, chart_id)"
   ]
  },
  {
   "cell_type": "code",
   "execution_count": 10,
   "metadata": {
    "collapsed": false
   },
   "outputs": [],
   "source": [
    "try: \n",
    "    if reload: data = pd.read_pickle(pickle_path)\n",
    "    else: raise IOError\n",
    "except IOError: \n",
    "    data = load_data()\n",
    "    data = data[[\"keys_company_stage\"]]\n",
    "    data.to_pickle(pickle_path)"
   ]
  },
  {
   "cell_type": "code",
   "execution_count": 11,
   "metadata": {
    "collapsed": true
   },
   "outputs": [],
   "source": [
    "x = \"keys_company_stage\"\n",
    "order = [\"Pre-Seed\", \"Seed\", \"Series A\", \"Series B\", \"Series C\", \"Series D+\", \"IPO\", \"Acquired\"]"
   ]
  },
  {
   "cell_type": "code",
   "execution_count": 12,
   "metadata": {
    "collapsed": false
   },
   "outputs": [
    {
     "data": {
      "image/png": "[encoded data removed]",
      "text/plain": [
       "<matplotlib.figure.Figure at 0x28cdfddc080>"
      ]
     },
     "metadata": {},
     "output_type": "display_data"
    }
   ],
   "source": [
    "f = plt.figure()\n",
    "ax = sns.countplot(data=data, x=x, order=order, **outline_bars)\n",
    "auto_label(ax)\n",
    "add_vertical_line(ax, 1.5, \"Break-Even\", color=\"r\")\n",
    "add_vertical_line(ax, 5.5, \"Exit\", color=\"b\")\n",
    "ax.set_xlabel(\"Developmental Stage\")\n",
    "ax.set_ylabel(\"Companies\")\n",
    "plt.tight_layout()"
   ]
  },
  {
   "cell_type": "code",
   "execution_count": 13,
   "metadata": {
    "collapsed": true
   },
   "outputs": [],
   "source": [
    "output_path =  \"{}/{}.pdf\".format(SAVE_PATH, chart_id)\n",
    "f.savefig(output_path, bbox_inches=\"tight\")"
   ]
  },
  {
   "cell_type": "markdown",
   "metadata": {},
   "source": [
    "### Counts by industry sector"
   ]
  },
  {
   "cell_type": "code",
   "execution_count": 23,
   "metadata": {
    "collapsed": true
   },
   "outputs": [],
   "source": [
    "reload = True"
   ]
  },
  {
   "cell_type": "code",
   "execution_count": 24,
   "metadata": {
    "collapsed": true
   },
   "outputs": [],
   "source": [
    "chart_id = \"figures/design/descriptives_counts_industry\"\n",
    "pickle_path = \"{}/{}.pkl\".format(SAVE_PATH, chart_id)"
   ]
  },
  {
   "cell_type": "code",
   "execution_count": 32,
   "metadata": {
    "collapsed": false
   },
   "outputs": [
    {
     "name": "stdout",
     "output_type": "stream",
     "text": [
      "logManager - INFO - prepare_dataset | Started\n",
      "logManager - INFO - get_slice | Started\n",
      "logManager - INFO - get_slice | Passed | 0.28\n",
      "logManager - INFO - prepare_dataset | Passed | 24.95\n",
      "logManager - INFO - add_stages | Started\n",
      "logManager - INFO - add_stages | Passed | 39.13\n"
     ]
    }
   ],
   "source": [
    "try:\n",
    "    if reload: data = pd.read_pickle(pickle_path)\n",
    "    else: raise IOError\n",
    "except IOError: \n",
    "    data = load_data()\n",
    "    data = data.loc[data['keys_company_stage_group'] == \"Included\"]\n",
    "    cutoff = data[\"confidence_context_economy_company_age_number\"][data[\"keys_company_stage\"] == \"Series D+\"].quantile(0.75)\n",
    "    data = data.loc[data['confidence_context_economy_company_age_number'] <= cutoff]\n",
    "    data = data[[x for x in list(data) if x.startswith(\"confidence_context_industry_category_group_list\")]]\n",
    "    data.to_pickle(pickle_path)"
   ]
  },
  {
   "cell_type": "code",
   "execution_count": 33,
   "metadata": {
    "collapsed": true
   },
   "outputs": [],
   "source": [
    "x = [\"Software\", \"Internet\", \"Media\", \"Commerce\", \"Mobile\", \"Sales\", \"IT\", \"Health\", \"Hardware\", \"Financial\"]\n",
    "y = sorted([data[industry].value_counts()[1] for industry in list(data)],reverse=True)"
   ]
  },
  {
   "cell_type": "code",
   "execution_count": 34,
   "metadata": {
    "collapsed": false
   },
   "outputs": [
    {
     "data": {
      "image/png": "[encoded data removed]",
      "text/plain": [
       "<matplotlib.figure.Figure at 0x28cbf09ce10>"
      ]
     },
     "metadata": {},
     "output_type": "display_data"
    }
   ],
   "source": [
    "f = plt.figure()\n",
    "ax = sns.barplot(data=None, x=x, y=y, **outline_bars)\n",
    "auto_label(ax)\n",
    "plt.xticks(rotation=30)\n",
    "ax.set_ylabel(\"Companies\")\n",
    "ax.set_xlabel(\"Industry Sectors (Top 10)\")\n",
    "plt.tight_layout()"
   ]
  },
  {
   "cell_type": "code",
   "execution_count": 35,
   "metadata": {
    "collapsed": true
   },
   "outputs": [],
   "source": [
    "output_path =  \"{}/{}.pdf\".format(SAVE_PATH, chart_id)\n",
    "f.savefig(output_path, bbox_inches=\"tight\")"
   ]
  },
  {
   "cell_type": "markdown",
   "metadata": {},
   "source": [
    "### Ages by developmental stage"
   ]
  },
  {
   "cell_type": "code",
   "execution_count": 36,
   "metadata": {
    "collapsed": true
   },
   "outputs": [],
   "source": [
    "reload = True"
   ]
  },
  {
   "cell_type": "code",
   "execution_count": 37,
   "metadata": {
    "collapsed": true
   },
   "outputs": [],
   "source": [
    "chart_id = \"figures/design/descriptives_ages_stage\"\n",
    "pickle_path = \"{}/{}.pkl\".format(SAVE_PATH, chart_id)"
   ]
  },
  {
   "cell_type": "code",
   "execution_count": 39,
   "metadata": {
    "collapsed": false
   },
   "outputs": [
    {
     "name": "stdout",
     "output_type": "stream",
     "text": [
      "logManager - INFO - prepare_dataset | Started\n",
      "logManager - INFO - get_slice | Started\n",
      "logManager - INFO - get_slice | Passed | 0.18\n",
      "logManager - INFO - prepare_dataset | Passed | 25.17\n",
      "logManager - INFO - add_stages | Started\n",
      "logManager - INFO - add_stages | Passed | 47.64\n"
     ]
    }
   ],
   "source": [
    "try:\n",
    "    if reload: data = pd.read_pickle(pickle_path)\n",
    "    else: raise IOError\n",
    "except IOError: \n",
    "    data = load_data()\n",
    "    data = data.loc[data['keys_company_stage_group'] == \"Included\"]\n",
    "    data = data[[\"confidence_context_economy_company_age_number\",\"keys_company_stage\"]]\n",
    "    data.to_pickle(pickle_path)"
   ]
  },
  {
   "cell_type": "code",
   "execution_count": 41,
   "metadata": {
    "collapsed": false
   },
   "outputs": [],
   "source": [
    "x = \"confidence_context_economy_company_age_number\"\n",
    "y = \"keys_company_stage\"\n",
    "order = [\"Pre-Seed\", \"Seed\", \"Series A\", \"Series B\", \"Series C\", \"Series D+\"]\n",
    "line = data[x][data[y] == \"Series D+\"].quantile(0.75)"
   ]
  },
  {
   "cell_type": "code",
   "execution_count": 42,
   "metadata": {
    "collapsed": false
   },
   "outputs": [
    {
     "data": {
      "image/png": "[encoded data removed]",
      "text/plain": [
       "<matplotlib.figure.Figure at 0x28cc009ccf8>"
      ]
     },
     "metadata": {},
     "output_type": "display_data"
    }
   ],
   "source": [
    "f = plt.figure()\n",
    "ax = sns.boxplot(data=data, x=x, y=y, order=order, fliersize=0)\n",
    "add_vertical_line(ax, line, \"Upper Limit: {:.1f} Years\".format(line), color=\"r\")\n",
    "ax.set_xlim(xmin=0, xmax=30)\n",
    "ax.set_xlabel(\"Company Age (Years)\")\n",
    "ax.set_ylabel(\"Developmental Stage\")\n",
    "plt.tight_layout()"
   ]
  },
  {
   "cell_type": "code",
   "execution_count": 43,
   "metadata": {
    "collapsed": false
   },
   "outputs": [],
   "source": [
    "output_path =  \"{}/{}.pdf\".format(SAVE_PATH, chart_id)\n",
    "f.savefig(output_path, bbox_inches=\"tight\")"
   ]
  },
  {
   "cell_type": "markdown",
   "metadata": {},
   "source": [
    "### Overall by developmental stage"
   ]
  },
  {
   "cell_type": "code",
   "execution_count": 44,
   "metadata": {
    "collapsed": true
   },
   "outputs": [],
   "source": [
    "reload = False"
   ]
  },
  {
   "cell_type": "code",
   "execution_count": 45,
   "metadata": {
    "collapsed": true
   },
   "outputs": [],
   "source": [
    "chart_id = \"tables/design/descriptives_overall_stage\"\n",
    "pickle_path = \"{}/{}.pkl\".format(SAVE_PATH, chart_id)"
   ]
  },
  {
   "cell_type": "code",
   "execution_count": 47,
   "metadata": {
    "collapsed": false
   },
   "outputs": [
    {
     "name": "stdout",
     "output_type": "stream",
     "text": [
      "logManager - INFO - prepare_dataset | Started\n",
      "logManager - INFO - get_slice | Started\n",
      "logManager - INFO - get_slice | Passed | 0.20\n",
      "logManager - INFO - prepare_dataset | Passed | 26.09\n",
      "logManager - INFO - add_stages | Started\n",
      "logManager - INFO - add_stages | Passed | 41.97\n"
     ]
    }
   ],
   "source": [
    "try:\n",
    "    if reload: data = pd.read_pickle(pickle_path)\n",
    "    else: raise IOError\n",
    "except IOError: \n",
    "    data = load_data()\n",
    "    data = data.loc[data['keys_company_stage_group'] == \"Included\"]\n",
    "    cutoff = data[\"confidence_context_economy_company_age_number\"][data[\"keys_company_stage\"] == \"Series D+\"].quantile(0.75)\n",
    "    data = data.loc[data['confidence_context_economy_company_age_number'] <= cutoff]\n",
    "    drops = [col for col in list(data) if col.startswith((\"key\",\"from\",\"outcome\",\"index\"))]\n",
    "    X = data.drop(drops, axis=1)\n",
    "    X = X.select_dtypes(['number'])\n",
    "    data[\"keys_missing_features\"] = X.isnull().sum(axis=1)\n",
    "    data[\"total_features\"] = len(list(X))\n",
    "    data = data[[\"keys_company_stage\", \"confidence_context_economy_company_age_number\", \"confidence_validation_funding_raised_value_total_number\", \"confidence_validation_funding_rounds_number\", \"potential_structural_patents_number\", \"keys_missing_features\", \"total_features\", \"keys_company_stage_group\"]]\n",
    "    data.to_pickle(pickle_path)"
   ]
  },
  {
   "cell_type": "code",
   "execution_count": 55,
   "metadata": {
    "collapsed": true
   },
   "outputs": [],
   "source": [
    "data[\"keys_company_stage2\"] = data[\"keys_company_stage\"]\n",
    "columns = [\"keys_company_stage\", \"confidence_context_economy_company_age_number\", \"confidence_validation_funding_raised_value_total_number\", \"confidence_validation_funding_rounds_number\", \"potential_structural_patents_number\", \"keys_missing_features\"]\n",
    "colnames = [\"Obs\", \"Age (Years)\", \"Funding Raised (USD, millions)\", \"Funding Rounds (N)\",\"Patent Filings (N)\", \"Available Features (N)\"]\n",
    "colfuncs = [{\"N\":len}, \n",
    "    OrderedDict([(\"Median\", np.median),(\"IQR\", lambda x: stats.iqr(x,nan_policy=\"omit\"))]), \n",
    "    OrderedDict([(\"Median\", lambda x: np.median(x) / 1e6), (\"IQR\", lambda x: stats.iqr(x,nan_policy=\"omit\") / 1e6)]), \n",
    "    OrderedDict([(\"Median\", np.median),(\"IQR\", lambda x: stats.iqr(x,nan_policy=\"omit\"))]), \n",
    "    OrderedDict([(\"50th\", np.median),(\"75th\", lambda x: np.nanpercentile(x,75)),(\"90th\", lambda x: np.nanpercentile(x,90))]), \n",
    "    OrderedDict([(\"Median\", lambda x: data[\"total_features\"].sample(1).values[0] - np.median(x)), (\"IQR\", lambda x: stats.iqr(x,nan_policy=\"omit\") )])]\n",
    "namefunc = OrderedDict(zip(columns, colnames))\n",
    "aggfunc = OrderedDict(zip(columns, colfuncs))"
   ]
  },
  {
   "cell_type": "code",
   "execution_count": 56,
   "metadata": {
    "collapsed": false
   },
   "outputs": [
    {
     "name": "stderr",
     "output_type": "stream",
     "text": [
      "C:\\ProgramData\\Anaconda3\\lib\\site-packages\\numpy\\lib\\function_base.py:3569: RuntimeWarning: Invalid value encountered in median\n",
      "  RuntimeWarning)\n",
      "C:\\ProgramData\\Anaconda3\\lib\\site-packages\\numpy\\lib\\nanfunctions.py:1043: RuntimeWarning: All-NaN slice encountered\n",
      "  warnings.warn(\"All-NaN slice encountered\", RuntimeWarning)\n"
     ]
    },
    {
     "data": {
      "text/html": [
       "<div>\n",
       "<table border=\"1\" class=\"dataframe\">\n",
       "  <thead>\n",
       "    <tr>\n",
       "      <th></th>\n",
       "      <th>Obs</th>\n",
       "      <th colspan=\"2\" halign=\"left\">Age (Years)</th>\n",
       "      <th colspan=\"2\" halign=\"left\">Funding Raised (USD, millions)</th>\n",
       "      <th colspan=\"2\" halign=\"left\">Funding Rounds (N)</th>\n",
       "      <th colspan=\"3\" halign=\"left\">Patent Filings (N)</th>\n",
       "      <th colspan=\"2\" halign=\"left\">Available Features (N)</th>\n",
       "    </tr>\n",
       "    <tr>\n",
       "      <th></th>\n",
       "      <th>N</th>\n",
       "      <th>IQR</th>\n",
       "      <th>Median</th>\n",
       "      <th>IQR</th>\n",
       "      <th>Median</th>\n",
       "      <th>IQR</th>\n",
       "      <th>Median</th>\n",
       "      <th>50th</th>\n",
       "      <th>75th</th>\n",
       "      <th>90th</th>\n",
       "      <th>IQR</th>\n",
       "      <th>Median</th>\n",
       "    </tr>\n",
       "  </thead>\n",
       "  <tbody>\n",
       "    <tr>\n",
       "      <th>Pre-Seed</th>\n",
       "      <td>113915</td>\n",
       "      <td>3.737</td>\n",
       "      <td>4.362</td>\n",
       "      <td>0.000</td>\n",
       "      <td>0.000</td>\n",
       "      <td>0</td>\n",
       "      <td>0</td>\n",
       "      <td>0</td>\n",
       "      <td>0</td>\n",
       "      <td>0</td>\n",
       "      <td>128.0</td>\n",
       "      <td>25</td>\n",
       "    </tr>\n",
       "    <tr>\n",
       "      <th>Seed</th>\n",
       "      <td>38942</td>\n",
       "      <td>4.003</td>\n",
       "      <td>4.663</td>\n",
       "      <td>1.295</td>\n",
       "      <td>0.250</td>\n",
       "      <td>1</td>\n",
       "      <td>1</td>\n",
       "      <td>0</td>\n",
       "      <td>0</td>\n",
       "      <td>1</td>\n",
       "      <td>125.0</td>\n",
       "      <td>178</td>\n",
       "    </tr>\n",
       "    <tr>\n",
       "      <th>Series A</th>\n",
       "      <td>6615</td>\n",
       "      <td>5.005</td>\n",
       "      <td>5.693</td>\n",
       "      <td>7.906</td>\n",
       "      <td>4.400</td>\n",
       "      <td>2</td>\n",
       "      <td>2</td>\n",
       "      <td>0</td>\n",
       "      <td>0</td>\n",
       "      <td>2</td>\n",
       "      <td>117.5</td>\n",
       "      <td>239</td>\n",
       "    </tr>\n",
       "    <tr>\n",
       "      <th>Series B</th>\n",
       "      <td>3342</td>\n",
       "      <td>5.918</td>\n",
       "      <td>7.608</td>\n",
       "      <td>22.032</td>\n",
       "      <td>14.891</td>\n",
       "      <td>2</td>\n",
       "      <td>3</td>\n",
       "      <td>0</td>\n",
       "      <td>0</td>\n",
       "      <td>4</td>\n",
       "      <td>87.0</td>\n",
       "      <td>255</td>\n",
       "    </tr>\n",
       "    <tr>\n",
       "      <th>Series C</th>\n",
       "      <td>1610</td>\n",
       "      <td>5.523</td>\n",
       "      <td>8.696</td>\n",
       "      <td>45.881</td>\n",
       "      <td>35.285</td>\n",
       "      <td>2</td>\n",
       "      <td>3</td>\n",
       "      <td>0</td>\n",
       "      <td>1</td>\n",
       "      <td>9</td>\n",
       "      <td>80.0</td>\n",
       "      <td>305</td>\n",
       "    </tr>\n",
       "    <tr>\n",
       "      <th>Series D+</th>\n",
       "      <td>998</td>\n",
       "      <td>5.005</td>\n",
       "      <td>9.696</td>\n",
       "      <td>90.300</td>\n",
       "      <td>74.385</td>\n",
       "      <td>3</td>\n",
       "      <td>5</td>\n",
       "      <td>0</td>\n",
       "      <td>4</td>\n",
       "      <td>19</td>\n",
       "      <td>69.0</td>\n",
       "      <td>319</td>\n",
       "    </tr>\n",
       "    <tr>\n",
       "      <th>Included</th>\n",
       "      <td>165422</td>\n",
       "      <td>4.003</td>\n",
       "      <td>4.688</td>\n",
       "      <td>3.970</td>\n",
       "      <td>0.000</td>\n",
       "      <td>1</td>\n",
       "      <td>1</td>\n",
       "      <td>0</td>\n",
       "      <td>0</td>\n",
       "      <td>1</td>\n",
       "      <td>145.0</td>\n",
       "      <td>90</td>\n",
       "    </tr>\n",
       "  </tbody>\n",
       "</table>\n",
       "</div>"
      ],
      "text/plain": [
       "              Obs Age (Years)        Funding Raised (USD, millions)          \\\n",
       "                N         IQR Median                            IQR  Median   \n",
       "Pre-Seed   113915       3.737  4.362                          0.000   0.000   \n",
       "Seed        38942       4.003  4.663                          1.295   0.250   \n",
       "Series A     6615       5.005  5.693                          7.906   4.400   \n",
       "Series B     3342       5.918  7.608                         22.032  14.891   \n",
       "Series C     1610       5.523  8.696                         45.881  35.285   \n",
       "Series D+     998       5.005  9.696                         90.300  74.385   \n",
       "Included   165422       4.003  4.688                          3.970   0.000   \n",
       "\n",
       "          Funding Rounds (N)        Patent Filings (N)            \\\n",
       "                         IQR Median               50th 75th 90th   \n",
       "Pre-Seed                   0      0                  0    0    0   \n",
       "Seed                       1      1                  0    0    1   \n",
       "Series A                   2      2                  0    0    2   \n",
       "Series B                   2      3                  0    0    4   \n",
       "Series C                   2      3                  0    1    9   \n",
       "Series D+                  3      5                  0    4   19   \n",
       "Included                   1      1                  0    0    1   \n",
       "\n",
       "          Available Features (N)         \n",
       "                             IQR Median  \n",
       "Pre-Seed                   128.0     25  \n",
       "Seed                       125.0    178  \n",
       "Series A                   117.5    239  \n",
       "Series B                    87.0    255  \n",
       "Series C                    80.0    305  \n",
       "Series D+                   69.0    319  \n",
       "Included                   145.0     90  "
      ]
     },
     "execution_count": 56,
     "metadata": {},
     "output_type": "execute_result"
    }
   ],
   "source": [
    "pivot1 = pd.pivot_table(data, values=columns, index=\"keys_company_stage2\", aggfunc=aggfunc,  fill_value = 0,  margins=False)\n",
    "pivot2 = pd.pivot_table(data, values=columns, index=\"keys_company_stage_group\", aggfunc=aggfunc, fill_value = 0, margins=False)\n",
    "table = pd.concat([pivot1,pivot2],axis=0).rename(columns=namefunc)\n",
    "table"
   ]
  },
  {
   "cell_type": "code",
   "execution_count": 57,
   "metadata": {
    "collapsed": true
   },
   "outputs": [],
   "source": [
    "output_path =  \"{}/{}.tex\".format(SAVE_PATH, chart_id)\n",
    "table.to_latex(output_path)"
   ]
  },
  {
   "cell_type": "code",
   "execution_count": null,
   "metadata": {
    "collapsed": true
   },
   "outputs": [],
   "source": []
  }
 ],
 "metadata": {
  "kernelspec": {
   "display_name": "Python 3",
   "language": "python",
   "name": "python3"
  },
  "language_info": {
   "codemirror_mode": {
    "name": "ipython",
    "version": 3
   },
   "file_extension": ".py",
   "mimetype": "text/x-python",
   "name": "python",
   "nbconvert_exporter": "python",
   "pygments_lexer": "ipython3",
   "version": "3.6.0"
  }
 },
 "nbformat": 4,
 "nbformat_minor": 2
}

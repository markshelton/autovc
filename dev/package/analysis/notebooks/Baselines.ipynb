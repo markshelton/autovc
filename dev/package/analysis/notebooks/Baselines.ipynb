{
 "cells": [
  {
   "cell_type": "markdown",
   "metadata": {},
   "source": [
    "# Baselines"
   ]
  },
  {
   "cell_type": "markdown",
   "metadata": {},
   "source": [
    "### Preamble"
   ]
  },
  {
   "cell_type": "code",
   "execution_count": 1,
   "metadata": {
    "collapsed": true
   },
   "outputs": [],
   "source": [
    "SYS_PATH = 'C:/Users/mark/Documents/GitHub/honours/dev/package/'\n",
    "SAVE_PATH = r\"C:/Users/mark/Documents/GitHub/honours/submissions/thesis-original\"\n",
    "LOAD_PATH = r\"C:/Users/mark/Documents/GitHub/honours/dev/package/analysis/output/temp/output.db\""
   ]
  },
  {
   "cell_type": "code",
   "execution_count": 2,
   "metadata": {
    "collapsed": true
   },
   "outputs": [],
   "source": [
    "#standard imports\n",
    "import sys\n",
    "import numpy as np\n",
    "import scipy.stats as stats\n",
    "import pandas as pd\n",
    "from datetime import date, timedelta\n",
    "import math\n",
    "from itertools import chain\n",
    "import pickle\n",
    "\n",
    "#third party imports\n",
    "import matplotlib\n",
    "import matplotlib.pyplot as plt\n",
    "from matplotlib import rcParams\n",
    "import matplotlib.ticker as tkr\n",
    "import seaborn as sns\n",
    "from sklearn import metrics\n",
    "\n",
    "#local imports\n",
    "sys.path.append(SYS_PATH)\n",
    "import analysis.autoVC2 as vc"
   ]
  },
  {
   "cell_type": "code",
   "execution_count": 3,
   "metadata": {
    "collapsed": true
   },
   "outputs": [],
   "source": [
    "%matplotlib inline\n",
    "\n",
    "TINY_SIZE, SMALL_SIZE, MEDIUM_SIZE, BIGGER_SIZE  = 12, 16, 20, 30\n",
    "plt.style.use(['seaborn-white', 'seaborn-paper'])\n",
    "sns.set_palette(\"colorblind\")\n",
    "rcParams['font.family'] = 'serif' \n",
    "rcParams['font.serif'] = 'CMU Serif' \n",
    "rcParams['font.weight'] = 'bold'\n",
    "rcParams['font.size'] = SMALL_SIZE #default font size\n",
    "rcParams['axes.titlesize'] =SMALL_SIZE   # fontsize of the axes title\n",
    "rcParams['axes.labelsize'] =MEDIUM_SIZE    # fontsize of the x and y labels\n",
    "rcParams['xtick.labelsize'] =SMALL_SIZE    # fontsize of the tick labels\n",
    "rcParams['ytick.labelsize'] =SMALL_SIZE   # fontsize of the tick labels\n",
    "rcParams['legend.fontsize'] =SMALL_SIZE    # legend fontsize\n",
    "rcParams['figure.titlesize'] =BIGGER_SIZE  # fontsize of the figure title\n",
    "rcParams['figure.figsize'] = (8,3)\n",
    "pd.set_option('precision',3)\n",
    "outline_bars = dict(linewidth = 1.25, edgecolor = '.15')"
   ]
  },
  {
   "cell_type": "markdown",
   "metadata": {},
   "source": [
    "### Investment success by forecast window"
   ]
  },
  {
   "cell_type": "code",
   "execution_count": 142,
   "metadata": {
    "collapsed": true
   },
   "outputs": [],
   "source": [
    "reload = True"
   ]
  },
  {
   "cell_type": "code",
   "execution_count": 143,
   "metadata": {
    "collapsed": true
   },
   "outputs": [],
   "source": [
    "chart_id = \"figures/evaluation/descriptives_outcome_window\"\n",
    "pickle_path = \"{}/{}.pkl\".format(SAVE_PATH, chart_id)"
   ]
  },
  {
   "cell_type": "code",
   "execution_count": 144,
   "metadata": {
    "collapsed": false
   },
   "outputs": [],
   "source": [
    "try: \n",
    "    if reload: data = pd.read_pickle(pickle_path)\n",
    "    else: raise IOError\n",
    "except IOError: \n",
    "    data = pd.read_pickle(SYS_PATH+\"analysis/output/autoVC/17/merge_output.pkl\")\n",
    "    data[\"forecast_window\"] = data[\"label_date\"] - data[\"feature_date\"]\n",
    "    data[\"forecast_window_years\"] = data[\"forecast_window\"].apply(lambda x: x.days // 30) / 12\n",
    "    data = data.loc[data[\"forecast_window_years\"] > 0]\n",
    "    data[\"outcome_extra_stage_number\"] = data[\"outcome_stage_number\"] - data[\"keys_company_stage_number\"]\n",
    "    data[\"outcome_extra_stage_bool\"] = np.where(data[\"outcome_extra_stage_number\"] > 0, 1, 0)\n",
    "    data[\"Outcome\"] = \"No Change\"\n",
    "    data[\"Outcome\"] = np.where((data[\"Outcome\"] == \"No Change\") & (data[\"outcome_closed_bool\"] >= 1), \"Closed\", data[\"Outcome\"])\n",
    "    data[\"Outcome\"] = np.where((data[\"Outcome\"] == \"No Change\") & (data[\"outcome_ipo_bool\"] >= 1), \"IPO\", data[\"Outcome\"])\n",
    "    data[\"Outcome\"] = np.where((data[\"Outcome\"] == \"No Change\") & (data[\"outcome_acquired_bool\"] >= 1), \"Acquired\", data[\"Outcome\"])\n",
    "    data[\"Outcome\"] = np.where((data[\"Outcome\"] == \"No Change\") & (data[\"outcome_extra_stage_bool\"] >= 1), \"Raised\", data[\"Outcome\"])\n",
    "    data[\"Outcome\"].value_counts()\n",
    "    data = data[[\"Outcome\", \"keys_company_stage\",\"forecast_window_years\"]]\n",
    "    data.to_pickle(pickle_path)"
   ]
  },
  {
   "cell_type": "code",
   "execution_count": 145,
   "metadata": {
    "collapsed": false
   },
   "outputs": [],
   "source": [
    "x = \"forecast_window_years\"\n",
    "y = \"Count\"\n",
    "hue = \"Outcome\"\n",
    "hue_order = [\"Raised\", \"Acquired\", \"IPO\", \"Closed\"]"
   ]
  },
  {
   "cell_type": "code",
   "execution_count": 146,
   "metadata": {
    "collapsed": true
   },
   "outputs": [],
   "source": [
    "x_label = \"Forecast Window (Years)\"\n",
    "y_label = \"Companies (%)\"\n",
    "leg_title = \"Outcome\""
   ]
  },
  {
   "cell_type": "code",
   "execution_count": 147,
   "metadata": {
    "collapsed": false
   },
   "outputs": [],
   "source": [
    "results = data.groupby(x)[hue].value_counts(normalize=True).to_frame()\n",
    "results = results.rename(index=str, columns={hue:\"Count\"})\n",
    "results[\"Count\"] = results[\"Count\"] * 100\n",
    "results = results.reset_index(drop=False)"
   ]
  },
  {
   "cell_type": "code",
   "execution_count": 148,
   "metadata": {
    "collapsed": false
   },
   "outputs": [
    {
     "data": {
      "image/png": "[encoded data removed]",
      "text/plain": [
       "<matplotlib.figure.Figure at 0x2453f7e5080>"
      ]
     },
     "metadata": {},
     "output_type": "display_data"
    }
   ],
   "source": [
    "f = plt.figure()\n",
    "ax = sns.barplot(data=results, x=x, y=y, hue=hue, hue_order=hue_order, **outline_bars)\n",
    "ax.set_xlabel(x_label)\n",
    "ax.set_ylabel(y_label)\n",
    "plt.legend(bbox_to_anchor=(1,1.05), title=leg_title)\n",
    "plt.tight_layout()"
   ]
  },
  {
   "cell_type": "code",
   "execution_count": 149,
   "metadata": {
    "collapsed": true
   },
   "outputs": [],
   "source": [
    "output_path =  \"{}/{}.pdf\".format(SAVE_PATH, chart_id)\n",
    "f.savefig(output_path, bbox_inches=\"tight\")"
   ]
  },
  {
   "cell_type": "markdown",
   "metadata": {},
   "source": [
    "### Investment success by developmental stage"
   ]
  },
  {
   "cell_type": "code",
   "execution_count": 88,
   "metadata": {
    "collapsed": true
   },
   "outputs": [],
   "source": [
    "reload = True"
   ]
  },
  {
   "cell_type": "code",
   "execution_count": 89,
   "metadata": {
    "collapsed": true
   },
   "outputs": [],
   "source": [
    "chart_id = \"figures/evaluation/descriptives_outcome_stage\"\n",
    "pickle_path = \"{}/{}.pkl\".format(SAVE_PATH, chart_id)"
   ]
  },
  {
   "cell_type": "code",
   "execution_count": 90,
   "metadata": {
    "collapsed": false
   },
   "outputs": [],
   "source": [
    "try: \n",
    "    if reload: data = pd.read_pickle(pickle_path)\n",
    "    else: raise IOError\n",
    "except IOError: \n",
    "    data = pd.read_pickle(SYS_PATH+\"analysis/output/autoVC/17/merge_output.pkl\")\n",
    "    data[\"forecast_window\"] = data[\"label_date\"] - data[\"feature_date\"]\n",
    "    data[\"forecast_window_years\"] = data[\"forecast_window\"].apply(lambda x: x.days // 30) / 12\n",
    "    data = data.loc[data[\"forecast_window_years\"] > 0]\n",
    "    data[\"outcome_extra_stage_number\"] = data[\"outcome_stage_number\"] - data[\"keys_company_stage_number\"]\n",
    "    data[\"outcome_extra_stage_bool\"] = np.where(data[\"outcome_extra_stage_number\"] > 0, 1, 0)\n",
    "    data[\"Outcome\"] = \"No Change\"\n",
    "    data[\"Outcome\"] = np.where((data[\"Outcome\"] == \"No Change\") & (data[\"outcome_closed_bool\"] >= 1), \"Closed\", data[\"Outcome\"])\n",
    "    data[\"Outcome\"] = np.where((data[\"Outcome\"] == \"No Change\") & (data[\"outcome_ipo_bool\"] >= 1), \"IPO\", data[\"Outcome\"])\n",
    "    data[\"Outcome\"] = np.where((data[\"Outcome\"] == \"No Change\") & (data[\"outcome_acquired_bool\"] >= 1), \"Acquired\", data[\"Outcome\"])\n",
    "    data[\"Outcome\"] = np.where((data[\"Outcome\"] == \"No Change\") & (data[\"outcome_extra_stage_bool\"] >= 1), \"Raised\", data[\"Outcome\"])\n",
    "    data[\"Outcome\"].value_counts()\n",
    "    data = data[[\"Outcome\", \"keys_company_stage\",\"forecast_window_years\"]]\n",
    "    data.to_pickle(pickle_path)"
   ]
  },
  {
   "cell_type": "code",
   "execution_count": 128,
   "metadata": {
    "collapsed": false
   },
   "outputs": [],
   "source": [
    "x = \"keys_company_stage\"\n",
    "y = \"Count\"\n",
    "hue = \"Outcome\"\n",
    "hue_order = [\"Raised\", \"Acquired\", \"IPO\", \"Closed\"]"
   ]
  },
  {
   "cell_type": "code",
   "execution_count": 136,
   "metadata": {
    "collapsed": true
   },
   "outputs": [],
   "source": [
    "x_label = \"Initial Stage\"\n",
    "y_label = \"Companies (%)\"\n",
    "leg_title = \"Outcome\""
   ]
  },
  {
   "cell_type": "code",
   "execution_count": 137,
   "metadata": {
    "collapsed": false
   },
   "outputs": [],
   "source": [
    "results = data.groupby(x)[hue].value_counts(normalize=True).to_frame()\n",
    "results = results.rename(index=str, columns={hue:\"Count\"})\n",
    "results[\"Count\"] = results[\"Count\"] * 100\n",
    "results = results.reset_index(drop=False)"
   ]
  },
  {
   "cell_type": "code",
   "execution_count": 138,
   "metadata": {
    "collapsed": false
   },
   "outputs": [
    {
     "data": {
      "image/png": "[encoded data removed]",
      "text/plain": [
       "<matplotlib.figure.Figure at 0x2454acc3ba8>"
      ]
     },
     "metadata": {},
     "output_type": "display_data"
    }
   ],
   "source": [
    "f = plt.figure()\n",
    "ax = sns.barplot(data=results, x=x, y=y, hue=hue, hue_order=hue_order, **outline_bars)\n",
    "ax.set_xlabel(x_label)\n",
    "ax.set_ylabel(y_label)\n",
    "plt.legend(bbox_to_anchor=(1,1.05), title=leg_title)\n",
    "plt.tight_layout()"
   ]
  },
  {
   "cell_type": "code",
   "execution_count": 139,
   "metadata": {
    "collapsed": true
   },
   "outputs": [],
   "source": [
    "output_path =  \"{}/{}.pdf\".format(SAVE_PATH, chart_id)\n",
    "f.savefig(output_path, bbox_inches=\"tight\")"
   ]
  },
  {
   "cell_type": "markdown",
   "metadata": {},
   "source": [
    "### Dataset counts over time"
   ]
  },
  {
   "cell_type": "code",
   "execution_count": null,
   "metadata": {
    "collapsed": true
   },
   "outputs": [],
   "source": []
  }
 ],
 "metadata": {
  "kernelspec": {
   "display_name": "Python 3",
   "language": "python",
   "name": "python3"
  },
  "language_info": {
   "codemirror_mode": {
    "name": "ipython",
    "version": 3
   },
   "file_extension": ".py",
   "mimetype": "text/x-python",
   "name": "python",
   "nbconvert_exporter": "python",
   "pygments_lexer": "ipython3",
   "version": "3.6.0"
  }
 },
 "nbformat": 4,
 "nbformat_minor": 2
}

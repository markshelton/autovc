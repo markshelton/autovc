{
 "cells": [
  {
   "cell_type": "markdown",
   "metadata": {},
   "source": [
    "# Performance (Initial)"
   ]
  },
  {
   "cell_type": "markdown",
   "metadata": {},
   "source": [
    "### Preamble"
   ]
  },
  {
   "cell_type": "code",
   "execution_count": 4,
   "metadata": {
    "collapsed": true
   },
   "outputs": [],
   "source": [
    "SYS_PATH = r'C:/Users/mark/Documents/GitHub/honours/dev/package/'\n",
    "SAVE_PATH = r\"C:/Users/mark/Documents/GitHub/honours/submissions/thesis-original\"\n",
    "LOAD_PATH = r\"C:/Users/mark/Documents/GitHub/honours/dev/package/analysis/output/temp/output.db\""
   ]
  },
  {
   "cell_type": "code",
   "execution_count": 5,
   "metadata": {
    "collapsed": true
   },
   "outputs": [],
   "source": [
    "#standard imports\n",
    "import sys\n",
    "import numpy as np\n",
    "import scipy.stats as stats\n",
    "import pandas as pd\n",
    "from datetime import date, timedelta\n",
    "from collections import OrderedDict\n",
    "import math\n",
    "from itertools import chain\n",
    "from datetime import date\n",
    "from datetime import datetime\n",
    "\n",
    "#third party imports\n",
    "import matplotlib\n",
    "import matplotlib.pyplot as plt\n",
    "from matplotlib import rcParams\n",
    "import matplotlib.ticker as tkr\n",
    "import seaborn as sns\n",
    "from sklearn import metrics"
   ]
  },
  {
   "cell_type": "code",
   "execution_count": 6,
   "metadata": {
    "collapsed": true
   },
   "outputs": [],
   "source": [
    "import importlib\n",
    "import sys; sys.path.append(SYS_PATH)\n",
    "import analysis.helper as helper\n",
    "importlib.reload(helper)\n",
    "%matplotlib inline"
   ]
  },
  {
   "cell_type": "code",
   "execution_count": 7,
   "metadata": {
    "collapsed": true
   },
   "outputs": [],
   "source": [
    "TINY_SIZE, SMALL_SIZE, MEDIUM_SIZE, BIGGER_SIZE  = 12, 16, 18, 30\n",
    "plt.style.use(['seaborn-white', 'seaborn-paper'])\n",
    "sns.set_palette(\"colorblind\")\n",
    "rcParams['font.family'] = 'serif' \n",
    "rcParams['font.serif'] = 'CMU Serif' \n",
    "rcParams['font.weight'] = 'bold'\n",
    "rcParams['font.size'] = SMALL_SIZE #default font size\n",
    "rcParams['axes.titlesize'] =SMALL_SIZE   # fontsize of the axes title\n",
    "rcParams['axes.labelsize'] =MEDIUM_SIZE    # fontsize of the x and y labels\n",
    "rcParams['xtick.labelsize'] =SMALL_SIZE    # fontsize of the tick labels\n",
    "rcParams['ytick.labelsize'] =SMALL_SIZE   # fontsize of the tick labels\n",
    "rcParams['legend.fontsize'] =SMALL_SIZE    # legend fontsize\n",
    "rcParams['figure.titlesize'] =BIGGER_SIZE  # fontsize of the figure title\n",
    "rcParams['figure.figsize'] = (8,3)\n",
    "pd.set_option('precision',3)\n",
    "outline_bars = dict(linewidth = 1.25, edgecolor = '.15')"
   ]
  },
  {
   "cell_type": "markdown",
   "metadata": {},
   "source": [
    "### AU-PRC by imputation strategy"
   ]
  },
  {
   "cell_type": "code",
   "execution_count": 5,
   "metadata": {
    "collapsed": true
   },
   "outputs": [],
   "source": [
    "reload = True"
   ]
  },
  {
   "cell_type": "code",
   "execution_count": 6,
   "metadata": {
    "collapsed": true
   },
   "outputs": [],
   "source": [
    "chart_id = \"figures/design/auc_imputer\"\n",
    "pickle_path = \"{}/{}.pkl\".format(SAVE_PATH, chart_id)"
   ]
  },
  {
   "cell_type": "code",
   "execution_count": 8,
   "metadata": {
    "collapsed": false
   },
   "outputs": [],
   "source": [
    "def get_data():\n",
    "    data = helper.get_results(16, \"create\")\n",
    "    data = data[[\"PRC\", \"Imputer\", \"outcome_chance\"]]\n",
    "    return data"
   ]
  },
  {
   "cell_type": "code",
   "execution_count": 9,
   "metadata": {
    "collapsed": false
   },
   "outputs": [
    {
     "name": "stdout",
     "output_type": "stream",
     "text": [
      "Error: Learning Curve\n",
      "Error: Target Outcome\n"
     ]
    }
   ],
   "source": [
    "try: \n",
    "    if reload: data = pd.read_pickle(pickle_path)\n",
    "    else: raise IOError\n",
    "except IOError: \n",
    "    data = get_data()\n",
    "    data.to_pickle(pickle_path)"
   ]
  },
  {
   "cell_type": "code",
   "execution_count": 10,
   "metadata": {
    "collapsed": true
   },
   "outputs": [],
   "source": [
    "x = \"PRC\"\n",
    "y = \"Imputer\"\n",
    "order = data.groupby(y)[x].median().sort_values(ascending=False).index.tolist()\n",
    "xlabel = \"Area Under Precision-Recall Curve\"\n",
    "ylabel = \"Imputer Strategy\"\n",
    "line = (data[\"outcome_chance\"].ix[0], \"Chance\")"
   ]
  },
  {
   "cell_type": "code",
   "execution_count": 13,
   "metadata": {
    "collapsed": false
   },
   "outputs": [
    {
     "data": {
      "image/png": "[encoded data removed]",
      "text/plain": [
       "<matplotlib.figure.Figure at 0x127e9234b70>"
      ]
     },
     "metadata": {},
     "output_type": "display_data"
    }
   ],
   "source": [
    "f = plt.figure()\n",
    "ax = sns.boxplot(data=data, x=x, y=y, order=order, fliersize=0)\n",
    "ax.set_xlabel(xlabel)\n",
    "ax.set_ylabel(ylabel)\n",
    "helper.add_vertical_line(ax, *line, color=\"r\")\n",
    "plt.tight_layout()"
   ]
  },
  {
   "cell_type": "code",
   "execution_count": 14,
   "metadata": {
    "collapsed": false
   },
   "outputs": [],
   "source": [
    "output_path =  \"{}/{}.pdf\".format(SAVE_PATH, chart_id)\n",
    "f.savefig(output_path, bbox_inches=\"tight\")"
   ]
  },
  {
   "cell_type": "markdown",
   "metadata": {},
   "source": [
    "### AU-PRC by transformation function"
   ]
  },
  {
   "cell_type": "code",
   "execution_count": 15,
   "metadata": {
    "collapsed": true
   },
   "outputs": [],
   "source": [
    "reload = True"
   ]
  },
  {
   "cell_type": "code",
   "execution_count": 16,
   "metadata": {
    "collapsed": true
   },
   "outputs": [],
   "source": [
    "chart_id = \"figures/design/auc_transformer\"\n",
    "pickle_path = \"{}/{}.pkl\".format(SAVE_PATH, chart_id)"
   ]
  },
  {
   "cell_type": "code",
   "execution_count": 17,
   "metadata": {
    "collapsed": false
   },
   "outputs": [],
   "source": [
    "def get_data():\n",
    "    data = helper.get_results(16, \"create\")\n",
    "    data = data[[\"PRC\", \"Transformer\", \"outcome_chance\"]]\n",
    "    return data"
   ]
  },
  {
   "cell_type": "code",
   "execution_count": 18,
   "metadata": {
    "collapsed": false
   },
   "outputs": [
    {
     "name": "stdout",
     "output_type": "stream",
     "text": [
      "Error: Learning Curve\n",
      "Error: Target Outcome\n"
     ]
    }
   ],
   "source": [
    "try: \n",
    "    if reload: data = pd.read_pickle(pickle_path)\n",
    "    else: raise IOError\n",
    "except IOError: \n",
    "    data = get_data()\n",
    "    data.to_pickle(pickle_path)"
   ]
  },
  {
   "cell_type": "code",
   "execution_count": 21,
   "metadata": {
    "collapsed": true
   },
   "outputs": [],
   "source": [
    "x = \"PRC\"\n",
    "y = \"Transformer\"\n",
    "order = data.groupby(y)[x].median().sort_values(ascending=False).index.tolist()\n",
    "xlabel = \"Area Under Precision-Recall Curve\"\n",
    "ylabel = \"Transformer\"\n",
    "line = (data[\"outcome_chance\"].ix[0], \"Chance\")"
   ]
  },
  {
   "cell_type": "code",
   "execution_count": 22,
   "metadata": {
    "collapsed": false
   },
   "outputs": [
    {
     "data": {
      "image/png": "[encoded data removed]",
      "text/plain": [
       "<matplotlib.figure.Figure at 0x127e9444160>"
      ]
     },
     "metadata": {},
     "output_type": "display_data"
    }
   ],
   "source": [
    "f = plt.figure()\n",
    "ax = sns.boxplot(data=data, x=x, y=y, order=order, fliersize=0)\n",
    "ax.set_xlabel(xlabel)\n",
    "ax.set_ylabel(ylabel)\n",
    "helper.add_vertical_line(ax, *line, color=\"r\")\n",
    "plt.tight_layout()"
   ]
  },
  {
   "cell_type": "code",
   "execution_count": 23,
   "metadata": {
    "collapsed": false
   },
   "outputs": [],
   "source": [
    "output_path =  \"{}/{}.pdf\".format(SAVE_PATH, chart_id)\n",
    "f.savefig(output_path, bbox_inches=\"tight\")"
   ]
  },
  {
   "cell_type": "markdown",
   "metadata": {},
   "source": [
    "### AU-PRC by scaling function"
   ]
  },
  {
   "cell_type": "code",
   "execution_count": 24,
   "metadata": {
    "collapsed": true
   },
   "outputs": [],
   "source": [
    "reload = True"
   ]
  },
  {
   "cell_type": "code",
   "execution_count": 25,
   "metadata": {
    "collapsed": true
   },
   "outputs": [],
   "source": [
    "chart_id = \"figures/design/auc_scaler\"\n",
    "pickle_path = \"{}/{}.pkl\".format(SAVE_PATH, chart_id)"
   ]
  },
  {
   "cell_type": "code",
   "execution_count": 26,
   "metadata": {
    "collapsed": false
   },
   "outputs": [],
   "source": [
    "def get_data():\n",
    "    data = helper.get_results(16, \"create\")\n",
    "    data = data[[\"PRC\", \"Scaler\", \"outcome_chance\"]]\n",
    "    return data"
   ]
  },
  {
   "cell_type": "code",
   "execution_count": 27,
   "metadata": {
    "collapsed": false
   },
   "outputs": [
    {
     "name": "stdout",
     "output_type": "stream",
     "text": [
      "Error: Learning Curve\n",
      "Error: Target Outcome\n"
     ]
    }
   ],
   "source": [
    "try: \n",
    "    if reload: data = pd.read_pickle(pickle_path)\n",
    "    else: raise IOError\n",
    "except IOError: \n",
    "    data = get_data()\n",
    "    data.to_pickle(pickle_path)"
   ]
  },
  {
   "cell_type": "code",
   "execution_count": 28,
   "metadata": {
    "collapsed": true
   },
   "outputs": [],
   "source": [
    "x = \"PRC\"\n",
    "y = \"Scaler\"\n",
    "order = data.groupby(y)[x].median().sort_values(ascending=False).index.tolist()\n",
    "xlabel = \"Area Under Precision-Recall Curve\"\n",
    "ylabel = \"Scaler\"\n",
    "line = (data[\"outcome_chance\"].ix[0], \"Chance\")"
   ]
  },
  {
   "cell_type": "code",
   "execution_count": 29,
   "metadata": {
    "collapsed": false
   },
   "outputs": [
    {
     "data": {
      "image/png": "[encoded data removed]",
      "text/plain": [
       "<matplotlib.figure.Figure at 0x1278e9a3ef0>"
      ]
     },
     "metadata": {},
     "output_type": "display_data"
    }
   ],
   "source": [
    "f = plt.figure()\n",
    "ax = sns.boxplot(data=data, x=x, y=y, order=order, fliersize=0)\n",
    "ax.set_xlabel(xlabel)\n",
    "ax.set_ylabel(ylabel)\n",
    "helper.add_vertical_line(ax, *line, color=\"r\")\n",
    "plt.tight_layout()"
   ]
  },
  {
   "cell_type": "code",
   "execution_count": 30,
   "metadata": {
    "collapsed": false
   },
   "outputs": [],
   "source": [
    "output_path =  \"{}/{}.pdf\".format(SAVE_PATH, chart_id)\n",
    "f.savefig(output_path, bbox_inches=\"tight\")"
   ]
  },
  {
   "cell_type": "markdown",
   "metadata": {},
   "source": [
    "### AU-PRC by extraction techniques"
   ]
  },
  {
   "cell_type": "code",
   "execution_count": 73,
   "metadata": {
    "collapsed": true
   },
   "outputs": [],
   "source": [
    "reload = False"
   ]
  },
  {
   "cell_type": "code",
   "execution_count": 74,
   "metadata": {
    "collapsed": true
   },
   "outputs": [],
   "source": [
    "chart_id = \"figures/design/auc_extractor\"\n",
    "pickle_path = \"{}/{}.pkl\".format(SAVE_PATH, chart_id)"
   ]
  },
  {
   "cell_type": "code",
   "execution_count": 75,
   "metadata": {
    "collapsed": false
   },
   "outputs": [],
   "source": [
    "def get_data():\n",
    "    data = helper.get_results(16, \"create\")\n",
    "    data = data[[\"PRC\", \"param_extractor__n_components_bin_20\", \"outcome_chance\"]]\n",
    "    data[\"PCA_Components\"] = data[\"param_extractor__n_components_bin_20\"].map({0 : \"1-20\", 1 : \"21-40\", 2: \"41-60\",3: \"61-80\", 4: \"81-100\"})\n",
    "    return data"
   ]
  },
  {
   "cell_type": "code",
   "execution_count": 76,
   "metadata": {
    "collapsed": false
   },
   "outputs": [
    {
     "name": "stdout",
     "output_type": "stream",
     "text": [
      "Error: Learning Curve\n",
      "Error: Target Outcome\n"
     ]
    }
   ],
   "source": [
    "try: \n",
    "    if reload: data = pd.read_pickle(pickle_path)\n",
    "    else: raise IOError\n",
    "except IOError: \n",
    "    data = get_data()\n",
    "    data.to_pickle(pickle_path)"
   ]
  },
  {
   "cell_type": "code",
   "execution_count": 77,
   "metadata": {
    "collapsed": false
   },
   "outputs": [],
   "source": [
    "x = \"PRC\"\n",
    "y = \"PCA_Components\"\n",
    "order = data[y].value_counts().index.sort_values(ascending=True).tolist()\n",
    "xlabel = \"Area Under Precision-Recall Curve\"\n",
    "ylabel = \"PCA Components\"\n",
    "line = (data[\"outcome_chance\"].ix[0], \"Chance\")"
   ]
  },
  {
   "cell_type": "code",
   "execution_count": 78,
   "metadata": {
    "collapsed": false
   },
   "outputs": [
    {
     "data": {
      "image/png": "[encoded data removed]",
      "text/plain": [
       "<matplotlib.figure.Figure at 0x127f912c1d0>"
      ]
     },
     "metadata": {},
     "output_type": "display_data"
    }
   ],
   "source": [
    "f = plt.figure()\n",
    "ax = sns.boxplot(data=data, x=x, y=y, order=order, fliersize=0, orient=\"h\")\n",
    "ax.set_xlabel(xlabel)\n",
    "ax.set_ylabel(ylabel)\n",
    "helper.add_vertical_line(ax, *line, color=\"r\")\n",
    "plt.tight_layout()"
   ]
  },
  {
   "cell_type": "code",
   "execution_count": 79,
   "metadata": {
    "collapsed": false
   },
   "outputs": [],
   "source": [
    "output_path =  \"{}/{}.pdf\".format(SAVE_PATH, chart_id)\n",
    "f.savefig(output_path, bbox_inches=\"tight\")"
   ]
  },
  {
   "cell_type": "markdown",
   "metadata": {},
   "source": [
    "### AU-PRC by classification algorithms"
   ]
  },
  {
   "cell_type": "code",
   "execution_count": 80,
   "metadata": {
    "collapsed": true
   },
   "outputs": [],
   "source": [
    "reload = False"
   ]
  },
  {
   "cell_type": "code",
   "execution_count": 81,
   "metadata": {
    "collapsed": true
   },
   "outputs": [],
   "source": [
    "chart_id = \"figures/design/auc_classifier\"\n",
    "pickle_path = \"{}/{}.pkl\".format(SAVE_PATH, chart_id)"
   ]
  },
  {
   "cell_type": "code",
   "execution_count": 82,
   "metadata": {
    "collapsed": false
   },
   "outputs": [],
   "source": [
    "def get_data():\n",
    "    data = helper.get_results(16, \"create\")\n",
    "    data = data[[\"PRC\", \"Classifier\", \"outcome_chance\"]]\n",
    "    return data"
   ]
  },
  {
   "cell_type": "code",
   "execution_count": 83,
   "metadata": {
    "collapsed": false
   },
   "outputs": [
    {
     "name": "stdout",
     "output_type": "stream",
     "text": [
      "Error: Learning Curve\n",
      "Error: Target Outcome\n"
     ]
    }
   ],
   "source": [
    "try: \n",
    "    if reload: data = pd.read_pickle(pickle_path)\n",
    "    else: raise IOError\n",
    "except IOError: \n",
    "    data = get_data()\n",
    "    data.to_pickle(pickle_path)"
   ]
  },
  {
   "cell_type": "code",
   "execution_count": 84,
   "metadata": {
    "collapsed": true
   },
   "outputs": [],
   "source": [
    "x = \"PRC\"\n",
    "y = \"Classifier\"\n",
    "order = data.groupby(y)[x].median().sort_values(ascending=False).index.tolist()\n",
    "xlabel = \"Area Under Precision-Recall Curve\"\n",
    "ylabel = \"Classifier\"\n",
    "line = (data[\"outcome_chance\"].ix[0], \"Chance\")"
   ]
  },
  {
   "cell_type": "code",
   "execution_count": 88,
   "metadata": {
    "collapsed": false
   },
   "outputs": [
    {
     "data": {
      "image/png": "[encoded data removed]",
      "text/plain": [
       "<matplotlib.figure.Figure at 0x127e92c69e8>"
      ]
     },
     "metadata": {},
     "output_type": "display_data"
    }
   ],
   "source": [
    "f = plt.figure()\n",
    "ax = sns.boxplot(data=data, x=x, y=y, order=order, fliersize=0)\n",
    "ax.set_xlabel(xlabel)\n",
    "ax.set_ylabel(ylabel)\n",
    "ax.set_xlim(xmin=0.1, xmax=0.5)\n",
    "helper.add_vertical_line(ax, *line, color=\"r\")\n",
    "plt.tight_layout()"
   ]
  },
  {
   "cell_type": "code",
   "execution_count": 89,
   "metadata": {
    "collapsed": false
   },
   "outputs": [],
   "source": [
    "output_path =  \"{}/{}.pdf\".format(SAVE_PATH, chart_id)\n",
    "f.savefig(output_path, bbox_inches=\"tight\")"
   ]
  },
  {
   "cell_type": "markdown",
   "metadata": {},
   "source": [
    "### Statistics by classification algorithms"
   ]
  },
  {
   "cell_type": "code",
   "execution_count": 24,
   "metadata": {
    "collapsed": true
   },
   "outputs": [],
   "source": [
    "reload = False"
   ]
  },
  {
   "cell_type": "code",
   "execution_count": 25,
   "metadata": {
    "collapsed": false
   },
   "outputs": [],
   "source": [
    "chart_id = \"figures/design/statistics_classifier\"\n",
    "pickle_path = \"{}/{}.pkl\".format(SAVE_PATH, chart_id)"
   ]
  },
  {
   "cell_type": "code",
   "execution_count": 26,
   "metadata": {
    "collapsed": false
   },
   "outputs": [],
   "source": [
    "def get_data():\n",
    "    data = helper.get_results(16, \"create\")\n",
    "    data[\"ROC\"] = data[\"ROC\"].fillna(data['AUC'])\n",
    "    data[\"MCC\"] = data[\"MCC\"].fillna(data['MC'])\n",
    "    data[\"Total\"] = \"Total\"\n",
    "    data = data[[\"PRC\", \"ROC\", \"F1\", \"MCC\", \"Time\", \"Classifier\", \"Total\"]]\n",
    "    return data"
   ]
  },
  {
   "cell_type": "code",
   "execution_count": 27,
   "metadata": {
    "collapsed": false
   },
   "outputs": [
    {
     "name": "stdout",
     "output_type": "stream",
     "text": [
      "Error: Learning Curve\n",
      "Error: Target Outcome\n"
     ]
    }
   ],
   "source": [
    "try: \n",
    "    if reload: data = pd.read_pickle(pickle_path)\n",
    "    else: raise IOError\n",
    "except IOError: \n",
    "    data = get_data()\n",
    "    data.to_pickle(pickle_path)"
   ]
  },
  {
   "cell_type": "code",
   "execution_count": 28,
   "metadata": {
    "collapsed": false
   },
   "outputs": [],
   "source": [
    "columns = [\"PRC\", \"ROC\", \"F1\", \"MCC\", \"Time\"]\n",
    "colnames = [\"AUC PRC\", \"AUC ROC\", \"F1\", \"MCC\", \"Fit Time (s)\"]\n",
    "colfuncs = [\n",
    "    OrderedDict([(\"50th\", np.median),(\"Max\", np.max)]), \n",
    "    OrderedDict([(\"50th\", np.median),(\"Max\", np.max)]), \n",
    "    OrderedDict([(\"50th\", np.median),(\"Max\", np.max)]), \n",
    "    OrderedDict([(\"50th\", np.median),(\"Max\", np.max)]), \n",
    "    OrderedDict([(\"50th\", np.median),(\"75th\", lambda x: np.nanpercentile(x,75))])]\n",
    "namefunc = OrderedDict(zip(columns, colnames))\n",
    "aggfunc = OrderedDict(zip(columns, colfuncs))"
   ]
  },
  {
   "cell_type": "code",
   "execution_count": 29,
   "metadata": {
    "collapsed": false
   },
   "outputs": [
    {
     "data": {
      "text/html": [
       "<div>\n",
       "<table border=\"1\" class=\"dataframe\">\n",
       "  <thead>\n",
       "    <tr>\n",
       "      <th></th>\n",
       "      <th colspan=\"2\" halign=\"left\">AUC PRC</th>\n",
       "      <th colspan=\"2\" halign=\"left\">AUC ROC</th>\n",
       "      <th colspan=\"2\" halign=\"left\">F1</th>\n",
       "      <th colspan=\"2\" halign=\"left\">MCC</th>\n",
       "      <th colspan=\"2\" halign=\"left\">Fit Time (s)</th>\n",
       "    </tr>\n",
       "    <tr>\n",
       "      <th></th>\n",
       "      <th>50th</th>\n",
       "      <th>Max</th>\n",
       "      <th>50th</th>\n",
       "      <th>Max</th>\n",
       "      <th>50th</th>\n",
       "      <th>Max</th>\n",
       "      <th>50th</th>\n",
       "      <th>Max</th>\n",
       "      <th>50th</th>\n",
       "      <th>75th</th>\n",
       "    </tr>\n",
       "  </thead>\n",
       "  <tbody>\n",
       "    <tr>\n",
       "      <th>Artificial Neural Network</th>\n",
       "      <td>0.320</td>\n",
       "      <td>0.335</td>\n",
       "      <td>0.517</td>\n",
       "      <td>0.523</td>\n",
       "      <td>0.072</td>\n",
       "      <td>0.096</td>\n",
       "      <td>0.111</td>\n",
       "      <td>0.140</td>\n",
       "      <td>9.146</td>\n",
       "      <td>21.035</td>\n",
       "    </tr>\n",
       "    <tr>\n",
       "      <th>Decision Tree</th>\n",
       "      <td>0.388</td>\n",
       "      <td>0.429</td>\n",
       "      <td>0.651</td>\n",
       "      <td>0.659</td>\n",
       "      <td>0.305</td>\n",
       "      <td>0.314</td>\n",
       "      <td>0.212</td>\n",
       "      <td>0.224</td>\n",
       "      <td>15.329</td>\n",
       "      <td>16.853</td>\n",
       "    </tr>\n",
       "    <tr>\n",
       "      <th>K-Nearest Neighbors</th>\n",
       "      <td>0.335</td>\n",
       "      <td>0.353</td>\n",
       "      <td>0.532</td>\n",
       "      <td>0.565</td>\n",
       "      <td>0.131</td>\n",
       "      <td>0.226</td>\n",
       "      <td>0.137</td>\n",
       "      <td>0.210</td>\n",
       "      <td>8.537</td>\n",
       "      <td>20.778</td>\n",
       "    </tr>\n",
       "    <tr>\n",
       "      <th>Logistic Regression</th>\n",
       "      <td>0.417</td>\n",
       "      <td>0.465</td>\n",
       "      <td>0.675</td>\n",
       "      <td>0.710</td>\n",
       "      <td>0.339</td>\n",
       "      <td>0.358</td>\n",
       "      <td>0.255</td>\n",
       "      <td>0.288</td>\n",
       "      <td>7.326</td>\n",
       "      <td>412.708</td>\n",
       "    </tr>\n",
       "    <tr>\n",
       "      <th>Naive Bayes</th>\n",
       "      <td>0.354</td>\n",
       "      <td>0.367</td>\n",
       "      <td>0.623</td>\n",
       "      <td>0.638</td>\n",
       "      <td>0.303</td>\n",
       "      <td>0.321</td>\n",
       "      <td>0.212</td>\n",
       "      <td>0.239</td>\n",
       "      <td>8.589</td>\n",
       "      <td>26.804</td>\n",
       "    </tr>\n",
       "    <tr>\n",
       "      <th>Random Forest</th>\n",
       "      <td>0.376</td>\n",
       "      <td>0.465</td>\n",
       "      <td>0.619</td>\n",
       "      <td>0.709</td>\n",
       "      <td>0.332</td>\n",
       "      <td>0.360</td>\n",
       "      <td>0.271</td>\n",
       "      <td>0.288</td>\n",
       "      <td>68.325</td>\n",
       "      <td>69.015</td>\n",
       "    </tr>\n",
       "    <tr>\n",
       "      <th>Support Vector Machine</th>\n",
       "      <td>0.233</td>\n",
       "      <td>0.244</td>\n",
       "      <td>0.503</td>\n",
       "      <td>0.504</td>\n",
       "      <td>0.014</td>\n",
       "      <td>0.017</td>\n",
       "      <td>0.038</td>\n",
       "      <td>0.045</td>\n",
       "      <td>29.015</td>\n",
       "      <td>29.015</td>\n",
       "    </tr>\n",
       "    <tr>\n",
       "      <th>Total</th>\n",
       "      <td>0.357</td>\n",
       "      <td>0.465</td>\n",
       "      <td>0.623</td>\n",
       "      <td>0.710</td>\n",
       "      <td>0.300</td>\n",
       "      <td>0.360</td>\n",
       "      <td>0.209</td>\n",
       "      <td>0.288</td>\n",
       "      <td>15.329</td>\n",
       "      <td>29.015</td>\n",
       "    </tr>\n",
       "  </tbody>\n",
       "</table>\n",
       "</div>"
      ],
      "text/plain": [
       "                          AUC PRC        AUC ROC            F1           MCC  \\\n",
       "                             50th    Max    50th    Max   50th    Max   50th   \n",
       "Artificial Neural Network   0.320  0.335   0.517  0.523  0.072  0.096  0.111   \n",
       "Decision Tree               0.388  0.429   0.651  0.659  0.305  0.314  0.212   \n",
       "K-Nearest Neighbors         0.335  0.353   0.532  0.565  0.131  0.226  0.137   \n",
       "Logistic Regression         0.417  0.465   0.675  0.710  0.339  0.358  0.255   \n",
       "Naive Bayes                 0.354  0.367   0.623  0.638  0.303  0.321  0.212   \n",
       "Random Forest               0.376  0.465   0.619  0.709  0.332  0.360  0.271   \n",
       "Support Vector Machine      0.233  0.244   0.503  0.504  0.014  0.017  0.038   \n",
       "Total                       0.357  0.465   0.623  0.710  0.300  0.360  0.209   \n",
       "\n",
       "                                 Fit Time (s)           \n",
       "                             Max         50th     75th  \n",
       "Artificial Neural Network  0.140        9.146   21.035  \n",
       "Decision Tree              0.224       15.329   16.853  \n",
       "K-Nearest Neighbors        0.210        8.537   20.778  \n",
       "Logistic Regression        0.288        7.326  412.708  \n",
       "Naive Bayes                0.239        8.589   26.804  \n",
       "Random Forest              0.288       68.325   69.015  \n",
       "Support Vector Machine     0.045       29.015   29.015  \n",
       "Total                      0.288       15.329   29.015  "
      ]
     },
     "execution_count": 29,
     "metadata": {},
     "output_type": "execute_result"
    }
   ],
   "source": [
    "pivot1 = pd.pivot_table(data, values=columns, index=\"Classifier\", aggfunc=aggfunc,  fill_value = 0,  margins=False)\n",
    "pivot2 = pd.pivot_table(data, values=columns, index=\"Total\", aggfunc=aggfunc, fill_value = 0, margins=False)\n",
    "table = pd.concat([pivot1,pivot2],axis=0).rename(columns=namefunc)\n",
    "table"
   ]
  },
  {
   "cell_type": "code",
   "execution_count": 30,
   "metadata": {
    "collapsed": false
   },
   "outputs": [],
   "source": [
    "output_path =  \"{}/{}.tex\".format(SAVE_PATH, chart_id)\n",
    "table.to_latex(output_path)"
   ]
  },
  {
   "cell_type": "markdown",
   "metadata": {
    "collapsed": true
   },
   "source": [
    "### Pipeline performance by slice date"
   ]
  },
  {
   "cell_type": "code",
   "execution_count": 8,
   "metadata": {
    "collapsed": true
   },
   "outputs": [],
   "source": [
    "reload = True"
   ]
  },
  {
   "cell_type": "code",
   "execution_count": 9,
   "metadata": {
    "collapsed": false
   },
   "outputs": [],
   "source": [
    "chart_id = \"figures/design/auc_finalists_agg\"\n",
    "pickle_path = \"{}/{}.pkl\".format(SAVE_PATH, chart_id)"
   ]
  },
  {
   "cell_type": "code",
   "execution_count": 10,
   "metadata": {
    "collapsed": false
   },
   "outputs": [],
   "source": [
    "try: \n",
    "    if reload: data = pd.read_pickle(pickle_path)\n",
    "    else: raise IOError\n",
    "except IOError: \n",
    "    data = helper.get_results(16, \"select\")\n",
    "    data[\"feature_date_int\"] = data[\"feature_date\"].apply(lambda x: datetime(x.year, x.month, x.day).timestamp())\n",
    "    data = data[[\"feature_date_int\", \"PRC\", \"outcome_chance\"]]\n",
    "    data.to_pickle(pickle_path)"
   ]
  },
  {
   "cell_type": "code",
   "execution_count": 11,
   "metadata": {
    "collapsed": false
   },
   "outputs": [],
   "source": [
    "y = \"PRC\"\n",
    "x = \"feature_date_int\"\n",
    "ylabel = \"Area Under PR Curve\"\n",
    "xlabel = \"Feature Slice Date\""
   ]
  },
  {
   "cell_type": "code",
   "execution_count": 12,
   "metadata": {
    "collapsed": false
   },
   "outputs": [
    {
     "data": {
      "text/plain": [
       "<matplotlib.text.Text at 0x1d6fa502e80>"
      ]
     },
     "execution_count": 12,
     "metadata": {},
     "output_type": "execute_result"
    },
    {
     "data": {
      "image/png": "[encoded data removed]",
      "text/plain": [
       "<matplotlib.figure.Figure at 0x1d6f6c34b70>"
      ]
     },
     "metadata": {},
     "output_type": "display_data"
    }
   ],
   "source": [
    "g = sns.JointGrid(data=data, x=x, y=y)\n",
    "g = g.plot_joint(sns.regplot)\n",
    "_ = g.ax_marg_y.hist(data[y],orientation=\"horizontal\", **outline_bars)\n",
    "g = g.annotate(lambda a, b: stats.pearsonr(a, b)[0] ** 2, template=\"{stat}: {val:.2f}\",stat=\"$R^2$\")\n",
    "g.fig.set_figwidth(10)\n",
    "g.fig.set_figheight(3)\n",
    "ax = plt.gca()\n",
    "xticks_dates = [datetime.fromtimestamp(x).strftime('%Y-%m') for x in ax.get_xticks()]\n",
    "_ = ax.set_xticklabels(xticks_dates)\n",
    "ax.set_xlabel(xlabel)\n",
    "ax.set_ylabel(ylabel)"
   ]
  },
  {
   "cell_type": "code",
   "execution_count": 14,
   "metadata": {
    "collapsed": false
   },
   "outputs": [],
   "source": [
    "output_path =  \"{}/{}.pdf\".format(SAVE_PATH, chart_id)\n",
    "g.savefig(output_path, bbox_inches=\"tight\")"
   ]
  },
  {
   "cell_type": "markdown",
   "metadata": {},
   "source": [
    "### Overview of finalist pipeline performance"
   ]
  },
  {
   "cell_type": "code",
   "execution_count": 125,
   "metadata": {
    "collapsed": true
   },
   "outputs": [],
   "source": [
    "reload = False"
   ]
  },
  {
   "cell_type": "code",
   "execution_count": 126,
   "metadata": {
    "collapsed": true
   },
   "outputs": [],
   "source": [
    "chart_id = \"figures/design/auc_finalists_rank\"\n",
    "pickle_path = \"{}/{}.pkl\".format(SAVE_PATH, chart_id)"
   ]
  },
  {
   "cell_type": "code",
   "execution_count": 127,
   "metadata": {
    "collapsed": false
   },
   "outputs": [
    {
     "name": "stdout",
     "output_type": "stream",
     "text": [
      "Error: Time\n",
      "Error: Imputer\n",
      "Error: Transformer\n",
      "Error: Scaler\n",
      "Error: Extractor\n",
      "Error: Learning Curve\n",
      "Error: Target Outcome\n"
     ]
    }
   ],
   "source": [
    "try: \n",
    "    if reload: data = pd.read_pickle(pickle_path)\n",
    "    else: raise IOError\n",
    "except IOError: \n",
    "    data = helper.get_results(16, \"select\")\n",
    "    data = data[[\"rank_create\", \"Classifier\", \"PRC\", \"outcome_chance\"]]\n",
    "    data = data[~np.isnan(data[\"rank_create\"])]\n",
    "    data.to_pickle(pickle_path)"
   ]
  },
  {
   "cell_type": "code",
   "execution_count": 128,
   "metadata": {
    "collapsed": true
   },
   "outputs": [],
   "source": [
    "x= \"PRC\"\n",
    "y = \"rank_create\"\n",
    "labels = data[[y,\"Classifier\"]].drop_duplicates().sort_values(by=y, ascending=True)[\"Classifier\"].tolist()"
   ]
  },
  {
   "cell_type": "code",
   "execution_count": 184,
   "metadata": {
    "collapsed": false
   },
   "outputs": [],
   "source": [
    "create_order = data[y].value_counts().index.tolist()\n",
    "select_order = data.groupby(y)[x].median().sort_values(ascending=False).index.tolist()\n",
    "select_order = [\"{:,.0f}\".format(x) for x in select_order]"
   ]
  },
  {
   "cell_type": "code",
   "execution_count": 206,
   "metadata": {
    "collapsed": false
   },
   "outputs": [
    {
     "data": {
      "image/png": "[encoded data removed]",
      "text/plain": [
       "<matplotlib.figure.Figure at 0x1ebd8606978>"
      ]
     },
     "metadata": {},
     "output_type": "display_data"
    }
   ],
   "source": [
    "f = plt.figure()\n",
    "ax = sns.boxplot(x=x, y=y, data=data, order=create_order, fliersize=0, orient=\"h\")\n",
    "ax.set_yticklabels([\"{:,.0f}\".format(ytick+1) for ytick in ax.get_yticks().tolist()])\n",
    "ax2 = ax.twinx()\n",
    "ax.set_xlabel(\"Area Under Precision-Recall Curve\")\n",
    "ax.set_ylabel(\"Initial Ranking\")\n",
    "ax2.set_ylabel(\"Final Ranking\", labelpad=40, rotation=270)\n",
    "ax2.set_yticklabels([])\n",
    "helper.add_boxplot_labels(ax, select_order, size=SMALL_SIZE, color='.15')\n",
    "#add_vertical_line(ax, df_select3[\"outcome_chance\"].median(), \"Chance\", color=\"r\")\n",
    "#add_horizontal_line(ax, 5.5, \"\", color=\"black\")\n",
    "plt.tight_layout()"
   ]
  },
  {
   "cell_type": "code",
   "execution_count": 207,
   "metadata": {
    "collapsed": true
   },
   "outputs": [],
   "source": [
    "output_path =  \"{}/{}.pdf\".format(SAVE_PATH, chart_id)\n",
    "f.savefig(output_path, bbox_inches=\"tight\")"
   ]
  },
  {
   "cell_type": "code",
   "execution_count": null,
   "metadata": {
    "collapsed": true
   },
   "outputs": [],
   "source": []
  }
 ],
 "metadata": {
  "kernelspec": {
   "display_name": "Python 3",
   "language": "python",
   "name": "python3"
  },
  "language_info": {
   "codemirror_mode": {
    "name": "ipython",
    "version": 3
   },
   "file_extension": ".py",
   "mimetype": "text/x-python",
   "name": "python",
   "nbconvert_exporter": "python",
   "pygments_lexer": "ipython3",
   "version": "3.6.0"
  }
 },
 "nbformat": 4,
 "nbformat_minor": 2
}
